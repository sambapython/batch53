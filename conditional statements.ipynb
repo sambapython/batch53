{
 "cells": [
  {
   "cell_type": "code",
   "execution_count": 2,
   "metadata": {},
   "outputs": [
    {
     "name": "stdout",
     "output_type": "stream",
     "text": [
      "a is big\n",
      "b is big\n"
     ]
    }
   ],
   "source": [
    "a=1000\n",
    "b=2000\n",
    "print(\"a is big\")\n",
    "print(\"b is big\")"
   ]
  },
  {
   "cell_type": "code",
   "execution_count": 4,
   "metadata": {},
   "outputs": [
    {
     "name": "stdout",
     "output_type": "stream",
     "text": [
      "a is big\n",
      "b is big\n",
      "Thanks you\n"
     ]
    }
   ],
   "source": [
    "a=1000\n",
    "b=2000\n",
    "print(\"a is big\")\n",
    "print(\"b is big\")\n",
    "print(\"Thanks you\")"
   ]
  },
  {
   "cell_type": "code",
   "execution_count": 7,
   "metadata": {},
   "outputs": [
    {
     "name": "stdout",
     "output_type": "stream",
     "text": [
      "False\n",
      "b is big\n",
      "Thanks you\n"
     ]
    }
   ],
   "source": [
    "   a=1000\n",
    "b=2000\n",
    "print(a>b)\n",
    "if a>b:\n",
    "    print(\"a is big\")\n",
    "else:\n",
    "    print(\"b is big\")\n",
    "print(\"Thanks you\")"
   ]
  },
  {
   "cell_type": "code",
   "execution_count": 8,
   "metadata": {},
   "outputs": [
    {
     "name": "stdout",
     "output_type": "stream",
     "text": [
      "False\n",
      "b is big\n",
      "Thanks you\n"
     ]
    }
   ],
   "source": [
    "a=1000\n",
    "b=2000\n",
    "print(a>b)\n",
    "if a>b:\n",
    "    print(\"a is big\")\n",
    "else:\n",
    "    print(\"b is big\")\n",
    "print(\"Thanks you\")"
   ]
  },
  {
   "cell_type": "code",
   "execution_count": 9,
   "metadata": {},
   "outputs": [
    {
     "name": "stdout",
     "output_type": "stream",
     "text": [
      "True\n",
      "a is big\n",
      "Thanks you\n"
     ]
    }
   ],
   "source": [
    "a=1000\n",
    "b=200\n",
    "print(a>b)\n",
    "if a>b:\n",
    "    print(\"a is big\")\n",
    "else:\n",
    "    print(\"b is big\")\n",
    "print(\"Thanks you\")"
   ]
  },
  {
   "cell_type": "code",
   "execution_count": 10,
   "metadata": {},
   "outputs": [
    {
     "name": "stdout",
     "output_type": "stream",
     "text": [
      "True\n",
      "a is big\n",
      "Thanks you\n"
     ]
    }
   ],
   "source": [
    "a=1000\n",
    "b=200\n",
    "print(a>b)\n",
    "if a>b:\n",
    " print(\"a is big\")\n",
    "else:\n",
    "    print(\"b is big\")\n",
    "print(\"Thanks you\")"
   ]
  },
  {
   "cell_type": "code",
   "execution_count": 11,
   "metadata": {},
   "outputs": [
    {
     "ename": "IndentationError",
     "evalue": "unexpected indent (<ipython-input-11-993d0c455357>, line 6)",
     "output_type": "error",
     "traceback": [
      "\u001b[0;36m  File \u001b[0;32m\"<ipython-input-11-993d0c455357>\"\u001b[0;36m, line \u001b[0;32m6\u001b[0m\n\u001b[0;31m    print(\"a is big\")\u001b[0m\n\u001b[0m    ^\u001b[0m\n\u001b[0;31mIndentationError\u001b[0m\u001b[0;31m:\u001b[0m unexpected indent\n"
     ]
    }
   ],
   "source": [
    "a=1000\n",
    "b=200\n",
    "print(a>b)\n",
    "if a>b:\n",
    " print(\"if block started\")\n",
    "    print(\"a is big\")\n",
    "    print(\"if block ended\")\n",
    "else:\n",
    "    print(\"b is big\")\n",
    "print(\"Thanks you\")"
   ]
  },
  {
   "cell_type": "code",
   "execution_count": 12,
   "metadata": {},
   "outputs": [
    {
     "name": "stdout",
     "output_type": "stream",
     "text": [
      "True\n",
      "if block started\n",
      "a is big\n",
      "if block ended\n",
      "Thanks you\n"
     ]
    }
   ],
   "source": [
    "a=1000\n",
    "b=200\n",
    "print(a>b)\n",
    "if a>b:\n",
    " print(\"if block started\")\n",
    " print(\"a is big\")\n",
    " print(\"if block ended\")\n",
    "else:\n",
    "    print(\"b is big\")\n",
    "print(\"Thanks you\")"
   ]
  },
  {
   "cell_type": "code",
   "execution_count": 13,
   "metadata": {},
   "outputs": [
    {
     "ename": "IndentationError",
     "evalue": "unexpected indent (<ipython-input-13-81eeaf8f236e>, line 4)",
     "output_type": "error",
     "traceback": [
      "\u001b[0;36m  File \u001b[0;32m\"<ipython-input-13-81eeaf8f236e>\"\u001b[0;36m, line \u001b[0;32m4\u001b[0m\n\u001b[0;31m    if a>b:\u001b[0m\n\u001b[0m    ^\u001b[0m\n\u001b[0;31mIndentationError\u001b[0m\u001b[0;31m:\u001b[0m unexpected indent\n"
     ]
    }
   ],
   "source": [
    "a=1000\n",
    "b=200\n",
    "print(a>b)\n",
    "    if a>b:\n",
    "        print(\"if block started\")\n",
    "        print(\"a is big\")\n",
    "        print(\"if block ended\")\n",
    "    else:\n",
    "        print(\"b is big\")\n",
    "print(\"Thanks you\")"
   ]
  },
  {
   "cell_type": "code",
   "execution_count": 14,
   "metadata": {},
   "outputs": [
    {
     "name": "stdout",
     "output_type": "stream",
     "text": [
      "True\n",
      "if block started\n",
      "a is big\n",
      "if block ended\n",
      "Thanks you\n"
     ]
    }
   ],
   "source": [
    "a=1000\n",
    "b=200\n",
    "print(a>b)\n",
    "if a>b:\n",
    "        print(\"if block started\")\n",
    "        print(\"a is big\")\n",
    "        print(\"if block ended\")\n",
    "else:\n",
    "        print(\"b is big\")\n",
    "print(\"Thanks you\")"
   ]
  },
  {
   "cell_type": "code",
   "execution_count": 15,
   "metadata": {},
   "outputs": [
    {
     "name": "stdout",
     "output_type": "stream",
     "text": [
      "True\n",
      "if block started\n",
      "a is big\n",
      "if block ended\n",
      "Thanks you\n"
     ]
    }
   ],
   "source": [
    "a=1000\n",
    "b=200\n",
    "print(a>b)\n",
    "if a>b:\n",
    "        print(\"if block started\")\n",
    "        print(\"a is big\")\n",
    "        print(\"if block ended\")\n",
    "print(\"Thanks you\")"
   ]
  },
  {
   "cell_type": "code",
   "execution_count": 16,
   "metadata": {},
   "outputs": [
    {
     "name": "stdout",
     "output_type": "stream",
     "text": [
      "False\n",
      "Thanks you\n"
     ]
    }
   ],
   "source": [
    "a=1000\n",
    "b=2000\n",
    "print(a>b)\n",
    "if a>b:\n",
    "        print(\"if block started\")\n",
    "        print(\"a is big\")\n",
    "        print(\"if block ended\")\n",
    "print(\"Thanks you\")"
   ]
  },
  {
   "cell_type": "code",
   "execution_count": 17,
   "metadata": {},
   "outputs": [
    {
     "name": "stdout",
     "output_type": "stream",
     "text": [
      "True\n",
      "if block started\n",
      "a is big\n",
      "if block ended\n",
      "Thanks you\n"
     ]
    }
   ],
   "source": [
    "a=1000\n",
    "b=200\n",
    "print(a>b)\n",
    "if a>b:\n",
    "    print(\"if block started\");print(\"a is big\");print(\"if block ended\")\n",
    "else:\n",
    "        print(\"b is big\")\n",
    "print(\"Thanks you\")"
   ]
  },
  {
   "cell_type": "code",
   "execution_count": 18,
   "metadata": {},
   "outputs": [
    {
     "name": "stdout",
     "output_type": "stream",
     "text": [
      "True\n",
      "if block started\n",
      "a is big\n",
      "if block ended\n",
      "Thanks you\n"
     ]
    }
   ],
   "source": [
    "a=1000\n",
    "b=200\n",
    "print(a>b)\n",
    "if a>b:\n",
    "    print(\"if block started\")\n",
    "    print(\"a is big\")\n",
    "print(\"if block ended\")\n",
    "\n",
    "print(\"Thanks you\")"
   ]
  },
  {
   "cell_type": "code",
   "execution_count": 19,
   "metadata": {},
   "outputs": [
    {
     "ename": "SyntaxError",
     "evalue": "invalid syntax (<ipython-input-19-126bab10509b>, line 8)",
     "output_type": "error",
     "traceback": [
      "\u001b[0;36m  File \u001b[0;32m\"<ipython-input-19-126bab10509b>\"\u001b[0;36m, line \u001b[0;32m8\u001b[0m\n\u001b[0;31m    else:\u001b[0m\n\u001b[0m       ^\u001b[0m\n\u001b[0;31mSyntaxError\u001b[0m\u001b[0;31m:\u001b[0m invalid syntax\n"
     ]
    }
   ],
   "source": [
    "a=1000\n",
    "b=200\n",
    "print(a>b)\n",
    "if a>b:\n",
    "    print(\"if block started\")\n",
    "    print(\"a is big\")\n",
    "print(\"if block ended\")\n",
    "else:\n",
    "        print(\"b is big\")\n",
    "print(\"Thanks you\")"
   ]
  },
  {
   "cell_type": "code",
   "execution_count": 20,
   "metadata": {},
   "outputs": [
    {
     "ename": "SyntaxError",
     "evalue": "invalid syntax (<ipython-input-20-126bab10509b>, line 8)",
     "output_type": "error",
     "traceback": [
      "\u001b[0;36m  File \u001b[0;32m\"<ipython-input-20-126bab10509b>\"\u001b[0;36m, line \u001b[0;32m8\u001b[0m\n\u001b[0;31m    else:\u001b[0m\n\u001b[0m       ^\u001b[0m\n\u001b[0;31mSyntaxError\u001b[0m\u001b[0;31m:\u001b[0m invalid syntax\n"
     ]
    }
   ],
   "source": [
    "a=1000\n",
    "b=200\n",
    "print(a>b)\n",
    "if a>b:\n",
    "    print(\"if block started\")\n",
    "    print(\"a is big\")\n",
    "print(\"if block ended\")\n",
    "else:\n",
    "        print(\"b is big\")\n",
    "print(\"Thanks you\")"
   ]
  },
  {
   "cell_type": "code",
   "execution_count": 21,
   "metadata": {},
   "outputs": [
    {
     "name": "stdout",
     "output_type": "stream",
     "text": [
      "Enter some string:python\n",
      "6\n"
     ]
    }
   ],
   "source": [
    "s=input(\"Enter some string:\")\n",
    "#s\n",
    "print(len(s))"
   ]
  },
  {
   "cell_type": "code",
   "execution_count": 22,
   "metadata": {},
   "outputs": [
    {
     "name": "stdout",
     "output_type": "stream",
     "text": [
      "Enter some string:\n",
      "0\n"
     ]
    }
   ],
   "source": [
    "s=input(\"Enter some string:\")\n",
    "#s\n",
    "print(len(s))"
   ]
  },
  {
   "cell_type": "code",
   "execution_count": 24,
   "metadata": {},
   "outputs": [
    {
     "name": "stdout",
     "output_type": "stream",
     "text": [
      "Enter some string:python\n",
      "given: python\n",
      "6\n",
      "Thank you!!\n"
     ]
    }
   ],
   "source": [
    "s=input(\"Enter some string:\")\n",
    "if len(s)>0:\n",
    "    print (\"given: %s\"%s)\n",
    "    print (len(s))\n",
    "else:\n",
    "    print(\"not a valid string\")\n",
    "print (\"Thank you!!\")\n",
    "    "
   ]
  },
  {
   "cell_type": "code",
   "execution_count": 25,
   "metadata": {},
   "outputs": [
    {
     "name": "stdout",
     "output_type": "stream",
     "text": [
      "Enter some string:\n",
      "not a valid string\n",
      "Thank you!!\n"
     ]
    }
   ],
   "source": [
    "s=input(\"Enter some string:\")\n",
    "if len(s)>0:\n",
    "    print (\"given: %s\"%s)\n",
    "    print (len(s))\n",
    "else:\n",
    "    print(\"not a valid string\")\n",
    "print (\"Thank you!!\")\n",
    "    "
   ]
  },
  {
   "cell_type": "code",
   "execution_count": 26,
   "metadata": {},
   "outputs": [
    {
     "name": "stdout",
     "output_type": "stream",
     "text": [
      "cm²\n"
     ]
    }
   ],
   "source": [
    "print(\"cm\\u00b2\")"
   ]
  },
  {
   "cell_type": "code",
   "execution_count": 32,
   "metadata": {},
   "outputs": [
    {
     "name": "stdout",
     "output_type": "stream",
     "text": [
      "Enter base value:12\n",
      "enter an exponant:34\n",
      "12 c²34\n"
     ]
    }
   ],
   "source": [
    "base=input(\"Enter base value:\")\n",
    "exp=input(\"enter an exponant:\")\n",
    "print (base,\"c\\u00b2%s\"%(exp))"
   ]
  },
  {
   "cell_type": "code",
   "execution_count": 33,
   "metadata": {},
   "outputs": [
    {
     "ename": "SyntaxError",
     "evalue": "(unicode error) 'unicodeescape' codec can't decode bytes in position 1-5: truncated \\uXXXX escape (<ipython-input-33-c9b7b0981a70>, line 3)",
     "output_type": "error",
     "traceback": [
      "\u001b[0;36m  File \u001b[0;32m\"<ipython-input-33-c9b7b0981a70>\"\u001b[0;36m, line \u001b[0;32m3\u001b[0m\n\u001b[0;31m    print (base,\"c\\u00b%s\"%(exp))\u001b[0m\n\u001b[0m               ^\u001b[0m\n\u001b[0;31mSyntaxError\u001b[0m\u001b[0;31m:\u001b[0m (unicode error) 'unicodeescape' codec can't decode bytes in position 1-5: truncated \\uXXXX escape\n"
     ]
    }
   ],
   "source": [
    "base=input(\"Enter base value:\")\n",
    "exp=input(\"enter an exponant:\")"
   ]
  },
  {
   "cell_type": "code",
   "execution_count": 1,
   "metadata": {},
   "outputs": [
    {
     "name": "stdout",
     "output_type": "stream",
     "text": [
      "Mobile operating systems:\n",
      "\t1.Andriod\n"
     ]
    }
   ],
   "source": [
    "print (\"Mobile operating systems:\\n\\t1.Andriod\")"
   ]
  },
  {
   "cell_type": "code",
   "execution_count": 2,
   "metadata": {},
   "outputs": [
    {
     "name": "stdout",
     "output_type": "stream",
     "text": [
      "Mobile operating systems:\n",
      "\t1.Andriod\n",
      "\t2.IOS\n"
     ]
    }
   ],
   "source": [
    "print (\"Mobile operating systems:\\n\\t1.Andriod\\n\\t2.IOS\")"
   ]
  },
  {
   "cell_type": "code",
   "execution_count": 4,
   "metadata": {},
   "outputs": [
    {
     "name": "stdout",
     "output_type": "stream",
     "text": [
      "Mobile operating systems:\n",
      "\t1.Andriod\n",
      "\t2.IOS\n",
      "\t3.windows\n"
     ]
    }
   ],
   "source": [
    "print (\"Mobile operating systems:\\n\\t1.Andriod\\n\\t2.IOS\\n\\t3.windows\")"
   ]
  },
  {
   "cell_type": "code",
   "execution_count": 5,
   "metadata": {},
   "outputs": [
    {
     "name": "stdout",
     "output_type": "stream",
     "text": [
      "Mobile operating systems:\n",
      "\t1.Andriod\n",
      "\t2.IOS\n",
      "\t3.windows\n",
      "Enter an option:1\n"
     ]
    }
   ],
   "source": [
    "print (\"Mobile operating systems:\\n\\t1.Andriod\\n\\t2.IOS\\n\\t3.windows\")\n",
    "opt=input(\"Enter an option:\")"
   ]
  },
  {
   "cell_type": "code",
   "execution_count": 6,
   "metadata": {},
   "outputs": [
    {
     "name": "stdout",
     "output_type": "stream",
     "text": [
      "WELCOME TO THE KHYAATHI MOBILES\n",
      "Mobile operating systems:\n",
      "\t1.Andriod\n",
      "\t2.IOS\n",
      "\t3.windows\n",
      "Enter an option:1\n",
      "HAPPY SHOPING\n"
     ]
    }
   ],
   "source": [
    "print(\"WELCOME TO THE KHYAATHI MOBILES\")\n",
    "print (\"Mobile operating systems:\\n\\t1.Andriod\\n\\t2.IOS\\n\\t3.windows\")\n",
    "opt=input(\"Enter an option:\")\n",
    "if opt==1:\n",
    "    print(\"GOTO ground floor\")\n",
    "if opt==2:\n",
    "    print(\"GOTO first floor\")\n",
    "if opt==3:\n",
    "    print(\"GOTO second floor\")\n",
    "print(\"HAPPY SHOPING\")\n"
   ]
  },
  {
   "cell_type": "code",
   "execution_count": 7,
   "metadata": {},
   "outputs": [
    {
     "data": {
      "text/plain": [
       "False"
      ]
     },
     "execution_count": 7,
     "metadata": {},
     "output_type": "execute_result"
    }
   ],
   "source": [
    "\"1\"==1"
   ]
  },
  {
   "cell_type": "code",
   "execution_count": 8,
   "metadata": {},
   "outputs": [
    {
     "data": {
      "text/plain": [
       "True"
      ]
     },
     "execution_count": 8,
     "metadata": {},
     "output_type": "execute_result"
    }
   ],
   "source": [
    "\"1\"==\"1\""
   ]
  },
  {
   "cell_type": "code",
   "execution_count": 9,
   "metadata": {},
   "outputs": [
    {
     "data": {
      "text/plain": [
       "True"
      ]
     },
     "execution_count": 9,
     "metadata": {},
     "output_type": "execute_result"
    }
   ],
   "source": [
    "int(\"1\")==1"
   ]
  },
  {
   "cell_type": "code",
   "execution_count": 10,
   "metadata": {},
   "outputs": [
    {
     "name": "stdout",
     "output_type": "stream",
     "text": [
      "WELCOME TO THE KHYAATHI MOBILES\n",
      "Mobile operating systems:\n",
      "\t1.Andriod\n",
      "\t2.IOS\n",
      "\t3.windows\n",
      "Enter an option:1\n",
      "GOTO ground floor\n",
      "HAPPY SHOPING\n"
     ]
    }
   ],
   "source": [
    "print(\"WELCOME TO THE KHYAATHI MOBILES\")\n",
    "print (\"Mobile operating systems:\\n\\t1.Andriod\\n\\t2.IOS\\n\\t3.windows\")\n",
    "opt=input(\"Enter an option:\")\n",
    "if opt=='1':\n",
    "    print(\"GOTO ground floor\")\n",
    "if opt=='2':\n",
    "    print(\"GOTO first floor\")\n",
    "if opt=='3':\n",
    "    print(\"GOTO second floor\")\n",
    "print(\"HAPPY SHOPING\")\n"
   ]
  },
  {
   "cell_type": "code",
   "execution_count": 11,
   "metadata": {},
   "outputs": [
    {
     "name": "stdout",
     "output_type": "stream",
     "text": [
      "WELCOME TO THE KHYAATHI MOBILES\n",
      "Mobile operating systems:\n",
      "\t1.Andriod\n",
      "\t2.IOS\n",
      "\t3.windows\n",
      "Enter an option:2\n",
      "GOTO first floor\n",
      "HAPPY SHOPING\n"
     ]
    }
   ],
   "source": [
    "print(\"WELCOME TO THE KHYAATHI MOBILES\")\n",
    "print (\"Mobile operating systems:\\n\\t1.Andriod\\n\\t2.IOS\\n\\t3.windows\")\n",
    "opt=input(\"Enter an option:\")\n",
    "if opt=='1':\n",
    "    print(\"GOTO ground floor\")\n",
    "if opt=='2':\n",
    "    print(\"GOTO first floor\")\n",
    "if opt=='3':\n",
    "    print(\"GOTO second floor\")\n",
    "print(\"HAPPY SHOPING\")\n"
   ]
  },
  {
   "cell_type": "code",
   "execution_count": 12,
   "metadata": {},
   "outputs": [
    {
     "name": "stdout",
     "output_type": "stream",
     "text": [
      "WELCOME TO THE KHYAATHI MOBILES\n",
      "Mobile operating systems:\n",
      "\t1.Andriod\n",
      "\t2.IOS\n",
      "\t3.windows\n",
      "Enter an option:3\n",
      "GOTO second floor\n",
      "HAPPY SHOPING\n"
     ]
    }
   ],
   "source": [
    "print(\"WELCOME TO THE KHYAATHI MOBILES\")\n",
    "print (\"Mobile operating systems:\\n\\t1.Andriod\\n\\t2.IOS\\n\\t3.windows\")\n",
    "opt=input(\"Enter an option:\")\n",
    "if opt=='1':\n",
    "    print(\"GOTO ground floor\")\n",
    "if opt=='2':\n",
    "    print(\"GOTO first floor\")\n",
    "if opt=='3':\n",
    "    print(\"GOTO second floor\")\n",
    "print(\"HAPPY SHOPING\")\n"
   ]
  },
  {
   "cell_type": "code",
   "execution_count": 13,
   "metadata": {},
   "outputs": [
    {
     "name": "stdout",
     "output_type": "stream",
     "text": [
      "WELCOME TO THE KHYAATHI MOBILES\n",
      "Mobile operating systems:\n",
      "\t1.Andriod\n",
      "\t2.IOS\n",
      "\t3.windows\n",
      "Enter an option:4\n",
      "HAPPY SHOPING\n"
     ]
    }
   ],
   "source": [
    "print(\"WELCOME TO THE KHYAATHI MOBILES\")\n",
    "print (\"Mobile operating systems:\\n\\t1.Andriod\\n\\t2.IOS\\n\\t3.windows\")\n",
    "opt=input(\"Enter an option:\")\n",
    "if opt=='1':\n",
    "    print(\"GOTO ground floor\")\n",
    "if opt=='2':\n",
    "    print(\"GOTO first floor\")\n",
    "if opt=='3':\n",
    "    print(\"GOTO second floor\")\n",
    "print(\"HAPPY SHOPING\")\n"
   ]
  },
  {
   "cell_type": "code",
   "execution_count": 14,
   "metadata": {},
   "outputs": [
    {
     "name": "stdout",
     "output_type": "stream",
     "text": [
      "WELCOME TO THE KHYAATHI MOBILES\n",
      "Mobile operating systems:\n",
      "\t1.Andriod\n",
      "\t2.IOS\n",
      "\t3.windows\n",
      "Enter an option:4\n",
      "Have only three floors, please select 1 or 2 or 3\n",
      "HAPPY SHOPING\n"
     ]
    }
   ],
   "source": [
    "print(\"WELCOME TO THE KHYAATHI MOBILES\")\n",
    "print (\"Mobile operating systems:\\n\\t1.Andriod\\n\\t2.IOS\\n\\t3.windows\")\n",
    "opt=input(\"Enter an option:\")\n",
    "if opt=='1':\n",
    "    print(\"GOTO ground floor\")\n",
    "if opt=='2':\n",
    "    print(\"GOTO first floor\")\n",
    "if opt=='3':\n",
    "    print(\"GOTO second floor\")\n",
    "else:\n",
    "    print(\"Have only three floors, please select 1 or 2 or 3\")\n",
    "print(\"HAPPY SHOPING\")\n"
   ]
  },
  {
   "cell_type": "code",
   "execution_count": 15,
   "metadata": {},
   "outputs": [
    {
     "name": "stdout",
     "output_type": "stream",
     "text": [
      "WELCOME TO THE KHYAATHI MOBILES\n",
      "Mobile operating systems:\n",
      "\t1.Andriod\n",
      "\t2.IOS\n",
      "\t3.windows\n",
      "Enter an option:3\n",
      "GOTO second floor\n",
      "HAPPY SHOPING\n"
     ]
    }
   ],
   "source": [
    "print(\"WELCOME TO THE KHYAATHI MOBILES\")\n",
    "print (\"Mobile operating systems:\\n\\t1.Andriod\\n\\t2.IOS\\n\\t3.windows\")\n",
    "opt=input(\"Enter an option:\")\n",
    "if opt=='1':\n",
    "    print(\"GOTO ground floor\")\n",
    "if opt=='2':\n",
    "    print(\"GOTO first floor\")\n",
    "if opt=='3':\n",
    "    print(\"GOTO second floor\")\n",
    "else:\n",
    "    print(\"Have only three floors, please select 1 or 2 or 3\")\n",
    "print(\"HAPPY SHOPING\")\n"
   ]
  },
  {
   "cell_type": "code",
   "execution_count": 16,
   "metadata": {},
   "outputs": [
    {
     "name": "stdout",
     "output_type": "stream",
     "text": [
      "WELCOME TO THE KHYAATHI MOBILES\n",
      "Mobile operating systems:\n",
      "\t1.Andriod\n",
      "\t2.IOS\n",
      "\t3.windows\n",
      "Enter an option:1\n",
      "GOTO ground floor\n",
      "Have only three floors, please select 1 or 2 or 3\n",
      "HAPPY SHOPING\n"
     ]
    }
   ],
   "source": [
    "print(\"WELCOME TO THE KHYAATHI MOBILES\")\n",
    "print (\"Mobile operating systems:\\n\\t1.Andriod\\n\\t2.IOS\\n\\t3.windows\")\n",
    "opt=input(\"Enter an option:\")\n",
    "if opt=='1':\n",
    "    print(\"GOTO ground floor\")\n",
    "if opt=='2':\n",
    "    print(\"GOTO first floor\")\n",
    "if opt=='3':\n",
    "    print(\"GOTO second floor\")\n",
    "else:\n",
    "    print(\"Have only three floors, please select 1 or 2 or 3\")\n",
    "print(\"HAPPY SHOPING\")\n"
   ]
  },
  {
   "cell_type": "code",
   "execution_count": 17,
   "metadata": {},
   "outputs": [
    {
     "name": "stdout",
     "output_type": "stream",
     "text": [
      "WELCOME TO THE KHYAATHI MOBILES\n",
      "Mobile operating systems:\n",
      "\t1.Andriod\n",
      "\t2.IOS\n",
      "\t3.windows\n",
      "Enter an option:1\n",
      "GOTO ground floor\n",
      "Have only three floors, please select 1 or 2 or 3\n",
      "Have only three floors, please select 1 or 2 or 3\n",
      "HAPPY SHOPING\n"
     ]
    }
   ],
   "source": [
    "print(\"WELCOME TO THE KHYAATHI MOBILES\")\n",
    "print (\"Mobile operating systems:\\n\\t1.Andriod\\n\\t2.IOS\\n\\t3.windows\")\n",
    "opt=input(\"Enter an option:\")\n",
    "if opt=='1':\n",
    "    print(\"GOTO ground floor\")\n",
    "else:\n",
    "    print(\"Have only three floors, please select 1 or 2 or 3\")\n",
    "if opt=='2':\n",
    "    print(\"GOTO first floor\")\n",
    "else:\n",
    "    print(\"Have only three floors, please select 1 or 2 or 3\")\n",
    "if opt=='3':\n",
    "    print(\"GOTO second floor\")\n",
    "else:\n",
    "    print(\"Have only three floors, please select 1 or 2 or 3\")\n",
    "print(\"HAPPY SHOPING\")\n"
   ]
  },
  {
   "cell_type": "code",
   "execution_count": 18,
   "metadata": {},
   "outputs": [
    {
     "name": "stdout",
     "output_type": "stream",
     "text": [
      "WELCOME TO THE KHYAATHI MOBILES\n",
      "Mobile operating systems:\n",
      "\t1.Andriod\n",
      "\t2.IOS\n",
      "\t3.windows\n",
      "Enter an option:2\n",
      "GOTO first floor\n",
      "HAPPY SHOPING\n"
     ]
    }
   ],
   "source": [
    "print(\"WELCOME TO THE KHYAATHI MOBILES\")\n",
    "print (\"Mobile operating systems:\\n\\t1.Andriod\\n\\t2.IOS\\n\\t3.windows\")\n",
    "opt=input(\"Enter an option:\")\n",
    "if opt=='1':\n",
    "    print(\"GOTO ground floor\")\n",
    "elif opt=='2':\n",
    "    print(\"GOTO first floor\")\n",
    "elif opt=='3':\n",
    "    print(\"GOTO second floor\")\n",
    "else:\n",
    "    print(\"Have only three floors, please select 1 or 2 or 3\")\n",
    "print(\"HAPPY SHOPING\")\n"
   ]
  },
  {
   "cell_type": "code",
   "execution_count": 19,
   "metadata": {},
   "outputs": [
    {
     "name": "stdout",
     "output_type": "stream",
     "text": [
      "WELCOME TO THE KHYAATHI MOBILES\n",
      "Mobile operating systems:\n",
      "\t1.Andriod\n",
      "\t2.IOS\n",
      "\t3.windows\n",
      "Enter an option:3\n",
      "GOTO second floor\n",
      "HAPPY SHOPING\n"
     ]
    }
   ],
   "source": [
    "print(\"WELCOME TO THE KHYAATHI MOBILES\")\n",
    "print (\"Mobile operating systems:\\n\\t1.Andriod\\n\\t2.IOS\\n\\t3.windows\")\n",
    "opt=input(\"Enter an option:\")\n",
    "if opt=='1':\n",
    "    print(\"GOTO ground floor\")\n",
    "elif opt=='2':\n",
    "    print(\"GOTO first floor\")\n",
    "elif opt=='3':\n",
    "    print(\"GOTO second floor\")\n",
    "else:\n",
    "    print(\"Have only three floors, please select 1 or 2 or 3\")\n",
    "print(\"HAPPY SHOPING\")"
   ]
  },
  {
   "cell_type": "code",
   "execution_count": 20,
   "metadata": {},
   "outputs": [
    {
     "name": "stdout",
     "output_type": "stream",
     "text": [
      "WELCOME TO THE KHYAATHI MOBILES\n",
      "Mobile operating systems:\n",
      "\t1.Andriod\n",
      "\t2.IOS\n",
      "\t3.windows\n",
      "Enter an option:4\n",
      "Have only three floors, please select 1 or 2 or 3\n",
      "HAPPY SHOPING\n"
     ]
    }
   ],
   "source": [
    "print(\"WELCOME TO THE KHYAATHI MOBILES\")\n",
    "print (\"Mobile operating systems:\\n\\t1.Andriod\\n\\t2.IOS\\n\\t3.windows\")\n",
    "opt=input(\"Enter an option:\")\n",
    "if opt=='1':\n",
    "    print(\"GOTO ground floor\")\n",
    "elif opt=='2':\n",
    "    print(\"GOTO first floor\")\n",
    "elif opt=='3':\n",
    "    print(\"GOTO second floor\")\n",
    "else:\n",
    "    print(\"Have only three floors, please select 1 or 2 or 3\")\n",
    "print(\"HAPPY SHOPING\")"
   ]
  },
  {
   "cell_type": "code",
   "execution_count": 21,
   "metadata": {},
   "outputs": [
    {
     "name": "stdout",
     "output_type": "stream",
     "text": [
      "WELCOME TO THE KHYAATHI MOBILES\n",
      "Mobile operating systems:\n",
      "\t1.Andriod\n",
      "\t2.IOS\n",
      "\t3.windows\n",
      "Enter an option:\n",
      "Have only three floors, please select 1 or 2 or 3\n",
      "HAPPY SHOPING\n"
     ]
    }
   ],
   "source": [
    "print(\"WELCOME TO THE KHYAATHI MOBILES\")\n",
    "print (\"Mobile operating systems:\\n\\t1.Andriod\\n\\t2.IOS\\n\\t3.windows\")\n",
    "opt=input(\"Enter an option:\")\n",
    "if opt=='1':\n",
    "    print(\"GOTO ground floor\")\n",
    "elif opt=='2':\n",
    "    print(\"GOTO first floor\")\n",
    "elif opt=='3':\n",
    "    print(\"GOTO second floor\")\n",
    "else:\n",
    "    print(\"Have only three floors, please select 1 or 2 or 3\")\n",
    "print(\"HAPPY SHOPING\")"
   ]
  },
  {
   "cell_type": "code",
   "execution_count": 22,
   "metadata": {},
   "outputs": [
    {
     "name": "stdout",
     "output_type": "stream",
     "text": [
      "WELCOME TO THE KHYAATHI MOBILES\n",
      "Mobile operating systems:\n",
      "\t1.Andriod\n",
      "\t2.IOS\n",
      "\t3.windows\n",
      "Enter an option:2\n",
      "GOTO first floor\n",
      "HAPPY SHOPING\n"
     ]
    }
   ],
   "source": [
    "print(\"WELCOME TO THE KHYAATHI MOBILES\")\n",
    "print (\"Mobile operating systems:\\n\\t1.Andriod\\n\\t2.IOS\\n\\t3.windows\")\n",
    "opt=input(\"Enter an option:\")\n",
    "if len(opt)>0:\n",
    "    if opt=='1':\n",
    "        print(\"GOTO ground floor\")\n",
    "    elif opt=='2':\n",
    "        print(\"GOTO first floor\")\n",
    "    elif opt=='3':\n",
    "        print(\"GOTO second floor\")\n",
    "    else:\n",
    "        print(\"Have only three floors, please select 1 or 2 or 3\")\n",
    "else:\n",
    "    print (\"Please enter atleast one option..\")\n",
    "print(\"HAPPY SHOPING\")"
   ]
  },
  {
   "cell_type": "code",
   "execution_count": 23,
   "metadata": {},
   "outputs": [
    {
     "name": "stdout",
     "output_type": "stream",
     "text": [
      "WELCOME TO THE KHYAATHI MOBILES\n",
      "Mobile operating systems:\n",
      "\t1.Andriod\n",
      "\t2.IOS\n",
      "\t3.windows\n",
      "Enter an option:6\n",
      "Have only three floors, please select 1 or 2 or 3\n",
      "HAPPY SHOPING\n"
     ]
    }
   ],
   "source": [
    "print(\"WELCOME TO THE KHYAATHI MOBILES\")\n",
    "print (\"Mobile operating systems:\\n\\t1.Andriod\\n\\t2.IOS\\n\\t3.windows\")\n",
    "opt=input(\"Enter an option:\")\n",
    "if len(opt)>0:\n",
    "    if opt=='1':\n",
    "        print(\"GOTO ground floor\")\n",
    "    elif opt=='2':\n",
    "        print(\"GOTO first floor\")\n",
    "    elif opt=='3':\n",
    "        print(\"GOTO second floor\")\n",
    "    else:\n",
    "        print(\"Have only three floors, please select 1 or 2 or 3\")\n",
    "else:\n",
    "    print (\"Please enter atleast one option..\")\n",
    "print(\"HAPPY SHOPING\")"
   ]
  },
  {
   "cell_type": "code",
   "execution_count": 24,
   "metadata": {},
   "outputs": [
    {
     "name": "stdout",
     "output_type": "stream",
     "text": [
      "WELCOME TO THE KHYAATHI MOBILES\n",
      "Mobile operating systems:\n",
      "\t1.Andriod\n",
      "\t2.IOS\n",
      "\t3.windows\n",
      "Enter an option:\n",
      "Please enter atleast one option..\n",
      "HAPPY SHOPING\n"
     ]
    }
   ],
   "source": [
    "print(\"WELCOME TO THE KHYAATHI MOBILES\")\n",
    "print (\"Mobile operating systems:\\n\\t1.Andriod\\n\\t2.IOS\\n\\t3.windows\")\n",
    "opt=input(\"Enter an option:\")\n",
    "if len(opt)>0:\n",
    "    if opt=='1':\n",
    "        print(\"GOTO ground floor\")\n",
    "    elif opt=='2':\n",
    "        print(\"GOTO first floor\")\n",
    "    elif opt=='3':\n",
    "        print(\"GOTO second floor\")\n",
    "    else:\n",
    "        print(\"Have only three floors, please select 1 or 2 or 3\")\n",
    "else:\n",
    "    print (\"Please enter atleast one option..\")\n",
    "print(\"HAPPY SHOPING\")"
   ]
  },
  {
   "cell_type": "code",
   "execution_count": 25,
   "metadata": {},
   "outputs": [
    {
     "data": {
      "text/plain": [
       "False"
      ]
     },
     "execution_count": 25,
     "metadata": {},
     "output_type": "execute_result"
    }
   ],
   "source": [
    "bool(\"\")"
   ]
  },
  {
   "cell_type": "code",
   "execution_count": 26,
   "metadata": {},
   "outputs": [
    {
     "data": {
      "text/plain": [
       "True"
      ]
     },
     "execution_count": 26,
     "metadata": {},
     "output_type": "execute_result"
    }
   ],
   "source": [
    "bool(10)"
   ]
  },
  {
   "cell_type": "code",
   "execution_count": 27,
   "metadata": {},
   "outputs": [
    {
     "data": {
      "text/plain": [
       "False"
      ]
     },
     "execution_count": 27,
     "metadata": {},
     "output_type": "execute_result"
    }
   ],
   "source": [
    "bool(0)"
   ]
  },
  {
   "cell_type": "code",
   "execution_count": 28,
   "metadata": {},
   "outputs": [
    {
     "data": {
      "text/plain": [
       "False"
      ]
     },
     "execution_count": 28,
     "metadata": {},
     "output_type": "execute_result"
    }
   ],
   "source": [
    "bool([])"
   ]
  },
  {
   "cell_type": "code",
   "execution_count": 29,
   "metadata": {},
   "outputs": [
    {
     "data": {
      "text/plain": [
       "True"
      ]
     },
     "execution_count": 29,
     "metadata": {},
     "output_type": "execute_result"
    }
   ],
   "source": [
    "bool(\"python\")"
   ]
  },
  {
   "cell_type": "code",
   "execution_count": 30,
   "metadata": {},
   "outputs": [
    {
     "data": {
      "text/plain": [
       "False"
      ]
     },
     "execution_count": 30,
     "metadata": {},
     "output_type": "execute_result"
    }
   ],
   "source": [
    "bool(\"\")"
   ]
  },
  {
   "cell_type": "code",
   "execution_count": 31,
   "metadata": {},
   "outputs": [
    {
     "data": {
      "text/plain": [
       "True"
      ]
     },
     "execution_count": 31,
     "metadata": {},
     "output_type": "execute_result"
    }
   ],
   "source": [
    "bool([10,20,3])"
   ]
  },
  {
   "cell_type": "code",
   "execution_count": 32,
   "metadata": {},
   "outputs": [
    {
     "data": {
      "text/plain": [
       "False"
      ]
     },
     "execution_count": 32,
     "metadata": {},
     "output_type": "execute_result"
    }
   ],
   "source": [
    "bool([])"
   ]
  },
  {
   "cell_type": "code",
   "execution_count": 33,
   "metadata": {},
   "outputs": [
    {
     "data": {
      "text/plain": [
       "False"
      ]
     },
     "execution_count": 33,
     "metadata": {},
     "output_type": "execute_result"
    }
   ],
   "source": [
    "bool('')"
   ]
  },
  {
   "cell_type": "code",
   "execution_count": 34,
   "metadata": {},
   "outputs": [
    {
     "name": "stdout",
     "output_type": "stream",
     "text": [
      "WELCOME TO THE KHYAATHI MOBILES\n",
      "Mobile operating systems:\n",
      "\t1.Andriod\n",
      "\t2.IOS\n",
      "\t3.windows\n",
      "Enter an option:2\n",
      "GOTO first floor\n",
      "HAPPY SHOPING\n"
     ]
    }
   ],
   "source": [
    "print(\"WELCOME TO THE KHYAATHI MOBILES\")\n",
    "print (\"Mobile operating systems:\\n\\t1.Andriod\\n\\t2.IOS\\n\\t3.windows\")\n",
    "opt=input(\"Enter an option:\")\n",
    "if bool(opt):\n",
    "    if opt=='1':\n",
    "        print(\"GOTO ground floor\")\n",
    "    elif opt=='2':\n",
    "        print(\"GOTO first floor\")\n",
    "    elif opt=='3':\n",
    "        print(\"GOTO second floor\")\n",
    "    else:\n",
    "        print(\"Have only three floors, please select 1 or 2 or 3\")\n",
    "else:\n",
    "    print (\"Please enter atleast one option..\")\n",
    "print(\"HAPPY SHOPING\")"
   ]
  },
  {
   "cell_type": "code",
   "execution_count": 35,
   "metadata": {},
   "outputs": [
    {
     "name": "stdout",
     "output_type": "stream",
     "text": [
      "WELCOME TO THE KHYAATHI MOBILES\n",
      "Mobile operating systems:\n",
      "\t1.Andriod\n",
      "\t2.IOS\n",
      "\t3.windows\n",
      "Enter an option:5\n",
      "Have only three floors, please select 1 or 2 or 3\n",
      "HAPPY SHOPING\n"
     ]
    }
   ],
   "source": [
    "print(\"WELCOME TO THE KHYAATHI MOBILES\")\n",
    "print (\"Mobile operating systems:\\n\\t1.Andriod\\n\\t2.IOS\\n\\t3.windows\")\n",
    "opt=input(\"Enter an option:\")\n",
    "if bool(opt):\n",
    "    if opt=='1':\n",
    "        print(\"GOTO ground floor\")\n",
    "    elif opt=='2':\n",
    "        print(\"GOTO first floor\")\n",
    "    elif opt=='3':\n",
    "        print(\"GOTO second floor\")\n",
    "    else:\n",
    "        print(\"Have only three floors, please select 1 or 2 or 3\")\n",
    "else:\n",
    "    print (\"Please enter atleast one option..\")\n",
    "print(\"HAPPY SHOPING\")"
   ]
  },
  {
   "cell_type": "code",
   "execution_count": 36,
   "metadata": {},
   "outputs": [
    {
     "name": "stdout",
     "output_type": "stream",
     "text": [
      "WELCOME TO THE KHYAATHI MOBILES\n",
      "Mobile operating systems:\n",
      "\t1.Andriod\n",
      "\t2.IOS\n",
      "\t3.windows\n",
      "Enter an option:\n",
      "Please enter atleast one option..\n",
      "HAPPY SHOPING\n"
     ]
    }
   ],
   "source": [
    "print(\"WELCOME TO THE KHYAATHI MOBILES\")\n",
    "print (\"Mobile operating systems:\\n\\t1.Andriod\\n\\t2.IOS\\n\\t3.windows\")\n",
    "opt=input(\"Enter an option:\")\n",
    "if bool(opt):\n",
    "    if opt=='1':\n",
    "        print(\"GOTO ground floor\")\n",
    "    elif opt=='2':\n",
    "        print(\"GOTO first floor\")\n",
    "    elif opt=='3':\n",
    "        print(\"GOTO second floor\")\n",
    "    else:\n",
    "        print(\"Have only three floors, please select 1 or 2 or 3\")\n",
    "else:\n",
    "    print (\"Please enter atleast one option..\")\n",
    "print(\"HAPPY SHOPING\")"
   ]
  },
  {
   "cell_type": "code",
   "execution_count": 37,
   "metadata": {},
   "outputs": [
    {
     "data": {
      "text/plain": [
       "True"
      ]
     },
     "execution_count": 37,
     "metadata": {},
     "output_type": "execute_result"
    }
   ],
   "source": [
    "bool(True)"
   ]
  },
  {
   "cell_type": "code",
   "execution_count": 38,
   "metadata": {},
   "outputs": [
    {
     "data": {
      "text/plain": [
       "False"
      ]
     },
     "execution_count": 38,
     "metadata": {},
     "output_type": "execute_result"
    }
   ],
   "source": [
    "bool(False)"
   ]
  },
  {
   "cell_type": "code",
   "execution_count": 39,
   "metadata": {},
   "outputs": [
    {
     "name": "stdout",
     "output_type": "stream",
     "text": [
      "ok\n"
     ]
    }
   ],
   "source": [
    "if 10+0:\n",
    "    print (\"ok\")"
   ]
  },
  {
   "cell_type": "code",
   "execution_count": 40,
   "metadata": {},
   "outputs": [],
   "source": [
    "if 10*0:\n",
    "    print (\"ok\")"
   ]
  },
  {
   "cell_type": "code",
   "execution_count": 41,
   "metadata": {},
   "outputs": [
    {
     "name": "stdout",
     "output_type": "stream",
     "text": [
      "WELCOME TO THE KHYAATHI MOBILES\n",
      "Mobile operating systems:\n",
      "\t1.Andriod\n",
      "\t2.IOS\n",
      "\t3.windows\n",
      "Enter an option:3\n",
      "GOTO second floor\n",
      "HAPPY SHOPING\n"
     ]
    }
   ],
   "source": [
    "print(\"WELCOME TO THE KHYAATHI MOBILES\")\n",
    "print (\"Mobile operating systems:\\n\\t1.Andriod\\n\\t2.IOS\\n\\t3.windows\")\n",
    "opt=input(\"Enter an option:\")\n",
    "if opt:\n",
    "    if opt=='1':\n",
    "        print(\"GOTO ground floor\")\n",
    "    elif opt=='2':\n",
    "        print(\"GOTO first floor\")\n",
    "    elif opt=='3':\n",
    "        print(\"GOTO second floor\")\n",
    "    else:\n",
    "        print(\"Have only three floors, please select 1 or 2 or 3\")\n",
    "else:\n",
    "    print (\"Please enter atleast one option..\")\n",
    "print(\"HAPPY SHOPING\")"
   ]
  },
  {
   "cell_type": "code",
   "execution_count": 43,
   "metadata": {},
   "outputs": [
    {
     "name": "stdout",
     "output_type": "stream",
     "text": [
      "Enter sting:\n",
      "invalid input\n"
     ]
    }
   ],
   "source": [
    "s=input(\"Enter sting:\")\n",
    "if len(s)>0:\n",
    "    print (len(s))\n",
    "else:\n",
    "    print (\"invalid input\")"
   ]
  },
  {
   "cell_type": "code",
   "execution_count": 44,
   "metadata": {},
   "outputs": [
    {
     "name": "stdout",
     "output_type": "stream",
     "text": [
      "Enter sting:werwe\n",
      "5\n"
     ]
    }
   ],
   "source": [
    "s=input(\"Enter sting:\")\n",
    "if s:\n",
    "    print (len(s))\n",
    "else:\n",
    "    print (\"invalid input\")"
   ]
  },
  {
   "cell_type": "code",
   "execution_count": 45,
   "metadata": {},
   "outputs": [
    {
     "name": "stdout",
     "output_type": "stream",
     "text": [
      "Enter sting:\n",
      "invalid input\n"
     ]
    }
   ],
   "source": [
    "s=input(\"Enter sting:\")\n",
    "if s:\n",
    "    print (len(s))\n",
    "else:\n",
    "    print (\"invalid input\")"
   ]
  },
  {
   "cell_type": "code",
   "execution_count": 46,
   "metadata": {},
   "outputs": [
    {
     "name": "stdout",
     "output_type": "stream",
     "text": [
      "Enter sting:0\n",
      "1\n"
     ]
    }
   ],
   "source": [
    "s=input(\"Enter sting:\")\n",
    "if s:\n",
    "    print (len(s))\n",
    "else:\n",
    "    print (\"invalid input\")"
   ]
  },
  {
   "cell_type": "code",
   "execution_count": 47,
   "metadata": {},
   "outputs": [
    {
     "data": {
      "text/plain": [
       "False"
      ]
     },
     "execution_count": 47,
     "metadata": {},
     "output_type": "execute_result"
    }
   ],
   "source": [
    "s=0\n",
    "bool(s)"
   ]
  },
  {
   "cell_type": "code",
   "execution_count": 48,
   "metadata": {},
   "outputs": [
    {
     "data": {
      "text/plain": [
       "True"
      ]
     },
     "execution_count": 48,
     "metadata": {},
     "output_type": "execute_result"
    }
   ],
   "source": [
    "s=\"0\"\n",
    "bool(s)"
   ]
  },
  {
   "cell_type": "code",
   "execution_count": 49,
   "metadata": {},
   "outputs": [
    {
     "data": {
      "text/plain": [
       "False"
      ]
     },
     "execution_count": 49,
     "metadata": {},
     "output_type": "execute_result"
    }
   ],
   "source": [
    "bool([])"
   ]
  },
  {
   "cell_type": "code",
   "execution_count": 50,
   "metadata": {},
   "outputs": [
    {
     "data": {
      "text/plain": [
       "True"
      ]
     },
     "execution_count": 50,
     "metadata": {},
     "output_type": "execute_result"
    }
   ],
   "source": [
    "bool([0])"
   ]
  },
  {
   "cell_type": "code",
   "execution_count": 51,
   "metadata": {},
   "outputs": [
    {
     "data": {
      "text/plain": [
       "False"
      ]
     },
     "execution_count": 51,
     "metadata": {},
     "output_type": "execute_result"
    }
   ],
   "source": [
    "bool(0)"
   ]
  },
  {
   "cell_type": "code",
   "execution_count": null,
   "metadata": {},
   "outputs": [],
   "source": []
  }
 ],
 "metadata": {
  "kernelspec": {
   "display_name": "Python 3",
   "language": "python",
   "name": "python3"
  },
  "language_info": {
   "codemirror_mode": {
    "name": "ipython",
    "version": 3
   },
   "file_extension": ".py",
   "mimetype": "text/x-python",
   "name": "python",
   "nbconvert_exporter": "python",
   "pygments_lexer": "ipython3",
   "version": "3.7.0"
  }
 },
 "nbformat": 4,
 "nbformat_minor": 2
}
