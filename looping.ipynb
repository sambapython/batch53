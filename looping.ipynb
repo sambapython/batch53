{
 "cells": [
  {
   "cell_type": "code",
   "execution_count": 2,
   "metadata": {},
   "outputs": [
    {
     "name": "stdout",
     "output_type": "stream",
     "text": [
      "st1\n",
      "st2\n",
      "st3\n",
      "st4\n"
     ]
    }
   ],
   "source": [
    "print(\"st1\")\n",
    "print(\"st2\")\n",
    "print(\"st3\")\n",
    "print(\"st4\")"
   ]
  },
  {
   "cell_type": "code",
   "execution_count": 3,
   "metadata": {},
   "outputs": [
    {
     "name": "stdout",
     "output_type": "stream",
     "text": [
      "St1\n",
      "St2\n",
      "St3\n",
      "St4\n"
     ]
    }
   ],
   "source": [
    "for i in [1,2,3,4]:\n",
    "    print(\"St%s\"%i)"
   ]
  },
  {
   "cell_type": "code",
   "execution_count": 4,
   "metadata": {},
   "outputs": [
    {
     "name": "stdout",
     "output_type": "stream",
     "text": [
      "St1\n",
      "St2\n",
      "St3\n",
      "St4\n",
      "St5\n",
      "St6\n",
      "St7\n",
      "St8\n"
     ]
    }
   ],
   "source": [
    "for i in [1,2,3,4,5,6,7,8]:\n",
    "    print(\"St%s\"%i)"
   ]
  },
  {
   "cell_type": "code",
   "execution_count": 5,
   "metadata": {},
   "outputs": [
    {
     "name": "stdout",
     "output_type": "stream",
     "text": [
      "program started\n",
      "0\n",
      "program ended\n"
     ]
    }
   ],
   "source": [
    "print(\"program started\")\n",
    "i=0\n",
    "if i<3:\n",
    "    print(i)\n",
    "    i=i+1\n",
    "print(\"program ended\")"
   ]
  },
  {
   "cell_type": "code",
   "execution_count": 6,
   "metadata": {},
   "outputs": [
    {
     "name": "stdout",
     "output_type": "stream",
     "text": [
      "program started\n",
      "0\n",
      "1\n",
      "2\n",
      "program ended\n"
     ]
    }
   ],
   "source": [
    "print(\"program started\")\n",
    "i=0\n",
    "while i<3:\n",
    "    print(i)\n",
    "    i=i+1\n",
    "print(\"program ended\")"
   ]
  },
  {
   "cell_type": "code",
   "execution_count": 7,
   "metadata": {},
   "outputs": [
    {
     "name": "stdout",
     "output_type": "stream",
     "text": [
      "program started\n",
      "program ended\n"
     ]
    }
   ],
   "source": [
    "print(\"program started\")\n",
    "i=10\n",
    "while i<3:\n",
    "    print(i)\n",
    "    i=i+1\n",
    "print(\"program ended\")"
   ]
  },
  {
   "cell_type": "code",
   "execution_count": 1,
   "metadata": {},
   "outputs": [
    {
     "name": "stdout",
     "output_type": "stream",
     "text": [
      "program started\n",
      "0\n",
      "1\n",
      "2\n",
      "program ended\n"
     ]
    }
   ],
   "source": [
    "print(\"program started\")\n",
    "i=0\n",
    "while i<3:\n",
    "    print(i)\n",
    "    i=i+1\n",
    "print(\"program ended\")"
   ]
  },
  {
   "cell_type": "code",
   "execution_count": null,
   "metadata": {
    "collapsed": true
   },
   "outputs": [],
   "source": [
    "print(\"program started\")\n",
    "i=0\n",
    "while i<3:\n",
    "    print(i)\n",
    "    i=i-1\n",
    "print(\"program ended\")"
   ]
  },
  {
   "cell_type": "code",
   "execution_count": 2,
   "metadata": {},
   "outputs": [
    {
     "name": "stdout",
     "output_type": "stream",
     "text": [
      "p\n"
     ]
    }
   ],
   "source": [
    "s=\"python\"\n",
    "print(s[0])"
   ]
  },
  {
   "cell_type": "code",
   "execution_count": 3,
   "metadata": {},
   "outputs": [
    {
     "name": "stdout",
     "output_type": "stream",
     "text": [
      "y\n"
     ]
    }
   ],
   "source": [
    "print(s[1])"
   ]
  },
  {
   "cell_type": "code",
   "execution_count": 4,
   "metadata": {},
   "outputs": [
    {
     "name": "stdout",
     "output_type": "stream",
     "text": [
      "sai\n"
     ]
    }
   ],
   "source": [
    "l=[\"sai\",\"jay\",\"vedha\",\"dhana\"]\n",
    "print(l[0])"
   ]
  },
  {
   "cell_type": "code",
   "execution_count": 5,
   "metadata": {},
   "outputs": [
    {
     "name": "stdout",
     "output_type": "stream",
     "text": [
      "jay\n"
     ]
    }
   ],
   "source": [
    "print(l[1])"
   ]
  },
  {
   "cell_type": "code",
   "execution_count": 6,
   "metadata": {},
   "outputs": [
    {
     "name": "stdout",
     "output_type": "stream",
     "text": [
      "vedha\n"
     ]
    }
   ],
   "source": [
    "print(l[2])"
   ]
  },
  {
   "cell_type": "code",
   "execution_count": 7,
   "metadata": {},
   "outputs": [
    {
     "name": "stdout",
     "output_type": "stream",
     "text": [
      "program started\n",
      "p\n",
      "y\n",
      "t\n",
      "program ended\n"
     ]
    }
   ],
   "source": [
    "print(\"program started\")\n",
    "s=\"python\"\n",
    "i=0\n",
    "while i<3:\n",
    "    print(s[i])\n",
    "    i=i+1\n",
    "print(\"program ended\")"
   ]
  },
  {
   "cell_type": "code",
   "execution_count": 8,
   "metadata": {},
   "outputs": [
    {
     "name": "stdout",
     "output_type": "stream",
     "text": [
      "program started\n",
      "p\n",
      "y\n",
      "t\n",
      "h\n",
      "o\n",
      "n\n",
      "program ended\n"
     ]
    }
   ],
   "source": [
    "print(\"program started\")\n",
    "s=\"python\"\n",
    "i=0\n",
    "while i<len(s):\n",
    "    print(s[i])\n",
    "    i=i+1\n",
    "print(\"program ended\")"
   ]
  },
  {
   "cell_type": "code",
   "execution_count": 9,
   "metadata": {},
   "outputs": [
    {
     "data": {
      "text/plain": [
       "6"
      ]
     },
     "execution_count": 9,
     "metadata": {},
     "output_type": "execute_result"
    }
   ],
   "source": [
    "len(s)"
   ]
  },
  {
   "cell_type": "code",
   "execution_count": 10,
   "metadata": {},
   "outputs": [
    {
     "name": "stdout",
     "output_type": "stream",
     "text": [
      "program started\n",
      "p\n",
      "y\n",
      "t\n",
      "h\n",
      "o\n",
      "n\n",
      " \n",
      "p\n",
      "r\n",
      "o\n",
      "g\n",
      "r\n",
      "a\n",
      "m\n",
      "program ended\n"
     ]
    }
   ],
   "source": [
    "print(\"program started\")\n",
    "s=\"python program\"\n",
    "i=0\n",
    "while i<len(s):\n",
    "    print(s[i])\n",
    "    i=i+1\n",
    "print(\"program ended\")"
   ]
  },
  {
   "cell_type": "code",
   "execution_count": 11,
   "metadata": {},
   "outputs": [
    {
     "name": "stdout",
     "output_type": "stream",
     "text": [
      "program started\n",
      "sai\n",
      "jay\n",
      "vedha\n",
      "dhana\n",
      "program ended\n"
     ]
    }
   ],
   "source": [
    "print(\"program started\")\n",
    "s=[\"sai\",\"jay\",\"vedha\",\"dhana\"]\n",
    "i=0\n",
    "while i<len(s):\n",
    "    print(s[i])\n",
    "    i=i+1\n",
    "print(\"program ended\")"
   ]
  },
  {
   "cell_type": "code",
   "execution_count": 12,
   "metadata": {},
   "outputs": [
    {
     "name": "stdout",
     "output_type": "stream",
     "text": [
      "program started\n",
      "sai\n",
      "jay\n",
      "vedha\n",
      "dhana\n",
      "program ended\n"
     ]
    }
   ],
   "source": [
    "print(\"program started\")\n",
    "s=[\"sai\",\"jay\",\"vedha\",\"dhana\"]\n",
    "i=0 # initialization\n",
    "while i<len(s): # condition check\n",
    "    print(s[i])\n",
    "    i=i+1 # increment or decrement.\n",
    "print(\"program ended\")\n",
    "\n",
    "# for i=0;i<len(s);i=i+1"
   ]
  },
  {
   "cell_type": "code",
   "execution_count": 13,
   "metadata": {},
   "outputs": [
    {
     "name": "stdout",
     "output_type": "stream",
     "text": [
      "program started\n",
      "sai\n",
      "jay\n",
      "vedha\n",
      "dhana\n",
      "program ended\n"
     ]
    }
   ],
   "source": [
    "print(\"program started\")\n",
    "s=[\"sai\",\"jay\",\"vedha\",\"dhana\"]\n",
    "for i in s:\n",
    "    print (i)\n",
    "print(\"program ended\")"
   ]
  },
  {
   "cell_type": "code",
   "execution_count": 14,
   "metadata": {},
   "outputs": [
    {
     "name": "stdout",
     "output_type": "stream",
     "text": [
      "program started\n",
      "sai\n",
      "vedha\n",
      "program ended\n"
     ]
    }
   ],
   "source": [
    "print(\"program started\")\n",
    "s=[\"sai\",\"jay\",\"vedha\",\"dhana\"]\n",
    "for i in s[::2]:\n",
    "    print (i)\n",
    "print(\"program ended\")"
   ]
  },
  {
   "cell_type": "code",
   "execution_count": 15,
   "metadata": {},
   "outputs": [
    {
     "name": "stdout",
     "output_type": "stream",
     "text": [
      "program started\n",
      "sai\n",
      "jay\n",
      "vedha\n",
      "dhana\n",
      "program ended\n"
     ]
    }
   ],
   "source": [
    "print(\"program started\")\n",
    "s=[\"sai\",\"jay\",\"vedha\",\"dhana\"]\n",
    "for i in s:\n",
    "    print (i)\n",
    "print(\"program ended\")"
   ]
  },
  {
   "cell_type": "code",
   "execution_count": 16,
   "metadata": {},
   "outputs": [
    {
     "name": "stdout",
     "output_type": "stream",
     "text": [
      "program started\n",
      "sai\n",
      "jay\n",
      "vedha\n",
      "dhana\n",
      "program ended\n"
     ]
    }
   ],
   "source": [
    "print(\"program started\")\n",
    "s=(\"sai\",\"jay\",\"vedha\",\"dhana\")\n",
    "for i in s:\n",
    "    print (i)\n",
    "print(\"program ended\")"
   ]
  },
  {
   "cell_type": "code",
   "execution_count": 17,
   "metadata": {},
   "outputs": [
    {
     "name": "stdout",
     "output_type": "stream",
     "text": [
      "program started\n",
      "p\n",
      "y\n",
      "t\n",
      "h\n",
      "o\n",
      "n\n",
      "program ended\n"
     ]
    }
   ],
   "source": [
    "print(\"program started\")\n",
    "s=\"python\"\n",
    "for i in s:\n",
    "    print (i)\n",
    "print(\"program ended\")"
   ]
  },
  {
   "cell_type": "code",
   "execution_count": 18,
   "metadata": {},
   "outputs": [
    {
     "name": "stdout",
     "output_type": "stream",
     "text": [
      "program started\n",
      "mango\n",
      "banana\n",
      "apple\n",
      "grape\n",
      "program ended\n"
     ]
    }
   ],
   "source": [
    "print(\"program started\")\n",
    "fruits=[\"mango\",\"banana\",\"apple\",\"grape\"]\n",
    "for fruit in fruits:\n",
    "    print (fruit)\n",
    "print(\"program ended\")"
   ]
  },
  {
   "cell_type": "code",
   "execution_count": 20,
   "metadata": {},
   "outputs": [
    {
     "name": "stdout",
     "output_type": "stream",
     "text": [
      "program started\n",
      "Enter fruit for search:mango\n",
      "find\n"
     ]
    }
   ],
   "source": [
    "#linear search program\n",
    "print(\"program started\")\n",
    "fruits=[\"mango\",\"banana\",\"apple\",\"grape\"]\n",
    "search_fruit=raw_input(\"Enter fruit for search:\")\n",
    "if search_fruit in fruits:\n",
    "    print (\"find\")\n",
    "else:\n",
    "    print(\"not find\")"
   ]
  },
  {
   "cell_type": "code",
   "execution_count": 21,
   "metadata": {},
   "outputs": [
    {
     "name": "stdout",
     "output_type": "stream",
     "text": [
      "program started\n",
      "Enter fruit for search:orange\n",
      "not find\n"
     ]
    }
   ],
   "source": [
    "#linear search program\n",
    "print(\"program started\")\n",
    "fruits=[\"mango\",\"banana\",\"apple\",\"grape\"]\n",
    "search_fruit=raw_input(\"Enter fruit for search:\")\n",
    "if search_fruit in fruits:\n",
    "    print (\"find\")\n",
    "else:\n",
    "    print(\"not find\")"
   ]
  },
  {
   "cell_type": "code",
   "execution_count": 22,
   "metadata": {},
   "outputs": [
    {
     "data": {
      "text/plain": [
       "True"
      ]
     },
     "execution_count": 22,
     "metadata": {},
     "output_type": "execute_result"
    }
   ],
   "source": [
    "fruits=[\"mango\",\"banana\",\"apple\",\"grape\"]\n",
    "\"mango\" in fruits"
   ]
  },
  {
   "cell_type": "code",
   "execution_count": 23,
   "metadata": {},
   "outputs": [
    {
     "data": {
      "text/plain": [
       "False"
      ]
     },
     "execution_count": 23,
     "metadata": {},
     "output_type": "execute_result"
    }
   ],
   "source": [
    "fruits=[\"mango\",\"banana\",\"apple\",\"grape\"]\n",
    "\"orange\" in fruits"
   ]
  },
  {
   "cell_type": "code",
   "execution_count": 1,
   "metadata": {},
   "outputs": [
    {
     "name": "stdout",
     "output_type": "stream",
     "text": [
      "welcome to Linear search\n",
      "Enter fruit for search:mango\n",
      "find\n",
      "not find\n",
      "not find\n",
      "not find\n",
      "Thank you!!\n"
     ]
    }
   ],
   "source": [
    "# linear serach\n",
    "print(\"welcome to Linear search\")\n",
    "fruits=[\"mango\",\"banana\",\"apple\",\"grape\"]\n",
    "req_fruit=raw_input(\"Enter fruit for search:\")\n",
    "for fruit in fruits:\n",
    "    if req_fruit==fruit:\n",
    "        print(\"find\")\n",
    "    else:\n",
    "        print(\"not find\")\n",
    "        \n",
    "print(\"Thank you!!\")"
   ]
  },
  {
   "cell_type": "code",
   "execution_count": 2,
   "metadata": {},
   "outputs": [
    {
     "name": "stdout",
     "output_type": "stream",
     "text": [
      "welcome to Linear search\n",
      "Enter fruit for search:mango\n",
      "2\n",
      "Thank you!!\n"
     ]
    }
   ],
   "source": [
    "# linear serach\n",
    "print(\"welcome to Linear search\")\n",
    "fruits=[\"mango\",\"banana\",\"apple\",\"grape\",\"mango\",\"apple\"]\n",
    "req_fruit=raw_input(\"Enter fruit for search:\")\n",
    "count=0\n",
    "for fruit in fruits:\n",
    "    if req_fruit==fruit:\n",
    "        count=count+1\n",
    "print (count)    \n",
    "print(\"Thank you!!\")"
   ]
  },
  {
   "cell_type": "code",
   "execution_count": 3,
   "metadata": {},
   "outputs": [
    {
     "name": "stdout",
     "output_type": "stream",
     "text": [
      "welcome to Linear search\n",
      "Enter fruit for search:apple\n",
      "2\n",
      "Thank you!!\n"
     ]
    }
   ],
   "source": [
    "# linear serach\n",
    "print(\"welcome to Linear search\")\n",
    "fruits=[\"mango\",\"banana\",\"apple\",\"grape\",\"mango\",\"apple\"]\n",
    "req_fruit=raw_input(\"Enter fruit for search:\")\n",
    "count=0\n",
    "for fruit in fruits:\n",
    "    if req_fruit==fruit:\n",
    "        count=count+1\n",
    "print (count)    \n",
    "print(\"Thank you!!\")"
   ]
  },
  {
   "cell_type": "code",
   "execution_count": 4,
   "metadata": {},
   "outputs": [
    {
     "name": "stdout",
     "output_type": "stream",
     "text": [
      "welcome to Linear search\n",
      "Enter fruit for search:grape\n",
      "1\n",
      "Thank you!!\n"
     ]
    }
   ],
   "source": [
    "# linear serach\n",
    "print(\"welcome to Linear search\")\n",
    "fruits=[\"mango\",\"banana\",\"apple\",\"grape\",\"mango\",\"apple\"]\n",
    "req_fruit=raw_input(\"Enter fruit for search:\")\n",
    "count=0\n",
    "for fruit in fruits:\n",
    "    if req_fruit==fruit:\n",
    "        count=count+1\n",
    "print (count)    \n",
    "print(\"Thank you!!\")"
   ]
  },
  {
   "cell_type": "code",
   "execution_count": 5,
   "metadata": {},
   "outputs": [
    {
     "name": "stdout",
     "output_type": "stream",
     "text": [
      "welcome to Linear search\n",
      "Enter fruit for search:orange\n",
      "0\n",
      "Thank you!!\n"
     ]
    }
   ],
   "source": [
    "# linear serach\n",
    "print(\"welcome to Linear search\")\n",
    "fruits=[\"mango\",\"banana\",\"apple\",\"grape\",\"mango\",\"apple\"]\n",
    "req_fruit=raw_input(\"Enter fruit for search:\")\n",
    "count=0\n",
    "for fruit in fruits:\n",
    "    if req_fruit==fruit:\n",
    "        count=count+1\n",
    "print (count)    \n",
    "print(\"Thank you!!\")"
   ]
  },
  {
   "cell_type": "code",
   "execution_count": 6,
   "metadata": {},
   "outputs": [
    {
     "name": "stdout",
     "output_type": "stream",
     "text": [
      "welcome to Linear search\n",
      "Enter fruit for search:mango\n",
      "Gven fruit mango found\n",
      "Thank you!!\n"
     ]
    }
   ],
   "source": [
    "# linear serach\n",
    "print(\"welcome to Linear search\")\n",
    "fruits=[\"mango\",\"banana\",\"apple\",\"grape\",\"mango\",\"apple\"]\n",
    "req_fruit=raw_input(\"Enter fruit for search:\")\n",
    "count=0\n",
    "for fruit in fruits:\n",
    "    if req_fruit==fruit:\n",
    "        count=count+1\n",
    "if count==0:\n",
    "    print (\"Gven fruit %s not found\"%req_fruit)\n",
    "else:\n",
    "    print (\"Gven fruit %s found\"%req_fruit)    \n",
    "print(\"Thank you!!\")"
   ]
  },
  {
   "cell_type": "code",
   "execution_count": 7,
   "metadata": {},
   "outputs": [
    {
     "name": "stdout",
     "output_type": "stream",
     "text": [
      "welcome to Linear search\n",
      "Enter fruit for search:grape\n",
      "Gven fruit grape found\n",
      "Thank you!!\n"
     ]
    }
   ],
   "source": [
    "# linear serach\n",
    "print(\"welcome to Linear search\")\n",
    "fruits=[\"mango\",\"banana\",\"apple\",\"grape\",\"mango\",\"apple\"]\n",
    "req_fruit=raw_input(\"Enter fruit for search:\")\n",
    "count=0\n",
    "for fruit in fruits:\n",
    "    if req_fruit==fruit:\n",
    "        count=count+1\n",
    "if count==0:\n",
    "    print (\"Gven fruit %s not found\"%req_fruit)\n",
    "else:\n",
    "    print (\"Gven fruit %s found\"%req_fruit)    \n",
    "print(\"Thank you!!\")"
   ]
  },
  {
   "cell_type": "code",
   "execution_count": 8,
   "metadata": {},
   "outputs": [
    {
     "name": "stdout",
     "output_type": "stream",
     "text": [
      "welcome to Linear search\n",
      "Enter fruit for search:orange\n",
      "Gven fruit orange not found\n",
      "Thank you!!\n"
     ]
    }
   ],
   "source": [
    "# linear serach\n",
    "print(\"welcome to Linear search\")\n",
    "fruits=[\"mango\",\"banana\",\"apple\",\"grape\",\"mango\",\"apple\"]\n",
    "req_fruit=raw_input(\"Enter fruit for search:\")\n",
    "count=0\n",
    "for fruit in fruits:\n",
    "    if req_fruit==fruit:\n",
    "        count=count+1\n",
    "if count==0:\n",
    "    print (\"Gven fruit %s not found\"%req_fruit)\n",
    "else:\n",
    "    print (\"Gven fruit %s found\"%req_fruit)    \n",
    "print(\"Thank you!!\")"
   ]
  },
  {
   "cell_type": "code",
   "execution_count": 9,
   "metadata": {},
   "outputs": [
    {
     "name": "stdout",
     "output_type": "stream",
     "text": [
      "welcome to Linear search\n",
      "Enter fruit for search:mango\n",
      "iterating: mango\n",
      "iterating: banana\n",
      "iterating: apple\n",
      "iterating: grape\n",
      "iterating: mango\n",
      "iterating: apple\n",
      "Gven fruit mango found\n",
      "Thank you!!\n"
     ]
    }
   ],
   "source": [
    "# linear serach\n",
    "# best case\n",
    "# average case\n",
    "# worst case\n",
    "print(\"welcome to Linear search\")\n",
    "fruits=[\"mango\",\"banana\",\"apple\",\"grape\",\"mango\",\"apple\"]\n",
    "req_fruit=raw_input(\"Enter fruit for search:\")\n",
    "count=0\n",
    "for fruit in fruits:\n",
    "    print (\"iterating: %s\"%fruit)\n",
    "    if req_fruit==fruit:\n",
    "        count=count+1\n",
    "if count==0:\n",
    "    print (\"Gven fruit %s not found\"%req_fruit)\n",
    "else:\n",
    "    print (\"Gven fruit %s found\"%req_fruit)    \n",
    "print(\"Thank you!!\")"
   ]
  },
  {
   "cell_type": "code",
   "execution_count": 10,
   "metadata": {},
   "outputs": [
    {
     "name": "stdout",
     "output_type": "stream",
     "text": [
      "welcome to Linear search\n",
      "Enter fruit for search:mango\n",
      "iterating: mango\n",
      "Gven fruit mango found\n",
      "Thank you!!\n"
     ]
    }
   ],
   "source": [
    "# linear serach\n",
    "# best case\n",
    "# average case\n",
    "# worst case\n",
    "print(\"welcome to Linear search\")\n",
    "fruits=[\"mango\",\"banana\",\"apple\",\"grape\",\"mango\",\"apple\"]\n",
    "req_fruit=raw_input(\"Enter fruit for search:\")\n",
    "count=0\n",
    "for fruit in fruits:\n",
    "    print (\"iterating: %s\"%fruit)\n",
    "    if req_fruit==fruit:\n",
    "        count=count+1\n",
    "        break\n",
    "if count==0:\n",
    "    print (\"Gven fruit %s not found\"%req_fruit)\n",
    "else:\n",
    "    print (\"Gven fruit %s found\"%req_fruit)    \n",
    "print(\"Thank you!!\")"
   ]
  },
  {
   "cell_type": "code",
   "execution_count": 11,
   "metadata": {},
   "outputs": [
    {
     "name": "stdout",
     "output_type": "stream",
     "text": [
      "welcome to Linear search\n",
      "Enter fruit for search:apple\n",
      "iterating: mango\n",
      "iterating: banana\n",
      "iterating: apple\n",
      "Gven fruit apple found\n",
      "Thank you!!\n"
     ]
    }
   ],
   "source": [
    "# linear serach\n",
    "# best case\n",
    "# average case\n",
    "# worst case\n",
    "print(\"welcome to Linear search\")\n",
    "fruits=[\"mango\",\"banana\",\"apple\",\"grape\",\"mango\",\"apple\"]\n",
    "req_fruit=raw_input(\"Enter fruit for search:\")\n",
    "count=0\n",
    "for fruit in fruits:\n",
    "    print (\"iterating: %s\"%fruit)\n",
    "    if req_fruit==fruit:\n",
    "        count=count+1\n",
    "        break\n",
    "if count==0:\n",
    "    print (\"Gven fruit %s not found\"%req_fruit)\n",
    "else:\n",
    "    print (\"Gven fruit %s found\"%req_fruit)    \n",
    "print(\"Thank you!!\")"
   ]
  },
  {
   "cell_type": "code",
   "execution_count": 12,
   "metadata": {},
   "outputs": [
    {
     "name": "stdout",
     "output_type": "stream",
     "text": [
      "welcome to Linear search\n",
      "Enter fruit for search:orange\n",
      "iterating: mango\n",
      "iterating: banana\n",
      "iterating: apple\n",
      "iterating: grape\n",
      "iterating: mango\n",
      "iterating: apple\n",
      "Gven fruit orange not found\n",
      "Thank you!!\n"
     ]
    }
   ],
   "source": [
    "# linear serach\n",
    "# best case\n",
    "# average case\n",
    "# worst case\n",
    "print(\"welcome to Linear search\")\n",
    "fruits=[\"mango\",\"banana\",\"apple\",\"grape\",\"mango\",\"apple\"]\n",
    "req_fruit=raw_input(\"Enter fruit for search:\")\n",
    "count=0\n",
    "for fruit in fruits:\n",
    "    print (\"iterating: %s\"%fruit)\n",
    "    if req_fruit==fruit:\n",
    "        count=count+1\n",
    "        break\n",
    "if count==0:\n",
    "    print (\"Gven fruit %s not found\"%req_fruit)\n",
    "else:\n",
    "    print (\"Gven fruit %s found\"%req_fruit)    \n",
    "print(\"Thank you!!\")"
   ]
  },
  {
   "cell_type": "code",
   "execution_count": 13,
   "metadata": {},
   "outputs": [
    {
     "name": "stdout",
     "output_type": "stream",
     "text": [
      "starting the linear seach programing..\n",
      "1\n",
      "2\n",
      "3\n",
      "4\n",
      "5\n",
      "this is else\n",
      "Thankyou\n"
     ]
    }
   ],
   "source": [
    "print (\"starting the linear seach programing..\")\n",
    "for i in [1,2,3,4,5]:\n",
    "    print(i)\n",
    "else:\n",
    "    print(\"this is else\")\n",
    "print(\"Thankyou\")"
   ]
  },
  {
   "cell_type": "code",
   "execution_count": 14,
   "metadata": {},
   "outputs": [
    {
     "name": "stdout",
     "output_type": "stream",
     "text": [
      "starting the linear seach programing..\n",
      "1\n",
      "2\n",
      "3\n",
      "Thankyou\n"
     ]
    }
   ],
   "source": [
    "print (\"starting the linear seach programing..\")\n",
    "for i in [1,2,3,4,5]:\n",
    "    print(i)\n",
    "    if i==3:\n",
    "        break\n",
    "else:\n",
    "    print(\"this is else\")\n",
    "print(\"Thankyou\")"
   ]
  },
  {
   "cell_type": "code",
   "execution_count": 15,
   "metadata": {},
   "outputs": [
    {
     "name": "stdout",
     "output_type": "stream",
     "text": [
      "starting the linear seach programing..\n",
      "1\n",
      "2\n",
      "3\n",
      "4\n",
      "5\n",
      "this is else\n",
      "Thankyou\n"
     ]
    }
   ],
   "source": [
    "print (\"starting the linear seach programing..\")\n",
    "for i in [1,2,3,4,5]:\n",
    "    print(i)\n",
    "    if i==30:\n",
    "        break\n",
    "else:\n",
    "    print(\"this is else\")\n",
    "print(\"Thankyou\")"
   ]
  },
  {
   "cell_type": "code",
   "execution_count": 16,
   "metadata": {},
   "outputs": [
    {
     "name": "stdout",
     "output_type": "stream",
     "text": [
      "welcome to Linear search\n",
      "Enter fruit for search:orange\n",
      "Given fruit orange not found\n",
      "Thank you!!\n"
     ]
    }
   ],
   "source": [
    "# linear serach\n",
    "# best case\n",
    "# average case\n",
    "# worst case\n",
    "print(\"welcome to Linear search\")\n",
    "fruits=[\"mango\",\"banana\",\"apple\",\"grape\",\"mango\",\"apple\"]\n",
    "req_fruit=raw_input(\"Enter fruit for search:\")\n",
    "for fruit in fruits:\n",
    "    if req_fruit==fruit:\n",
    "        print (\"Given fruit %s found\"%req_fruit)\n",
    "        break\n",
    "else:\n",
    "    print(\"Given fruit %s not found\"%req_fruit) \n",
    "print(\"Thank you!!\")"
   ]
  },
  {
   "cell_type": "code",
   "execution_count": 17,
   "metadata": {},
   "outputs": [
    {
     "name": "stdout",
     "output_type": "stream",
     "text": [
      "welcome to Linear search\n",
      "Enter fruit for search:mango\n",
      "Given fruit mango found\n",
      "Thank you!!\n"
     ]
    }
   ],
   "source": [
    "# linear serach\n",
    "# best case\n",
    "# average case\n",
    "# worst case\n",
    "print(\"welcome to Linear search\")\n",
    "fruits=[\"mango\",\"banana\",\"apple\",\"grape\",\"mango\",\"apple\"]\n",
    "req_fruit=raw_input(\"Enter fruit for search:\")\n",
    "for fruit in fruits:\n",
    "    if req_fruit==fruit:\n",
    "        print (\"Given fruit %s found\"%req_fruit)\n",
    "        break\n",
    "else:\n",
    "    print(\"Given fruit %s not found\"%req_fruit) \n",
    "print(\"Thank you!!\")"
   ]
  },
  {
   "cell_type": "code",
   "execution_count": 18,
   "metadata": {},
   "outputs": [
    {
     "name": "stdout",
     "output_type": "stream",
     "text": [
      "welcome to Linear search\n",
      "Enter fruit for search:apple\n",
      "Given fruit apple found\n",
      "Thank you!!\n"
     ]
    }
   ],
   "source": [
    "# linear serach\n",
    "# best case\n",
    "# average case\n",
    "# worst case\n",
    "print(\"welcome to Linear search\")\n",
    "fruits=[\"mango\",\"banana\",\"apple\",\"grape\",\"mango\",\"apple\"]\n",
    "req_fruit=raw_input(\"Enter fruit for search:\")\n",
    "for fruit in fruits:\n",
    "    if req_fruit==fruit:\n",
    "        print (\"Given fruit %s found\"%req_fruit)\n",
    "        break\n",
    "else:\n",
    "    print(\"Given fruit %s not found\"%req_fruit) \n",
    "print(\"Thank you!!\")"
   ]
  },
  {
   "cell_type": "code",
   "execution_count": 19,
   "metadata": {},
   "outputs": [
    {
     "name": "stdout",
     "output_type": "stream",
     "text": [
      "0\n",
      "i outside the loop:0\n"
     ]
    }
   ],
   "source": [
    "i=0\n",
    "while i<3:\n",
    "    print(i)\n",
    "    break\n",
    "    i=i+1\n",
    "print (\"i outside the loop:%s\"%i)"
   ]
  },
  {
   "cell_type": "code",
   "execution_count": 20,
   "metadata": {},
   "outputs": [
    {
     "name": "stdout",
     "output_type": "stream",
     "text": [
      "i outside the loop:0\n"
     ]
    }
   ],
   "source": [
    "i=0\n",
    "while i<3:\n",
    "    break\n",
    "    print(i)\n",
    "    i=i+1\n",
    "print (\"i outside the loop:%s\"%i)"
   ]
  },
  {
   "cell_type": "code",
   "execution_count": 21,
   "metadata": {},
   "outputs": [
    {
     "name": "stdout",
     "output_type": "stream",
     "text": [
      "0\n",
      "1\n",
      "2\n",
      "i outside the loop:2\n"
     ]
    }
   ],
   "source": [
    "i=0\n",
    "while i<3:\n",
    "    print(i)\n",
    "    if i==2:\n",
    "        break\n",
    "    i=i+1\n",
    "print (\"i outside the loop:%s\"%i)"
   ]
  },
  {
   "cell_type": "code",
   "execution_count": 22,
   "metadata": {},
   "outputs": [
    {
     "name": "stdout",
     "output_type": "stream",
     "text": [
      "0\n",
      "i outside the loop:0\n"
     ]
    }
   ],
   "source": [
    "i=0\n",
    "while i<3:\n",
    "    print(i)\n",
    "    break\n",
    "    i=i+1\n",
    "print (\"i outside the loop:%s\"%i)"
   ]
  },
  {
   "cell_type": "code",
   "execution_count": 23,
   "metadata": {},
   "outputs": [
    {
     "name": "stdout",
     "output_type": "stream",
     "text": [
      "iteration started\n",
      "0\n",
      "iteration started\n",
      "1\n",
      "iteration started\n",
      "2\n",
      "i outside the loop:3\n"
     ]
    }
   ],
   "source": [
    "i=0\n",
    "while i<3:\n",
    "    print(\"iteration started\")\n",
    "    print(i)\n",
    "    i=i+1\n",
    "    continue\n",
    "    print(\"iteration ended\")\n",
    "print (\"i outside the loop:%s\"%i)"
   ]
  },
  {
   "cell_type": "code",
   "execution_count": null,
   "metadata": {
    "collapsed": true
   },
   "outputs": [],
   "source": [
    "i=0\n",
    "while i<3:\n",
    "    print(i)\n",
    "    continue\n",
    "    i=i+1"
   ]
  },
  {
   "cell_type": "code",
   "execution_count": null,
   "metadata": {
    "collapsed": true
   },
   "outputs": [],
   "source": [
    "i=0\n",
    "while i<3:\n",
    "    print(i)\n",
    "    if i==1:\n",
    "        continue\n",
    "    i=i+1"
   ]
  },
  {
   "cell_type": "code",
   "execution_count": 24,
   "metadata": {},
   "outputs": [
    {
     "data": {
      "text/plain": [
       "65"
      ]
     },
     "execution_count": 24,
     "metadata": {},
     "output_type": "execute_result"
    }
   ],
   "source": [
    "# ascii value\n",
    "ord(\"A\")"
   ]
  },
  {
   "cell_type": "code",
   "execution_count": 25,
   "metadata": {},
   "outputs": [
    {
     "data": {
      "text/plain": [
       "97"
      ]
     },
     "execution_count": 25,
     "metadata": {},
     "output_type": "execute_result"
    }
   ],
   "source": [
    "ord(\"a\")"
   ]
  },
  {
   "cell_type": "code",
   "execution_count": 26,
   "metadata": {},
   "outputs": [
    {
     "data": {
      "text/plain": [
       "'a'"
      ]
     },
     "execution_count": 26,
     "metadata": {},
     "output_type": "execute_result"
    }
   ],
   "source": [
    "chr(97)"
   ]
  },
  {
   "cell_type": "code",
   "execution_count": 27,
   "metadata": {},
   "outputs": [
    {
     "data": {
      "text/plain": [
       "'A'"
      ]
     },
     "execution_count": 27,
     "metadata": {},
     "output_type": "execute_result"
    }
   ],
   "source": [
    "chr(65)"
   ]
  },
  {
   "cell_type": "code",
   "execution_count": 1,
   "metadata": {},
   "outputs": [
    {
     "name": "stdout",
     "output_type": "stream",
     "text": [
      "enter number:20\n",
      "range(0, 20)\n"
     ]
    }
   ],
   "source": [
    "number = input(\"enter number:\")\n",
    "number=int(number)\n",
    "# 6\n",
    "# 6%1, 6%2, 6%3, 6%4, 6%5, 6%6,\n",
    "# 20, 1-20\n",
    "\n",
    "print(range(number))"
   ]
  },
  {
   "cell_type": "code",
   "execution_count": 2,
   "metadata": {},
   "outputs": [
    {
     "name": "stdout",
     "output_type": "stream",
     "text": [
      "0\n",
      "1\n",
      "2\n"
     ]
    }
   ],
   "source": [
    "for i in range(3):\n",
    "    print(i)"
   ]
  },
  {
   "cell_type": "code",
   "execution_count": 3,
   "metadata": {},
   "outputs": [
    {
     "name": "stdout",
     "output_type": "stream",
     "text": [
      "1\n",
      "2\n",
      "3\n",
      "4\n",
      "5\n"
     ]
    }
   ],
   "source": [
    "for i in range(1,6):\n",
    "    print(i)"
   ]
  },
  {
   "cell_type": "code",
   "execution_count": 6,
   "metadata": {},
   "outputs": [
    {
     "name": "stdout",
     "output_type": "stream",
     "text": [
      "5\n",
      "6\n",
      "7\n",
      "8\n",
      "9\n"
     ]
    }
   ],
   "source": [
    "for i in range(5,10):\n",
    "    print(i)"
   ]
  },
  {
   "cell_type": "code",
   "execution_count": 7,
   "metadata": {},
   "outputs": [
    {
     "name": "stdout",
     "output_type": "stream",
     "text": [
      "enter number:12\n",
      "0\n",
      "1\n",
      "2\n",
      "3\n",
      "4\n",
      "5\n",
      "6\n",
      "7\n",
      "8\n",
      "9\n",
      "10\n",
      "11\n"
     ]
    }
   ],
   "source": [
    "number = input(\"enter number:\")\n",
    "number=int(number)\n",
    "# 6\n",
    "# 6%1, 6%2, 6%3, 6%4, 6%5, 6%6,\n",
    "# 20, 1-20\n",
    "for i in range(number):\n",
    "    print(i)"
   ]
  },
  {
   "cell_type": "code",
   "execution_count": 8,
   "metadata": {},
   "outputs": [
    {
     "name": "stdout",
     "output_type": "stream",
     "text": [
      "enter number:6\n",
      "1\n",
      "2\n",
      "3\n",
      "4\n",
      "5\n"
     ]
    }
   ],
   "source": [
    "number = input(\"enter number:\")\n",
    "number=int(number)\n",
    "# 6\n",
    "# 6%1, 6%2, 6%3, 6%4, 6%5, 6%6,\n",
    "# 20, 1-20\n",
    "for i in range(1,number):\n",
    "    print(i)"
   ]
  },
  {
   "cell_type": "code",
   "execution_count": 9,
   "metadata": {},
   "outputs": [
    {
     "name": "stdout",
     "output_type": "stream",
     "text": [
      "enter number:6\n",
      "1\n",
      "2\n",
      "3\n",
      "4\n",
      "5\n",
      "6\n"
     ]
    }
   ],
   "source": [
    "number = input(\"enter number:\")\n",
    "number=int(number)\n",
    "# 6\n",
    "# 6%1, 6%2, 6%3, 6%4, 6%5, 6%6,\n",
    "# 20, 1-20\n",
    "for i in range(1,number+1):\n",
    "    print(i)"
   ]
  },
  {
   "cell_type": "code",
   "execution_count": 10,
   "metadata": {},
   "outputs": [
    {
     "name": "stdout",
     "output_type": "stream",
     "text": [
      "enter number:12\n",
      "6\n"
     ]
    }
   ],
   "source": [
    "number = input(\"enter number:\")\n",
    "number=int(number)\n",
    "# 6\n",
    "# 6%1, 6%2, 6%3, 6%4, 6%5, 6%6,\n",
    "# 20, 1-20\n",
    "fact_count=0\n",
    "for i in range(1,number+1):\n",
    "    if number%i==0:\n",
    "        fact_count=fact_count+1\n",
    "print(fact_count)"
   ]
  },
  {
   "cell_type": "code",
   "execution_count": 11,
   "metadata": {},
   "outputs": [
    {
     "name": "stdout",
     "output_type": "stream",
     "text": [
      "enter number:7\n",
      "2\n"
     ]
    }
   ],
   "source": [
    "number = input(\"enter number:\")\n",
    "number=int(number)\n",
    "# 6\n",
    "# 6%1, 6%2, 6%3, 6%4, 6%5, 6%6,\n",
    "# 20, 1-20\n",
    "fact_count=0\n",
    "for i in range(1,number+1):\n",
    "    if number%i==0:\n",
    "        fact_count=fact_count+1\n",
    "print(fact_count)"
   ]
  },
  {
   "cell_type": "code",
   "execution_count": null,
   "metadata": {},
   "outputs": [],
   "source": [
    "number = input(\"enter number:\")\n",
    "number=int(number)\n",
    "# 6\n",
    "# 6%1, 6%2, 6%3, 6%4, 6%5, 6%6,\n",
    "# 20, 1-20\n",
    "fact_count=0\n",
    "for i in range(1,number+1):\n",
    "    if number%i==0:\n",
    "        fact_count=fact_count+1\n",
    "if fact_count==2:\n",
    "    print(\"this is prime\")\n",
    "else:\n",
    "    print(\"not a prime\")"
   ]
  },
  {
   "cell_type": "code",
   "execution_count": 12,
   "metadata": {},
   "outputs": [
    {
     "name": "stdout",
     "output_type": "stream",
     "text": [
      "printing fruits\n",
      "apple\n",
      "mango\n",
      "banana\n",
      "thank you!!\n"
     ]
    }
   ],
   "source": [
    "print (\"printing fruits\")\n",
    "for fruit in [\"apple\",\"mango\",\"banana\"]:\n",
    "    print(fruit)\n",
    "print(\"thank you!!\")"
   ]
  },
  {
   "cell_type": "code",
   "execution_count": 13,
   "metadata": {},
   "outputs": [
    {
     "name": "stdout",
     "output_type": "stream",
     "text": [
      "enter number:7\n",
      "2\n",
      "3\n",
      "4\n",
      "5\n",
      "6\n"
     ]
    }
   ],
   "source": [
    "number = input(\"enter number:\")\n",
    "number=int(number)\n",
    "# 7, 2,6\n",
    "for i in range(2,number):\n",
    "    print(i)"
   ]
  },
  {
   "cell_type": "code",
   "execution_count": 14,
   "metadata": {},
   "outputs": [
    {
     "name": "stdout",
     "output_type": "stream",
     "text": [
      "enter number:7\n",
      "not a prime\n"
     ]
    }
   ],
   "source": [
    "number = input(\"enter number:\")\n",
    "number=int(number)\n",
    "# 6\n",
    "# 6%1, 6%2, 6%3, 6%4, 6%5, 6%6,\n",
    "# 20, 1-20\n",
    "fact_count=0\n",
    "for i in range(2,number):\n",
    "    if number%i==0:\n",
    "        fact_count=fact_count+1\n",
    "if fact_count==2:\n",
    "    print(\"this is prime\")\n",
    "else:\n",
    "    print(\"not a prime\")"
   ]
  },
  {
   "cell_type": "code",
   "execution_count": 16,
   "metadata": {},
   "outputs": [
    {
     "name": "stdout",
     "output_type": "stream",
     "text": [
      "enter number:12\n",
      "not a prime\n"
     ]
    }
   ],
   "source": [
    "number = input(\"enter number:\")\n",
    "number=int(number)\n",
    "# 6\n",
    "# 6%1, 6%2, 6%3, 6%4, 6%5, 6%6,\n",
    "# 20, 1-20\n",
    "fact_count=0\n",
    "for i in range(2,number):\n",
    "    if number%i==0:\n",
    "        fact_count=fact_count+1\n",
    "if fact_count==0:\n",
    "    print(\"this is prime\")\n",
    "else:\n",
    "    print(\"not a prime\")"
   ]
  },
  {
   "cell_type": "code",
   "execution_count": 17,
   "metadata": {},
   "outputs": [
    {
     "name": "stdout",
     "output_type": "stream",
     "text": [
      "enter number:7\n",
      "this is prime\n"
     ]
    }
   ],
   "source": [
    "number = input(\"enter number:\")\n",
    "number=int(number)\n",
    "fact_count=0\n",
    "for i in range(2,number):\n",
    "    if number%i==0:\n",
    "        fact_count=fact_count+1\n",
    "        \n",
    "if fact_count==0:\n",
    "    print(\"this is prime\")\n",
    "else:\n",
    "    print(\"not a prime\")"
   ]
  },
  {
   "cell_type": "code",
   "execution_count": 18,
   "metadata": {},
   "outputs": [
    {
     "name": "stdout",
     "output_type": "stream",
     "text": [
      "enter number:12\n",
      "2\n",
      "3\n",
      "4\n",
      "5\n",
      "6\n",
      "7\n",
      "8\n",
      "9\n",
      "10\n",
      "11\n",
      "not a prime\n"
     ]
    }
   ],
   "source": [
    "number = input(\"enter number:\")\n",
    "number=int(number)\n",
    "fact_count=0\n",
    "for i in range(2,number):\n",
    "    print(i)\n",
    "    if number%i==0:\n",
    "        fact_count=fact_count+1\n",
    "        \n",
    "if fact_count==0:\n",
    "    print(\"this is prime\")\n",
    "else:\n",
    "    print(\"not a prime\")"
   ]
  },
  {
   "cell_type": "code",
   "execution_count": 19,
   "metadata": {},
   "outputs": [
    {
     "name": "stdout",
     "output_type": "stream",
     "text": [
      "enter number:7\n",
      "2\n",
      "3\n",
      "4\n",
      "5\n",
      "6\n",
      "this is prime\n"
     ]
    }
   ],
   "source": [
    "number = input(\"enter number:\")\n",
    "number=int(number)\n",
    "fact_count=0\n",
    "for i in range(2,number):\n",
    "    print(i)\n",
    "    if number%i==0:\n",
    "        fact_count=fact_count+1\n",
    "        \n",
    "if fact_count==0:\n",
    "    print(\"this is prime\")\n",
    "else:\n",
    "    print(\"not a prime\")"
   ]
  },
  {
   "cell_type": "code",
   "execution_count": 20,
   "metadata": {},
   "outputs": [
    {
     "name": "stdout",
     "output_type": "stream",
     "text": [
      "enter number:10\n",
      "2\n",
      "3\n",
      "4\n",
      "5\n",
      "6\n",
      "7\n",
      "8\n",
      "9\n",
      "not a prime\n"
     ]
    }
   ],
   "source": [
    "number = input(\"enter number:\")\n",
    "number=int(number)\n",
    "fact_count=0\n",
    "for i in range(2,number):\n",
    "    print(i)\n",
    "    if number%i==0:\n",
    "        fact_count=fact_count+1\n",
    "        \n",
    "        \n",
    "if fact_count==0:\n",
    "    print(\"this is prime\")\n",
    "else:\n",
    "    print(\"not a prime\")"
   ]
  },
  {
   "cell_type": "code",
   "execution_count": 21,
   "metadata": {},
   "outputs": [
    {
     "name": "stdout",
     "output_type": "stream",
     "text": [
      "enter number:15\n",
      "2\n",
      "3\n",
      "not a prime\n"
     ]
    }
   ],
   "source": [
    "number = input(\"enter number:\")\n",
    "number=int(number)\n",
    "fact_count=0\n",
    "for i in range(2,number):\n",
    "    print(i)\n",
    "    if number%i==0:\n",
    "        fact_count=fact_count+1\n",
    "        break\n",
    "\n",
    "if fact_count==0:\n",
    "    print(\"this is prime\")\n",
    "else:\n",
    "    print(\"not a prime\")"
   ]
  },
  {
   "cell_type": "code",
   "execution_count": 22,
   "metadata": {},
   "outputs": [
    {
     "name": "stdout",
     "output_type": "stream",
     "text": [
      "enter number:7\n",
      "2\n",
      "3\n",
      "4\n",
      "5\n",
      "6\n",
      "this is prime\n"
     ]
    }
   ],
   "source": [
    "number = input(\"enter number:\")\n",
    "number=int(number)\n",
    "fact_count=0\n",
    "for i in range(2,number):\n",
    "    print(i)\n",
    "    if number%i==0:\n",
    "        fact_count=fact_count+1\n",
    "        break\n",
    "\n",
    "if fact_count==0:\n",
    "    print(\"this is prime\")\n",
    "else:\n",
    "    print(\"not a prime\")"
   ]
  },
  {
   "cell_type": "code",
   "execution_count": 23,
   "metadata": {},
   "outputs": [
    {
     "name": "stdout",
     "output_type": "stream",
     "text": [
      "2\n"
     ]
    }
   ],
   "source": [
    "c=1\n",
    "while c<10:\n",
    "    c=c+1\n",
    "    break\n",
    "print(c)"
   ]
  },
  {
   "cell_type": "code",
   "execution_count": 24,
   "metadata": {},
   "outputs": [
    {
     "name": "stdout",
     "output_type": "stream",
     "text": [
      "4\n"
     ]
    }
   ],
   "source": [
    "c=1\n",
    "while c<4:\n",
    "    c=c+1\n",
    "print(c)"
   ]
  },
  {
   "cell_type": "code",
   "execution_count": null,
   "metadata": {},
   "outputs": [],
   "source": [
    "c=1\n",
    "while c<4:\n",
    "    c=c-1\n",
    "print(c)"
   ]
  },
  {
   "cell_type": "code",
   "execution_count": 1,
   "metadata": {},
   "outputs": [
    {
     "name": "stdout",
     "output_type": "stream",
     "text": [
      "10\n"
     ]
    }
   ],
   "source": [
    "c=10\n",
    "while c<4:\n",
    "    c=c-1\n",
    "print(c)"
   ]
  },
  {
   "cell_type": "code",
   "execution_count": 2,
   "metadata": {},
   "outputs": [
    {
     "name": "stdout",
     "output_type": "stream",
     "text": [
      "enter number:12\n",
      "2\n",
      "not a prime\n"
     ]
    }
   ],
   "source": [
    "number = input(\"enter number:\")\n",
    "number=int(number)\n",
    "fact_count=0\n",
    "for i in range(2,number):\n",
    "    print(i)\n",
    "    if number%i==0:\n",
    "        fact_count=fact_count+1\n",
    "        break\n",
    "\n",
    "if fact_count==0:\n",
    "    print(\"this is prime\")\n",
    "else:\n",
    "    print(\"not a prime\")"
   ]
  },
  {
   "cell_type": "code",
   "execution_count": 3,
   "metadata": {},
   "outputs": [
    {
     "name": "stdout",
     "output_type": "stream",
     "text": [
      "enter number:5\n",
      "2\n",
      "3\n",
      "4\n",
      "this is prime\n"
     ]
    }
   ],
   "source": [
    "number = input(\"enter number:\")\n",
    "number=int(number)\n",
    "fact_count=0\n",
    "for i in range(2,number):\n",
    "    print(i)\n",
    "    if number%i==0:\n",
    "        fact_count=fact_count+1\n",
    "        break\n",
    "if fact_count==0:\n",
    "    print(\"this is prime\")\n",
    "else:\n",
    "    print(\"not a prime\")"
   ]
  },
  {
   "cell_type": "code",
   "execution_count": 4,
   "metadata": {},
   "outputs": [
    {
     "name": "stdout",
     "output_type": "stream",
     "text": [
      "enter number:1\n",
      "this is prime\n"
     ]
    }
   ],
   "source": [
    "number = input(\"enter number:\")\n",
    "number=int(number)\n",
    "fact_count=0\n",
    "for i in range(2,number):\n",
    "    print(i)\n",
    "    if number%i==0:\n",
    "        fact_count=fact_count+1\n",
    "        break\n",
    "if fact_count==0:\n",
    "    print(\"this is prime\")\n",
    "else:\n",
    "    print(\"not a prime\")"
   ]
  },
  {
   "cell_type": "code",
   "execution_count": 5,
   "metadata": {},
   "outputs": [
    {
     "name": "stdout",
     "output_type": "stream",
     "text": [
      "enter number:2\n",
      "this is prime\n"
     ]
    }
   ],
   "source": [
    "number = input(\"enter number:\")\n",
    "number=int(number)\n",
    "fact_count=0\n",
    "for i in range(2,number):\n",
    "    print(i)\n",
    "    if number%i==0:\n",
    "        fact_count=fact_count+1\n",
    "        break\n",
    "if fact_count==0:\n",
    "    print(\"this is prime\")\n",
    "else:\n",
    "    print(\"not a prime\")"
   ]
  },
  {
   "cell_type": "code",
   "execution_count": 6,
   "metadata": {},
   "outputs": [
    {
     "name": "stdout",
     "output_type": "stream",
     "text": [
      "0\n",
      "1\n",
      "2\n",
      "3\n",
      "4\n",
      "5\n",
      "6\n",
      "7\n",
      "8\n",
      "9\n",
      "this is else\n"
     ]
    }
   ],
   "source": [
    "for i in range(10):\n",
    "    print (i)\n",
    "else:\n",
    "    print(\"this is else\")"
   ]
  },
  {
   "cell_type": "code",
   "execution_count": 7,
   "metadata": {},
   "outputs": [
    {
     "name": "stdout",
     "output_type": "stream",
     "text": [
      "0\n"
     ]
    }
   ],
   "source": [
    "for i in range(10):\n",
    "    print (i)\n",
    "    break\n",
    "else:\n",
    "    print(\"this is else\")"
   ]
  },
  {
   "cell_type": "code",
   "execution_count": 8,
   "metadata": {},
   "outputs": [
    {
     "name": "stdout",
     "output_type": "stream",
     "text": [
      "0\n",
      "1\n",
      "2\n",
      "3\n",
      "4\n",
      "5\n",
      "6\n",
      "7\n",
      "8\n",
      "9\n",
      "this is else\n"
     ]
    }
   ],
   "source": [
    "for i in range(10):\n",
    "    print (i)\n",
    "    if i==12:\n",
    "        break\n",
    "else:\n",
    "    print(\"this is else\")"
   ]
  },
  {
   "cell_type": "code",
   "execution_count": 9,
   "metadata": {},
   "outputs": [
    {
     "name": "stdout",
     "output_type": "stream",
     "text": [
      "Welcome to the prime number APP\n",
      "enter number:12\n",
      "not a prime\n",
      "Thank you!!\n"
     ]
    }
   ],
   "source": [
    "print (\"Welcome to the prime number APP\")\n",
    "number = input(\"enter number:\")\n",
    "number=int(number)\n",
    "for i in range(2,number):\n",
    "    if number%i==0:\n",
    "        print(\"not a prime\")\n",
    "        break\n",
    "else:\n",
    "    print(\"this is prime\")\n",
    "print(\"Thank you!!\")\n",
    "    "
   ]
  },
  {
   "cell_type": "code",
   "execution_count": 10,
   "metadata": {},
   "outputs": [
    {
     "name": "stdout",
     "output_type": "stream",
     "text": [
      "Welcome to the prime number APP\n",
      "enter number:5\n",
      "this is prime\n",
      "Thank you!!\n"
     ]
    }
   ],
   "source": [
    "print (\"Welcome to the prime number APP\")\n",
    "number = input(\"enter number:\")\n",
    "number=int(number)\n",
    "for i in range(2,number):\n",
    "    if number%i==0:\n",
    "        print(\"not a prime\")\n",
    "        break\n",
    "else:\n",
    "    print(\"this is prime\")\n",
    "print(\"Thank you!!\")\n",
    "    "
   ]
  },
  {
   "cell_type": "code",
   "execution_count": 13,
   "metadata": {},
   "outputs": [
    {
     "name": "stdout",
     "output_type": "stream",
     "text": [
      "* 0\n",
      "# 0\n",
      "# 1\n",
      "* 1\n",
      "# 0\n",
      "# 1\n",
      "* 2\n",
      "# 0\n",
      "# 1\n",
      "* 3\n",
      "# 0\n",
      "# 1\n",
      "* 4\n",
      "# 0\n",
      "# 1\n",
      "* 5\n",
      "# 0\n",
      "# 1\n",
      "* 6\n",
      "# 0\n",
      "# 1\n",
      "* 7\n",
      "# 0\n",
      "# 1\n",
      "* 8\n",
      "# 0\n",
      "# 1\n",
      "* 9\n",
      "# 0\n",
      "# 1\n"
     ]
    }
   ],
   "source": [
    "for i in range(10):\n",
    "    print(\"*\",i)\n",
    "    for j in range(2):\n",
    "        print(\"#\",j)"
   ]
  },
  {
   "cell_type": "code",
   "execution_count": 14,
   "metadata": {},
   "outputs": [
    {
     "name": "stdout",
     "output_type": "stream",
     "text": [
      "* 0\n"
     ]
    }
   ],
   "source": [
    "for i in range(10):\n",
    "    print(\"*\",i)\n",
    "    break\n",
    "    for j in range(2):\n",
    "        print(\"#\",j)"
   ]
  },
  {
   "cell_type": "code",
   "execution_count": 15,
   "metadata": {},
   "outputs": [
    {
     "name": "stdout",
     "output_type": "stream",
     "text": [
      "* 0\n",
      "# 0\n",
      "* 1\n",
      "# 0\n",
      "* 2\n",
      "# 0\n",
      "* 3\n",
      "# 0\n",
      "* 4\n",
      "# 0\n",
      "* 5\n",
      "# 0\n",
      "* 6\n",
      "# 0\n",
      "* 7\n",
      "# 0\n",
      "* 8\n",
      "# 0\n",
      "* 9\n",
      "# 0\n"
     ]
    }
   ],
   "source": [
    "for i in range(10):\n",
    "    print(\"*\",i)\n",
    "    for j in range(2):\n",
    "        print(\"#\",j)\n",
    "        break"
   ]
  },
  {
   "cell_type": "code",
   "execution_count": 17,
   "metadata": {},
   "outputs": [],
   "source": [
    "# continue"
   ]
  },
  {
   "cell_type": "code",
   "execution_count": 18,
   "metadata": {},
   "outputs": [
    {
     "name": "stdout",
     "output_type": "stream",
     "text": [
      "welcome\n",
      "outside loop: c= 1\n",
      "thank you\n"
     ]
    }
   ],
   "source": [
    "print(\"welcome\")\n",
    "c=0\n",
    "while c<10:\n",
    "    c=c+1\n",
    "    \n",
    "    break\n",
    "    print(\"print after break\")\n",
    "print(\"outside loop: c=\",c)\n",
    "print(\"thank you\")"
   ]
  },
  {
   "cell_type": "code",
   "execution_count": 19,
   "metadata": {},
   "outputs": [
    {
     "name": "stdout",
     "output_type": "stream",
     "text": [
      "welcome\n",
      "outside loop: c= 10\n",
      "thank you\n"
     ]
    }
   ],
   "source": [
    "print(\"welcome\")\n",
    "c=0\n",
    "while c<10:\n",
    "    c=c+1\n",
    "    continue\n",
    "    print(\"print after continue\")\n",
    "print(\"outside loop: c=\",c)\n",
    "print(\"thank you\")"
   ]
  },
  {
   "cell_type": "code",
   "execution_count": 20,
   "metadata": {},
   "outputs": [
    {
     "name": "stdout",
     "output_type": "stream",
     "text": [
      "welcome\n",
      "0 is Even\n",
      "2 is Even\n",
      "4 is Even\n",
      "6 is Even\n",
      "8 is Even\n",
      "thank you\n"
     ]
    }
   ],
   "source": [
    "print(\"welcome\")\n",
    "for i in range(10):\n",
    "    if i%2==1:\n",
    "        continue\n",
    "    print(\"%s is Even\"%i)\n",
    "print(\"thank you\")"
   ]
  },
  {
   "cell_type": "code",
   "execution_count": 21,
   "metadata": {},
   "outputs": [
    {
     "name": "stdout",
     "output_type": "stream",
     "text": [
      "enter string:sdfsqwer@#$\n"
     ]
    }
   ],
   "source": [
    "s=input(\"enter string:\")\n"
   ]
  },
  {
   "cell_type": "code",
   "execution_count": 22,
   "metadata": {},
   "outputs": [
    {
     "name": "stdout",
     "output_type": "stream",
     "text": [
      "enter string:!@#$%^&\n"
     ]
    }
   ],
   "source": [
    "s=input(\"enter string:\")\n"
   ]
  },
  {
   "cell_type": "code",
   "execution_count": 23,
   "metadata": {},
   "outputs": [
    {
     "name": "stdout",
     "output_type": "stream",
     "text": [
      "enter string:qwerew\n",
      "97\n",
      "122\n",
      "65\n",
      "90\n",
      "48\n",
      "57\n"
     ]
    }
   ],
   "source": [
    "s=input(\"enter string:\")\n",
    "print(ord(\"a\"))\n",
    "print(ord(\"z\"))\n",
    "print(ord(\"A\"))\n",
    "print(ord(\"Z\"))\n",
    "print(ord(\"0\"))\n",
    "print(ord(\"9\"))\n",
    "    "
   ]
  },
  {
   "cell_type": "code",
   "execution_count": 24,
   "metadata": {},
   "outputs": [
    {
     "data": {
      "text/plain": [
       "36"
      ]
     },
     "execution_count": 24,
     "metadata": {},
     "output_type": "execute_result"
    }
   ],
   "source": [
    "ord(\"$\")"
   ]
  },
  {
   "cell_type": "code",
   "execution_count": 25,
   "metadata": {},
   "outputs": [
    {
     "name": "stdout",
     "output_type": "stream",
     "text": [
      "enter string:were23432\n",
      "not all chars are special chars\n"
     ]
    }
   ],
   "source": [
    "s=input(\"enter string:\")\n",
    "for i in s:\n",
    "    asc_value=ord(i)\n",
    "    if asc_value>= 97 and asc_value<=122:\n",
    "        print(\"not all chars are special chars\")\n",
    "        break\n",
    "    elif asc_value>= 65 and asc_value<=90:\n",
    "        print(\"not all chars are special chars\")\n",
    "        break\n",
    "    elif asc_value>= 48 and asc_value<=57:\n",
    "        print(\"not all chars are special chars\")\n",
    "        break\n",
    "else:\n",
    "    print (\"all special chars\")"
   ]
  },
  {
   "cell_type": "code",
   "execution_count": 26,
   "metadata": {},
   "outputs": [
    {
     "name": "stdout",
     "output_type": "stream",
     "text": [
      "enter string:$@#%@%%\n",
      "all special chars\n"
     ]
    }
   ],
   "source": [
    "s=input(\"enter string:\")\n",
    "for i in s:\n",
    "    asc_value=ord(i)\n",
    "    if asc_value>= 97 and asc_value<=122:\n",
    "        print(\"not all chars are special chars\")\n",
    "        break\n",
    "    elif asc_value>= 65 and asc_value<=90:\n",
    "        print(\"not all chars are special chars\")\n",
    "        break\n",
    "    elif asc_value>= 48 and asc_value<=57:\n",
    "        print(\"not all chars are special chars\")\n",
    "        break\n",
    "else:\n",
    "    print (\"all special chars\")"
   ]
  },
  {
   "cell_type": "code",
   "execution_count": 27,
   "metadata": {},
   "outputs": [
    {
     "name": "stdout",
     "output_type": "stream",
     "text": [
      "enter string:123456@#$%^qwer\n",
      "not all chars are special chars\n"
     ]
    }
   ],
   "source": [
    "s=input(\"enter string:\")\n",
    "for i in s:\n",
    "    asc_value=ord(i)\n",
    "    if asc_value>= 97 and asc_value<=122:\n",
    "        print(\"not all chars are special chars\")\n",
    "        break\n",
    "    elif asc_value>= 65 and asc_value<=90:\n",
    "        print(\"not all chars are special chars\")\n",
    "        break\n",
    "    elif asc_value>= 48 and asc_value<=57:\n",
    "        print(\"not all chars are special chars\")\n",
    "        break\n",
    "else:\n",
    "    print (\"all special chars\")"
   ]
  },
  {
   "cell_type": "code",
   "execution_count": 28,
   "metadata": {},
   "outputs": [
    {
     "name": "stdout",
     "output_type": "stream",
     "text": [
      "enter string:\n",
      "all special chars\n"
     ]
    }
   ],
   "source": [
    "s=input(\"enter string:\")\n",
    "for i in s:\n",
    "    asc_value=ord(i)\n",
    "    if asc_value>= 97 and asc_value<=122:\n",
    "        print(\"not all chars are special chars\")\n",
    "        break\n",
    "    elif asc_value>= 65 and asc_value<=90:\n",
    "        print(\"not all chars are special chars\")\n",
    "        break\n",
    "    elif asc_value>= 48 and asc_value<=57:\n",
    "        print(\"not all chars are special chars\")\n",
    "        break\n",
    "else:\n",
    "    print (\"all special chars\")"
   ]
  },
  {
   "cell_type": "code",
   "execution_count": null,
   "metadata": {},
   "outputs": [],
   "source": []
  }
 ],
 "metadata": {
  "kernelspec": {
   "display_name": "Python 3",
   "language": "python",
   "name": "python3"
  },
  "language_info": {
   "codemirror_mode": {
    "name": "ipython",
    "version": 3
   },
   "file_extension": ".py",
   "mimetype": "text/x-python",
   "name": "python",
   "nbconvert_exporter": "python",
   "pygments_lexer": "ipython3",
   "version": "3.7.0"
  }
 },
 "nbformat": 4,
 "nbformat_minor": 2
}
