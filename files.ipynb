{
 "cells": [
  {
   "cell_type": "code",
   "execution_count": 1,
   "metadata": {},
   "outputs": [],
   "source": [
    "f=open(\"data.txt\",\"w\")"
   ]
  },
  {
   "cell_type": "code",
   "execution_count": 2,
   "metadata": {},
   "outputs": [
    {
     "data": {
      "text/plain": [
       "27"
      ]
     },
     "execution_count": 2,
     "metadata": {},
     "output_type": "execute_result"
    }
   ],
   "source": [
    "f.write(\"Hello notepad, how are you?\")"
   ]
  },
  {
   "cell_type": "code",
   "execution_count": 3,
   "metadata": {},
   "outputs": [],
   "source": [
    "f.close()"
   ]
  },
  {
   "cell_type": "code",
   "execution_count": 4,
   "metadata": {},
   "outputs": [
    {
     "ename": "ValueError",
     "evalue": "I/O operation on closed file.",
     "output_type": "error",
     "traceback": [
      "\u001b[0;31m---------------------------------------------------------------------------\u001b[0m",
      "\u001b[0;31mValueError\u001b[0m                                Traceback (most recent call last)",
      "\u001b[0;32m<ipython-input-4-df21145c52ba>\u001b[0m in \u001b[0;36m<module>\u001b[0;34m()\u001b[0m\n\u001b[0;32m----> 1\u001b[0;31m \u001b[0mf\u001b[0m\u001b[0;34m.\u001b[0m\u001b[0mwrite\u001b[0m\u001b[0;34m(\u001b[0m\u001b[0;34m\"some datat\"\u001b[0m\u001b[0;34m)\u001b[0m\u001b[0;34m\u001b[0m\u001b[0m\n\u001b[0m",
      "\u001b[0;31mValueError\u001b[0m: I/O operation on closed file."
     ]
    }
   ],
   "source": [
    "f.write(\"some datat\")"
   ]
  },
  {
   "cell_type": "code",
   "execution_count": 5,
   "metadata": {},
   "outputs": [],
   "source": [
    "f=open(\"data.txt\",\"w\")"
   ]
  },
  {
   "cell_type": "code",
   "execution_count": 6,
   "metadata": {},
   "outputs": [
    {
     "data": {
      "text/plain": [
       "27"
      ]
     },
     "execution_count": 6,
     "metadata": {},
     "output_type": "execute_result"
    }
   ],
   "source": [
    "f.write(\"Hello notepad, how are you?\")"
   ]
  },
  {
   "cell_type": "code",
   "execution_count": 7,
   "metadata": {},
   "outputs": [],
   "source": [
    "f.flush()"
   ]
  },
  {
   "cell_type": "code",
   "execution_count": 8,
   "metadata": {},
   "outputs": [
    {
     "data": {
      "text/plain": [
       "9"
      ]
     },
     "execution_count": 8,
     "metadata": {},
     "output_type": "execute_result"
    }
   ],
   "source": [
    "f.write(\"some data\")"
   ]
  },
  {
   "cell_type": "code",
   "execution_count": 9,
   "metadata": {},
   "outputs": [],
   "source": [
    "f.close()"
   ]
  },
  {
   "cell_type": "code",
   "execution_count": 10,
   "metadata": {},
   "outputs": [],
   "source": [
    "f=open(\"data.txt\",\"a\")\n",
    "f.write(\"\\n this is appending after open a file in append mode\")\n",
    "f.close()"
   ]
  },
  {
   "cell_type": "code",
   "execution_count": 12,
   "metadata": {},
   "outputs": [
    {
     "name": "stdout",
     "output_type": "stream",
     "text": [
      "enter name:jay\n",
      "enter age:23\n",
      "Enter sal:432543\n"
     ]
    }
   ],
   "source": [
    "# name,age,sal\n",
    "name=input(\"enter name:\")\n",
    "age=input(\"enter age:\")\n",
    "sal=input(\"Enter sal:\")\n",
    "row=\"%s,%s,%s\\n\"%(name,age,sal)\n",
    "f=open(\"emp.txt\",\"a\")\n",
    "f.write(row)\n",
    "f.close()\n"
   ]
  },
  {
   "cell_type": "code",
   "execution_count": 13,
   "metadata": {},
   "outputs": [
    {
     "name": "stdout",
     "output_type": "stream",
     "text": [
      "enter name:vedha\n",
      "enter age:23\n",
      "Enter sal:5346\n"
     ]
    }
   ],
   "source": [
    "# name,age,sal\n",
    "name=input(\"enter name:\")\n",
    "age=input(\"enter age:\")\n",
    "sal=input(\"Enter sal:\")\n",
    "row=\"%s,%s,%s\\n\"%(name,age,sal)\n",
    "f=open(\"emp.txt\",\"a\")\n",
    "f.write(row)\n",
    "f.close()\n"
   ]
  },
  {
   "cell_type": "code",
   "execution_count": 14,
   "metadata": {},
   "outputs": [
    {
     "name": "stdout",
     "output_type": "stream",
     "text": [
      "enter name:sai\n",
      "enter age:23\n",
      "Enter sal:456\n"
     ]
    }
   ],
   "source": [
    "# name,age,sal\n",
    "name=input(\"enter name:\")\n",
    "age=input(\"enter age:\")\n",
    "sal=input(\"Enter sal:\")\n",
    "row=\"%s,%s,%s\\n\"%(name,age,sal)\n",
    "f=open(\"emp.txt\",\"a\")\n",
    "f.write(row)\n",
    "f.close()\n"
   ]
  },
  {
   "cell_type": "code",
   "execution_count": 15,
   "metadata": {},
   "outputs": [
    {
     "name": "stdout",
     "output_type": "stream",
     "text": [
      "jay,23,432543\n",
      "vedha,23,5346\n",
      "sai,23,456\n",
      "\n"
     ]
    }
   ],
   "source": [
    "f=open(\"emp.txt\",\"r\")\n",
    "data=f.read()\n",
    "print(data)"
   ]
  },
  {
   "cell_type": "code",
   "execution_count": 18,
   "metadata": {},
   "outputs": [
    {
     "name": "stdout",
     "output_type": "stream",
     "text": [
      "jay,23,432\n",
      "543\n",
      "vedha,\n"
     ]
    }
   ],
   "source": [
    "f=open(\"emp.txt\",\"r\")\n",
    "data=f.read(10)\n",
    "data1=f.read(10)\n",
    "print(data)\n",
    "print(data1)"
   ]
  },
  {
   "cell_type": "code",
   "execution_count": 19,
   "metadata": {},
   "outputs": [],
   "source": [
    "f=open(\"emp.txt\",\"r\")"
   ]
  },
  {
   "cell_type": "code",
   "execution_count": 20,
   "metadata": {},
   "outputs": [
    {
     "data": {
      "text/plain": [
       "'jay,23,432'"
      ]
     },
     "execution_count": 20,
     "metadata": {},
     "output_type": "execute_result"
    }
   ],
   "source": [
    "f.read(10)"
   ]
  },
  {
   "cell_type": "code",
   "execution_count": 21,
   "metadata": {},
   "outputs": [
    {
     "data": {
      "text/plain": [
       "'543\\nvedha,'"
      ]
     },
     "execution_count": 21,
     "metadata": {},
     "output_type": "execute_result"
    }
   ],
   "source": [
    "f.read(10)"
   ]
  },
  {
   "cell_type": "code",
   "execution_count": 22,
   "metadata": {},
   "outputs": [
    {
     "data": {
      "text/plain": [
       "'23,5346\\nsa'"
      ]
     },
     "execution_count": 22,
     "metadata": {},
     "output_type": "execute_result"
    }
   ],
   "source": [
    "f.read(10)"
   ]
  },
  {
   "cell_type": "code",
   "execution_count": 23,
   "metadata": {},
   "outputs": [
    {
     "data": {
      "text/plain": [
       "'i,23,456\\n'"
      ]
     },
     "execution_count": 23,
     "metadata": {},
     "output_type": "execute_result"
    }
   ],
   "source": [
    "f.read(10)"
   ]
  },
  {
   "cell_type": "code",
   "execution_count": 24,
   "metadata": {},
   "outputs": [
    {
     "data": {
      "text/plain": [
       "''"
      ]
     },
     "execution_count": 24,
     "metadata": {},
     "output_type": "execute_result"
    }
   ],
   "source": [
    "f.read(10)"
   ]
  },
  {
   "cell_type": "code",
   "execution_count": 25,
   "metadata": {},
   "outputs": [],
   "source": [
    "f=open(\"emp.txt\",\"r\")"
   ]
  },
  {
   "cell_type": "code",
   "execution_count": 26,
   "metadata": {},
   "outputs": [
    {
     "data": {
      "text/plain": [
       "'jay,23,432543\\n'"
      ]
     },
     "execution_count": 26,
     "metadata": {},
     "output_type": "execute_result"
    }
   ],
   "source": [
    "f.readline()"
   ]
  },
  {
   "cell_type": "code",
   "execution_count": 27,
   "metadata": {},
   "outputs": [
    {
     "data": {
      "text/plain": [
       "'vedha,23,5346\\n'"
      ]
     },
     "execution_count": 27,
     "metadata": {},
     "output_type": "execute_result"
    }
   ],
   "source": [
    "f.readline()"
   ]
  },
  {
   "cell_type": "code",
   "execution_count": 28,
   "metadata": {},
   "outputs": [
    {
     "data": {
      "text/plain": [
       "'sai,23,456\\n'"
      ]
     },
     "execution_count": 28,
     "metadata": {},
     "output_type": "execute_result"
    }
   ],
   "source": [
    "f.readline()"
   ]
  },
  {
   "cell_type": "code",
   "execution_count": 29,
   "metadata": {},
   "outputs": [
    {
     "data": {
      "text/plain": [
       "''"
      ]
     },
     "execution_count": 29,
     "metadata": {},
     "output_type": "execute_result"
    }
   ],
   "source": [
    "f.readline()"
   ]
  },
  {
   "cell_type": "code",
   "execution_count": 30,
   "metadata": {},
   "outputs": [
    {
     "data": {
      "text/plain": [
       "['jay,23,432543\\n', 'vedha,23,5346\\n', 'sai,23,456\\n']"
      ]
     },
     "execution_count": 30,
     "metadata": {},
     "output_type": "execute_result"
    }
   ],
   "source": [
    "f=open(\"emp.txt\",\"r\")\n",
    "f.readlines()"
   ]
  },
  {
   "cell_type": "code",
   "execution_count": 31,
   "metadata": {},
   "outputs": [
    {
     "name": "stdout",
     "output_type": "stream",
     "text": [
      "jay,23,432543\n",
      "\n",
      "vedha,23,5346\n",
      "\n",
      "sai,23,456\n",
      "\n"
     ]
    }
   ],
   "source": [
    "f=open(\"emp.txt\",\"r\")\n",
    "for row in f:\n",
    "    print (row)"
   ]
  },
  {
   "cell_type": "code",
   "execution_count": 32,
   "metadata": {},
   "outputs": [
    {
     "name": "stdout",
     "output_type": "stream",
     "text": [
      "['jay', '23', '432543\\n']\n",
      "['vedha', '23', '5346\\n']\n",
      "['sai', '23', '456\\n']\n"
     ]
    }
   ],
   "source": [
    "f=open(\"emp.txt\",\"r\")\n",
    "for row in f:\n",
    "    print (row.split(','))"
   ]
  },
  {
   "cell_type": "code",
   "execution_count": 33,
   "metadata": {},
   "outputs": [
    {
     "name": "stdout",
     "output_type": "stream",
     "text": [
      "jay\n",
      "vedha\n",
      "sai\n"
     ]
    }
   ],
   "source": [
    "f=open(\"emp.txt\",\"r\")\n",
    "for row in f:\n",
    "    print (row.split(',')[0])"
   ]
  },
  {
   "cell_type": "code",
   "execution_count": 34,
   "metadata": {},
   "outputs": [
    {
     "name": "stdout",
     "output_type": "stream",
     "text": [
      "432543\n",
      "\n",
      "5346\n",
      "\n",
      "456\n",
      "\n"
     ]
    }
   ],
   "source": [
    "f=open(\"emp.txt\",\"r\")\n",
    "for row in f:\n",
    "    print (row.split(',')[-1])"
   ]
  },
  {
   "cell_type": "code",
   "execution_count": 35,
   "metadata": {},
   "outputs": [
    {
     "name": "stdout",
     "output_type": "stream",
     "text": [
      "432543\n",
      "5346\n",
      "456\n"
     ]
    }
   ],
   "source": [
    "f=open(\"emp.txt\",\"r\")\n",
    "for row in f:\n",
    "    print (row.split(',')[-1].strip())"
   ]
  },
  {
   "cell_type": "code",
   "execution_count": 37,
   "metadata": {},
   "outputs": [
    {
     "name": "stdout",
     "output_type": "stream",
     "text": [
      "['432543', '5346', '456']\n"
     ]
    }
   ],
   "source": [
    "f=open(\"emp.txt\",\"r\")\n",
    "salaries=[]\n",
    "for row in f:\n",
    "    salaries.append(row.split(',')[-1].strip())\n",
    "print (salaries)"
   ]
  },
  {
   "cell_type": "code",
   "execution_count": 38,
   "metadata": {},
   "outputs": [
    {
     "name": "stdout",
     "output_type": "stream",
     "text": [
      "[432543, 5346, 456]\n"
     ]
    }
   ],
   "source": [
    "f=open(\"emp.txt\",\"r\")\n",
    "salaries=[]\n",
    "for row in f:\n",
    "    salaries.append(int(row.split(',')[-1].strip()))\n",
    "print (salaries)"
   ]
  },
  {
   "cell_type": "code",
   "execution_count": 39,
   "metadata": {},
   "outputs": [
    {
     "name": "stdout",
     "output_type": "stream",
     "text": [
      "[432543, 5346, 456]\n"
     ]
    }
   ],
   "source": [
    "f=open(\"emp.txt\",\"r\")\n",
    "salaries=[]\n",
    "for row in f:\n",
    "    sal= row.split(',')[-1]\n",
    "    sal_without_sace_cahar = sal.strip()\n",
    "    sal_int=int(sal_without_sace_cahar)\n",
    "    salaries.append(sal_int)\n",
    "print (salaries)"
   ]
  },
  {
   "cell_type": "code",
   "execution_count": 41,
   "metadata": {},
   "outputs": [
    {
     "name": "stdout",
     "output_type": "stream",
     "text": [
      "146115.0\n"
     ]
    }
   ],
   "source": [
    "f=open(\"emp.txt\",\"r\")\n",
    "salaries=[]\n",
    "for row in f:\n",
    "    sal= row.split(',')[-1]\n",
    "    sal_without_sace_cahar = sal.strip()\n",
    "    sal_int=int(sal_without_sace_cahar)\n",
    "    salaries.append(sal_int)\n",
    "print (sum(salaries)/len(salaries))"
   ]
  },
  {
   "cell_type": "code",
   "execution_count": 42,
   "metadata": {},
   "outputs": [
    {
     "name": "stdout",
     "output_type": "stream",
     "text": [
      "jay,23,432543\n",
      "vedha,24,5346\n",
      "sai,23,456\n",
      "\n",
      "jay,26,432543\n",
      "vedha,24,5346\n",
      "sai,26,456\n",
      "\n"
     ]
    }
   ],
   "source": [
    "f=open(\"emp.txt\",\"r\")\n",
    "data=f.read()\n",
    "f.close()\n",
    "print(data)\n",
    "data_new = data.replace(\",23,\",\",26,\")\n",
    "print(data_new)\n"
   ]
  },
  {
   "cell_type": "code",
   "execution_count": 43,
   "metadata": {},
   "outputs": [
    {
     "name": "stdout",
     "output_type": "stream",
     "text": [
      "jay,23,432543\n",
      "vedha,24,5346\n",
      "sai,23,456\n",
      "\n",
      "jay,26,432543\n",
      "vedha,24,5346\n",
      "sai,26,456\n",
      "\n"
     ]
    }
   ],
   "source": [
    "f=open(\"emp.txt\",\"r\")\n",
    "data=f.read()\n",
    "f.close()\n",
    "print(data)\n",
    "data_new = data.replace(\",23,\",\",26,\")\n",
    "print(data_new)\n",
    "f=open(\"emp.txt\",\"w\")\n",
    "f.write(data_new)\n",
    "f.close()"
   ]
  },
  {
   "cell_type": "code",
   "execution_count": 44,
   "metadata": {},
   "outputs": [
    {
     "ename": "FileNotFoundError",
     "evalue": "[Errno 2] No such file or directory: 'bahubali2.mp4'",
     "output_type": "error",
     "traceback": [
      "\u001b[0;31m---------------------------------------------------------------------------\u001b[0m",
      "\u001b[0;31mFileNotFoundError\u001b[0m                         Traceback (most recent call last)",
      "\u001b[0;32m<ipython-input-44-cb8cfa33e37a>\u001b[0m in \u001b[0;36m<module>\u001b[0;34m()\u001b[0m\n\u001b[0;32m----> 1\u001b[0;31m \u001b[0mf\u001b[0m\u001b[0;34m=\u001b[0m\u001b[0mopen\u001b[0m\u001b[0;34m(\u001b[0m\u001b[0;34m\"bahubali2.mp4\"\u001b[0m\u001b[0;34m,\u001b[0m\u001b[0;34m\"r\"\u001b[0m\u001b[0;34m)\u001b[0m\u001b[0;34m\u001b[0m\u001b[0m\n\u001b[0m\u001b[1;32m      2\u001b[0m \u001b[0mf\u001b[0m\u001b[0;34m.\u001b[0m\u001b[0mread\u001b[0m\u001b[0;34m(\u001b[0m\u001b[0;34m)\u001b[0m\u001b[0;34m\u001b[0m\u001b[0m\n",
      "\u001b[0;31mFileNotFoundError\u001b[0m: [Errno 2] No such file or directory: 'bahubali2.mp4'"
     ]
    }
   ],
   "source": [
    "f=open(\"bahubali2.mp4\",\"r\")\n",
    "f.read()"
   ]
  },
  {
   "cell_type": "code",
   "execution_count": 47,
   "metadata": {},
   "outputs": [],
   "source": [
    "f=open(\"exec.jpg\",\"rb\")\n",
    "data=f.read()\n",
    "f=open(\"bigfile.jpg\",\"a\")\n",
    "for i in range(10):\n",
    "    f.write(str(data))\n",
    "    f.flush()\n",
    "f.close()"
   ]
  },
  {
   "cell_type": "code",
   "execution_count": null,
   "metadata": {},
   "outputs": [],
   "source": []
  }
 ],
 "metadata": {
  "kernelspec": {
   "display_name": "Python 3",
   "language": "python",
   "name": "python3"
  },
  "language_info": {
   "codemirror_mode": {
    "name": "ipython",
    "version": 3
   },
   "file_extension": ".py",
   "mimetype": "text/x-python",
   "name": "python",
   "nbconvert_exporter": "python",
   "pygments_lexer": "ipython3",
   "version": "3.7.0"
  }
 },
 "nbformat": 4,
 "nbformat_minor": 2
}
