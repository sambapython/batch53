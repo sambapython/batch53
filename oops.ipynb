{
 "cells": [
  {
   "cell_type": "code",
   "execution_count": 1,
   "metadata": {},
   "outputs": [
    {
     "name": "stdout",
     "output_type": "stream",
     "text": [
      "this is class\n"
     ]
    }
   ],
   "source": [
    "def fun():\n",
    "    print(\"this is fun\")\n",
    "class Emp:\n",
    "    print(\"this is class\")\n"
   ]
  },
  {
   "cell_type": "code",
   "execution_count": 2,
   "metadata": {},
   "outputs": [
    {
     "name": "stdout",
     "output_type": "stream",
     "text": [
      "this is class\n"
     ]
    }
   ],
   "source": [
    "class Emp:\n",
    "    print(\"this is class\")\n",
    "    def fun(a):\n",
    "        print(\"this is fun in class Emp\")\n"
   ]
  },
  {
   "cell_type": "code",
   "execution_count": 3,
   "metadata": {},
   "outputs": [
    {
     "name": "stdout",
     "output_type": "stream",
     "text": [
      "this is class\n",
      "KHYAATHI\n",
      "this is fun in class Emp\n"
     ]
    }
   ],
   "source": [
    "class Emp:\n",
    "    print(\"this is class\")\n",
    "    company_name=\"KHYAATHI\"\n",
    "    def fun(a):\n",
    "        print(\"this is fun in class Emp\")\n",
    "    print(company_name)\n",
    "    fun(20)\n"
   ]
  },
  {
   "cell_type": "code",
   "execution_count": 4,
   "metadata": {},
   "outputs": [
    {
     "name": "stdout",
     "output_type": "stream",
     "text": [
      "this is class\n"
     ]
    },
    {
     "ename": "NameError",
     "evalue": "name 'company_name' is not defined",
     "output_type": "error",
     "traceback": [
      "\u001b[0;31m---------------------------------------------------------------------------\u001b[0m",
      "\u001b[0;31mNameError\u001b[0m                                 Traceback (most recent call last)",
      "\u001b[0;32m<ipython-input-4-e02ae3160825>\u001b[0m in \u001b[0;36m<module>\u001b[0;34m()\u001b[0m\n\u001b[1;32m      4\u001b[0m     \u001b[0;32mdef\u001b[0m \u001b[0msal_cal\u001b[0m\u001b[0;34m(\u001b[0m\u001b[0ma\u001b[0m\u001b[0;34m)\u001b[0m\u001b[0;34m:\u001b[0m\u001b[0;34m\u001b[0m\u001b[0m\n\u001b[1;32m      5\u001b[0m         \u001b[0mprint\u001b[0m\u001b[0;34m(\u001b[0m\u001b[0;34m\"this is fun in class Emp\"\u001b[0m\u001b[0;34m)\u001b[0m\u001b[0;34m\u001b[0m\u001b[0m\n\u001b[0;32m----> 6\u001b[0;31m \u001b[0mprint\u001b[0m\u001b[0;34m(\u001b[0m\u001b[0mcompany_name\u001b[0m\u001b[0;34m)\u001b[0m\u001b[0;34m\u001b[0m\u001b[0m\n\u001b[0m\u001b[1;32m      7\u001b[0m \u001b[0msal_cal\u001b[0m\u001b[0;34m(\u001b[0m\u001b[0;36m20\u001b[0m\u001b[0;34m)\u001b[0m\u001b[0;34m\u001b[0m\u001b[0m\n",
      "\u001b[0;31mNameError\u001b[0m: name 'company_name' is not defined"
     ]
    }
   ],
   "source": [
    "class Emp:\n",
    "    print(\"this is class\")\n",
    "    company_name=\"KHYAATHI\"\n",
    "    def sal_cal(a):\n",
    "        print(\"this is fun in class Emp\")\n",
    "print(company_name)\n",
    "sal_cal(20)\n"
   ]
  },
  {
   "cell_type": "code",
   "execution_count": 5,
   "metadata": {},
   "outputs": [
    {
     "name": "stdout",
     "output_type": "stream",
     "text": [
      "this is class\n",
      "KHYAATHI\n",
      "this is fun in class Emp\n"
     ]
    }
   ],
   "source": [
    "class Emp:\n",
    "    print(\"this is class\")\n",
    "    company_name=\"KHYAATHI\" # attribute\n",
    "    def sal_cal(a): # method or operation\n",
    "        print(\"this is fun in class Emp\")\n",
    "print(Emp.company_name)\n",
    "Emp.sal_cal(20)\n"
   ]
  },
  {
   "cell_type": "code",
   "execution_count": 6,
   "metadata": {},
   "outputs": [
    {
     "name": "stdout",
     "output_type": "stream",
     "text": [
      "this is class\n",
      "KHYAATHI\n",
      "this is fun in class Emp\n"
     ]
    }
   ],
   "source": [
    "class Emp:\n",
    "    print(\"this is class\")\n",
    "    company_name=\"KHYAATHI\" # attribute\n",
    "    def sal_cal(a): # method or operation\n",
    "        print(\"this is fun in class Emp\")\n",
    "print(Emp.company_name)\n",
    "jay = Emp() # instance creation, jay is an instance, Emp() is data object, Emp is a class object\n",
    "Emp.sal_cal(jay)\n"
   ]
  },
  {
   "cell_type": "code",
   "execution_count": 7,
   "metadata": {},
   "outputs": [
    {
     "name": "stdout",
     "output_type": "stream",
     "text": [
      "this is class\n",
      "KHYAATHI\n",
      "Jayaram 40000\n"
     ]
    }
   ],
   "source": [
    "class Emp:\n",
    "    print(\"this is class\")\n",
    "    company_name=\"KHYAATHI\" # attribute\n",
    "    def sal_cal(a): # method or operation\n",
    "        print(\"this is fun in class Emp\")\n",
    "print(Emp.company_name)\n",
    "jay = Emp() # instance creation, jay is an instance, Emp() is data object, Emp is a class object\n",
    "vedha=Emp()\n",
    "sai=Emp()\n",
    "jay.name=\"Jayaram\"\n",
    "vedha.name=\"Vedhanvesh\"\n",
    "sai.name=\"Sailaxmi\"\n",
    "sai.sal=50000\n",
    "jay.sal=40000\n",
    "vedha.sal=30000\n",
    "print(jay.name,jay.sal)"
   ]
  },
  {
   "cell_type": "code",
   "execution_count": 8,
   "metadata": {},
   "outputs": [
    {
     "name": "stdout",
     "output_type": "stream",
     "text": [
      "this is class\n",
      "KHYAATHI\n",
      "calculation sal of Vedhanvesh\n",
      "33000.0\n"
     ]
    }
   ],
   "source": [
    "class Emp:\n",
    "    print(\"this is class\")\n",
    "    company_name=\"KHYAATHI\" # attribute\n",
    "    def sal_cal(a): # method or operation\n",
    "        print(\"calculation sal of %s\"%a.name)\n",
    "        res=a.sal+a.sal*0.1\n",
    "        print(res)\n",
    "print(Emp.company_name)\n",
    "jay = Emp() # instance creation, jay is an instance, Emp() is data object, Emp is a class object\n",
    "vedha=Emp()\n",
    "sai=Emp()\n",
    "jay.name=\"Jayaram\"\n",
    "vedha.name=\"Vedhanvesh\"\n",
    "sai.name=\"Sailaxmi\"\n",
    "sai.sal=50000\n",
    "jay.sal=40000\n",
    "vedha.sal=30000\n",
    "Emp.sal_cal(vedha)"
   ]
  },
  {
   "cell_type": "code",
   "execution_count": 10,
   "metadata": {},
   "outputs": [
    {
     "name": "stdout",
     "output_type": "stream",
     "text": [
      "calculation sal of Vedhanvesh\n",
      "33000.0\n",
      "calculation sal of Sailaxmi\n",
      "55000.0\n",
      "calculation sal of Jayaram\n",
      "44000.0\n"
     ]
    }
   ],
   "source": [
    "class Emp:\n",
    "    company_name=\"KHYAATHI\" # attribute\n",
    "    def sal_cal(a): # method or operation\n",
    "        print(\"calculation sal of %s\"%a.name)\n",
    "        res=a.sal+a.sal*0.1\n",
    "        print(res)\n",
    "jay = Emp() # instance creation, jay is an instance, Emp() is data object, Emp is a reference class object\n",
    "vedha=Emp()\n",
    "sai=Emp()\n",
    "jay.name=\"Jayaram\"\n",
    "vedha.name=\"Vedhanvesh\"\n",
    "sai.name=\"Sailaxmi\"\n",
    "sai.sal=50000\n",
    "jay.sal=40000\n",
    "vedha.sal=30000\n",
    "Emp.sal_cal(vedha)\n",
    "Emp.sal_cal(sai)\n",
    "Emp.sal_cal(jay)"
   ]
  },
  {
   "cell_type": "code",
   "execution_count": 12,
   "metadata": {},
   "outputs": [
    {
     "name": "stdout",
     "output_type": "stream",
     "text": [
      "KHYAATHI\n",
      "KHYAATHI\n",
      "KHYAATHI\n"
     ]
    }
   ],
   "source": [
    "class Emp:\n",
    "    company_name=\"KHYAATHI\" # attribute\n",
    "    def sal_cal(a): # method or operation\n",
    "        print(\"calculation sal of %s\"%a.name)\n",
    "        res=a.sal+a.sal*0.1\n",
    "        print(res)\n",
    "jay = Emp() # instance creation, jay is an instance, Emp() is data object, Emp is a reference class object\n",
    "vedha=Emp()\n",
    "sai=Emp()\n",
    "jay.name=\"Jayaram\"\n",
    "vedha.name=\"Vedhanvesh\"\n",
    "sai.name=\"Sailaxmi\"\n",
    "sai.sal=50000\n",
    "jay.sal=40000\n",
    "vedha.sal=30000\n",
    "print(jay.company_name)\n",
    "print(vedha.company_name)\n",
    "print(sai.company_name)\n",
    "    "
   ]
  },
  {
   "cell_type": "code",
   "execution_count": 13,
   "metadata": {},
   "outputs": [
    {
     "name": "stdout",
     "output_type": "stream",
     "text": [
      "KHYAATHI\n",
      "KHYAATHI\n",
      "KHYAATHI\n"
     ]
    },
    {
     "ename": "AttributeError",
     "evalue": "type object 'Emp' has no attribute 'name'",
     "output_type": "error",
     "traceback": [
      "\u001b[0;31m---------------------------------------------------------------------------\u001b[0m",
      "\u001b[0;31mAttributeError\u001b[0m                            Traceback (most recent call last)",
      "\u001b[0;32m<ipython-input-13-6b5601097c51>\u001b[0m in \u001b[0;36m<module>\u001b[0;34m()\u001b[0m\n\u001b[1;32m     17\u001b[0m \u001b[0mprint\u001b[0m\u001b[0;34m(\u001b[0m\u001b[0mvedha\u001b[0m\u001b[0;34m.\u001b[0m\u001b[0mcompany_name\u001b[0m\u001b[0;34m)\u001b[0m\u001b[0;34m\u001b[0m\u001b[0m\n\u001b[1;32m     18\u001b[0m \u001b[0mprint\u001b[0m\u001b[0;34m(\u001b[0m\u001b[0msai\u001b[0m\u001b[0;34m.\u001b[0m\u001b[0mcompany_name\u001b[0m\u001b[0;34m)\u001b[0m\u001b[0;34m\u001b[0m\u001b[0m\n\u001b[0;32m---> 19\u001b[0;31m \u001b[0mprint\u001b[0m\u001b[0;34m(\u001b[0m\u001b[0mEmp\u001b[0m\u001b[0;34m.\u001b[0m\u001b[0mname\u001b[0m\u001b[0;34m)\u001b[0m\u001b[0;34m\u001b[0m\u001b[0m\n\u001b[0m",
      "\u001b[0;31mAttributeError\u001b[0m: type object 'Emp' has no attribute 'name'"
     ]
    }
   ],
   "source": [
    "class Emp:\n",
    "    company_name=\"KHYAATHI\" # attribute\n",
    "    def sal_cal(a): # method or operation\n",
    "        print(\"calculation sal of %s\"%a.name)\n",
    "        res=a.sal+a.sal*0.1\n",
    "        print(res)\n",
    "jay = Emp() # instance creation, jay is an instance, Emp() is data object, Emp is a reference class object\n",
    "vedha=Emp()\n",
    "sai=Emp()\n",
    "jay.name=\"Jayaram\"\n",
    "vedha.name=\"Vedhanvesh\"\n",
    "sai.name=\"Sailaxmi\"\n",
    "sai.sal=50000\n",
    "jay.sal=40000\n",
    "vedha.sal=30000\n",
    "print(jay.company_name)\n",
    "print(vedha.company_name)\n",
    "print(sai.company_name)\n",
    "print(Emp.name)"
   ]
  },
  {
   "cell_type": "code",
   "execution_count": 14,
   "metadata": {},
   "outputs": [
    {
     "name": "stdout",
     "output_type": "stream",
     "text": [
      "KHYAATHI\n",
      "KHYAATHI\n",
      "KHYAATHI\n",
      "calculation sal of Jayaram\n",
      "44000.0\n"
     ]
    }
   ],
   "source": [
    "class Emp:\n",
    "    company_name=\"KHYAATHI\" # attribute\n",
    "    def sal_cal(a): # method or operation\n",
    "        print(\"calculation sal of %s\"%a.name)\n",
    "        res=a.sal+a.sal*0.1\n",
    "        print(res)\n",
    "        \n",
    "jay = Emp() # instance creation, jay is an instance, Emp() is data object, Emp is a reference class object\n",
    "vedha=Emp()\n",
    "sai=Emp()\n",
    "jay.name=\"Jayaram\"\n",
    "vedha.name=\"Vedhanvesh\"\n",
    "sai.name=\"Sailaxmi\"\n",
    "sai.sal=50000\n",
    "jay.sal=40000\n",
    "vedha.sal=30000\n",
    "jay.dept=\"HR\"\n",
    "\n",
    "print(jay.company_name)\n",
    "print(vedha.company_name)\n",
    "print(sai.company_name)\n",
    "jay.sal_cal()"
   ]
  },
  {
   "cell_type": "code",
   "execution_count": 16,
   "metadata": {},
   "outputs": [
    {
     "name": "stdout",
     "output_type": "stream",
     "text": [
      "calculation sal of Jayaram\n",
      "44000.0\n",
      "calculation sal of Vedhanvesh\n",
      "33000.0\n",
      "calculation sal of Sailaxmi\n",
      "55000.0\n"
     ]
    }
   ],
   "source": [
    "class Emp:\n",
    "    company_name=\"KHYAATHI\" # attribute\n",
    "    def sal_cal(a): # method or operation\n",
    "        print(\"calculation sal of %s\"%a.name)\n",
    "        res=a.sal+a.sal*0.1\n",
    "        print(res)\n",
    "        \n",
    "jay = Emp() # instance creation, jay is an instance, Emp() is data object, Emp is a reference class object\n",
    "vedha=Emp()\n",
    "sai=Emp()\n",
    "jay.name=\"Jayaram\"\n",
    "vedha.name=\"Vedhanvesh\"\n",
    "sai.name=\"Sailaxmi\"\n",
    "sai.sal=50000\n",
    "jay.sal=40000\n",
    "vedha.sal=30000\n",
    "jay.dept=\"HR\"\n",
    "\n",
    "jay.sal_cal()\n",
    "vedha.sal_cal()\n",
    "sai.sal_cal()"
   ]
  },
  {
   "cell_type": "code",
   "execution_count": 18,
   "metadata": {},
   "outputs": [
    {
     "name": "stdout",
     "output_type": "stream",
     "text": [
      "calculation sal of Vedhanvesh\n",
      "33000.0\n"
     ]
    }
   ],
   "source": [
    "class Emp:\n",
    "    company_name=\"KHYAATHI\" # attribute\n",
    "    def sal_cal(a): # method or operation\n",
    "        print(\"calculation sal of %s\"%a.name)\n",
    "        res=a.sal+a.sal*0.1\n",
    "        print(res)\n",
    "        \n",
    "jay = Emp() # instance creation, jay is an instance, Emp() is data object, Emp is a reference class object\n",
    "vedha=Emp()\n",
    "sai=Emp()\n",
    "jay.name=\"Jayaram\"\n",
    "vedha.name=\"Vedhanvesh\"\n",
    "sai.name=\"Sailaxmi\"\n",
    "sai.sal=50000\n",
    "jay.sal=40000\n",
    "vedha.sal=30000\n",
    "jay.dept=\"HR\"\n",
    "Emp.sal_cal(vedha)\n",
    "#jay.sal_cal()\n",
    "#vedha.sal_cal()\n",
    "#sai.sal_cal()"
   ]
  },
  {
   "cell_type": "code",
   "execution_count": 19,
   "metadata": {},
   "outputs": [
    {
     "name": "stdout",
     "output_type": "stream",
     "text": [
      "calculation sal of Vedhanvesh\n",
      "33000.0\n"
     ]
    }
   ],
   "source": [
    "class Emp:\n",
    "    company_name=\"KHYAATHI\" # attribute\n",
    "    def sal_cal(a): # method or operation\n",
    "        print(\"calculation sal of %s\"%a.name)\n",
    "        res=a.sal+a.sal*0.1\n",
    "        print(res)\n",
    "        \n",
    "jay = Emp() # instance creation, jay is an instance, Emp() is data object, Emp is a reference class object\n",
    "vedha=Emp()\n",
    "sai=Emp()\n",
    "jay.name=\"Jayaram\"\n",
    "vedha.name=\"Vedhanvesh\"\n",
    "sai.name=\"Sailaxmi\"\n",
    "sai.sal=50000\n",
    "jay.sal=40000\n",
    "vedha.sal=30000\n",
    "jay.dept=\"HR\"\n",
    "vedha.sal_cal()\n",
    "#Emp.sal_cal(vedha)\n",
    "#jay.sal_cal()\n",
    "#vedha.sal_cal()\n",
    "#sai.sal_cal()"
   ]
  },
  {
   "cell_type": "code",
   "execution_count": 20,
   "metadata": {},
   "outputs": [
    {
     "name": "stdout",
     "output_type": "stream",
     "text": [
      "calculation sal of Vedhanvesh\n",
      "33000.0\n",
      "calculation sal of Jayaram\n",
      "44000.0\n",
      "calculation sal of Sailaxmi\n",
      "55000.0\n"
     ]
    }
   ],
   "source": [
    "class Emp:\n",
    "    company_name=\"KHYAATHI\" # attribute\n",
    "    def sal_cal(a): # method or operation\n",
    "        print(\"calculation sal of %s\"%a.name)\n",
    "        res=a.sal+a.sal*0.1\n",
    "        print(res)\n",
    "        \n",
    "jay = Emp() # instance creation, jay is an instance, Emp() is data object, Emp is a reference class object\n",
    "vedha=Emp()\n",
    "sai=Emp()\n",
    "jay.name=\"Jayaram\"\n",
    "vedha.name=\"Vedhanvesh\"\n",
    "sai.name=\"Sailaxmi\"\n",
    "sai.sal=50000\n",
    "jay.sal=40000\n",
    "vedha.sal=30000\n",
    "jay.dept=\"HR\"\n",
    "vedha.sal_cal()\n",
    "jay.sal_cal()\n",
    "sai.sal_cal()"
   ]
  },
  {
   "cell_type": "code",
   "execution_count": 22,
   "metadata": {},
   "outputs": [
    {
     "name": "stdout",
     "output_type": "stream",
     "text": [
      "calculation sal of Vedhanvesh\n",
      "33000.0\n",
      "calculation sal of Jayaram\n",
      "44000.0\n",
      "calculation sal of Sailaxmi\n",
      "55000.0\n"
     ]
    }
   ],
   "source": [
    "class Emp:\n",
    "    company_name=\"KHYAATHI\" # attribute\n",
    "    def sal_cal(self): # method or operation\n",
    "        print(\"calculation sal of %s\"%self.name)\n",
    "        res=self.sal+self.sal*0.1\n",
    "        print(res)\n",
    "        \n",
    "jay = Emp() # instance creation, jay is an instance, Emp() is data object, Emp is a reference class object\n",
    "vedha=Emp()\n",
    "sai=Emp()\n",
    "jay.name=\"Jayaram\"\n",
    "vedha.name=\"Vedhanvesh\"\n",
    "sai.name=\"Sailaxmi\"\n",
    "sai.sal=50000\n",
    "jay.sal=40000\n",
    "vedha.sal=30000\n",
    "jay.dept=\"HR\"\n",
    "vedha.sal_cal()\n",
    "# Emp.sal_cal(vedha)\n",
    "jay.sal_cal()\n",
    "#Emp.sal_cal(jay)\n",
    "sai.sal_cal()\n",
    "#Emp.sal_cal(sai)"
   ]
  },
  {
   "cell_type": "code",
   "execution_count": 23,
   "metadata": {},
   "outputs": [
    {
     "name": "stdout",
     "output_type": "stream",
     "text": [
      "calculation sal of Vedhanvesh\n",
      "33000.0\n",
      "calculation sal of Jayaram\n",
      "44000.0\n",
      "calculation sal of Sail laxmi\n",
      "55000.0\n"
     ]
    }
   ],
   "source": [
    "class Emp:\n",
    "    company_name=\"KHYAATHI\" # attribute\n",
    "    def set_data(self, e_name, e_sal):\n",
    "        self.name=e_name\n",
    "        self.sal=e_sal\n",
    "    def sal_cal(self): # method or operation\n",
    "        print(\"calculation sal of %s\"%self.name)\n",
    "        res=self.sal+self.sal*0.1\n",
    "        print(res)\n",
    "        \n",
    "jay = Emp() # instance creation, jay is an instance, Emp() is data object, Emp is a reference class object\n",
    "vedha=Emp()\n",
    "sai=Emp()\n",
    "#jay.name=\"Jayaram\"\n",
    "#jay.sal=40000\n",
    "jay.set_data(\"Jayaram\", 40000)\n",
    "#Emp.set_data(jay,\"Jayaram\", 40000)\n",
    "#vedha.name=\"Vedhanvesh\"\n",
    "#vedha.sal=30000\n",
    "vedha.set_data(\"Vedhanvesh\",30000)\n",
    "#sai.name=\"Sailaxmi\"\n",
    "#sai.sal=50000\n",
    "sai.set_data(\"Sail laxmi\",50000)\n",
    "vedha.sal_cal()\n",
    "jay.sal_cal()\n",
    "sai.sal_cal()\n"
   ]
  },
  {
   "cell_type": "code",
   "execution_count": 24,
   "metadata": {},
   "outputs": [
    {
     "name": "stdout",
     "output_type": "stream",
     "text": [
      "calculation sal of Vedhanvesh\n",
      "33000.0\n",
      "calculation sal of Jayaram\n",
      "44000.0\n",
      "calculation sal of Sail laxmi\n",
      "55000.0\n"
     ]
    }
   ],
   "source": [
    "class Emp:\n",
    "    company_name=\"KHYAATHI\" # attribute\n",
    "    def set_data(self, e_name, e_sal):\n",
    "        self.name=e_name\n",
    "        self.sal=e_sal\n",
    "    def sal_cal(self): # method or operation\n",
    "        print(\"calculation sal of %s\"%self.name)\n",
    "        res=self.sal+self.sal*0.1\n",
    "        print(res)\n",
    "        \n",
    "jay = Emp() # instance creation, jay is an instance, Emp() is data object, Emp is a reference class object\n",
    "vedha=Emp()\n",
    "sai=Emp()\n",
    "jay.set_data(\"Jayaram\", 40000)\n",
    "vedha.set_data(\"Vedhanvesh\",30000)\n",
    "sai.set_data(\"Sail laxmi\",50000)\n",
    "vedha.sal_cal()\n",
    "jay.sal_cal()\n",
    "sai.sal_cal()\n"
   ]
  },
  {
   "cell_type": "code",
   "execution_count": 25,
   "metadata": {},
   "outputs": [
    {
     "name": "stdout",
     "output_type": "stream",
     "text": [
      "('Jayaram', 40000, 'KHYAATHI')\n",
      "('Vedhanvesh', 30000, 'KHYAATHI')\n",
      "('Sail laxmi', 50000, 'KHYAATHI')\n"
     ]
    }
   ],
   "source": [
    "class Emp:\n",
    "    company_name=\"KHYAATHI\" # attribute\n",
    "    def set_data(self, e_name, e_sal):\n",
    "        self.name=e_name\n",
    "        self.sal=e_sal\n",
    "    def sal_cal(self): # method or operation\n",
    "        print(\"calculation sal of %s\"%self.name)\n",
    "        res=self.sal+self.sal*0.1\n",
    "        print(res)\n",
    "    def get(self):\n",
    "        return self.name, self.sal,self.company_name\n",
    "        \n",
    "jay = Emp() # instance creation, jay is an instance, Emp() is data object, Emp is a reference class object\n",
    "vedha=Emp()\n",
    "sai=Emp()\n",
    "jay.set_data(\"Jayaram\", 40000)\n",
    "vedha.set_data(\"Vedhanvesh\",30000)\n",
    "sai.set_data(\"Sail laxmi\",50000)\n",
    "print(jay.get())\n",
    "print(vedha.get())\n",
    "print(sai.get())\n"
   ]
  },
  {
   "cell_type": "code",
   "execution_count": 27,
   "metadata": {},
   "outputs": [
    {
     "name": "stdout",
     "output_type": "stream",
     "text": [
      "('Apple', 20)\n",
      "('Orange', 30)\n"
     ]
    }
   ],
   "source": [
    "class Product:\n",
    "    def set_data(self,p_name,p_cost):\n",
    "        self.name=p_name\n",
    "        self.cost=p_cost\n",
    "    def get(self):\n",
    "        return self.name,self.cost\n",
    "apple=Product()\n",
    "apple.set_data(\"Apple\",20)\n",
    "orange=Product()\n",
    "orange.set_data(\"Orange\",30)\n",
    "print(apple.get()) # Apple, 20\n",
    "print(orange.get()) # Orange, 30"
   ]
  },
  {
   "cell_type": "code",
   "execution_count": 28,
   "metadata": {},
   "outputs": [
    {
     "name": "stdout",
     "output_type": "stream",
     "text": [
      "('Apple', 20)\n",
      "('Orange', 30)\n"
     ]
    },
    {
     "ename": "AttributeError",
     "evalue": "'Product' object has no attribute 'name'",
     "output_type": "error",
     "traceback": [
      "\u001b[0;31m---------------------------------------------------------------------------\u001b[0m",
      "\u001b[0;31mAttributeError\u001b[0m                            Traceback (most recent call last)",
      "\u001b[0;32m<ipython-input-28-44390c2c5893>\u001b[0m in \u001b[0;36m<module>\u001b[0;34m()\u001b[0m\n\u001b[1;32m     12\u001b[0m \u001b[0mprint\u001b[0m\u001b[0;34m(\u001b[0m\u001b[0morange\u001b[0m\u001b[0;34m.\u001b[0m\u001b[0mget\u001b[0m\u001b[0;34m(\u001b[0m\u001b[0;34m)\u001b[0m\u001b[0;34m)\u001b[0m \u001b[0;31m# Orange, 30\u001b[0m\u001b[0;34m\u001b[0m\u001b[0m\n\u001b[1;32m     13\u001b[0m \u001b[0mmango\u001b[0m\u001b[0;34m=\u001b[0m\u001b[0mProduct\u001b[0m\u001b[0;34m(\u001b[0m\u001b[0;34m)\u001b[0m\u001b[0;34m\u001b[0m\u001b[0m\n\u001b[0;32m---> 14\u001b[0;31m \u001b[0mprint\u001b[0m\u001b[0;34m(\u001b[0m\u001b[0mmango\u001b[0m\u001b[0;34m.\u001b[0m\u001b[0mget\u001b[0m\u001b[0;34m(\u001b[0m\u001b[0;34m)\u001b[0m\u001b[0;34m)\u001b[0m\u001b[0;34m\u001b[0m\u001b[0m\n\u001b[0m",
      "\u001b[0;32m<ipython-input-28-44390c2c5893>\u001b[0m in \u001b[0;36mget\u001b[0;34m(self)\u001b[0m\n\u001b[1;32m      4\u001b[0m         \u001b[0mself\u001b[0m\u001b[0;34m.\u001b[0m\u001b[0mcost\u001b[0m\u001b[0;34m=\u001b[0m\u001b[0mp_cost\u001b[0m\u001b[0;34m\u001b[0m\u001b[0m\n\u001b[1;32m      5\u001b[0m     \u001b[0;32mdef\u001b[0m \u001b[0mget\u001b[0m\u001b[0;34m(\u001b[0m\u001b[0mself\u001b[0m\u001b[0;34m)\u001b[0m\u001b[0;34m:\u001b[0m\u001b[0;34m\u001b[0m\u001b[0m\n\u001b[0;32m----> 6\u001b[0;31m         \u001b[0;32mreturn\u001b[0m \u001b[0mself\u001b[0m\u001b[0;34m.\u001b[0m\u001b[0mname\u001b[0m\u001b[0;34m,\u001b[0m\u001b[0mself\u001b[0m\u001b[0;34m.\u001b[0m\u001b[0mcost\u001b[0m\u001b[0;34m\u001b[0m\u001b[0m\n\u001b[0m\u001b[1;32m      7\u001b[0m \u001b[0mapple\u001b[0m\u001b[0;34m=\u001b[0m\u001b[0mProduct\u001b[0m\u001b[0;34m(\u001b[0m\u001b[0;34m)\u001b[0m\u001b[0;34m\u001b[0m\u001b[0m\n\u001b[1;32m      8\u001b[0m \u001b[0mapple\u001b[0m\u001b[0;34m.\u001b[0m\u001b[0mset_data\u001b[0m\u001b[0;34m(\u001b[0m\u001b[0;34m\"Apple\"\u001b[0m\u001b[0;34m,\u001b[0m\u001b[0;36m20\u001b[0m\u001b[0;34m)\u001b[0m\u001b[0;34m\u001b[0m\u001b[0m\n",
      "\u001b[0;31mAttributeError\u001b[0m: 'Product' object has no attribute 'name'"
     ]
    }
   ],
   "source": [
    "class Product:\n",
    "    def set_data(self,p_name,p_cost):\n",
    "        self.name=p_name\n",
    "        self.cost=p_cost\n",
    "    def get(self):\n",
    "        return self.name,self.cost\n",
    "apple=Product()\n",
    "apple.set_data(\"Apple\",20)\n",
    "orange=Product()\n",
    "orange.set_data(\"Orange\",30)\n",
    "print(apple.get()) # Apple, 20\n",
    "print(orange.get()) # Orange, 30\n",
    "mango=Product()\n",
    "print(mango.get())"
   ]
  },
  {
   "cell_type": "code",
   "execution_count": 29,
   "metadata": {},
   "outputs": [],
   "source": [
    "class C1:\n",
    "    def get(self):\n",
    "        print(\"this is get\")"
   ]
  },
  {
   "cell_type": "code",
   "execution_count": 30,
   "metadata": {},
   "outputs": [],
   "source": [
    "class C1:\n",
    "    def get(self):\n",
    "        print(\"this is get\")\n",
    "    def __init__(self):\n",
    "        print(\"this is init\")"
   ]
  },
  {
   "cell_type": "code",
   "execution_count": 31,
   "metadata": {},
   "outputs": [],
   "source": [
    "class C1:\n",
    "    def get(self):\n",
    "        print(\"this is get\")\n",
    "o1=C1()"
   ]
  },
  {
   "cell_type": "code",
   "execution_count": 32,
   "metadata": {},
   "outputs": [
    {
     "name": "stdout",
     "output_type": "stream",
     "text": [
      "this is class\n"
     ]
    }
   ],
   "source": [
    "class C1:\n",
    "    print(\"this is class\")\n",
    "    def get(self):\n",
    "        print(\"this is get\")\n",
    "    def __init__(self):\n",
    "        print(\"this is init\")   "
   ]
  },
  {
   "cell_type": "code",
   "execution_count": 33,
   "metadata": {},
   "outputs": [
    {
     "name": "stdout",
     "output_type": "stream",
     "text": [
      "this is class\n",
      "this is init\n",
      "this is init\n"
     ]
    }
   ],
   "source": [
    "class C1:\n",
    "    print(\"this is class\")\n",
    "    def get(self):\n",
    "        print(\"this is get\")\n",
    "    def __init__(self):\n",
    "        print(\"this is init\")   \n",
    "o1=C1()\n",
    "o2=C1()"
   ]
  },
  {
   "cell_type": "code",
   "execution_count": 35,
   "metadata": {},
   "outputs": [
    {
     "name": "stdout",
     "output_type": "stream",
     "text": [
      "this is class\n",
      "this is init\n",
      "this is init\n",
      "this is init\n"
     ]
    }
   ],
   "source": [
    "class C1:\n",
    "    print(\"this is class\")\n",
    "    def get(self):\n",
    "        print(\"this is get\")\n",
    "    def __init__(self):\n",
    "        print(\"this is init\")   \n",
    "o1=C1()\n",
    "o2=C1()\n",
    "o3=C1()"
   ]
  },
  {
   "cell_type": "code",
   "execution_count": 36,
   "metadata": {},
   "outputs": [
    {
     "name": "stdout",
     "output_type": "stream",
     "text": [
      "this is class\n",
      "this is init\n",
      "this is init\n",
      "this is init\n",
      "this is init\n"
     ]
    }
   ],
   "source": [
    "class C1:\n",
    "    print(\"this is class\")\n",
    "    def get(self):\n",
    "        print(\"this is get\")\n",
    "    def __init__(self):\n",
    "        print(\"this is init\")\n",
    "o1=C1()\n",
    "o2=C1()\n",
    "o3=C1()\n",
    "o4=C1()"
   ]
  },
  {
   "cell_type": "code",
   "execution_count": 38,
   "metadata": {},
   "outputs": [
    {
     "name": "stdout",
     "output_type": "stream",
     "text": [
      "this is class\n",
      "this is init\n",
      "this is init\n",
      "this is init\n",
      "this is init\n",
      "this is get\n"
     ]
    }
   ],
   "source": [
    "class C1:\n",
    "    print(\"this is class\")\n",
    "    def get(self):\n",
    "        print(\"this is get\")\n",
    "    def __init__(self):\n",
    "        print(\"this is init\")\n",
    "o1=C1()\n",
    "o2=C1()\n",
    "o3=C1()\n",
    "o4=C1()\n",
    "o1.get()"
   ]
  },
  {
   "cell_type": "code",
   "execution_count": 39,
   "metadata": {},
   "outputs": [
    {
     "name": "stdout",
     "output_type": "stream",
     "text": [
      "this is class\n",
      "this is init\n",
      "this is init\n",
      "this is init\n",
      "this is init\n",
      "this is get\n"
     ]
    }
   ],
   "source": [
    "class C1:\n",
    "    print(\"this is class\")\n",
    "    def __get__(self):\n",
    "        print(\"this is get\")\n",
    "    def __init__(self):\n",
    "        print(\"this is init\")\n",
    "o1=C1()\n",
    "o2=C1()\n",
    "o3=C1()\n",
    "o4=C1()\n",
    "o1.__get__()"
   ]
  },
  {
   "cell_type": "code",
   "execution_count": 40,
   "metadata": {},
   "outputs": [
    {
     "name": "stdout",
     "output_type": "stream",
     "text": [
      "this is class\n",
      "this is init\n",
      "this is init\n",
      "this is init\n",
      "this is init\n"
     ]
    }
   ],
   "source": [
    "class C1:\n",
    "    print(\"this is class\")\n",
    "    def __get__(self):\n",
    "        print(\"this is get\")\n",
    "    def __init__(self):\n",
    "        print(\"this is init\")\n",
    "o1=C1()\n",
    "o2=C1()\n",
    "o3=C1()\n",
    "o4=C1()\n"
   ]
  },
  {
   "cell_type": "code",
   "execution_count": 41,
   "metadata": {},
   "outputs": [
    {
     "name": "stdout",
     "output_type": "stream",
     "text": [
      "this is class\n",
      "this is init\n",
      "this is init\n",
      "this is init\n",
      "this is init\n",
      "this is init\n"
     ]
    }
   ],
   "source": [
    "class C1:\n",
    "    print(\"this is class\")\n",
    "    def __get__(self):\n",
    "        print(\"this is get\")\n",
    "    def __init__(self):\n",
    "        print(\"this is init\")\n",
    "o1=C1()\n",
    "o2=C1()\n",
    "o3=C1()\n",
    "o4=C1()\n",
    "o1.__init__()"
   ]
  },
  {
   "cell_type": "code",
   "execution_count": 42,
   "metadata": {},
   "outputs": [
    {
     "name": "stdout",
     "output_type": "stream",
     "text": [
      "('Apple', 20)\n",
      "('Orange', 30)\n"
     ]
    }
   ],
   "source": [
    "class Product:\n",
    "    def __init__(self,p_name,p_cost):\n",
    "        self.name=p_name\n",
    "        self.cost=p_cost\n",
    "    def get(self):\n",
    "        return self.name,self.cost\n",
    "apple=Product(\"Apple\",20)\n",
    "orange=Product(\"Orange\",30)\n",
    "print(apple.get()) \n",
    "print(orange.get())"
   ]
  },
  {
   "cell_type": "code",
   "execution_count": 43,
   "metadata": {},
   "outputs": [
    {
     "name": "stdout",
     "output_type": "stream",
     "text": [
      "('Apple', 20)\n",
      "('Orange', 30)\n"
     ]
    },
    {
     "ename": "TypeError",
     "evalue": "__init__() missing 2 required positional arguments: 'p_name' and 'p_cost'",
     "output_type": "error",
     "traceback": [
      "\u001b[0;31m---------------------------------------------------------------------------\u001b[0m",
      "\u001b[0;31mTypeError\u001b[0m                                 Traceback (most recent call last)",
      "\u001b[0;32m<ipython-input-43-5ec232853758>\u001b[0m in \u001b[0;36m<module>\u001b[0;34m()\u001b[0m\n\u001b[1;32m      9\u001b[0m \u001b[0mprint\u001b[0m\u001b[0;34m(\u001b[0m\u001b[0mapple\u001b[0m\u001b[0;34m.\u001b[0m\u001b[0mget\u001b[0m\u001b[0;34m(\u001b[0m\u001b[0;34m)\u001b[0m\u001b[0;34m)\u001b[0m\u001b[0;34m\u001b[0m\u001b[0m\n\u001b[1;32m     10\u001b[0m \u001b[0mprint\u001b[0m\u001b[0;34m(\u001b[0m\u001b[0morange\u001b[0m\u001b[0;34m.\u001b[0m\u001b[0mget\u001b[0m\u001b[0;34m(\u001b[0m\u001b[0;34m)\u001b[0m\u001b[0;34m)\u001b[0m\u001b[0;34m\u001b[0m\u001b[0m\n\u001b[0;32m---> 11\u001b[0;31m \u001b[0mmango\u001b[0m\u001b[0;34m=\u001b[0m\u001b[0mProduct\u001b[0m\u001b[0;34m(\u001b[0m\u001b[0;34m)\u001b[0m\u001b[0;34m\u001b[0m\u001b[0m\n\u001b[0m",
      "\u001b[0;31mTypeError\u001b[0m: __init__() missing 2 required positional arguments: 'p_name' and 'p_cost'"
     ]
    }
   ],
   "source": [
    "class Product:\n",
    "    def __init__(self,p_name,p_cost):\n",
    "        self.name=p_name\n",
    "        self.cost=p_cost\n",
    "    def get(self):\n",
    "        return self.name,self.cost\n",
    "apple=Product(\"Apple\",20)\n",
    "orange=Product(\"Orange\",30)\n",
    "print(apple.get()) \n",
    "print(orange.get())\n",
    "mango=Product()"
   ]
  },
  {
   "cell_type": "code",
   "execution_count": 45,
   "metadata": {},
   "outputs": [
    {
     "name": "stdout",
     "output_type": "stream",
     "text": [
      "('Hyderabad', '2000,4000')\n",
      "('Banglore', '1000,3000')\n"
     ]
    }
   ],
   "source": [
    "# ware house class: company name as class object attribute. name, dimentions as data object attributes. \n",
    "#write two operationss instock and outstock. \n",
    "# create two dataobjects, hyderbad and banglore. call instock and outstock operations for hyd and ban instances.\n",
    "class Warehose:\n",
    "    company_name=\"Khyaathi\"\n",
    "    def __init__(self,w_name,w_dimentions):\n",
    "        self.name=w_name\n",
    "        self.dimentions=w_dimentions\n",
    "    def get(self):\n",
    "        return self.name, self.dimentions\n",
    "    def instock(self):\n",
    "        print(\"this is instock\")\n",
    "    def outstock(self):\n",
    "        print(\"this is outstock\")\n",
    "hyd=Warehose(\"Hyderabad\",\"2000,4000\")\n",
    "ban=Warehose(\"Banglore\",\"1000,3000\")\n",
    "print(hyd.get())\n",
    "print(ban.get())\n"
   ]
  },
  {
   "cell_type": "code",
   "execution_count": 46,
   "metadata": {},
   "outputs": [
    {
     "name": "stdout",
     "output_type": "stream",
     "text": [
      "('Hyderabad', '2000,4000')\n",
      "('Banglore', '1000,3000')\n",
      "this is instock\n",
      "this is instock\n",
      "this is outstock\n",
      "this is instock\n"
     ]
    }
   ],
   "source": [
    "# ware house class: company name as class object attribute. name, dimentions as data object attributes. \n",
    "#write two operationss instock and outstock. \n",
    "# create two dataobjects, hyderbad and banglore. call instock and outstock operations for hyd and ban instances.\n",
    "class Warehose:\n",
    "    company_name=\"Khyaathi\"\n",
    "    def __init__(self,w_name,w_dimentions):\n",
    "        self.name=w_name\n",
    "        self.dimentions=w_dimentions\n",
    "    def get(self):\n",
    "        return self.name, self.dimentions\n",
    "    def instock(self):\n",
    "        print(\"this is instock\")\n",
    "    def outstock(self):\n",
    "        print(\"this is outstock\")\n",
    "hyd=Warehose(\"Hyderabad\",\"2000,4000\")\n",
    "ban=Warehose(\"Banglore\",\"1000,3000\")\n",
    "print(hyd.get())\n",
    "print(ban.get())\n",
    "ban.instock()\n",
    "hyd.instock()\n",
    "ban.outstock()\n",
    "hyd.instock()"
   ]
  },
  {
   "cell_type": "code",
   "execution_count": 48,
   "metadata": {},
   "outputs": [
    {
     "name": "stdout",
     "output_type": "stream",
     "text": [
      "('Hyderabad', '2000,4000')\n",
      "('Banglore', '1000,3000')\n",
      "this is instock happening in:Banglore\n",
      "this is instock happening in:Hyderabad\n",
      "this is outstock happening in:Banglore\n",
      "this is instock happening in:Hyderabad\n"
     ]
    }
   ],
   "source": [
    "# ware house class: company name as class object attribute. name, dimentions as data object attributes. \n",
    "#write two operationss instock and outstock. \n",
    "# create two dataobjects, hyderbad and banglore. call instock and outstock operations for hyd and ban instances.\n",
    "class Warehose:\n",
    "    company_name=\"Khyaathi\"\n",
    "    def __init__(self,name,dimentions):\n",
    "        self.name=name\n",
    "        self.dimentions=dimentions\n",
    "    def get(self):\n",
    "        return self.name, self.dimentions\n",
    "    def instock(self):\n",
    "        print(\"this is instock happening in:%s\"%self.name)\n",
    "    def outstock(self):\n",
    "        print(\"this is outstock happening in:%s\"%self.name)\n",
    "hyd=Warehose(\"Hyderabad\",\"2000,4000\")\n",
    "ban=Warehose(\"Banglore\",\"1000,3000\")\n",
    "print(hyd.get())\n",
    "print(ban.get())\n",
    "ban.instock()\n",
    "hyd.instock()\n",
    "ban.outstock()\n",
    "hyd.instock()"
   ]
  },
  {
   "cell_type": "code",
   "execution_count": 49,
   "metadata": {},
   "outputs": [],
   "source": [
    "#sambaodoo@gmail.com, sambapython@gmail.com"
   ]
  },
  {
   "cell_type": "code",
   "execution_count": null,
   "metadata": {},
   "outputs": [],
   "source": []
  }
 ],
 "metadata": {
  "kernelspec": {
   "display_name": "Python 3",
   "language": "python",
   "name": "python3"
  },
  "language_info": {
   "codemirror_mode": {
    "name": "ipython",
    "version": 3
   },
   "file_extension": ".py",
   "mimetype": "text/x-python",
   "name": "python",
   "nbconvert_exporter": "python",
   "pygments_lexer": "ipython3",
   "version": "3.7.0"
  }
 },
 "nbformat": 4,
 "nbformat_minor": 2
}
