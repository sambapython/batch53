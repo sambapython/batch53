{
 "cells": [
  {
   "cell_type": "code",
   "execution_count": 1,
   "metadata": {},
   "outputs": [],
   "source": [
    "import sqlite3"
   ]
  },
  {
   "cell_type": "code",
   "execution_count": 2,
   "metadata": {},
   "outputs": [],
   "source": [
    "con = sqlite3.connect(\"batch53.sqlite3\")"
   ]
  },
  {
   "cell_type": "code",
   "execution_count": 3,
   "metadata": {},
   "outputs": [
    {
     "data": {
      "text/plain": [
       "'/home/khyaathipython/batch53'"
      ]
     },
     "execution_count": 3,
     "metadata": {},
     "output_type": "execute_result"
    }
   ],
   "source": [
    "pwd"
   ]
  },
  {
   "cell_type": "code",
   "execution_count": 4,
   "metadata": {},
   "outputs": [],
   "source": [
    "cur = con.cursor()"
   ]
  },
  {
   "cell_type": "code",
   "execution_count": 5,
   "metadata": {},
   "outputs": [
    {
     "data": {
      "text/plain": [
       "<sqlite3.Cursor at 0x7ff47c2a39d0>"
      ]
     },
     "execution_count": 5,
     "metadata": {},
     "output_type": "execute_result"
    }
   ],
   "source": [
    "q=\"create table customer(id int, name varchar(250))\"\n",
    "cur.execute(q)"
   ]
  },
  {
   "cell_type": "code",
   "execution_count": 6,
   "metadata": {},
   "outputs": [
    {
     "data": {
      "text/plain": [
       "<sqlite3.Cursor at 0x7ff47c2a39d0>"
      ]
     },
     "execution_count": 6,
     "metadata": {},
     "output_type": "execute_result"
    }
   ],
   "source": [
    "q=\"insert into customer(id, name) values(1,'sai')\"\n",
    "cur.execute(q)"
   ]
  },
  {
   "cell_type": "code",
   "execution_count": 7,
   "metadata": {},
   "outputs": [],
   "source": [
    "# structure- act on the table structure: create alter drop\n",
    "# data queries: insert, update, delete\n",
    "con.commit()"
   ]
  },
  {
   "cell_type": "code",
   "execution_count": 14,
   "metadata": {},
   "outputs": [
    {
     "data": {
      "text/plain": [
       "'Haritha'"
      ]
     },
     "execution_count": 14,
     "metadata": {},
     "output_type": "execute_result"
    }
   ],
   "source": [
    "import random\n",
    "names=[\"samba\",\"Shabaz\",\"keshav\",\"bhupendra\",\"Raj\",\"Haritha\",\"Syed\"]\n",
    "random.choice(names)"
   ]
  },
  {
   "cell_type": "code",
   "execution_count": 15,
   "metadata": {},
   "outputs": [],
   "source": [
    "import random\n",
    "names=[\"samba\",\"Shabaz\",\"keshav\",\"bhupendra\",\"Raj\",\"Haritha\",\"Syed\",\"Arun\"]\n",
    "for i in range(2,102):\n",
    "    q=\"insert into customer(id, name) values(%s,'%s')\"%(i,random.choice(names))\n",
    "    cur.execute(q)\n",
    "con.commit()"
   ]
  },
  {
   "cell_type": "code",
   "execution_count": 17,
   "metadata": {},
   "outputs": [
    {
     "data": {
      "text/plain": [
       "<sqlite3.Cursor at 0x7ff47c2a39d0>"
      ]
     },
     "execution_count": 17,
     "metadata": {},
     "output_type": "execute_result"
    }
   ],
   "source": [
    "q=\"select * from customer\"\n",
    "cur.execute(q)"
   ]
  },
  {
   "cell_type": "code",
   "execution_count": 18,
   "metadata": {},
   "outputs": [],
   "source": [
    "data = cur.fetchall()"
   ]
  },
  {
   "cell_type": "code",
   "execution_count": 19,
   "metadata": {},
   "outputs": [
    {
     "name": "stdout",
     "output_type": "stream",
     "text": [
      "[(1, 'sai'), (2, 'Syed'), (3, 'Shabaz'), (4, 'samba'), (5, 'Haritha'), (6, 'Raj'), (7, 'Arun'), (8, 'Syed'), (9, 'Raj'), (10, 'Haritha'), (11, 'bhupendra'), (12, 'Syed'), (13, 'Shabaz'), (14, 'Raj'), (15, 'Arun'), (16, 'Arun'), (17, 'Arun'), (18, 'bhupendra'), (19, 'Raj'), (20, 'Syed'), (21, 'Shabaz'), (22, 'bhupendra'), (23, 'samba'), (24, 'Shabaz'), (25, 'Arun'), (26, 'keshav'), (27, 'Arun'), (28, 'Shabaz'), (29, 'samba'), (30, 'bhupendra'), (31, 'Haritha'), (32, 'Shabaz'), (33, 'keshav'), (34, 'keshav'), (35, 'Raj'), (36, 'Haritha'), (37, 'bhupendra'), (38, 'samba'), (39, 'Syed'), (40, 'Shabaz'), (41, 'bhupendra'), (42, 'Raj'), (43, 'Raj'), (44, 'Raj'), (45, 'Arun'), (46, 'samba'), (47, 'Haritha'), (48, 'samba'), (49, 'Shabaz'), (50, 'samba'), (51, 'samba'), (52, 'Arun'), (53, 'Arun'), (54, 'Shabaz'), (55, 'Haritha'), (56, 'keshav'), (57, 'Haritha'), (58, 'keshav'), (59, 'Raj'), (60, 'Syed'), (61, 'keshav'), (62, 'Haritha'), (63, 'Raj'), (64, 'bhupendra'), (65, 'Arun'), (66, 'Raj'), (67, 'keshav'), (68, 'samba'), (69, 'Syed'), (70, 'Shabaz'), (71, 'Shabaz'), (72, 'samba'), (73, 'Haritha'), (74, 'bhupendra'), (75, 'Syed'), (76, 'Shabaz'), (77, 'Haritha'), (78, 'bhupendra'), (79, 'Syed'), (80, 'bhupendra'), (81, 'Raj'), (82, 'Raj'), (83, 'bhupendra'), (84, 'Shabaz'), (85, 'Syed'), (86, 'Haritha'), (87, 'keshav'), (88, 'Shabaz'), (89, 'Syed'), (90, 'Haritha'), (91, 'Haritha'), (92, 'Arun'), (93, 'samba'), (94, 'Raj'), (95, 'bhupendra'), (96, 'Arun'), (97, 'Syed'), (98, 'Haritha'), (99, 'Syed'), (100, 'Arun'), (101, 'Shabaz')]\n"
     ]
    }
   ],
   "source": [
    "print(data)"
   ]
  },
  {
   "cell_type": "code",
   "execution_count": 20,
   "metadata": {},
   "outputs": [
    {
     "name": "stdout",
     "output_type": "stream",
     "text": [
      "[(101,)]\n"
     ]
    }
   ],
   "source": [
    "q=\"select count(*) from customer\"\n",
    "cur.execute(q)\n",
    "data = cur.fetchall()\n",
    "print(data)"
   ]
  },
  {
   "cell_type": "code",
   "execution_count": 23,
   "metadata": {},
   "outputs": [
    {
     "name": "stdout",
     "output_type": "stream",
     "text": [
      "[('Arun', 13), ('Haritha', 14), ('Raj', 14), ('Shabaz', 15), ('Syed', 13), ('bhupendra', 12), ('keshav', 8), ('sai', 1), ('samba', 11)]\n"
     ]
    }
   ],
   "source": [
    "q=\"select name,count(*) from customer group by(name)\"\n",
    "cur.execute(q)\n",
    "data = cur.fetchall()\n",
    "print(data)"
   ]
  },
  {
   "cell_type": "code",
   "execution_count": 24,
   "metadata": {},
   "outputs": [],
   "source": [
    "l=[]\n"
   ]
  },
  {
   "cell_type": "code",
   "execution_count": 28,
   "metadata": {},
   "outputs": [
    {
     "ename": "TypeError",
     "evalue": "fun() missing 1 required positional argument: 'l2'",
     "output_type": "error",
     "traceback": [
      "\u001b[0;31m---------------------------------------------------------------------------\u001b[0m",
      "\u001b[0;31mTypeError\u001b[0m                                 Traceback (most recent call last)",
      "\u001b[0;32m<ipython-input-28-3c37388e829f>\u001b[0m in \u001b[0;36m<module>\u001b[0;34m()\u001b[0m\n\u001b[1;32m      5\u001b[0m         \u001b[0;32mreturn\u001b[0m \u001b[0;34m-\u001b[0m\u001b[0;36m1\u001b[0m\u001b[0;34m\u001b[0m\u001b[0m\n\u001b[1;32m      6\u001b[0m \u001b[0;34m\u001b[0m\u001b[0m\n\u001b[0;32m----> 7\u001b[0;31m \u001b[0msorted\u001b[0m\u001b[0;34m(\u001b[0m\u001b[0mdata\u001b[0m\u001b[0;34m,\u001b[0m\u001b[0mkey\u001b[0m\u001b[0;34m=\u001b[0m\u001b[0mfun\u001b[0m\u001b[0;34m,\u001b[0m\u001b[0mreverse\u001b[0m\u001b[0;34m=\u001b[0m\u001b[0;32mTrue\u001b[0m\u001b[0;34m)\u001b[0m\u001b[0;34m\u001b[0m\u001b[0m\n\u001b[0m",
      "\u001b[0;31mTypeError\u001b[0m: fun() missing 1 required positional argument: 'l2'"
     ]
    }
   ],
   "source": [
    "def fun(l1,l2):\n",
    "    if l1[1]>l2[1]:\n",
    "        return 1\n",
    "    else:\n",
    "        return -1\n",
    "    \n",
    "sorted(data,key=fun,reverse=True)"
   ]
  },
  {
   "cell_type": "code",
   "execution_count": 31,
   "metadata": {},
   "outputs": [
    {
     "name": "stdout",
     "output_type": "stream",
     "text": [
      "[('sai', 1), ('keshav', 8), ('samba', 11), ('bhupendra', 12), ('Arun', 13), ('Syed', 13), ('Haritha', 14), ('Raj', 14), ('Shabaz', 15)]\n"
     ]
    }
   ],
   "source": [
    "q=\"select name,count(*) as count from customer group by(name) order by(count)\"\n",
    "cur.execute(q)\n",
    "data = cur.fetchall()\n",
    "print(data)"
   ]
  },
  {
   "cell_type": "code",
   "execution_count": 32,
   "metadata": {},
   "outputs": [
    {
     "name": "stdout",
     "output_type": "stream",
     "text": [
      "('Shabaz', 15)\n"
     ]
    }
   ],
   "source": [
    "q=\"select name,count(*) as count from customer group by(name) order by(count)\"\n",
    "cur.execute(q)\n",
    "data = cur.fetchall()\n",
    "print(data[-1])"
   ]
  },
  {
   "cell_type": "code",
   "execution_count": 33,
   "metadata": {},
   "outputs": [
    {
     "data": {
      "text/plain": [
       "<sqlite3.Cursor at 0x7ff47c2a39d0>"
      ]
     },
     "execution_count": 33,
     "metadata": {},
     "output_type": "execute_result"
    }
   ],
   "source": [
    "q=\"update customer set name='samba' where id=1\"\n",
    "cur.execute(q)"
   ]
  },
  {
   "cell_type": "code",
   "execution_count": 34,
   "metadata": {},
   "outputs": [],
   "source": [
    "con.commit()"
   ]
  },
  {
   "cell_type": "code",
   "execution_count": 35,
   "metadata": {},
   "outputs": [
    {
     "data": {
      "text/plain": [
       "<sqlite3.Cursor at 0x7ff47c2a39d0>"
      ]
     },
     "execution_count": 35,
     "metadata": {},
     "output_type": "execute_result"
    }
   ],
   "source": [
    "q=\"delete from customer where id=1\"\n",
    "cur.execute(q)"
   ]
  },
  {
   "cell_type": "code",
   "execution_count": 36,
   "metadata": {},
   "outputs": [],
   "source": [
    "con.commit()"
   ]
  },
  {
   "cell_type": "code",
   "execution_count": 37,
   "metadata": {},
   "outputs": [
    {
     "name": "stdout",
     "output_type": "stream",
     "text": [
      "enter an id:25\n"
     ]
    }
   ],
   "source": [
    "cust_id=input(\"enter an id:\")\n",
    "q=\"delete from customer where id=%s\"%cust_id\n",
    "cur.execute(q)\n",
    "con.commit()"
   ]
  },
  {
   "cell_type": "code",
   "execution_count": 39,
   "metadata": {},
   "outputs": [
    {
     "name": "stdout",
     "output_type": "stream",
     "text": [
      "enter an id:26\n",
      "[(26, 'keshav')]\n",
      "Want to delete:(y/n)y\n",
      "deleted successfully!!\n"
     ]
    }
   ],
   "source": [
    "cust_id=input(\"enter an id:\")\n",
    "q=\"select * from customer where id=%s\"%cust_id\n",
    "cur.execute(q)\n",
    "print(cur.fetchall())\n",
    "opt=input(\"Want to delete:(y/n)\")\n",
    "if opt.casefold()==\"y\":\n",
    "    q=\"delete from customer where id=%s\"%cust_id\n",
    "    cur.execute(q)\n",
    "    con.commit()\n",
    "    print(\"deleted successfully!!\")\n",
    "else:\n",
    "    print (\"No operation performed\")"
   ]
  },
  {
   "cell_type": "code",
   "execution_count": 41,
   "metadata": {},
   "outputs": [
    {
     "name": "stdout",
     "output_type": "stream",
     "text": [
      "enter an id:30\n",
      "[(30, 'bhupendra')]\n",
      "Want to update:(y/n)y\n",
      "Enter new name:bhupendra_1\n",
      "update successfully!!\n",
      "[(30, 'bhupendra_1')]\n"
     ]
    }
   ],
   "source": [
    "cust_id=input(\"enter an id:\")\n",
    "q=\"select * from customer where id=%s\"%cust_id\n",
    "cur.execute(q)\n",
    "print(cur.fetchall())\n",
    "opt=input(\"Want to update:(y/n)\")\n",
    "if opt.casefold()==\"y\":\n",
    "    name=input(\"Enter new name:\")\n",
    "    q=\"update customer set name='%s' where id=%s\"%(name,cust_id)\n",
    "    cur.execute(q)\n",
    "    con.commit()\n",
    "    print(\"update successfully!!\")\n",
    "    q=\"select * from customer where id=%s\"%cust_id\n",
    "    cur.execute(q)\n",
    "    print(cur.fetchall())\n",
    "else:\n",
    "    print (\"No operation performed\")"
   ]
  },
  {
   "cell_type": "code",
   "execution_count": 42,
   "metadata": {},
   "outputs": [
    {
     "name": "stdout",
     "output_type": "stream",
     "text": [
      "enter an id:36\n",
      "[(36, 'Haritha')]\n",
      "Want to update:(y/n)y\n",
      "Enter new name:Haritha_1\n",
      "update successfully!!\n",
      "[(36, 'Haritha_1')]\n"
     ]
    }
   ],
   "source": [
    "def get_data(cust_id):\n",
    "    q=\"select * from customer where id=%s\"%cust_id\n",
    "    cur.execute(q)\n",
    "    print(cur.fetchall())\n",
    "    \n",
    "cust_id=input(\"enter an id:\")\n",
    "get_data(cust_id)\n",
    "opt=input(\"Want to update:(y/n)\")\n",
    "if opt.casefold()==\"y\":\n",
    "    name=input(\"Enter new name:\")\n",
    "    q=\"update customer set name='%s' where id=%s\"%(name,cust_id)\n",
    "    cur.execute(q)\n",
    "    con.commit()\n",
    "    print(\"update successfully!!\")\n",
    "    get_data(cust_id)\n",
    "else:\n",
    "    print (\"No operation performed\")"
   ]
  },
  {
   "cell_type": "code",
   "execution_count": 43,
   "metadata": {},
   "outputs": [],
   "source": [
    "import psycopg2"
   ]
  },
  {
   "cell_type": "code",
   "execution_count": 44,
   "metadata": {},
   "outputs": [],
   "source": [
    "con = psycopg2.connect(host=\"localhost\",user=\"postgres\",password=\"root\",port=5432,database=\"batch53\")"
   ]
  },
  {
   "cell_type": "code",
   "execution_count": 45,
   "metadata": {},
   "outputs": [],
   "source": [
    "cur=con.cursor()"
   ]
  },
  {
   "cell_type": "code",
   "execution_count": 46,
   "metadata": {},
   "outputs": [],
   "source": [
    "q=\"create table customer(id int, name varchar(250))\"\n",
    "cur.execute(q)\n",
    "import random\n",
    "names=[\"samba\",\"Shabaz\",\"keshav\",\"bhupendra\",\"Raj\",\"Haritha\",\"Syed\",\"Arun\"]\n",
    "for i in range(100):\n",
    "    q=\"insert into customer(id, name) values(%s,'%s')\"%(i,random.choice(names))\n",
    "    cur.execute(q)\n",
    "con.commit()"
   ]
  },
  {
   "cell_type": "code",
   "execution_count": 48,
   "metadata": {},
   "outputs": [],
   "source": [
    "import pandas as pd"
   ]
  },
  {
   "cell_type": "code",
   "execution_count": 51,
   "metadata": {},
   "outputs": [],
   "source": [
    "df  =pd.read_sql(\"select * from customer\",con)"
   ]
  },
  {
   "cell_type": "code",
   "execution_count": 54,
   "metadata": {},
   "outputs": [
    {
     "data": {
      "text/plain": [
       "<pandas.core.groupby.groupby.DataFrameGroupBy object at 0x7ff44c41a278>"
      ]
     },
     "execution_count": 54,
     "metadata": {},
     "output_type": "execute_result"
    }
   ],
   "source": [
    "df.groupby(\"name\")"
   ]
  },
  {
   "cell_type": "code",
   "execution_count": 55,
   "metadata": {},
   "outputs": [
    {
     "data": {
      "text/html": [
       "<div>\n",
       "<style scoped>\n",
       "    .dataframe tbody tr th:only-of-type {\n",
       "        vertical-align: middle;\n",
       "    }\n",
       "\n",
       "    .dataframe tbody tr th {\n",
       "        vertical-align: top;\n",
       "    }\n",
       "\n",
       "    .dataframe thead th {\n",
       "        text-align: right;\n",
       "    }\n",
       "</style>\n",
       "<table border=\"1\" class=\"dataframe\">\n",
       "  <thead>\n",
       "    <tr style=\"text-align: right;\">\n",
       "      <th></th>\n",
       "      <th>id</th>\n",
       "    </tr>\n",
       "    <tr>\n",
       "      <th>name</th>\n",
       "      <th></th>\n",
       "    </tr>\n",
       "  </thead>\n",
       "  <tbody>\n",
       "    <tr>\n",
       "      <th>Arun</th>\n",
       "      <td>15</td>\n",
       "    </tr>\n",
       "    <tr>\n",
       "      <th>Haritha</th>\n",
       "      <td>10</td>\n",
       "    </tr>\n",
       "    <tr>\n",
       "      <th>Raj</th>\n",
       "      <td>14</td>\n",
       "    </tr>\n",
       "    <tr>\n",
       "      <th>Shabaz</th>\n",
       "      <td>10</td>\n",
       "    </tr>\n",
       "    <tr>\n",
       "      <th>Syed</th>\n",
       "      <td>6</td>\n",
       "    </tr>\n",
       "    <tr>\n",
       "      <th>bhupendra</th>\n",
       "      <td>10</td>\n",
       "    </tr>\n",
       "    <tr>\n",
       "      <th>keshav</th>\n",
       "      <td>16</td>\n",
       "    </tr>\n",
       "    <tr>\n",
       "      <th>samba</th>\n",
       "      <td>19</td>\n",
       "    </tr>\n",
       "  </tbody>\n",
       "</table>\n",
       "</div>"
      ],
      "text/plain": [
       "           id\n",
       "name         \n",
       "Arun       15\n",
       "Haritha    10\n",
       "Raj        14\n",
       "Shabaz     10\n",
       "Syed        6\n",
       "bhupendra  10\n",
       "keshav     16\n",
       "samba      19"
      ]
     },
     "execution_count": 55,
     "metadata": {},
     "output_type": "execute_result"
    }
   ],
   "source": [
    "df.groupby(\"name\").count()"
   ]
  },
  {
   "cell_type": "code",
   "execution_count": 56,
   "metadata": {},
   "outputs": [
    {
     "data": {
      "text/plain": [
       "<matplotlib.axes._subplots.AxesSubplot at 0x7ff449af20f0>"
      ]
     },
     "execution_count": 56,
     "metadata": {},
     "output_type": "execute_result"
    }
   ],
   "source": [
    "df.groupby(\"name\").count().plot()"
   ]
  },
  {
   "cell_type": "code",
   "execution_count": 57,
   "metadata": {},
   "outputs": [],
   "source": [
    "import matplotlib.pyplot as plt"
   ]
  },
  {
   "cell_type": "code",
   "execution_count": 58,
   "metadata": {},
   "outputs": [],
   "source": [
    "plt.show()"
   ]
  },
  {
   "cell_type": "code",
   "execution_count": 59,
   "metadata": {},
   "outputs": [
    {
     "data": {
      "image/png": "[encoded data removed]",
      "text/plain": [
       "<Figure size 432x288 with 1 Axes>"
      ]
     },
     "metadata": {
      "needs_background": "light"
     },
     "output_type": "display_data"
    }
   ],
   "source": [
    "df.groupby(\"name\").count().plot()\n",
    "plt.show()"
   ]
  },
  {
   "cell_type": "code",
   "execution_count": 60,
   "metadata": {},
   "outputs": [
    {
     "data": {
      "image/png": "[encoded data removed]",
      "text/plain": [
       "<Figure size 432x288 with 1 Axes>"
      ]
     },
     "metadata": {
      "needs_background": "light"
     },
     "output_type": "display_data"
    }
   ],
   "source": [
    "df.groupby(\"name\").count().plot(kind=\"bar\")\n",
    "plt.show()"
   ]
  },
  {
   "cell_type": "code",
   "execution_count": null,
   "metadata": {},
   "outputs": [],
   "source": []
  }
 ],
 "metadata": {
  "kernelspec": {
   "display_name": "Python 3",
   "language": "python",
   "name": "python3"
  },
  "language_info": {
   "codemirror_mode": {
    "name": "ipython",
    "version": 3
   },
   "file_extension": ".py",
   "mimetype": "text/x-python",
   "name": "python",
   "nbconvert_exporter": "python",
   "pygments_lexer": "ipython3",
   "version": "3.7.0"
  }
 },
 "nbformat": 4,
 "nbformat_minor": 2
}
