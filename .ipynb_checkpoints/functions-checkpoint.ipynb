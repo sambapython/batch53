{
 "cells": [
  {
   "cell_type": "code",
   "execution_count": 1,
   "metadata": {},
   "outputs": [
    {
     "name": "stdout",
     "output_type": "stream",
     "text": [
      "Welcome\n",
      "thank you!!\n"
     ]
    }
   ],
   "source": [
    "print(\"Welcome\")\n",
    "def fun():\n",
    "    print(\"this is function\")\n",
    "print(\"thank you!!\")"
   ]
  },
  {
   "cell_type": "code",
   "execution_count": 2,
   "metadata": {},
   "outputs": [
    {
     "name": "stdout",
     "output_type": "stream",
     "text": [
      "Welcome\n",
      "thank you!!\n",
      "this is function\n"
     ]
    }
   ],
   "source": [
    "print(\"Welcome\")\n",
    "def fun():\n",
    "    print(\"this is function\")\n",
    "print(\"thank you!!\")\n",
    "fun()"
   ]
  },
  {
   "cell_type": "code",
   "execution_count": 3,
   "metadata": {},
   "outputs": [
    {
     "name": "stdout",
     "output_type": "stream",
     "text": [
      "Welcome\n",
      "this is function\n",
      "thank you!!\n",
      "this is function\n"
     ]
    }
   ],
   "source": [
    "print(\"Welcome\")\n",
    "def fun():\n",
    "    print(\"this is function\")\n",
    "fun()\n",
    "print(\"thank you!!\")\n",
    "fun()"
   ]
  },
  {
   "cell_type": "code",
   "execution_count": 4,
   "metadata": {},
   "outputs": [
    {
     "name": "stdout",
     "output_type": "stream",
     "text": [
      "Welcome\n",
      "this is function\n",
      "thank you!!\n",
      "this is function\n",
      "this is function\n"
     ]
    }
   ],
   "source": [
    "print(\"Welcome\")\n",
    "def fun():\n",
    "    print(\"this is function\")\n",
    "fun()\n",
    "print(\"thank you!!\")\n",
    "fun()\n",
    "fun()"
   ]
  },
  {
   "cell_type": "code",
   "execution_count": 5,
   "metadata": {},
   "outputs": [
    {
     "name": "stdout",
     "output_type": "stream",
     "text": [
      "Welcome\n",
      "a=10, b=20\n",
      "res=30\n",
      "a=1, b=2\n",
      "res=3\n",
      "a=100, b=200\n",
      "res=300\n",
      "thank you!!\n"
     ]
    }
   ],
   "source": [
    "print(\"Welcome\")\n",
    "def fun(a,b):\n",
    "    print(\"a=%s, b=%s\"%(a,b))\n",
    "    print(\"res=%s\"%(a+b))\n",
    "fun(10,20)\n",
    "fun(1,2)\n",
    "fun(100,200)\n",
    "print(\"thank you!!\")"
   ]
  },
  {
   "cell_type": "code",
   "execution_count": 6,
   "metadata": {},
   "outputs": [
    {
     "name": "stdout",
     "output_type": "stream",
     "text": [
      "a=100, b=20\n",
      "res= 120\n"
     ]
    }
   ],
   "source": [
    "# add, sub, mul, div\n",
    "def add(a,b):\n",
    "    print(\"a=%s, b=%s\"%(a,b))\n",
    "    print(\"res=\",a+b)\n",
    "def sub(a,b):\n",
    "    print(\"a=%s, b=%s\"%(a,b))\n",
    "    print(\"res=\",a-b)\n",
    "def mul(a,b):\n",
    "    print(\"a=%s, b=%s\"%(a,b))\n",
    "    print(\"res=\",a*b)\n",
    "def div(a,b):\n",
    "    print(\"a=%s, b=%s\"%(a,b))\n",
    "    print(\"res=\",a/b)\n",
    "\n",
    "add(100,20)\n"
   ]
  },
  {
   "cell_type": "code",
   "execution_count": null,
   "metadata": {},
   "outputs": [],
   "source": [
    "# add, sub, mul, div\n",
    "def add(a,b):\n",
    "    print(\"a=%s, b=%s\"%(a,b))\n",
    "    print(\"res=\",a+b)\n",
    "def sub(a,b):\n",
    "    print(\"a=%s, b=%s\"%(a,b))\n",
    "    print(\"res=\",a-b)\n",
    "def mul(a,b):\n",
    "    print(\"a=%s, b=%s\"%(a,b))\n",
    "    print(\"res=\",a*b)\n",
    "def div(a,b):\n",
    "    print(\"a=%s, b=%s\"%(a,b))\n",
    "    print(\"res=\",a/b)\n",
    "\n",
    "add(10**10000000,20**100000000)\n"
   ]
  },
  {
   "cell_type": "code",
   "execution_count": 1,
   "metadata": {},
   "outputs": [
    {
     "name": "stdout",
     "output_type": "stream",
     "text": [
      "a=10, b=20\n",
      "res= 30\n"
     ]
    }
   ],
   "source": [
    "def add(a,b):\n",
    "    print(\"a=%s, b=%s\"%(a,b))\n",
    "    print(\"res=\",a+b)\n",
    "add(10,20)"
   ]
  },
  {
   "cell_type": "code",
   "execution_count": 2,
   "metadata": {},
   "outputs": [
    {
     "name": "stdout",
     "output_type": "stream",
     "text": [
      "a=str1, b=str2\n",
      "res= str1str2\n"
     ]
    }
   ],
   "source": [
    "def add(a,b):\n",
    "    print(\"a=%s, b=%s\"%(a,b))\n",
    "    print(\"res=\",a+b)\n",
    "add(\"str1\",\"str2\")"
   ]
  },
  {
   "cell_type": "code",
   "execution_count": 3,
   "metadata": {},
   "outputs": [
    {
     "data": {
      "text/plain": [
       "True"
      ]
     },
     "execution_count": 3,
     "metadata": {},
     "output_type": "execute_result"
    }
   ],
   "source": [
    "isinstance(10,int)"
   ]
  },
  {
   "cell_type": "code",
   "execution_count": 4,
   "metadata": {},
   "outputs": [
    {
     "data": {
      "text/plain": [
       "False"
      ]
     },
     "execution_count": 4,
     "metadata": {},
     "output_type": "execute_result"
    }
   ],
   "source": [
    "isinstance(10.23,int)"
   ]
  },
  {
   "cell_type": "code",
   "execution_count": 5,
   "metadata": {},
   "outputs": [
    {
     "name": "stdout",
     "output_type": "stream",
     "text": [
      "expecting only integers\n"
     ]
    }
   ],
   "source": [
    "def add(a,b):\n",
    "    if isinstance(a,int) and isinstance(b,int):\n",
    "        print(\"a=%s, b=%s\"%(a,b))\n",
    "        print(\"res=\",a+b)\n",
    "    else:\n",
    "        print (\"expecting only integers\")\n",
    "add(\"str1\",\"str2\")"
   ]
  },
  {
   "cell_type": "code",
   "execution_count": 6,
   "metadata": {},
   "outputs": [
    {
     "name": "stdout",
     "output_type": "stream",
     "text": [
      "expecting only integers\n"
     ]
    }
   ],
   "source": [
    "def add(a,b):\n",
    "    if isinstance(a,int) and isinstance(b,int):\n",
    "        print(\"a=%s, b=%s\"%(a,b))\n",
    "        print(\"res=\",a+b)\n",
    "    else:\n",
    "        print (\"expecting only integers\")\n",
    "add(\"str1\",10)"
   ]
  },
  {
   "cell_type": "code",
   "execution_count": 7,
   "metadata": {},
   "outputs": [
    {
     "name": "stdout",
     "output_type": "stream",
     "text": [
      "expecting only integers\n"
     ]
    }
   ],
   "source": [
    "def add(a,b):\n",
    "    if isinstance(a,int) and isinstance(b,int):\n",
    "        print(\"a=%s, b=%s\"%(a,b))\n",
    "        print(\"res=\",a+b)\n",
    "    else:\n",
    "        print (\"expecting only integers\")\n",
    "add(10.23,10)"
   ]
  },
  {
   "cell_type": "code",
   "execution_count": 8,
   "metadata": {},
   "outputs": [
    {
     "name": "stdout",
     "output_type": "stream",
     "text": [
      "a=10.23, b=10\n",
      "res= 20.23\n"
     ]
    }
   ],
   "source": [
    "def add(a,b):\n",
    "    if isinstance(a,(int,float)) and isinstance(b,(int,float)):\n",
    "        print(\"a=%s, b=%s\"%(a,b))\n",
    "        print(\"res=\",a+b)\n",
    "    else:\n",
    "        print (\"expecting only integers and float\")\n",
    "add(10.23,10)"
   ]
  },
  {
   "cell_type": "code",
   "execution_count": 9,
   "metadata": {},
   "outputs": [
    {
     "name": "stdout",
     "output_type": "stream",
     "text": [
      "a=100, b=200\n",
      "res= 300\n"
     ]
    },
    {
     "ename": "TypeError",
     "evalue": "add() takes 2 positional arguments but 3 were given",
     "output_type": "error",
     "traceback": [
      "\u001b[0;31m---------------------------------------------------------------------------\u001b[0m",
      "\u001b[0;31mTypeError\u001b[0m                                 Traceback (most recent call last)",
      "\u001b[0;32m<ipython-input-9-3809df8d6b4f>\u001b[0m in \u001b[0;36m<module>\u001b[0;34m()\u001b[0m\n\u001b[1;32m      3\u001b[0m     \u001b[0mprint\u001b[0m\u001b[0;34m(\u001b[0m\u001b[0;34m\"res=\"\u001b[0m\u001b[0;34m,\u001b[0m\u001b[0ma\u001b[0m\u001b[0;34m+\u001b[0m\u001b[0mb\u001b[0m\u001b[0;34m)\u001b[0m\u001b[0;34m\u001b[0m\u001b[0m\n\u001b[1;32m      4\u001b[0m \u001b[0madd\u001b[0m\u001b[0;34m(\u001b[0m\u001b[0;36m100\u001b[0m\u001b[0;34m,\u001b[0m\u001b[0;36m200\u001b[0m\u001b[0;34m)\u001b[0m\u001b[0;34m\u001b[0m\u001b[0m\n\u001b[0;32m----> 5\u001b[0;31m \u001b[0madd\u001b[0m\u001b[0;34m(\u001b[0m\u001b[0;36m100\u001b[0m\u001b[0;34m,\u001b[0m\u001b[0;36m200\u001b[0m\u001b[0;34m,\u001b[0m\u001b[0;36m300\u001b[0m\u001b[0;34m)\u001b[0m\u001b[0;34m\u001b[0m\u001b[0m\n\u001b[0m",
      "\u001b[0;31mTypeError\u001b[0m: add() takes 2 positional arguments but 3 were given"
     ]
    }
   ],
   "source": [
    "def add(a,b):\n",
    "    print(\"a=%s, b=%s\"%(a,b))\n",
    "    print(\"res=\",a+b)\n",
    "add(100,200)\n",
    "add(100,200,300)"
   ]
  },
  {
   "cell_type": "code",
   "execution_count": 10,
   "metadata": {},
   "outputs": [
    {
     "ename": "TypeError",
     "evalue": "add() missing 3 required positional arguments: 'c', 'd', and 'e'",
     "output_type": "error",
     "traceback": [
      "\u001b[0;31m---------------------------------------------------------------------------\u001b[0m",
      "\u001b[0;31mTypeError\u001b[0m                                 Traceback (most recent call last)",
      "\u001b[0;32m<ipython-input-10-3cc3101cb089>\u001b[0m in \u001b[0;36m<module>\u001b[0;34m()\u001b[0m\n\u001b[1;32m      2\u001b[0m     \u001b[0mprint\u001b[0m\u001b[0;34m(\u001b[0m\u001b[0;34m\"a=%s, b=%s,c=%s,d=%s,e=%s\"\u001b[0m\u001b[0;34m%\u001b[0m\u001b[0;34m(\u001b[0m\u001b[0ma\u001b[0m\u001b[0;34m,\u001b[0m\u001b[0mb\u001b[0m\u001b[0;34m,\u001b[0m\u001b[0mc\u001b[0m\u001b[0;34m,\u001b[0m\u001b[0md\u001b[0m\u001b[0;34m,\u001b[0m\u001b[0me\u001b[0m\u001b[0;34m)\u001b[0m\u001b[0;34m)\u001b[0m\u001b[0;34m\u001b[0m\u001b[0m\n\u001b[1;32m      3\u001b[0m     \u001b[0mprint\u001b[0m\u001b[0;34m(\u001b[0m\u001b[0;34m\"res=\"\u001b[0m\u001b[0;34m,\u001b[0m\u001b[0ma\u001b[0m\u001b[0;34m+\u001b[0m\u001b[0mb\u001b[0m\u001b[0;34m+\u001b[0m\u001b[0mc\u001b[0m\u001b[0;34m+\u001b[0m\u001b[0md\u001b[0m\u001b[0;34m+\u001b[0m\u001b[0me\u001b[0m\u001b[0;34m)\u001b[0m\u001b[0;34m\u001b[0m\u001b[0m\n\u001b[0;32m----> 4\u001b[0;31m \u001b[0madd\u001b[0m\u001b[0;34m(\u001b[0m\u001b[0;36m100\u001b[0m\u001b[0;34m,\u001b[0m\u001b[0;36m200\u001b[0m\u001b[0;34m)\u001b[0m\u001b[0;34m\u001b[0m\u001b[0m\n\u001b[0m\u001b[1;32m      5\u001b[0m \u001b[0madd\u001b[0m\u001b[0;34m(\u001b[0m\u001b[0;36m100\u001b[0m\u001b[0;34m,\u001b[0m\u001b[0;36m200\u001b[0m\u001b[0;34m,\u001b[0m\u001b[0;36m300\u001b[0m\u001b[0;34m)\u001b[0m\u001b[0;34m\u001b[0m\u001b[0m\n",
      "\u001b[0;31mTypeError\u001b[0m: add() missing 3 required positional arguments: 'c', 'd', and 'e'"
     ]
    }
   ],
   "source": [
    "def add(a,b,c,d,e):\n",
    "    print(\"a=%s, b=%s,c=%s,d=%s,e=%s\"%(a,b,c,d,e))\n",
    "    print(\"res=\",a+b+c+d+e)\n",
    "add(100,200)\n",
    "add(100,200,300)"
   ]
  },
  {
   "cell_type": "code",
   "execution_count": 11,
   "metadata": {},
   "outputs": [
    {
     "name": "stdout",
     "output_type": "stream",
     "text": [
      "a=100, b=200,c=0,d=0,e=0\n",
      "res= 300\n",
      "a=100, b=200,c=300,d=0,e=0\n",
      "res= 600\n"
     ]
    }
   ],
   "source": [
    "def add(a,b,c,d,e):\n",
    "    print(\"a=%s, b=%s,c=%s,d=%s,e=%s\"%(a,b,c,d,e))\n",
    "    print(\"res=\",a+b+c+d+e)\n",
    "add(100,200,0,0,0)\n",
    "add(100,200,300,0,0)"
   ]
  },
  {
   "cell_type": "code",
   "execution_count": 12,
   "metadata": {},
   "outputs": [
    {
     "name": "stdout",
     "output_type": "stream",
     "text": [
      "a=100, b=200,c=0,d=0,e=0\n",
      "res= 300\n",
      "a=100, b=200,c=300,d=0,e=0\n",
      "res= 600\n",
      "a=10, b=20,c=30,d=40,e=0\n",
      "res= 100\n",
      "a=10, b=20,c=30,d=40,e=50\n",
      "res= 150\n"
     ]
    }
   ],
   "source": [
    "def add(a,b,c=0,d=0,e=0):\n",
    "    \"\"\"\n",
    "    mandatory parameters: a,b\n",
    "    optional parameters: c,d,e\n",
    "    function works well with int, float types, if you pass some other datatypes it will has restrictions with python\n",
    "    coherence\n",
    "    \"\"\"\n",
    "    print(\"a=%s, b=%s,c=%s,d=%s,e=%s\"%(a,b,c,d,e))\n",
    "    print(\"res=\",a+b+c+d+e)\n",
    "add(100,200)\n",
    "add(100,200,300)\n",
    "add(10,20,30,40)\n",
    "add(10,20,30,40,50)"
   ]
  },
  {
   "cell_type": "code",
   "execution_count": 13,
   "metadata": {},
   "outputs": [
    {
     "name": "stdout",
     "output_type": "stream",
     "text": [
      "a=100, b=200,c=0,d=0,e=0\n",
      "res= 300\n",
      "a=100, b=200,c=300,d=0,e=0\n",
      "res= 600\n",
      "a=10, b=20,c=30,d=40,e=0\n",
      "res= 100\n",
      "a=10, b=20,c=30,d=40,e=50\n",
      "res= 150\n",
      "a=a1, b=s2,c=s3,d=s4,e=s5\n",
      "res= a1s2s3s4s5\n"
     ]
    }
   ],
   "source": [
    "def add(a,b,c=0,d=0,e=0):\n",
    "    \"\"\"\n",
    "    mandatory parameters: a,b\n",
    "    optional parameters: c,d,e\n",
    "    function works well with int, float types, if you pass some other datatypes it will has restrictions with python\n",
    "    coherence\n",
    "    \"\"\"\n",
    "    print(\"a=%s, b=%s,c=%s,d=%s,e=%s\"%(a,b,c,d,e))\n",
    "    print(\"res=\",a+b+c+d+e)\n",
    "add(100,200)\n",
    "add(100,200,300)\n",
    "add(10,20,30,40)\n",
    "add(10,20,30,40,50)\n",
    "add(\"a1\",\"s2\",\"s3\",\"s4\",\"s5\")"
   ]
  },
  {
   "cell_type": "code",
   "execution_count": 14,
   "metadata": {},
   "outputs": [
    {
     "name": "stdout",
     "output_type": "stream",
     "text": [
      "a=100, b=200,c=0,d=0,e=0\n",
      "res= 300\n",
      "a=100, b=200,c=300,d=0,e=0\n",
      "res= 600\n",
      "a=10, b=20,c=30,d=40,e=0\n",
      "res= 100\n",
      "a=10, b=20,c=30,d=40,e=50\n",
      "res= 150\n",
      "a=a1, b=s2,c=s3,d=s4,e=s5\n",
      "res= a1s2s3s4s5\n",
      "a=a1, b=s2,c=s3,d=s4,e=0\n"
     ]
    },
    {
     "ename": "TypeError",
     "evalue": "can only concatenate str (not \"int\") to str",
     "output_type": "error",
     "traceback": [
      "\u001b[0;31m---------------------------------------------------------------------------\u001b[0m",
      "\u001b[0;31mTypeError\u001b[0m                                 Traceback (most recent call last)",
      "\u001b[0;32m<ipython-input-14-fabae5276096>\u001b[0m in \u001b[0;36m<module>\u001b[0;34m()\u001b[0m\n\u001b[1;32m     13\u001b[0m \u001b[0madd\u001b[0m\u001b[0;34m(\u001b[0m\u001b[0;36m10\u001b[0m\u001b[0;34m,\u001b[0m\u001b[0;36m20\u001b[0m\u001b[0;34m,\u001b[0m\u001b[0;36m30\u001b[0m\u001b[0;34m,\u001b[0m\u001b[0;36m40\u001b[0m\u001b[0;34m,\u001b[0m\u001b[0;36m50\u001b[0m\u001b[0;34m)\u001b[0m\u001b[0;34m\u001b[0m\u001b[0m\n\u001b[1;32m     14\u001b[0m \u001b[0madd\u001b[0m\u001b[0;34m(\u001b[0m\u001b[0;34m\"a1\"\u001b[0m\u001b[0;34m,\u001b[0m\u001b[0;34m\"s2\"\u001b[0m\u001b[0;34m,\u001b[0m\u001b[0;34m\"s3\"\u001b[0m\u001b[0;34m,\u001b[0m\u001b[0;34m\"s4\"\u001b[0m\u001b[0;34m,\u001b[0m\u001b[0;34m\"s5\"\u001b[0m\u001b[0;34m)\u001b[0m\u001b[0;34m\u001b[0m\u001b[0m\n\u001b[0;32m---> 15\u001b[0;31m \u001b[0madd\u001b[0m\u001b[0;34m(\u001b[0m\u001b[0;34m\"a1\"\u001b[0m\u001b[0;34m,\u001b[0m\u001b[0;34m\"s2\"\u001b[0m\u001b[0;34m,\u001b[0m\u001b[0;34m\"s3\"\u001b[0m\u001b[0;34m,\u001b[0m\u001b[0;34m\"s4\"\u001b[0m\u001b[0;34m)\u001b[0m\u001b[0;34m\u001b[0m\u001b[0m\n\u001b[0m",
      "\u001b[0;32m<ipython-input-14-fabae5276096>\u001b[0m in \u001b[0;36madd\u001b[0;34m(a, b, c, d, e)\u001b[0m\n\u001b[1;32m      7\u001b[0m     \"\"\"\n\u001b[1;32m      8\u001b[0m     \u001b[0mprint\u001b[0m\u001b[0;34m(\u001b[0m\u001b[0;34m\"a=%s, b=%s,c=%s,d=%s,e=%s\"\u001b[0m\u001b[0;34m%\u001b[0m\u001b[0;34m(\u001b[0m\u001b[0ma\u001b[0m\u001b[0;34m,\u001b[0m\u001b[0mb\u001b[0m\u001b[0;34m,\u001b[0m\u001b[0mc\u001b[0m\u001b[0;34m,\u001b[0m\u001b[0md\u001b[0m\u001b[0;34m,\u001b[0m\u001b[0me\u001b[0m\u001b[0;34m)\u001b[0m\u001b[0;34m)\u001b[0m\u001b[0;34m\u001b[0m\u001b[0m\n\u001b[0;32m----> 9\u001b[0;31m     \u001b[0mprint\u001b[0m\u001b[0;34m(\u001b[0m\u001b[0;34m\"res=\"\u001b[0m\u001b[0;34m,\u001b[0m\u001b[0ma\u001b[0m\u001b[0;34m+\u001b[0m\u001b[0mb\u001b[0m\u001b[0;34m+\u001b[0m\u001b[0mc\u001b[0m\u001b[0;34m+\u001b[0m\u001b[0md\u001b[0m\u001b[0;34m+\u001b[0m\u001b[0me\u001b[0m\u001b[0;34m)\u001b[0m\u001b[0;34m\u001b[0m\u001b[0m\n\u001b[0m\u001b[1;32m     10\u001b[0m \u001b[0madd\u001b[0m\u001b[0;34m(\u001b[0m\u001b[0;36m100\u001b[0m\u001b[0;34m,\u001b[0m\u001b[0;36m200\u001b[0m\u001b[0;34m)\u001b[0m\u001b[0;34m\u001b[0m\u001b[0m\n\u001b[1;32m     11\u001b[0m \u001b[0madd\u001b[0m\u001b[0;34m(\u001b[0m\u001b[0;36m100\u001b[0m\u001b[0;34m,\u001b[0m\u001b[0;36m200\u001b[0m\u001b[0;34m,\u001b[0m\u001b[0;36m300\u001b[0m\u001b[0;34m)\u001b[0m\u001b[0;34m\u001b[0m\u001b[0m\n",
      "\u001b[0;31mTypeError\u001b[0m: can only concatenate str (not \"int\") to str"
     ]
    }
   ],
   "source": [
    "def add(a,b,c=0,d=0,e=0):\n",
    "    \"\"\"\n",
    "    mandatory parameters: a,b\n",
    "    optional parameters: c,d,e\n",
    "    function works well with int, float types, if you pass some other datatypes it will has restrictions with python\n",
    "    coherence\n",
    "    \"\"\"\n",
    "    print(\"a=%s, b=%s,c=%s,d=%s,e=%s\"%(a,b,c,d,e))\n",
    "    print(\"res=\",a+b+c+d+e)\n",
    "add(100,200)\n",
    "add(100,200,300)\n",
    "add(10,20,30,40)\n",
    "add(10,20,30,40,50)\n",
    "add(\"a1\",\"s2\",\"s3\",\"s4\",\"s5\")\n",
    "add(\"a1\",\"s2\",\"s3\",\"s4\")"
   ]
  },
  {
   "cell_type": "code",
   "execution_count": null,
   "metadata": {},
   "outputs": [],
   "source": [
    "def add(a,b,c=0,d=0,e=0):\n",
    "    \"\"\"\n",
    "    mandatory parameters: a,b\n",
    "    optional parameters: c,d,e\n",
    "    function works well with int, float types, if you pass some other datatypes it will has restrictions with python\n",
    "    coherence\n",
    "    \"\"\"\n",
    "    print(\"a=%s, b=%s,c=%s,d=%s,e=%s\"%(a,b,c,d,e))\n",
    "    print(\"res=\",a+b+c+d+e)\n",
    "add(100,200)\n",
    "add(100,200,300)\n",
    "add(10,20,30,40)\n",
    "add(10,20,30,40,50)\n",
    "add(\"a1\",\"s2\",\"s3\",\"s4\",\"s5\")\n"
   ]
  }
 ],
 "metadata": {
  "kernelspec": {
   "display_name": "Python 3",
   "language": "python",
   "name": "python3"
  },
  "language_info": {
   "codemirror_mode": {
    "name": "ipython",
    "version": 3
   },
   "file_extension": ".py",
   "mimetype": "text/x-python",
   "name": "python",
   "nbconvert_exporter": "python",
   "pygments_lexer": "ipython3",
   "version": "3.7.0"
  }
 },
 "nbformat": 4,
 "nbformat_minor": 2
}
