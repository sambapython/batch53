{
 "cells": [
  {
   "cell_type": "code",
   "execution_count": 1,
   "metadata": {},
   "outputs": [
    {
     "name": "stdout",
     "output_type": "stream",
     "text": [
      "Welcome\n",
      "thank you!!\n"
     ]
    }
   ],
   "source": [
    "print(\"Welcome\")\n",
    "def fun():\n",
    "    print(\"this is function\")\n",
    "print(\"thank you!!\")"
   ]
  },
  {
   "cell_type": "code",
   "execution_count": 2,
   "metadata": {},
   "outputs": [
    {
     "name": "stdout",
     "output_type": "stream",
     "text": [
      "Welcome\n",
      "thank you!!\n",
      "this is function\n"
     ]
    }
   ],
   "source": [
    "print(\"Welcome\")\n",
    "def fun():\n",
    "    print(\"this is function\")\n",
    "print(\"thank you!!\")\n",
    "fun()"
   ]
  },
  {
   "cell_type": "code",
   "execution_count": 3,
   "metadata": {},
   "outputs": [
    {
     "name": "stdout",
     "output_type": "stream",
     "text": [
      "Welcome\n",
      "this is function\n",
      "thank you!!\n",
      "this is function\n"
     ]
    }
   ],
   "source": [
    "print(\"Welcome\")\n",
    "def fun():\n",
    "    print(\"this is function\")\n",
    "fun()\n",
    "print(\"thank you!!\")\n",
    "fun()"
   ]
  },
  {
   "cell_type": "code",
   "execution_count": 4,
   "metadata": {},
   "outputs": [
    {
     "name": "stdout",
     "output_type": "stream",
     "text": [
      "Welcome\n",
      "this is function\n",
      "thank you!!\n",
      "this is function\n",
      "this is function\n"
     ]
    }
   ],
   "source": [
    "print(\"Welcome\")\n",
    "def fun():\n",
    "    print(\"this is function\")\n",
    "fun()\n",
    "print(\"thank you!!\")\n",
    "fun()\n",
    "fun()"
   ]
  },
  {
   "cell_type": "code",
   "execution_count": 5,
   "metadata": {},
   "outputs": [
    {
     "name": "stdout",
     "output_type": "stream",
     "text": [
      "Welcome\n",
      "a=10, b=20\n",
      "res=30\n",
      "a=1, b=2\n",
      "res=3\n",
      "a=100, b=200\n",
      "res=300\n",
      "thank you!!\n"
     ]
    }
   ],
   "source": [
    "print(\"Welcome\")\n",
    "def fun(a,b):\n",
    "    print(\"a=%s, b=%s\"%(a,b))\n",
    "    print(\"res=%s\"%(a+b))\n",
    "fun(10,20)\n",
    "fun(1,2)\n",
    "fun(100,200)\n",
    "print(\"thank you!!\")"
   ]
  },
  {
   "cell_type": "code",
   "execution_count": 6,
   "metadata": {},
   "outputs": [
    {
     "name": "stdout",
     "output_type": "stream",
     "text": [
      "a=100, b=20\n",
      "res= 120\n"
     ]
    }
   ],
   "source": [
    "# add, sub, mul, div\n",
    "def add(a,b):\n",
    "    print(\"a=%s, b=%s\"%(a,b))\n",
    "    print(\"res=\",a+b)\n",
    "def sub(a,b):\n",
    "    print(\"a=%s, b=%s\"%(a,b))\n",
    "    print(\"res=\",a-b)\n",
    "def mul(a,b):\n",
    "    print(\"a=%s, b=%s\"%(a,b))\n",
    "    print(\"res=\",a*b)\n",
    "def div(a,b):\n",
    "    print(\"a=%s, b=%s\"%(a,b))\n",
    "    print(\"res=\",a/b)\n",
    "\n",
    "add(100,20)\n"
   ]
  },
  {
   "cell_type": "code",
   "execution_count": null,
   "metadata": {},
   "outputs": [],
   "source": [
    "# add, sub, mul, div\n",
    "def add(a,b):\n",
    "    print(\"a=%s, b=%s\"%(a,b))\n",
    "    print(\"res=\",a+b)\n",
    "def sub(a,b):\n",
    "    print(\"a=%s, b=%s\"%(a,b))\n",
    "    print(\"res=\",a-b)\n",
    "def mul(a,b):\n",
    "    print(\"a=%s, b=%s\"%(a,b))\n",
    "    print(\"res=\",a*b)\n",
    "def div(a,b):\n",
    "    print(\"a=%s, b=%s\"%(a,b))\n",
    "    print(\"res=\",a/b)\n",
    "\n",
    "add(10**10000000,20**100000000)\n"
   ]
  },
  {
   "cell_type": "code",
   "execution_count": 1,
   "metadata": {},
   "outputs": [
    {
     "name": "stdout",
     "output_type": "stream",
     "text": [
      "a=10, b=20\n",
      "res= 30\n"
     ]
    }
   ],
   "source": [
    "def add(a,b):\n",
    "    print(\"a=%s, b=%s\"%(a,b))\n",
    "    print(\"res=\",a+b)\n",
    "add(10,20)"
   ]
  },
  {
   "cell_type": "code",
   "execution_count": 2,
   "metadata": {},
   "outputs": [
    {
     "name": "stdout",
     "output_type": "stream",
     "text": [
      "a=str1, b=str2\n",
      "res= str1str2\n"
     ]
    }
   ],
   "source": [
    "def add(a,b):\n",
    "    print(\"a=%s, b=%s\"%(a,b))\n",
    "    print(\"res=\",a+b)\n",
    "add(\"str1\",\"str2\")"
   ]
  },
  {
   "cell_type": "code",
   "execution_count": 3,
   "metadata": {},
   "outputs": [
    {
     "data": {
      "text/plain": [
       "True"
      ]
     },
     "execution_count": 3,
     "metadata": {},
     "output_type": "execute_result"
    }
   ],
   "source": [
    "isinstance(10,int)"
   ]
  },
  {
   "cell_type": "code",
   "execution_count": 4,
   "metadata": {},
   "outputs": [
    {
     "data": {
      "text/plain": [
       "False"
      ]
     },
     "execution_count": 4,
     "metadata": {},
     "output_type": "execute_result"
    }
   ],
   "source": [
    "isinstance(10.23,int)"
   ]
  },
  {
   "cell_type": "code",
   "execution_count": 5,
   "metadata": {},
   "outputs": [
    {
     "name": "stdout",
     "output_type": "stream",
     "text": [
      "expecting only integers\n"
     ]
    }
   ],
   "source": [
    "def add(a,b):\n",
    "    if isinstance(a,int) and isinstance(b,int):\n",
    "        print(\"a=%s, b=%s\"%(a,b))\n",
    "        print(\"res=\",a+b)\n",
    "    else:\n",
    "        print (\"expecting only integers\")\n",
    "add(\"str1\",\"str2\")"
   ]
  },
  {
   "cell_type": "code",
   "execution_count": 6,
   "metadata": {},
   "outputs": [
    {
     "name": "stdout",
     "output_type": "stream",
     "text": [
      "expecting only integers\n"
     ]
    }
   ],
   "source": [
    "def add(a,b):\n",
    "    if isinstance(a,int) and isinstance(b,int):\n",
    "        print(\"a=%s, b=%s\"%(a,b))\n",
    "        print(\"res=\",a+b)\n",
    "    else:\n",
    "        print (\"expecting only integers\")\n",
    "add(\"str1\",10)"
   ]
  },
  {
   "cell_type": "code",
   "execution_count": 7,
   "metadata": {},
   "outputs": [
    {
     "name": "stdout",
     "output_type": "stream",
     "text": [
      "expecting only integers\n"
     ]
    }
   ],
   "source": [
    "def add(a,b):\n",
    "    if isinstance(a,int) and isinstance(b,int):\n",
    "        print(\"a=%s, b=%s\"%(a,b))\n",
    "        print(\"res=\",a+b)\n",
    "    else:\n",
    "        print (\"expecting only integers\")\n",
    "add(10.23,10)"
   ]
  },
  {
   "cell_type": "code",
   "execution_count": 8,
   "metadata": {},
   "outputs": [
    {
     "name": "stdout",
     "output_type": "stream",
     "text": [
      "a=10.23, b=10\n",
      "res= 20.23\n"
     ]
    }
   ],
   "source": [
    "def add(a,b):\n",
    "    if isinstance(a,(int,float)) and isinstance(b,(int,float)):\n",
    "        print(\"a=%s, b=%s\"%(a,b))\n",
    "        print(\"res=\",a+b)\n",
    "    else:\n",
    "        print (\"expecting only integers and float\")\n",
    "add(10.23,10)"
   ]
  },
  {
   "cell_type": "code",
   "execution_count": 9,
   "metadata": {},
   "outputs": [
    {
     "name": "stdout",
     "output_type": "stream",
     "text": [
      "a=100, b=200\n",
      "res= 300\n"
     ]
    },
    {
     "ename": "TypeError",
     "evalue": "add() takes 2 positional arguments but 3 were given",
     "output_type": "error",
     "traceback": [
      "\u001b[0;31m---------------------------------------------------------------------------\u001b[0m",
      "\u001b[0;31mTypeError\u001b[0m                                 Traceback (most recent call last)",
      "\u001b[0;32m<ipython-input-9-3809df8d6b4f>\u001b[0m in \u001b[0;36m<module>\u001b[0;34m()\u001b[0m\n\u001b[1;32m      3\u001b[0m     \u001b[0mprint\u001b[0m\u001b[0;34m(\u001b[0m\u001b[0;34m\"res=\"\u001b[0m\u001b[0;34m,\u001b[0m\u001b[0ma\u001b[0m\u001b[0;34m+\u001b[0m\u001b[0mb\u001b[0m\u001b[0;34m)\u001b[0m\u001b[0;34m\u001b[0m\u001b[0m\n\u001b[1;32m      4\u001b[0m \u001b[0madd\u001b[0m\u001b[0;34m(\u001b[0m\u001b[0;36m100\u001b[0m\u001b[0;34m,\u001b[0m\u001b[0;36m200\u001b[0m\u001b[0;34m)\u001b[0m\u001b[0;34m\u001b[0m\u001b[0m\n\u001b[0;32m----> 5\u001b[0;31m \u001b[0madd\u001b[0m\u001b[0;34m(\u001b[0m\u001b[0;36m100\u001b[0m\u001b[0;34m,\u001b[0m\u001b[0;36m200\u001b[0m\u001b[0;34m,\u001b[0m\u001b[0;36m300\u001b[0m\u001b[0;34m)\u001b[0m\u001b[0;34m\u001b[0m\u001b[0m\n\u001b[0m",
      "\u001b[0;31mTypeError\u001b[0m: add() takes 2 positional arguments but 3 were given"
     ]
    }
   ],
   "source": [
    "def add(a,b):\n",
    "    print(\"a=%s, b=%s\"%(a,b))\n",
    "    print(\"res=\",a+b)\n",
    "add(100,200)\n",
    "add(100,200,300)"
   ]
  },
  {
   "cell_type": "code",
   "execution_count": 10,
   "metadata": {},
   "outputs": [
    {
     "ename": "TypeError",
     "evalue": "add() missing 3 required positional arguments: 'c', 'd', and 'e'",
     "output_type": "error",
     "traceback": [
      "\u001b[0;31m---------------------------------------------------------------------------\u001b[0m",
      "\u001b[0;31mTypeError\u001b[0m                                 Traceback (most recent call last)",
      "\u001b[0;32m<ipython-input-10-3cc3101cb089>\u001b[0m in \u001b[0;36m<module>\u001b[0;34m()\u001b[0m\n\u001b[1;32m      2\u001b[0m     \u001b[0mprint\u001b[0m\u001b[0;34m(\u001b[0m\u001b[0;34m\"a=%s, b=%s,c=%s,d=%s,e=%s\"\u001b[0m\u001b[0;34m%\u001b[0m\u001b[0;34m(\u001b[0m\u001b[0ma\u001b[0m\u001b[0;34m,\u001b[0m\u001b[0mb\u001b[0m\u001b[0;34m,\u001b[0m\u001b[0mc\u001b[0m\u001b[0;34m,\u001b[0m\u001b[0md\u001b[0m\u001b[0;34m,\u001b[0m\u001b[0me\u001b[0m\u001b[0;34m)\u001b[0m\u001b[0;34m)\u001b[0m\u001b[0;34m\u001b[0m\u001b[0m\n\u001b[1;32m      3\u001b[0m     \u001b[0mprint\u001b[0m\u001b[0;34m(\u001b[0m\u001b[0;34m\"res=\"\u001b[0m\u001b[0;34m,\u001b[0m\u001b[0ma\u001b[0m\u001b[0;34m+\u001b[0m\u001b[0mb\u001b[0m\u001b[0;34m+\u001b[0m\u001b[0mc\u001b[0m\u001b[0;34m+\u001b[0m\u001b[0md\u001b[0m\u001b[0;34m+\u001b[0m\u001b[0me\u001b[0m\u001b[0;34m)\u001b[0m\u001b[0;34m\u001b[0m\u001b[0m\n\u001b[0;32m----> 4\u001b[0;31m \u001b[0madd\u001b[0m\u001b[0;34m(\u001b[0m\u001b[0;36m100\u001b[0m\u001b[0;34m,\u001b[0m\u001b[0;36m200\u001b[0m\u001b[0;34m)\u001b[0m\u001b[0;34m\u001b[0m\u001b[0m\n\u001b[0m\u001b[1;32m      5\u001b[0m \u001b[0madd\u001b[0m\u001b[0;34m(\u001b[0m\u001b[0;36m100\u001b[0m\u001b[0;34m,\u001b[0m\u001b[0;36m200\u001b[0m\u001b[0;34m,\u001b[0m\u001b[0;36m300\u001b[0m\u001b[0;34m)\u001b[0m\u001b[0;34m\u001b[0m\u001b[0m\n",
      "\u001b[0;31mTypeError\u001b[0m: add() missing 3 required positional arguments: 'c', 'd', and 'e'"
     ]
    }
   ],
   "source": [
    "def add(a,b,c,d,e):\n",
    "    print(\"a=%s, b=%s,c=%s,d=%s,e=%s\"%(a,b,c,d,e))\n",
    "    print(\"res=\",a+b+c+d+e)\n",
    "add(100,200)\n",
    "add(100,200,300)"
   ]
  },
  {
   "cell_type": "code",
   "execution_count": 11,
   "metadata": {},
   "outputs": [
    {
     "name": "stdout",
     "output_type": "stream",
     "text": [
      "a=100, b=200,c=0,d=0,e=0\n",
      "res= 300\n",
      "a=100, b=200,c=300,d=0,e=0\n",
      "res= 600\n"
     ]
    }
   ],
   "source": [
    "def add(a,b,c,d,e):\n",
    "    print(\"a=%s, b=%s,c=%s,d=%s,e=%s\"%(a,b,c,d,e))\n",
    "    print(\"res=\",a+b+c+d+e)\n",
    "add(100,200,0,0,0)\n",
    "add(100,200,300,0,0)"
   ]
  },
  {
   "cell_type": "code",
   "execution_count": 12,
   "metadata": {},
   "outputs": [
    {
     "name": "stdout",
     "output_type": "stream",
     "text": [
      "a=100, b=200,c=0,d=0,e=0\n",
      "res= 300\n",
      "a=100, b=200,c=300,d=0,e=0\n",
      "res= 600\n",
      "a=10, b=20,c=30,d=40,e=0\n",
      "res= 100\n",
      "a=10, b=20,c=30,d=40,e=50\n",
      "res= 150\n"
     ]
    }
   ],
   "source": [
    "def add(a,b,c=0,d=0,e=0):\n",
    "    \"\"\"\n",
    "    mandatory parameters: a,b\n",
    "    optional parameters: c,d,e\n",
    "    function works well with int, float types, if you pass some other datatypes it will has restrictions with python\n",
    "    coherence\n",
    "    \"\"\"\n",
    "    print(\"a=%s, b=%s,c=%s,d=%s,e=%s\"%(a,b,c,d,e))\n",
    "    print(\"res=\",a+b+c+d+e)\n",
    "add(100,200)\n",
    "add(100,200,300)\n",
    "add(10,20,30,40)\n",
    "add(10,20,30,40,50)"
   ]
  },
  {
   "cell_type": "code",
   "execution_count": 13,
   "metadata": {},
   "outputs": [
    {
     "name": "stdout",
     "output_type": "stream",
     "text": [
      "a=100, b=200,c=0,d=0,e=0\n",
      "res= 300\n",
      "a=100, b=200,c=300,d=0,e=0\n",
      "res= 600\n",
      "a=10, b=20,c=30,d=40,e=0\n",
      "res= 100\n",
      "a=10, b=20,c=30,d=40,e=50\n",
      "res= 150\n",
      "a=a1, b=s2,c=s3,d=s4,e=s5\n",
      "res= a1s2s3s4s5\n"
     ]
    }
   ],
   "source": [
    "def add(a,b,c=0,d=0,e=0):\n",
    "    \"\"\"\n",
    "    mandatory parameters: a,b\n",
    "    optional parameters: c,d,e\n",
    "    function works well with int, float types, if you pass some other datatypes it will has restrictions with python\n",
    "    coherence\n",
    "    \"\"\"\n",
    "    print(\"a=%s, b=%s,c=%s,d=%s,e=%s\"%(a,b,c,d,e))\n",
    "    print(\"res=\",a+b+c+d+e)\n",
    "add(100,200)\n",
    "add(100,200,300)\n",
    "add(10,20,30,40)\n",
    "add(10,20,30,40,50)\n",
    "add(\"a1\",\"s2\",\"s3\",\"s4\",\"s5\")"
   ]
  },
  {
   "cell_type": "code",
   "execution_count": 14,
   "metadata": {},
   "outputs": [
    {
     "name": "stdout",
     "output_type": "stream",
     "text": [
      "a=100, b=200,c=0,d=0,e=0\n",
      "res= 300\n",
      "a=100, b=200,c=300,d=0,e=0\n",
      "res= 600\n",
      "a=10, b=20,c=30,d=40,e=0\n",
      "res= 100\n",
      "a=10, b=20,c=30,d=40,e=50\n",
      "res= 150\n",
      "a=a1, b=s2,c=s3,d=s4,e=s5\n",
      "res= a1s2s3s4s5\n",
      "a=a1, b=s2,c=s3,d=s4,e=0\n"
     ]
    },
    {
     "ename": "TypeError",
     "evalue": "can only concatenate str (not \"int\") to str",
     "output_type": "error",
     "traceback": [
      "\u001b[0;31m---------------------------------------------------------------------------\u001b[0m",
      "\u001b[0;31mTypeError\u001b[0m                                 Traceback (most recent call last)",
      "\u001b[0;32m<ipython-input-14-fabae5276096>\u001b[0m in \u001b[0;36m<module>\u001b[0;34m()\u001b[0m\n\u001b[1;32m     13\u001b[0m \u001b[0madd\u001b[0m\u001b[0;34m(\u001b[0m\u001b[0;36m10\u001b[0m\u001b[0;34m,\u001b[0m\u001b[0;36m20\u001b[0m\u001b[0;34m,\u001b[0m\u001b[0;36m30\u001b[0m\u001b[0;34m,\u001b[0m\u001b[0;36m40\u001b[0m\u001b[0;34m,\u001b[0m\u001b[0;36m50\u001b[0m\u001b[0;34m)\u001b[0m\u001b[0;34m\u001b[0m\u001b[0m\n\u001b[1;32m     14\u001b[0m \u001b[0madd\u001b[0m\u001b[0;34m(\u001b[0m\u001b[0;34m\"a1\"\u001b[0m\u001b[0;34m,\u001b[0m\u001b[0;34m\"s2\"\u001b[0m\u001b[0;34m,\u001b[0m\u001b[0;34m\"s3\"\u001b[0m\u001b[0;34m,\u001b[0m\u001b[0;34m\"s4\"\u001b[0m\u001b[0;34m,\u001b[0m\u001b[0;34m\"s5\"\u001b[0m\u001b[0;34m)\u001b[0m\u001b[0;34m\u001b[0m\u001b[0m\n\u001b[0;32m---> 15\u001b[0;31m \u001b[0madd\u001b[0m\u001b[0;34m(\u001b[0m\u001b[0;34m\"a1\"\u001b[0m\u001b[0;34m,\u001b[0m\u001b[0;34m\"s2\"\u001b[0m\u001b[0;34m,\u001b[0m\u001b[0;34m\"s3\"\u001b[0m\u001b[0;34m,\u001b[0m\u001b[0;34m\"s4\"\u001b[0m\u001b[0;34m)\u001b[0m\u001b[0;34m\u001b[0m\u001b[0m\n\u001b[0m",
      "\u001b[0;32m<ipython-input-14-fabae5276096>\u001b[0m in \u001b[0;36madd\u001b[0;34m(a, b, c, d, e)\u001b[0m\n\u001b[1;32m      7\u001b[0m     \"\"\"\n\u001b[1;32m      8\u001b[0m     \u001b[0mprint\u001b[0m\u001b[0;34m(\u001b[0m\u001b[0;34m\"a=%s, b=%s,c=%s,d=%s,e=%s\"\u001b[0m\u001b[0;34m%\u001b[0m\u001b[0;34m(\u001b[0m\u001b[0ma\u001b[0m\u001b[0;34m,\u001b[0m\u001b[0mb\u001b[0m\u001b[0;34m,\u001b[0m\u001b[0mc\u001b[0m\u001b[0;34m,\u001b[0m\u001b[0md\u001b[0m\u001b[0;34m,\u001b[0m\u001b[0me\u001b[0m\u001b[0;34m)\u001b[0m\u001b[0;34m)\u001b[0m\u001b[0;34m\u001b[0m\u001b[0m\n\u001b[0;32m----> 9\u001b[0;31m     \u001b[0mprint\u001b[0m\u001b[0;34m(\u001b[0m\u001b[0;34m\"res=\"\u001b[0m\u001b[0;34m,\u001b[0m\u001b[0ma\u001b[0m\u001b[0;34m+\u001b[0m\u001b[0mb\u001b[0m\u001b[0;34m+\u001b[0m\u001b[0mc\u001b[0m\u001b[0;34m+\u001b[0m\u001b[0md\u001b[0m\u001b[0;34m+\u001b[0m\u001b[0me\u001b[0m\u001b[0;34m)\u001b[0m\u001b[0;34m\u001b[0m\u001b[0m\n\u001b[0m\u001b[1;32m     10\u001b[0m \u001b[0madd\u001b[0m\u001b[0;34m(\u001b[0m\u001b[0;36m100\u001b[0m\u001b[0;34m,\u001b[0m\u001b[0;36m200\u001b[0m\u001b[0;34m)\u001b[0m\u001b[0;34m\u001b[0m\u001b[0m\n\u001b[1;32m     11\u001b[0m \u001b[0madd\u001b[0m\u001b[0;34m(\u001b[0m\u001b[0;36m100\u001b[0m\u001b[0;34m,\u001b[0m\u001b[0;36m200\u001b[0m\u001b[0;34m,\u001b[0m\u001b[0;36m300\u001b[0m\u001b[0;34m)\u001b[0m\u001b[0;34m\u001b[0m\u001b[0m\n",
      "\u001b[0;31mTypeError\u001b[0m: can only concatenate str (not \"int\") to str"
     ]
    }
   ],
   "source": [
    "def add(a,b,c=0,d=0,e=0):\n",
    "    \"\"\"\n",
    "    mandatory parameters: a,b\n",
    "    optional parameters: c,d,e\n",
    "    function works well with int, float types, if you pass some other datatypes it will has restrictions with python\n",
    "    coherence\n",
    "    \"\"\"\n",
    "    print(\"a=%s, b=%s,c=%s,d=%s,e=%s\"%(a,b,c,d,e))\n",
    "    print(\"res=\",a+b+c+d+e)\n",
    "add(100,200)\n",
    "add(100,200,300)\n",
    "add(10,20,30,40)\n",
    "add(10,20,30,40,50)\n",
    "add(\"a1\",\"s2\",\"s3\",\"s4\",\"s5\")\n",
    "add(\"a1\",\"s2\",\"s3\",\"s4\")"
   ]
  },
  {
   "cell_type": "code",
   "execution_count": 1,
   "metadata": {},
   "outputs": [
    {
     "name": "stdout",
     "output_type": "stream",
     "text": [
      "a=100, b=200,c=0,d=0,e=0\n",
      "res= 300\n",
      "a=100, b=200,c=0,d=300,e=0\n",
      "res= 600\n"
     ]
    }
   ],
   "source": [
    "def add(a,b,c=0,d=0,e=0):\n",
    "    \"\"\"\n",
    "    mandatory parameters: a,b\n",
    "    optional parameters: c,d,e\n",
    "    function works well with int, float types, if you pass some other datatypes it will has restrictions with python\n",
    "    coherence\n",
    "    \"\"\"\n",
    "    print(\"a=%s, b=%s,c=%s,d=%s,e=%s\"%(a,b,c,d,e))\n",
    "    print(\"res=\",a+b+c+d+e)\n",
    "add(100,200)\n",
    "add(100,200,0,300)\n"
   ]
  },
  {
   "cell_type": "code",
   "execution_count": 2,
   "metadata": {},
   "outputs": [
    {
     "name": "stdout",
     "output_type": "stream",
     "text": [
      "a=100, b=200,c=0,d=0,e=0\n",
      "res= 300\n",
      "a=100, b=200,c=0,d=0,e=300\n",
      "res= 600\n"
     ]
    }
   ],
   "source": [
    "def add(a,b,c=0,d=0,e=0):\n",
    "    \"\"\"\n",
    "    mandatory parameters: a,b\n",
    "    optional parameters: c,d,e\n",
    "    function works well with int, float types, if you pass some other datatypes it will has restrictions with python\n",
    "    coherence\n",
    "    \"\"\"\n",
    "    print(\"a=%s, b=%s,c=%s,d=%s,e=%s\"%(a,b,c,d,e))\n",
    "    print(\"res=\",a+b+c+d+e)\n",
    "add(100,200)\n",
    "add(100,200,0,0,300)\n"
   ]
  },
  {
   "cell_type": "code",
   "execution_count": 3,
   "metadata": {},
   "outputs": [],
   "source": [
    "import pandas as pd"
   ]
  },
  {
   "cell_type": "code",
   "execution_count": 4,
   "metadata": {},
   "outputs": [],
   "source": [
    "pd.read_csv?"
   ]
  },
  {
   "cell_type": "code",
   "execution_count": 5,
   "metadata": {},
   "outputs": [
    {
     "name": "stdout",
     "output_type": "stream",
     "text": [
      "a=100, b=200,c=0,d=0,e=0\n",
      "res= 300\n",
      "a=100, b=200,c=0,d=0,e=300\n",
      "res= 600\n"
     ]
    }
   ],
   "source": [
    "def add(a,b,c=0,d=0,e=0):\n",
    "    \"\"\"\n",
    "    mandatory parameters: a,b\n",
    "    optional parameters: c,d,e\n",
    "    function works well with int, float types, if you pass some other datatypes it will has restrictions with python\n",
    "    coherence\n",
    "    \"\"\"\n",
    "    print(\"a=%s, b=%s,c=%s,d=%s,e=%s\"%(a,b,c,d,e))\n",
    "    print(\"res=\",a+b+c+d+e)\n",
    "add(100,200)\n",
    "# keyword arguments\n",
    "add(100,200,e=300)"
   ]
  },
  {
   "cell_type": "code",
   "execution_count": 6,
   "metadata": {},
   "outputs": [
    {
     "name": "stdout",
     "output_type": "stream",
     "text": [
      "a=100, b=200,c=0,d=0,e=0\n",
      "res= 300\n",
      "a=200, b=100,c=0,d=0,e=300\n",
      "res= 600\n"
     ]
    }
   ],
   "source": [
    "def add(a,b,c=0,d=0,e=0):\n",
    "    \"\"\"\n",
    "    mandatory parameters: a,b\n",
    "    optional parameters: c,d,e\n",
    "    function works well with int, float types, if you pass some other datatypes it will has restrictions with python\n",
    "    coherence\n",
    "    \"\"\"\n",
    "    print(\"a=%s, b=%s,c=%s,d=%s,e=%s\"%(a,b,c,d,e))\n",
    "    print(\"res=\",a+b+c+d+e)\n",
    "add(100,200)\n",
    "# keyword arguments\n",
    "add(b=100,a=200,e=300)"
   ]
  },
  {
   "cell_type": "code",
   "execution_count": 7,
   "metadata": {},
   "outputs": [
    {
     "name": "stdout",
     "output_type": "stream",
     "text": [
      "a=100, b=200,c=0,d=0,e=0\n",
      "res= 300\n",
      "a=200, b=100,c=0,d=0,e=300\n",
      "res= 600\n",
      "a=100, b=200,c=0,d=0,e=400\n",
      "res= 700\n",
      "a=100, b=300,c=500,d=0,e=0\n",
      "res= 900\n"
     ]
    }
   ],
   "source": [
    "def add(a,b,c=0,d=0,e=0):\n",
    "    \"\"\"\n",
    "    mandatory parameters: a,b\n",
    "    optional parameters: c,d,e\n",
    "    function works well with int, float types, if you pass some other datatypes it will has restrictions with python\n",
    "    coherence\n",
    "    \"\"\"\n",
    "    print(\"a=%s, b=%s,c=%s,d=%s,e=%s\"%(a,b,c,d,e))\n",
    "    print(\"res=\",a+b+c+d+e)\n",
    "add(100,200)\n",
    "# keyword arguments\n",
    "add(b=100,a=200,e=300)\n",
    "add(100,200,e=400)\n",
    "add(100,b=300,c=500)"
   ]
  },
  {
   "cell_type": "code",
   "execution_count": 8,
   "metadata": {},
   "outputs": [
    {
     "ename": "SyntaxError",
     "evalue": "positional argument follows keyword argument (<ipython-input-8-09f6cbf21f9a>, line 15)",
     "output_type": "error",
     "traceback": [
      "\u001b[0;36m  File \u001b[0;32m\"<ipython-input-8-09f6cbf21f9a>\"\u001b[0;36m, line \u001b[0;32m15\u001b[0m\n\u001b[0;31m    add(a=300,200)\u001b[0m\n\u001b[0m             ^\u001b[0m\n\u001b[0;31mSyntaxError\u001b[0m\u001b[0;31m:\u001b[0m positional argument follows keyword argument\n"
     ]
    }
   ],
   "source": [
    "def add(a,b,c=0,d=0,e=0):\n",
    "    \"\"\"\n",
    "    mandatory parameters: a,b\n",
    "    optional parameters: c,d,e\n",
    "    function works well with int, float types, if you pass some other datatypes it will has restrictions with python\n",
    "    coherence\n",
    "    \"\"\"\n",
    "    print(\"a=%s, b=%s,c=%s,d=%s,e=%s\"%(a,b,c,d,e))\n",
    "    print(\"res=\",a+b+c+d+e)\n",
    "add(100,200)\n",
    "# keyword arguments\n",
    "add(b=100,a=200,e=300)\n",
    "add(100,200,e=400)\n",
    "add(100,b=300,c=500)\n",
    "add(a=300,200)"
   ]
  },
  {
   "cell_type": "code",
   "execution_count": 9,
   "metadata": {},
   "outputs": [
    {
     "name": "stdout",
     "output_type": "stream",
     "text": [
      "a=100, b=200,c=0,d=0,e=0\n",
      "res= 300\n",
      "a=200, b=100,c=0,d=0,e=300\n",
      "res= 600\n",
      "a=100, b=200,c=0,d=0,e=400\n",
      "res= 700\n",
      "a=100, b=300,c=500,d=0,e=0\n",
      "res= 900\n"
     ]
    }
   ],
   "source": [
    "def add(a,b,c=0,d=0,e=0):\n",
    "    \"\"\"\n",
    "    mandatory parameters: a,b\n",
    "    optional parameters: c,d,e\n",
    "    function works well with int, float types, if you pass some other datatypes it will has restrictions with python\n",
    "    coherence\n",
    "    \"\"\"\n",
    "    print(\"a=%s, b=%s,c=%s,d=%s,e=%s\"%(a,b,c,d,e))\n",
    "    print(\"res=\",a+b+c+d+e)\n",
    "add(100,200)\n",
    "# keyword arguments\n",
    "add(b=100,a=200,e=300)\n",
    "add(100,200,e=400)\n",
    "add(100,b=300,c=500)\n"
   ]
  },
  {
   "cell_type": "code",
   "execution_count": 10,
   "metadata": {},
   "outputs": [
    {
     "ename": "TypeError",
     "evalue": "add() missing 1 required positional argument: 'b'",
     "output_type": "error",
     "traceback": [
      "\u001b[0;31m---------------------------------------------------------------------------\u001b[0m",
      "\u001b[0;31mTypeError\u001b[0m                                 Traceback (most recent call last)",
      "\u001b[0;32m<ipython-input-10-893ece10a84a>\u001b[0m in \u001b[0;36m<module>\u001b[0;34m()\u001b[0m\n\u001b[1;32m      8\u001b[0m     \u001b[0mprint\u001b[0m\u001b[0;34m(\u001b[0m\u001b[0;34m\"a=%s, b=%s,c=%s,d=%s,e=%s\"\u001b[0m\u001b[0;34m%\u001b[0m\u001b[0;34m(\u001b[0m\u001b[0ma\u001b[0m\u001b[0;34m,\u001b[0m\u001b[0mb\u001b[0m\u001b[0;34m,\u001b[0m\u001b[0mc\u001b[0m\u001b[0;34m,\u001b[0m\u001b[0md\u001b[0m\u001b[0;34m,\u001b[0m\u001b[0me\u001b[0m\u001b[0;34m)\u001b[0m\u001b[0;34m)\u001b[0m\u001b[0;34m\u001b[0m\u001b[0m\n\u001b[1;32m      9\u001b[0m     \u001b[0mprint\u001b[0m\u001b[0;34m(\u001b[0m\u001b[0;34m\"res=\"\u001b[0m\u001b[0;34m,\u001b[0m\u001b[0ma\u001b[0m\u001b[0;34m+\u001b[0m\u001b[0mb\u001b[0m\u001b[0;34m+\u001b[0m\u001b[0mc\u001b[0m\u001b[0;34m+\u001b[0m\u001b[0md\u001b[0m\u001b[0;34m+\u001b[0m\u001b[0me\u001b[0m\u001b[0;34m)\u001b[0m\u001b[0;34m\u001b[0m\u001b[0m\n\u001b[0;32m---> 10\u001b[0;31m \u001b[0madd\u001b[0m\u001b[0;34m(\u001b[0m\u001b[0;36m100\u001b[0m\u001b[0;34m)\u001b[0m\u001b[0;34m\u001b[0m\u001b[0m\n\u001b[0m",
      "\u001b[0;31mTypeError\u001b[0m: add() missing 1 required positional argument: 'b'"
     ]
    }
   ],
   "source": [
    "def add(a,b,c=0,d=0,e=0):\n",
    "    \"\"\"\n",
    "    mandatory parameters: a,b\n",
    "    optional parameters: c,d,e\n",
    "    function works well with int, float types, if you pass some other datatypes it will has restrictions with python\n",
    "    coherence\n",
    "    \"\"\"\n",
    "    print(\"a=%s, b=%s,c=%s,d=%s,e=%s\"%(a,b,c,d,e))\n",
    "    print(\"res=\",a+b+c+d+e)\n",
    "add(100)"
   ]
  },
  {
   "cell_type": "code",
   "execution_count": 11,
   "metadata": {},
   "outputs": [
    {
     "ename": "TypeError",
     "evalue": "add() missing 1 required positional argument: 'a'",
     "output_type": "error",
     "traceback": [
      "\u001b[0;31m---------------------------------------------------------------------------\u001b[0m",
      "\u001b[0;31mTypeError\u001b[0m                                 Traceback (most recent call last)",
      "\u001b[0;32m<ipython-input-11-80700eb5909f>\u001b[0m in \u001b[0;36m<module>\u001b[0;34m()\u001b[0m\n\u001b[1;32m      8\u001b[0m     \u001b[0mprint\u001b[0m\u001b[0;34m(\u001b[0m\u001b[0;34m\"a=%s, b=%s,c=%s,d=%s,e=%s\"\u001b[0m\u001b[0;34m%\u001b[0m\u001b[0;34m(\u001b[0m\u001b[0ma\u001b[0m\u001b[0;34m,\u001b[0m\u001b[0mb\u001b[0m\u001b[0;34m,\u001b[0m\u001b[0mc\u001b[0m\u001b[0;34m,\u001b[0m\u001b[0md\u001b[0m\u001b[0;34m,\u001b[0m\u001b[0me\u001b[0m\u001b[0;34m)\u001b[0m\u001b[0;34m)\u001b[0m\u001b[0;34m\u001b[0m\u001b[0m\n\u001b[1;32m      9\u001b[0m     \u001b[0mprint\u001b[0m\u001b[0;34m(\u001b[0m\u001b[0;34m\"res=\"\u001b[0m\u001b[0;34m,\u001b[0m\u001b[0ma\u001b[0m\u001b[0;34m+\u001b[0m\u001b[0mb\u001b[0m\u001b[0;34m+\u001b[0m\u001b[0mc\u001b[0m\u001b[0;34m+\u001b[0m\u001b[0md\u001b[0m\u001b[0;34m+\u001b[0m\u001b[0me\u001b[0m\u001b[0;34m)\u001b[0m\u001b[0;34m\u001b[0m\u001b[0m\n\u001b[0;32m---> 10\u001b[0;31m \u001b[0madd\u001b[0m\u001b[0;34m(\u001b[0m\u001b[0mb\u001b[0m\u001b[0;34m=\u001b[0m\u001b[0;36m100\u001b[0m\u001b[0;34m,\u001b[0m\u001b[0mc\u001b[0m\u001b[0;34m=\u001b[0m\u001b[0;36m200\u001b[0m\u001b[0;34m)\u001b[0m\u001b[0;34m\u001b[0m\u001b[0m\n\u001b[0m",
      "\u001b[0;31mTypeError\u001b[0m: add() missing 1 required positional argument: 'a'"
     ]
    }
   ],
   "source": [
    "def add(a,b,c=0,d=0,e=0):\n",
    "    \"\"\"\n",
    "    mandatory parameters: a,b\n",
    "    optional parameters: c,d,e\n",
    "    function works well with int, float types, if you pass some other datatypes it will has restrictions with python\n",
    "    coherence\n",
    "    \"\"\"\n",
    "    print(\"a=%s, b=%s,c=%s,d=%s,e=%s\"%(a,b,c,d,e))\n",
    "    print(\"res=\",a+b+c+d+e)\n",
    "add(b=100,c=200)"
   ]
  },
  {
   "cell_type": "code",
   "execution_count": 12,
   "metadata": {},
   "outputs": [
    {
     "name": "stdout",
     "output_type": "stream",
     "text": [
      "a=0, b=0,c=0,d=0,e=0\n",
      "res= 0\n"
     ]
    }
   ],
   "source": [
    "def add(a=0,b=0,c=0,d=0,e=0):\n",
    "    \"\"\"\n",
    "    mandatory parameters: a,b\n",
    "    optional parameters: c,d,e\n",
    "    function works well with int, float types, if you pass some other datatypes it will has restrictions with python\n",
    "    coherence\n",
    "    \"\"\"\n",
    "    print(\"a=%s, b=%s,c=%s,d=%s,e=%s\"%(a,b,c,d,e))\n",
    "    print(\"res=\",a+b+c+d+e)\n",
    "add()"
   ]
  },
  {
   "cell_type": "code",
   "execution_count": 13,
   "metadata": {},
   "outputs": [
    {
     "name": "stdout",
     "output_type": "stream",
     "text": [
      "a=10, b=20,c=30,d=40,e=50\n",
      "res= 150\n"
     ]
    }
   ],
   "source": [
    "def add(a=0,b=0,c=0,d=0,e=0):\n",
    "    \"\"\"\n",
    "    mandatory parameters: a,b\n",
    "    optional parameters: c,d,e\n",
    "    function works well with int, float types, if you pass some other datatypes it will has restrictions with python\n",
    "    coherence\n",
    "    \"\"\"\n",
    "    print(\"a=%s, b=%s,c=%s,d=%s,e=%s\"%(a,b,c,d,e))\n",
    "    print(\"res=\",a+b+c+d+e)\n",
    "add(10,20,30,40,50)"
   ]
  },
  {
   "cell_type": "code",
   "execution_count": 14,
   "metadata": {},
   "outputs": [
    {
     "ename": "TypeError",
     "evalue": "add() takes from 0 to 5 positional arguments but 6 were given",
     "output_type": "error",
     "traceback": [
      "\u001b[0;31m---------------------------------------------------------------------------\u001b[0m",
      "\u001b[0;31mTypeError\u001b[0m                                 Traceback (most recent call last)",
      "\u001b[0;32m<ipython-input-14-0a172df6f460>\u001b[0m in \u001b[0;36m<module>\u001b[0;34m()\u001b[0m\n\u001b[1;32m      8\u001b[0m     \u001b[0mprint\u001b[0m\u001b[0;34m(\u001b[0m\u001b[0;34m\"a=%s, b=%s,c=%s,d=%s,e=%s\"\u001b[0m\u001b[0;34m%\u001b[0m\u001b[0;34m(\u001b[0m\u001b[0ma\u001b[0m\u001b[0;34m,\u001b[0m\u001b[0mb\u001b[0m\u001b[0;34m,\u001b[0m\u001b[0mc\u001b[0m\u001b[0;34m,\u001b[0m\u001b[0md\u001b[0m\u001b[0;34m,\u001b[0m\u001b[0me\u001b[0m\u001b[0;34m)\u001b[0m\u001b[0;34m)\u001b[0m\u001b[0;34m\u001b[0m\u001b[0m\n\u001b[1;32m      9\u001b[0m     \u001b[0mprint\u001b[0m\u001b[0;34m(\u001b[0m\u001b[0;34m\"res=\"\u001b[0m\u001b[0;34m,\u001b[0m\u001b[0ma\u001b[0m\u001b[0;34m+\u001b[0m\u001b[0mb\u001b[0m\u001b[0;34m+\u001b[0m\u001b[0mc\u001b[0m\u001b[0;34m+\u001b[0m\u001b[0md\u001b[0m\u001b[0;34m+\u001b[0m\u001b[0me\u001b[0m\u001b[0;34m)\u001b[0m\u001b[0;34m\u001b[0m\u001b[0m\n\u001b[0;32m---> 10\u001b[0;31m \u001b[0madd\u001b[0m\u001b[0;34m(\u001b[0m\u001b[0;36m10\u001b[0m\u001b[0;34m,\u001b[0m\u001b[0;36m20\u001b[0m\u001b[0;34m,\u001b[0m\u001b[0;36m30\u001b[0m\u001b[0;34m,\u001b[0m\u001b[0;36m40\u001b[0m\u001b[0;34m,\u001b[0m\u001b[0;36m50\u001b[0m\u001b[0;34m,\u001b[0m\u001b[0;36m60\u001b[0m\u001b[0;34m)\u001b[0m\u001b[0;34m\u001b[0m\u001b[0m\n\u001b[0m",
      "\u001b[0;31mTypeError\u001b[0m: add() takes from 0 to 5 positional arguments but 6 were given"
     ]
    }
   ],
   "source": [
    "def add(a=0,b=0,c=0,d=0,e=0):\n",
    "    \"\"\"\n",
    "    mandatory parameters: a,b\n",
    "    optional parameters: c,d,e\n",
    "    function works well with int, float types, if you pass some other datatypes it will has restrictions with python\n",
    "    coherence\n",
    "    \"\"\"\n",
    "    print(\"a=%s, b=%s,c=%s,d=%s,e=%s\"%(a,b,c,d,e))\n",
    "    print(\"res=\",a+b+c+d+e)\n",
    "add(10,20,30,40,50,60)"
   ]
  },
  {
   "cell_type": "code",
   "execution_count": 15,
   "metadata": {},
   "outputs": [
    {
     "ename": "TypeError",
     "evalue": "add() got an unexpected keyword argument 'f'",
     "output_type": "error",
     "traceback": [
      "\u001b[0;31m---------------------------------------------------------------------------\u001b[0m",
      "\u001b[0;31mTypeError\u001b[0m                                 Traceback (most recent call last)",
      "\u001b[0;32m<ipython-input-15-141e9430d709>\u001b[0m in \u001b[0;36m<module>\u001b[0;34m()\u001b[0m\n\u001b[1;32m      8\u001b[0m     \u001b[0mprint\u001b[0m\u001b[0;34m(\u001b[0m\u001b[0;34m\"a=%s, b=%s,c=%s,d=%s,e=%s\"\u001b[0m\u001b[0;34m%\u001b[0m\u001b[0;34m(\u001b[0m\u001b[0ma\u001b[0m\u001b[0;34m,\u001b[0m\u001b[0mb\u001b[0m\u001b[0;34m,\u001b[0m\u001b[0mc\u001b[0m\u001b[0;34m,\u001b[0m\u001b[0md\u001b[0m\u001b[0;34m,\u001b[0m\u001b[0me\u001b[0m\u001b[0;34m)\u001b[0m\u001b[0;34m)\u001b[0m\u001b[0;34m\u001b[0m\u001b[0m\n\u001b[1;32m      9\u001b[0m     \u001b[0mprint\u001b[0m\u001b[0;34m(\u001b[0m\u001b[0;34m\"res=\"\u001b[0m\u001b[0;34m,\u001b[0m\u001b[0ma\u001b[0m\u001b[0;34m+\u001b[0m\u001b[0mb\u001b[0m\u001b[0;34m+\u001b[0m\u001b[0mc\u001b[0m\u001b[0;34m+\u001b[0m\u001b[0md\u001b[0m\u001b[0;34m+\u001b[0m\u001b[0me\u001b[0m\u001b[0;34m)\u001b[0m\u001b[0;34m\u001b[0m\u001b[0m\n\u001b[0;32m---> 10\u001b[0;31m \u001b[0madd\u001b[0m\u001b[0;34m(\u001b[0m\u001b[0mf\u001b[0m\u001b[0;34m=\u001b[0m\u001b[0;36m60\u001b[0m\u001b[0;34m)\u001b[0m\u001b[0;34m\u001b[0m\u001b[0m\n\u001b[0m",
      "\u001b[0;31mTypeError\u001b[0m: add() got an unexpected keyword argument 'f'"
     ]
    }
   ],
   "source": [
    "def add(a=0,b=0,c=0,d=0,e=0):\n",
    "    \"\"\"\n",
    "    mandatory parameters: a,b\n",
    "    optional parameters: c,d,e\n",
    "    function works well with int, float types, if you pass some other datatypes it will has restrictions with python\n",
    "    coherence\n",
    "    \"\"\"\n",
    "    print(\"a=%s, b=%s,c=%s,d=%s,e=%s\"%(a,b,c,d,e))\n",
    "    print(\"res=\",a+b+c+d+e)\n",
    "add(f=60)"
   ]
  },
  {
   "cell_type": "code",
   "execution_count": 16,
   "metadata": {},
   "outputs": [
    {
     "ename": "SyntaxError",
     "evalue": "keyword argument repeated (<ipython-input-16-fe74a2f2e84c>, line 10)",
     "output_type": "error",
     "traceback": [
      "\u001b[0;36m  File \u001b[0;32m\"<ipython-input-16-fe74a2f2e84c>\"\u001b[0;36m, line \u001b[0;32m10\u001b[0m\n\u001b[0;31m    add(e=20,a=10,b=20,e=30)\u001b[0m\n\u001b[0m                      ^\u001b[0m\n\u001b[0;31mSyntaxError\u001b[0m\u001b[0;31m:\u001b[0m keyword argument repeated\n"
     ]
    }
   ],
   "source": [
    "def add(a=0,b=0,c=0,d=0,e=0):\n",
    "    \"\"\"\n",
    "    mandatory parameters: a,b\n",
    "    optional parameters: c,d,e\n",
    "    function works well with int, float types, if you pass some other datatypes it will has restrictions with python\n",
    "    coherence\n",
    "    \"\"\"\n",
    "    print(\"a=%s, b=%s,c=%s,d=%s,e=%s\"%(a,b,c,d,e))\n",
    "    print(\"res=\",a+b+c+d+e)\n",
    "add(e=20,a=10,b=20,e=30)"
   ]
  },
  {
   "cell_type": "code",
   "execution_count": 17,
   "metadata": {},
   "outputs": [
    {
     "ename": "SyntaxError",
     "evalue": "duplicate argument 'a' in function definition (<ipython-input-17-f2c6359781c9>, line 1)",
     "output_type": "error",
     "traceback": [
      "\u001b[0;36m  File \u001b[0;32m\"<ipython-input-17-f2c6359781c9>\"\u001b[0;36m, line \u001b[0;32m1\u001b[0m\n\u001b[0;31m    def add(a=0,b=0,c=0,d=0,e=0,a=10):\u001b[0m\n\u001b[0m                                      ^\u001b[0m\n\u001b[0;31mSyntaxError\u001b[0m\u001b[0;31m:\u001b[0m duplicate argument 'a' in function definition\n"
     ]
    }
   ],
   "source": [
    "def add(a=0,b=0,c=0,d=0,e=0,a=10):\n",
    "    \"\"\"\n",
    "    mandatory parameters: a,b\n",
    "    optional parameters: c,d,e\n",
    "    function works well with int, float types, if you pass some other datatypes it will has restrictions with python\n",
    "    coherence\n",
    "    \"\"\"\n",
    "    print(\"a=%s, b=%s,c=%s,d=%s,e=%s\"%(a,b,c,d,e))\n",
    "    print(\"res=\",a+b+c+d+e)\n",
    "add(a=10,b=20,e=30)"
   ]
  },
  {
   "cell_type": "code",
   "execution_count": 20,
   "metadata": {},
   "outputs": [
    {
     "name": "stdout",
     "output_type": "stream",
     "text": [
      "a=python, b=julia\n",
      "res= pythonjulia\n"
     ]
    }
   ],
   "source": [
    "def add(a=\"\",b=\"value\"):\n",
    "    \"\"\"\n",
    "    mandatory parameters: a,b\n",
    "    optional parameters: c,d,e\n",
    "    function works well with int, float types, if you pass some other datatypes it will has restrictions with python\n",
    "    coherence\n",
    "    \"\"\"\n",
    "    print(\"a=%s, b=%s\"%(a,b))\n",
    "    print(\"res=\",a+b)\n",
    "add(\"python\",\"julia\")"
   ]
  },
  {
   "cell_type": "code",
   "execution_count": 21,
   "metadata": {},
   "outputs": [
    {
     "name": "stdout",
     "output_type": "stream",
     "text": [
      "a=python, b=julia\n",
      "res= pythonjulia\n"
     ]
    }
   ],
   "source": [
    "def add(a=\"\",b=\"value\"):\n",
    "    \"\"\"\n",
    "    mandatory parameters: a,b\n",
    "    optional parameters: c,d,e\n",
    "    function works waell with int, float types, if you pass some other datatypes it will has restrictions with python\n",
    "    coherence\n",
    "    \"\"\"\n",
    "    print(\"a=%s, b=%s\"%(a,b))\n",
    "    print(\"res=\",a+b)\n",
    "add(\"python\",\"julia\")"
   ]
  },
  {
   "cell_type": "code",
   "execution_count": 22,
   "metadata": {},
   "outputs": [
    {
     "name": "stdout",
     "output_type": "stream",
     "text": [
      "a=python, b=julia,c=[10, 20, 30]\n",
      "res= pythonjulia [10, 20, 30]\n"
     ]
    }
   ],
   "source": [
    "def add(a=\"\",b=\"value\",c=[]):\n",
    "    \"\"\"\n",
    "    mandatory parameters: a,b\n",
    "    optional parameters: c,d,e\n",
    "    function works waell with int, float types, if you pass some other datatypes it will has restrictions with python\n",
    "    coherence\n",
    "    \"\"\"\n",
    "    print(\"a=%s, b=%s,c=%s\"%(a,b,c))\n",
    "    print(\"res=\",a+b,c)\n",
    "add(\"python\",\"julia\",[10,20,30])"
   ]
  },
  {
   "cell_type": "code",
   "execution_count": 23,
   "metadata": {},
   "outputs": [],
   "source": [
    "pd.read_csv?"
   ]
  },
  {
   "cell_type": "code",
   "execution_count": 24,
   "metadata": {},
   "outputs": [
    {
     "name": "stdout",
     "output_type": "stream",
     "text": [
      "None <class 'NoneType'>\n"
     ]
    }
   ],
   "source": [
    "c=None\n",
    "print(c, type(c))"
   ]
  },
  {
   "cell_type": "code",
   "execution_count": 25,
   "metadata": {},
   "outputs": [
    {
     "name": "stdout",
     "output_type": "stream",
     "text": [
      "94351566458864\n",
      "94351566458864\n",
      "94351566458864\n"
     ]
    }
   ],
   "source": [
    "a=None\n",
    "b=None\n",
    "c=None\n",
    "print(id(a))\n",
    "print(id(b))\n",
    "print(id(c))"
   ]
  },
  {
   "cell_type": "code",
   "execution_count": 26,
   "metadata": {},
   "outputs": [
    {
     "name": "stdout",
     "output_type": "stream",
     "text": [
      "94351566471904\n",
      "94351566471904\n",
      "94351566471904\n"
     ]
    }
   ],
   "source": [
    "a=True\n",
    "b=True\n",
    "c=True\n",
    "print(id(a))\n",
    "print(id(b))\n",
    "print(id(c))"
   ]
  },
  {
   "cell_type": "code",
   "execution_count": 27,
   "metadata": {},
   "outputs": [
    {
     "name": "stdout",
     "output_type": "stream",
     "text": [
      "a=, b=value,c=[100, 200]\n",
      "res= value [100, 200]\n"
     ]
    }
   ],
   "source": [
    "def add(a=\"\",b=\"value\",c=[]):\n",
    "    \"\"\"\n",
    "    mandatory parameters: a,b\n",
    "    optional parameters: c,d,e\n",
    "    function works waell with int, float types, if you pass some other datatypes it will has restrictions with python\n",
    "    coherence\n",
    "    \"\"\"\n",
    "    print(\"a=%s, b=%s,c=%s\"%(a,b,c))\n",
    "    print(\"res=\",a+b,c)\n",
    "add(c=[100,200])"
   ]
  },
  {
   "cell_type": "code",
   "execution_count": 28,
   "metadata": {},
   "outputs": [
    {
     "name": "stdout",
     "output_type": "stream",
     "text": [
      "a=, b=value,c=[]\n",
      "res= value []\n"
     ]
    }
   ],
   "source": [
    "def add(a=\"\",b=\"value\",c=[]):\n",
    "    \"\"\"\n",
    "    mandatory parameters: a,b\n",
    "    optional parameters: c,d,e\n",
    "    function works waell with int, float types, if you pass some other datatypes it will has restrictions with python\n",
    "    coherence\n",
    "    \"\"\"\n",
    "    print(\"a=%s, b=%s,c=%s\"%(a,b,c))\n",
    "    print(\"res=\",a+b,c)\n",
    "add()"
   ]
  },
  {
   "cell_type": "code",
   "execution_count": 29,
   "metadata": {},
   "outputs": [
    {
     "ename": "TypeError",
     "evalue": "can only concatenate list (not \"str\") to list",
     "output_type": "error",
     "traceback": [
      "\u001b[0;31m---------------------------------------------------------------------------\u001b[0m",
      "\u001b[0;31mTypeError\u001b[0m                                 Traceback (most recent call last)",
      "\u001b[0;32m<ipython-input-29-299a39cbe360>\u001b[0m in \u001b[0;36m<module>\u001b[0;34m()\u001b[0m\n\u001b[0;32m----> 1\u001b[0;31m \u001b[0;34m[\u001b[0m\u001b[0;34m\"str1\"\u001b[0m\u001b[0;34m]\u001b[0m\u001b[0;34m+\u001b[0m\u001b[0;34m\"str2\"\u001b[0m\u001b[0;34m\u001b[0m\u001b[0m\n\u001b[0m",
      "\u001b[0;31mTypeError\u001b[0m: can only concatenate list (not \"str\") to list"
     ]
    }
   ],
   "source": [
    "[\"str1\"]+\"str2\""
   ]
  },
  {
   "cell_type": "code",
   "execution_count": 30,
   "metadata": {},
   "outputs": [
    {
     "name": "stdout",
     "output_type": "stream",
     "text": [
      "a inside fun: 1000\n"
     ]
    }
   ],
   "source": [
    "a=1000\n",
    "def fun():\n",
    "    print(\"a inside fun:\",a)\n",
    "fun()"
   ]
  },
  {
   "cell_type": "code",
   "execution_count": 31,
   "metadata": {},
   "outputs": [
    {
     "name": "stdout",
     "output_type": "stream",
     "text": [
      "a inside fun: 2000\n"
     ]
    }
   ],
   "source": [
    "a=1000\n",
    "def fun():\n",
    "    a=2000\n",
    "    print(\"a inside fun:\",a)\n",
    "fun()"
   ]
  },
  {
   "cell_type": "code",
   "execution_count": 32,
   "metadata": {},
   "outputs": [
    {
     "name": "stdout",
     "output_type": "stream",
     "text": [
      "a123 before call: 1000\n",
      "a123 inside fun: 2000\n",
      "a123 outside fun after call: 1000\n"
     ]
    }
   ],
   "source": [
    "a123=1000\n",
    "print(\"a123 before call:\",a123)\n",
    "def fun():\n",
    "    a123=2000\n",
    "    print(\"a123 inside fun:\",a123)\n",
    "fun()\n",
    "print(\"a123 outside fun after call:\",a123)"
   ]
  },
  {
   "cell_type": "code",
   "execution_count": 33,
   "metadata": {},
   "outputs": [
    {
     "name": "stdout",
     "output_type": "stream",
     "text": [
      "x before call: 1000\n",
      "y inside fun: 2000\n",
      "x inside fun: 1000\n",
      "x outside fun after call: 1000\n"
     ]
    },
    {
     "ename": "NameError",
     "evalue": "name 'y' is not defined",
     "output_type": "error",
     "traceback": [
      "\u001b[0;31m---------------------------------------------------------------------------\u001b[0m",
      "\u001b[0;31mNameError\u001b[0m                                 Traceback (most recent call last)",
      "\u001b[0;32m<ipython-input-33-c3c4b405735b>\u001b[0m in \u001b[0;36m<module>\u001b[0;34m()\u001b[0m\n\u001b[1;32m      7\u001b[0m \u001b[0mfun\u001b[0m\u001b[0;34m(\u001b[0m\u001b[0;34m)\u001b[0m\u001b[0;34m\u001b[0m\u001b[0m\n\u001b[1;32m      8\u001b[0m \u001b[0mprint\u001b[0m\u001b[0;34m(\u001b[0m\u001b[0;34m\"x outside fun after call:\"\u001b[0m\u001b[0;34m,\u001b[0m\u001b[0mx\u001b[0m\u001b[0;34m)\u001b[0m\u001b[0;34m\u001b[0m\u001b[0m\n\u001b[0;32m----> 9\u001b[0;31m \u001b[0mprint\u001b[0m\u001b[0;34m(\u001b[0m\u001b[0;34m\"y outside fun after call:\"\u001b[0m\u001b[0;34m,\u001b[0m\u001b[0my\u001b[0m\u001b[0;34m)\u001b[0m\u001b[0;34m\u001b[0m\u001b[0m\n\u001b[0m",
      "\u001b[0;31mNameError\u001b[0m: name 'y' is not defined"
     ]
    }
   ],
   "source": [
    "x=1000\n",
    "print(\"x before call:\",x)\n",
    "def fun():\n",
    "    y=2000\n",
    "    print(\"y inside fun:\",y)\n",
    "    print(\"x inside fun:\",x)\n",
    "fun()\n",
    "print(\"x outside fun after call:\",x)\n",
    "print(\"y outside fun after call:\",y)"
   ]
  },
  {
   "cell_type": "code",
   "execution_count": 34,
   "metadata": {},
   "outputs": [
    {
     "name": "stdout",
     "output_type": "stream",
     "text": [
      "x before call: 1000\n",
      "y inside fun: 2000\n",
      "x inside fun: 1000\n",
      "x outside fun after call: 1000\n",
      "y outside fun after call: 2000\n"
     ]
    }
   ],
   "source": [
    "x=1000\n",
    "print(\"x before call:\",x)\n",
    "def fun():\n",
    "    global y\n",
    "    y=2000\n",
    "    print(\"y inside fun:\",y)\n",
    "    print(\"x inside fun:\",x)\n",
    "fun()\n",
    "print(\"x outside fun after call:\",x)\n",
    "print(\"y outside fun after call:\",y)"
   ]
  },
  {
   "cell_type": "code",
   "execution_count": 35,
   "metadata": {},
   "outputs": [
    {
     "name": "stdout",
     "output_type": "stream",
     "text": [
      "x before call: 1000\n",
      "y inside fun: 2000\n",
      "x inside fun: 3000\n",
      "x outside fun after call: 1000\n",
      "y outside fun after call: 2000\n"
     ]
    }
   ],
   "source": [
    "x=1000\n",
    "print(\"x before call:\",x)\n",
    "def fun():\n",
    "    global y\n",
    "    y=2000\n",
    "    x=3000\n",
    "    print(\"y inside fun:\",y)\n",
    "    print(\"x inside fun:\",x)\n",
    "fun()\n",
    "print(\"x outside fun after call:\",x)\n",
    "print(\"y outside fun after call:\",y)"
   ]
  },
  {
   "cell_type": "code",
   "execution_count": 36,
   "metadata": {},
   "outputs": [
    {
     "name": "stdout",
     "output_type": "stream",
     "text": [
      "x before call: 1000\n",
      "y inside fun: 2000\n",
      "x inside fun: 3000\n",
      "x outside fun after call: 3000\n",
      "y outside fun after call: 2000\n"
     ]
    }
   ],
   "source": [
    "x=1000\n",
    "print(\"x before call:\",x)\n",
    "def fun():\n",
    "    global y,x\n",
    "    y=2000\n",
    "    x=3000\n",
    "    print(\"y inside fun:\",y)\n",
    "    print(\"x inside fun:\",x)\n",
    "fun()\n",
    "print(\"x outside fun after call:\",x)\n",
    "print(\"y outside fun after call:\",y)"
   ]
  },
  {
   "cell_type": "code",
   "execution_count": 1,
   "metadata": {},
   "outputs": [
    {
     "name": "stdout",
     "output_type": "stream",
     "text": [
      "Enter a string: py1234hon\n",
      "p\n",
      "y\n",
      "1\n",
      "2\n",
      "3\n",
      "4\n",
      "h\n",
      "o\n",
      "n\n"
     ]
    }
   ],
   "source": [
    "# Function to find if digits are present in a string\n",
    "def digits_in_string():\n",
    "    string = input(\"Enter a string: \")\n",
    "    i=0\n",
    "    digits=[0,1,2,3,4,5,6,7,8,9]\n",
    "    while i<len(string):\n",
    "        if string[i] in digits:\n",
    "            print(\"%s contains digits\"%string)\n",
    "        else:\n",
    "            print(string[i])\n",
    "            i=i+1\n",
    "            \n",
    "digits_in_string()"
   ]
  },
  {
   "cell_type": "code",
   "execution_count": 2,
   "metadata": {},
   "outputs": [
    {
     "data": {
      "text/plain": [
       "False"
      ]
     },
     "execution_count": 2,
     "metadata": {},
     "output_type": "execute_result"
    }
   ],
   "source": [
    "s=\"1234\"\n",
    "s[0] in [0,1,2,3,4,5,6,7,8,9]"
   ]
  },
  {
   "cell_type": "code",
   "execution_count": 3,
   "metadata": {},
   "outputs": [
    {
     "data": {
      "text/plain": [
       "True"
      ]
     },
     "execution_count": 3,
     "metadata": {},
     "output_type": "execute_result"
    }
   ],
   "source": [
    "s=\"1234\"\n",
    "int(s[0]) in [0,1,2,3,4,5,6,7,8,9]"
   ]
  },
  {
   "cell_type": "code",
   "execution_count": 4,
   "metadata": {},
   "outputs": [
    {
     "data": {
      "text/plain": [
       "str"
      ]
     },
     "execution_count": 4,
     "metadata": {},
     "output_type": "execute_result"
    }
   ],
   "source": [
    "type(s[0])"
   ]
  },
  {
   "cell_type": "code",
   "execution_count": 5,
   "metadata": {},
   "outputs": [
    {
     "data": {
      "text/plain": [
       "False"
      ]
     },
     "execution_count": 5,
     "metadata": {},
     "output_type": "execute_result"
    }
   ],
   "source": [
    "\"1\" in [0,1,2,3,4,5,6,7,8,9]"
   ]
  },
  {
   "cell_type": "code",
   "execution_count": 6,
   "metadata": {},
   "outputs": [
    {
     "data": {
      "text/plain": [
       "True"
      ]
     },
     "execution_count": 6,
     "metadata": {},
     "output_type": "execute_result"
    }
   ],
   "source": [
    "1 in [0,1,2,3,4,5,6,7,8,9]"
   ]
  },
  {
   "cell_type": "code",
   "execution_count": 8,
   "metadata": {},
   "outputs": [
    {
     "name": "stdout",
     "output_type": "stream",
     "text": [
      "Enter a string: 123456\n",
      "123456 contains digits\n"
     ]
    }
   ],
   "source": [
    "# Function to find if digits are present in a string\n",
    "def digits_in_string():\n",
    "    string = input(\"Enter a string: \")\n",
    "    digits=[0,1,2,3,4,5,6,7,8,9]\n",
    "    for i in string:\n",
    "        if int(i) in digits:\n",
    "            print(\"%s contains digits\"%string)\n",
    "            break\n",
    "        else:\n",
    "            print(i)\n",
    "digits_in_string()"
   ]
  },
  {
   "cell_type": "code",
   "execution_count": 9,
   "metadata": {},
   "outputs": [
    {
     "name": "stdout",
     "output_type": "stream",
     "text": [
      "Enter a string: qwrqw312\n"
     ]
    },
    {
     "ename": "ValueError",
     "evalue": "invalid literal for int() with base 10: 'q'",
     "output_type": "error",
     "traceback": [
      "\u001b[0;31m---------------------------------------------------------------------------\u001b[0m",
      "\u001b[0;31mValueError\u001b[0m                                Traceback (most recent call last)",
      "\u001b[0;32m<ipython-input-9-bf1a8def1dbe>\u001b[0m in \u001b[0;36m<module>\u001b[0;34m()\u001b[0m\n\u001b[1;32m      9\u001b[0m         \u001b[0;32melse\u001b[0m\u001b[0;34m:\u001b[0m\u001b[0;34m\u001b[0m\u001b[0m\n\u001b[1;32m     10\u001b[0m             \u001b[0mprint\u001b[0m\u001b[0;34m(\u001b[0m\u001b[0mi\u001b[0m\u001b[0;34m)\u001b[0m\u001b[0;34m\u001b[0m\u001b[0m\n\u001b[0;32m---> 11\u001b[0;31m \u001b[0mdigits_in_string\u001b[0m\u001b[0;34m(\u001b[0m\u001b[0;34m)\u001b[0m\u001b[0;34m\u001b[0m\u001b[0m\n\u001b[0m",
      "\u001b[0;32m<ipython-input-9-bf1a8def1dbe>\u001b[0m in \u001b[0;36mdigits_in_string\u001b[0;34m()\u001b[0m\n\u001b[1;32m      4\u001b[0m     \u001b[0mdigits\u001b[0m\u001b[0;34m=\u001b[0m\u001b[0;34m[\u001b[0m\u001b[0;36m0\u001b[0m\u001b[0;34m,\u001b[0m\u001b[0;36m1\u001b[0m\u001b[0;34m,\u001b[0m\u001b[0;36m2\u001b[0m\u001b[0;34m,\u001b[0m\u001b[0;36m3\u001b[0m\u001b[0;34m,\u001b[0m\u001b[0;36m4\u001b[0m\u001b[0;34m,\u001b[0m\u001b[0;36m5\u001b[0m\u001b[0;34m,\u001b[0m\u001b[0;36m6\u001b[0m\u001b[0;34m,\u001b[0m\u001b[0;36m7\u001b[0m\u001b[0;34m,\u001b[0m\u001b[0;36m8\u001b[0m\u001b[0;34m,\u001b[0m\u001b[0;36m9\u001b[0m\u001b[0;34m]\u001b[0m\u001b[0;34m\u001b[0m\u001b[0m\n\u001b[1;32m      5\u001b[0m     \u001b[0;32mfor\u001b[0m \u001b[0mi\u001b[0m \u001b[0;32min\u001b[0m \u001b[0mstring\u001b[0m\u001b[0;34m:\u001b[0m\u001b[0;34m\u001b[0m\u001b[0m\n\u001b[0;32m----> 6\u001b[0;31m         \u001b[0;32mif\u001b[0m \u001b[0mint\u001b[0m\u001b[0;34m(\u001b[0m\u001b[0mi\u001b[0m\u001b[0;34m)\u001b[0m \u001b[0;32min\u001b[0m \u001b[0mdigits\u001b[0m\u001b[0;34m:\u001b[0m\u001b[0;34m\u001b[0m\u001b[0m\n\u001b[0m\u001b[1;32m      7\u001b[0m             \u001b[0mprint\u001b[0m\u001b[0;34m(\u001b[0m\u001b[0;34m\"%s contains digits\"\u001b[0m\u001b[0;34m%\u001b[0m\u001b[0mstring\u001b[0m\u001b[0;34m)\u001b[0m\u001b[0;34m\u001b[0m\u001b[0m\n\u001b[1;32m      8\u001b[0m             \u001b[0;32mbreak\u001b[0m\u001b[0;34m\u001b[0m\u001b[0m\n",
      "\u001b[0;31mValueError\u001b[0m: invalid literal for int() with base 10: 'q'"
     ]
    }
   ],
   "source": [
    "# Function to find if digits are present in a string\n",
    "def digits_in_string():\n",
    "    string = input(\"Enter a string: \")\n",
    "    digits=[0,1,2,3,4,5,6,7,8,9]\n",
    "    for i in string:\n",
    "        if int(i) in digits:\n",
    "            print(\"%s contains digits\"%string)\n",
    "            break\n",
    "        else:\n",
    "            print(i)\n",
    "digits_in_string()"
   ]
  },
  {
   "cell_type": "code",
   "execution_count": 10,
   "metadata": {},
   "outputs": [
    {
     "name": "stdout",
     "output_type": "stream",
     "text": [
      "Enter a string: 123qwert\n",
      "123qwert contains digits\n"
     ]
    }
   ],
   "source": [
    "# Function to find if digits are present in a string\n",
    "def digits_in_string():\n",
    "    string = input(\"Enter a string: \")\n",
    "    digits=['0','1','2','3','4','5','6','7','8','9']\n",
    "    for i in string:\n",
    "        if i in digits:\n",
    "            print(\"%s contains digits\"%string)\n",
    "            break\n",
    "        else:\n",
    "            print(i)\n",
    "digits_in_string()"
   ]
  },
  {
   "cell_type": "code",
   "execution_count": 11,
   "metadata": {},
   "outputs": [
    {
     "name": "stdout",
     "output_type": "stream",
     "text": [
      "Enter a string: wertyui\n",
      "w\n",
      "e\n",
      "r\n",
      "t\n",
      "y\n",
      "u\n",
      "i\n"
     ]
    }
   ],
   "source": [
    "# Function to find if digits are present in a string\n",
    "def digits_in_string():\n",
    "    string = input(\"Enter a string: \")\n",
    "    digits=['0','1','2','3','4','5','6','7','8','9']\n",
    "    for i in string:\n",
    "        if i in digits:\n",
    "            print(\"%s contains digits\"%string)\n",
    "            break\n",
    "        else:\n",
    "            print(i)\n",
    "digits_in_string()"
   ]
  },
  {
   "cell_type": "code",
   "execution_count": 12,
   "metadata": {},
   "outputs": [
    {
     "name": "stdout",
     "output_type": "stream",
     "text": [
      "Enter a string: ewrty\n",
      "it does not containes digits\n"
     ]
    }
   ],
   "source": [
    "# Function to find if digits are present in a string\n",
    "def digits_in_string():\n",
    "    string = input(\"Enter a string: \")\n",
    "    digits=['0','1','2','3','4','5','6','7','8','9']\n",
    "    for i in string:\n",
    "        if i in digits:\n",
    "            print(\"%s contains digits\"%string)\n",
    "            break\n",
    "    else:\n",
    "        print(\"it does not containes digits\")\n",
    "digits_in_string()"
   ]
  },
  {
   "cell_type": "code",
   "execution_count": 13,
   "metadata": {},
   "outputs": [
    {
     "name": "stdout",
     "output_type": "stream",
     "text": [
      "Enter a string: wertyui1\n",
      "wertyui1 contains digits\n"
     ]
    }
   ],
   "source": [
    "# Function to find if digits are present in a string\n",
    "def digits_in_string():\n",
    "    string = input(\"Enter a string: \")\n",
    "    digits=['0','1','2','3','4','5','6','7','8','9']\n",
    "    for i in string:\n",
    "        if i in digits:\n",
    "            print(\"%s contains digits\"%string)\n",
    "            break\n",
    "    else:\n",
    "        print(\"it does not containes digits\")\n",
    "digits_in_string()"
   ]
  },
  {
   "cell_type": "code",
   "execution_count": 14,
   "metadata": {},
   "outputs": [
    {
     "name": "stdout",
     "output_type": "stream",
     "text": [
      "welcome\n",
      "<function fun at 0x7fe6d4b059d8>\n",
      "thank you!!\n"
     ]
    }
   ],
   "source": [
    "print(\"welcome\")\n",
    "def fun(a,b):\n",
    "    print(\"a=%s, b=%s\"%(a,b))\n",
    "    res=a+b\n",
    "print (fun)\n",
    "print(\"thank you!!\")\n"
   ]
  },
  {
   "cell_type": "code",
   "execution_count": 15,
   "metadata": {},
   "outputs": [
    {
     "name": "stdout",
     "output_type": "stream",
     "text": [
      "welcome\n",
      "<function fun at 0x7fe6d4299620> 140629378700832 <class 'function'>\n",
      "thank you!!\n"
     ]
    }
   ],
   "source": [
    "print(\"welcome\")\n",
    "def fun(a,b):\n",
    "    print(\"a=%s, b=%s\"%(a,b))\n",
    "    res=a+b\n",
    "print (fun,id(fun),type(fun))\n",
    "print(\"thank you!!\")\n"
   ]
  },
  {
   "cell_type": "code",
   "execution_count": 16,
   "metadata": {},
   "outputs": [],
   "source": [
    "a=100"
   ]
  },
  {
   "cell_type": "code",
   "execution_count": 17,
   "metadata": {},
   "outputs": [
    {
     "name": "stdout",
     "output_type": "stream",
     "text": [
      "1000\n"
     ]
    }
   ],
   "source": [
    "def fun(a,b):\n",
    "    print(\"a=%s, b=%s\"%(a,b))\n",
    "    res=a+b\n",
    "f1=fun\n",
    "a=1000\n",
    "b=a\n",
    "print(b)"
   ]
  },
  {
   "cell_type": "code",
   "execution_count": 18,
   "metadata": {},
   "outputs": [
    {
     "name": "stdout",
     "output_type": "stream",
     "text": [
      "<function fun at 0x7fe6d4299598> 140629378700696 <class 'function'>\n",
      "<function fun at 0x7fe6d4299598> 140629378700696 <class 'function'>\n"
     ]
    }
   ],
   "source": [
    "def fun(a,b):\n",
    "    print(\"a=%s, b=%s\"%(a,b))\n",
    "    res=a+b\n",
    "f1=fun\n",
    "print(f1,id(f1),type(f1))\n",
    "print(fun,id(fun),type(fun))"
   ]
  },
  {
   "cell_type": "code",
   "execution_count": 19,
   "metadata": {},
   "outputs": [
    {
     "name": "stdout",
     "output_type": "stream",
     "text": [
      "a=10, b=20\n"
     ]
    }
   ],
   "source": [
    "def fun(a,b):\n",
    "    print(\"a=%s, b=%s\"%(a,b))\n",
    "    res=a+b\n",
    "f1=fun\n",
    "fun(10,20)"
   ]
  },
  {
   "cell_type": "code",
   "execution_count": 20,
   "metadata": {},
   "outputs": [
    {
     "name": "stdout",
     "output_type": "stream",
     "text": [
      "a=10, b=20\n",
      "a=10, b=20\n"
     ]
    }
   ],
   "source": [
    "def fun(a,b):\n",
    "    print(\"a=%s, b=%s\"%(a,b))\n",
    "    res=a+b\n",
    "f1=fun\n",
    "fun(10,20)\n",
    "f1(10,20)"
   ]
  },
  {
   "cell_type": "code",
   "execution_count": 21,
   "metadata": {},
   "outputs": [
    {
     "name": "stdout",
     "output_type": "stream",
     "text": [
      "a=10, b=20\n",
      "f2= None\n"
     ]
    }
   ],
   "source": [
    "def fun(a,b):\n",
    "    print(\"a=%s, b=%s\"%(a,b))\n",
    "    r1=a+b\n",
    "f1=fun\n",
    "f2=fun(10,20)\n",
    "print(\"f2=\",f2)"
   ]
  },
  {
   "cell_type": "code",
   "execution_count": 22,
   "metadata": {},
   "outputs": [
    {
     "name": "stdout",
     "output_type": "stream",
     "text": [
      "a=10, b=20\n",
      "f2= 400\n"
     ]
    }
   ],
   "source": [
    "def fun(a,b):\n",
    "    print(\"a=%s, b=%s\"%(a,b))\n",
    "    r1=a+b\n",
    "    return 400\n",
    "f1=fun\n",
    "f2=fun(10,20)\n",
    "print(\"f2=\",f2)"
   ]
  },
  {
   "cell_type": "code",
   "execution_count": 23,
   "metadata": {},
   "outputs": [
    {
     "name": "stdout",
     "output_type": "stream",
     "text": [
      "a=10, b=20\n",
      "f2= 400\n"
     ]
    }
   ],
   "source": [
    "def fun(a,b):\n",
    "    print(\"a=%s, b=%s\"%(a,b))\n",
    "    r1=a+b\n",
    "    r2=a-b\n",
    "    r3=a*b\n",
    "    r4=a/b\n",
    "    return 400\n",
    "f1=fun\n",
    "f2=fun(10,20)\n",
    "print(\"f2=\",f2)"
   ]
  },
  {
   "cell_type": "code",
   "execution_count": 24,
   "metadata": {},
   "outputs": [
    {
     "name": "stdout",
     "output_type": "stream",
     "text": [
      "a=10, b=20\n",
      "f2= 30\n"
     ]
    }
   ],
   "source": [
    "def fun(a,b):\n",
    "    print(\"a=%s, b=%s\"%(a,b))\n",
    "    r1=a+b\n",
    "    r2=a-b\n",
    "    r3=a*b\n",
    "    r4=a/b\n",
    "    return r1\n",
    "f1=fun\n",
    "f2=fun(10,20)\n",
    "print(\"f2=\",f2)"
   ]
  },
  {
   "cell_type": "code",
   "execution_count": 25,
   "metadata": {},
   "outputs": [
    {
     "name": "stdout",
     "output_type": "stream",
     "text": [
      "a=10, b=20\n",
      "f2= (30, -10, 200, 0.5)\n"
     ]
    }
   ],
   "source": [
    "def fun(a,b):\n",
    "    print(\"a=%s, b=%s\"%(a,b))\n",
    "    r1=a+b\n",
    "    r2=a-b\n",
    "    r3=a*b\n",
    "    r4=a/b\n",
    "    return r1,r2,r3,r4\n",
    "f1=fun\n",
    "f2=fun(10,20)\n",
    "print(\"f2=\",f2)"
   ]
  },
  {
   "cell_type": "code",
   "execution_count": 27,
   "metadata": {},
   "outputs": [
    {
     "name": "stdout",
     "output_type": "stream",
     "text": [
      "a=10, b=20\n",
      "st1\n",
      "f2= 100\n"
     ]
    }
   ],
   "source": [
    "def fun(a,b):\n",
    "    print(\"a=%s, b=%s\"%(a,b))\n",
    "    print(\"st1\")\n",
    "    return 100\n",
    "    print(\"st2\")\n",
    "    return 200\n",
    "    print(\"st3\")\n",
    "    return 300\n",
    "f1=fun\n",
    "f2=fun(10,20)\n",
    "print(\"f2=\",f2)"
   ]
  },
  {
   "cell_type": "code",
   "execution_count": 28,
   "metadata": {},
   "outputs": [
    {
     "name": "stdout",
     "output_type": "stream",
     "text": [
      "f2= <generator object fun at 0x7fe6d4287e58>\n"
     ]
    }
   ],
   "source": [
    "def fun(a,b):\n",
    "    print(\"a=%s, b=%s\"%(a,b))\n",
    "    print(\"st1\")\n",
    "    yield 100\n",
    "    print(\"st2\")\n",
    "    yield 200\n",
    "    print(\"st3\")\n",
    "    yield 300\n",
    "f2=fun(10,20)\n",
    "print(\"f2=\",f2)"
   ]
  },
  {
   "cell_type": "code",
   "execution_count": 29,
   "metadata": {},
   "outputs": [
    {
     "name": "stdout",
     "output_type": "stream",
     "text": [
      "f2= <generator object fun at 0x7fe6d4287f48>\n",
      "a=10, b=20\n",
      "st1\n",
      "iteration\n",
      "100\n",
      "st2\n",
      "iteration\n",
      "200\n",
      "st3\n",
      "iteration\n",
      "300\n"
     ]
    }
   ],
   "source": [
    "def fun(a,b):\n",
    "    print(\"a=%s, b=%s\"%(a,b))\n",
    "    print(\"st1\")\n",
    "    yield 100\n",
    "    print(\"st2\")\n",
    "    yield 200\n",
    "    print(\"st3\")\n",
    "    yield 300\n",
    "f2=fun(10,20)\n",
    "print(\"f2=\",f2)\n",
    "for i in f2:\n",
    "    print(\"iteration\")\n",
    "    print(i)"
   ]
  },
  {
   "cell_type": "code",
   "execution_count": 30,
   "metadata": {},
   "outputs": [
    {
     "name": "stdout",
     "output_type": "stream",
     "text": [
      "f2= <generator object fun at 0x7fe6d4b03480>\n"
     ]
    }
   ],
   "source": [
    "def fun(a,b):\n",
    "    print(\"a=%s, b=%s\"%(a,b))\n",
    "    print(\"st1\")\n",
    "    yield 100\n",
    "    print(\"st2\")\n",
    "    yield 200\n",
    "    print(\"st3\")\n",
    "    yield 300\n",
    "f2=fun(10,20)\n",
    "print(\"f2=\",f2)"
   ]
  },
  {
   "cell_type": "code",
   "execution_count": 31,
   "metadata": {},
   "outputs": [
    {
     "name": "stdout",
     "output_type": "stream",
     "text": [
      "f2= <generator object fun at 0x7fe6d42af408>\n",
      "a=10, b=20\n",
      "st1\n",
      "iteration started\n",
      "i= 100\n",
      "iteration ended\n",
      "st2\n",
      "iteration started\n",
      "i= 200\n",
      "iteration ended\n",
      "st3\n",
      "iteration started\n",
      "i= 300\n",
      "iteration ended\n"
     ]
    }
   ],
   "source": [
    "def fun(a,b):\n",
    "    print(\"a=%s, b=%s\"%(a,b))\n",
    "    print(\"st1\")\n",
    "    yield 100\n",
    "    print(\"st2\")\n",
    "    yield 200\n",
    "    print(\"st3\")\n",
    "    yield 300\n",
    "f2=fun(10,20)\n",
    "print(\"f2=\",f2)\n",
    "for i in f2:\n",
    "    print(\"iteration started\")\n",
    "    print(\"i=\",i)\n",
    "    print(\"iteration ended\")\n",
    "    \n",
    "    "
   ]
  },
  {
   "cell_type": "code",
   "execution_count": 32,
   "metadata": {},
   "outputs": [
    {
     "name": "stdout",
     "output_type": "stream",
     "text": [
      "f2= <generator object fun at 0x7fe6d4b03480>\n",
      "a=10, b=20\n",
      "st1\n",
      "iteration started\n",
      "i= 100\n",
      "iteration ended\n",
      "st2\n",
      "iteration started\n",
      "i= 200\n",
      "iteration ended\n",
      "st3\n",
      "iteration started\n",
      "i= 300\n",
      "iteration ended\n",
      "iterating second time...\n"
     ]
    }
   ],
   "source": [
    "def fun(a,b):\n",
    "    print(\"a=%s, b=%s\"%(a,b))\n",
    "    print(\"st1\")\n",
    "    yield 100\n",
    "    print(\"st2\")\n",
    "    yield 200\n",
    "    print(\"st3\")\n",
    "    yield 300\n",
    "f2=fun(10,20)\n",
    "print(\"f2=\",f2)\n",
    "for i in f2:\n",
    "    print(\"iteration started\")\n",
    "    print(\"i=\",i)\n",
    "    print(\"iteration ended\")\n",
    "print(\"iterating second time...\")\n",
    "for i in f2:\n",
    "    print(i)"
   ]
  },
  {
   "cell_type": "code",
   "execution_count": 33,
   "metadata": {},
   "outputs": [
    {
     "name": "stdout",
     "output_type": "stream",
     "text": [
      "f2= <generator object fun at 0x7fe6d4287f48>\n",
      "a=10, b=20\n",
      "st1\n",
      "i= 100\n",
      "st2\n",
      "i= 200\n",
      "st3\n",
      "i= 300\n",
      "iterating second time...\n"
     ]
    }
   ],
   "source": [
    "def fun(a,b):\n",
    "    print(\"a=%s, b=%s\"%(a,b))\n",
    "    print(\"st1\")\n",
    "    yield 100\n",
    "    print(\"st2\")\n",
    "    yield 200\n",
    "    print(\"st3\")\n",
    "    yield 300\n",
    "f2=fun(10,20)\n",
    "print(\"f2=\",f2)\n",
    "for i in f2:\n",
    "    print(\"i=\",i)\n",
    "    \n",
    "print(\"iterating second time...\")\n",
    "for i in f2:\n",
    "    print(i)"
   ]
  },
  {
   "cell_type": "code",
   "execution_count": 34,
   "metadata": {},
   "outputs": [
    {
     "data": {
      "text/plain": [
       "range(0, 1320909090)"
      ]
     },
     "execution_count": 34,
     "metadata": {},
     "output_type": "execute_result"
    }
   ],
   "source": [
    "range(1320909090)"
   ]
  },
  {
   "cell_type": "code",
   "execution_count": 35,
   "metadata": {},
   "outputs": [
    {
     "data": {
      "text/plain": [
       "range(0, 10)"
      ]
     },
     "execution_count": 35,
     "metadata": {},
     "output_type": "execute_result"
    }
   ],
   "source": [
    "range(10)"
   ]
  },
  {
   "cell_type": "code",
   "execution_count": 36,
   "metadata": {},
   "outputs": [
    {
     "name": "stdout",
     "output_type": "stream",
     "text": [
      "0\n",
      "1\n",
      "2\n",
      "3\n",
      "4\n",
      "5\n",
      "6\n",
      "7\n",
      "8\n",
      "9\n"
     ]
    }
   ],
   "source": [
    "for i in range(10):\n",
    "    print(i)"
   ]
  },
  {
   "cell_type": "code",
   "execution_count": 37,
   "metadata": {},
   "outputs": [
    {
     "name": "stdout",
     "output_type": "stream",
     "text": [
      "0\n",
      "1\n",
      "2\n",
      "3\n",
      "4\n",
      "5\n",
      "6\n",
      "7\n",
      "8\n",
      "9\n"
     ]
    }
   ],
   "source": [
    "r1 = range(10)\n",
    "for i in r1:\n",
    "    print(i)"
   ]
  },
  {
   "cell_type": "code",
   "execution_count": 38,
   "metadata": {},
   "outputs": [
    {
     "name": "stdout",
     "output_type": "stream",
     "text": [
      "0\n",
      "1\n",
      "2\n",
      "3\n",
      "4\n",
      "5\n",
      "6\n",
      "7\n",
      "8\n",
      "9\n"
     ]
    }
   ],
   "source": [
    "for i in r1:\n",
    "    print(i)"
   ]
  },
  {
   "cell_type": "code",
   "execution_count": 39,
   "metadata": {},
   "outputs": [
    {
     "name": "stdout",
     "output_type": "stream",
     "text": [
      "res= <generator object fun at 0x7fe6d42af408>\n"
     ]
    }
   ],
   "source": [
    "def fun(start,stop):\n",
    "    while start<stop:\n",
    "        yield start\n",
    "        start=start+1\n",
    "res=fun(10,13)\n",
    "print(\"res=\",res)"
   ]
  },
  {
   "cell_type": "code",
   "execution_count": 40,
   "metadata": {},
   "outputs": [
    {
     "name": "stdout",
     "output_type": "stream",
     "text": [
      "res= <generator object fun at 0x7fe6d4b03480>\n",
      "10\n",
      "11\n",
      "12\n"
     ]
    }
   ],
   "source": [
    "def fun(start,stop):\n",
    "    while start<stop:\n",
    "        yield start\n",
    "        start=start+1\n",
    "res=fun(10,13)\n",
    "print(\"res=\",res)\n",
    "for i in res:\n",
    "    print(i)"
   ]
  },
  {
   "cell_type": "code",
   "execution_count": 41,
   "metadata": {},
   "outputs": [
    {
     "ename": "SyntaxError",
     "evalue": "'yield' outside function (<ipython-input-41-ee9578d97b2c>, line 1)",
     "output_type": "error",
     "traceback": [
      "\u001b[0;36m  File \u001b[0;32m\"<ipython-input-41-ee9578d97b2c>\"\u001b[0;36m, line \u001b[0;32m1\u001b[0m\n\u001b[0;31m    yield 20\u001b[0m\n\u001b[0m            ^\u001b[0m\n\u001b[0;31mSyntaxError\u001b[0m\u001b[0;31m:\u001b[0m 'yield' outside function\n"
     ]
    }
   ],
   "source": [
    "yield 20"
   ]
  },
  {
   "cell_type": "code",
   "execution_count": 42,
   "metadata": {},
   "outputs": [
    {
     "name": "stdout",
     "output_type": "stream",
     "text": [
      "res= <generator object fun at 0x7fe6d42af408>\n",
      "10\n",
      "11\n",
      "12\n"
     ]
    }
   ],
   "source": [
    "def fun(start,stop):\n",
    "    while start<stop:\n",
    "        yield start\n",
    "        start=start+1\n",
    "res=fun(10,13)\n",
    "print(\"res=\",res)\n",
    "for i in res:\n",
    "    print(i)\n",
    "for i in res:\n",
    "    print(i)"
   ]
  },
  {
   "cell_type": "code",
   "execution_count": null,
   "metadata": {},
   "outputs": [],
   "source": []
  }
 ],
 "metadata": {
  "kernelspec": {
   "display_name": "Python 3",
   "language": "python",
   "name": "python3"
  },
  "language_info": {
   "codemirror_mode": {
    "name": "ipython",
    "version": 3
   },
   "file_extension": ".py",
   "mimetype": "text/x-python",
   "name": "python",
   "nbconvert_exporter": "python",
   "pygments_lexer": "ipython3",
   "version": "3.7.0"
  }
 },
 "nbformat": 4,
 "nbformat_minor": 2
}
