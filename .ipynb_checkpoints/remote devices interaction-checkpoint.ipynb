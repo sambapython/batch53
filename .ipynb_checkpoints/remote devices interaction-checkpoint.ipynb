{
 "cells": [
  {
   "cell_type": "code",
   "execution_count": 1,
   "metadata": {},
   "outputs": [],
   "source": [
    "from github import Github"
   ]
  },
  {
   "cell_type": "code",
   "execution_count": 1,
   "metadata": {},
   "outputs": [
    {
     "ename": "NameError",
     "evalue": "name 'Github' is not defined",
     "output_type": "error",
     "traceback": [
      "\u001b[0;31m---------------------------------------------------------------------------\u001b[0m",
      "\u001b[0;31mNameError\u001b[0m                                 Traceback (most recent call last)",
      "\u001b[0;32m<ipython-input-1-424a2824569b>\u001b[0m in \u001b[0;36m<module>\u001b[0;34m()\u001b[0m\n\u001b[1;32m      1\u001b[0m \u001b[0muser\u001b[0m\u001b[0;34m=\u001b[0m\u001b[0;34m\"\"\u001b[0m\u001b[0;34m\u001b[0m\u001b[0m\n\u001b[1;32m      2\u001b[0m \u001b[0mpwd\u001b[0m\u001b[0;34m=\u001b[0m\u001b[0;34m\"\"\u001b[0m\u001b[0;34m\u001b[0m\u001b[0m\n\u001b[0;32m----> 3\u001b[0;31m \u001b[0mgit\u001b[0m \u001b[0;34m=\u001b[0m \u001b[0mGithub\u001b[0m\u001b[0;34m(\u001b[0m\u001b[0muser\u001b[0m\u001b[0;34m=\u001b[0m\u001b[0muser\u001b[0m\u001b[0;34m,\u001b[0m\u001b[0mpassword\u001b[0m\u001b[0;34m=\u001b[0m\u001b[0mpwd\u001b[0m\u001b[0;34m)\u001b[0m\u001b[0;34m\u001b[0m\u001b[0m\n\u001b[0m",
      "\u001b[0;31mNameError\u001b[0m: name 'Github' is not defined"
     ]
    }
   ],
   "source": [
    "user=\"\"\n",
    "pwd=\"\"\n",
    "git = Github(user=user,password=pwd)"
   ]
  },
  {
   "cell_type": "code",
   "execution_count": 4,
   "metadata": {},
   "outputs": [],
   "source": [
    "import os"
   ]
  },
  {
   "cell_type": "code",
   "execution_count": 5,
   "metadata": {},
   "outputs": [
    {
     "data": {
      "text/plain": [
       "'ibus'"
      ]
     },
     "execution_count": 5,
     "metadata": {},
     "output_type": "execute_result"
    }
   ],
   "source": [
    "os.getenv(\"GTK_IM_MODULE\")"
   ]
  },
  {
   "cell_type": "code",
   "execution_count": 6,
   "metadata": {},
   "outputs": [],
   "source": [
    "import os"
   ]
  },
  {
   "cell_type": "code",
   "execution_count": 7,
   "metadata": {},
   "outputs": [],
   "source": [
    "os.getenv(\"gitpwd\")"
   ]
  },
  {
   "cell_type": "code",
   "execution_count": 2,
   "metadata": {},
   "outputs": [
    {
     "ename": "NameError",
     "evalue": "name 'Github' is not defined",
     "output_type": "error",
     "traceback": [
      "\u001b[0;31m---------------------------------------------------------------------------\u001b[0m",
      "\u001b[0;31mNameError\u001b[0m                                 Traceback (most recent call last)",
      "\u001b[0;32m<ipython-input-2-bd2d3be3fb18>\u001b[0m in \u001b[0;36m<module>\u001b[0;34m()\u001b[0m\n\u001b[1;32m      1\u001b[0m \u001b[0muser\u001b[0m\u001b[0;34m=\u001b[0m\u001b[0;34m\"\"\u001b[0m\u001b[0;34m\u001b[0m\u001b[0m\n\u001b[1;32m      2\u001b[0m \u001b[0mpwd\u001b[0m\u001b[0;34m=\u001b[0m\u001b[0;34m\"\"\u001b[0m\u001b[0;34m\u001b[0m\u001b[0m\n\u001b[0;32m----> 3\u001b[0;31m \u001b[0mgit\u001b[0m \u001b[0;34m=\u001b[0m \u001b[0mGithub\u001b[0m\u001b[0;34m(\u001b[0m\u001b[0muser\u001b[0m\u001b[0;34m,\u001b[0m\u001b[0mpwd\u001b[0m\u001b[0;34m)\u001b[0m\u001b[0;34m\u001b[0m\u001b[0m\n\u001b[0m",
      "\u001b[0;31mNameError\u001b[0m: name 'Github' is not defined"
     ]
    }
   ],
   "source": [
    "user=\"\"\n",
    "pwd=\"\"\n",
    "git = Github(user,pwd)"
   ]
  },
  {
   "cell_type": "code",
   "execution_count": 17,
   "metadata": {},
   "outputs": [
    {
     "name": "stdout",
     "output_type": "stream",
     "text": [
      "['FIX_REPO_GET_GIT_REF', '_Github__get_FIX_REPO_GET_GIT_REF', '_Github__get_per_page', '_Github__requester', '_Github__set_FIX_REPO_GET_GIT_REF', '_Github__set_per_page', '__class__', '__delattr__', '__dict__', '__dir__', '__doc__', '__eq__', '__format__', '__ge__', '__getattribute__', '__gt__', '__hash__', '__init__', '__init_subclass__', '__le__', '__lt__', '__module__', '__ne__', '__new__', '__reduce__', '__reduce_ex__', '__repr__', '__setattr__', '__sizeof__', '__str__', '__subclasshook__', '__weakref__', 'create_from_raw_data', 'dump', 'get_api_status', 'get_api_status_messages', 'get_emojis', 'get_gist', 'get_gists', 'get_gitignore_template', 'get_gitignore_templates', 'get_hook', 'get_hooks', 'get_installation', 'get_last_api_status_message', 'get_license', 'get_licenses', 'get_organization', 'get_organizations', 'get_project', 'get_rate_limit', 'get_repo', 'get_repos', 'get_user', 'get_users', 'load', 'oauth_scopes', 'per_page', 'rate_limiting', 'rate_limiting_resettime', 'render_markdown', 'search_code', 'search_commits', 'search_issues', 'search_repositories', 'search_topics', 'search_users']\n"
     ]
    }
   ],
   "source": [
    "print(dir(git))"
   ]
  },
  {
   "cell_type": "code",
   "execution_count": 18,
   "metadata": {},
   "outputs": [],
   "source": [
    "git_user=git.get_user()"
   ]
  },
  {
   "cell_type": "code",
   "execution_count": 19,
   "metadata": {},
   "outputs": [
    {
     "data": {
      "text/plain": [
       "AuthenticatedUser(login=None)"
      ]
     },
     "execution_count": 19,
     "metadata": {},
     "output_type": "execute_result"
    }
   ],
   "source": [
    "git_user"
   ]
  },
  {
   "cell_type": "code",
   "execution_count": 20,
   "metadata": {},
   "outputs": [
    {
     "name": "stdout",
     "output_type": "stream",
     "text": [
      "['CHECK_AFTER_INIT_FLAG', '_CompletableGithubObject__complete', '_CompletableGithubObject__completed', '_GithubObject__makeSimpleAttribute', '_GithubObject__makeSimpleListAttribute', '_GithubObject__makeTransformedAttribute', '__class__', '__delattr__', '__dict__', '__dir__', '__doc__', '__eq__', '__format__', '__ge__', '__getattribute__', '__gt__', '__hash__', '__init__', '__init_subclass__', '__le__', '__lt__', '__module__', '__ne__', '__new__', '__reduce__', '__reduce_ex__', '__repr__', '__setattr__', '__sizeof__', '__str__', '__subclasshook__', '__weakref__', '_avatar_url', '_bio', '_blog', '_collaborators', '_company', '_completeIfNeeded', '_completeIfNotSet', '_created_at', '_disk_usage', '_email', '_events_url', '_followers', '_followers_url', '_following', '_following_url', '_gists_url', '_gravatar_id', '_headers', '_hireable', '_html_url', '_id', '_initAttributes', '_location', '_login', '_makeBoolAttribute', '_makeClassAttribute', '_makeDatetimeAttribute', '_makeDictAttribute', '_makeDictOfStringsToClassesAttribute', '_makeIntAttribute', '_makeListOfClassesAttribute', '_makeListOfDictsAttribute', '_makeListOfIntsAttribute', '_makeListOfListOfStringsAttribute', '_makeListOfStringsAttribute', '_makeStringAttribute', '_makeTimestampAttribute', '_name', '_organizations_url', '_owned_private_repos', '_parentUrl', '_plan', '_private_gists', '_public_gists', '_public_repos', '_rawData', '_received_events_url', '_repos_url', '_requester', '_site_admin', '_starred_url', '_storeAndUseAttributes', '_subscriptions_url', '_total_private_repos', '_type', '_updated_at', '_url', '_useAttributes', 'accept_invitation', 'add_to_emails', 'add_to_following', 'add_to_starred', 'add_to_subscriptions', 'add_to_watched', 'avatar_url', 'bio', 'blog', 'collaborators', 'company', 'create_authorization', 'create_fork', 'create_gist', 'create_key', 'create_migration', 'create_repo', 'created_at', 'disk_usage', 'edit', 'email', 'etag', 'events_url', 'followers', 'followers_url', 'following', 'following_url', 'get__repr__', 'get_authorization', 'get_authorizations', 'get_emails', 'get_events', 'get_followers', 'get_following', 'get_gists', 'get_issues', 'get_key', 'get_keys', 'get_migrations', 'get_notification', 'get_notifications', 'get_organization_events', 'get_orgs', 'get_repo', 'get_repos', 'get_starred', 'get_starred_gists', 'get_subscriptions', 'get_teams', 'get_user_issues', 'get_watched', 'gists_url', 'gravatar_id', 'has_in_following', 'has_in_starred', 'has_in_subscriptions', 'has_in_watched', 'hireable', 'html_url', 'id', 'last_modified', 'location', 'login', 'mark_notifications_as_read', 'name', 'organizations_url', 'owned_private_repos', 'plan', 'private_gists', 'public_gists', 'public_repos', 'raw_data', 'raw_headers', 'received_events_url', 'remove_from_emails', 'remove_from_following', 'remove_from_starred', 'remove_from_subscriptions', 'remove_from_watched', 'repos_url', 'setCheckAfterInitFlag', 'site_admin', 'starred_url', 'subscriptions_url', 'total_private_repos', 'type', 'update', 'updated_at', 'url']\n"
     ]
    }
   ],
   "source": [
    "print(dir(git_user))"
   ]
  },
  {
   "cell_type": "code",
   "execution_count": 21,
   "metadata": {},
   "outputs": [],
   "source": [
    "git_user.create_repo?"
   ]
  },
  {
   "cell_type": "code",
   "execution_count": 22,
   "metadata": {},
   "outputs": [
    {
     "data": {
      "text/plain": [
       "Repository(full_name=\"shabazkcea/batch53\")"
      ]
     },
     "execution_count": 22,
     "metadata": {},
     "output_type": "execute_result"
    }
   ],
   "source": [
    "git_user.create_repo(\"batch53\")"
   ]
  },
  {
   "cell_type": "code",
   "execution_count": 23,
   "metadata": {},
   "outputs": [
    {
     "data": {
      "text/plain": [
       "<github.PaginatedList.PaginatedList at 0x7f9a69e8a940>"
      ]
     },
     "execution_count": 23,
     "metadata": {},
     "output_type": "execute_result"
    }
   ],
   "source": [
    "git_user.get_repos()"
   ]
  },
  {
   "cell_type": "code",
   "execution_count": 24,
   "metadata": {},
   "outputs": [
    {
     "name": "stdout",
     "output_type": "stream",
     "text": [
      "Repository(full_name=\"shabazkcea/batch53\")\n"
     ]
    }
   ],
   "source": [
    "for repo in git_user.get_repos():\n",
    "    print(repo)"
   ]
  },
  {
   "cell_type": "code",
   "execution_count": 26,
   "metadata": {},
   "outputs": [],
   "source": [
    "repo=git_user.get_repo?"
   ]
  },
  {
   "cell_type": "code",
   "execution_count": null,
   "metadata": {},
   "outputs": [],
   "source": [
    "repo=git_user.get_repo"
   ]
  },
  {
   "cell_type": "code",
   "execution_count": 29,
   "metadata": {},
   "outputs": [],
   "source": [
    "repo=git_user.get_repo(\"batch53\")"
   ]
  },
  {
   "cell_type": "code",
   "execution_count": 30,
   "metadata": {},
   "outputs": [
    {
     "data": {
      "text/plain": [
       "Repository(full_name=\"shabazkcea/batch53\")"
      ]
     },
     "execution_count": 30,
     "metadata": {},
     "output_type": "execute_result"
    }
   ],
   "source": [
    "repo"
   ]
  },
  {
   "cell_type": "code",
   "execution_count": 31,
   "metadata": {},
   "outputs": [
    {
     "name": "stdout",
     "output_type": "stream",
     "text": [
      "['CHECK_AFTER_INIT_FLAG', '_CompletableGithubObject__complete', '_CompletableGithubObject__completed', '_GithubObject__makeSimpleAttribute', '_GithubObject__makeSimpleListAttribute', '_GithubObject__makeTransformedAttribute', '_Repository__create_pull', '_Repository__create_pull_1', '_Repository__create_pull_2', '__class__', '__delattr__', '__dict__', '__dir__', '__doc__', '__eq__', '__format__', '__ge__', '__getattribute__', '__gt__', '__hash__', '__init__', '__init_subclass__', '__le__', '__lt__', '__module__', '__ne__', '__new__', '__reduce__', '__reduce_ex__', '__repr__', '__setattr__', '__sizeof__', '__str__', '__subclasshook__', '__weakref__', '_allow_merge_commit', '_allow_rebase_merge', '_allow_squash_merge', '_archive_url', '_archived', '_assignees_url', '_blobs_url', '_branches_url', '_clone_url', '_collaborators_url', '_comments_url', '_commits_url', '_compare_url', '_completeIfNeeded', '_completeIfNotSet', '_contents_url', '_contributors_url', '_created_at', '_default_branch', '_description', '_downloads_url', '_events_url', '_fork', '_forks', '_forks_count', '_forks_url', '_full_name', '_git_commits_url', '_git_refs_url', '_git_tags_url', '_git_url', '_has_downloads', '_has_issues', '_has_projects', '_has_wiki', '_headers', '_homepage', '_hooks_url', '_html_url', '_hub', '_id', '_identity', '_initAttributes', '_issue_comment_url', '_issue_events_url', '_issues_url', '_keys_url', '_labels_url', '_language', '_languages_url', '_makeBoolAttribute', '_makeClassAttribute', '_makeDatetimeAttribute', '_makeDictAttribute', '_makeDictOfStringsToClassesAttribute', '_makeIntAttribute', '_makeListOfClassesAttribute', '_makeListOfDictsAttribute', '_makeListOfIntsAttribute', '_makeListOfListOfStringsAttribute', '_makeListOfStringsAttribute', '_makeStringAttribute', '_makeTimestampAttribute', '_master_branch', '_merges_url', '_milestones_url', '_mirror_url', '_name', '_network_count', '_notifications_url', '_open_issues', '_open_issues_count', '_organization', '_owner', '_parent', '_parentUrl', '_permissions', '_private', '_pulls_url', '_pushed_at', '_rawData', '_requester', '_size', '_source', '_ssh_url', '_stargazers_count', '_stargazers_url', '_statuses_url', '_storeAndUseAttributes', '_subscribers_count', '_subscribers_url', '_subscription_url', '_svn_url', '_tags_url', '_teams_url', '_topics', '_trees_url', '_updated_at', '_url', '_useAttributes', '_watchers', '_watchers_count', 'add_to_collaborators', 'allow_merge_commit', 'allow_rebase_merge', 'allow_squash_merge', 'archive_url', 'archived', 'assignees_url', 'blobs_url', 'branches_url', 'clone_url', 'collaborators_url', 'comments_url', 'commits_url', 'compare', 'compare_url', 'contents_url', 'contributors_url', 'create_file', 'create_git_blob', 'create_git_commit', 'create_git_ref', 'create_git_release', 'create_git_tag', 'create_git_tag_and_release', 'create_git_tree', 'create_hook', 'create_issue', 'create_key', 'create_label', 'create_milestone', 'create_project', 'create_pull', 'create_source_import', 'created_at', 'default_branch', 'delete', 'delete_file', 'description', 'downloads_url', 'edit', 'etag', 'events_url', 'fork', 'forks', 'forks_count', 'forks_url', 'full_name', 'get__repr__', 'get_archive_link', 'get_assignees', 'get_branch', 'get_branches', 'get_clones_traffic', 'get_collaborator_permission', 'get_collaborators', 'get_comment', 'get_comments', 'get_commit', 'get_commits', 'get_contents', 'get_contributors', 'get_dir_contents', 'get_download', 'get_downloads', 'get_events', 'get_file_contents', 'get_forks', 'get_git_blob', 'get_git_commit', 'get_git_ref', 'get_git_refs', 'get_git_tag', 'get_git_tree', 'get_hook', 'get_hooks', 'get_issue', 'get_issues', 'get_issues_comments', 'get_issues_event', 'get_issues_events', 'get_key', 'get_keys', 'get_label', 'get_labels', 'get_languages', 'get_latest_release', 'get_license', 'get_milestone', 'get_milestones', 'get_network_events', 'get_projects', 'get_pull', 'get_pulls', 'get_pulls_comments', 'get_pulls_review_comments', 'get_readme', 'get_release', 'get_release_asset', 'get_releases', 'get_source_import', 'get_stargazers', 'get_stargazers_with_dates', 'get_stats_code_frequency', 'get_stats_commit_activity', 'get_stats_contributors', 'get_stats_participation', 'get_stats_punch_card', 'get_subscribers', 'get_tags', 'get_teams', 'get_top_paths', 'get_top_referrers', 'get_topics', 'get_views_traffic', 'get_watchers', 'git_commits_url', 'git_refs_url', 'git_tags_url', 'git_url', 'has_downloads', 'has_in_assignees', 'has_in_collaborators', 'has_issues', 'has_projects', 'has_wiki', 'homepage', 'hooks_url', 'html_url', 'id', 'issue_comment_url', 'issue_events_url', 'issues_url', 'keys_url', 'labels_url', 'language', 'languages_url', 'last_modified', 'legacy_search_issues', 'mark_notifications_as_read', 'master_branch', 'merge', 'merges_url', 'milestones_url', 'mirror_url', 'name', 'network_count', 'notifications_url', 'open_issues', 'open_issues_count', 'organization', 'owner', 'parent', 'permissions', 'private', 'pulls_url', 'pushed_at', 'raw_data', 'raw_headers', 'remove_from_collaborators', 'replace_topics', 'setCheckAfterInitFlag', 'size', 'source', 'ssh_url', 'stargazers_count', 'stargazers_url', 'statuses_url', 'subscribe_to_hub', 'subscribers_count', 'subscribers_url', 'subscription_url', 'svn_url', 'tags_url', 'teams_url', 'topics', 'trees_url', 'unsubscribe_from_hub', 'update', 'update_file', 'updated_at', 'url', 'watchers', 'watchers_count']\n"
     ]
    }
   ],
   "source": [
    "print(dir(repo))"
   ]
  },
  {
   "cell_type": "code",
   "execution_count": 32,
   "metadata": {},
   "outputs": [],
   "source": [
    "repo.create_file?"
   ]
  },
  {
   "cell_type": "code",
   "execution_count": 33,
   "metadata": {},
   "outputs": [
    {
     "data": {
      "text/plain": [
       "{'content': ContentFile(path=\"readme.md\"),\n",
       " 'commit': Commit(sha=\"d601e91af11986dd575e9b68026a1d0413fa6e80\")}"
      ]
     },
     "execution_count": 33,
     "metadata": {},
     "output_type": "execute_result"
    }
   ],
   "source": [
    "repo.create_file(\"readme.md\",\"this is commit for readfile\",\"this is the repo created to test git pyton module\")"
   ]
  },
  {
   "cell_type": "code",
   "execution_count": 46,
   "metadata": {},
   "outputs": [
    {
     "name": "stdout",
     "output_type": "stream",
     "text": [
      "https://api.github.com/user/repos\n"
     ]
    }
   ],
   "source": [
    "base_url = \"https://api.github.com\"\n",
    "repos_url = \"/user/repos\"\n",
    "url_khyaathi_repos = base_url+repos_url\n",
    "print (url_khyaathi_repos)"
   ]
  },
  {
   "cell_type": "code",
   "execution_count": 47,
   "metadata": {},
   "outputs": [],
   "source": [
    "import requests\n",
    "resp = requests.post(url_khyaathi_repos, json={\"name\":\"batch53_1\"},auth=(user,pwd))"
   ]
  },
  {
   "cell_type": "code",
   "execution_count": 48,
   "metadata": {},
   "outputs": [
    {
     "data": {
      "text/plain": [
       "<Response [201]>"
      ]
     },
     "execution_count": 48,
     "metadata": {},
     "output_type": "execute_result"
    }
   ],
   "source": [
    "resp"
   ]
  },
  {
   "cell_type": "code",
   "execution_count": 45,
   "metadata": {},
   "outputs": [
    {
     "data": {
      "text/plain": [
       "{'message': 'Not Found',\n",
       " 'documentation_url': 'https://developer.github.com/v3/repos/#create'}"
      ]
     },
     "execution_count": 45,
     "metadata": {},
     "output_type": "execute_result"
    }
   ],
   "source": [
    "resp.json()"
   ]
  },
  {
   "cell_type": "code",
   "execution_count": 49,
   "metadata": {},
   "outputs": [],
   "source": [
    "import requests\n",
    "resp = requests.get(url_khyaathi_repos, auth=(user,pwd))"
   ]
  },
  {
   "cell_type": "code",
   "execution_count": 50,
   "metadata": {},
   "outputs": [
    {
     "data": {
      "text/plain": [
       "<Response [200]>"
      ]
     },
     "execution_count": 50,
     "metadata": {},
     "output_type": "execute_result"
    }
   ],
   "source": [
    "resp"
   ]
  },
  {
   "cell_type": "code",
   "execution_count": 52,
   "metadata": {},
   "outputs": [
    {
     "name": "stdout",
     "output_type": "stream",
     "text": [
      "{'id': 167293497, 'node_id': 'MDEwOlJlcG9zaXRvcnkxNjcyOTM0OTc=', 'name': 'batch53', 'full_name': 'shabazkcea/batch53', 'private': False, 'owner': {'login': 'shabazkcea', 'id': 46983734, 'node_id': 'MDQ6VXNlcjQ2OTgzNzM0', 'avatar_url': 'https://avatars1.githubusercontent.com/u/46983734?v=4', 'gravatar_id': '', 'url': 'https://api.github.com/users/shabazkcea', 'html_url': 'https://github.com/shabazkcea', 'followers_url': 'https://api.github.com/users/shabazkcea/followers', 'following_url': 'https://api.github.com/users/shabazkcea/following{/other_user}', 'gists_url': 'https://api.github.com/users/shabazkcea/gists{/gist_id}', 'starred_url': 'https://api.github.com/users/shabazkcea/starred{/owner}{/repo}', 'subscriptions_url': 'https://api.github.com/users/shabazkcea/subscriptions', 'organizations_url': 'https://api.github.com/users/shabazkcea/orgs', 'repos_url': 'https://api.github.com/users/shabazkcea/repos', 'events_url': 'https://api.github.com/users/shabazkcea/events{/privacy}', 'received_events_url': 'https://api.github.com/users/shabazkcea/received_events', 'type': 'User', 'site_admin': False}, 'html_url': 'https://github.com/shabazkcea/batch53', 'description': None, 'fork': False, 'url': 'https://api.github.com/repos/shabazkcea/batch53', 'forks_url': 'https://api.github.com/repos/shabazkcea/batch53/forks', 'keys_url': 'https://api.github.com/repos/shabazkcea/batch53/keys{/key_id}', 'collaborators_url': 'https://api.github.com/repos/shabazkcea/batch53/collaborators{/collaborator}', 'teams_url': 'https://api.github.com/repos/shabazkcea/batch53/teams', 'hooks_url': 'https://api.github.com/repos/shabazkcea/batch53/hooks', 'issue_events_url': 'https://api.github.com/repos/shabazkcea/batch53/issues/events{/number}', 'events_url': 'https://api.github.com/repos/shabazkcea/batch53/events', 'assignees_url': 'https://api.github.com/repos/shabazkcea/batch53/assignees{/user}', 'branches_url': 'https://api.github.com/repos/shabazkcea/batch53/branches{/branch}', 'tags_url': 'https://api.github.com/repos/shabazkcea/batch53/tags', 'blobs_url': 'https://api.github.com/repos/shabazkcea/batch53/git/blobs{/sha}', 'git_tags_url': 'https://api.github.com/repos/shabazkcea/batch53/git/tags{/sha}', 'git_refs_url': 'https://api.github.com/repos/shabazkcea/batch53/git/refs{/sha}', 'trees_url': 'https://api.github.com/repos/shabazkcea/batch53/git/trees{/sha}', 'statuses_url': 'https://api.github.com/repos/shabazkcea/batch53/statuses/{sha}', 'languages_url': 'https://api.github.com/repos/shabazkcea/batch53/languages', 'stargazers_url': 'https://api.github.com/repos/shabazkcea/batch53/stargazers', 'contributors_url': 'https://api.github.com/repos/shabazkcea/batch53/contributors', 'subscribers_url': 'https://api.github.com/repos/shabazkcea/batch53/subscribers', 'subscription_url': 'https://api.github.com/repos/shabazkcea/batch53/subscription', 'commits_url': 'https://api.github.com/repos/shabazkcea/batch53/commits{/sha}', 'git_commits_url': 'https://api.github.com/repos/shabazkcea/batch53/git/commits{/sha}', 'comments_url': 'https://api.github.com/repos/shabazkcea/batch53/comments{/number}', 'issue_comment_url': 'https://api.github.com/repos/shabazkcea/batch53/issues/comments{/number}', 'contents_url': 'https://api.github.com/repos/shabazkcea/batch53/contents/{+path}', 'compare_url': 'https://api.github.com/repos/shabazkcea/batch53/compare/{base}...{head}', 'merges_url': 'https://api.github.com/repos/shabazkcea/batch53/merges', 'archive_url': 'https://api.github.com/repos/shabazkcea/batch53/{archive_format}{/ref}', 'downloads_url': 'https://api.github.com/repos/shabazkcea/batch53/downloads', 'issues_url': 'https://api.github.com/repos/shabazkcea/batch53/issues{/number}', 'pulls_url': 'https://api.github.com/repos/shabazkcea/batch53/pulls{/number}', 'milestones_url': 'https://api.github.com/repos/shabazkcea/batch53/milestones{/number}', 'notifications_url': 'https://api.github.com/repos/shabazkcea/batch53/notifications{?since,all,participating}', 'labels_url': 'https://api.github.com/repos/shabazkcea/batch53/labels{/name}', 'releases_url': 'https://api.github.com/repos/shabazkcea/batch53/releases{/id}', 'deployments_url': 'https://api.github.com/repos/shabazkcea/batch53/deployments', 'created_at': '2019-01-24T03:05:16Z', 'updated_at': '2019-01-24T03:10:35Z', 'pushed_at': '2019-01-24T03:10:34Z', 'git_url': 'git://github.com/shabazkcea/batch53.git', 'ssh_url': 'git@github.com:shabazkcea/batch53.git', 'clone_url': 'https://github.com/shabazkcea/batch53.git', 'svn_url': 'https://github.com/shabazkcea/batch53', 'homepage': None, 'size': 0, 'stargazers_count': 0, 'watchers_count': 0, 'language': None, 'has_issues': True, 'has_projects': True, 'has_downloads': True, 'has_wiki': True, 'has_pages': False, 'forks_count': 0, 'mirror_url': None, 'archived': False, 'open_issues_count': 0, 'license': None, 'forks': 0, 'open_issues': 0, 'watchers': 0, 'default_branch': 'master', 'permissions': {'admin': True, 'push': True, 'pull': True}}\n",
      "{'id': 167296323, 'node_id': 'MDEwOlJlcG9zaXRvcnkxNjcyOTYzMjM=', 'name': 'batch53_1', 'full_name': 'shabazkcea/batch53_1', 'private': False, 'owner': {'login': 'shabazkcea', 'id': 46983734, 'node_id': 'MDQ6VXNlcjQ2OTgzNzM0', 'avatar_url': 'https://avatars1.githubusercontent.com/u/46983734?v=4', 'gravatar_id': '', 'url': 'https://api.github.com/users/shabazkcea', 'html_url': 'https://github.com/shabazkcea', 'followers_url': 'https://api.github.com/users/shabazkcea/followers', 'following_url': 'https://api.github.com/users/shabazkcea/following{/other_user}', 'gists_url': 'https://api.github.com/users/shabazkcea/gists{/gist_id}', 'starred_url': 'https://api.github.com/users/shabazkcea/starred{/owner}{/repo}', 'subscriptions_url': 'https://api.github.com/users/shabazkcea/subscriptions', 'organizations_url': 'https://api.github.com/users/shabazkcea/orgs', 'repos_url': 'https://api.github.com/users/shabazkcea/repos', 'events_url': 'https://api.github.com/users/shabazkcea/events{/privacy}', 'received_events_url': 'https://api.github.com/users/shabazkcea/received_events', 'type': 'User', 'site_admin': False}, 'html_url': 'https://github.com/shabazkcea/batch53_1', 'description': None, 'fork': False, 'url': 'https://api.github.com/repos/shabazkcea/batch53_1', 'forks_url': 'https://api.github.com/repos/shabazkcea/batch53_1/forks', 'keys_url': 'https://api.github.com/repos/shabazkcea/batch53_1/keys{/key_id}', 'collaborators_url': 'https://api.github.com/repos/shabazkcea/batch53_1/collaborators{/collaborator}', 'teams_url': 'https://api.github.com/repos/shabazkcea/batch53_1/teams', 'hooks_url': 'https://api.github.com/repos/shabazkcea/batch53_1/hooks', 'issue_events_url': 'https://api.github.com/repos/shabazkcea/batch53_1/issues/events{/number}', 'events_url': 'https://api.github.com/repos/shabazkcea/batch53_1/events', 'assignees_url': 'https://api.github.com/repos/shabazkcea/batch53_1/assignees{/user}', 'branches_url': 'https://api.github.com/repos/shabazkcea/batch53_1/branches{/branch}', 'tags_url': 'https://api.github.com/repos/shabazkcea/batch53_1/tags', 'blobs_url': 'https://api.github.com/repos/shabazkcea/batch53_1/git/blobs{/sha}', 'git_tags_url': 'https://api.github.com/repos/shabazkcea/batch53_1/git/tags{/sha}', 'git_refs_url': 'https://api.github.com/repos/shabazkcea/batch53_1/git/refs{/sha}', 'trees_url': 'https://api.github.com/repos/shabazkcea/batch53_1/git/trees{/sha}', 'statuses_url': 'https://api.github.com/repos/shabazkcea/batch53_1/statuses/{sha}', 'languages_url': 'https://api.github.com/repos/shabazkcea/batch53_1/languages', 'stargazers_url': 'https://api.github.com/repos/shabazkcea/batch53_1/stargazers', 'contributors_url': 'https://api.github.com/repos/shabazkcea/batch53_1/contributors', 'subscribers_url': 'https://api.github.com/repos/shabazkcea/batch53_1/subscribers', 'subscription_url': 'https://api.github.com/repos/shabazkcea/batch53_1/subscription', 'commits_url': 'https://api.github.com/repos/shabazkcea/batch53_1/commits{/sha}', 'git_commits_url': 'https://api.github.com/repos/shabazkcea/batch53_1/git/commits{/sha}', 'comments_url': 'https://api.github.com/repos/shabazkcea/batch53_1/comments{/number}', 'issue_comment_url': 'https://api.github.com/repos/shabazkcea/batch53_1/issues/comments{/number}', 'contents_url': 'https://api.github.com/repos/shabazkcea/batch53_1/contents/{+path}', 'compare_url': 'https://api.github.com/repos/shabazkcea/batch53_1/compare/{base}...{head}', 'merges_url': 'https://api.github.com/repos/shabazkcea/batch53_1/merges', 'archive_url': 'https://api.github.com/repos/shabazkcea/batch53_1/{archive_format}{/ref}', 'downloads_url': 'https://api.github.com/repos/shabazkcea/batch53_1/downloads', 'issues_url': 'https://api.github.com/repos/shabazkcea/batch53_1/issues{/number}', 'pulls_url': 'https://api.github.com/repos/shabazkcea/batch53_1/pulls{/number}', 'milestones_url': 'https://api.github.com/repos/shabazkcea/batch53_1/milestones{/number}', 'notifications_url': 'https://api.github.com/repos/shabazkcea/batch53_1/notifications{?since,all,participating}', 'labels_url': 'https://api.github.com/repos/shabazkcea/batch53_1/labels{/name}', 'releases_url': 'https://api.github.com/repos/shabazkcea/batch53_1/releases{/id}', 'deployments_url': 'https://api.github.com/repos/shabazkcea/batch53_1/deployments', 'created_at': '2019-01-24T03:27:24Z', 'updated_at': '2019-01-24T03:27:24Z', 'pushed_at': '2019-01-24T03:27:24Z', 'git_url': 'git://github.com/shabazkcea/batch53_1.git', 'ssh_url': 'git@github.com:shabazkcea/batch53_1.git', 'clone_url': 'https://github.com/shabazkcea/batch53_1.git', 'svn_url': 'https://github.com/shabazkcea/batch53_1', 'homepage': None, 'size': 0, 'stargazers_count': 0, 'watchers_count': 0, 'language': None, 'has_issues': True, 'has_projects': True, 'has_downloads': True, 'has_wiki': True, 'has_pages': False, 'forks_count': 0, 'mirror_url': None, 'archived': False, 'open_issues_count': 0, 'license': None, 'forks': 0, 'open_issues': 0, 'watchers': 0, 'default_branch': 'master', 'permissions': {'admin': True, 'push': True, 'pull': True}}\n"
     ]
    }
   ],
   "source": [
    "for repo in resp.json():\n",
    "    print(repo)"
   ]
  },
  {
   "cell_type": "code",
   "execution_count": 54,
   "metadata": {},
   "outputs": [
    {
     "name": "stdout",
     "output_type": "stream",
     "text": [
      "167293497 batch53\n",
      "167296323 batch53_1\n"
     ]
    }
   ],
   "source": [
    "for repo in resp.json():\n",
    "    print(repo.get(\"id\"),repo.get(\"name\"))"
   ]
  },
  {
   "cell_type": "code",
   "execution_count": 55,
   "metadata": {},
   "outputs": [
    {
     "name": "stdout",
     "output_type": "stream",
     "text": [
      "167293497 batch53\n",
      "167296323 batch53_1\n"
     ]
    }
   ],
   "source": [
    "for repo in resp.json():\n",
    "    print(repo.get(\"id\"),repo.get(\"name\"))"
   ]
  },
  {
   "cell_type": "code",
   "execution_count": 56,
   "metadata": {},
   "outputs": [],
   "source": [
    "import requests\n",
    "resp = requests.get(url_khyaathi_repos, auth=(user,pwd),params={\"name\":\"batch53_1\"})"
   ]
  },
  {
   "cell_type": "code",
   "execution_count": 57,
   "metadata": {},
   "outputs": [
    {
     "data": {
      "text/plain": [
       "<Response [200]>"
      ]
     },
     "execution_count": 57,
     "metadata": {},
     "output_type": "execute_result"
    }
   ],
   "source": [
    "resp"
   ]
  },
  {
   "cell_type": "code",
   "execution_count": 62,
   "metadata": {},
   "outputs": [
    {
     "name": "stdout",
     "output_type": "stream",
     "text": [
      "167293497\n",
      "167296323\n"
     ]
    }
   ],
   "source": [
    "for repo in resp.json():\n",
    "    print(repo.get(\"id\"))"
   ]
  },
  {
   "cell_type": "code",
   "execution_count": 66,
   "metadata": {},
   "outputs": [
    {
     "name": "stdout",
     "output_type": "stream",
     "text": [
      "167293497\n",
      "167296323\n"
     ]
    }
   ],
   "source": [
    "import requests\n",
    "resp = requests.get(url_khyaathi_repos, auth=(user,pwd),json={\"name\":\"batch53_1\"})\n",
    "for repo in resp.json():\n",
    "    print(repo.get(\"id\"))"
   ]
  },
  {
   "cell_type": "code",
   "execution_count": 68,
   "metadata": {},
   "outputs": [
    {
     "name": "stdout",
     "output_type": "stream",
     "text": [
      "167296323\n"
     ]
    }
   ],
   "source": [
    "import requests\n",
    "resp = requests.get(url_khyaathi_repos, auth=(user,pwd),json={\"id\":\"167293497\"})\n",
    "for repo in resp.json():\n",
    "    if repo.get(\"name\")==\"batch53_1\":\n",
    "        rep_id=repo.get(\"id\")\n",
    "        break\n",
    "print(rep_id)"
   ]
  },
  {
   "cell_type": "code",
   "execution_count": 69,
   "metadata": {},
   "outputs": [],
   "source": [
    "resp=requests.delete(url_khyaathi_repos+\"/167296323\")"
   ]
  },
  {
   "cell_type": "code",
   "execution_count": 70,
   "metadata": {},
   "outputs": [
    {
     "data": {
      "text/plain": [
       "<Response [404]>"
      ]
     },
     "execution_count": 70,
     "metadata": {},
     "output_type": "execute_result"
    }
   ],
   "source": [
    "resp"
   ]
  },
  {
   "cell_type": "code",
   "execution_count": 72,
   "metadata": {},
   "outputs": [],
   "source": [
    "requests.post?"
   ]
  },
  {
   "cell_type": "code",
   "execution_count": 73,
   "metadata": {},
   "outputs": [],
   "source": [
    "# hostname\n",
    "# username\n",
    "#password\n",
    "import paramiko"
   ]
  },
  {
   "cell_type": "code",
   "execution_count": 74,
   "metadata": {},
   "outputs": [],
   "source": [
    "ssh  = paramiko.SSHClient()"
   ]
  },
  {
   "cell_type": "code",
   "execution_count": 75,
   "metadata": {},
   "outputs": [],
   "source": [
    "import paramiko as pmk\n",
    "ssh = pmk.SSHClient()\n",
    "ssh.set_missing_host_key_policy(pmk.AutoAddPolicy())\n",
    "ssh.connect(\"localhost\",username=\"\",password=\"\")"
   ]
  },
  {
   "cell_type": "code",
   "execution_count": 76,
   "metadata": {},
   "outputs": [
    {
     "data": {
      "text/plain": [
       "(<paramiko.ChannelFile from <paramiko.Channel 0 (open) window=2097152 -> <paramiko.Transport at 0x69567080 (cipher aes128-ctr, 128 bits) (active; 1 open channel(s))>>>,\n",
       " <paramiko.ChannelFile from <paramiko.Channel 0 (open) window=2097152 -> <paramiko.Transport at 0x69567080 (cipher aes128-ctr, 128 bits) (active; 1 open channel(s))>>>,\n",
       " <paramiko.ChannelFile from <paramiko.Channel 0 (open) window=2097152 -> <paramiko.Transport at 0x69567080 (cipher aes128-ctr, 128 bits) (active; 1 open channel(s))>>>)"
      ]
     },
     "execution_count": 76,
     "metadata": {},
     "output_type": "execute_result"
    }
   ],
   "source": [
    "ssh.exec_command(\"mkdir local\")"
   ]
  },
  {
   "cell_type": "code",
   "execution_count": 77,
   "metadata": {},
   "outputs": [],
   "source": [
    "inp,outp,errp = ssh.exec_command(\"mkdir local\")"
   ]
  },
  {
   "cell_type": "code",
   "execution_count": 78,
   "metadata": {},
   "outputs": [
    {
     "data": {
      "text/plain": [
       "b'mkdir: cannot create directory \\xe2\\x80\\x98local\\xe2\\x80\\x99: File exists\\n'"
      ]
     },
     "execution_count": 78,
     "metadata": {},
     "output_type": "execute_result"
    }
   ],
   "source": [
    "errp.read()"
   ]
  },
  {
   "cell_type": "code",
   "execution_count": 79,
   "metadata": {},
   "outputs": [],
   "source": [
    "inp,outp,errp = ssh.exec_command(\"mkdir remote\")"
   ]
  },
  {
   "cell_type": "code",
   "execution_count": 80,
   "metadata": {},
   "outputs": [],
   "source": [
    "inp,outp,errp = ssh.exec_command(\"ls -l\")"
   ]
  },
  {
   "cell_type": "code",
   "execution_count": 81,
   "metadata": {},
   "outputs": [
    {
     "name": "stdout",
     "output_type": "stream",
     "text": [
      "b'total 96\\ndrwxrwxr-x  2 khyaathipython khyaathipython 4096 Jan  7 09:32 ALL PYTHON\\ndrwxr-xr-x 23 khyaathipython khyaathipython 4096 Dec 20 07:45 anaconda3\\ndrwxr-xr-x  6 khyaathipython khyaathipython 4096 Jan  9 08:06 batch52\\ndrwxr-xr-x  6 khyaathipython khyaathipython 4096 Jan 24 09:13 batch53\\ndrwxr-xr-x  3 khyaathipython khyaathipython 4096 Jan 24 07:36 batch54\\n-rw-rw-r--  1 khyaathipython khyaathipython  117 Dec 27 07:42 data.yml\\n-rw-rw-r--  1 khyaathipython khyaathipython 2085 Dec 22 11:08 deployment steps.text\\ndrwxr-xr-x  2 khyaathipython khyaathipython 4096 Dec 19 09:43 Desktop\\ndrwxr-xr-x  4 khyaathipython khyaathipython 4096 Dec 23 09:23 djangobatch8\\ndrwxr-xr-x  2 khyaathipython khyaathipython 4096 Dec 19 09:43 Documents\\ndrwxr-xr-x  2 khyaathipython khyaathipython 4096 Dec 19 09:43 Downloads\\n-rw-r--r--  1 khyaathipython khyaathipython 8980 Dec 19 09:36 examples.desktop\\ndrwxrwxr-x  2 khyaathipython khyaathipython 4096 Jan 24 09:14 local\\ndrwxr-xr-x  2 khyaathipython khyaathipython 4096 Dec 19 09:43 Music\\ndrwxr-xr-x  6 khyaathipython khyaathipython 4096 Dec 22 10:11 pgmanagement\\ndrwxr-xr-x  2 khyaathipython khyaathipython 4096 Dec 19 09:43 Pictures\\ndrwxr-xr-x  2 khyaathipython khyaathipython 4096 Dec 19 09:43 Public\\ndrwxrwxr-x  2 khyaathipython khyaathipython 4096 Jan 24 09:15 remote\\n-rw-r--r--  1 khyaathipython khyaathipython   53 Dec 22 10:08 requirements.txt\\ndrwxr-xr-x  3 khyaathipython khyaathipython 4096 Dec 30 07:53 snap\\ndrwxr-xr-x  2 khyaathipython khyaathipython 4096 Dec 19 09:43 Templates\\ndrwxr-xr-x  2 khyaathipython khyaathipython 4096 Dec 19 09:43 Videos\\n'\n"
     ]
    }
   ],
   "source": [
    "print(outp.read())"
   ]
  },
  {
   "cell_type": "code",
   "execution_count": 82,
   "metadata": {},
   "outputs": [
    {
     "name": "stdout",
     "output_type": "stream",
     "text": [
      "b'USER       PID %CPU %MEM    VSZ   RSS TTY      STAT START   TIME COMMAND\\nroot         1  0.0  0.1 225720  9924 ?        Ss   Jan22   0:34 /lib/systemd/systemd --system --deserialize 34\\nroot         2  0.0  0.0      0     0 ?        S    Jan22   0:00 [kthreadd]\\nroot         4  0.0  0.0      0     0 ?        I<   Jan22   0:00 [kworker/0:0H]\\nroot         6  0.0  0.0      0     0 ?        I<   Jan22   0:00 [mm_percpu_wq]\\nroot         7  0.0  0.0      0     0 ?        S    Jan22   0:08 [ksoftirqd/0]\\nroot         8  0.0  0.0      0     0 ?        I    Jan22   0:17 [rcu_sched]\\nroot         9  0.0  0.0      0     0 ?        I    Jan22   0:00 [rcu_bh]\\nroot        10  0.0  0.0      0     0 ?        S    Jan22   0:00 [migration/0]\\nroot        11  0.0  0.0      0     0 ?        S    Jan22   0:00 [watchdog/0]\\nroot        12  0.0  0.0      0     0 ?        S    Jan22   0:00 [cpuhp/0]\\nroot        13  0.0  0.0      0     0 ?        S    Jan22   0:00 [kdevtmpfs]\\nroot        14  0.0  0.0      0     0 ?        I<   Jan22   0:00 [netns]\\nroot        15  0.0  0.0      0     0 ?        S    Jan22   0:00 [rcu_tasks_kthre]\\nroot        16  0.0  0.0      0     0 ?        S    Jan22   0:00 [kauditd]\\nroot        17  0.0  0.0      0     0 ?        S    Jan22   0:00 [khungtaskd]\\nroot        18  0.0  0.0      0     0 ?        S    Jan22   0:00 [oom_reaper]\\nroot        19  0.0  0.0      0     0 ?        I<   Jan22   0:00 [writeback]\\nroot        20  0.0  0.0      0     0 ?        S    Jan22   0:00 [kcompactd0]\\nroot        21  0.0  0.0      0     0 ?        SN   Jan22   0:00 [ksmd]\\nroot        22  0.0  0.0      0     0 ?        SN   Jan22   0:00 [khugepaged]\\nroot        23  0.0  0.0      0     0 ?        I<   Jan22   0:00 [crypto]\\nroot        24  0.0  0.0      0     0 ?        I<   Jan22   0:00 [kintegrityd]\\nroot        25  0.0  0.0      0     0 ?        I<   Jan22   0:00 [kblockd]\\nroot        26  0.0  0.0      0     0 ?        I<   Jan22   0:00 [ata_sff]\\nroot        27  0.0  0.0      0     0 ?        I<   Jan22   0:00 [md]\\nroot        28  0.0  0.0      0     0 ?        I<   Jan22   0:00 [edac-poller]\\nroot        29  0.0  0.0      0     0 ?        I<   Jan22   0:00 [devfreq_wq]\\nroot        30  0.0  0.0      0     0 ?        I<   Jan22   0:00 [watchdogd]\\nroot        34  0.0  0.0      0     0 ?        S    Jan22   0:01 [kswapd0]\\nroot        35  0.0  0.0      0     0 ?        S    Jan22   0:00 [ecryptfs-kthrea]\\nroot        77  0.0  0.0      0     0 ?        I<   Jan22   0:00 [kthrotld]\\nroot        78  0.0  0.0      0     0 ?        I<   Jan22   0:00 [acpi_thermal_pm]\\nroot        79  0.0  0.0      0     0 ?        S    Jan22   0:00 [scsi_eh_0]\\nroot        80  0.0  0.0      0     0 ?        I<   Jan22   0:00 [scsi_tmf_0]\\nroot        81  0.0  0.0      0     0 ?        S    Jan22   0:00 [scsi_eh_1]\\nroot        82  0.0  0.0      0     0 ?        I<   Jan22   0:00 [scsi_tmf_1]\\nroot        88  0.0  0.0      0     0 ?        I<   Jan22   0:00 [ipv6_addrconf]\\nroot        97  0.0  0.0      0     0 ?        I<   Jan22   0:00 [kstrp]\\nroot       114  0.0  0.0      0     0 ?        I<   Jan22   0:00 [charger_manager]\\nroot       165  0.0  0.0      0     0 ?        I<   Jan22   0:04 [kworker/0:1H]\\nroot       166  0.0  0.0      0     0 ?        S    Jan22   0:00 [scsi_eh_2]\\nroot       167  0.0  0.0      0     0 ?        I<   Jan22   0:00 [scsi_tmf_2]\\nroot       188  0.0  0.0      0     0 ?        S    Jan22   0:04 [jbd2/sda1-8]\\nroot       189  0.0  0.0      0     0 ?        I<   Jan22   0:00 [ext4-rsv-conver]\\nroot       249  0.0  0.0      0     0 ?        S<   Jan22   0:00 [loop0]\\nroot       255  0.0  0.0      0     0 ?        S<   Jan22   0:00 [loop1]\\nroot       258  0.0  0.0      0     0 ?        S<   Jan22   0:00 [loop2]\\nroot       264  0.0  0.0      0     0 ?        S<   Jan22   0:00 [loop3]\\nroot       266  0.0  0.0      0     0 ?        S<   Jan22   0:00 [loop4]\\nroot       268  0.0  0.0      0     0 ?        S<   Jan22   0:00 [loop5]\\nroot       269  0.0  0.0      0     0 ?        S<   Jan22   0:00 [loop6]\\nroot       273  0.0  0.0      0     0 ?        S<   Jan22   0:00 [loop7]\\nroot       276  0.0  0.0      0     0 ?        S<   Jan22   0:00 [loop8]\\nroot       279  0.0  0.0      0     0 ?        S<   Jan22   0:00 [loop9]\\nroot       282  0.0  0.0      0     0 ?        S<   Jan22   0:00 [loop10]\\nroot       283  0.0  0.0      0     0 ?        S<   Jan22   0:00 [loop11]\\nroot       284  0.0  0.0      0     0 ?        S<   Jan22   0:00 [loop12]\\nroot       285  0.0  0.0      0     0 ?        S<   Jan22   0:00 [loop13]\\nroot       368  0.0  0.0      0     0 ?        I<   Jan22   0:00 [iprt-VBoxWQueue]\\nroot       378  0.0  0.0      0     0 ?        I<   Jan22   0:00 [ttm_swap]\\nroot       518  0.0  0.1 503280  9592 ?        Ssl  Jan22   0:00 /usr/lib/udisks2/udisksd\\nroot       521  0.0  0.1 427256  6280 ?        Ssl  Jan22   0:00 /usr/sbin/ModemManager\\nsyslog     523  0.0  0.0 263036  3816 ?        Ssl  Jan22   0:00 /usr/sbin/rsyslogd -n\\nroot       531  0.0  0.0   4552   868 ?        Ss   Jan22   0:06 /usr/sbin/acpid\\nroot       532  0.0  0.0  38428  3220 ?        Ss   Jan22   0:00 /usr/sbin/cron -f\\nroot       533  0.0  0.3 177612 17140 ?        Ssl  Jan22   0:00 /usr/bin/python3 /usr/bin/networkd-dispatcher --run-startup-triggers\\navahi      534  0.0  0.0  47256  3020 ?        Ss   Jan22   0:00 avahi-daemon: running [khyaathipython.local]\\nroot       537  0.0  0.1  70692  5300 ?        Ss   Jan22   0:01 /lib/systemd/systemd-logind\\nroot       539  0.0  0.1 294740  6896 ?        Ssl  Jan22   0:02 /usr/lib/accountsservice/accounts-daemon\\nmessage+   540  0.0  0.1  51972  6324 ?        Ss   Jan22   0:09 /usr/bin/dbus-daemon --system --address=systemd: --nofork --nopidfile --systemd-activation --syslog-only\\navahi      561  0.0  0.0  47076   344 ?        S    Jan22   0:00 avahi-daemon: chroot helper\\nroot       567  0.0  0.2 567880 14840 ?        Ssl  Jan22   0:04 /usr/sbin/NetworkManager --no-daemon\\nroot       568  0.0  0.0  44752  3856 ?        Ss   Jan22   0:00 /sbin/wpa_supplicant -u -s -O /run/wpa_supplicant\\nroot       575  0.0  0.4 669328 20740 ?        Ssl  Jan22   0:27 /usr/lib/snapd/snapd\\nkhyaath+   655  0.0  0.3  62184 19500 ?        Ss   Jan22   0:26 /home/khyaathipython/pgmanagement/bin/python /home/khyaathipython/pgmanagement/bin/gunicorn --access-logfile - --workers 3 --bind 0.0.0.0:9000 pgmanagement.wsgi:application\\nroot       668  0.0  0.1 308180  7464 ?        Ssl  Jan22   0:00 /usr/sbin/gdm3\\nroot       674  0.0  0.1 261552  7796 ?        Sl   Jan22   0:00 gdm-session-worker [pam/gdm-launch-environment]\\nroot       693  0.0  0.1 147064  5608 ?        Ss   Jan22   0:00 nginx: master process /usr/sbin/nginx -g daemon on; master_process on;\\nwhoopsie   718  0.0  0.2 464300 12688 ?        Ssl  Jan22   0:00 /usr/bin/whoopsie -f\\nkernoops   736  0.0  0.0  56936  2608 ?        Ss   Jan22   0:02 /usr/sbin/kerneloops --test\\nkernoops   738  0.0  0.0  56936   424 ?        Ss   Jan22   0:02 /usr/sbin/kerneloops\\ngdm        740  0.0  0.1  77000  6536 ?        Ss   Jan22   0:00 /lib/systemd/systemd --user\\ngdm        741  0.0  0.0 114076  2592 ?        S    Jan22   0:00 (sd-pam)\\ngdm        781  0.0  0.1 197796  5468 tty1     Ssl+ Jan22   0:00 /usr/lib/gdm3/gdm-wayland-session gnome-session --autostart /usr/share/gdm/greeter/autostart\\ngdm        784  0.0  0.0  50332  4588 ?        Ss   Jan22   0:00 /usr/bin/dbus-daemon --session --address=systemd: --nofork --nopidfile --systemd-activation --syslog-only\\ngdm        786  0.0  0.2 558928 13452 tty1     Sl+  Jan22   0:00 /usr/lib/gnome-session/gnome-session-binary --autostart /usr/share/gdm/greeter/autostart\\ngdm        792  0.0  3.5 2917028 178232 tty1   Sl+  Jan22   0:58 /usr/bin/gnome-shell\\nroot       806  0.0  0.1 322300  8236 ?        Ssl  Jan22   0:00 /usr/lib/upower/upowerd\\ngdm        820  0.0  0.6 202716 33200 tty1     S+   Jan22   0:00 /usr/bin/Xwayland :1024 -rootless -terminate -accessx -core -listen 4 -listen 5 -displayfd 6\\ngdm        824  0.0  0.1 349400  6288 ?        Ssl  Jan22   0:00 /usr/lib/at-spi2-core/at-spi-bus-launcher\\ngdm        829  0.0  0.0  49928  3672 ?        S    Jan22   0:00 /usr/bin/dbus-daemon --config-file=/usr/share/defaults/at-spi2/accessibility.conf --nofork --print-address 3\\ngdm        831  0.0  0.1 220760  5736 ?        Sl   Jan22   0:00 /usr/lib/at-spi2-core/at-spi2-registryd --use-gnome-session\\ngdm        832  0.0  0.1 1153424 9708 ?        Ssl  Jan22   0:00 /usr/bin/pulseaudio --daemonize=no\\nrtkit      836  0.0  0.0 183504  2956 ?        SNsl Jan22   0:01 /usr/lib/rtkit/rtkit-daemon\\ngdm        847  0.0  0.1 435092  7608 tty1     Sl   Jan22   0:00 ibus-daemon --xim --panel disable\\ngdm        850  0.0  0.1 280740  5788 tty1     Sl   Jan22   0:00 /usr/lib/ibus/ibus-dconf\\ngdm        853  0.0  0.9 471640 46132 tty1     Sl   Jan22   0:00 /usr/lib/ibus/ibus-x11 --kill-daemon\\ngdm        857  0.0  0.1 278688  5784 ?        Sl   Jan22   0:00 /usr/lib/ibus/ibus-portal\\ngdm        870  0.0  0.4 494564 21540 tty1     Sl+  Jan22   0:00 /usr/lib/gnome-settings-daemon/gsd-xsettings\\nroot       871  0.0  0.1 296772  7124 ?        Ssl  Jan22   0:00 /usr/lib/x86_64-linux-gnu/boltd\\nroot       872  0.0  2.2 522016 113780 ?       Ssl  Jan22   1:28 /usr/lib/packagekit/packagekitd\\ngdm        873  0.0  0.1 278152  5836 tty1     Sl+  Jan22   0:00 /usr/lib/gnome-settings-daemon/gsd-a11y-settings\\ngdm        875  0.0  0.3 343656 19996 tty1     Sl+  Jan22   0:00 /usr/lib/gnome-settings-daemon/gsd-clipboard\\ngdm        883  0.0  0.4 668176 21976 tty1     Sl+  Jan22   0:48 /usr/lib/gnome-settings-daemon/gsd-color\\ngdm        884  0.0  0.2 393704 13496 tty1     Sl+  Jan22   0:00 /usr/lib/gnome-settings-daemon/gsd-datetime\\ngdm        893  0.0  0.1 283736  5580 tty1     Sl+  Jan22   0:00 /usr/lib/gnome-settings-daemon/gsd-housekeeping\\ngdm        898  0.0  0.4 498044 20460 tty1     Sl+  Jan22   0:00 /usr/lib/gnome-settings-daemon/gsd-keyboard\\ngdm        900  0.0  0.4 1079724 22804 tty1    Sl+  Jan22   0:00 /usr/lib/gnome-settings-daemon/gsd-media-keys\\ngdm        905  0.0  0.0 201996  4440 tty1     Sl+  Jan22   0:00 /usr/lib/gnome-settings-daemon/gsd-mouse\\ngdm        907  0.0  0.4 517332 21784 tty1     Sl+  Jan22   0:00 /usr/lib/gnome-settings-daemon/gsd-power\\ngdm        909  0.0  0.1 267004  8520 tty1     Sl+  Jan22   0:00 /usr/lib/gnome-settings-daemon/gsd-print-notifications\\ngdm        910  0.0  0.0 202016  4492 tty1     Sl+  Jan22   0:00 /usr/lib/gnome-settings-daemon/gsd-rfkill\\ngdm        918  0.0  0.0 275732  4748 tty1     Sl+  Jan22   0:00 /usr/lib/gnome-settings-daemon/gsd-screensaver-proxy\\ngdm        921  0.0  0.1 305096  8292 tty1     Sl+  Jan22   0:00 /usr/lib/gnome-settings-daemon/gsd-sharing\\ngdm        925  0.0  0.1 451656  7000 tty1     Sl+  Jan22   0:00 /usr/lib/gnome-settings-daemon/gsd-smartcard\\ngdm        929  0.0  0.1 332852  7980 tty1     Sl+  Jan22   0:00 /usr/lib/gnome-settings-daemon/gsd-sound\\ngdm        932  0.0  0.4 428672 21340 tty1     Sl+  Jan22   0:00 /usr/lib/gnome-settings-daemon/gsd-wacom\\ncolord     957  0.0  0.2 677348 14104 ?        Ssl  Jan22   0:00 /usr/lib/colord/colord\\ngdm        966  0.0  0.1 204888  6584 tty1     Sl   Jan22   0:00 /usr/lib/ibus/ibus-engine-simple\\nroot       983  0.0  0.1 267744  7716 ?        Sl   Jan22   0:00 gdm-session-worker [pam/gdm-password]\\nkhyaath+   989  0.0  0.1  77068  6852 ?        Ss   Jan22   0:00 /lib/systemd/systemd --user\\nkhyaath+   990  0.0  0.0 114076  2596 ?        S    Jan22   0:00 (sd-pam)\\nkhyaath+  1003  0.0  0.1 362104  7180 ?        Sl   Jan22   0:00 /usr/bin/gnome-keyring-daemon --daemonize --login\\nkhyaath+  1007  0.0  0.1 212128  6048 tty2     Ssl+ Jan22   0:00 /usr/lib/gdm3/gdm-x-session --run-script env GNOME_SHELL_SESSION_MODE=ubuntu gnome-session --session=ubuntu\\nkhyaath+  1009  1.3  3.7 615108 188528 tty2    Sl+  Jan22  44:15 /usr/lib/xorg/Xorg vt2 -displayfd 3 -auth /run/user/1000/gdm/Xauthority -background none -noreset -keeptty -verbose 3\\nkhyaath+  1014  0.0  0.1  51392  5648 ?        Ss   Jan22   0:03 /usr/bin/dbus-daemon --session --address=systemd: --nofork --nopidfile --systemd-activation --syslog-only\\nkhyaath+  1018  0.0  0.2 715136 14312 tty2     Sl+  Jan22   0:00 /usr/lib/gnome-session/gnome-session-binary --session=ubuntu\\nkhyaath+  1112  0.0  0.0  11304   320 ?        Ss   Jan22   0:00 /usr/bin/ssh-agent /usr/bin/im-launch env GNOME_SHELL_SESSION_MODE=ubuntu gnome-session --session=ubuntu\\nkhyaath+  1114  0.0  0.1 349292  6448 ?        Ssl  Jan22   0:00 /usr/lib/at-spi2-core/at-spi-bus-launcher\\nkhyaath+  1119  0.0  0.0  50336  4392 ?        S    Jan22   0:11 /usr/bin/dbus-daemon --config-file=/usr/share/defaults/at-spi2/accessibility.conf --nofork --print-address 3\\nkhyaath+  1122  0.0  0.1 220776  6832 ?        Sl   Jan22   0:14 /usr/lib/at-spi2-core/at-spi2-registryd --use-gnome-session\\nkhyaath+  1140  8.2 12.2 3234696 621848 tty2   Sl+  Jan22 276:04 /usr/bin/gnome-shell\\nkhyaath+  1146  0.0  0.1 292064  7080 ?        Ssl  Jan22   0:00 /usr/lib/gvfs/gvfsd\\nkhyaath+  1151  0.0  0.1 416112  5208 ?        Sl   Jan22   0:00 /usr/lib/gvfs/gvfsd-fuse /run/user/1000/gvfs -f -o big_writes\\nkhyaath+  1162  0.0  0.2 1434400 10712 ?       Sl   Jan22   0:05 /usr/bin/pulseaudio --start --log-target=syslog\\nkhyaath+  1172  0.1  0.2 364420 11360 tty2     Sl   Jan22   4:25 ibus-daemon --xim --panel disable\\nkhyaath+  1176  0.0  0.1 280744  6652 tty2     Sl   Jan22   0:00 /usr/lib/ibus/ibus-dconf\\nkhyaath+  1178  0.0  0.4 354808 21368 tty2     Sl   Jan22   0:04 /usr/lib/ibus/ibus-x11 --kill-daemon\\nkhyaath+  1181  0.0  0.1 278688  5904 ?        Sl   Jan22   0:00 /usr/lib/ibus/ibus-portal\\nkhyaath+  1191  0.0  0.3 689616 19656 ?        Sl   Jan22   0:00 /usr/lib/gnome-shell/gnome-shell-calendar-server\\nkhyaath+  1197  0.0  0.4 978908 25180 ?        Ssl  Jan22   0:00 /usr/lib/evolution/evolution-source-registry\\nkhyaath+  1203  0.0  0.4 774272 21324 ?        Sl   Jan22   0:00 /usr/lib/gnome-online-accounts/goa-daemon\\nkhyaath+  1211  0.0  0.1 306436  8292 ?        Ssl  Jan22   0:00 /usr/lib/gvfs/gvfs-udisks2-volume-monitor\\nkhyaath+  1215  0.0  0.1 274044  5852 ?        Ssl  Jan22   0:00 /usr/lib/gvfs/gvfs-goa-volume-monitor\\nkhyaath+  1224  0.0  0.1 303356  7040 ?        Sl   Jan22   0:03 /usr/lib/gnome-online-accounts/goa-identity-service\\nkhyaath+  1226  0.0  0.1 288656  6444 ?        Ssl  Jan22   0:00 /usr/lib/gvfs/gvfs-gphoto2-volume-monitor\\nkhyaath+  1233  0.0  0.1 378812  7532 ?        Ssl  Jan22   0:00 /usr/lib/gvfs/gvfs-afc-volume-monitor\\nkhyaath+  1238  0.0  0.1 275868  5880 ?        Ssl  Jan22   0:00 /usr/lib/gvfs/gvfs-mtp-volume-monitor\\nkhyaath+  1242  0.0  0.4 519580 22296 tty2     Sl+  Jan22   0:04 /usr/lib/gnome-settings-daemon/gsd-power\\nkhyaath+  1243  0.0  0.2 349312 10152 tty2     Sl+  Jan22   0:00 /usr/lib/gnome-settings-daemon/gsd-print-notifications\\nkhyaath+  1246  0.0  0.1 423344  5792 tty2     Sl+  Jan22   0:00 /usr/lib/gnome-settings-daemon/gsd-rfkill\\nkhyaath+  1248  0.0  0.0 275732  4704 tty2     Sl+  Jan22   0:00 /usr/lib/gnome-settings-daemon/gsd-screensaver-proxy\\nkhyaath+  1250  0.0  0.1 452824  9132 tty2     Sl+  Jan22   0:00 /usr/lib/gnome-settings-daemon/gsd-sharing\\nkhyaath+  1256  0.0  0.4 505036 22404 tty2     Sl+  Jan22   0:05 /usr/lib/gnome-settings-daemon/gsd-xsettings\\nkhyaath+  1259  0.0  0.1 332848  7796 tty2     Sl+  Jan22   0:00 /usr/lib/gnome-settings-daemon/gsd-sound\\nkhyaath+  1263  0.0  0.4 438944 21008 tty2     Sl+  Jan22   0:04 /usr/lib/gnome-settings-daemon/gsd-wacom\\nkhyaath+  1265  0.0  0.1 377924  5832 tty2     Sl+  Jan22   0:00 /usr/lib/gnome-settings-daemon/gsd-smartcard\\nkhyaath+  1281  0.0  0.4 354100 20612 tty2     Sl+  Jan22   0:04 /usr/lib/gnome-settings-daemon/gsd-clipboard\\nkhyaath+  1283  0.0  0.1 278152  6012 tty2     Sl+  Jan22   0:00 /usr/lib/gnome-settings-daemon/gsd-a11y-settings\\nkhyaath+  1284  0.0  0.2 469728 13532 tty2     Sl+  Jan22   0:00 /usr/lib/gnome-settings-daemon/gsd-datetime\\nkhyaath+  1286  0.0  0.4 752932 23468 tty2     Sl+  Jan22   1:06 /usr/lib/gnome-settings-daemon/gsd-color\\nkhyaath+  1287  0.0  0.4 508912 21400 tty2     Sl+  Jan22   0:04 /usr/lib/gnome-settings-daemon/gsd-keyboard\\nkhyaath+  1289  0.0  0.1 364576  7076 tty2     Sl+  Jan22   0:04 /usr/lib/gnome-settings-daemon/gsd-housekeeping\\nkhyaath+  1291  0.0  0.1 278152  5756 tty2     Sl+  Jan22   0:00 /usr/lib/gnome-settings-daemon/gsd-mouse\\nkhyaath+  1294  0.0  0.4 794932 23072 tty2     Sl+  Jan22   0:04 /usr/lib/gnome-settings-daemon/gsd-media-keys\\nkhyaath+  1313  0.0  0.2 508752 12792 tty2     Sl+  Jan22   0:00 /usr/lib/gnome-settings-daemon/gsd-printer\\nkhyaath+  1341  0.0  4.8 1175648 245460 tty2   SLl+ Jan22   1:53 /usr/bin/gnome-software --gapplication-service\\nkhyaath+  1342  0.0  1.1 807580 56860 tty2     Sl+  Jan22   0:33 nautilus-desktop\\nkhyaath+  1343  0.0  0.1 271932  5792 tty2     Sl+  Jan22   0:00 /usr/lib/gnome-disk-utility/gsd-disk-utility-notify\\nkhyaath+  1360  0.0  0.1 368220  7320 ?        Sl   Jan22   0:00 /usr/lib/gvfs/gvfsd-trash --spawner :1.13 /org/gtk/gvfs/exec_spaw/0\\nkhyaath+  1375  0.0  1.2 891508 62448 ?        Ssl  Jan22   0:00 /usr/lib/evolution/evolution-calendar-factory\\nkhyaath+  1384  0.0  0.1 188016  5220 ?        Sl   Jan22   0:00 /usr/lib/dconf/dconf-service\\nkhyaath+  1385  0.0  0.1 205024  6904 tty2     Sl   Jan22   0:50 /usr/lib/ibus/ibus-engine-simple\\nkhyaath+  1394  0.0  1.1 939520 58792 ?        Sl   Jan22   0:00 /usr/lib/evolution/evolution-calendar-factory-subprocess --factory all --bus-name org.gnome.evolution.dataserver.Subprocess.Backend.Calendarx1375x2 --own-path /org/gnome/evolution/dataserver/Subprocess/Backend/Calendar/1375/2\\nkhyaath+  1410  0.0  0.3 732664 20100 ?        Ssl  Jan22   0:00 /usr/lib/evolution/evolution-addressbook-factory\\nkhyaath+  1419  0.0  0.4 886096 21372 ?        Sl   Jan22   0:00 /usr/lib/evolution/evolution-addressbook-factory-subprocess --factory all --bus-name org.gnome.evolution.dataserver.Subprocess.Backend.AddressBookx1410x2 --own-path /org/gnome/evolution/dataserver/Subprocess/Backend/AddressBook/1410/2\\nroot      1438  0.0  0.3 560388 20032 ?        Ssl  Jan22   0:05 /usr/lib/fwupd/fwupd\\nwww-data  1814  0.0  0.0 149736  5060 ?        S    Jan22   0:00 nginx: worker process\\nkhyaath+  1816  0.0  0.5 669368 27472 tty2     Sl+  Jan22   0:08 update-notifier\\nkhyaath+  1872  0.0  0.1 204516  6000 ?        Ssl  Jan22   0:00 /usr/lib/gvfs/gvfsd-metadata\\nkhyaath+  1875  0.0  0.4 861492 22028 tty2     Sl+  Jan22   0:00 /usr/lib/deja-dup/deja-dup-monitor\\nkhyaath+  1887  0.0  0.1 433620  8796 ?        Ssl  Jan22   0:00 /usr/bin/zeitgeist-daemon\\nkhyaath+  1893  0.0  0.2 326676 13668 ?        Ssl  Jan22   0:00 /usr/lib/zeitgeist/zeitgeist/zeitgeist-fts\\nsystemd+  3388  0.0  0.1  70748  6368 ?        Ss   Jan23   0:01 /lib/systemd/systemd-resolved\\nsystemd+  3392  0.0  0.0 143976  3268 ?        Ssl  Jan23   0:00 /lib/systemd/systemd-timesyncd\\nroot      3395  0.0  0.3 111436 15744 ?        S<s  Jan23   0:00 /lib/systemd/systemd-journald\\nkhyaath+  5470  0.0  0.1  79932  5796 ?        S    Jan22   0:00 /usr/lib/x86_64-linux-gnu/gconf/gconfd-2\\nkhyaath+  5569  0.0  0.1 433364  9996 ?        Sl   Jan22   0:00 /usr/lib/gvfs/gvfsd-http --spawner :1.13 /org/gtk/gvfs/exec_spaw/1\\nkhyaath+  5642  0.0  0.1 444116  7344 ?        Sl   Jan22   0:00 /usr/lib/gvfs/gvfsd-network --spawner :1.13 /org/gtk/gvfs/exec_spaw/3\\nkhyaath+  5663  0.0  0.1 455020  7396 ?        Sl   Jan22   0:00 /usr/lib/gvfs/gvfsd-dnssd --spawner :1.13 /org/gtk/gvfs/exec_spaw/6\\nkhyaath+  6707  0.0  1.0 254272 52836 tty2     S+   Jan23   0:00 /usr/bin/perl -w /usr/bin/debconf-communicate\\nroot      9696  0.0  0.1 303356 10084 ?        Ssl  Jan23   0:01 /usr/lib/policykit-1/polkitd --no-debug\\nkhyaath+ 11752  0.0  0.8 640460 45212 ?        Ssl  Jan23   0:03 /home/khyaathipython/anaconda3/bin/python -m ipykernel_launcher -f /run/user/1000/jupyter/kernel-74c59f40-d20e-4d47-88b1-64fc90d7e95e.json\\nkhyaath+ 13145  0.0  0.1  82724  6540 ?        Ss   Jan22   0:00 /usr/lib/bluetooth/obexd\\nkhyaath+ 16074  0.0  1.0 995420 53032 ?        Sl   04:12   0:04 /usr/bin/nautilus --gapplication-service\\nkhyaath+ 16089  0.1  2.4 1011036 126044 ?      Sl   04:13   0:20 evince /home/khyaathipython/ALL PYTHON/Python_Documentation.pdf\\nkhyaath+ 16095  0.0  0.0 187736  4304 ?        Ssl  04:13   0:00 /usr/lib/evince/evinced\\nkhyaath+ 19315  1.8  8.3 2315188 420984 tty2   Sl+  04:49   4:54 /usr/lib/firefox/firefox -new-window\\nkhyaath+ 19355  0.9  5.3 1775264 270504 tty2   Rl+  04:49   2:37 /usr/lib/firefox/firefox -contentproc -childID 1 -isForBrowser -prefsLen 1 -prefMapSize 169984 -schedulerPrefs 0001,2 -parentBuildID 20181207224003 -greomni /usr/lib/firefox/omni.ja -appomni /usr/lib/firefox/browser/omni.ja -appdir /usr/lib/firefox/browser 19315 true tab\\nkhyaath+ 19390  0.1  2.4 1530004 125788 tty2   Sl+  04:49   0:20 /usr/lib/firefox/firefox -contentproc -childID 2 -isForBrowser -prefsLen 5067 -prefMapSize 169984 -schedulerPrefs 0001,2 -parentBuildID 20181207224003 -greomni /usr/lib/firefox/omni.ja -appomni /usr/lib/firefox/browser/omni.ja -appdir /usr/lib/firefox/browser 19315 true tab\\nkhyaath+ 19879  0.0  0.7 803332 38204 ?        Ssl  05:54   0:05 /usr/lib/gnome-terminal/gnome-terminal-server\\nkhyaath+ 19889  0.0  0.1  29948  5504 pts/5    Ss   05:54   0:00 bash\\nroot     20587  0.0  0.0      0     0 ?        I    07:07   0:01 [kworker/0:0]\\nkhyaath+ 20879  0.0  1.5 1052440 79824 ?       Ssl  Jan23   0:04 /home/khyaathipython/anaconda3/bin/python -m ipykernel_launcher -f /run/user/1000/jupyter/kernel-17566b8a-4163-4cb5-9ca4-0c8fbf2ddebb.json\\nroot     22109  0.0  0.0      0     0 ?        S<   07:22   0:00 [loop15]\\npostgres 22229  0.0  0.5 326664 26268 ?        S    Jan22   0:03 /usr/lib/postgresql/10/bin/postgres -D /var/lib/postgresql/10/main -c config_file=/etc/postgresql/10/main/postgresql.conf\\npostgres 22231  0.0  0.1 326812  9264 ?        Ss   Jan22   0:00 postgres: 10/main: checkpointer process   \\npostgres 22232  0.0  0.1 326664  6492 ?        Ss   Jan22   0:01 postgres: 10/main: writer process   \\npostgres 22233  0.0  0.1 326664  9076 ?        Ss   Jan22   0:01 postgres: 10/main: wal writer process   \\npostgres 22234  0.0  0.1 327076  7264 ?        Ss   Jan22   0:01 postgres: 10/main: autovacuum launcher process   \\npostgres 22235  0.0  0.0 181684  4864 ?        Ss   Jan22   0:01 postgres: 10/main: stats collector process   \\npostgres 22236  0.0  0.0 326956  5028 ?        Ss   Jan22   0:00 postgres: 10/main: bgworker: logical replication launcher   \\nroot     22287  0.0  0.1 107680  8176 ?        Ss   07:24   0:00 /usr/sbin/cupsd -l\\nroot     22289  0.0  0.2 303652 11008 ?        Ssl  07:24   0:00 /usr/sbin/cups-browsed\\nkhyaath+ 22699  0.2  2.4 826476 122156 tty2    Sl+  07:55   0:13 /usr/bin/mono /usr/lib/pinta/Pinta.exe\\nroot     22737  0.0  0.0      0     0 ?        I    07:57   0:00 [kworker/u2:3]\\nkhyaath+ 22770  0.0  1.7 969868 89936 ?        Ssl  Jan22   0:07 /home/khyaathipython/anaconda3/bin/python -m ipykernel_launcher -f /run/user/1000/jupyter/kernel-71706142-24fb-41a0-94ec-d0e874957576.json\\nroot     22814  0.0  0.0      0     0 ?        I    08:11   0:00 [kworker/0:2]\\nroot     22824  0.0  0.1  25656  6196 ?        S    08:11   0:00 /sbin/dhclient -d -q -sf /usr/lib/NetworkManager/nm-dhcp-helper -pf /run/dhclient-enp0s3.pid -lf /var/lib/NetworkManager/dhclient-2b11a3ca-ca14-376e-b6c9-ee3156761222-enp0s3.lease -cf /var/lib/NetworkManager/dhclient-enp0s3.conf enp0s3\\nkhyaath+ 22841  0.1  1.2 363332 62876 pts/5    Sl+  08:11   0:04 /home/khyaathipython/anaconda3/bin/python /home/khyaathipython/anaconda3/bin/ipython notebook\\nkhyaath+ 22954  0.0  1.2 821092 62764 ?        Ssl  08:11   0:02 /home/khyaathipython/anaconda3/bin/python -m ipykernel_launcher -f /run/user/1000/jupyter/kernel-39c5f1fc-facf-4f7b-936f-d956e8998ec4.json\\nkhyaath+ 23039  0.0  0.1  29948  5492 pts/6    Ss+  08:17   0:00 bash\\nkhyaath+ 23085  0.5  3.9 1645912 198928 tty2   Sl+  08:20   0:18 /usr/lib/firefox/firefox -contentproc -childID 6 -isForBrowser -prefsLen 8038 -prefMapSize 169984 -schedulerPrefs 0001,2 -parentBuildID 20181207224003 -greomni /usr/lib/firefox/omni.ja -appomni /usr/lib/firefox/browser/omni.ja -appdir /usr/lib/firefox/browser 19315 true tab\\nkhyaath+ 23167  0.0  0.7 126700 36560 ?        S    08:27   0:00 /home/khyaathipython/pgmanagement/bin/python /home/khyaathipython/pgmanagement/bin/gunicorn --access-logfile - --workers 3 --bind 0.0.0.0:9000 pgmanagement.wsgi:application\\nkhyaath+ 23168  0.0  0.7 126700 36556 ?        S    08:27   0:00 /home/khyaathipython/pgmanagement/bin/python /home/khyaathipython/pgmanagement/bin/gunicorn --access-logfile - --workers 3 --bind 0.0.0.0:9000 pgmanagement.wsgi:application\\nkhyaath+ 23169  0.0  0.7 126704 36560 ?        S    08:27   0:00 /home/khyaathipython/pgmanagement/bin/python /home/khyaathipython/pgmanagement/bin/gunicorn --access-logfile - --workers 3 --bind 0.0.0.0:9000 pgmanagement.wsgi:application\\nkhyaath+ 23274  0.6  3.5 1625812 180868 tty2   Sl+  08:43   0:13 /usr/lib/firefox/firefox -contentproc -childID 9 -isForBrowser -prefsLen 8038 -prefMapSize 169984 -schedulerPrefs 0001,2 -parentBuildID 20181207224003 -greomni /usr/lib/firefox/omni.ja -appomni /usr/lib/firefox/browser/omni.ja -appdir /usr/lib/firefox/browser 19315 true tab\\nroot     23317  0.0  0.0      0     0 ?        I    08:43   0:00 [kworker/u2:1]\\nkhyaath+ 23365  0.2  2.5 1542536 128424 tty2   Sl+  08:51   0:03 /usr/lib/firefox/firefox -contentproc -childID 11 -isForBrowser -prefsLen 8038 -prefMapSize 169984 -schedulerPrefs 0001,2 -parentBuildID 20181207224003 -greomni /usr/lib/firefox/omni.ja -appomni /usr/lib/firefox/browser/omni.ja -appdir /usr/lib/firefox/browser 19315 true tab\\nroot     23616  0.0  0.0      0     0 ?        I    09:09   0:00 [kworker/u2:2]\\nroot     24599  0.0  0.1  72296  5724 ?        Ss   09:09   0:00 /usr/sbin/sshd -D\\nkhyaath+ 24689  0.0  0.0  11304  1444 ?        S    09:10   0:00 /usr/bin/ssh-agent -D -a /run/user/1000/keyring/.ssh\\nroot     24837  0.0  0.1 107776  7168 ?        Ss   09:13   0:00 sshd: khyaathipython [priv]\\nkhyaath+ 24905  0.0  0.1 110076  6432 ?        S    09:13   0:00 sshd: khyaathipython@notty\\nkhyaath+ 24927  0.0  0.0  46772  3676 ?        Rs   09:16   0:00 ps -aux\\nroot     26033  0.0  0.0      0     0 ?        S<   Jan22   0:00 [loop14]\\nkhyaath+ 26357  0.0  0.8 639804 44736 ?        Ssl  Jan22   0:06 /home/khyaathipython/anaconda3/bin/python -m ipykernel_launcher -f /run/user/1000/jupyter/kernel-c67bf80b-dcc7-4478-ae26-24f20e8cf50d.json\\nroot     26889  0.0  0.0  34236  4336 ?        Ss   Jan23   0:00 /lib/systemd/systemd-udevd\\nkhyaath+ 31584  0.0  0.8 640348 44880 ?        Ssl  Jan22   0:06 /home/khyaathipython/anaconda3/bin/python -m ipykernel_launcher -f /run/user/1000/jupyter/kernel-f834f993-2d05-4b55-9225-8e102b56cdb4.json\\n'\n"
     ]
    }
   ],
   "source": [
    "inp,outp,errp = ssh.exec_command(\"ps -aux\")\n",
    "print(outp.read())"
   ]
  },
  {
   "cell_type": "code",
   "execution_count": 84,
   "metadata": {},
   "outputs": [],
   "source": [
    "pwd=\"python\"\n",
    "inp,outp,errp = ssh.exec_command(\"echo %s| sudo -S ls /proc\"%pwd)"
   ]
  },
  {
   "cell_type": "code",
   "execution_count": 86,
   "metadata": {},
   "outputs": [
    {
     "name": "stdout",
     "output_type": "stream",
     "text": [
      "b'1\\n10\\n1003\\n1007\\n1009\\n1014\\n1018\\n11\\n1112\\n1114\\n1119\\n1122\\n114\\n1140\\n1146\\n1151\\n1162\\n1172\\n11752\\n1176\\n1178\\n1181\\n1191\\n1197\\n12\\n1203\\n1211\\n1215\\n1224\\n1226\\n1233\\n1238\\n1242\\n1243\\n1246\\n1248\\n1250\\n1256\\n1259\\n1263\\n1265\\n1281\\n1283\\n1284\\n1286\\n1287\\n1289\\n1291\\n1294\\n13\\n1313\\n13145\\n1341\\n1342\\n1343\\n1360\\n1375\\n1384\\n1385\\n1394\\n14\\n1410\\n1419\\n1438\\n15\\n16\\n16074\\n16089\\n16095\\n165\\n166\\n167\\n17\\n18\\n1814\\n1816\\n1872\\n1875\\n188\\n1887\\n189\\n1893\\n19\\n19315\\n19355\\n19390\\n19879\\n19889\\n2\\n20\\n20587\\n20879\\n21\\n22\\n22109\\n22229\\n22231\\n22232\\n22233\\n22234\\n22235\\n22236\\n22287\\n22289\\n22699\\n22737\\n22770\\n22814\\n22824\\n22841\\n22954\\n23\\n23039\\n23085\\n23167\\n23168\\n23169\\n23274\\n23317\\n23365\\n23616\\n24\\n24599\\n24689\\n24837\\n249\\n24905\\n24944\\n24946\\n24947\\n25\\n255\\n258\\n26\\n26033\\n26357\\n264\\n266\\n268\\n26889\\n269\\n27\\n273\\n276\\n279\\n28\\n282\\n283\\n284\\n285\\n29\\n30\\n31584\\n3388\\n3392\\n3395\\n34\\n35\\n368\\n378\\n4\\n518\\n521\\n523\\n531\\n532\\n533\\n534\\n537\\n539\\n540\\n5470\\n5569\\n561\\n5642\\n5663\\n567\\n568\\n575\\n6\\n655\\n668\\n6707\\n674\\n693\\n7\\n718\\n736\\n738\\n740\\n741\\n77\\n78\\n781\\n784\\n786\\n79\\n792\\n8\\n80\\n806\\n81\\n82\\n820\\n824\\n829\\n831\\n832\\n836\\n847\\n850\\n853\\n857\\n870\\n871\\n872\\n873\\n875\\n88\\n883\\n884\\n893\\n898\\n9\\n900\\n905\\n907\\n909\\n910\\n918\\n921\\n925\\n929\\n932\\n957\\n966\\n9696\\n97\\n983\\n989\\n990\\nacpi\\nasound\\nbuddyinfo\\nbus\\ncgroups\\ncmdline\\nconsoles\\ncpuinfo\\ncrypto\\ndevices\\ndiskstats\\ndma\\ndriver\\nexecdomains\\nfb\\nfilesystems\\nfs\\ninterrupts\\niomem\\nioports\\nirq\\nkallsyms\\nkcore\\nkeys\\nkey-users\\nkmsg\\nkpagecgroup\\nkpagecount\\nkpageflags\\nloadavg\\nlocks\\nmdstat\\nmeminfo\\nmisc\\nmodules\\nmounts\\nmtrr\\nnet\\npagetypeinfo\\npartitions\\nsched_debug\\nschedstat\\nscsi\\nself\\nslabinfo\\nsoftirqs\\nstat\\nswaps\\nsys\\nsysrq-trigger\\nsysvipc\\nthread-self\\ntimer_list\\ntty\\nuptime\\nversion\\nversion_signature\\nvmallocinfo\\nvmstat\\nzoneinfo\\n'\n"
     ]
    }
   ],
   "source": [
    "print(outp.read())"
   ]
  },
  {
   "cell_type": "code",
   "execution_count": 87,
   "metadata": {},
   "outputs": [],
   "source": [
    "sftp=ssh.open_sftp()"
   ]
  },
  {
   "cell_type": "code",
   "execution_count": 88,
   "metadata": {},
   "outputs": [
    {
     "data": {
      "text/plain": [
       "<SFTPAttributes: [ size=44 uid=1000 gid=1000 mode=0o100664 atime=1548301960 mtime=1548301960 ]>"
      ]
     },
     "execution_count": 88,
     "metadata": {},
     "output_type": "execute_result"
    }
   ],
   "source": [
    "sftp.put(\"/home/khyaathipython/local/a.py\",\"/home/khyaathipython/remote/a_remote.py\")"
   ]
  },
  {
   "cell_type": "code",
   "execution_count": 89,
   "metadata": {},
   "outputs": [],
   "source": [
    "sftp.get(\"/home/khyaathipython/remote/a_remote.py\",\"/home/khyaathipython/local/a_local.py\")"
   ]
  },
  {
   "cell_type": "code",
   "execution_count": 95,
   "metadata": {},
   "outputs": [
    {
     "name": "stdout",
     "output_type": "stream",
     "text": [
      "1\n",
      "10\n",
      "1003\n",
      "1007\n",
      "1009\n",
      "1014\n",
      "1018\n",
      "11\n",
      "1112\n",
      "1114\n",
      "1119\n",
      "1122\n",
      "114\n",
      "1140\n",
      "1146\n",
      "1151\n",
      "1162\n",
      "1172\n",
      "11752\n",
      "1176\n",
      "1178\n",
      "1181\n",
      "1191\n",
      "1197\n",
      "12\n",
      "1203\n",
      "1211\n",
      "1215\n",
      "1224\n",
      "1226\n",
      "1233\n",
      "1238\n",
      "1242\n",
      "1243\n",
      "1246\n",
      "1248\n",
      "1250\n",
      "1256\n",
      "1259\n",
      "1263\n",
      "1265\n",
      "1281\n",
      "1283\n",
      "1284\n",
      "1286\n",
      "1287\n",
      "1289\n",
      "1291\n",
      "1294\n",
      "13\n",
      "1313\n",
      "13145\n",
      "1341\n",
      "1342\n",
      "1343\n",
      "1360\n",
      "1375\n",
      "1384\n",
      "1385\n",
      "1394\n",
      "14\n",
      "1410\n",
      "1419\n",
      "1438\n",
      "15\n",
      "16\n",
      "16074\n",
      "16089\n",
      "16095\n",
      "165\n",
      "166\n",
      "167\n",
      "17\n",
      "18\n",
      "1814\n",
      "1816\n",
      "1872\n",
      "1875\n",
      "188\n",
      "1887\n",
      "189\n",
      "1893\n",
      "19\n",
      "19315\n",
      "19355\n",
      "19390\n",
      "19879\n",
      "19889\n",
      "2\n",
      "20\n",
      "20587\n",
      "20879\n",
      "21\n",
      "22\n",
      "22109\n",
      "22229\n",
      "22231\n",
      "22232\n",
      "22233\n",
      "22234\n",
      "22235\n",
      "22236\n",
      "22287\n",
      "22289\n",
      "22699\n",
      "22737\n",
      "22770\n",
      "22814\n",
      "22824\n",
      "22841\n",
      "22954\n",
      "23\n",
      "23039\n",
      "23085\n",
      "23167\n",
      "23168\n",
      "23169\n",
      "23274\n",
      "23317\n",
      "23365\n",
      "24\n",
      "24599\n",
      "24689\n",
      "24837\n",
      "249\n",
      "24905\n",
      "24957\n",
      "24958\n",
      "25\n",
      "25018\n",
      "25020\n",
      "25021\n",
      "255\n",
      "258\n",
      "26\n",
      "26033\n",
      "26357\n",
      "264\n",
      "266\n",
      "268\n",
      "26889\n",
      "269\n",
      "27\n",
      "273\n",
      "276\n",
      "279\n",
      "28\n",
      "282\n",
      "283\n",
      "284\n",
      "285\n",
      "29\n",
      "30\n",
      "31584\n",
      "3388\n",
      "3392\n",
      "3395\n",
      "34\n",
      "35\n",
      "368\n",
      "378\n",
      "4\n",
      "518\n",
      "521\n",
      "523\n",
      "531\n",
      "532\n",
      "533\n",
      "534\n",
      "537\n",
      "539\n",
      "540\n",
      "5470\n",
      "5569\n",
      "561\n",
      "5642\n",
      "5663\n",
      "567\n",
      "568\n",
      "575\n",
      "6\n",
      "655\n",
      "668\n",
      "6707\n",
      "674\n",
      "693\n",
      "7\n",
      "718\n",
      "736\n",
      "738\n",
      "740\n",
      "741\n",
      "77\n",
      "78\n",
      "781\n",
      "784\n",
      "786\n",
      "79\n",
      "792\n",
      "8\n",
      "80\n",
      "806\n",
      "81\n",
      "82\n",
      "820\n",
      "824\n",
      "829\n",
      "831\n",
      "832\n",
      "836\n",
      "847\n",
      "850\n",
      "853\n",
      "857\n",
      "870\n",
      "871\n",
      "872\n",
      "873\n",
      "875\n",
      "88\n",
      "883\n",
      "884\n",
      "893\n",
      "898\n",
      "9\n",
      "900\n",
      "905\n",
      "907\n",
      "909\n",
      "910\n",
      "918\n",
      "921\n",
      "925\n",
      "929\n",
      "932\n",
      "957\n",
      "966\n",
      "9696\n",
      "97\n",
      "983\n",
      "989\n",
      "990\n",
      "acpi\n",
      "asound\n",
      "buddyinfo\n",
      "bus\n",
      "cgroups\n",
      "cmdline\n",
      "consoles\n",
      "cpuinfo\n",
      "crypto\n",
      "devices\n",
      "diskstats\n",
      "dma\n",
      "driver\n",
      "execdomains\n",
      "fb\n",
      "filesystems\n",
      "fs\n",
      "interrupts\n",
      "iomem\n",
      "ioports\n",
      "irq\n",
      "kallsyms\n",
      "kcore\n",
      "keys\n",
      "key-users\n",
      "kmsg\n",
      "kpagecgroup\n",
      "kpagecount\n",
      "kpageflags\n",
      "loadavg\n",
      "locks\n",
      "mdstat\n",
      "meminfo\n",
      "misc\n",
      "modules\n",
      "mounts\n",
      "mtrr\n",
      "net\n",
      "pagetypeinfo\n",
      "partitions\n",
      "sched_debug\n",
      "schedstat\n",
      "scsi\n",
      "self\n",
      "slabinfo\n",
      "softirqs\n",
      "stat\n",
      "swaps\n",
      "sys\n",
      "sysrq-trigger\n",
      "sysvipc\n",
      "thread-self\n",
      "timer_list\n",
      "tty\n",
      "uptime\n",
      "version\n",
      "version_signature\n",
      "vmallocinfo\n",
      "vmstat\n",
      "zoneinfo\n",
      "\n"
     ]
    }
   ],
   "source": [
    "inp,outp,errp = ssh.exec_command(\"echo %s| sudo -S ls /proc\"%pwd)\n",
    "print(outp.read().decode(\"utf-8\"))"
   ]
  },
  {
   "cell_type": "code",
   "execution_count": null,
   "metadata": {},
   "outputs": [],
   "source": []
  }
 ],
 "metadata": {
  "kernelspec": {
   "display_name": "Python 3",
   "language": "python",
   "name": "python3"
  },
  "language_info": {
   "codemirror_mode": {
    "name": "ipython",
    "version": 3
   },
   "file_extension": ".py",
   "mimetype": "text/x-python",
   "name": "python",
   "nbconvert_exporter": "python",
   "pygments_lexer": "ipython3",
   "version": "3.7.0"
  }
 },
 "nbformat": 4,
 "nbformat_minor": 2
}
