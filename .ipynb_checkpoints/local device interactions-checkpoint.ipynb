{
 "cells": [
  {
   "cell_type": "code",
   "execution_count": 1,
   "metadata": {},
   "outputs": [],
   "source": [
    "import os\n"
   ]
  },
  {
   "cell_type": "code",
   "execution_count": 2,
   "metadata": {},
   "outputs": [
    {
     "data": {
      "text/plain": [
       "0"
      ]
     },
     "execution_count": 2,
     "metadata": {},
     "output_type": "execute_result"
    }
   ],
   "source": [
    "os.system(\"mkdir folder1\")"
   ]
  },
  {
   "cell_type": "code",
   "execution_count": 3,
   "metadata": {},
   "outputs": [
    {
     "data": {
      "text/plain": [
       "0"
      ]
     },
     "execution_count": 3,
     "metadata": {},
     "output_type": "execute_result"
    }
   ],
   "source": [
    "os.system(\"rm -r folder1\")"
   ]
  },
  {
   "cell_type": "code",
   "execution_count": 4,
   "metadata": {},
   "outputs": [],
   "source": [
    "os.mkdir(\"folder1\")"
   ]
  },
  {
   "cell_type": "code",
   "execution_count": 5,
   "metadata": {},
   "outputs": [
    {
     "data": {
      "text/plain": [
       "0"
      ]
     },
     "execution_count": 5,
     "metadata": {},
     "output_type": "execute_result"
    }
   ],
   "source": [
    "os.system(\"rm -r folder1\")"
   ]
  },
  {
   "cell_type": "code",
   "execution_count": 6,
   "metadata": {},
   "outputs": [
    {
     "data": {
      "text/plain": [
       "256"
      ]
     },
     "execution_count": 6,
     "metadata": {},
     "output_type": "execute_result"
    }
   ],
   "source": [
    "os.system(\"rm -r folder1\")"
   ]
  },
  {
   "cell_type": "code",
   "execution_count": 7,
   "metadata": {},
   "outputs": [],
   "source": [
    "os.mkdir(\"folder1\")"
   ]
  },
  {
   "cell_type": "code",
   "execution_count": 8,
   "metadata": {},
   "outputs": [
    {
     "ename": "FileExistsError",
     "evalue": "[Errno 17] File exists: 'folder1'",
     "output_type": "error",
     "traceback": [
      "\u001b[0;31m---------------------------------------------------------------------------\u001b[0m",
      "\u001b[0;31mFileExistsError\u001b[0m                           Traceback (most recent call last)",
      "\u001b[0;32m<ipython-input-8-24008b160a9a>\u001b[0m in \u001b[0;36m<module>\u001b[0;34m()\u001b[0m\n\u001b[0;32m----> 1\u001b[0;31m \u001b[0mos\u001b[0m\u001b[0;34m.\u001b[0m\u001b[0mmkdir\u001b[0m\u001b[0;34m(\u001b[0m\u001b[0;34m\"folder1\"\u001b[0m\u001b[0;34m)\u001b[0m\u001b[0;34m\u001b[0m\u001b[0m\n\u001b[0m",
      "\u001b[0;31mFileExistsError\u001b[0m: [Errno 17] File exists: 'folder1'"
     ]
    }
   ],
   "source": [
    "os.mkdir(\"folder1\")"
   ]
  },
  {
   "cell_type": "code",
   "execution_count": 10,
   "metadata": {},
   "outputs": [],
   "source": [
    "os.removedirs(\"folder1\")"
   ]
  },
  {
   "cell_type": "code",
   "execution_count": 11,
   "metadata": {},
   "outputs": [
    {
     "data": {
      "text/plain": [
       "['main.py', 'app.py', 'file1.py', '__pycache__', 'app1']"
      ]
     },
     "execution_count": 11,
     "metadata": {},
     "output_type": "execute_result"
    }
   ],
   "source": [
    "os.listdir(\"modules\")"
   ]
  },
  {
   "cell_type": "code",
   "execution_count": 13,
   "metadata": {},
   "outputs": [
    {
     "name": "stdout",
     "output_type": "stream",
     "text": [
      "('modules', ['__pycache__', 'app1'], ['main.py', 'app.py', 'file1.py'])\n",
      "('modules/__pycache__', [], ['file1.cpython-37.pyc'])\n",
      "('modules/app1', ['__pycache__'], ['pur.py', 'sales.py'])\n",
      "('modules/app1/__pycache__', [], ['sales.cpython-37.pyc', 'pur.cpython-37.pyc'])\n"
     ]
    }
   ],
   "source": [
    "for file in os.walk(\"modules\"):\n",
    "    print(file)"
   ]
  },
  {
   "cell_type": "code",
   "execution_count": 1,
   "metadata": {},
   "outputs": [],
   "source": [
    "import os"
   ]
  },
  {
   "cell_type": "code",
   "execution_count": 2,
   "metadata": {},
   "outputs": [],
   "source": [
    "import sys"
   ]
  },
  {
   "cell_type": "code",
   "execution_count": 3,
   "metadata": {},
   "outputs": [
    {
     "data": {
      "text/plain": [
       "True"
      ]
     },
     "execution_count": 3,
     "metadata": {},
     "output_type": "execute_result"
    }
   ],
   "source": [
    "os.path.isdir(\"modules\")"
   ]
  },
  {
   "cell_type": "code",
   "execution_count": 4,
   "metadata": {},
   "outputs": [
    {
     "data": {
      "text/plain": [
       "False"
      ]
     },
     "execution_count": 4,
     "metadata": {},
     "output_type": "execute_result"
    }
   ],
   "source": [
    "os.path.isdir(\"oops1.py\")"
   ]
  },
  {
   "cell_type": "code",
   "execution_count": 5,
   "metadata": {},
   "outputs": [
    {
     "data": {
      "text/plain": [
       "True"
      ]
     },
     "execution_count": 5,
     "metadata": {},
     "output_type": "execute_result"
    }
   ],
   "source": [
    "os.path.isfile(\"oops1.py\")"
   ]
  },
  {
   "cell_type": "code",
   "execution_count": 6,
   "metadata": {},
   "outputs": [
    {
     "data": {
      "text/plain": [
       "0"
      ]
     },
     "execution_count": 6,
     "metadata": {},
     "output_type": "execute_result"
    }
   ],
   "source": [
    "os.system(\"ps -aux\")"
   ]
  },
  {
   "cell_type": "code",
   "execution_count": 7,
   "metadata": {},
   "outputs": [],
   "source": [
    "from subprocess import check_output\n"
   ]
  },
  {
   "cell_type": "code",
   "execution_count": 8,
   "metadata": {},
   "outputs": [
    {
     "data": {
      "text/plain": [
       "b'USER       PID %CPU %MEM    VSZ   RSS TTY      STAT START   TIME COMMAND\\nroot         1  0.0  0.1 225668  9900 ?        Ss   Jan21   0:32 /lib/systemd/systemd --system --deserialize 34\\nroot         2  0.0  0.0      0     0 ?        S    Jan21   0:00 [kthreadd]\\nroot         4  0.0  0.0      0     0 ?        I<   Jan21   0:00 [kworker/0:0H]\\nroot         6  0.0  0.0      0     0 ?        I<   Jan21   0:00 [mm_percpu_wq]\\nroot         7  0.0  0.0      0     0 ?        S    Jan21   0:07 [ksoftirqd/0]\\nroot         8  0.0  0.0      0     0 ?        I    Jan21   0:16 [rcu_sched]\\nroot         9  0.0  0.0      0     0 ?        I    Jan21   0:00 [rcu_bh]\\nroot        10  0.0  0.0      0     0 ?        S    Jan21   0:00 [migration/0]\\nroot        11  0.0  0.0      0     0 ?        S    Jan21   0:00 [watchdog/0]\\nroot        12  0.0  0.0      0     0 ?        S    Jan21   0:00 [cpuhp/0]\\nroot        13  0.0  0.0      0     0 ?        S    Jan21   0:00 [kdevtmpfs]\\nroot        14  0.0  0.0      0     0 ?        I<   Jan21   0:00 [netns]\\nroot        15  0.0  0.0      0     0 ?        S    Jan21   0:00 [rcu_tasks_kthre]\\nroot        16  0.0  0.0      0     0 ?        S    Jan21   0:00 [kauditd]\\nroot        17  0.0  0.0      0     0 ?        S    Jan21   0:00 [khungtaskd]\\nroot        18  0.0  0.0      0     0 ?        S    Jan21   0:00 [oom_reaper]\\nroot        19  0.0  0.0      0     0 ?        I<   Jan21   0:00 [writeback]\\nroot        20  0.0  0.0      0     0 ?        S    Jan21   0:00 [kcompactd0]\\nroot        21  0.0  0.0      0     0 ?        SN   Jan21   0:00 [ksmd]\\nroot        22  0.0  0.0      0     0 ?        SN   Jan21   0:00 [khugepaged]\\nroot        23  0.0  0.0      0     0 ?        I<   Jan21   0:00 [crypto]\\nroot        24  0.0  0.0      0     0 ?        I<   Jan21   0:00 [kintegrityd]\\nroot        25  0.0  0.0      0     0 ?        I<   Jan21   0:00 [kblockd]\\nroot        26  0.0  0.0      0     0 ?        I<   Jan21   0:00 [ata_sff]\\nroot        27  0.0  0.0      0     0 ?        I<   Jan21   0:00 [md]\\nroot        28  0.0  0.0      0     0 ?        I<   Jan21   0:00 [edac-poller]\\nroot        29  0.0  0.0      0     0 ?        I<   Jan21   0:00 [devfreq_wq]\\nroot        30  0.0  0.0      0     0 ?        I<   Jan21   0:00 [watchdogd]\\nroot        34  0.0  0.0      0     0 ?        S    Jan21   0:01 [kswapd0]\\nroot        35  0.0  0.0      0     0 ?        S    Jan21   0:00 [ecryptfs-kthrea]\\nroot        77  0.0  0.0      0     0 ?        I<   Jan21   0:00 [kthrotld]\\nroot        78  0.0  0.0      0     0 ?        I<   Jan21   0:00 [acpi_thermal_pm]\\nroot        79  0.0  0.0      0     0 ?        S    Jan21   0:00 [scsi_eh_0]\\nroot        80  0.0  0.0      0     0 ?        I<   Jan21   0:00 [scsi_tmf_0]\\nroot        81  0.0  0.0      0     0 ?        S    Jan21   0:00 [scsi_eh_1]\\nroot        82  0.0  0.0      0     0 ?        I<   Jan21   0:00 [scsi_tmf_1]\\nroot        88  0.0  0.0      0     0 ?        I<   Jan21   0:00 [ipv6_addrconf]\\nroot        97  0.0  0.0      0     0 ?        I<   Jan21   0:00 [kstrp]\\nroot       114  0.0  0.0      0     0 ?        I<   Jan21   0:00 [charger_manager]\\nroot       165  0.0  0.0      0     0 ?        I<   Jan21   0:03 [kworker/0:1H]\\nroot       166  0.0  0.0      0     0 ?        S    Jan21   0:00 [scsi_eh_2]\\nroot       167  0.0  0.0      0     0 ?        I<   Jan21   0:00 [scsi_tmf_2]\\nroot       188  0.0  0.0      0     0 ?        S    Jan21   0:04 [jbd2/sda1-8]\\nroot       189  0.0  0.0      0     0 ?        I<   Jan21   0:00 [ext4-rsv-conver]\\nroot       249  0.0  0.0      0     0 ?        S<   Jan21   0:00 [loop0]\\nroot       255  0.0  0.0      0     0 ?        S<   Jan21   0:00 [loop1]\\nroot       258  0.0  0.0      0     0 ?        S<   Jan21   0:00 [loop2]\\nroot       264  0.0  0.0      0     0 ?        S<   Jan21   0:00 [loop3]\\nroot       266  0.0  0.0      0     0 ?        S<   Jan21   0:00 [loop4]\\nroot       268  0.0  0.0      0     0 ?        S<   Jan21   0:00 [loop5]\\nroot       269  0.0  0.0      0     0 ?        S<   Jan21   0:00 [loop6]\\nroot       273  0.0  0.0      0     0 ?        S<   Jan21   0:00 [loop7]\\nroot       276  0.0  0.0      0     0 ?        S<   Jan21   0:00 [loop8]\\nroot       279  0.0  0.0      0     0 ?        S<   Jan21   0:00 [loop9]\\nroot       282  0.0  0.0      0     0 ?        S<   Jan21   0:00 [loop10]\\nroot       283  0.0  0.0      0     0 ?        S<   Jan21   0:00 [loop11]\\nroot       284  0.0  0.0      0     0 ?        S<   Jan21   0:00 [loop12]\\nroot       285  0.0  0.0      0     0 ?        S<   Jan21   0:00 [loop13]\\nroot       368  0.0  0.0      0     0 ?        I<   Jan21   0:00 [iprt-VBoxWQueue]\\nroot       378  0.0  0.0      0     0 ?        I<   Jan21   0:00 [ttm_swap]\\nroot       518  0.0  0.1 503280  9564 ?        Ssl  Jan21   0:00 /usr/lib/udisks2/udisksd\\nroot       521  0.0  0.1 427256  6416 ?        Ssl  Jan21   0:00 /usr/sbin/ModemManager\\nsyslog     523  0.0  0.0 263036  3928 ?        Ssl  Jan21   0:00 /usr/sbin/rsyslogd -n\\nroot       531  0.0  0.0   4552   868 ?        Ss   Jan21   0:05 /usr/sbin/acpid\\nroot       532  0.0  0.0  38428  3220 ?        Ss   Jan21   0:00 /usr/sbin/cron -f\\nroot       533  0.0  0.3 177612 17148 ?        Ssl  Jan21   0:00 /usr/bin/python3 /usr/bin/networkd-dispatcher --run-startup-triggers\\navahi      534  0.0  0.0  47256  3064 ?        Ss   Jan21   0:00 avahi-daemon: running [khyaathipython.local]\\nroot       537  0.0  0.1  70692  6092 ?        Ss   Jan21   0:01 /lib/systemd/systemd-logind\\nroot       539  0.0  0.1 294740  6824 ?        Ssl  Jan21   0:02 /usr/lib/accountsservice/accounts-daemon\\nmessage+   540  0.0  0.1  51968  6472 ?        Ss   Jan21   0:09 /usr/bin/dbus-daemon --system --address=systemd: --nofork --nopidfile --systemd-activation --syslog-only\\navahi      561  0.0  0.0  47076   344 ?        S    Jan21   0:00 avahi-daemon: chroot helper\\nroot       567  0.0  0.2 567880 15000 ?        Ssl  Jan21   0:04 /usr/sbin/NetworkManager --no-daemon\\nroot       568  0.0  0.0  44752  3992 ?        Ss   Jan21   0:00 /sbin/wpa_supplicant -u -s -O /run/wpa_supplicant\\nroot       575  0.0  0.4 669328 20464 ?        Ssl  Jan21   0:25 /usr/lib/snapd/snapd\\nkhyaath+   655  0.0  0.3  62184 19540 ?        Ss   Jan21   0:25 /home/khyaathipython/pgmanagement/bin/python /home/khyaathipython/pgmanagement/bin/gunicorn --access-logfile - --workers 3 --bind 0.0.0.0:9000 pgmanagement.wsgi:application\\nroot       668  0.0  0.1 308180  7524 ?        Ssl  Jan21   0:00 /usr/sbin/gdm3\\nroot       674  0.0  0.1 261552  8008 ?        Sl   Jan21   0:00 gdm-session-worker [pam/gdm-launch-environment]\\nroot       693  0.0  0.1 147064  6000 ?        Ss   Jan21   0:00 nginx: master process /usr/sbin/nginx -g daemon on; master_process on;\\nwhoopsie   718  0.0  0.2 464300 12720 ?        Ssl  Jan21   0:00 /usr/bin/whoopsie -f\\nkernoops   736  0.0  0.0  56936  2608 ?        Ss   Jan21   0:02 /usr/sbin/kerneloops --test\\nkernoops   738  0.0  0.0  56936   424 ?        Ss   Jan21   0:02 /usr/sbin/kerneloops\\ngdm        740  0.0  0.1  76864  7912 ?        Ss   Jan21   0:00 /lib/systemd/systemd --user\\ngdm        741  0.0  0.0 114076  2616 ?        S    Jan21   0:00 (sd-pam)\\ngdm        781  0.0  0.1 197796  5468 tty1     Ssl+ Jan21   0:00 /usr/lib/gdm3/gdm-wayland-session gnome-session --autostart /usr/share/gdm/greeter/autostart\\ngdm        784  0.0  0.0  50332  4700 ?        Ss   Jan21   0:00 /usr/bin/dbus-daemon --session --address=systemd: --nofork --nopidfile --systemd-activation --syslog-only\\ngdm        786  0.0  0.2 558928 13584 tty1     Sl+  Jan21   0:00 /usr/lib/gnome-session/gnome-session-binary --autostart /usr/share/gdm/greeter/autostart\\ngdm        792  0.0  3.5 2917028 178808 tty1   Sl+  Jan21   0:56 /usr/bin/gnome-shell\\nroot       806  0.0  0.1 322300  8264 ?        Ssl  Jan21   0:00 /usr/lib/upower/upowerd\\ngdm        820  0.0  0.6 202716 33204 tty1     S+   Jan21   0:00 /usr/bin/Xwayland :1024 -rootless -terminate -accessx -core -listen 4 -listen 5 -displayfd 6\\ngdm        824  0.0  0.1 349400  6288 ?        Ssl  Jan21   0:00 /usr/lib/at-spi2-core/at-spi-bus-launcher\\ngdm        829  0.0  0.0  49928  3732 ?        S    Jan21   0:00 /usr/bin/dbus-daemon --config-file=/usr/share/defaults/at-spi2/accessibility.conf --nofork --print-address 3\\ngdm        831  0.0  0.1 220760  5736 ?        Sl   Jan21   0:00 /usr/lib/at-spi2-core/at-spi2-registryd --use-gnome-session\\ngdm        832  0.0  0.1 1153424 9796 ?        Ssl  Jan21   0:00 /usr/bin/pulseaudio --daemonize=no\\nrtkit      836  0.0  0.0 183504  2956 ?        SNsl Jan21   0:01 /usr/lib/rtkit/rtkit-daemon\\ngdm        847  0.0  0.1 435092  7608 tty1     Sl   Jan21   0:00 ibus-daemon --xim --panel disable\\ngdm        850  0.0  0.1 280740  5788 tty1     Sl   Jan21   0:00 /usr/lib/ibus/ibus-dconf\\ngdm        853  0.0  0.9 471640 46140 tty1     Sl   Jan21   0:00 /usr/lib/ibus/ibus-x11 --kill-daemon\\ngdm        857  0.0  0.1 278688  5784 ?        Sl   Jan21   0:00 /usr/lib/ibus/ibus-portal\\ngdm        870  0.0  0.4 494564 21552 tty1     Sl+  Jan21   0:00 /usr/lib/gnome-settings-daemon/gsd-xsettings\\nroot       871  0.0  0.1 296772  7148 ?        Ssl  Jan21   0:00 /usr/lib/x86_64-linux-gnu/boltd\\nroot       872  0.0  2.2 522016 113928 ?       Ssl  Jan21   1:26 /usr/lib/packagekit/packagekitd\\ngdm        873  0.0  0.1 278152  5844 tty1     Sl+  Jan21   0:00 /usr/lib/gnome-settings-daemon/gsd-a11y-settings\\ngdm        875  0.0  0.3 343656 20008 tty1     Sl+  Jan21   0:00 /usr/lib/gnome-settings-daemon/gsd-clipboard\\ngdm        883  0.0  0.4 668176 22200 tty1     Sl+  Jan21   0:45 /usr/lib/gnome-settings-daemon/gsd-color\\ngdm        884  0.0  0.2 393704 13520 tty1     Sl+  Jan21   0:00 /usr/lib/gnome-settings-daemon/gsd-datetime\\ngdm        893  0.0  0.1 283736  5588 tty1     Sl+  Jan21   0:00 /usr/lib/gnome-settings-daemon/gsd-housekeeping\\ngdm        898  0.0  0.4 498044 20508 tty1     Sl+  Jan21   0:00 /usr/lib/gnome-settings-daemon/gsd-keyboard\\ngdm        900  0.0  0.4 1079724 22852 tty1    Sl+  Jan21   0:00 /usr/lib/gnome-settings-daemon/gsd-media-keys\\ngdm        905  0.0  0.0 201996  4448 tty1     Sl+  Jan21   0:00 /usr/lib/gnome-settings-daemon/gsd-mouse\\ngdm        907  0.0  0.4 517332 21896 tty1     Sl+  Jan21   0:00 /usr/lib/gnome-settings-daemon/gsd-power\\ngdm        909  0.0  0.1 267004  8540 tty1     Sl+  Jan21   0:00 /usr/lib/gnome-settings-daemon/gsd-print-notifications\\ngdm        910  0.0  0.0 202016  4500 tty1     Sl+  Jan21   0:00 /usr/lib/gnome-settings-daemon/gsd-rfkill\\ngdm        918  0.0  0.0 275732  4760 tty1     Sl+  Jan21   0:00 /usr/lib/gnome-settings-daemon/gsd-screensaver-proxy\\ngdm        921  0.0  0.1 305096  8300 tty1     Sl+  Jan21   0:00 /usr/lib/gnome-settings-daemon/gsd-sharing\\ngdm        925  0.0  0.1 451656  7028 tty1     Sl+  Jan21   0:00 /usr/lib/gnome-settings-daemon/gsd-smartcard\\ngdm        929  0.0  0.1 332852  7988 tty1     Sl+  Jan21   0:00 /usr/lib/gnome-settings-daemon/gsd-sound\\ngdm        932  0.0  0.4 428672 21396 tty1     Sl+  Jan21   0:00 /usr/lib/gnome-settings-daemon/gsd-wacom\\ncolord     957  0.0  0.2 325012 13604 ?        Ssl  Jan21   0:00 /usr/lib/colord/colord\\ngdm        966  0.0  0.1 204888  6584 tty1     Sl   Jan21   0:00 /usr/lib/ibus/ibus-engine-simple\\nroot       983  0.0  0.1 267744  7956 ?        Sl   Jan21   0:00 gdm-session-worker [pam/gdm-password]\\nkhyaath+   989  0.0  0.1  77068  8284 ?        Ss   Jan21   0:00 /lib/systemd/systemd --user\\nkhyaath+   990  0.0  0.0 114076  2620 ?        S    Jan21   0:00 (sd-pam)\\nkhyaath+  1003  0.0  0.1 288372  7056 ?        Sl   Jan21   0:00 /usr/bin/gnome-keyring-daemon --daemonize --login\\nkhyaath+  1007  0.0  0.1 212128  6048 tty2     Ssl+ Jan21   0:00 /usr/lib/gdm3/gdm-x-session --run-script env GNOME_SHELL_SESSION_MODE=ubuntu gnome-session --session=ubuntu\\nkhyaath+  1009  1.3  3.7 614716 187752 tty2    Sl+  Jan21  42:05 /usr/lib/xorg/Xorg vt2 -displayfd 3 -auth /run/user/1000/gdm/Xauthority -background none -noreset -keeptty -verbose 3\\nkhyaath+  1014  0.0  0.1  51392  5732 ?        Ss   Jan21   0:03 /usr/bin/dbus-daemon --session --address=systemd: --nofork --nopidfile --systemd-activation --syslog-only\\nkhyaath+  1018  0.0  0.2 715136 14420 tty2     Sl+  Jan21   0:00 /usr/lib/gnome-session/gnome-session-binary --session=ubuntu\\nkhyaath+  1112  0.0  0.0  11304   320 ?        Ss   Jan21   0:00 /usr/bin/ssh-agent /usr/bin/im-launch env GNOME_SHELL_SESSION_MODE=ubuntu gnome-session --session=ubuntu\\nkhyaath+  1114  0.0  0.1 349292  6448 ?        Ssl  Jan21   0:00 /usr/lib/at-spi2-core/at-spi-bus-launcher\\nkhyaath+  1119  0.0  0.0  50336  4452 ?        S    Jan21   0:11 /usr/bin/dbus-daemon --config-file=/usr/share/defaults/at-spi2/accessibility.conf --nofork --print-address 3\\nkhyaath+  1122  0.0  0.1 220776  6832 ?        Sl   Jan21   0:13 /usr/lib/at-spi2-core/at-spi2-registryd --use-gnome-session\\nkhyaath+  1140  8.2 12.1 3230280 618300 tty2   Rl+  Jan21 262:24 /usr/bin/gnome-shell\\nkhyaath+  1146  0.0  0.1 292064  7080 ?        Ssl  Jan21   0:00 /usr/lib/gvfs/gvfsd\\nkhyaath+  1151  0.0  0.1 416112  5208 ?        Sl   Jan21   0:00 /usr/lib/gvfs/gvfsd-fuse /run/user/1000/gvfs -f -o big_writes\\nkhyaath+  1162  0.0  0.2 1434400 10804 ?       Sl   Jan21   0:05 /usr/bin/pulseaudio --start --log-target=syslog\\nkhyaath+  1172  0.1  0.2 364420 11360 tty2     Rl   Jan21   4:07 ibus-daemon --xim --panel disable\\nkhyaath+  1176  0.0  0.1 280744  6652 tty2     Sl   Jan21   0:00 /usr/lib/ibus/ibus-dconf\\nkhyaath+  1178  0.0  0.4 354808 21416 tty2     Sl   Jan21   0:03 /usr/lib/ibus/ibus-x11 --kill-daemon\\nkhyaath+  1181  0.0  0.1 278688  5904 ?        Sl   Jan21   0:00 /usr/lib/ibus/ibus-portal\\nkhyaath+  1191  0.0  0.3 689616 19816 ?        Sl   Jan21   0:00 /usr/lib/gnome-shell/gnome-shell-calendar-server\\nkhyaath+  1197  0.0  0.5 978908 25436 ?        Ssl  Jan21   0:00 /usr/lib/evolution/evolution-source-registry\\nkhyaath+  1203  0.0  0.4 774272 21428 ?        Sl   Jan21   0:00 /usr/lib/gnome-online-accounts/goa-daemon\\nkhyaath+  1211  0.0  0.1 306436  8372 ?        Ssl  Jan21   0:00 /usr/lib/gvfs/gvfs-udisks2-volume-monitor\\nkhyaath+  1215  0.0  0.1 274044  5860 ?        Ssl  Jan21   0:00 /usr/lib/gvfs/gvfs-goa-volume-monitor\\nkhyaath+  1224  0.0  0.1 303356  7164 ?        Sl   Jan21   0:03 /usr/lib/gnome-online-accounts/goa-identity-service\\nkhyaath+  1226  0.0  0.1 288656  6460 ?        Ssl  Jan21   0:00 /usr/lib/gvfs/gvfs-gphoto2-volume-monitor\\nkhyaath+  1233  0.0  0.1 378812  7532 ?        Ssl  Jan21   0:00 /usr/lib/gvfs/gvfs-afc-volume-monitor\\nkhyaath+  1238  0.0  0.1 275868  5896 ?        Ssl  Jan21   0:00 /usr/lib/gvfs/gvfs-mtp-volume-monitor\\nkhyaath+  1242  0.0  0.4 519580 22468 tty2     Sl+  Jan21   0:04 /usr/lib/gnome-settings-daemon/gsd-power\\nkhyaath+  1243  0.0  0.2 349312 10208 tty2     Sl+  Jan21   0:00 /usr/lib/gnome-settings-daemon/gsd-print-notifications\\nkhyaath+  1246  0.0  0.1 423344  5800 tty2     Sl+  Jan21   0:00 /usr/lib/gnome-settings-daemon/gsd-rfkill\\nkhyaath+  1248  0.0  0.0 275732  4716 tty2     Sl+  Jan21   0:00 /usr/lib/gnome-settings-daemon/gsd-screensaver-proxy\\nkhyaath+  1250  0.0  0.1 452824  9156 tty2     Sl+  Jan21   0:00 /usr/lib/gnome-settings-daemon/gsd-sharing\\nkhyaath+  1256  0.0  0.4 505036 22460 tty2     Sl+  Jan21   0:05 /usr/lib/gnome-settings-daemon/gsd-xsettings\\nkhyaath+  1259  0.0  0.1 332848  7804 tty2     Sl+  Jan21   0:00 /usr/lib/gnome-settings-daemon/gsd-sound\\nkhyaath+  1263  0.0  0.4 438944 21088 tty2     Sl+  Jan21   0:04 /usr/lib/gnome-settings-daemon/gsd-wacom\\nkhyaath+  1265  0.0  0.1 377924  5856 tty2     Sl+  Jan21   0:00 /usr/lib/gnome-settings-daemon/gsd-smartcard\\nkhyaath+  1281  0.0  0.4 354100 20672 tty2     Sl+  Jan21   0:03 /usr/lib/gnome-settings-daemon/gsd-clipboard\\nkhyaath+  1283  0.0  0.1 278152  6020 tty2     Sl+  Jan21   0:00 /usr/lib/gnome-settings-daemon/gsd-a11y-settings\\nkhyaath+  1284  0.0  0.2 469728 13560 tty2     Sl+  Jan21   0:00 /usr/lib/gnome-settings-daemon/gsd-datetime\\nkhyaath+  1286  0.0  0.4 752932 23716 tty2     Sl+  Jan21   1:01 /usr/lib/gnome-settings-daemon/gsd-color\\nkhyaath+  1287  0.0  0.4 508912 21480 tty2     Sl+  Jan21   0:04 /usr/lib/gnome-settings-daemon/gsd-keyboard\\nkhyaath+  1289  0.0  0.1 364576  7084 tty2     Sl+  Jan21   0:04 /usr/lib/gnome-settings-daemon/gsd-housekeeping\\nkhyaath+  1291  0.0  0.1 278152  5764 tty2     Sl+  Jan21   0:00 /usr/lib/gnome-settings-daemon/gsd-mouse\\nkhyaath+  1294  0.0  0.4 794932 23164 tty2     Sl+  Jan21   0:04 /usr/lib/gnome-settings-daemon/gsd-media-keys\\nkhyaath+  1313  0.0  0.2 508752 12844 tty2     Sl+  Jan21   0:00 /usr/lib/gnome-settings-daemon/gsd-printer\\nkhyaath+  1341  0.0  4.8 1175648 245844 tty2   SLl+ Jan21   1:50 /usr/bin/gnome-software --gapplication-service\\nkhyaath+  1342  0.0  1.1 807580 57224 tty2     Sl+  Jan21   0:32 nautilus-desktop\\nkhyaath+  1343  0.0  0.1 271932  5824 tty2     Sl+  Jan21   0:00 /usr/lib/gnome-disk-utility/gsd-disk-utility-notify\\nkhyaath+  1360  0.0  0.1 368220  7320 ?        Sl   Jan21   0:00 /usr/lib/gvfs/gvfsd-trash --spawner :1.13 /org/gtk/gvfs/exec_spaw/0\\nkhyaath+  1375  0.0  1.2 891508 62780 ?        Ssl  Jan21   0:00 /usr/lib/evolution/evolution-calendar-factory\\nkhyaath+  1384  0.0  0.1 188016  5224 ?        Sl   Jan21   0:00 /usr/lib/dconf/dconf-service\\nkhyaath+  1385  0.0  0.1 205024  6904 tty2     Sl   Jan21   0:47 /usr/lib/ibus/ibus-engine-simple\\nkhyaath+  1394  0.0  1.1 939388 59112 ?        Sl   Jan21   0:00 /usr/lib/evolution/evolution-calendar-factory-subprocess --factory all --bus-name org.gnome.evolution.dataserver.Subprocess.Backend.Calendarx1375x2 --own-path /org/gnome/evolution/dataserver/Subprocess/Backend/Calendar/1375/2\\nkhyaath+  1410  0.0  0.4 732664 20436 ?        Ssl  Jan21   0:00 /usr/lib/evolution/evolution-addressbook-factory\\nkhyaath+  1419  0.0  0.4 886096 22296 ?        Sl   Jan21   0:00 /usr/lib/evolution/evolution-addressbook-factory-subprocess --factory all --bus-name org.gnome.evolution.dataserver.Subprocess.Backend.AddressBookx1410x2 --own-path /org/gnome/evolution/dataserver/Subprocess/Backend/AddressBook/1410/2\\nroot      1438  0.0  0.3 560388 20248 ?        Ssl  Jan21   0:05 /usr/lib/fwupd/fwupd\\nwww-data  1814  0.0  0.1 149736  5496 ?        S    Jan21   0:00 nginx: worker process\\nkhyaath+  1816  0.0  0.5 669368 27576 tty2     Sl+  Jan21   0:08 update-notifier\\nkhyaath+  1872  0.0  0.1 204516  6012 ?        Ssl  Jan21   0:00 /usr/lib/gvfs/gvfsd-metadata\\nkhyaath+  1875  0.0  0.4 861492 22108 tty2     Sl+  Jan21   0:00 /usr/lib/deja-dup/deja-dup-monitor\\nkhyaath+  1887  0.0  0.1 433620  9060 ?        Ssl  Jan21   0:00 /usr/bin/zeitgeist-daemon\\nkhyaath+  1893  0.0  0.2 326676 14080 ?        Ssl  Jan21   0:00 /usr/lib/zeitgeist/zeitgeist/zeitgeist-fts\\nsystemd+  3388  0.0  0.1  70748  6368 ?        Ss   Jan22   0:01 /lib/systemd/systemd-resolved\\nsystemd+  3392  0.0  0.0 143976  3268 ?        Ssl  Jan22   0:00 /lib/systemd/systemd-timesyncd\\nroot      3395  0.0  0.3 111436 18092 ?        S<s  Jan22   0:00 /lib/systemd/systemd-journald\\nkhyaath+  5470  0.0  0.1  79932  5808 ?        S    Jan21   0:00 /usr/lib/x86_64-linux-gnu/gconf/gconfd-2\\nkhyaath+  5569  0.0  0.1 433364 10012 ?        Sl   Jan21   0:00 /usr/lib/gvfs/gvfsd-http --spawner :1.13 /org/gtk/gvfs/exec_spaw/1\\nkhyaath+  5642  0.0  0.1 444116  7344 ?        Sl   Jan21   0:00 /usr/lib/gvfs/gvfsd-network --spawner :1.13 /org/gtk/gvfs/exec_spaw/3\\nkhyaath+  5663  0.0  0.1 455020  7396 ?        Sl   Jan21   0:00 /usr/lib/gvfs/gvfsd-dnssd --spawner :1.13 /org/gtk/gvfs/exec_spaw/6\\nkhyaath+  6707  0.0  1.0 254272 52836 tty2     S+   Jan22   0:00 /usr/bin/perl -w /usr/bin/debconf-communicate\\nroot      9696  0.0  0.1 303356 10084 ?        Ssl  Jan22   0:00 /usr/lib/policykit-1/polkitd --no-debug\\nkhyaath+ 11752  0.0  0.8 640460 45212 ?        Ssl  01:32   0:02 /home/khyaathipython/anaconda3/bin/python -m ipykernel_launcher -f /run/user/1000/jupyter/kernel-74c59f40-d20e-4d47-88b1-64fc90d7e95e.json\\nkhyaath+ 13145  0.0  0.1  82724  6544 ?        Ss   Jan21   0:00 /usr/lib/bluetooth/obexd\\nroot     13247  0.0  0.0      0     0 ?        I    03:43   0:04 [kworker/0:2]\\nroot     16042  0.0  0.0      0     0 ?        I    06:43   0:00 [kworker/0:1]\\nroot     16052  0.0  0.1  25656  6344 ?        S    06:43   0:00 /sbin/dhclient -d -q -sf /usr/lib/NetworkManager/nm-dhcp-helper -pf /run/dhclient-enp0s3.pid -lf /var/lib/NetworkManager/dhclient-2b11a3ca-ca14-376e-b6c9-ee3156761222-enp0s3.lease -cf /var/lib/NetworkManager/dhclient-enp0s3.conf enp0s3\\nkhyaath+ 16074  0.0  1.0 993024 52064 ?        Sl   06:44   0:02 /usr/bin/nautilus --gapplication-service\\nkhyaath+ 16089  0.1  2.4 1011036 125568 ?      Sl   06:44   0:12 evince /home/khyaathipython/ALL PYTHON/Python_Documentation.pdf\\nkhyaath+ 16095  0.0  0.0 187736  4304 ?        Ssl  06:44   0:00 /usr/lib/evince/evinced\\nkhyaath+ 16205  0.0  0.7 126700 36596 ?        S    07:00   0:00 /home/khyaathipython/pgmanagement/bin/python /home/khyaathipython/pgmanagement/bin/gunicorn --access-logfile - --workers 3 --bind 0.0.0.0:9000 pgmanagement.wsgi:application\\nkhyaath+ 16206  0.0  0.7 126704 36600 ?        S    07:00   0:00 /home/khyaathipython/pgmanagement/bin/python /home/khyaathipython/pgmanagement/bin/gunicorn --access-logfile - --workers 3 --bind 0.0.0.0:9000 pgmanagement.wsgi:application\\nkhyaath+ 16207  0.0  0.7 126700 36600 ?        S    07:00   0:00 /home/khyaathipython/pgmanagement/bin/python /home/khyaathipython/pgmanagement/bin/gunicorn --access-logfile - --workers 3 --bind 0.0.0.0:9000 pgmanagement.wsgi:application\\nroot     19217  0.0  0.1 107680  8304 ?        Ss   07:05   0:00 /usr/sbin/cupsd -l\\nroot     19219  0.0  0.2 303652 10980 ?        Ssl  07:05   0:00 /usr/sbin/cups-browsed\\nkhyaath+ 19315  1.4  6.9 2231612 349988 tty2   Sl+  07:21   1:33 /usr/lib/firefox/firefox -new-window\\nkhyaath+ 19355  0.4  3.5 1716088 178820 tty2   Sl+  07:21   0:26 /usr/lib/firefox/firefox -contentproc -childID 1 -isForBrowser -prefsLen 1 -prefMapSize 169984 -schedulerPrefs 0001,2 -parentBuildID 20181207224003 -greomni /usr/lib/firefox/omni.ja -appomni /usr/lib/firefox/browser/omni.ja -appdir /usr/lib/firefox/browser 19315 true tab\\nkhyaath+ 19390  0.1  2.2 1521616 112492 tty2   Sl+  07:21   0:07 /usr/lib/firefox/firefox -contentproc -childID 2 -isForBrowser -prefsLen 5067 -prefMapSize 169984 -schedulerPrefs 0001,2 -parentBuildID 20181207224003 -greomni /usr/lib/firefox/omni.ja -appomni /usr/lib/firefox/browser/omni.ja -appdir /usr/lib/firefox/browser 19315 true tab\\nkhyaath+ 19420  0.1  2.8 1598840 142360 tty2   Sl+  07:21   0:08 /usr/lib/firefox/firefox -contentproc -childID 3 -isForBrowser -prefsLen 5807 -prefMapSize 169984 -schedulerPrefs 0001,2 -parentBuildID 20181207224003 -greomni /usr/lib/firefox/omni.ja -appomni /usr/lib/firefox/browser/omni.ja -appdir /usr/lib/firefox/browser 19315 true tab\\nkhyaath+ 19559  1.2  5.1 1844580 260500 tty2   Rl+  07:28   1:14 /usr/lib/firefox/firefox -contentproc -childID 4 -isForBrowser -prefsLen 6806 -prefMapSize 169984 -schedulerPrefs 0001,2 -parentBuildID 20181207224003 -greomni /usr/lib/firefox/omni.ja -appomni /usr/lib/firefox/browser/omni.ja -appdir /usr/lib/firefox/browser 19315 true tab\\nroot     19836  0.0  0.0      0     0 ?        I    08:20   0:00 [kworker/u2:0]\\nkhyaath+ 19879  0.0  0.7 800636 37536 ?        Ssl  08:26   0:01 /usr/lib/gnome-terminal/gnome-terminal-server\\nkhyaath+ 19889  0.0  0.1  29948  5504 pts/5    Ss   08:26   0:00 bash\\nkhyaath+ 19908  0.2  1.7 387148 90280 pts/5    Sl+  08:26   0:07 /home/khyaathipython/anaconda3/bin/python /home/khyaathipython/anaconda3/bin/ipython notebook\\nkhyaath+ 20019  0.3  3.4 1606616 172556 tty2   Sl+  08:26   0:07 /usr/lib/firefox/firefox -contentproc -childID 5 -isForBrowser -prefsLen 6806 -prefMapSize 169984 -schedulerPrefs 0001,2 -parentBuildID 20181207224003 -greomni /usr/lib/firefox/omni.ja -appomni /usr/lib/firefox/browser/omni.ja -appdir /usr/lib/firefox/browser 19315 true tab\\nkhyaath+ 20043  0.0  1.7 893720 90472 ?        Ssl  08:26   0:01 /home/khyaathipython/anaconda3/bin/python -m ipykernel_launcher -f /run/user/1000/jupyter/kernel-40cb4d48-95c0-47ec-89d5-b571a6dd2863.json\\nkhyaath+ 20183  2.2  3.3 890956 171444 tty2    Sl+  08:41   0:34 /usr/bin/mono /usr/lib/pinta/Pinta.exe\\nroot     20341  0.0  0.0      0     0 ?        I    08:59   0:00 [kworker/u2:2]\\nkhyaath+ 20342  0.2  0.8 639552 44576 ?        Ssl  09:00   0:00 /home/khyaathipython/anaconda3/bin/python -m ipykernel_launcher -f /run/user/1000/jupyter/kernel-05ec0c8a-a47b-4132-93c8-d3c9255afdbc.json\\nkhyaath+ 20365  0.0  0.1  29816  5248 pts/6    Ss+  09:01   0:00 bash\\nkhyaath+ 20410  0.0  0.0  46772  3596 ?        R    09:06   0:00 ps -aux\\nkhyaath+ 20879  0.0  1.5 1052440 80016 ?       Ssl  Jan22   0:03 /home/khyaathipython/anaconda3/bin/python -m ipykernel_launcher -f /run/user/1000/jupyter/kernel-17566b8a-4163-4cb5-9ca4-0c8fbf2ddebb.json\\npostgres 22229  0.0  0.5 326664 26992 ?        S    Jan21   0:02 /usr/lib/postgresql/10/bin/postgres -D /var/lib/postgresql/10/main -c config_file=/etc/postgresql/10/main/postgresql.conf\\npostgres 22231  0.0  0.1 326812  9320 ?        Ss   Jan21   0:00 postgres: 10/main: checkpointer process   \\npostgres 22232  0.0  0.1 326664  6492 ?        Ss   Jan21   0:01 postgres: 10/main: writer process   \\npostgres 22233  0.0  0.1 326664  9132 ?        Ss   Jan21   0:01 postgres: 10/main: wal writer process   \\npostgres 22234  0.0  0.1 327076  7264 ?        Ss   Jan21   0:01 postgres: 10/main: autovacuum launcher process   \\npostgres 22235  0.0  0.0 181684  4864 ?        Ss   Jan21   0:01 postgres: 10/main: stats collector process   \\npostgres 22236  0.0  0.0 326956  5028 ?        Ss   Jan21   0:00 postgres: 10/main: bgworker: logical replication launcher   \\nkhyaath+ 22770  0.0  1.7 969868 90112 ?        Ssl  Jan21   0:07 /home/khyaathipython/anaconda3/bin/python -m ipykernel_launcher -f /run/user/1000/jupyter/kernel-71706142-24fb-41a0-94ec-d0e874957576.json\\nroot     26033  0.0  0.0      0     0 ?        S<   Jan21   0:00 [loop14]\\nkhyaath+ 26357  0.0  0.8 639804 44736 ?        Ssl  Jan21   0:06 /home/khyaathipython/anaconda3/bin/python -m ipykernel_launcher -f /run/user/1000/jupyter/kernel-c67bf80b-dcc7-4478-ae26-24f20e8cf50d.json\\nroot     26889  0.0  0.0  34236  4320 ?        Ss   Jan22   0:00 /lib/systemd/systemd-udevd\\nkhyaath+ 31584  0.0  0.8 640348 44880 ?        Ssl  Jan22   0:06 /home/khyaathipython/anaconda3/bin/python -m ipykernel_launcher -f /run/user/1000/jupyter/kernel-f834f993-2d05-4b55-9225-8e102b56cdb4.json\\n'"
      ]
     },
     "execution_count": 8,
     "metadata": {},
     "output_type": "execute_result"
    }
   ],
   "source": [
    "check_output([\"ps\",\"-aux\"])"
   ]
  },
  {
   "cell_type": "code",
   "execution_count": 9,
   "metadata": {},
   "outputs": [],
   "source": [
    "processes = check_output([\"ps\",\"-aux\"])"
   ]
  },
  {
   "cell_type": "code",
   "execution_count": 12,
   "metadata": {},
   "outputs": [
    {
     "name": "stdout",
     "output_type": "stream",
     "text": [
      "b'khyaath+ 20183  2.2  3.5 904304 178396 tty2    Sl+  08:41   0:37 /usr/bin/mono /usr/lib/pinta/Pinta.exe'\n"
     ]
    }
   ],
   "source": [
    "processes = check_output([\"ps\",\"-aux\"])\n",
    "for process in processes.splitlines():\n",
    "    if b\"pinta\" in process:\n",
    "        print(process)"
   ]
  },
  {
   "cell_type": "code",
   "execution_count": 13,
   "metadata": {},
   "outputs": [
    {
     "name": "stdout",
     "output_type": "stream",
     "text": [
      "[b'khyaath+', b'20183', b'2.2', b'3.5', b'904304', b'178396', b'tty2', b'Sl+', b'08:41', b'0:37', b'/usr/bin/mono', b'/usr/lib/pinta/Pinta.exe']\n"
     ]
    }
   ],
   "source": [
    "processes = check_output([\"ps\",\"-aux\"])\n",
    "for process in processes.splitlines():\n",
    "    if b\"pinta\" in process:\n",
    "        print(process.split())"
   ]
  },
  {
   "cell_type": "code",
   "execution_count": 14,
   "metadata": {},
   "outputs": [
    {
     "name": "stdout",
     "output_type": "stream",
     "text": [
      "enter processs name:pinta\n",
      "b'20183'\n"
     ]
    }
   ],
   "source": [
    "processes = check_output([\"ps\",\"-aux\"])\n",
    "proc=input(\"enter processs name:\")\n",
    "for process in processes.splitlines():\n",
    "    if proc in str(process):\n",
    "        print(process.split()[1])"
   ]
  },
  {
   "cell_type": "code",
   "execution_count": 15,
   "metadata": {},
   "outputs": [
    {
     "name": "stdout",
     "output_type": "stream",
     "text": [
      "enter processs name:firefox\n",
      "b'19315'\n",
      "b'19355'\n",
      "b'19390'\n",
      "b'19420'\n",
      "b'19559'\n",
      "b'20019'\n"
     ]
    }
   ],
   "source": [
    "processes = check_output([\"ps\",\"-aux\"])\n",
    "proc=input(\"enter processs name:\")\n",
    "for process in processes.splitlines():\n",
    "    if proc in str(process):\n",
    "        print(process.split()[1])"
   ]
  },
  {
   "cell_type": "code",
   "execution_count": 20,
   "metadata": {},
   "outputs": [
    {
     "name": "stdout",
     "output_type": "stream",
     "text": [
      "enter processs name:pinta\n",
      "killing proecc: b'20183'\n"
     ]
    }
   ],
   "source": [
    "processes = check_output([\"ps\",\"-aux\"])\n",
    "proc=input(\"enter processs name:\")\n",
    "for process in processes.splitlines():\n",
    "    if proc in str(process):\n",
    "        p_id = process.split()[1]\n",
    "        print(\"killing proecc: %s\"%p_id)\n",
    "        os.kill(int(p_id),9)"
   ]
  },
  {
   "cell_type": "code",
   "execution_count": 18,
   "metadata": {},
   "outputs": [],
   "source": [
    "#smart plug"
   ]
  },
  {
   "cell_type": "code",
   "execution_count": null,
   "metadata": {},
   "outputs": [],
   "source": []
  }
 ],
 "metadata": {
  "kernelspec": {
   "display_name": "Python 3",
   "language": "python",
   "name": "python3"
  },
  "language_info": {
   "codemirror_mode": {
    "name": "ipython",
    "version": 3
   },
   "file_extension": ".py",
   "mimetype": "text/x-python",
   "name": "python",
   "nbconvert_exporter": "python",
   "pygments_lexer": "ipython3",
   "version": "3.7.0"
  }
 },
 "nbformat": 4,
 "nbformat_minor": 2
}
