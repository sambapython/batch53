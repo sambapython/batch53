{
 "cells": [
  {
   "cell_type": "code",
   "execution_count": 3,
   "metadata": {},
   "outputs": [
    {
     "name": "stdout",
     "output_type": "stream",
     "text": [
      "i\n"
     ]
    }
   ],
   "source": [
    "s=\"\"\"id,name,phone,email\n",
    "1,Jayaram,9676622023,Jay123@gmail.com\n",
    "2,Sai,9676622024,Sailakshmi23@yahoo.co.in\n",
    "3,Vedha,9676622025,Vedhanvesh@gmail.com\"\"\"\n",
    "for i in s:\n",
    "    print(i)\n",
    "    break"
   ]
  },
  {
   "cell_type": "code",
   "execution_count": 4,
   "metadata": {},
   "outputs": [
    {
     "name": "stdout",
     "output_type": "stream",
     "text": [
      "id,name,phone,email\n"
     ]
    }
   ],
   "source": [
    "s=\"\"\"id,name,phone,email\n",
    "1,Jayaram,9676622023,Jay123@gmail.com\n",
    "2,Sai,9676622024,Sailakshmi23@yahoo.co.in\n",
    "3,Vedha,9676622025,Vedhanvesh@gmail.com\"\"\"\n",
    "for i in s.splitlines():\n",
    "    print(i)\n",
    "    break"
   ]
  },
  {
   "cell_type": "code",
   "execution_count": 5,
   "metadata": {},
   "outputs": [
    {
     "name": "stdout",
     "output_type": "stream",
     "text": [
      "['id', 'name', 'phone', 'email']\n"
     ]
    }
   ],
   "source": [
    "s=\"\"\"id,name,phone,email\n",
    "1,Jayaram,9676622023,Jay123@gmail.com\n",
    "2,Sai,9676622024,Sailakshmi23@yahoo.co.in\n",
    "3,Vedha,9676622025,Vedhanvesh@gmail.com\"\"\"\n",
    "for i in s.splitlines():\n",
    "    print(i.split(\",\"))\n",
    "    break"
   ]
  },
  {
   "cell_type": "code",
   "execution_count": 6,
   "metadata": {},
   "outputs": [
    {
     "name": "stdout",
     "output_type": "stream",
     "text": [
      "phone\n"
     ]
    }
   ],
   "source": [
    "s=\"\"\"id,name,phone,email\n",
    "1,Jayaram,9676622023,Jay123@gmail.com\n",
    "2,Sai,9676622024,Sailakshmi23@yahoo.co.in\n",
    "3,Vedha,9676622025,Vedhanvesh@gmail.com\"\"\"\n",
    "for i in s.splitlines():\n",
    "    print(i.split(\",\")[-2])\n",
    "    break"
   ]
  },
  {
   "cell_type": "code",
   "execution_count": 7,
   "metadata": {},
   "outputs": [
    {
     "name": "stdout",
     "output_type": "stream",
     "text": [
      "phone\n",
      "9676622023\n",
      "9676622024\n",
      "9676622025\n"
     ]
    }
   ],
   "source": [
    "s=\"\"\"id,name,phone,email\n",
    "1,Jayaram,9676622023,Jay123@gmail.com\n",
    "2,Sai,9676622024,Sailakshmi23@yahoo.co.in\n",
    "3,Vedha,9676622025,Vedhanvesh@gmail.com\"\"\"\n",
    "for i in s.splitlines():\n",
    "    print(i.split(\",\")[2])"
   ]
  },
  {
   "cell_type": "code",
   "execution_count": 8,
   "metadata": {},
   "outputs": [
    {
     "name": "stdout",
     "output_type": "stream",
     "text": [
      "email\n",
      "Jay123@gmail.com\n",
      "Sailakshmi23@yahoo.co.in\n",
      "Vedhanvesh@gmail.com\n"
     ]
    }
   ],
   "source": [
    "s=\"\"\"id,name,phone,email\n",
    "1,Jayaram,9676622023,Jay123@gmail.com\n",
    "2,Sai,9676622024,Sailakshmi23@yahoo.co.in\n",
    "3,Vedha,9676622025,Vedhanvesh@gmail.com\"\"\"\n",
    "for i in s.splitlines():\n",
    "    print(i.split(\",\")[-1])"
   ]
  },
  {
   "cell_type": "code",
   "execution_count": 9,
   "metadata": {},
   "outputs": [
    {
     "name": "stdout",
     "output_type": "stream",
     "text": [
      "name\n",
      "Jayaram\n",
      "Sai\n",
      "Vedha\n"
     ]
    }
   ],
   "source": [
    "s=\"\"\"id,name,phone,email\n",
    "1,Jayaram,9676622023,Jay123@gmail.com\n",
    "2,Sai,9676622024,Sailakshmi23@yahoo.co.in\n",
    "3,Vedha,9676622025,Vedhanvesh@gmail.com\"\"\"\n",
    "for i in s.splitlines():\n",
    "    print(i.split(\",\")[1])"
   ]
  },
  {
   "cell_type": "code",
   "execution_count": 10,
   "metadata": {},
   "outputs": [
    {
     "name": "stdout",
     "output_type": "stream",
     "text": [
      "Jayaram\n",
      "2\n",
      "3\n",
      "4\n"
     ]
    }
   ],
   "source": [
    "s=\"\"\"1,Jayaram,9676622023,Jay123@gmail.com\n",
    "Sai,2,9676622024,Sailakshmi23@yahoo.co.in\n",
    "9676622025,3,Vedha,Vedhanvesh@gmail.com\n",
    "sambapython@rediff.com,4,samba,9676622026\"\"\"\n",
    "for i in s.splitlines():\n",
    "    print(i.split(\",\")[1])"
   ]
  },
  {
   "cell_type": "code",
   "execution_count": 11,
   "metadata": {},
   "outputs": [
    {
     "data": {
      "text/plain": [
       "['9676622023', '9676622024', '9676622025', '9676622026']"
      ]
     },
     "execution_count": 11,
     "metadata": {},
     "output_type": "execute_result"
    }
   ],
   "source": [
    "s=\"\"\"1,Jayaram,9676622023,Jay123@gmail.com\n",
    "Sai,2,9676622024,Sailakshmi23@yahoo.co.in\n",
    "9676622025,3,Vedha,Vedhanvesh@gmail.com\n",
    "sambapython@rediff.com,4,samba,9676622026\"\"\"\n",
    "import re\n",
    "re.findall(\"[0-9]{10}\",s)"
   ]
  },
  {
   "cell_type": "code",
   "execution_count": 14,
   "metadata": {},
   "outputs": [
    {
     "name": "stdout",
     "output_type": "stream",
     "text": [
      "['a', 'a', 'a', 'a', 'a', 'c', 'a', 'a', 'a', 'c', 'a', 'a', 'a', 'c', 'a', 'b', 'a', 'c', 'b']\n"
     ]
    }
   ],
   "source": [
    "s=\"\"\"1,Jayaram,9676622023,Jay123@gmail.com\n",
    "SAi,2,9676622024,Sailakshmi23@yahoo.co.in\n",
    "9676622025,3,Vedha,Vedhanvesh@gmail.com\n",
    "sambapython@rediff.com,4,sAmbB,9676622026\"\"\"\n",
    "import re\n",
    "print(re.findall(\"[abc]\",s))"
   ]
  },
  {
   "cell_type": "code",
   "execution_count": 15,
   "metadata": {},
   "outputs": [
    {
     "name": "stdout",
     "output_type": "stream",
     "text": [
      "['a', 'a', 'a', 'a', 'a', 'c', 'A', 'a', 'a', 'a', 'c', 'a', 'a', 'a', 'c', 'a', 'b', 'a', 'c', 'A', 'b', 'B']\n"
     ]
    }
   ],
   "source": [
    "s=\"\"\"1,Jayaram,9676622023,Jay123@gmail.com\n",
    "SAi,2,9676622024,Sailakshmi23@yahoo.co.in\n",
    "9676622025,3,Vedha,Vedhanvesh@gmail.com\n",
    "sambapython@rediff.com,4,sAmbB,9676622026\"\"\"\n",
    "import re\n",
    "print(re.findall(\"[abcABC]\",s))"
   ]
  },
  {
   "cell_type": "code",
   "execution_count": 16,
   "metadata": {},
   "outputs": [
    {
     "name": "stdout",
     "output_type": "stream",
     "text": [
      "['a', 'a', 'a', 'a', 'a', 'c', 'A', 'a', 'a', 'a', 'c', 'a', 'a', 'a', 'c', 'a', 'b', 'a', 'c', 'A', 'b', 'B']\n"
     ]
    }
   ],
   "source": [
    "s=\"\"\"1,Jayaram,9676622023,Jay123@gmail.com\n",
    "SAi,2,9676622024,Sailakshmi23@yahoo.co.in\n",
    "9676622025,3,Vedha,Vedhanvesh@gmail.com\n",
    "sambapython@rediff.com,4,sAmbB,9676622026\"\"\"\n",
    "import re\n",
    "print(re.findall(\"[abc]\",s,re.I))"
   ]
  },
  {
   "cell_type": "code",
   "execution_count": 17,
   "metadata": {},
   "outputs": [
    {
     "name": "stdout",
     "output_type": "stream",
     "text": [
      "['J', 'a', 'y', 'a', 'r', 'a', 'm', 'J', 'a', 'y', 'g', 'm', 'a', 'i', 'l', 'c', 'o', 'm', 'S', 'A', 'i', 'S', 'a', 'i', 'l', 'a', 'k', 's', 'h', 'm', 'i', 'y', 'a', 'h', 'o', 'o', 'c', 'o', 'i', 'n', 'V', 'e', 'd', 'h', 'a', 'V', 'e', 'd', 'h', 'a', 'n', 'v', 'e', 's', 'h', 'g', 'm', 'a', 'i', 'l', 'c', 'o', 'm', 's', 'a', 'm', 'b', 'a', 'p', 'y', 't', 'h', 'o', 'n', 'r', 'e', 'd', 'i', 'f', 'f', 'c', 'o', 'm', 's', 'A', 'm', 'b', 'B']\n"
     ]
    }
   ],
   "source": [
    "s=\"\"\"1,Jayaram,9676622023,Jay123@gmail.com\n",
    "SAi,2,9676622024,Sailakshmi23@yahoo.co.in\n",
    "9676622025,3,Vedha,Vedhanvesh@gmail.com\n",
    "sambapython@rediff.com,4,sAmbB,9676622026\"\"\"\n",
    "import re\n",
    "print(re.findall(\"[a-z]\",s,re.I))"
   ]
  },
  {
   "cell_type": "code",
   "execution_count": 18,
   "metadata": {},
   "outputs": [
    {
     "name": "stdout",
     "output_type": "stream",
     "text": [
      "['y1', 'i2']\n"
     ]
    }
   ],
   "source": [
    "s=\"\"\"1,Jayaram,9676622023,Jay123@gmail.com\n",
    "SAi,2,9676622024,Sailakshmi23@yahoo.co.in\n",
    "9676622025,3,Vedha,Vedhanvesh@gmail.com\n",
    "sambapython@rediff.com,4,sAmbB,9676622026\"\"\"\n",
    "import re\n",
    "print(re.findall(\"[a-z][0-9]\",s,re.I))"
   ]
  },
  {
   "cell_type": "code",
   "execution_count": 19,
   "metadata": {},
   "outputs": [
    {
     "name": "stdout",
     "output_type": "stream",
     "text": [
      "['1', '9', '6', '7', '6', '6', '2', '2', '0', '2', '3', '1', '2', '3', '2', '9', '6', '7', '6', '6', '2', '2', '0', '2', '4', '2', '3', '9', '6', '7', '6', '6', '2', '2', '0', '2', '5', '3', '4', '9', '6', '7', '6', '6', '2', '2', '0', '2', '6']\n"
     ]
    }
   ],
   "source": [
    "s=\"\"\"1,Jayaram,9676622023,Jay123@gmail.com\n",
    "SAi,2,9676622024,Sailakshmi23@yahoo.co.in\n",
    "9676622025,3,Vedha,Vedhanvesh@gmail.com\n",
    "sambapython@rediff.com,4,sAmbB,9676622026\"\"\"\n",
    "import re\n",
    "print(re.findall(\"[0-9]\",s,re.I))"
   ]
  },
  {
   "cell_type": "code",
   "execution_count": 20,
   "metadata": {},
   "outputs": [
    {
     "name": "stdout",
     "output_type": "stream",
     "text": [
      "['96', '76', '62', '20', '23', '12', '96', '76', '62', '20', '24', '23', '96', '76', '62', '20', '25', '96', '76', '62', '20', '26']\n"
     ]
    }
   ],
   "source": [
    "s=\"\"\"1,Jayaram,9676622023,Jay123@gmail.com\n",
    "SAi,2,9676622024,Sailakshmi23@yahoo.co.in\n",
    "9676622025,3,Vedha,Vedhanvesh@gmail.com\n",
    "sambapython@rediff.com,4,sAmbB,9676622026\"\"\"\n",
    "import re\n",
    "print(re.findall(\"[0-9][0-9]\",s,re.I))"
   ]
  },
  {
   "cell_type": "code",
   "execution_count": 21,
   "metadata": {},
   "outputs": [
    {
     "name": "stdout",
     "output_type": "stream",
     "text": [
      "['9676622023', '9676622024', '9676622025', '9676622026']\n"
     ]
    }
   ],
   "source": [
    "s=\"\"\"1,Jayaram,9676622023,Jay123@gmail.com\n",
    "SAi,2,9676622024,Sailakshmi23@yahoo.co.in\n",
    "9676622025,3,Vedha,Vedhanvesh@gmail.com\n",
    "sambapython@rediff.com,4,sAmbB,9676622026\"\"\"\n",
    "import re\n",
    "print(re.findall(\"[0-9][0-9][0-9][0-9][0-9][0-9][0-9][0-9][0-9][0-9]\",s,re.I))"
   ]
  },
  {
   "cell_type": "code",
   "execution_count": 22,
   "metadata": {},
   "outputs": [
    {
     "name": "stdout",
     "output_type": "stream",
     "text": [
      "['9676622023', '9676622024', '9676622025', '9676622026']\n"
     ]
    }
   ],
   "source": [
    "s=\"\"\"1,Jayaram,9676622023,Jay123@gmail.com\n",
    "SAi,2,9676622024,Sailakshmi23@yahoo.co.in\n",
    "9676622025,3,Vedha,Vedhanvesh@gmail.com\n",
    "sambapython@rediff.com,4,sAmbB,9676622026\"\"\"\n",
    "import re\n",
    "print(re.findall(\"[0-9]{10}\",s,re.I))"
   ]
  },
  {
   "cell_type": "code",
   "execution_count": 23,
   "metadata": {},
   "outputs": [
    {
     "name": "stdout",
     "output_type": "stream",
     "text": [
      "['9676622023', '123', '9676622024', '23', '9676622025', '9676622026']\n"
     ]
    }
   ],
   "source": [
    "s=\"\"\"1,Jayaram,9676622023,Jay123@gmail.com\n",
    "SAi,2,9676622024,Sailakshmi23@yahoo.co.in\n",
    "9676622025,3,Vedha,Vedhanvesh@gmail.com\n",
    "sambapython@rediff.com,4,sAmbB,9676622026\"\"\"\n",
    "import re\n",
    "print(re.findall(\"[0-9]{2,10}\",s,re.I))"
   ]
  },
  {
   "cell_type": "code",
   "execution_count": 24,
   "metadata": {},
   "outputs": [
    {
     "name": "stdout",
     "output_type": "stream",
     "text": [
      "['1', '9676622023', '123', '2', '9676622024', '23', '9676622025', '3', '4', '9676622026']\n"
     ]
    }
   ],
   "source": [
    "s=\"\"\"1,Jayaram,9676622023,Jay123@gmail.com\n",
    "SAi,2,9676622024,Sailakshmi23@yahoo.co.in\n",
    "9676622025,3,Vedha,Vedhanvesh@gmail.com\n",
    "sambapython@rediff.com,4,sAmbB,9676622026\"\"\"\n",
    "import re\n",
    "print(re.findall(\"[0-9]{1,10}\",s,re.I))"
   ]
  },
  {
   "cell_type": "code",
   "execution_count": 25,
   "metadata": {},
   "outputs": [
    {
     "name": "stdout",
     "output_type": "stream",
     "text": [
      "['1', '9676622023', '123', '2', '9676622024', '23', '9676622025', '3', '4', '9676622026', '1234567891', '01112']\n"
     ]
    }
   ],
   "source": [
    "s=\"\"\"1,Jayaram,9676622023,Jay123@gmail.com\n",
    "SAi,2,9676622024,Sailakshmi23@yahoo.co.in\n",
    "9676622025,3,Vedha,Vedhanvesh@gmail.com\n",
    "sambapython@rediff.com,4,sAmbB,9676622026,123456789101112\"\"\"\n",
    "import re\n",
    "print(re.findall(\"[0-9]{1,10}\",s,re.I))"
   ]
  },
  {
   "cell_type": "code",
   "execution_count": 26,
   "metadata": {},
   "outputs": [
    {
     "name": "stdout",
     "output_type": "stream",
     "text": [
      "['9676622023', '123', '9676622024', '23', '9676622025', '9676622026', '123456789101112']\n"
     ]
    }
   ],
   "source": [
    "s=\"\"\"1,Jayaram,9676622023,Jay123@gmail.com\n",
    "SAi,2,9676622024,Sailakshmi23@yahoo.co.in\n",
    "9676622025,3,Vedha,Vedhanvesh@gmail.com\n",
    "sambapython@rediff.com,4,sAmbB,9676622026,123456789101112\"\"\"\n",
    "import re\n",
    "print(re.findall(\"[0-9]{2,}\",s,re.I))"
   ]
  },
  {
   "cell_type": "code",
   "execution_count": 27,
   "metadata": {},
   "outputs": [
    {
     "name": "stdout",
     "output_type": "stream",
     "text": [
      "['1', '', '', '', '', '', '', '', '', '', '9676622023', '', '', '', '', '123', '', '', '', '', '', '', '', '', '', '', '', '', '', '', '', '2', '', '9676622024', '', '', '', '', '', '', '', '', '', '', '', '23', '', '', '', '', '', '', '', '', '', '', '', '', '', '9676622025', '', '3', '', '', '', '', '', '', '', '', '', '', '', '', '', '', '', '', '', '', '', '', '', '', '', '', '', '', '', '', '', '', '', '', '', '', '', '', '', '', '', '', '', '', '', '', '', '', '', '', '', '', '', '4', '', '', '', '', '', '', '', '9676622026', '', '1234567891', '01112', '']\n"
     ]
    }
   ],
   "source": [
    "s=\"\"\"1,Jayaram,9676622023,Jay123@gmail.com\n",
    "SAi,2,9676622024,Sailakshmi23@yahoo.co.in\n",
    "9676622025,3,Vedha,Vedhanvesh@gmail.com\n",
    "sambapython@rediff.com,4,sAmbB,9676622026,123456789101112\"\"\"\n",
    "import re\n",
    "print(re.findall(\"[0-9]{,10}\",s,re.I))"
   ]
  },
  {
   "cell_type": "code",
   "execution_count": 28,
   "metadata": {},
   "outputs": [
    {
     "name": "stdout",
     "output_type": "stream",
     "text": [
      "['1', '', '', '', '', '', '', '', '', '', '9676622023', '', '', '', '', '123', '', '', '', '', '', '', '', '', '', '', '', '', '', '', '', '2', '', '9676622024', '', '', '', '', '', '', '', '', '', '', '', '23', '', '', '', '', '', '', '', '', '', '', '', '', '', '9676622025', '', '3', '', '', '', '', '', '', '', '', '', '', '', '', '', '', '', '', '', '', '', '', '', '', '', '', '', '', '', '', '', '', '', '', '', '', '', '', '', '', '', '', '', '', '', '', '', '', '', '', '', '', '', '4', '', '', '', '', '', '', '', '9676622026', '', '1234567891', '01112', '']\n"
     ]
    }
   ],
   "source": [
    "s=\"\"\"1,Jayaram,9676622023,Jay123@gmail.com\n",
    "SAi,2,9676622024,Sailakshmi23@yahoo.co.in\n",
    "9676622025,3,Vedha,Vedhanvesh@gmail.com\n",
    "sambapython@rediff.com,4,sAmbB,9676622026,123456789101112\"\"\"\n",
    "import re\n",
    "print(re.findall(\"[0-9]{0,10}\",s,re.I))"
   ]
  },
  {
   "cell_type": "code",
   "execution_count": 29,
   "metadata": {},
   "outputs": [
    {
     "name": "stdout",
     "output_type": "stream",
     "text": [
      "['1', '', '', '', '', '', '', '', '', '', '9676622023', '', '', '', '', '123', '', '', '', '', '', '', '', '', '', '', '', '', '', '', '', '2', '', '9676622024', '', '', '', '', '', '', '', '', '', '', '', '23', '', '', '', '', '', '', '', '', '', '', '', '', '', '9676622025', '', '3', '', '', '', '', '', '', '', '', '', '', '', '', '', '', '', '', '', '', '', '', '', '', '', '', '', '', '', '', '', '', '', '', '', '', '', '', '', '', '', '', '', '', '', '', '', '', '', '', '', '', '', '4', '', '', '', '', '', '', '', '9676622026', '', '123456789101112', '']\n"
     ]
    }
   ],
   "source": [
    "s=\"\"\"1,Jayaram,9676622023,Jay123@gmail.com\n",
    "SAi,2,9676622024,Sailakshmi23@yahoo.co.in\n",
    "9676622025,3,Vedha,Vedhanvesh@gmail.com\n",
    "sambapython@rediff.com,4,sAmbB,9676622026,123456789101112\"\"\"\n",
    "import re\n",
    "print(re.findall(\"[0-9]{0,}\",s,re.I))"
   ]
  },
  {
   "cell_type": "code",
   "execution_count": 30,
   "metadata": {},
   "outputs": [
    {
     "name": "stdout",
     "output_type": "stream",
     "text": [
      "['1', '', '', '', '', '', '', '', '', '', '9676622023', '', '', '', '', '123', '', '', '', '', '', '', '', '', '', '', '', '', '', '', '', '2', '', '9676622024', '', '', '', '', '', '', '', '', '', '', '', '23', '', '', '', '', '', '', '', '', '', '', '', '', '', '9676622025', '', '3', '', '', '', '', '', '', '', '', '', '', '', '', '', '', '', '', '', '', '', '', '', '', '', '', '', '', '', '', '', '', '', '', '', '', '', '', '', '', '', '', '', '', '', '', '', '', '', '', '', '', '', '4', '', '', '', '', '', '', '', '9676622026', '', '123456789101112', '']\n"
     ]
    }
   ],
   "source": [
    "s=\"\"\"1,Jayaram,9676622023,Jay123@gmail.com\n",
    "SAi,2,9676622024,Sailakshmi23@yahoo.co.in\n",
    "9676622025,3,Vedha,Vedhanvesh@gmail.com\n",
    "sambapython@rediff.com,4,sAmbB,9676622026,123456789101112\"\"\"\n",
    "import re\n",
    "print(re.findall(\"[0-9]*\",s,re.I))"
   ]
  },
  {
   "cell_type": "code",
   "execution_count": 31,
   "metadata": {},
   "outputs": [
    {
     "name": "stdout",
     "output_type": "stream",
     "text": [
      "['1', '9676622023', '123', '2', '9676622024', '23', '9676622025', '3', '4', '9676622026', '123456789101112']\n"
     ]
    }
   ],
   "source": [
    "s=\"\"\"1,Jayaram,9676622023,Jay123@gmail.com\n",
    "SAi,2,9676622024,Sailakshmi23@yahoo.co.in\n",
    "9676622025,3,Vedha,Vedhanvesh@gmail.com\n",
    "sambapython@rediff.com,4,sAmbB,9676622026,123456789101112\"\"\"\n",
    "import re\n",
    "print(re.findall(\"[0-9]{1,}\",s,re.I))"
   ]
  },
  {
   "cell_type": "code",
   "execution_count": 32,
   "metadata": {},
   "outputs": [
    {
     "name": "stdout",
     "output_type": "stream",
     "text": [
      "['1', '9676622023', '123', '2', '9676622024', '23', '9676622025', '3', '4', '9676622026', '123456789101112']\n"
     ]
    }
   ],
   "source": [
    "s=\"\"\"1,Jayaram,9676622023,Jay123@gmail.com\n",
    "SAi,2,9676622024,Sailakshmi23@yahoo.co.in\n",
    "9676622025,3,Vedha,Vedhanvesh@gmail.com\n",
    "sambapython@rediff.com,4,sAmbB,9676622026,123456789101112\"\"\"\n",
    "import re\n",
    "print(re.findall(\"[0-9]+\",s,re.I))"
   ]
  },
  {
   "cell_type": "code",
   "execution_count": 33,
   "metadata": {},
   "outputs": [
    {
     "name": "stdout",
     "output_type": "stream",
     "text": [
      "['1', '', '', '', '', '', '', '', '', '', '9', '6', '7', '6', '6', '2', '2', '0', '2', '3', '', '', '', '', '1', '2', '3', '', '', '', '', '', '', '', '', '', '', '', '', '', '', '', '2', '', '9', '6', '7', '6', '6', '2', '2', '0', '2', '4', '', '', '', '', '', '', '', '', '', '', '', '2', '3', '', '', '', '', '', '', '', '', '', '', '', '', '', '9', '6', '7', '6', '6', '2', '2', '0', '2', '5', '', '3', '', '', '', '', '', '', '', '', '', '', '', '', '', '', '', '', '', '', '', '', '', '', '', '', '', '', '', '', '', '', '', '', '', '', '', '', '', '', '', '', '', '', '', '', '', '', '', '', '', '', '', '4', '', '', '', '', '', '', '', '9', '6', '7', '6', '6', '2', '2', '0', '2', '6', '', '1', '2', '3', '4', '5', '6', '7', '8', '9', '1', '0', '1', '1', '1', '2', '']\n"
     ]
    }
   ],
   "source": [
    "s=\"\"\"1,Jayaram,9676622023,Jay123@gmail.com\n",
    "SAi,2,9676622024,Sailakshmi23@yahoo.co.in\n",
    "9676622025,3,Vedha,Vedhanvesh@gmail.com\n",
    "sambapython@rediff.com,4,sAmbB,9676622026,123456789101112\"\"\"\n",
    "import re\n",
    "print(re.findall(\"[0-9]{0,1}\",s,re.I))"
   ]
  },
  {
   "cell_type": "code",
   "execution_count": 34,
   "metadata": {},
   "outputs": [
    {
     "name": "stdout",
     "output_type": "stream",
     "text": [
      "['1', '', '', '', '', '', '', '', '', '', '9', '6', '7', '6', '6', '2', '2', '0', '2', '3', '', '', '', '', '1', '2', '3', '', '', '', '', '', '', '', '', '', '', '', '', '', '', '', '2', '', '9', '6', '7', '6', '6', '2', '2', '0', '2', '4', '', '', '', '', '', '', '', '', '', '', '', '2', '3', '', '', '', '', '', '', '', '', '', '', '', '', '', '9', '6', '7', '6', '6', '2', '2', '0', '2', '5', '', '3', '', '', '', '', '', '', '', '', '', '', '', '', '', '', '', '', '', '', '', '', '', '', '', '', '', '', '', '', '', '', '', '', '', '', '', '', '', '', '', '', '', '', '', '', '', '', '', '', '', '', '', '4', '', '', '', '', '', '', '', '9', '6', '7', '6', '6', '2', '2', '0', '2', '6', '', '1', '2', '3', '4', '5', '6', '7', '8', '9', '1', '0', '1', '1', '1', '2', '']\n"
     ]
    }
   ],
   "source": [
    "s=\"\"\"1,Jayaram,9676622023,Jay123@gmail.com\n",
    "SAi,2,9676622024,Sailakshmi23@yahoo.co.in\n",
    "9676622025,3,Vedha,Vedhanvesh@gmail.com\n",
    "sambapython@rediff.com,4,sAmbB,9676622026,123456789101112\"\"\"\n",
    "import re\n",
    "print(re.findall(\"[0-9]?\",s,re.I))"
   ]
  },
  {
   "cell_type": "code",
   "execution_count": 35,
   "metadata": {},
   "outputs": [
    {
     "name": "stdout",
     "output_type": "stream",
     "text": [
      "['1', '9', '6', '7', '6', '6', '2', '2', '0', '2', '3', '1', '2', '3', '2', '9', '6', '7', '6', '6', '2', '2', '0', '2', '4', '2', '3', '9', '6', '7', '6', '6', '2', '2', '0', '2', '5', '3', '4', '9', '6', '7', '6', '6', '2', '2', '0', '2', '6', '1', '2', '3', '4', '5', '6', '7', '8', '9', '1', '0', '1', '1', '1', '2']\n"
     ]
    }
   ],
   "source": [
    "s=\"\"\"1,Jayaram,9676622023,Jay123@gmail.com\n",
    "SAi,2,9676622024,Sailakshmi23@yahoo.co.in\n",
    "9676622025,3,Vedha,Vedhanvesh@gmail.com\n",
    "sambapython@rediff.com,4,sAmbB,9676622026,123456789101112\"\"\"\n",
    "import re\n",
    "print(re.findall(\"[0-9]\",s,re.I))"
   ]
  },
  {
   "cell_type": "code",
   "execution_count": 36,
   "metadata": {},
   "outputs": [
    {
     "name": "stdout",
     "output_type": "stream",
     "text": [
      "[',', 'J', 'a', 'y', 'a', 'r', 'a', 'm', ',', ',', 'J', 'a', 'y', '@', 'g', 'm', 'a', 'i', 'l', '.', 'c', 'o', 'm', '\\n', 'S', 'A', 'i', ',', ',', ',', 'S', 'a', 'i', 'l', 'a', 'k', 's', 'h', 'm', 'i', '@', 'y', 'a', 'h', 'o', 'o', '.', 'c', 'o', '.', 'i', 'n', '\\n', ',', ',', 'V', 'e', 'd', 'h', 'a', ',', 'V', 'e', 'd', 'h', 'a', 'n', 'v', 'e', 's', 'h', '@', 'g', 'm', 'a', 'i', 'l', '.', 'c', 'o', 'm', '\\n', 's', 'a', 'm', 'b', 'a', 'p', 'y', 't', 'h', 'o', 'n', '@', 'r', 'e', 'd', 'i', 'f', 'f', '.', 'c', 'o', 'm', ',', ',', 's', 'A', 'm', 'b', 'B', ',', ',']\n"
     ]
    }
   ],
   "source": [
    "s=\"\"\"1,Jayaram,9676622023,Jay123@gmail.com\n",
    "SAi,2,9676622024,Sailakshmi23@yahoo.co.in\n",
    "9676622025,3,Vedha,Vedhanvesh@gmail.com\n",
    "sambapython@rediff.com,4,sAmbB,9676622026,123456789101112\"\"\"\n",
    "import re\n",
    "print(re.findall(\"[^0-9]\",s,re.I))"
   ]
  },
  {
   "cell_type": "code",
   "execution_count": 37,
   "metadata": {},
   "outputs": [
    {
     "name": "stdout",
     "output_type": "stream",
     "text": [
      "[',', 'J', 'a', 'y', 'a', 'r', 'a', 'm', ',', ',', 'J', 'a', 'y', '@', 'g', 'm', 'a', 'i', 'l', '.', 'c', 'o', 'm', '\\n', 'S', 'A', 'i', ',', ',', ',', 'S', 'a', 'i', 'l', 'a', 'k', 's', 'h', 'm', 'i', '@', 'y', 'a', 'h', 'o', 'o', '.', 'c', 'o', '.', 'i', 'n', '\\n', ',', ',', 'V', 'e', 'd', 'h', 'a', ',', 'V', 'e', 'd', 'h', 'a', 'n', 'v', 'e', 's', 'h', '@', 'g', 'm', 'a', 'i', 'l', '.', 'c', 'o', 'm', '\\n', 's', 'a', 'm', 'b', 'a', 'p', 'y', 't', 'h', 'o', 'n', '@', 'r', 'e', 'd', 'i', 'f', 'f', '.', 'c', 'o', 'm', ',', ',', 's', 'A', 'm', 'b', 'B', ',', ',']\n"
     ]
    }
   ],
   "source": [
    "s=\"\"\"1,Jayaram,9676622023,Jay123@gmail.com\n",
    "SAi,2,9676622024,Sailakshmi23@yahoo.co.in\n",
    "9676622025,3,Vedha,Vedhanvesh@gmail.com\n",
    "sambapython@rediff.com,4,sAmbB,9676622026,123456789101112\"\"\"\n",
    "import re\n",
    "print(re.findall(\"[^0-9]\",s))"
   ]
  },
  {
   "cell_type": "code",
   "execution_count": 38,
   "metadata": {},
   "outputs": [
    {
     "name": "stdout",
     "output_type": "stream",
     "text": [
      "['1']\n"
     ]
    }
   ],
   "source": [
    "s=\"\"\"1,Jayaram,9676622023,Jay123@gmail.com\n",
    "SAi,2,9676622024,Sailakshmi23@yahoo.co.in\n",
    "9676622025,3,Vedha,Vedhanvesh@gmail.com\n",
    "sambapython@rediff.com,4,sAmbB,9676622026,123456789101112\"\"\"\n",
    "import re\n",
    "print(re.findall(\"^[0-9]\",s,re.I))"
   ]
  },
  {
   "cell_type": "code",
   "execution_count": 39,
   "metadata": {},
   "outputs": [
    {
     "name": "stdout",
     "output_type": "stream",
     "text": [
      "['1', '9', '6', '7', '6', '6', '2', '2', '0', '2', '3', '1', '2', '3', '2', '9', '6', '7', '6', '6', '2', '2', '0', '2', '4', '2', '3', '9', '6', '7', '6', '6', '2', '2', '0', '2', '5', '3', '4', '9', '6', '7', '6', '6', '2', '2', '0', '2', '6', '1', '2', '3', '4', '5', '6', '7', '8', '9', '1', '0', '1', '1', '1', '2']\n"
     ]
    }
   ],
   "source": [
    "s=\"\"\"1,Jayaram,9676622023,Jay123@gmail.com\n",
    "SAi,2,9676622024,Sailakshmi23@yahoo.co.in\n",
    "9676622025,3,Vedha,Vedhanvesh@gmail.com\n",
    "sambapython@rediff.com,4,sAmbB,9676622026,123456789101112\"\"\"\n",
    "import re\n",
    "print(re.findall(\"[0-9]\",s,re.I))"
   ]
  },
  {
   "cell_type": "code",
   "execution_count": 40,
   "metadata": {},
   "outputs": [
    {
     "name": "stdout",
     "output_type": "stream",
     "text": [
      "['2']\n"
     ]
    }
   ],
   "source": [
    "s=\"\"\"1,Jayaram,9676622023,Jay123@gmail.com\n",
    "SAi,2,9676622024,Sailakshmi23@yahoo.co.in\n",
    "9676622025,3,Vedha,Vedhanvesh@gmail.com\n",
    "sambapython@rediff.com,4,sAmbB,9676622026,123456789101112\"\"\"\n",
    "import re\n",
    "print(re.findall(\"[0-9]$\",s,re.I))"
   ]
  },
  {
   "cell_type": "code",
   "execution_count": 41,
   "metadata": {},
   "outputs": [
    {
     "name": "stdout",
     "output_type": "stream",
     "text": [
      "['1']\n"
     ]
    }
   ],
   "source": [
    "s=\"\"\"1,Jayaram,9676622023,Jay123@gmail.com\n",
    "SAi,2,9676622024,Sailakshmi23@yahoo.co.in\n",
    "9676622025,3,Vedha,Vedhanvesh@gmail.com\n",
    "sambapython@rediff.com,4,sAmbB,9676622026,123456789101112\"\"\"\n",
    "import re\n",
    "print(re.findall(\"^[0-9]\",s,re.I))"
   ]
  },
  {
   "cell_type": "code",
   "execution_count": 42,
   "metadata": {},
   "outputs": [
    {
     "name": "stdout",
     "output_type": "stream",
     "text": [
      "['1', '9']\n"
     ]
    }
   ],
   "source": [
    "s=\"\"\"1,Jayaram,9676622023,Jay123@gmail.com\n",
    "SAi,2,9676622024,Sailakshmi23@yahoo.co.in\n",
    "9676622025,3,Vedha,Vedhanvesh@gmail.com\n",
    "sambapython@rediff.com,4,sAmbB,9676622026,123456789101112\"\"\"\n",
    "import re\n",
    "print(re.findall(\"^[0-9]\",s,re.I|re.M))"
   ]
  },
  {
   "cell_type": "code",
   "execution_count": 43,
   "metadata": {},
   "outputs": [
    {
     "name": "stdout",
     "output_type": "stream",
     "text": [
      "['2']\n"
     ]
    }
   ],
   "source": [
    "s=\"\"\"1,Jayaram,9676622023,Jay123@gmail.com\n",
    "SAi,2,9676622024,Sailakshmi23@yahoo.co.in\n",
    "9676622025,3,Vedha,Vedhanvesh@gmail.com\n",
    "sambapython@rediff.com,4,sAmbB,9676622026,123456789101112\"\"\"\n",
    "import re\n",
    "print(re.findall(\"[0-9]$\",s,re.I|re.M))"
   ]
  },
  {
   "cell_type": "code",
   "execution_count": 44,
   "metadata": {},
   "outputs": [
    {
     "name": "stdout",
     "output_type": "stream",
     "text": [
      "['2', '2']\n"
     ]
    }
   ],
   "source": [
    "s=\"\"\"1,Jayaram,9676622023,Jay123@gmail.com\n",
    "SAi,2,9676622024,Sailakshmi23@yahoo.co.in\n",
    "9676622025,3,Vedha,Vedhanvesh@gmail.com,2\n",
    "sambapython@rediff.com,4,sAmbB,9676622026,123456789101112\"\"\"\n",
    "import re\n",
    "print(re.findall(\"[0-9]$\",s,re.I|re.M))"
   ]
  },
  {
   "cell_type": "code",
   "execution_count": 45,
   "metadata": {},
   "outputs": [
    {
     "name": "stdout",
     "output_type": "stream",
     "text": [
      "['1', ',', 'J', 'a', 'y', 'a', 'r', 'a', 'm', ',', '9', '6', '7', '6', '6', '2', '2', '0', '2', '3', ',', 'J', 'a', 'y', '1', '2', '3', '@', 'g', 'm', 'a', 'i', 'l', '.', 'c', 'o', 'm', 'S', 'A', 'i', ',', '2', ',', '9', '6', '7', '6', '6', '2', '2', '0', '2', '4', ',', 'S', 'a', 'i', 'l', 'a', 'k', 's', 'h', 'm', 'i', '2', '3', '@', 'y', 'a', 'h', 'o', 'o', '.', 'c', 'o', '.', 'i', 'n', '9', '6', '7', '6', '6', '2', '2', '0', '2', '5', ',', '3', ',', 'V', 'e', 'd', 'h', 'a', ',', 'V', 'e', 'd', 'h', 'a', 'n', 'v', 'e', 's', 'h', '@', 'g', 'm', 'a', 'i', 'l', '.', 'c', 'o', 'm', 's', 'a', 'm', 'b', 'a', 'p', 'y', 't', 'h', 'o', 'n', '@', 'r', 'e', 'd', 'i', 'f', 'f', '.', 'c', 'o', 'm', ',', '4', ',', 's', 'A', 'm', 'b', 'B', ',', '9', '6', '7', '6', '6', '2', '2', '0', '2', '6', ',', '1', '2', '3', '4', '5', '6', '7', '8', '9', '1', '0', '1', '1', '1', '2']\n"
     ]
    }
   ],
   "source": [
    "s=\"\"\"1,Jayaram,9676622023,Jay123@gmail.com\n",
    "SAi,2,9676622024,Sailakshmi23@yahoo.co.in\n",
    "9676622025,3,Vedha,Vedhanvesh@gmail.com\n",
    "sambapython@rediff.com,4,sAmbB,9676622026,123456789101112\"\"\"\n",
    "import re\n",
    "print(re.findall(\".\",s,re.I|re.M))"
   ]
  },
  {
   "cell_type": "code",
   "execution_count": 46,
   "metadata": {},
   "outputs": [
    {
     "name": "stdout",
     "output_type": "stream",
     "text": [
      "['1', ',', 'J', 'a', 'y', 'a', 'r', 'a', 'm', ',', '9', '6', '7', '6', '6', '2', '2', '0', '2', '3', ',', 'J', 'a', 'y', '1', '2', '3', '@', 'g', 'm', 'a', 'i', 'l', '.', 'c', 'o', 'm', '\\n', 'S', 'A', 'i', ',', '2', ',', '9', '6', '7', '6', '6', '2', '2', '0', '2', '4', ',', 'S', 'a', 'i', 'l', 'a', 'k', 's', 'h', 'm', 'i', '2', '3', '@', 'y', 'a', 'h', 'o', 'o', '.', 'c', 'o', '.', 'i', 'n', '\\n', '9', '6', '7', '6', '6', '2', '2', '0', '2', '5', ',', '3', ',', 'V', 'e', 'd', 'h', 'a', ',', 'V', 'e', 'd', 'h', 'a', 'n', 'v', 'e', 's', 'h', '@', 'g', 'm', 'a', 'i', 'l', '.', 'c', 'o', 'm', '\\n', 's', 'a', 'm', 'b', 'a', 'p', 'y', 't', 'h', 'o', 'n', '@', 'r', 'e', 'd', 'i', 'f', 'f', '.', 'c', 'o', 'm', ',', '4', ',', 's', 'A', 'm', 'b', 'B', ',', '9', '6', '7', '6', '6', '2', '2', '0', '2', '6', ',', '1', '2', '3', '4', '5', '6', '7', '8', '9', '1', '0', '1', '1', '1', '2']\n"
     ]
    }
   ],
   "source": [
    "s=\"\"\"1,Jayaram,9676622023,Jay123@gmail.com\n",
    "SAi,2,9676622024,Sailakshmi23@yahoo.co.in\n",
    "9676622025,3,Vedha,Vedhanvesh@gmail.com\n",
    "sambapython@rediff.com,4,sAmbB,9676622026,123456789101112\"\"\"\n",
    "import re\n",
    "print(re.findall(\".\",s,re.I|re.M|re.DOTALL))"
   ]
  },
  {
   "cell_type": "code",
   "execution_count": 47,
   "metadata": {},
   "outputs": [
    {
     "name": "stdout",
     "output_type": "stream",
     "text": [
      "['1', ',', 'J', 'a', 'y', 'a', 'r', 'a', 'm', ',', '9', '6', '7', '6', '6', '2', '2', '0', '2', '3', ',', 'J', 'a', 'y', '1', '2', '3', '@', 'g', 'm', 'a', 'i', 'l', '.', 'c', 'o', 'm', '\\n', 'S', 'A', 'i', ',', '2', ',', '9', '6', '7', '6', '6', '2', '2', '0', '2', '4', ',', 'S', 'a', 'i', 'l', 'a', 'k', 's', 'h', 'm', 'i', '2', '3', '@', 'y', 'a', 'h', 'o', 'o', '.', 'c', 'o', '.', 'i', 'n', '\\n', '9', '6', '7', '6', '6', '2', '2', '0', '2', '5', ',', '3', ',', 'V', 'e', 'd', 'h', 'a', ',', 'V', 'e', 'd', 'h', 'a', 'n', 'v', 'e', 's', 'h', '@', 'g', 'm', 'a', 'i', 'l', '.', 'c', 'o', 'm', '\\n', 's', 'a', 'm', 'b', 'a', 'p', 'y', 't', 'h', 'o', 'n', '@', 'r', 'e', 'd', 'i', 'f', 'f', '.', 'c', 'o', 'm', ',', '4', ',', 's', 'A', 'm', 'b', 'B', ',', '9', '6', '7', '6', '6', '2', '2', '0', '2', '6', ',', '1', '2', '3', '4', '5', '6', '7', '8', '9', '1', '0', '1', '1', '1', '2']\n"
     ]
    }
   ],
   "source": [
    "s=\"\"\"1,Jayaram,9676622023,Jay123@gmail.com\n",
    "SAi,2,9676622024,Sailakshmi23@yahoo.co.in\n",
    "9676622025,3,Vedha,Vedhanvesh@gmail.com\n",
    "sambapython@rediff.com,4,sAmbB,9676622026,123456789101112\"\"\"\n",
    "import re\n",
    "print(re.findall(\".\",s,re.DOTALL))"
   ]
  },
  {
   "cell_type": "code",
   "execution_count": 48,
   "metadata": {},
   "outputs": [
    {
     "name": "stdout",
     "output_type": "stream",
     "text": [
      "['.', '.', '.', '.', '.']\n"
     ]
    }
   ],
   "source": [
    "s=\"\"\"1,Jayaram,9676622023,Jay123@gmail.com\n",
    "SAi,2,9676622024,Sailakshmi23@yahoo.co.in\n",
    "9676622025,3,Vedha,Vedhanvesh@gmail.com\n",
    "sambapython@rediff.com,4,sAmbB,9676622026,123456789101112\"\"\"\n",
    "import re\n",
    "print(re.findall(\"\\.\",s,re.DOTALL))"
   ]
  },
  {
   "cell_type": "code",
   "execution_count": 49,
   "metadata": {},
   "outputs": [
    {
     "name": "stdout",
     "output_type": "stream",
     "text": [
      "['.', '.', '.', '.', '.']\n"
     ]
    }
   ],
   "source": [
    "s=\"\"\"1,Jayaram,9676622023,Jay123@gmail.com\n",
    "SAi,2,9676622024,Sailakshmi23@yahoo.co.in\n",
    "9676622025,3,Vedha,Vedhanvesh@gmail.com\n",
    "sambapython@rediff.com,4,sAmbB,9676622026,123456789101112\"\"\"\n",
    "import re\n",
    "print(re.findall(\"[.]\",s,re.DOTALL))"
   ]
  },
  {
   "cell_type": "code",
   "execution_count": 50,
   "metadata": {},
   "outputs": [
    {
     "name": "stdout",
     "output_type": "stream",
     "text": [
      "['1']\n"
     ]
    }
   ],
   "source": [
    "s=\"\"\"1,Jayaram,9676622023,Jay123@gmail.com\n",
    "SAi,2,9676622024,Sailakshmi23@yahoo.co.in\n",
    "9676622025,3,Vedha,Vedhanvesh@gmail.com\n",
    "sambapython@rediff.com,4,sAmbB,9676622026,123456789101112\"\"\"\n",
    "import re\n",
    "print(re.findall(\"^.\",s,re.DOTALL))"
   ]
  },
  {
   "cell_type": "code",
   "execution_count": 51,
   "metadata": {},
   "outputs": [
    {
     "name": "stdout",
     "output_type": "stream",
     "text": [
      "['1', ',', 'J', 'a', 'y', 'a', 'r', 'a', 'm', ',', '9', '6', '7', '6', '6', '2', '2', '0', '2', '3', ',', 'J', 'a', 'y', '1', '2', '3', '@', 'g', 'm', 'a', 'i', 'l', '.', 'c', 'o', 'm', '\\n', 'S', 'A', 'i', ',', '2', ',', '9', '6', '7', '6', '6', '2', '2', '0', '2', '4', ',', 'S', 'a', 'i', 'l', 'a', 'k', 's', 'h', 'm', 'i', '2', '3', '@', 'y', 'a', 'h', 'o', 'o', '.', 'c', 'o', '.', 'i', 'n', '\\n', '9', '6', '7', '6', '6', '2', '2', '0', '2', '5', ',', '3', ',', 'V', 'e', 'd', 'h', 'a', ',', 'V', 'e', 'd', 'h', 'a', 'n', 'v', 'e', 's', 'h', '@', 'g', 'm', 'a', 'i', 'l', '.', 'c', 'o', 'm', '\\n', 's', 'a', 'm', 'b', 'a', 'p', 'y', 't', 'h', 'o', 'n', '@', 'r', 'e', 'd', 'i', 'f', 'f', '.', 'c', 'o', 'm', ',', '4', ',', 's', 'A', 'm', 'b', 'B', ',', '9', '6', '7', '6', '6', '2', '2', '0', '2', '6', ',', '1', '2', '3', '4', '5', '6', '7', '8', '9', '1', '0', '1', '1', '1', '2']\n"
     ]
    }
   ],
   "source": [
    "s=\"\"\"1,Jayaram,9676622023,Jay123@gmail.com\n",
    "SAi,2,9676622024,Sailakshmi23@yahoo.co.in\n",
    "9676622025,3,Vedha,Vedhanvesh@gmail.com\n",
    "sambapython@rediff.com,4,sAmbB,9676622026,123456789101112\"\"\"\n",
    "import re\n",
    "print(re.findall(\".\",s,re.DOTALL))"
   ]
  },
  {
   "cell_type": "code",
   "execution_count": 52,
   "metadata": {},
   "outputs": [
    {
     "ename": "error",
     "evalue": "bad character range _-. at position 7",
     "output_type": "error",
     "traceback": [
      "\u001b[0;31m---------------------------------------------------------------------------\u001b[0m",
      "\u001b[0;31merror\u001b[0m                                     Traceback (most recent call last)",
      "\u001b[0;32m<ipython-input-52-a050f6621b7f>\u001b[0m in \u001b[0;36m<module>\u001b[0;34m()\u001b[0m\n\u001b[1;32m     13\u001b[0m \u001b[0;32mimport\u001b[0m \u001b[0mre\u001b[0m\u001b[0;34m\u001b[0m\u001b[0m\n\u001b[1;32m     14\u001b[0m \u001b[0mexp\u001b[0m \u001b[0;34m=\u001b[0m \u001b[0;34m\"[a-z0-9_-.]+@[a-z]+\\.[.a-z]+\"\u001b[0m\u001b[0;34m\u001b[0m\u001b[0m\n\u001b[0;32m---> 15\u001b[0;31m \u001b[0mprint\u001b[0m\u001b[0;34m(\u001b[0m\u001b[0mre\u001b[0m\u001b[0;34m.\u001b[0m\u001b[0mfindall\u001b[0m\u001b[0;34m(\u001b[0m\u001b[0mexp\u001b[0m\u001b[0;34m,\u001b[0m\u001b[0ms\u001b[0m\u001b[0;34m,\u001b[0m\u001b[0mre\u001b[0m\u001b[0;34m.\u001b[0m\u001b[0mI\u001b[0m\u001b[0;34m)\u001b[0m\u001b[0;34m)\u001b[0m\u001b[0;34m\u001b[0m\u001b[0m\n\u001b[0m",
      "\u001b[0;32m~/anaconda3/lib/python3.7/re.py\u001b[0m in \u001b[0;36mfindall\u001b[0;34m(pattern, string, flags)\u001b[0m\n\u001b[1;32m    221\u001b[0m \u001b[0;34m\u001b[0m\u001b[0m\n\u001b[1;32m    222\u001b[0m     Empty matches are included in the result.\"\"\"\n\u001b[0;32m--> 223\u001b[0;31m     \u001b[0;32mreturn\u001b[0m \u001b[0m_compile\u001b[0m\u001b[0;34m(\u001b[0m\u001b[0mpattern\u001b[0m\u001b[0;34m,\u001b[0m \u001b[0mflags\u001b[0m\u001b[0;34m)\u001b[0m\u001b[0;34m.\u001b[0m\u001b[0mfindall\u001b[0m\u001b[0;34m(\u001b[0m\u001b[0mstring\u001b[0m\u001b[0;34m)\u001b[0m\u001b[0;34m\u001b[0m\u001b[0m\n\u001b[0m\u001b[1;32m    224\u001b[0m \u001b[0;34m\u001b[0m\u001b[0m\n\u001b[1;32m    225\u001b[0m \u001b[0;32mdef\u001b[0m \u001b[0mfinditer\u001b[0m\u001b[0;34m(\u001b[0m\u001b[0mpattern\u001b[0m\u001b[0;34m,\u001b[0m \u001b[0mstring\u001b[0m\u001b[0;34m,\u001b[0m \u001b[0mflags\u001b[0m\u001b[0;34m=\u001b[0m\u001b[0;36m0\u001b[0m\u001b[0;34m)\u001b[0m\u001b[0;34m:\u001b[0m\u001b[0;34m\u001b[0m\u001b[0m\n",
      "\u001b[0;32m~/anaconda3/lib/python3.7/re.py\u001b[0m in \u001b[0;36m_compile\u001b[0;34m(pattern, flags)\u001b[0m\n\u001b[1;32m    284\u001b[0m     \u001b[0;32mif\u001b[0m \u001b[0;32mnot\u001b[0m \u001b[0msre_compile\u001b[0m\u001b[0;34m.\u001b[0m\u001b[0misstring\u001b[0m\u001b[0;34m(\u001b[0m\u001b[0mpattern\u001b[0m\u001b[0;34m)\u001b[0m\u001b[0;34m:\u001b[0m\u001b[0;34m\u001b[0m\u001b[0m\n\u001b[1;32m    285\u001b[0m         \u001b[0;32mraise\u001b[0m \u001b[0mTypeError\u001b[0m\u001b[0;34m(\u001b[0m\u001b[0;34m\"first argument must be string or compiled pattern\"\u001b[0m\u001b[0;34m)\u001b[0m\u001b[0;34m\u001b[0m\u001b[0m\n\u001b[0;32m--> 286\u001b[0;31m     \u001b[0mp\u001b[0m \u001b[0;34m=\u001b[0m \u001b[0msre_compile\u001b[0m\u001b[0;34m.\u001b[0m\u001b[0mcompile\u001b[0m\u001b[0;34m(\u001b[0m\u001b[0mpattern\u001b[0m\u001b[0;34m,\u001b[0m \u001b[0mflags\u001b[0m\u001b[0;34m)\u001b[0m\u001b[0;34m\u001b[0m\u001b[0m\n\u001b[0m\u001b[1;32m    287\u001b[0m     \u001b[0;32mif\u001b[0m \u001b[0;32mnot\u001b[0m \u001b[0;34m(\u001b[0m\u001b[0mflags\u001b[0m \u001b[0;34m&\u001b[0m \u001b[0mDEBUG\u001b[0m\u001b[0;34m)\u001b[0m\u001b[0;34m:\u001b[0m\u001b[0;34m\u001b[0m\u001b[0m\n\u001b[1;32m    288\u001b[0m         \u001b[0;32mif\u001b[0m \u001b[0mlen\u001b[0m\u001b[0;34m(\u001b[0m\u001b[0m_cache\u001b[0m\u001b[0;34m)\u001b[0m \u001b[0;34m>=\u001b[0m \u001b[0m_MAXCACHE\u001b[0m\u001b[0;34m:\u001b[0m\u001b[0;34m\u001b[0m\u001b[0m\n",
      "\u001b[0;32m~/anaconda3/lib/python3.7/sre_compile.py\u001b[0m in \u001b[0;36mcompile\u001b[0;34m(p, flags)\u001b[0m\n\u001b[1;32m    762\u001b[0m     \u001b[0;32mif\u001b[0m \u001b[0misstring\u001b[0m\u001b[0;34m(\u001b[0m\u001b[0mp\u001b[0m\u001b[0;34m)\u001b[0m\u001b[0;34m:\u001b[0m\u001b[0;34m\u001b[0m\u001b[0m\n\u001b[1;32m    763\u001b[0m         \u001b[0mpattern\u001b[0m \u001b[0;34m=\u001b[0m \u001b[0mp\u001b[0m\u001b[0;34m\u001b[0m\u001b[0m\n\u001b[0;32m--> 764\u001b[0;31m         \u001b[0mp\u001b[0m \u001b[0;34m=\u001b[0m \u001b[0msre_parse\u001b[0m\u001b[0;34m.\u001b[0m\u001b[0mparse\u001b[0m\u001b[0;34m(\u001b[0m\u001b[0mp\u001b[0m\u001b[0;34m,\u001b[0m \u001b[0mflags\u001b[0m\u001b[0;34m)\u001b[0m\u001b[0;34m\u001b[0m\u001b[0m\n\u001b[0m\u001b[1;32m    765\u001b[0m     \u001b[0;32melse\u001b[0m\u001b[0;34m:\u001b[0m\u001b[0;34m\u001b[0m\u001b[0m\n\u001b[1;32m    766\u001b[0m         \u001b[0mpattern\u001b[0m \u001b[0;34m=\u001b[0m \u001b[0;32mNone\u001b[0m\u001b[0;34m\u001b[0m\u001b[0m\n",
      "\u001b[0;32m~/anaconda3/lib/python3.7/sre_parse.py\u001b[0m in \u001b[0;36mparse\u001b[0;34m(str, flags, pattern)\u001b[0m\n\u001b[1;32m    928\u001b[0m \u001b[0;34m\u001b[0m\u001b[0m\n\u001b[1;32m    929\u001b[0m     \u001b[0;32mtry\u001b[0m\u001b[0;34m:\u001b[0m\u001b[0;34m\u001b[0m\u001b[0m\n\u001b[0;32m--> 930\u001b[0;31m         \u001b[0mp\u001b[0m \u001b[0;34m=\u001b[0m \u001b[0m_parse_sub\u001b[0m\u001b[0;34m(\u001b[0m\u001b[0msource\u001b[0m\u001b[0;34m,\u001b[0m \u001b[0mpattern\u001b[0m\u001b[0;34m,\u001b[0m \u001b[0mflags\u001b[0m \u001b[0;34m&\u001b[0m \u001b[0mSRE_FLAG_VERBOSE\u001b[0m\u001b[0;34m,\u001b[0m \u001b[0;36m0\u001b[0m\u001b[0;34m)\u001b[0m\u001b[0;34m\u001b[0m\u001b[0m\n\u001b[0m\u001b[1;32m    931\u001b[0m     \u001b[0;32mexcept\u001b[0m \u001b[0mVerbose\u001b[0m\u001b[0;34m:\u001b[0m\u001b[0;34m\u001b[0m\u001b[0m\n\u001b[1;32m    932\u001b[0m         \u001b[0;31m# the VERBOSE flag was switched on inside the pattern.  to be\u001b[0m\u001b[0;34m\u001b[0m\u001b[0;34m\u001b[0m\u001b[0m\n",
      "\u001b[0;32m~/anaconda3/lib/python3.7/sre_parse.py\u001b[0m in \u001b[0;36m_parse_sub\u001b[0;34m(source, state, verbose, nested)\u001b[0m\n\u001b[1;32m    424\u001b[0m     \u001b[0;32mwhile\u001b[0m \u001b[0;32mTrue\u001b[0m\u001b[0;34m:\u001b[0m\u001b[0;34m\u001b[0m\u001b[0m\n\u001b[1;32m    425\u001b[0m         itemsappend(_parse(source, state, verbose, nested + 1,\n\u001b[0;32m--> 426\u001b[0;31m                            not nested and not items))\n\u001b[0m\u001b[1;32m    427\u001b[0m         \u001b[0;32mif\u001b[0m \u001b[0;32mnot\u001b[0m \u001b[0msourcematch\u001b[0m\u001b[0;34m(\u001b[0m\u001b[0;34m\"|\"\u001b[0m\u001b[0;34m)\u001b[0m\u001b[0;34m:\u001b[0m\u001b[0;34m\u001b[0m\u001b[0m\n\u001b[1;32m    428\u001b[0m             \u001b[0;32mbreak\u001b[0m\u001b[0;34m\u001b[0m\u001b[0m\n",
      "\u001b[0;32m~/anaconda3/lib/python3.7/sre_parse.py\u001b[0m in \u001b[0;36m_parse\u001b[0;34m(source, state, verbose, nested, first)\u001b[0m\n\u001b[1;32m    578\u001b[0m                     \u001b[0;32mif\u001b[0m \u001b[0mhi\u001b[0m \u001b[0;34m<\u001b[0m \u001b[0mlo\u001b[0m\u001b[0;34m:\u001b[0m\u001b[0;34m\u001b[0m\u001b[0m\n\u001b[1;32m    579\u001b[0m                         \u001b[0mmsg\u001b[0m \u001b[0;34m=\u001b[0m \u001b[0;34m\"bad character range %s-%s\"\u001b[0m \u001b[0;34m%\u001b[0m \u001b[0;34m(\u001b[0m\u001b[0mthis\u001b[0m\u001b[0;34m,\u001b[0m \u001b[0mthat\u001b[0m\u001b[0;34m)\u001b[0m\u001b[0;34m\u001b[0m\u001b[0m\n\u001b[0;32m--> 580\u001b[0;31m                         \u001b[0;32mraise\u001b[0m \u001b[0msource\u001b[0m\u001b[0;34m.\u001b[0m\u001b[0merror\u001b[0m\u001b[0;34m(\u001b[0m\u001b[0mmsg\u001b[0m\u001b[0;34m,\u001b[0m \u001b[0mlen\u001b[0m\u001b[0;34m(\u001b[0m\u001b[0mthis\u001b[0m\u001b[0;34m)\u001b[0m \u001b[0;34m+\u001b[0m \u001b[0;36m1\u001b[0m \u001b[0;34m+\u001b[0m \u001b[0mlen\u001b[0m\u001b[0;34m(\u001b[0m\u001b[0mthat\u001b[0m\u001b[0;34m)\u001b[0m\u001b[0;34m)\u001b[0m\u001b[0;34m\u001b[0m\u001b[0m\n\u001b[0m\u001b[1;32m    581\u001b[0m                     \u001b[0msetappend\u001b[0m\u001b[0;34m(\u001b[0m\u001b[0;34m(\u001b[0m\u001b[0mRANGE\u001b[0m\u001b[0;34m,\u001b[0m \u001b[0;34m(\u001b[0m\u001b[0mlo\u001b[0m\u001b[0;34m,\u001b[0m \u001b[0mhi\u001b[0m\u001b[0;34m)\u001b[0m\u001b[0;34m)\u001b[0m\u001b[0;34m)\u001b[0m\u001b[0;34m\u001b[0m\u001b[0m\n\u001b[1;32m    582\u001b[0m                 \u001b[0;32melse\u001b[0m\u001b[0;34m:\u001b[0m\u001b[0;34m\u001b[0m\u001b[0m\n",
      "\u001b[0;31merror\u001b[0m: bad character range _-. at position 7"
     ]
    }
   ],
   "source": [
    "s=\"\"\"1,Jayaram,9676622023,Jay123@gmail.com\n",
    "SAi,2,9676622024,Sailakshmi23@yahoo.co.in\n",
    "9676622025,3,Vedha,Vedhanvesh@gmail.com\n",
    "sambapython@rediff.com,4,sAmbB,9676622026,123456789101112\"\"\"\n",
    "# sambapython@gmail.com\n",
    "\"\"\"\n",
    "username:[a-z0-9_-.]+\n",
    "@: @\n",
    "host: [a-z]+\n",
    ".:\\.\n",
    "extension:[.a-z]+\n",
    "\"\"\"\n",
    "import re\n",
    "exp = \"[a-z0-9_-.]+@[a-z]+\\.[.a-z]+\"\n",
    "print(re.findall(exp,s,re.I))\n"
   ]
  },
  {
   "cell_type": "code",
   "execution_count": 53,
   "metadata": {},
   "outputs": [
    {
     "name": "stdout",
     "output_type": "stream",
     "text": [
      "['Jay123@gmail.com', 'Sailakshmi23@yahoo.co.in', 'Vedhanvesh@gmail.com', 'sambapython@rediff.com']\n"
     ]
    }
   ],
   "source": [
    "s=\"\"\"1,Jayaram,9676622023,Jay123@gmail.com\n",
    "SAi,2,9676622024,Sailakshmi23@yahoo.co.in\n",
    "9676622025,3,Vedha,Vedhanvesh@gmail.com\n",
    "sambapython@rediff.com,4,sAmbB,9676622026,123456789101112\"\"\"\n",
    "# sambapython@gmail.com\n",
    "\"\"\"\n",
    "username:[a-z0-9_.-]+\n",
    "@: @\n",
    "host: [a-z]+\n",
    ".:\\.\n",
    "extension:[.a-z]+\n",
    "\"\"\"\n",
    "import re\n",
    "exp = \"[a-z0-9_.-]+@[a-z]+\\.[.a-z]+\"\n",
    "print(re.findall(exp,s,re.I))\n"
   ]
  },
  {
   "cell_type": "code",
   "execution_count": 54,
   "metadata": {},
   "outputs": [
    {
     "name": "stdout",
     "output_type": "stream",
     "text": [
      "['Jay123@gmail.com', 'Sailakshmi23@yahoo.co.in', 'Vedhanvesh@gmail.com', 'sambapython@rediff.com']\n"
     ]
    }
   ],
   "source": [
    "s=\"\"\"1,Jayaram,9676622023,Jay123@gmail.com\n",
    "SAi,2,9676622024,Sailakshmi23@yahoo.co.in\n",
    "9676622025,3,Vedha,Vedhanvesh@gmail.com\n",
    "sambapython@rediff.com,4,sAmbB,9676622026,123456789101112\"\"\"\n",
    "# sambapython@gmail.com\n",
    "\"\"\"\n",
    "username:[a-z0-9_.-]+\n",
    "@: @\n",
    "host: [a-z]+\n",
    ".:\\.\n",
    "extension:[.a-z]+\n",
    "\"\"\"\n",
    "import re\n",
    "exp = \"\\w+@[a-z]+\\.[.a-z]+\"\n",
    "print(re.findall(exp,s,re.I))\n"
   ]
  },
  {
   "cell_type": "code",
   "execution_count": 55,
   "metadata": {},
   "outputs": [
    {
     "name": "stdout",
     "output_type": "stream",
     "text": [
      "<callable_iterator object at 0x7fe53cfd2358>\n"
     ]
    }
   ],
   "source": [
    "s=\"\"\"1,Jayaram,9676622023,Jay123@gmail.com\n",
    "SAi,2,9676622024,Sailakshmi23@yahoo.co.in\n",
    "9676622025,3,Vedha,Vedhanvesh@gmail.com\n",
    "sambapython@rediff.com,4,sAmbB,9676622026,123456789101112\"\"\"\n",
    "# sambapython@gmail.com\n",
    "\"\"\"\n",
    "username:[a-z0-9_.-]+\n",
    "@: @\n",
    "host: [a-z]+\n",
    ".:\\.\n",
    "extension:[.a-z]+\n",
    "\"\"\"\n",
    "import re\n",
    "exp = \"\\w+@[a-z]+\\.[.a-z]+\"\n",
    "print(re.finditer(exp,s,re.I))\n"
   ]
  },
  {
   "cell_type": "code",
   "execution_count": 56,
   "metadata": {},
   "outputs": [
    {
     "name": "stdout",
     "output_type": "stream",
     "text": [
      "<re.Match object; span=(21, 37), match='Jay123@gmail.com'>\n",
      "<re.Match object; span=(55, 79), match='Sailakshmi23@yahoo.co.in'>\n",
      "<re.Match object; span=(99, 119), match='Vedhanvesh@gmail.com'>\n",
      "<re.Match object; span=(120, 142), match='sambapython@rediff.com'>\n"
     ]
    }
   ],
   "source": [
    "s=\"\"\"1,Jayaram,9676622023,Jay123@gmail.com\n",
    "SAi,2,9676622024,Sailakshmi23@yahoo.co.in\n",
    "9676622025,3,Vedha,Vedhanvesh@gmail.com\n",
    "sambapython@rediff.com,4,sAmbB,9676622026,123456789101112\"\"\"\n",
    "# sambapython@gmail.com\n",
    "\"\"\"\n",
    "username:[a-z0-9_.-]+\n",
    "@: @\n",
    "host: [a-z]+\n",
    ".:\\.\n",
    "extension:[.a-z]+\n",
    "\"\"\"\n",
    "import re\n",
    "exp = \"\\w+@[a-z]+\\.[.a-z]+\"\n",
    "emails = re.finditer(exp,s,re.I)\n",
    "for email in emails:\n",
    "    print(email)\n"
   ]
  },
  {
   "cell_type": "code",
   "execution_count": 59,
   "metadata": {},
   "outputs": [
    {
     "name": "stdout",
     "output_type": "stream",
     "text": [
      "Jay123@gmail.com\n",
      "Sailakshmi23@yahoo.co.in\n",
      "Vedhanvesh@gmail.com\n",
      "sambapython@rediff.com\n"
     ]
    }
   ],
   "source": [
    "s=\"\"\"1,Jayaram,9676622023,Jay123@gmail.com\n",
    "SAi,2,9676622024,Sailakshmi23@yahoo.co.in\n",
    "9676622025,3,Vedha,Vedhanvesh@gmail.com\n",
    "sambapython@rediff.com,4,sAmbB,9676622026,123456789101112\"\"\"\n",
    "# sambapython@gmail.com\n",
    "\"\"\"\n",
    "username:[a-z0-9_.-]+\n",
    "@: @\n",
    "host: [a-z]+\n",
    ".:\\.\n",
    "extension:[.a-z]+\n",
    "\"\"\"\n",
    "import re\n",
    "exp = \"\\w+@[a-z]+\\.[.a-z]+\"\n",
    "emails = re.finditer(exp,s,re.I)\n",
    "for email in emails:\n",
    "    print(email.group(0))\n"
   ]
  },
  {
   "cell_type": "code",
   "execution_count": 60,
   "metadata": {},
   "outputs": [
    {
     "name": "stdout",
     "output_type": "stream",
     "text": [
      "<re.Match object; span=(21, 37), match='Jay123@gmail.com'>\n"
     ]
    }
   ],
   "source": [
    "s=\"\"\"1,Jayaram,9676622023,Jay123@gmail.com\n",
    "SAi,2,9676622024,Sailakshmi23@yahoo.co.in\n",
    "9676622025,3,Vedha,Vedhanvesh@gmail.com\n",
    "sambapython@rediff.com,4,sAmbB,9676622026,123456789101112\"\"\"\n",
    "# sambapython@gmail.com\n",
    "\"\"\"\n",
    "username:[a-z0-9_.-]+\n",
    "@: @\n",
    "host: [a-z]+\n",
    ".:\\.\n",
    "extension:[.a-z]+\n",
    "\"\"\"\n",
    "import re\n",
    "exp = \"\\w+@[a-z]+\\.[.a-z]+\"\n",
    "print(re.search(exp,s,re.I))\n"
   ]
  },
  {
   "cell_type": "code",
   "execution_count": 61,
   "metadata": {},
   "outputs": [
    {
     "name": "stdout",
     "output_type": "stream",
     "text": [
      "None\n"
     ]
    }
   ],
   "source": [
    "s=\"\"\"1,Jayaram,9676622023,Jay123@gmail.com\n",
    "SAi,2,9676622024,Sailakshmi23@yahoo.co.in\n",
    "9676622025,3,Vedha,Vedhanvesh@gmail.com\n",
    "sambapython@rediff.com,4,sAmbB,9676622026,123456789101112\"\"\"\n",
    "# sambapython@gmail.com\n",
    "\"\"\"\n",
    "username:[a-z0-9_.-]+\n",
    "@: @\n",
    "host: [a-z]+\n",
    ".:\\.\n",
    "extension:[.a-z]+\n",
    "\"\"\"\n",
    "import re\n",
    "exp = \"^\\w+@[a-z]+\\.[.a-z]+\"\n",
    "print(re.search(exp,s,re.I))\n"
   ]
  },
  {
   "cell_type": "code",
   "execution_count": 62,
   "metadata": {},
   "outputs": [
    {
     "name": "stdout",
     "output_type": "stream",
     "text": [
      "None\n"
     ]
    }
   ],
   "source": [
    "s=\"\"\"1,Jayaram,9676622023,Jay123@gmail.com\n",
    "SAi,2,9676622024,Sailakshmi23@yahoo.co.in\n",
    "9676622025,3,Vedha,Vedhanvesh@gmail.com\n",
    "sambapython@rediff.com,4,sAmbB,9676622026,123456789101112\"\"\"\n",
    "# sambapython@gmail.com\n",
    "\"\"\"\n",
    "username:[a-z0-9_.-]+\n",
    "@: @\n",
    "host: [a-z]+\n",
    ".:\\.\n",
    "extension:[.a-z]+\n",
    "\"\"\"\n",
    "import re\n",
    "exp = \"\\w+@[a-z]+\\.[.a-z]+\"\n",
    "print(re.match(exp,s,re.I))\n"
   ]
  },
  {
   "cell_type": "code",
   "execution_count": 63,
   "metadata": {},
   "outputs": [
    {
     "name": "stdout",
     "output_type": "stream",
     "text": [
      "None\n"
     ]
    }
   ],
   "source": [
    "s=\"\"\"1,Jayaram,9676622023,Jay123@gmail.com\n",
    "SAi,2,9676622024,Sailakshmi23@yahoo.co.in\n",
    "9676622025,3,Vedha,Vedhanvesh@gmail.com\n",
    "sambapython@rediff.com,4,sAmbB,9676622026,123456789101112\"\"\"\n",
    "# sambapython@gmail.com\n",
    "\"\"\"\n",
    "username:[a-z0-9_.-]+\n",
    "@: @\n",
    "host: [a-z]+\n",
    ".:\\.\n",
    "extension:[.a-z]+\n",
    "\"\"\"\n",
    "import re\n",
    "exp = \"\\w+@[a-z]+\\.[.a-z]+\"\n",
    "print(re.match(exp,s,re.M))\n"
   ]
  },
  {
   "cell_type": "code",
   "execution_count": null,
   "metadata": {},
   "outputs": [],
   "source": []
  }
 ],
 "metadata": {
  "kernelspec": {
   "display_name": "Python 3",
   "language": "python",
   "name": "python3"
  },
  "language_info": {
   "codemirror_mode": {
    "name": "ipython",
    "version": 3
   },
   "file_extension": ".py",
   "mimetype": "text/x-python",
   "name": "python",
   "nbconvert_exporter": "python",
   "pygments_lexer": "ipython3",
   "version": "3.7.0"
  }
 },
 "nbformat": 4,
 "nbformat_minor": 2
}
