{
 "cells": [
  {
   "cell_type": "code",
   "execution_count": 1,
   "metadata": {},
   "outputs": [
    {
     "name": "stdout",
     "output_type": "stream",
     "text": [
      "this is class\n"
     ]
    }
   ],
   "source": [
    "def fun():\n",
    "    print(\"this is fun\")\n",
    "class Emp:\n",
    "    print(\"this is class\")\n"
   ]
  },
  {
   "cell_type": "code",
   "execution_count": 2,
   "metadata": {},
   "outputs": [
    {
     "name": "stdout",
     "output_type": "stream",
     "text": [
      "this is class\n"
     ]
    }
   ],
   "source": [
    "class Emp:\n",
    "    print(\"this is class\")\n",
    "    def fun(a):\n",
    "        print(\"this is fun in class Emp\")\n"
   ]
  },
  {
   "cell_type": "code",
   "execution_count": 3,
   "metadata": {},
   "outputs": [
    {
     "name": "stdout",
     "output_type": "stream",
     "text": [
      "this is class\n",
      "KHYAATHI\n",
      "this is fun in class Emp\n"
     ]
    }
   ],
   "source": [
    "class Emp:\n",
    "    print(\"this is class\")\n",
    "    company_name=\"KHYAATHI\"\n",
    "    def fun(a):\n",
    "        print(\"this is fun in class Emp\")\n",
    "    print(company_name)\n",
    "    fun(20)\n"
   ]
  },
  {
   "cell_type": "code",
   "execution_count": 4,
   "metadata": {},
   "outputs": [
    {
     "name": "stdout",
     "output_type": "stream",
     "text": [
      "this is class\n"
     ]
    },
    {
     "ename": "NameError",
     "evalue": "name 'company_name' is not defined",
     "output_type": "error",
     "traceback": [
      "\u001b[0;31m---------------------------------------------------------------------------\u001b[0m",
      "\u001b[0;31mNameError\u001b[0m                                 Traceback (most recent call last)",
      "\u001b[0;32m<ipython-input-4-e02ae3160825>\u001b[0m in \u001b[0;36m<module>\u001b[0;34m()\u001b[0m\n\u001b[1;32m      4\u001b[0m     \u001b[0;32mdef\u001b[0m \u001b[0msal_cal\u001b[0m\u001b[0;34m(\u001b[0m\u001b[0ma\u001b[0m\u001b[0;34m)\u001b[0m\u001b[0;34m:\u001b[0m\u001b[0;34m\u001b[0m\u001b[0m\n\u001b[1;32m      5\u001b[0m         \u001b[0mprint\u001b[0m\u001b[0;34m(\u001b[0m\u001b[0;34m\"this is fun in class Emp\"\u001b[0m\u001b[0;34m)\u001b[0m\u001b[0;34m\u001b[0m\u001b[0m\n\u001b[0;32m----> 6\u001b[0;31m \u001b[0mprint\u001b[0m\u001b[0;34m(\u001b[0m\u001b[0mcompany_name\u001b[0m\u001b[0;34m)\u001b[0m\u001b[0;34m\u001b[0m\u001b[0m\n\u001b[0m\u001b[1;32m      7\u001b[0m \u001b[0msal_cal\u001b[0m\u001b[0;34m(\u001b[0m\u001b[0;36m20\u001b[0m\u001b[0;34m)\u001b[0m\u001b[0;34m\u001b[0m\u001b[0m\n",
      "\u001b[0;31mNameError\u001b[0m: name 'company_name' is not defined"
     ]
    }
   ],
   "source": [
    "class Emp:\n",
    "    print(\"this is class\")\n",
    "    company_name=\"KHYAATHI\"\n",
    "    def sal_cal(a):\n",
    "        print(\"this is fun in class Emp\")\n",
    "print(company_name)\n",
    "sal_cal(20)\n"
   ]
  },
  {
   "cell_type": "code",
   "execution_count": 5,
   "metadata": {},
   "outputs": [
    {
     "name": "stdout",
     "output_type": "stream",
     "text": [
      "this is class\n",
      "KHYAATHI\n",
      "this is fun in class Emp\n"
     ]
    }
   ],
   "source": [
    "class Emp:\n",
    "    print(\"this is class\")\n",
    "    company_name=\"KHYAATHI\" # attribute\n",
    "    def sal_cal(a): # method or operation\n",
    "        print(\"this is fun in class Emp\")\n",
    "print(Emp.company_name)\n",
    "Emp.sal_cal(20)\n"
   ]
  },
  {
   "cell_type": "code",
   "execution_count": 6,
   "metadata": {},
   "outputs": [
    {
     "name": "stdout",
     "output_type": "stream",
     "text": [
      "this is class\n",
      "KHYAATHI\n",
      "this is fun in class Emp\n"
     ]
    }
   ],
   "source": [
    "class Emp:\n",
    "    print(\"this is class\")\n",
    "    company_name=\"KHYAATHI\" # attribute\n",
    "    def sal_cal(a): # method or operation\n",
    "        print(\"this is fun in class Emp\")\n",
    "print(Emp.company_name)\n",
    "jay = Emp() # instance creation, jay is an instance, Emp() is data object, Emp is a class object\n",
    "Emp.sal_cal(jay)\n"
   ]
  },
  {
   "cell_type": "code",
   "execution_count": 7,
   "metadata": {},
   "outputs": [
    {
     "name": "stdout",
     "output_type": "stream",
     "text": [
      "this is class\n",
      "KHYAATHI\n",
      "Jayaram 40000\n"
     ]
    }
   ],
   "source": [
    "class Emp:\n",
    "    print(\"this is class\")\n",
    "    company_name=\"KHYAATHI\" # attribute\n",
    "    def sal_cal(a): # method or operation\n",
    "        print(\"this is fun in class Emp\")\n",
    "print(Emp.company_name)\n",
    "jay = Emp() # instance creation, jay is an instance, Emp() is data object, Emp is a class object\n",
    "vedha=Emp()\n",
    "sai=Emp()\n",
    "jay.name=\"Jayaram\"\n",
    "vedha.name=\"Vedhanvesh\"\n",
    "sai.name=\"Sailaxmi\"\n",
    "sai.sal=50000\n",
    "jay.sal=40000\n",
    "vedha.sal=30000\n",
    "print(jay.name,jay.sal)"
   ]
  },
  {
   "cell_type": "code",
   "execution_count": 8,
   "metadata": {},
   "outputs": [
    {
     "name": "stdout",
     "output_type": "stream",
     "text": [
      "this is class\n",
      "KHYAATHI\n",
      "calculation sal of Vedhanvesh\n",
      "33000.0\n"
     ]
    }
   ],
   "source": [
    "class Emp:\n",
    "    print(\"this is class\")\n",
    "    company_name=\"KHYAATHI\" # attribute\n",
    "    def sal_cal(a): # method or operation\n",
    "        print(\"calculation sal of %s\"%a.name)\n",
    "        res=a.sal+a.sal*0.1\n",
    "        print(res)\n",
    "print(Emp.company_name)\n",
    "jay = Emp() # instance creation, jay is an instance, Emp() is data object, Emp is a class object\n",
    "vedha=Emp()\n",
    "sai=Emp()\n",
    "jay.name=\"Jayaram\"\n",
    "vedha.name=\"Vedhanvesh\"\n",
    "sai.name=\"Sailaxmi\"\n",
    "sai.sal=50000\n",
    "jay.sal=40000\n",
    "vedha.sal=30000\n",
    "Emp.sal_cal(vedha)"
   ]
  },
  {
   "cell_type": "code",
   "execution_count": 10,
   "metadata": {},
   "outputs": [
    {
     "name": "stdout",
     "output_type": "stream",
     "text": [
      "calculation sal of Vedhanvesh\n",
      "33000.0\n",
      "calculation sal of Sailaxmi\n",
      "55000.0\n",
      "calculation sal of Jayaram\n",
      "44000.0\n"
     ]
    }
   ],
   "source": [
    "class Emp:\n",
    "    company_name=\"KHYAATHI\" # attribute\n",
    "    def sal_cal(a): # method or operation\n",
    "        print(\"calculation sal of %s\"%a.name)\n",
    "        res=a.sal+a.sal*0.1\n",
    "        print(res)\n",
    "jay = Emp() # instance creation, jay is an instance, Emp() is data object, Emp is a reference class object\n",
    "vedha=Emp()\n",
    "sai=Emp()\n",
    "jay.name=\"Jayaram\"\n",
    "vedha.name=\"Vedhanvesh\"\n",
    "sai.name=\"Sailaxmi\"\n",
    "sai.sal=50000\n",
    "jay.sal=40000\n",
    "vedha.sal=30000\n",
    "Emp.sal_cal(vedha)\n",
    "Emp.sal_cal(sai)\n",
    "Emp.sal_cal(jay)"
   ]
  },
  {
   "cell_type": "code",
   "execution_count": 12,
   "metadata": {},
   "outputs": [
    {
     "name": "stdout",
     "output_type": "stream",
     "text": [
      "KHYAATHI\n",
      "KHYAATHI\n",
      "KHYAATHI\n"
     ]
    }
   ],
   "source": [
    "class Emp:\n",
    "    company_name=\"KHYAATHI\" # attribute\n",
    "    def sal_cal(a): # method or operation\n",
    "        print(\"calculation sal of %s\"%a.name)\n",
    "        res=a.sal+a.sal*0.1\n",
    "        print(res)\n",
    "jay = Emp() # instance creation, jay is an instance, Emp() is data object, Emp is a reference class object\n",
    "vedha=Emp()\n",
    "sai=Emp()\n",
    "jay.name=\"Jayaram\"\n",
    "vedha.name=\"Vedhanvesh\"\n",
    "sai.name=\"Sailaxmi\"\n",
    "sai.sal=50000\n",
    "jay.sal=40000\n",
    "vedha.sal=30000\n",
    "print(jay.company_name)\n",
    "print(vedha.company_name)\n",
    "print(sai.company_name)\n",
    "    "
   ]
  },
  {
   "cell_type": "code",
   "execution_count": 13,
   "metadata": {},
   "outputs": [
    {
     "name": "stdout",
     "output_type": "stream",
     "text": [
      "KHYAATHI\n",
      "KHYAATHI\n",
      "KHYAATHI\n"
     ]
    },
    {
     "ename": "AttributeError",
     "evalue": "type object 'Emp' has no attribute 'name'",
     "output_type": "error",
     "traceback": [
      "\u001b[0;31m---------------------------------------------------------------------------\u001b[0m",
      "\u001b[0;31mAttributeError\u001b[0m                            Traceback (most recent call last)",
      "\u001b[0;32m<ipython-input-13-6b5601097c51>\u001b[0m in \u001b[0;36m<module>\u001b[0;34m()\u001b[0m\n\u001b[1;32m     17\u001b[0m \u001b[0mprint\u001b[0m\u001b[0;34m(\u001b[0m\u001b[0mvedha\u001b[0m\u001b[0;34m.\u001b[0m\u001b[0mcompany_name\u001b[0m\u001b[0;34m)\u001b[0m\u001b[0;34m\u001b[0m\u001b[0m\n\u001b[1;32m     18\u001b[0m \u001b[0mprint\u001b[0m\u001b[0;34m(\u001b[0m\u001b[0msai\u001b[0m\u001b[0;34m.\u001b[0m\u001b[0mcompany_name\u001b[0m\u001b[0;34m)\u001b[0m\u001b[0;34m\u001b[0m\u001b[0m\n\u001b[0;32m---> 19\u001b[0;31m \u001b[0mprint\u001b[0m\u001b[0;34m(\u001b[0m\u001b[0mEmp\u001b[0m\u001b[0;34m.\u001b[0m\u001b[0mname\u001b[0m\u001b[0;34m)\u001b[0m\u001b[0;34m\u001b[0m\u001b[0m\n\u001b[0m",
      "\u001b[0;31mAttributeError\u001b[0m: type object 'Emp' has no attribute 'name'"
     ]
    }
   ],
   "source": [
    "class Emp:\n",
    "    company_name=\"KHYAATHI\" # attribute\n",
    "    def sal_cal(a): # method or operation\n",
    "        print(\"calculation sal of %s\"%a.name)\n",
    "        res=a.sal+a.sal*0.1\n",
    "        print(res)\n",
    "jay = Emp() # instance creation, jay is an instance, Emp() is data object, Emp is a reference class object\n",
    "vedha=Emp()\n",
    "sai=Emp()\n",
    "jay.name=\"Jayaram\"\n",
    "vedha.name=\"Vedhanvesh\"\n",
    "sai.name=\"Sailaxmi\"\n",
    "sai.sal=50000\n",
    "jay.sal=40000\n",
    "vedha.sal=30000\n",
    "print(jay.company_name)\n",
    "print(vedha.company_name)\n",
    "print(sai.company_name)\n",
    "print(Emp.name)"
   ]
  },
  {
   "cell_type": "code",
   "execution_count": 14,
   "metadata": {},
   "outputs": [
    {
     "name": "stdout",
     "output_type": "stream",
     "text": [
      "KHYAATHI\n",
      "KHYAATHI\n",
      "KHYAATHI\n",
      "calculation sal of Jayaram\n",
      "44000.0\n"
     ]
    }
   ],
   "source": [
    "class Emp:\n",
    "    company_name=\"KHYAATHI\" # attribute\n",
    "    def sal_cal(a): # method or operation\n",
    "        print(\"calculation sal of %s\"%a.name)\n",
    "        res=a.sal+a.sal*0.1\n",
    "        print(res)\n",
    "        \n",
    "jay = Emp() # instance creation, jay is an instance, Emp() is data object, Emp is a reference class object\n",
    "vedha=Emp()\n",
    "sai=Emp()\n",
    "jay.name=\"Jayaram\"\n",
    "vedha.name=\"Vedhanvesh\"\n",
    "sai.name=\"Sailaxmi\"\n",
    "sai.sal=50000\n",
    "jay.sal=40000\n",
    "vedha.sal=30000\n",
    "jay.dept=\"HR\"\n",
    "\n",
    "print(jay.company_name)\n",
    "print(vedha.company_name)\n",
    "print(sai.company_name)\n",
    "jay.sal_cal()"
   ]
  },
  {
   "cell_type": "code",
   "execution_count": 16,
   "metadata": {},
   "outputs": [
    {
     "name": "stdout",
     "output_type": "stream",
     "text": [
      "calculation sal of Jayaram\n",
      "44000.0\n",
      "calculation sal of Vedhanvesh\n",
      "33000.0\n",
      "calculation sal of Sailaxmi\n",
      "55000.0\n"
     ]
    }
   ],
   "source": [
    "class Emp:\n",
    "    company_name=\"KHYAATHI\" # attribute\n",
    "    def sal_cal(a): # method or operation\n",
    "        print(\"calculation sal of %s\"%a.name)\n",
    "        res=a.sal+a.sal*0.1\n",
    "        print(res)\n",
    "        \n",
    "jay = Emp() # instance creation, jay is an instance, Emp() is data object, Emp is a reference class object\n",
    "vedha=Emp()\n",
    "sai=Emp()\n",
    "jay.name=\"Jayaram\"\n",
    "vedha.name=\"Vedhanvesh\"\n",
    "sai.name=\"Sailaxmi\"\n",
    "sai.sal=50000\n",
    "jay.sal=40000\n",
    "vedha.sal=30000\n",
    "jay.dept=\"HR\"\n",
    "\n",
    "jay.sal_cal()\n",
    "vedha.sal_cal()\n",
    "sai.sal_cal()"
   ]
  },
  {
   "cell_type": "code",
   "execution_count": 18,
   "metadata": {},
   "outputs": [
    {
     "name": "stdout",
     "output_type": "stream",
     "text": [
      "calculation sal of Vedhanvesh\n",
      "33000.0\n"
     ]
    }
   ],
   "source": [
    "class Emp:\n",
    "    company_name=\"KHYAATHI\" # attribute\n",
    "    def sal_cal(a): # method or operation\n",
    "        print(\"calculation sal of %s\"%a.name)\n",
    "        res=a.sal+a.sal*0.1\n",
    "        print(res)\n",
    "        \n",
    "jay = Emp() # instance creation, jay is an instance, Emp() is data object, Emp is a reference class object\n",
    "vedha=Emp()\n",
    "sai=Emp()\n",
    "jay.name=\"Jayaram\"\n",
    "vedha.name=\"Vedhanvesh\"\n",
    "sai.name=\"Sailaxmi\"\n",
    "sai.sal=50000\n",
    "jay.sal=40000\n",
    "vedha.sal=30000\n",
    "jay.dept=\"HR\"\n",
    "Emp.sal_cal(vedha)\n",
    "#jay.sal_cal()\n",
    "#vedha.sal_cal()\n",
    "#sai.sal_cal()"
   ]
  },
  {
   "cell_type": "code",
   "execution_count": 19,
   "metadata": {},
   "outputs": [
    {
     "name": "stdout",
     "output_type": "stream",
     "text": [
      "calculation sal of Vedhanvesh\n",
      "33000.0\n"
     ]
    }
   ],
   "source": [
    "class Emp:\n",
    "    company_name=\"KHYAATHI\" # attribute\n",
    "    def sal_cal(a): # method or operation\n",
    "        print(\"calculation sal of %s\"%a.name)\n",
    "        res=a.sal+a.sal*0.1\n",
    "        print(res)\n",
    "        \n",
    "jay = Emp() # instance creation, jay is an instance, Emp() is data object, Emp is a reference class object\n",
    "vedha=Emp()\n",
    "sai=Emp()\n",
    "jay.name=\"Jayaram\"\n",
    "vedha.name=\"Vedhanvesh\"\n",
    "sai.name=\"Sailaxmi\"\n",
    "sai.sal=50000\n",
    "jay.sal=40000\n",
    "vedha.sal=30000\n",
    "jay.dept=\"HR\"\n",
    "vedha.sal_cal()\n",
    "#Emp.sal_cal(vedha)\n",
    "#jay.sal_cal()\n",
    "#vedha.sal_cal()\n",
    "#sai.sal_cal()"
   ]
  },
  {
   "cell_type": "code",
   "execution_count": 20,
   "metadata": {},
   "outputs": [
    {
     "name": "stdout",
     "output_type": "stream",
     "text": [
      "calculation sal of Vedhanvesh\n",
      "33000.0\n",
      "calculation sal of Jayaram\n",
      "44000.0\n",
      "calculation sal of Sailaxmi\n",
      "55000.0\n"
     ]
    }
   ],
   "source": [
    "class Emp:\n",
    "    company_name=\"KHYAATHI\" # attribute\n",
    "    def sal_cal(a): # method or operation\n",
    "        print(\"calculation sal of %s\"%a.name)\n",
    "        res=a.sal+a.sal*0.1\n",
    "        print(res)\n",
    "        \n",
    "jay = Emp() # instance creation, jay is an instance, Emp() is data object, Emp is a reference class object\n",
    "vedha=Emp()\n",
    "sai=Emp()\n",
    "jay.name=\"Jayaram\"\n",
    "vedha.name=\"Vedhanvesh\"\n",
    "sai.name=\"Sailaxmi\"\n",
    "sai.sal=50000\n",
    "jay.sal=40000\n",
    "vedha.sal=30000\n",
    "jay.dept=\"HR\"\n",
    "vedha.sal_cal()\n",
    "jay.sal_cal()\n",
    "sai.sal_cal()"
   ]
  },
  {
   "cell_type": "code",
   "execution_count": 22,
   "metadata": {},
   "outputs": [
    {
     "name": "stdout",
     "output_type": "stream",
     "text": [
      "calculation sal of Vedhanvesh\n",
      "33000.0\n",
      "calculation sal of Jayaram\n",
      "44000.0\n",
      "calculation sal of Sailaxmi\n",
      "55000.0\n"
     ]
    }
   ],
   "source": [
    "class Emp:\n",
    "    company_name=\"KHYAATHI\" # attribute\n",
    "    def sal_cal(self): # method or operation\n",
    "        print(\"calculation sal of %s\"%self.name)\n",
    "        res=self.sal+self.sal*0.1\n",
    "        print(res)\n",
    "        \n",
    "jay = Emp() # instance creation, jay is an instance, Emp() is data object, Emp is a reference class object\n",
    "vedha=Emp()\n",
    "sai=Emp()\n",
    "jay.name=\"Jayaram\"\n",
    "vedha.name=\"Vedhanvesh\"\n",
    "sai.name=\"Sailaxmi\"\n",
    "sai.sal=50000\n",
    "jay.sal=40000\n",
    "vedha.sal=30000\n",
    "jay.dept=\"HR\"\n",
    "vedha.sal_cal()\n",
    "# Emp.sal_cal(vedha)\n",
    "jay.sal_cal()\n",
    "#Emp.sal_cal(jay)\n",
    "sai.sal_cal()\n",
    "#Emp.sal_cal(sai)"
   ]
  },
  {
   "cell_type": "code",
   "execution_count": 23,
   "metadata": {},
   "outputs": [
    {
     "name": "stdout",
     "output_type": "stream",
     "text": [
      "calculation sal of Vedhanvesh\n",
      "33000.0\n",
      "calculation sal of Jayaram\n",
      "44000.0\n",
      "calculation sal of Sail laxmi\n",
      "55000.0\n"
     ]
    }
   ],
   "source": [
    "class Emp:\n",
    "    company_name=\"KHYAATHI\" # attribute\n",
    "    def set_data(self, e_name, e_sal):\n",
    "        self.name=e_name\n",
    "        self.sal=e_sal\n",
    "    def sal_cal(self): # method or operation\n",
    "        print(\"calculation sal of %s\"%self.name)\n",
    "        res=self.sal+self.sal*0.1\n",
    "        print(res)\n",
    "        \n",
    "jay = Emp() # instance creation, jay is an instance, Emp() is data object, Emp is a reference class object\n",
    "vedha=Emp()\n",
    "sai=Emp()\n",
    "#jay.name=\"Jayaram\"\n",
    "#jay.sal=40000\n",
    "jay.set_data(\"Jayaram\", 40000)\n",
    "#Emp.set_data(jay,\"Jayaram\", 40000)\n",
    "#vedha.name=\"Vedhanvesh\"\n",
    "#vedha.sal=30000\n",
    "vedha.set_data(\"Vedhanvesh\",30000)\n",
    "#sai.name=\"Sailaxmi\"\n",
    "#sai.sal=50000\n",
    "sai.set_data(\"Sail laxmi\",50000)\n",
    "vedha.sal_cal()\n",
    "jay.sal_cal()\n",
    "sai.sal_cal()\n"
   ]
  },
  {
   "cell_type": "code",
   "execution_count": 24,
   "metadata": {},
   "outputs": [
    {
     "name": "stdout",
     "output_type": "stream",
     "text": [
      "calculation sal of Vedhanvesh\n",
      "33000.0\n",
      "calculation sal of Jayaram\n",
      "44000.0\n",
      "calculation sal of Sail laxmi\n",
      "55000.0\n"
     ]
    }
   ],
   "source": [
    "class Emp:\n",
    "    company_name=\"KHYAATHI\" # attribute\n",
    "    def set_data(self, e_name, e_sal):\n",
    "        self.name=e_name\n",
    "        self.sal=e_sal\n",
    "    def sal_cal(self): # method or operation\n",
    "        print(\"calculation sal of %s\"%self.name)\n",
    "        res=self.sal+self.sal*0.1\n",
    "        print(res)\n",
    "        \n",
    "jay = Emp() # instance creation, jay is an instance, Emp() is data object, Emp is a reference class object\n",
    "vedha=Emp()\n",
    "sai=Emp()\n",
    "jay.set_data(\"Jayaram\", 40000)\n",
    "vedha.set_data(\"Vedhanvesh\",30000)\n",
    "sai.set_data(\"Sail laxmi\",50000)\n",
    "vedha.sal_cal()\n",
    "jay.sal_cal()\n",
    "sai.sal_cal()\n"
   ]
  },
  {
   "cell_type": "code",
   "execution_count": 25,
   "metadata": {},
   "outputs": [
    {
     "name": "stdout",
     "output_type": "stream",
     "text": [
      "('Jayaram', 40000, 'KHYAATHI')\n",
      "('Vedhanvesh', 30000, 'KHYAATHI')\n",
      "('Sail laxmi', 50000, 'KHYAATHI')\n"
     ]
    }
   ],
   "source": [
    "class Emp:\n",
    "    company_name=\"KHYAATHI\" # attribute\n",
    "    def set_data(self, e_name, e_sal):\n",
    "        self.name=e_name\n",
    "        self.sal=e_sal\n",
    "    def sal_cal(self): # method or operation\n",
    "        print(\"calculation sal of %s\"%self.name)\n",
    "        res=self.sal+self.sal*0.1\n",
    "        print(res)\n",
    "    def get(self):\n",
    "        return self.name, self.sal,self.company_name\n",
    "        \n",
    "jay = Emp() # instance creation, jay is an instance, Emp() is data object, Emp is a reference class object\n",
    "vedha=Emp()\n",
    "sai=Emp()\n",
    "jay.set_data(\"Jayaram\", 40000)\n",
    "vedha.set_data(\"Vedhanvesh\",30000)\n",
    "sai.set_data(\"Sail laxmi\",50000)\n",
    "print(jay.get())\n",
    "print(vedha.get())\n",
    "print(sai.get())\n"
   ]
  },
  {
   "cell_type": "code",
   "execution_count": 27,
   "metadata": {},
   "outputs": [
    {
     "name": "stdout",
     "output_type": "stream",
     "text": [
      "('Apple', 20)\n",
      "('Orange', 30)\n"
     ]
    }
   ],
   "source": [
    "class Product:\n",
    "    def set_data(self,p_name,p_cost):\n",
    "        self.name=p_name\n",
    "        self.cost=p_cost\n",
    "    def get(self):\n",
    "        return self.name,self.cost\n",
    "apple=Product()\n",
    "apple.set_data(\"Apple\",20)\n",
    "orange=Product()\n",
    "orange.set_data(\"Orange\",30)\n",
    "print(apple.get()) # Apple, 20\n",
    "print(orange.get()) # Orange, 30"
   ]
  },
  {
   "cell_type": "code",
   "execution_count": 28,
   "metadata": {},
   "outputs": [
    {
     "name": "stdout",
     "output_type": "stream",
     "text": [
      "('Apple', 20)\n",
      "('Orange', 30)\n"
     ]
    },
    {
     "ename": "AttributeError",
     "evalue": "'Product' object has no attribute 'name'",
     "output_type": "error",
     "traceback": [
      "\u001b[0;31m---------------------------------------------------------------------------\u001b[0m",
      "\u001b[0;31mAttributeError\u001b[0m                            Traceback (most recent call last)",
      "\u001b[0;32m<ipython-input-28-44390c2c5893>\u001b[0m in \u001b[0;36m<module>\u001b[0;34m()\u001b[0m\n\u001b[1;32m     12\u001b[0m \u001b[0mprint\u001b[0m\u001b[0;34m(\u001b[0m\u001b[0morange\u001b[0m\u001b[0;34m.\u001b[0m\u001b[0mget\u001b[0m\u001b[0;34m(\u001b[0m\u001b[0;34m)\u001b[0m\u001b[0;34m)\u001b[0m \u001b[0;31m# Orange, 30\u001b[0m\u001b[0;34m\u001b[0m\u001b[0m\n\u001b[1;32m     13\u001b[0m \u001b[0mmango\u001b[0m\u001b[0;34m=\u001b[0m\u001b[0mProduct\u001b[0m\u001b[0;34m(\u001b[0m\u001b[0;34m)\u001b[0m\u001b[0;34m\u001b[0m\u001b[0m\n\u001b[0;32m---> 14\u001b[0;31m \u001b[0mprint\u001b[0m\u001b[0;34m(\u001b[0m\u001b[0mmango\u001b[0m\u001b[0;34m.\u001b[0m\u001b[0mget\u001b[0m\u001b[0;34m(\u001b[0m\u001b[0;34m)\u001b[0m\u001b[0;34m)\u001b[0m\u001b[0;34m\u001b[0m\u001b[0m\n\u001b[0m",
      "\u001b[0;32m<ipython-input-28-44390c2c5893>\u001b[0m in \u001b[0;36mget\u001b[0;34m(self)\u001b[0m\n\u001b[1;32m      4\u001b[0m         \u001b[0mself\u001b[0m\u001b[0;34m.\u001b[0m\u001b[0mcost\u001b[0m\u001b[0;34m=\u001b[0m\u001b[0mp_cost\u001b[0m\u001b[0;34m\u001b[0m\u001b[0m\n\u001b[1;32m      5\u001b[0m     \u001b[0;32mdef\u001b[0m \u001b[0mget\u001b[0m\u001b[0;34m(\u001b[0m\u001b[0mself\u001b[0m\u001b[0;34m)\u001b[0m\u001b[0;34m:\u001b[0m\u001b[0;34m\u001b[0m\u001b[0m\n\u001b[0;32m----> 6\u001b[0;31m         \u001b[0;32mreturn\u001b[0m \u001b[0mself\u001b[0m\u001b[0;34m.\u001b[0m\u001b[0mname\u001b[0m\u001b[0;34m,\u001b[0m\u001b[0mself\u001b[0m\u001b[0;34m.\u001b[0m\u001b[0mcost\u001b[0m\u001b[0;34m\u001b[0m\u001b[0m\n\u001b[0m\u001b[1;32m      7\u001b[0m \u001b[0mapple\u001b[0m\u001b[0;34m=\u001b[0m\u001b[0mProduct\u001b[0m\u001b[0;34m(\u001b[0m\u001b[0;34m)\u001b[0m\u001b[0;34m\u001b[0m\u001b[0m\n\u001b[1;32m      8\u001b[0m \u001b[0mapple\u001b[0m\u001b[0;34m.\u001b[0m\u001b[0mset_data\u001b[0m\u001b[0;34m(\u001b[0m\u001b[0;34m\"Apple\"\u001b[0m\u001b[0;34m,\u001b[0m\u001b[0;36m20\u001b[0m\u001b[0;34m)\u001b[0m\u001b[0;34m\u001b[0m\u001b[0m\n",
      "\u001b[0;31mAttributeError\u001b[0m: 'Product' object has no attribute 'name'"
     ]
    }
   ],
   "source": [
    "class Product:\n",
    "    def set_data(self,p_name,p_cost):\n",
    "        self.name=p_name\n",
    "        self.cost=p_cost\n",
    "    def get(self):\n",
    "        return self.name,self.cost\n",
    "apple=Product()\n",
    "apple.set_data(\"Apple\",20)\n",
    "orange=Product()\n",
    "orange.set_data(\"Orange\",30)\n",
    "print(apple.get()) # Apple, 20\n",
    "print(orange.get()) # Orange, 30\n",
    "mango=Product()\n",
    "print(mango.get())"
   ]
  },
  {
   "cell_type": "code",
   "execution_count": 29,
   "metadata": {},
   "outputs": [],
   "source": [
    "class C1:\n",
    "    def get(self):\n",
    "        print(\"this is get\")"
   ]
  },
  {
   "cell_type": "code",
   "execution_count": 30,
   "metadata": {},
   "outputs": [],
   "source": [
    "class C1:\n",
    "    def get(self):\n",
    "        print(\"this is get\")\n",
    "    def __init__(self):\n",
    "        print(\"this is init\")"
   ]
  },
  {
   "cell_type": "code",
   "execution_count": 31,
   "metadata": {},
   "outputs": [],
   "source": [
    "class C1:\n",
    "    def get(self):\n",
    "        print(\"this is get\")\n",
    "o1=C1()"
   ]
  },
  {
   "cell_type": "code",
   "execution_count": 32,
   "metadata": {},
   "outputs": [
    {
     "name": "stdout",
     "output_type": "stream",
     "text": [
      "this is class\n"
     ]
    }
   ],
   "source": [
    "class C1:\n",
    "    print(\"this is class\")\n",
    "    def get(self):\n",
    "        print(\"this is get\")\n",
    "    def __init__(self):\n",
    "        print(\"this is init\")   "
   ]
  },
  {
   "cell_type": "code",
   "execution_count": 33,
   "metadata": {},
   "outputs": [
    {
     "name": "stdout",
     "output_type": "stream",
     "text": [
      "this is class\n",
      "this is init\n",
      "this is init\n"
     ]
    }
   ],
   "source": [
    "class C1:\n",
    "    print(\"this is class\")\n",
    "    def get(self):\n",
    "        print(\"this is get\")\n",
    "    def __init__(self):\n",
    "        print(\"this is init\")   \n",
    "o1=C1()\n",
    "o2=C1()"
   ]
  },
  {
   "cell_type": "code",
   "execution_count": 35,
   "metadata": {},
   "outputs": [
    {
     "name": "stdout",
     "output_type": "stream",
     "text": [
      "this is class\n",
      "this is init\n",
      "this is init\n",
      "this is init\n"
     ]
    }
   ],
   "source": [
    "class C1:\n",
    "    print(\"this is class\")\n",
    "    def get(self):\n",
    "        print(\"this is get\")\n",
    "    def __init__(self):\n",
    "        print(\"this is init\")   \n",
    "o1=C1()\n",
    "o2=C1()\n",
    "o3=C1()"
   ]
  },
  {
   "cell_type": "code",
   "execution_count": 36,
   "metadata": {},
   "outputs": [
    {
     "name": "stdout",
     "output_type": "stream",
     "text": [
      "this is class\n",
      "this is init\n",
      "this is init\n",
      "this is init\n",
      "this is init\n"
     ]
    }
   ],
   "source": [
    "class C1:\n",
    "    print(\"this is class\")\n",
    "    def get(self):\n",
    "        print(\"this is get\")\n",
    "    def __init__(self):\n",
    "        print(\"this is init\")\n",
    "o1=C1()\n",
    "o2=C1()\n",
    "o3=C1()\n",
    "o4=C1()"
   ]
  },
  {
   "cell_type": "code",
   "execution_count": 38,
   "metadata": {},
   "outputs": [
    {
     "name": "stdout",
     "output_type": "stream",
     "text": [
      "this is class\n",
      "this is init\n",
      "this is init\n",
      "this is init\n",
      "this is init\n",
      "this is get\n"
     ]
    }
   ],
   "source": [
    "class C1:\n",
    "    print(\"this is class\")\n",
    "    def get(self):\n",
    "        print(\"this is get\")\n",
    "    def __init__(self):\n",
    "        print(\"this is init\")\n",
    "o1=C1()\n",
    "o2=C1()\n",
    "o3=C1()\n",
    "o4=C1()\n",
    "o1.get()"
   ]
  },
  {
   "cell_type": "code",
   "execution_count": 39,
   "metadata": {},
   "outputs": [
    {
     "name": "stdout",
     "output_type": "stream",
     "text": [
      "this is class\n",
      "this is init\n",
      "this is init\n",
      "this is init\n",
      "this is init\n",
      "this is get\n"
     ]
    }
   ],
   "source": [
    "class C1:\n",
    "    print(\"this is class\")\n",
    "    def __get__(self):\n",
    "        print(\"this is get\")\n",
    "    def __init__(self):\n",
    "        print(\"this is init\")\n",
    "o1=C1()\n",
    "o2=C1()\n",
    "o3=C1()\n",
    "o4=C1()\n",
    "o1.__get__()"
   ]
  },
  {
   "cell_type": "code",
   "execution_count": 40,
   "metadata": {},
   "outputs": [
    {
     "name": "stdout",
     "output_type": "stream",
     "text": [
      "this is class\n",
      "this is init\n",
      "this is init\n",
      "this is init\n",
      "this is init\n"
     ]
    }
   ],
   "source": [
    "class C1:\n",
    "    print(\"this is class\")\n",
    "    def __get__(self):\n",
    "        print(\"this is get\")\n",
    "    def __init__(self):\n",
    "        print(\"this is init\")\n",
    "o1=C1()\n",
    "o2=C1()\n",
    "o3=C1()\n",
    "o4=C1()\n"
   ]
  },
  {
   "cell_type": "code",
   "execution_count": 41,
   "metadata": {},
   "outputs": [
    {
     "name": "stdout",
     "output_type": "stream",
     "text": [
      "this is class\n",
      "this is init\n",
      "this is init\n",
      "this is init\n",
      "this is init\n",
      "this is init\n"
     ]
    }
   ],
   "source": [
    "class C1:\n",
    "    print(\"this is class\")\n",
    "    def __get__(self):\n",
    "        print(\"this is get\")\n",
    "    def __init__(self):\n",
    "        print(\"this is init\")\n",
    "o1=C1()\n",
    "o2=C1()\n",
    "o3=C1()\n",
    "o4=C1()\n",
    "o1.__init__()"
   ]
  },
  {
   "cell_type": "code",
   "execution_count": 42,
   "metadata": {},
   "outputs": [
    {
     "name": "stdout",
     "output_type": "stream",
     "text": [
      "('Apple', 20)\n",
      "('Orange', 30)\n"
     ]
    }
   ],
   "source": [
    "class Product:\n",
    "    def __init__(self,p_name,p_cost):\n",
    "        self.name=p_name\n",
    "        self.cost=p_cost\n",
    "    def get(self):\n",
    "        return self.name,self.cost\n",
    "apple=Product(\"Apple\",20)\n",
    "orange=Product(\"Orange\",30)\n",
    "print(apple.get()) \n",
    "print(orange.get())"
   ]
  },
  {
   "cell_type": "code",
   "execution_count": 43,
   "metadata": {},
   "outputs": [
    {
     "name": "stdout",
     "output_type": "stream",
     "text": [
      "('Apple', 20)\n",
      "('Orange', 30)\n"
     ]
    },
    {
     "ename": "TypeError",
     "evalue": "__init__() missing 2 required positional arguments: 'p_name' and 'p_cost'",
     "output_type": "error",
     "traceback": [
      "\u001b[0;31m---------------------------------------------------------------------------\u001b[0m",
      "\u001b[0;31mTypeError\u001b[0m                                 Traceback (most recent call last)",
      "\u001b[0;32m<ipython-input-43-5ec232853758>\u001b[0m in \u001b[0;36m<module>\u001b[0;34m()\u001b[0m\n\u001b[1;32m      9\u001b[0m \u001b[0mprint\u001b[0m\u001b[0;34m(\u001b[0m\u001b[0mapple\u001b[0m\u001b[0;34m.\u001b[0m\u001b[0mget\u001b[0m\u001b[0;34m(\u001b[0m\u001b[0;34m)\u001b[0m\u001b[0;34m)\u001b[0m\u001b[0;34m\u001b[0m\u001b[0m\n\u001b[1;32m     10\u001b[0m \u001b[0mprint\u001b[0m\u001b[0;34m(\u001b[0m\u001b[0morange\u001b[0m\u001b[0;34m.\u001b[0m\u001b[0mget\u001b[0m\u001b[0;34m(\u001b[0m\u001b[0;34m)\u001b[0m\u001b[0;34m)\u001b[0m\u001b[0;34m\u001b[0m\u001b[0m\n\u001b[0;32m---> 11\u001b[0;31m \u001b[0mmango\u001b[0m\u001b[0;34m=\u001b[0m\u001b[0mProduct\u001b[0m\u001b[0;34m(\u001b[0m\u001b[0;34m)\u001b[0m\u001b[0;34m\u001b[0m\u001b[0m\n\u001b[0m",
      "\u001b[0;31mTypeError\u001b[0m: __init__() missing 2 required positional arguments: 'p_name' and 'p_cost'"
     ]
    }
   ],
   "source": [
    "class Product:\n",
    "    def __init__(self,p_name,p_cost):\n",
    "        self.name=p_name\n",
    "        self.cost=p_cost\n",
    "    def get(self):\n",
    "        return self.name,self.cost\n",
    "apple=Product(\"Apple\",20)\n",
    "orange=Product(\"Orange\",30)\n",
    "print(apple.get()) \n",
    "print(orange.get())\n",
    "mango=Product()"
   ]
  },
  {
   "cell_type": "code",
   "execution_count": 45,
   "metadata": {},
   "outputs": [
    {
     "name": "stdout",
     "output_type": "stream",
     "text": [
      "('Hyderabad', '2000,4000')\n",
      "('Banglore', '1000,3000')\n"
     ]
    }
   ],
   "source": [
    "# ware house class: company name as class object attribute. name, dimentions as data object attributes. \n",
    "#write two operationss instock and outstock. \n",
    "# create two dataobjects, hyderbad and banglore. call instock and outstock operations for hyd and ban instances.\n",
    "class Warehose:\n",
    "    company_name=\"Khyaathi\"\n",
    "    def __init__(self,w_name,w_dimentions):\n",
    "        self.name=w_name\n",
    "        self.dimentions=w_dimentions\n",
    "    def get(self):\n",
    "        return self.name, self.dimentions\n",
    "    def instock(self):\n",
    "        print(\"this is instock\")\n",
    "    def outstock(self):\n",
    "        print(\"this is outstock\")\n",
    "hyd=Warehose(\"Hyderabad\",\"2000,4000\")\n",
    "ban=Warehose(\"Banglore\",\"1000,3000\")\n",
    "print(hyd.get())\n",
    "print(ban.get())\n"
   ]
  },
  {
   "cell_type": "code",
   "execution_count": 46,
   "metadata": {},
   "outputs": [
    {
     "name": "stdout",
     "output_type": "stream",
     "text": [
      "('Hyderabad', '2000,4000')\n",
      "('Banglore', '1000,3000')\n",
      "this is instock\n",
      "this is instock\n",
      "this is outstock\n",
      "this is instock\n"
     ]
    }
   ],
   "source": [
    "# ware house class: company name as class object attribute. name, dimentions as data object attributes. \n",
    "#write two operationss instock and outstock. \n",
    "# create two dataobjects, hyderbad and banglore. call instock and outstock operations for hyd and ban instances.\n",
    "class Warehose:\n",
    "    company_name=\"Khyaathi\"\n",
    "    def __init__(self,w_name,w_dimentions):\n",
    "        self.name=w_name\n",
    "        self.dimentions=w_dimentions\n",
    "    def get(self):\n",
    "        return self.name, self.dimentions\n",
    "    def instock(self):\n",
    "        print(\"this is instock\")\n",
    "    def outstock(self):\n",
    "        print(\"this is outstock\")\n",
    "hyd=Warehose(\"Hyderabad\",\"2000,4000\")\n",
    "ban=Warehose(\"Banglore\",\"1000,3000\")\n",
    "print(hyd.get())\n",
    "print(ban.get())\n",
    "ban.instock()\n",
    "hyd.instock()\n",
    "ban.outstock()\n",
    "hyd.instock()"
   ]
  },
  {
   "cell_type": "code",
   "execution_count": 48,
   "metadata": {},
   "outputs": [
    {
     "name": "stdout",
     "output_type": "stream",
     "text": [
      "('Hyderabad', '2000,4000')\n",
      "('Banglore', '1000,3000')\n",
      "this is instock happening in:Banglore\n",
      "this is instock happening in:Hyderabad\n",
      "this is outstock happening in:Banglore\n",
      "this is instock happening in:Hyderabad\n"
     ]
    }
   ],
   "source": [
    "# ware house class: company name as class object attribute. name, dimentions as data object attributes. \n",
    "#write two operationss instock and outstock. \n",
    "# create two dataobjects, hyderbad and banglore. call instock and outstock operations for hyd and ban instances.\n",
    "class Warehose:\n",
    "    company_name=\"Khyaathi\"\n",
    "    def __init__(self,name,dimentions):\n",
    "        self.name=name\n",
    "        self.dimentions=dimentions\n",
    "    def get(self):\n",
    "        return self.name, self.dimentions\n",
    "    def instock(self):\n",
    "        print(\"this is instock happening in:%s\"%self.name)\n",
    "    def outstock(self):\n",
    "        print(\"this is outstock happening in:%s\"%self.name)\n",
    "hyd=Warehose(\"Hyderabad\",\"2000,4000\")\n",
    "ban=Warehose(\"Banglore\",\"1000,3000\")\n",
    "print(hyd.get())\n",
    "print(ban.get())\n",
    "ban.instock()\n",
    "hyd.instock()\n",
    "ban.outstock()\n",
    "hyd.instock()"
   ]
  },
  {
   "cell_type": "code",
   "execution_count": 49,
   "metadata": {},
   "outputs": [],
   "source": [
    "#sambaodoo@gmail.com, sambapython@gmail.com"
   ]
  },
  {
   "cell_type": "code",
   "execution_count": 2,
   "metadata": {},
   "outputs": [
    {
     "name": "stdout",
     "output_type": "stream",
     "text": [
      "{'name': 'Jayaram', 'sal': 30000, 'id': 23, 'incp': 10}\n"
     ]
    }
   ],
   "source": [
    "class Emp:\n",
    "    def __init__(self,name,e_id,sal,incp):\n",
    "        self.name=name\n",
    "        self.sal=sal\n",
    "        self.id=e_id\n",
    "        self.incp=incp\n",
    "    def get(self):\n",
    "        return self.__dict__\n",
    "jay=Emp(\"Jayaram\",23,30000,10)\n",
    "print(jay.get())"
   ]
  },
  {
   "cell_type": "code",
   "execution_count": 4,
   "metadata": {},
   "outputs": [
    {
     "name": "stdout",
     "output_type": "stream",
     "text": [
      "{'name': 'Jayaram', 'sal': 30000, 'id': 23, 'incp': 10}\n",
      "33000.0\n"
     ]
    }
   ],
   "source": [
    "class Emp:\n",
    "    def __init__(self,name,e_id,sal,incp):\n",
    "        self.name=name\n",
    "        self.sal=sal\n",
    "        self.id=e_id\n",
    "        self.incp=incp\n",
    "    def sal_cal(self):\n",
    "        return self.sal+self.sal*(self.incp/100)\n",
    "    def get(self):\n",
    "        return self.__dict__\n",
    "jay=Emp(\"Jayaram\",23,30000,10)\n",
    "print(jay.get())\n",
    "print(jay.sal_cal())"
   ]
  },
  {
   "cell_type": "code",
   "execution_count": 5,
   "metadata": {},
   "outputs": [
    {
     "name": "stdout",
     "output_type": "stream",
     "text": [
      "{'name': 'Jayaram', 'sal': 30000, 'id': 23, 'incp': 10}\n",
      "10 Jayaram\n",
      "33000.0\n"
     ]
    }
   ],
   "source": [
    "class Emp:\n",
    "    def __init__(self,name,e_id,sal,incp):\n",
    "        self.name=name\n",
    "        self.sal=sal\n",
    "        self.id=e_id\n",
    "        self.incp=incp\n",
    "    def sal_cal(self):\n",
    "        print(self.incp,self.name)\n",
    "        return self.sal+self.sal*(self.incp/100)\n",
    "    def get(self):\n",
    "        return self.__dict__\n",
    "jay=Emp(\"Jayaram\",23,30000,10)\n",
    "print(jay.get())\n",
    "print(jay.sal_cal())"
   ]
  },
  {
   "cell_type": "code",
   "execution_count": 7,
   "metadata": {},
   "outputs": [
    {
     "name": "stdout",
     "output_type": "stream",
     "text": [
      "100 Jayaram\n",
      "60000.0\n"
     ]
    }
   ],
   "source": [
    "class Emp:\n",
    "    def __init__(self,name,e_id,sal,incp):\n",
    "        self.name=name\n",
    "        self.sal=sal\n",
    "        self.id=e_id\n",
    "        self.incp=incp\n",
    "    def sal_cal(self):\n",
    "        print(self.incp,self.name)\n",
    "        return self.sal+self.sal*(self.incp/100)\n",
    "    def get(self):\n",
    "        return self.__dict__\n",
    "jay=Emp(\"Jayaram\",23,30000,10)\n",
    "jay.incp=100\n",
    "print(jay.sal_cal())"
   ]
  },
  {
   "cell_type": "code",
   "execution_count": 9,
   "metadata": {},
   "outputs": [
    {
     "name": "stdout",
     "output_type": "stream",
     "text": [
      "10 Jayaram\n",
      "33000.0\n"
     ]
    }
   ],
   "source": [
    "class Emp:\n",
    "    def __init__(self,name,e_id,sal,incp):\n",
    "        self.name=name\n",
    "        self.sal=sal\n",
    "        self.id=e_id\n",
    "        self.__incp=incp\n",
    "    def sal_cal(self):\n",
    "        print(self.__incp,self.name)\n",
    "        return self.sal+self.sal*(self.__incp/100)\n",
    "    def get(self):\n",
    "        return self.__dict__\n",
    "jay=Emp(\"Jayaram\",23,30000,10)\n",
    "jay.__incp=100\n",
    "print(jay.sal_cal())"
   ]
  },
  {
   "cell_type": "code",
   "execution_count": 11,
   "metadata": {},
   "outputs": [
    {
     "name": "stdout",
     "output_type": "stream",
     "text": [
      "100 Jayaram\n",
      "60000.0\n"
     ]
    }
   ],
   "source": [
    "class Emp:\n",
    "    def __init__(self,name,e_id,sal,incp):\n",
    "        self.name=name\n",
    "        self.sal=sal\n",
    "        self.id=e_id\n",
    "        self.__incp__=incp\n",
    "    def sal_cal(self):\n",
    "        print(self.__incp__,self.name)\n",
    "        return self.sal+self.sal*(self.__incp__/100)\n",
    "    def get(self):\n",
    "        return self.__dict__\n",
    "jay=Emp(\"Jayaram\",23,30000,10)\n",
    "jay.__incp__=100\n",
    "print(jay.sal_cal())"
   ]
  },
  {
   "cell_type": "code",
   "execution_count": 12,
   "metadata": {},
   "outputs": [
    {
     "name": "stdout",
     "output_type": "stream",
     "text": [
      "100 Jayaram\n",
      "60000.0\n"
     ]
    }
   ],
   "source": [
    "class Emp:\n",
    "    def __init__(self,name,e_id,sal,incp):\n",
    "        self.name=name\n",
    "        self.sal=sal\n",
    "        self.id=e_id\n",
    "        self.incp__=incp\n",
    "    def sal_cal(self):\n",
    "        print(self.incp__,self.name)\n",
    "        return self.sal+self.sal*(self.incp__/100)\n",
    "    def get(self):\n",
    "        return self.__dict__\n",
    "jay=Emp(\"Jayaram\",23,30000,10)a\n",
    "jay.incp__=100\n",
    "print(jay.sal_cal())"
   ]
  },
  {
   "cell_type": "code",
   "execution_count": 16,
   "metadata": {},
   "outputs": [
    {
     "name": "stdout",
     "output_type": "stream",
     "text": [
      "10 Jayaram\n",
      "33000.0\n"
     ]
    }
   ],
   "source": [
    "class Emp:\n",
    "    def __init__(self,name,e_id,sal,incp):\n",
    "        self.name=name\n",
    "        self.sal=sal\n",
    "        self.id=e_id\n",
    "        self.__incp=incp\n",
    "    def __update_sal(self):\n",
    "        return self.sal+self.sal*(self.__incp/100)\n",
    "    def sal_cal(self):\n",
    "        print(self.__incp,self.name)\n",
    "        return self.__update_sal()\n",
    "    def get(self):\n",
    "        return self.__dict__\n",
    "jay=Emp(\"Jayaram\",23,30000,10)\n",
    "jay.__incp=100\n",
    "print(jay.sal_cal())"
   ]
  },
  {
   "cell_type": "code",
   "execution_count": 17,
   "metadata": {},
   "outputs": [
    {
     "ename": "AttributeError",
     "evalue": "'Emp' object has no attribute '__update_sal'",
     "output_type": "error",
     "traceback": [
      "\u001b[0;31m---------------------------------------------------------------------------\u001b[0m",
      "\u001b[0;31mAttributeError\u001b[0m                            Traceback (most recent call last)",
      "\u001b[0;32m<ipython-input-17-2abd353c9dee>\u001b[0m in \u001b[0;36m<module>\u001b[0;34m()\u001b[0m\n\u001b[1;32m     14\u001b[0m \u001b[0mjay\u001b[0m\u001b[0;34m=\u001b[0m\u001b[0mEmp\u001b[0m\u001b[0;34m(\u001b[0m\u001b[0;34m\"Jayaram\"\u001b[0m\u001b[0;34m,\u001b[0m\u001b[0;36m23\u001b[0m\u001b[0;34m,\u001b[0m\u001b[0;36m30000\u001b[0m\u001b[0;34m,\u001b[0m\u001b[0;36m10\u001b[0m\u001b[0;34m)\u001b[0m\u001b[0;34m\u001b[0m\u001b[0m\n\u001b[1;32m     15\u001b[0m \u001b[0mjay\u001b[0m\u001b[0;34m.\u001b[0m\u001b[0m__incp\u001b[0m\u001b[0;34m=\u001b[0m\u001b[0;36m100\u001b[0m\u001b[0;34m\u001b[0m\u001b[0m\n\u001b[0;32m---> 16\u001b[0;31m \u001b[0mprint\u001b[0m\u001b[0;34m(\u001b[0m\u001b[0mjay\u001b[0m\u001b[0;34m.\u001b[0m\u001b[0m__update_sal\u001b[0m\u001b[0;34m(\u001b[0m\u001b[0;34m)\u001b[0m\u001b[0;34m)\u001b[0m\u001b[0;34m\u001b[0m\u001b[0m\n\u001b[0m",
      "\u001b[0;31mAttributeError\u001b[0m: 'Emp' object has no attribute '__update_sal'"
     ]
    }
   ],
   "source": [
    "#encapsulation..\n",
    "class Emp:\n",
    "    def __init__(self,name,e_id,sal,incp):\n",
    "        self.name=name\n",
    "        self.sal=sal\n",
    "        self.id=e_id\n",
    "        self.__incp=incp\n",
    "    def __update_sal(self):\n",
    "        return self.sal+self.sal*(self.__incp/100)\n",
    "    def sal_cal(self):\n",
    "        print(self.__incp,self.name)\n",
    "        return self.__update_sal()\n",
    "    def get(self):\n",
    "        return self.__dict__\n",
    "jay=Emp(\"Jayaram\",23,30000,10)\n",
    "jay.__incp=100\n",
    "print(jay.__update_sal())"
   ]
  },
  {
   "cell_type": "code",
   "execution_count": 18,
   "metadata": {},
   "outputs": [
    {
     "name": "stdout",
     "output_type": "stream",
     "text": [
      "this is op1 in c1\n",
      "this is op2 in c1\n"
     ]
    }
   ],
   "source": [
    "class c1:\n",
    "    def op1(self):\n",
    "        print(\"this is op1 in c1\")\n",
    "    def op2(self):\n",
    "        print(\"this is op2 in c1\")\n",
    "    def operations(self):\n",
    "        self.op1()\n",
    "        self.op2()\n",
    "o1=c1()\n",
    "o1.operations()"
   ]
  },
  {
   "cell_type": "code",
   "execution_count": 19,
   "metadata": {},
   "outputs": [
    {
     "ename": "AttributeError",
     "evalue": "'c2' object has no attribute 'op1'",
     "output_type": "error",
     "traceback": [
      "\u001b[0;31m---------------------------------------------------------------------------\u001b[0m",
      "\u001b[0;31mAttributeError\u001b[0m                            Traceback (most recent call last)",
      "\u001b[0;32m<ipython-input-19-b791c8f951c7>\u001b[0m in \u001b[0;36m<module>\u001b[0;34m()\u001b[0m\n\u001b[1;32m     12\u001b[0m         \u001b[0mself\u001b[0m\u001b[0;34m.\u001b[0m\u001b[0mop2\u001b[0m\u001b[0;34m(\u001b[0m\u001b[0;34m)\u001b[0m\u001b[0;34m\u001b[0m\u001b[0m\n\u001b[1;32m     13\u001b[0m \u001b[0mo\u001b[0m\u001b[0;34m=\u001b[0m\u001b[0mc2\u001b[0m\u001b[0;34m(\u001b[0m\u001b[0;34m)\u001b[0m\u001b[0;34m\u001b[0m\u001b[0m\n\u001b[0;32m---> 14\u001b[0;31m \u001b[0mo\u001b[0m\u001b[0;34m.\u001b[0m\u001b[0moperations\u001b[0m\u001b[0;34m(\u001b[0m\u001b[0;34m)\u001b[0m\u001b[0;34m\u001b[0m\u001b[0m\n\u001b[0m",
      "\u001b[0;32m<ipython-input-19-b791c8f951c7>\u001b[0m in \u001b[0;36moperations\u001b[0;34m(self)\u001b[0m\n\u001b[1;32m      9\u001b[0m \u001b[0;32mclass\u001b[0m \u001b[0mc2\u001b[0m\u001b[0;34m:\u001b[0m\u001b[0;34m\u001b[0m\u001b[0m\n\u001b[1;32m     10\u001b[0m     \u001b[0;32mdef\u001b[0m \u001b[0moperations\u001b[0m\u001b[0;34m(\u001b[0m\u001b[0mself\u001b[0m\u001b[0;34m)\u001b[0m\u001b[0;34m:\u001b[0m\u001b[0;34m\u001b[0m\u001b[0m\n\u001b[0;32m---> 11\u001b[0;31m         \u001b[0mself\u001b[0m\u001b[0;34m.\u001b[0m\u001b[0mop1\u001b[0m\u001b[0;34m(\u001b[0m\u001b[0;34m)\u001b[0m\u001b[0;34m\u001b[0m\u001b[0m\n\u001b[0m\u001b[1;32m     12\u001b[0m         \u001b[0mself\u001b[0m\u001b[0;34m.\u001b[0m\u001b[0mop2\u001b[0m\u001b[0;34m(\u001b[0m\u001b[0;34m)\u001b[0m\u001b[0;34m\u001b[0m\u001b[0m\n\u001b[1;32m     13\u001b[0m \u001b[0mo\u001b[0m\u001b[0;34m=\u001b[0m\u001b[0mc2\u001b[0m\u001b[0;34m(\u001b[0m\u001b[0;34m)\u001b[0m\u001b[0;34m\u001b[0m\u001b[0m\n",
      "\u001b[0;31mAttributeError\u001b[0m: 'c2' object has no attribute 'op1'"
     ]
    }
   ],
   "source": [
    "class c1:\n",
    "    def op1(self):\n",
    "        print(\"this is op1 in c1\")\n",
    "    def op2(self):\n",
    "        print(\"this is op2 in c1\")\n",
    "    def operations(self):\n",
    "        self.op1()\n",
    "        self.op2()\n",
    "class c2:\n",
    "    def operations(self):\n",
    "        self.op1()\n",
    "        self.op2()\n",
    "o=c2()\n",
    "o.operations()"
   ]
  },
  {
   "cell_type": "code",
   "execution_count": 20,
   "metadata": {},
   "outputs": [
    {
     "name": "stdout",
     "output_type": "stream",
     "text": [
      "this is op1 in c1\n",
      "this is op2 in c1\n"
     ]
    }
   ],
   "source": [
    "class c1:\n",
    "    def op1(self):\n",
    "        print(\"this is op1 in c1\")\n",
    "    def op2(self):\n",
    "        print(\"this is op2 in c1\")\n",
    "    def operations(self):\n",
    "        self.op1()\n",
    "        self.op2()\n",
    "class c2:\n",
    "    def operations(self):\n",
    "        o1=c1()\n",
    "        o1.op1()\n",
    "        o1.op2()\n",
    "o=c2()\n",
    "o.operations()"
   ]
  },
  {
   "cell_type": "code",
   "execution_count": 21,
   "metadata": {},
   "outputs": [
    {
     "ename": "AttributeError",
     "evalue": "'c2' object has no attribute 'op1'",
     "output_type": "error",
     "traceback": [
      "\u001b[0;31m---------------------------------------------------------------------------\u001b[0m",
      "\u001b[0;31mAttributeError\u001b[0m                            Traceback (most recent call last)",
      "\u001b[0;32m<ipython-input-21-b791c8f951c7>\u001b[0m in \u001b[0;36m<module>\u001b[0;34m()\u001b[0m\n\u001b[1;32m     12\u001b[0m         \u001b[0mself\u001b[0m\u001b[0;34m.\u001b[0m\u001b[0mop2\u001b[0m\u001b[0;34m(\u001b[0m\u001b[0;34m)\u001b[0m\u001b[0;34m\u001b[0m\u001b[0m\n\u001b[1;32m     13\u001b[0m \u001b[0mo\u001b[0m\u001b[0;34m=\u001b[0m\u001b[0mc2\u001b[0m\u001b[0;34m(\u001b[0m\u001b[0;34m)\u001b[0m\u001b[0;34m\u001b[0m\u001b[0m\n\u001b[0;32m---> 14\u001b[0;31m \u001b[0mo\u001b[0m\u001b[0;34m.\u001b[0m\u001b[0moperations\u001b[0m\u001b[0;34m(\u001b[0m\u001b[0;34m)\u001b[0m\u001b[0;34m\u001b[0m\u001b[0m\n\u001b[0m",
      "\u001b[0;32m<ipython-input-21-b791c8f951c7>\u001b[0m in \u001b[0;36moperations\u001b[0;34m(self)\u001b[0m\n\u001b[1;32m      9\u001b[0m \u001b[0;32mclass\u001b[0m \u001b[0mc2\u001b[0m\u001b[0;34m:\u001b[0m\u001b[0;34m\u001b[0m\u001b[0m\n\u001b[1;32m     10\u001b[0m     \u001b[0;32mdef\u001b[0m \u001b[0moperations\u001b[0m\u001b[0;34m(\u001b[0m\u001b[0mself\u001b[0m\u001b[0;34m)\u001b[0m\u001b[0;34m:\u001b[0m\u001b[0;34m\u001b[0m\u001b[0m\n\u001b[0;32m---> 11\u001b[0;31m         \u001b[0mself\u001b[0m\u001b[0;34m.\u001b[0m\u001b[0mop1\u001b[0m\u001b[0;34m(\u001b[0m\u001b[0;34m)\u001b[0m\u001b[0;34m\u001b[0m\u001b[0m\n\u001b[0m\u001b[1;32m     12\u001b[0m         \u001b[0mself\u001b[0m\u001b[0;34m.\u001b[0m\u001b[0mop2\u001b[0m\u001b[0;34m(\u001b[0m\u001b[0;34m)\u001b[0m\u001b[0;34m\u001b[0m\u001b[0m\n\u001b[1;32m     13\u001b[0m \u001b[0mo\u001b[0m\u001b[0;34m=\u001b[0m\u001b[0mc2\u001b[0m\u001b[0;34m(\u001b[0m\u001b[0;34m)\u001b[0m\u001b[0;34m\u001b[0m\u001b[0m\n",
      "\u001b[0;31mAttributeError\u001b[0m: 'c2' object has no attribute 'op1'"
     ]
    }
   ],
   "source": [
    "class c1:\n",
    "    def op1(self):\n",
    "        print(\"this is op1 in c1\")\n",
    "    def op2(self):\n",
    "        print(\"this is op2 in c1\")\n",
    "    def operations(self):\n",
    "        self.op1()\n",
    "        self.op2()\n",
    "class c2:\n",
    "    def operations(self):\n",
    "        self.op1()\n",
    "        self.op2()\n",
    "o=c2()\n",
    "o.operations()"
   ]
  },
  {
   "cell_type": "code",
   "execution_count": 22,
   "metadata": {},
   "outputs": [
    {
     "name": "stdout",
     "output_type": "stream",
     "text": [
      "operations in c2\n",
      "this is op1 in c1\n",
      "this is op2 in c1\n"
     ]
    }
   ],
   "source": [
    "class c1:\n",
    "    def op1(self):\n",
    "        print(\"this is op1 in c1\")\n",
    "    def op2(self):\n",
    "        print(\"this is op2 in c1\")\n",
    "    def operations(self):\n",
    "        print(\"operations in c1\")\n",
    "        self.op1()\n",
    "        self.op2()\n",
    "class c2(c1):\n",
    "    def operations(self):\n",
    "        print(\"operations in c2\")\n",
    "        self.op1()\n",
    "        self.op2()\n",
    "o=c2()\n",
    "o.operations()"
   ]
  },
  {
   "cell_type": "code",
   "execution_count": 23,
   "metadata": {},
   "outputs": [
    {
     "name": "stdout",
     "output_type": "stream",
     "text": [
      "operations in c2\n",
      "this is op1 in c1\n",
      "this is op2 in c1\n"
     ]
    },
    {
     "ename": "AttributeError",
     "evalue": "'c2' object has no attribute 'op3'",
     "output_type": "error",
     "traceback": [
      "\u001b[0;31m---------------------------------------------------------------------------\u001b[0m",
      "\u001b[0;31mAttributeError\u001b[0m                            Traceback (most recent call last)",
      "\u001b[0;32m<ipython-input-23-807e84297865>\u001b[0m in \u001b[0;36m<module>\u001b[0;34m()\u001b[0m\n\u001b[1;32m     18\u001b[0m         \u001b[0mself\u001b[0m\u001b[0;34m.\u001b[0m\u001b[0mop3\u001b[0m\u001b[0;34m(\u001b[0m\u001b[0;34m)\u001b[0m\u001b[0;34m\u001b[0m\u001b[0m\n\u001b[1;32m     19\u001b[0m \u001b[0mo\u001b[0m\u001b[0;34m=\u001b[0m\u001b[0mc2\u001b[0m\u001b[0;34m(\u001b[0m\u001b[0;34m)\u001b[0m\u001b[0;34m\u001b[0m\u001b[0m\n\u001b[0;32m---> 20\u001b[0;31m \u001b[0mo\u001b[0m\u001b[0;34m.\u001b[0m\u001b[0moperations\u001b[0m\u001b[0;34m(\u001b[0m\u001b[0;34m)\u001b[0m\u001b[0;34m\u001b[0m\u001b[0m\n\u001b[0m",
      "\u001b[0;32m<ipython-input-23-807e84297865>\u001b[0m in \u001b[0;36moperations\u001b[0;34m(self)\u001b[0m\n\u001b[1;32m     16\u001b[0m         \u001b[0mself\u001b[0m\u001b[0;34m.\u001b[0m\u001b[0mop1\u001b[0m\u001b[0;34m(\u001b[0m\u001b[0;34m)\u001b[0m\u001b[0;34m\u001b[0m\u001b[0m\n\u001b[1;32m     17\u001b[0m         \u001b[0mself\u001b[0m\u001b[0;34m.\u001b[0m\u001b[0mop2\u001b[0m\u001b[0;34m(\u001b[0m\u001b[0;34m)\u001b[0m\u001b[0;34m\u001b[0m\u001b[0m\n\u001b[0;32m---> 18\u001b[0;31m         \u001b[0mself\u001b[0m\u001b[0;34m.\u001b[0m\u001b[0mop3\u001b[0m\u001b[0;34m(\u001b[0m\u001b[0;34m)\u001b[0m\u001b[0;34m\u001b[0m\u001b[0m\n\u001b[0m\u001b[1;32m     19\u001b[0m \u001b[0mo\u001b[0m\u001b[0;34m=\u001b[0m\u001b[0mc2\u001b[0m\u001b[0;34m(\u001b[0m\u001b[0;34m)\u001b[0m\u001b[0;34m\u001b[0m\u001b[0m\n\u001b[1;32m     20\u001b[0m \u001b[0mo\u001b[0m\u001b[0;34m.\u001b[0m\u001b[0moperations\u001b[0m\u001b[0;34m(\u001b[0m\u001b[0;34m)\u001b[0m\u001b[0;34m\u001b[0m\u001b[0m\n",
      "\u001b[0;31mAttributeError\u001b[0m: 'c2' object has no attribute 'op3'"
     ]
    }
   ],
   "source": [
    "class c1:\n",
    "    def op1(self):\n",
    "        print(\"this is op1 in c1\")\n",
    "    def op2(self):\n",
    "        print(\"this is op2 in c1\")\n",
    "    def operations(self):\n",
    "        print(\"operations in c1\")\n",
    "        self.op1()\n",
    "        self.op2()\n",
    "class c3:\n",
    "    def op3(self):\n",
    "        print(\"this is op3 in c3\")\n",
    "class c2(c1):\n",
    "    def operations(self):\n",
    "        print(\"operations in c2\")\n",
    "        self.op1()\n",
    "        self.op2()\n",
    "        self.op3()\n",
    "o=c2()\n",
    "o.operations()"
   ]
  },
  {
   "cell_type": "code",
   "execution_count": 24,
   "metadata": {},
   "outputs": [
    {
     "name": "stdout",
     "output_type": "stream",
     "text": [
      "operations in c2\n",
      "this is op1 in c1\n",
      "this is op2 in c1\n",
      "this is op3 in c3\n"
     ]
    }
   ],
   "source": [
    "class c1:\n",
    "    def op1(self):\n",
    "        print(\"this is op1 in c1\")\n",
    "    def op2(self):\n",
    "        print(\"this is op2 in c1\")\n",
    "    def operations(self):\n",
    "        print(\"operations in c1\")\n",
    "        self.op1()\n",
    "        self.op2()\n",
    "class c3:\n",
    "    def op3(self):\n",
    "        print(\"this is op3 in c3\")\n",
    "class c2(c1,c3):\n",
    "    def operations(self):\n",
    "        print(\"operations in c2\")\n",
    "        self.op1()\n",
    "        self.op2()\n",
    "        self.op3()\n",
    "o=c2()\n",
    "o.operations()"
   ]
  },
  {
   "cell_type": "code",
   "execution_count": 25,
   "metadata": {},
   "outputs": [
    {
     "name": "stdout",
     "output_type": "stream",
     "text": [
      "operations in c2\n",
      "this is op1 in c1\n",
      "this is op2 in c1\n",
      "this is op3 in c1\n"
     ]
    }
   ],
   "source": [
    "class c1:\n",
    "    def op1(self):\n",
    "        print(\"this is op1 in c1\")\n",
    "    def op2(self):\n",
    "        print(\"this is op2 in c1\")\n",
    "    def operations(self):\n",
    "        print(\"operations in c1\")\n",
    "        self.op1()\n",
    "        self.op2()\n",
    "    def op3(self):\n",
    "        print(\"this is op3 in c1\")\n",
    "class c3:\n",
    "    def op3(self):\n",
    "        print(\"this is op3 in c3\")\n",
    "class c2(c1,c3):\n",
    "    def operations(self):\n",
    "        print(\"operations in c2\")\n",
    "        self.op1()\n",
    "        self.op2()\n",
    "        self.op3()\n",
    "o=c2()\n",
    "o.operations()"
   ]
  },
  {
   "cell_type": "code",
   "execution_count": 26,
   "metadata": {},
   "outputs": [
    {
     "name": "stdout",
     "output_type": "stream",
     "text": [
      "operations in c2\n",
      "this is op1 in c1\n",
      "this is op2 in c2\n",
      "this is op3 in c1\n"
     ]
    }
   ],
   "source": [
    "class c1:\n",
    "    def op1(self):\n",
    "        print(\"this is op1 in c1\")\n",
    "    def op2(self):\n",
    "        print(\"this is op2 in c1\")\n",
    "    def operations(self):\n",
    "        print(\"operations in c1\")\n",
    "        self.op1()\n",
    "        self.op2()\n",
    "    def op3(self):\n",
    "        print(\"this is op3 in c1\")\n",
    "class c3:\n",
    "    def op3(self):\n",
    "        print(\"this is op3 in c3\")\n",
    "class c2(c1,c3):\n",
    "    def operations(self):\n",
    "        print(\"operations in c2\")\n",
    "        self.op1()\n",
    "        self.op2()\n",
    "        self.op3()\n",
    "    def op2(self):\n",
    "        print(\"this is op2 in c2\")\n",
    "o=c2()\n",
    "o.operations()"
   ]
  },
  {
   "cell_type": "code",
   "execution_count": 27,
   "metadata": {},
   "outputs": [
    {
     "name": "stdout",
     "output_type": "stream",
     "text": [
      "operations in c2\n",
      "this is op1 in c1\n",
      "this is op2 in c1\n",
      "this is op3 in c3\n"
     ]
    }
   ],
   "source": [
    "\"\"\"\n",
    ": object\n",
    "single level:  child class contains single parent\n",
    "multi level: chld class contains parent, the parent also inherits from some other class\n",
    "multiple: child class contains multiple parents\n",
    "hybrid: if the class design involves more than one inheritance\n",
    "\"\"\"\n",
    "class c1:\n",
    "    def op1(self):\n",
    "        print(\"this is op1 in c1\")\n",
    "    def op2(self):\n",
    "        print(\"this is op2 in c1\")\n",
    "    def operations(self):\n",
    "        print(\"operations in c1\")\n",
    "        self.op1()\n",
    "        self.op2()\n",
    "class c3(c1):\n",
    "    def op3(self):\n",
    "        print(\"this is op3 in c3\")\n",
    "class c2(c3,c4):\n",
    "    def operations(self):\n",
    "        print(\"operations in c2\")\n",
    "        self.op1()\n",
    "        self.op2()\n",
    "        self.op3()\n",
    "o=c2()\n",
    "o.operations()"
   ]
  },
  {
   "cell_type": "code",
   "execution_count": 29,
   "metadata": {},
   "outputs": [
    {
     "name": "stdout",
     "output_type": "stream",
     "text": [
      "\n",
      "\n",
      "        1\n",
      "    200  3\n",
      "   4     500\n",
      "\n"
     ]
    }
   ],
   "source": [
    "print(\"\"\"\n",
    "        1\n",
    "    200  3\n",
    "   4     500\n",
    "\"\"\")"
   ]
  },
  {
   "cell_type": "code",
   "execution_count": 30,
   "metadata": {},
   "outputs": [
    {
     "ename": "TypeError",
     "evalue": "__init__() missing 1 required positional argument: 'a'",
     "output_type": "error",
     "traceback": [
      "\u001b[0;31m---------------------------------------------------------------------------\u001b[0m",
      "\u001b[0;31mTypeError\u001b[0m                                 Traceback (most recent call last)",
      "\u001b[0;32m<ipython-input-30-424c197aa53b>\u001b[0m in \u001b[0;36m<module>\u001b[0;34m()\u001b[0m\n\u001b[1;32m      6\u001b[0m \u001b[0;32mclass\u001b[0m \u001b[0mc2\u001b[0m\u001b[0;34m(\u001b[0m\u001b[0mc1\u001b[0m\u001b[0;34m)\u001b[0m\u001b[0;34m:\u001b[0m\u001b[0;34m\u001b[0m\u001b[0m\n\u001b[1;32m      7\u001b[0m     \u001b[0;32mpass\u001b[0m\u001b[0;34m\u001b[0m\u001b[0m\n\u001b[0;32m----> 8\u001b[0;31m \u001b[0mo2\u001b[0m\u001b[0;34m=\u001b[0m\u001b[0mc2\u001b[0m\u001b[0;34m(\u001b[0m\u001b[0;34m)\u001b[0m\u001b[0;34m\u001b[0m\u001b[0m\n\u001b[0m",
      "\u001b[0;31mTypeError\u001b[0m: __init__() missing 1 required positional argument: 'a'"
     ]
    }
   ],
   "source": [
    "class c1:\n",
    "    def __init__(self,a):\n",
    "        self.a=a\n",
    "    def get(self):\n",
    "        return self.a\n",
    "class c2(c1):\n",
    "    pass\n",
    "o2=c2()"
   ]
  },
  {
   "cell_type": "code",
   "execution_count": 31,
   "metadata": {},
   "outputs": [],
   "source": [
    "class c1:\n",
    "    def __init__(self,a):\n",
    "        self.a=a\n",
    "    def get(self):\n",
    "        return self.a\n",
    "class c2(c1):\n",
    "    pass\n",
    "o2=c2(100)"
   ]
  },
  {
   "cell_type": "code",
   "execution_count": 32,
   "metadata": {},
   "outputs": [
    {
     "data": {
      "text/plain": [
       "100"
      ]
     },
     "execution_count": 32,
     "metadata": {},
     "output_type": "execute_result"
    }
   ],
   "source": [
    "class c1:\n",
    "    def __init__(self,a):\n",
    "        self.a=a\n",
    "    def get(self):\n",
    "        return self.a\n",
    "class c2(c1):\n",
    "    pass\n",
    "o2=c2(100)\n",
    "o2.get()"
   ]
  },
  {
   "cell_type": "code",
   "execution_count": 33,
   "metadata": {},
   "outputs": [
    {
     "ename": "IndentationError",
     "evalue": "expected an indented block (<ipython-input-33-f6d50627b957>, line 8)",
     "output_type": "error",
     "traceback": [
      "\u001b[0;36m  File \u001b[0;32m\"<ipython-input-33-f6d50627b957>\"\u001b[0;36m, line \u001b[0;32m8\u001b[0m\n\u001b[0;31m    o2=c2(100)\u001b[0m\n\u001b[0m     ^\u001b[0m\n\u001b[0;31mIndentationError\u001b[0m\u001b[0;31m:\u001b[0m expected an indented block\n"
     ]
    }
   ],
   "source": [
    "class c1:\n",
    "    def __init__(self,a):\n",
    "        self.a=a\n",
    "    def get(self):\n",
    "        return self.a\n",
    "class c2(c1):\n",
    "    \n",
    "o2=c2(100)\n",
    "o2.get()"
   ]
  },
  {
   "cell_type": "code",
   "execution_count": 34,
   "metadata": {},
   "outputs": [
    {
     "data": {
      "text/plain": [
       "100"
      ]
     },
     "execution_count": 34,
     "metadata": {},
     "output_type": "execute_result"
    }
   ],
   "source": [
    "class c1:\n",
    "    def __init__(self,a):\n",
    "        self.a=a\n",
    "    def get(self):\n",
    "        return self.a\n",
    "class c2(c1):\n",
    "    pass\n",
    "o2=c2(100)\n",
    "o2.get()"
   ]
  },
  {
   "cell_type": "code",
   "execution_count": 36,
   "metadata": {},
   "outputs": [
    {
     "name": "stdout",
     "output_type": "stream",
     "text": [
      "init in c2\n"
     ]
    }
   ],
   "source": [
    "class c1:\n",
    "    def __init__(self,a):\n",
    "        print(\"init in c1\")\n",
    "        self.a=a\n",
    "    def get(self):\n",
    "        return self.a\n",
    "class c2(c1):\n",
    "    def __init__(self,b):\n",
    "        print(\"init in c2\")\n",
    "        self.b=b\n",
    "o2=c2(100)\n"
   ]
  },
  {
   "cell_type": "code",
   "execution_count": 37,
   "metadata": {},
   "outputs": [
    {
     "name": "stdout",
     "output_type": "stream",
     "text": [
      "init in c2\n"
     ]
    },
    {
     "ename": "AttributeError",
     "evalue": "'c2' object has no attribute 'a'",
     "output_type": "error",
     "traceback": [
      "\u001b[0;31m---------------------------------------------------------------------------\u001b[0m",
      "\u001b[0;31mAttributeError\u001b[0m                            Traceback (most recent call last)",
      "\u001b[0;32m<ipython-input-37-505e95ced3e6>\u001b[0m in \u001b[0;36m<module>\u001b[0;34m()\u001b[0m\n\u001b[1;32m     10\u001b[0m         \u001b[0mself\u001b[0m\u001b[0;34m.\u001b[0m\u001b[0mb\u001b[0m\u001b[0;34m=\u001b[0m\u001b[0mb\u001b[0m\u001b[0;34m\u001b[0m\u001b[0m\n\u001b[1;32m     11\u001b[0m \u001b[0mo2\u001b[0m\u001b[0;34m=\u001b[0m\u001b[0mc2\u001b[0m\u001b[0;34m(\u001b[0m\u001b[0;36m100\u001b[0m\u001b[0;34m)\u001b[0m\u001b[0;34m\u001b[0m\u001b[0m\n\u001b[0;32m---> 12\u001b[0;31m \u001b[0mo2\u001b[0m\u001b[0;34m.\u001b[0m\u001b[0mget\u001b[0m\u001b[0;34m(\u001b[0m\u001b[0;34m)\u001b[0m\u001b[0;34m\u001b[0m\u001b[0m\n\u001b[0m",
      "\u001b[0;32m<ipython-input-37-505e95ced3e6>\u001b[0m in \u001b[0;36mget\u001b[0;34m(self)\u001b[0m\n\u001b[1;32m      4\u001b[0m         \u001b[0mself\u001b[0m\u001b[0;34m.\u001b[0m\u001b[0ma\u001b[0m\u001b[0;34m=\u001b[0m\u001b[0ma\u001b[0m\u001b[0;34m\u001b[0m\u001b[0m\n\u001b[1;32m      5\u001b[0m     \u001b[0;32mdef\u001b[0m \u001b[0mget\u001b[0m\u001b[0;34m(\u001b[0m\u001b[0mself\u001b[0m\u001b[0;34m)\u001b[0m\u001b[0;34m:\u001b[0m\u001b[0;34m\u001b[0m\u001b[0m\n\u001b[0;32m----> 6\u001b[0;31m         \u001b[0;32mreturn\u001b[0m \u001b[0mself\u001b[0m\u001b[0;34m.\u001b[0m\u001b[0ma\u001b[0m\u001b[0;34m\u001b[0m\u001b[0m\n\u001b[0m\u001b[1;32m      7\u001b[0m \u001b[0;32mclass\u001b[0m \u001b[0mc2\u001b[0m\u001b[0;34m(\u001b[0m\u001b[0mc1\u001b[0m\u001b[0;34m)\u001b[0m\u001b[0;34m:\u001b[0m\u001b[0;34m\u001b[0m\u001b[0m\n\u001b[1;32m      8\u001b[0m     \u001b[0;32mdef\u001b[0m \u001b[0m__init__\u001b[0m\u001b[0;34m(\u001b[0m\u001b[0mself\u001b[0m\u001b[0;34m,\u001b[0m\u001b[0mb\u001b[0m\u001b[0;34m)\u001b[0m\u001b[0;34m:\u001b[0m\u001b[0;34m\u001b[0m\u001b[0m\n",
      "\u001b[0;31mAttributeError\u001b[0m: 'c2' object has no attribute 'a'"
     ]
    }
   ],
   "source": [
    "class c1:\n",
    "    def __init__(self,a):\n",
    "        print(\"init in c1\")\n",
    "        self.a=a\n",
    "    def get(self):\n",
    "        return self.a\n",
    "class c2(c1):\n",
    "    def __init__(self,b):\n",
    "        print(\"init in c2\")\n",
    "        self.b=b\n",
    "o2=c2(100)\n",
    "o2.get()"
   ]
  },
  {
   "cell_type": "code",
   "execution_count": 39,
   "metadata": {},
   "outputs": [
    {
     "name": "stdout",
     "output_type": "stream",
     "text": [
      "init in c2\n"
     ]
    },
    {
     "data": {
      "text/plain": [
       "100"
      ]
     },
     "execution_count": 39,
     "metadata": {},
     "output_type": "execute_result"
    }
   ],
   "source": [
    "class c1:\n",
    "    def __init__(self,a):\n",
    "        print(\"init in c1\")\n",
    "        self.a=a\n",
    "    def get(self):\n",
    "        return self.a\n",
    "class c2(c1):\n",
    "    def __init__(self,a,b):\n",
    "        print(\"init in c2\")\n",
    "        self.b=b\n",
    "        self.a=a\n",
    "o2=c2(100,200)\n",
    "o2.get()"
   ]
  },
  {
   "cell_type": "code",
   "execution_count": 40,
   "metadata": {},
   "outputs": [
    {
     "name": "stdout",
     "output_type": "stream",
     "text": [
      "init in c2\n"
     ]
    },
    {
     "ename": "TypeError",
     "evalue": "__init__() missing 1 required positional argument: 'b'",
     "output_type": "error",
     "traceback": [
      "\u001b[0;31m---------------------------------------------------------------------------\u001b[0m",
      "\u001b[0;31mTypeError\u001b[0m                                 Traceback (most recent call last)",
      "\u001b[0;32m<ipython-input-40-c80033265347>\u001b[0m in \u001b[0;36m<module>\u001b[0;34m()\u001b[0m\n\u001b[1;32m     10\u001b[0m         \u001b[0mself\u001b[0m\u001b[0;34m.\u001b[0m\u001b[0mb\u001b[0m\u001b[0;34m=\u001b[0m\u001b[0mb\u001b[0m\u001b[0;34m\u001b[0m\u001b[0m\n\u001b[1;32m     11\u001b[0m         \u001b[0mself\u001b[0m\u001b[0;34m.\u001b[0m\u001b[0m__init__\u001b[0m\u001b[0;34m(\u001b[0m\u001b[0ma\u001b[0m\u001b[0;34m)\u001b[0m\u001b[0;34m\u001b[0m\u001b[0m\n\u001b[0;32m---> 12\u001b[0;31m \u001b[0mo2\u001b[0m\u001b[0;34m=\u001b[0m\u001b[0mc2\u001b[0m\u001b[0;34m(\u001b[0m\u001b[0;36m100\u001b[0m\u001b[0;34m,\u001b[0m\u001b[0;36m200\u001b[0m\u001b[0;34m)\u001b[0m\u001b[0;34m\u001b[0m\u001b[0m\n\u001b[0m\u001b[1;32m     13\u001b[0m \u001b[0mo2\u001b[0m\u001b[0;34m.\u001b[0m\u001b[0mget\u001b[0m\u001b[0;34m(\u001b[0m\u001b[0;34m)\u001b[0m\u001b[0;34m\u001b[0m\u001b[0m\n",
      "\u001b[0;32m<ipython-input-40-c80033265347>\u001b[0m in \u001b[0;36m__init__\u001b[0;34m(self, a, b)\u001b[0m\n\u001b[1;32m      9\u001b[0m         \u001b[0mprint\u001b[0m\u001b[0;34m(\u001b[0m\u001b[0;34m\"init in c2\"\u001b[0m\u001b[0;34m)\u001b[0m\u001b[0;34m\u001b[0m\u001b[0m\n\u001b[1;32m     10\u001b[0m         \u001b[0mself\u001b[0m\u001b[0;34m.\u001b[0m\u001b[0mb\u001b[0m\u001b[0;34m=\u001b[0m\u001b[0mb\u001b[0m\u001b[0;34m\u001b[0m\u001b[0m\n\u001b[0;32m---> 11\u001b[0;31m         \u001b[0mself\u001b[0m\u001b[0;34m.\u001b[0m\u001b[0m__init__\u001b[0m\u001b[0;34m(\u001b[0m\u001b[0ma\u001b[0m\u001b[0;34m)\u001b[0m\u001b[0;34m\u001b[0m\u001b[0m\n\u001b[0m\u001b[1;32m     12\u001b[0m \u001b[0mo2\u001b[0m\u001b[0;34m=\u001b[0m\u001b[0mc2\u001b[0m\u001b[0;34m(\u001b[0m\u001b[0;36m100\u001b[0m\u001b[0;34m,\u001b[0m\u001b[0;36m200\u001b[0m\u001b[0;34m)\u001b[0m\u001b[0;34m\u001b[0m\u001b[0m\n\u001b[1;32m     13\u001b[0m \u001b[0mo2\u001b[0m\u001b[0;34m.\u001b[0m\u001b[0mget\u001b[0m\u001b[0;34m(\u001b[0m\u001b[0;34m)\u001b[0m\u001b[0;34m\u001b[0m\u001b[0m\n",
      "\u001b[0;31mTypeError\u001b[0m: __init__() missing 1 required positional argument: 'b'"
     ]
    }
   ],
   "source": [
    "class c1:\n",
    "    def __init__(self,a):\n",
    "        print(\"init in c1\")\n",
    "        self.a=a\n",
    "    def get(self):\n",
    "        return self.a\n",
    "class c2(c1):\n",
    "    def __init__(self,a,b):\n",
    "        print(\"init in c2\")\n",
    "        self.b=b\n",
    "        self.__init__(a)\n",
    "o2=c2(100,200)\n",
    "o2.get()"
   ]
  },
  {
   "cell_type": "code",
   "execution_count": 41,
   "metadata": {},
   "outputs": [
    {
     "name": "stdout",
     "output_type": "stream",
     "text": [
      "init in c2\n",
      "init in c1\n"
     ]
    },
    {
     "data": {
      "text/plain": [
       "100"
      ]
     },
     "execution_count": 41,
     "metadata": {},
     "output_type": "execute_result"
    }
   ],
   "source": [
    "class c1:\n",
    "    def __init__(self,a):\n",
    "        print(\"init in c1\")\n",
    "        self.a=a\n",
    "    def get(self):\n",
    "        return self.a\n",
    "class c2(c1):\n",
    "    def __init__(self,a,b):\n",
    "        print(\"init in c2\")\n",
    "        self.b=b\n",
    "        c1.__init__(self,a)\n",
    "o2=c2(100,200)\n",
    "o2.get()"
   ]
  },
  {
   "cell_type": "code",
   "execution_count": 42,
   "metadata": {},
   "outputs": [
    {
     "name": "stdout",
     "output_type": "stream",
     "text": [
      "init in c1\n"
     ]
    },
    {
     "data": {
      "text/plain": [
       "100"
      ]
     },
     "execution_count": 42,
     "metadata": {},
     "output_type": "execute_result"
    }
   ],
   "source": [
    "class c1:\n",
    "    def __init__(self,a,b):\n",
    "        print(\"init in c1\")\n",
    "        self.a=a\n",
    "        self.b=b\n",
    "    def get(self):\n",
    "        return self.a\n",
    "\n",
    "o2=c1(100,200)\n",
    "o2.get()"
   ]
  },
  {
   "cell_type": "code",
   "execution_count": null,
   "metadata": {},
   "outputs": [],
   "source": [
    "# extend the functionality of perticular requirement\n",
    "#po\n",
    "# learning python edition 5"
   ]
  },
  {
   "cell_type": "code",
   "execution_count": 1,
   "metadata": {},
   "outputs": [
    {
     "name": "stdout",
     "output_type": "stream",
     "text": [
      "10 20\n"
     ]
    }
   ],
   "source": [
    "def fun(a,b):\n",
    "    print(a,b)\n",
    "fun(10,20)"
   ]
  },
  {
   "cell_type": "code",
   "execution_count": 2,
   "metadata": {},
   "outputs": [
    {
     "ename": "TypeError",
     "evalue": "fun() missing 1 required positional argument: 'b'",
     "output_type": "error",
     "traceback": [
      "\u001b[0;31m---------------------------------------------------------------------------\u001b[0m",
      "\u001b[0;31mTypeError\u001b[0m                                 Traceback (most recent call last)",
      "\u001b[0;32m<ipython-input-2-429a6ce9c85a>\u001b[0m in \u001b[0;36m<module>\u001b[0;34m()\u001b[0m\n\u001b[0;32m----> 1\u001b[0;31m \u001b[0mfun\u001b[0m\u001b[0;34m(\u001b[0m\u001b[0;36m10\u001b[0m\u001b[0;34m)\u001b[0m\u001b[0;34m\u001b[0m\u001b[0m\n\u001b[0m",
      "\u001b[0;31mTypeError\u001b[0m: fun() missing 1 required positional argument: 'b'"
     ]
    }
   ],
   "source": [
    "fun(10)"
   ]
  },
  {
   "cell_type": "code",
   "execution_count": 3,
   "metadata": {},
   "outputs": [
    {
     "ename": "TypeError",
     "evalue": "fun() takes 2 positional arguments but 3 were given",
     "output_type": "error",
     "traceback": [
      "\u001b[0;31m---------------------------------------------------------------------------\u001b[0m",
      "\u001b[0;31mTypeError\u001b[0m                                 Traceback (most recent call last)",
      "\u001b[0;32m<ipython-input-3-19eb32098918>\u001b[0m in \u001b[0;36m<module>\u001b[0;34m()\u001b[0m\n\u001b[0;32m----> 1\u001b[0;31m \u001b[0mfun\u001b[0m\u001b[0;34m(\u001b[0m\u001b[0;36m10\u001b[0m\u001b[0;34m,\u001b[0m\u001b[0;36m20\u001b[0m\u001b[0;34m,\u001b[0m\u001b[0;36m30\u001b[0m\u001b[0;34m)\u001b[0m\u001b[0;34m\u001b[0m\u001b[0m\n\u001b[0m",
      "\u001b[0;31mTypeError\u001b[0m: fun() takes 2 positional arguments but 3 were given"
     ]
    }
   ],
   "source": [
    "fun(10,20,30)"
   ]
  },
  {
   "cell_type": "code",
   "execution_count": 5,
   "metadata": {},
   "outputs": [],
   "source": [
    "#method overloading\n",
    "class Emp:\n",
    "    def __init__(self,e_id, name, dob=None, doj=None,pan=None):\n",
    "        self.id=e_id\n",
    "        self.name=name\n",
    "        self.dob=dob\n",
    "        self.doj=doj\n",
    "        self.pan=pan\n",
    "    def get(self):\n",
    "        return self.__dict__\n",
    "sai=Emp(1,\"Sailaxmi\")\n",
    "jay=Emp(2,\"Jayaram\",dob=\"01-01-2001\")\n",
    "vedha=Emp(3,\"Vedhanvesh\",pan=\"BRCPR2345\",doj=\"01-01-2017\")"
   ]
  },
  {
   "cell_type": "code",
   "execution_count": 6,
   "metadata": {},
   "outputs": [
    {
     "ename": "TypeError",
     "evalue": "fun1() missing 1 required positional argument: 'c'",
     "output_type": "error",
     "traceback": [
      "\u001b[0;31m---------------------------------------------------------------------------\u001b[0m",
      "\u001b[0;31mTypeError\u001b[0m                                 Traceback (most recent call last)",
      "\u001b[0;32m<ipython-input-6-ebe29236790e>\u001b[0m in \u001b[0;36m<module>\u001b[0;34m()\u001b[0m\n\u001b[1;32m      3\u001b[0m \u001b[0;32mdef\u001b[0m \u001b[0mfun1\u001b[0m\u001b[0;34m(\u001b[0m\u001b[0ma\u001b[0m\u001b[0;34m,\u001b[0m\u001b[0mb\u001b[0m\u001b[0;34m,\u001b[0m\u001b[0mc\u001b[0m\u001b[0;34m)\u001b[0m\u001b[0;34m:\u001b[0m\u001b[0;34m\u001b[0m\u001b[0m\n\u001b[1;32m      4\u001b[0m     \u001b[0mprint\u001b[0m\u001b[0;34m(\u001b[0m\u001b[0ma\u001b[0m\u001b[0;34m,\u001b[0m\u001b[0mb\u001b[0m\u001b[0;34m,\u001b[0m\u001b[0mc\u001b[0m\u001b[0;34m)\u001b[0m\u001b[0;34m\u001b[0m\u001b[0m\n\u001b[0;32m----> 5\u001b[0;31m \u001b[0mfun1\u001b[0m\u001b[0;34m(\u001b[0m\u001b[0;36m10\u001b[0m\u001b[0;34m,\u001b[0m\u001b[0;36m20\u001b[0m\u001b[0;34m)\u001b[0m\u001b[0;34m\u001b[0m\u001b[0m\n\u001b[0m\u001b[1;32m      6\u001b[0m \u001b[0mfun1\u001b[0m\u001b[0;34m(\u001b[0m\u001b[0;36m10\u001b[0m\u001b[0;34m,\u001b[0m\u001b[0;36m20\u001b[0m\u001b[0;34m,\u001b[0m\u001b[0;36m30\u001b[0m\u001b[0;34m)\u001b[0m\u001b[0;34m\u001b[0m\u001b[0m\n",
      "\u001b[0;31mTypeError\u001b[0m: fun1() missing 1 required positional argument: 'c'"
     ]
    }
   ],
   "source": [
    "def fun1(a,b):\n",
    "    print(a,b)\n",
    "def fun1(a,b,c):\n",
    "    print(a,b,c)\n",
    "fun1(10,20)\n",
    "fun1(10,20,30)"
   ]
  },
  {
   "cell_type": "code",
   "execution_count": 7,
   "metadata": {},
   "outputs": [
    {
     "name": "stdout",
     "output_type": "stream",
     "text": [
      "10 20 30\n"
     ]
    }
   ],
   "source": [
    "def fun1(a,b):\n",
    "    print(a,b)\n",
    "def fun1(a,b,c):\n",
    "    print(a,b,c)\n",
    "\n",
    "fun1(10,20,30)"
   ]
  },
  {
   "cell_type": "code",
   "execution_count": 8,
   "metadata": {},
   "outputs": [
    {
     "name": "stdout",
     "output_type": "stream",
     "text": [
      "inert the data: {'name': 'sup1', 'address': 'ad1'}\n"
     ]
    }
   ],
   "source": [
    "class Model:\n",
    "    def __init__(self,data):\n",
    "        self.data=data\n",
    "    def create(self):\n",
    "        print(\"inert the data:\",self.data)\n",
    "\n",
    "class Supplier(Model):\n",
    "    pass\n",
    "\n",
    "sup1=Supplier({\"name\":\"sup1\",\"address\":\"ad1\"})\n",
    "sup1.create()"
   ]
  },
  {
   "cell_type": "code",
   "execution_count": 9,
   "metadata": {},
   "outputs": [
    {
     "name": "stdout",
     "output_type": "stream",
     "text": [
      "inert the data: {'name': 'sup1', 'address': 'ad1'}\n",
      "inert the data: {'name': 'cust1', 'address': 'ad1', 'dis': 10}\n"
     ]
    }
   ],
   "source": [
    "class Model:\n",
    "    def __init__(self,data):\n",
    "        self.data=data\n",
    "    def create(self):\n",
    "        print(\"inert the data:\",self.data)\n",
    "\n",
    "class Supplier(Model):\n",
    "    pass\n",
    "class Customer(Model):\n",
    "    pass\n",
    "sup1=Supplier({\"name\":\"sup1\",\"address\":\"ad1\"})\n",
    "sup1.create()\n",
    "cust1=Customer({\"name\":\"cust1\",\"address\":\"ad1\",\"dis\":10})\n",
    "cust1.create()"
   ]
  },
  {
   "cell_type": "code",
   "execution_count": 10,
   "metadata": {},
   "outputs": [
    {
     "name": "stdout",
     "output_type": "stream",
     "text": [
      "inert the data: {'name': 'sup1', 'address': 'ad1'}\n",
      "inert the data: {'name': 'cust1', 'address': 'ad1', 'dis': 10}\n",
      "inert the data: {'name': 'Apple', 'cp': 23}\n"
     ]
    }
   ],
   "source": [
    "class Model:\n",
    "    def __init__(self,data):\n",
    "        self.data=data\n",
    "    def create(self):\n",
    "        # verification code\n",
    "        print(\"inert the data:\",self.data)\n",
    "\n",
    "class Supplier(Model):\n",
    "    pass\n",
    "class Customer(Model):\n",
    "    pass\n",
    "class Product(Model):\n",
    "    pass\n",
    "sup1=Supplier({\"name\":\"sup1\",\"address\":\"ad1\"})\n",
    "sup1.create()\n",
    "cust1=Customer({\"name\":\"cust1\",\"address\":\"ad1\",\"dis\":10})\n",
    "cust1.create()\n",
    "apple=Product({\"name\":\"Apple\",\"cp\":23})\n",
    "apple.create()"
   ]
  },
  {
   "cell_type": "code",
   "execution_count": 12,
   "metadata": {},
   "outputs": [
    {
     "name": "stdout",
     "output_type": "stream",
     "text": [
      "inert the data: {'name': 'sup1', 'address': 'ad1'}\n",
      "inert the data: {'name': 'cust1', 'address': 'ad1', 'dis': 10}\n",
      "inert the data: {'name': 'Apple', 'cp': 23}\n"
     ]
    }
   ],
   "source": [
    "class Model:\n",
    "    def __init__(self,data):\n",
    "        self.data=data\n",
    "    def create(self):\n",
    "        print(\"inert the data:\",self.data)\n",
    "\n",
    "class Supplier(Model):\n",
    "    pass\n",
    "class Customer(Model):\n",
    "    pass\n",
    "class Product(Model):\n",
    "    def verify_create(self):\n",
    "        if str(self.data.get(\"cp\")).isdigit():\n",
    "            print(\"inert the data:\",self.data)\n",
    "        else:\n",
    "            print(\"validation failed\")\n",
    "sup1=Supplier({\"name\":\"sup1\",\"address\":\"ad1\"})\n",
    "sup1.create()\n",
    "cust1=Customer({\"name\":\"cust1\",\"address\":\"ad1\",\"dis\":10})\n",
    "cust1.create()\n",
    "apple=Product({\"name\":\"Apple\",\"cp\":23})\n",
    "apple.verify_create()"
   ]
  },
  {
   "cell_type": "code",
   "execution_count": 15,
   "metadata": {},
   "outputs": [
    {
     "name": "stdout",
     "output_type": "stream",
     "text": [
      "inert the data: {'name': 'sup1', 'address': 'ad1'}\n",
      "inert the data: {'name': 'cust1', 'address': 'ad1', 'dis': 10}\n",
      "inert the data: {'name': 'Apple', 'cp': 23}\n",
      "validation failed\n"
     ]
    }
   ],
   "source": [
    "class Model:\n",
    "    def __init__(self,data):\n",
    "        self.data=data\n",
    "    def create(self):\n",
    "        print(\"inert the data:\",self.data)\n",
    "\n",
    "class Supplier(Model):\n",
    "    pass\n",
    "class Customer(Model):\n",
    "    pass\n",
    "class Product(Model):\n",
    "    def verify_create(self):\n",
    "        if str(self.data.get(\"cp\")).isdigit():\n",
    "            print(\"inert the data:\",self.data)\n",
    "        else:\n",
    "            print(\"validation failed\")\n",
    "sup1=Supplier({\"name\":\"sup1\",\"address\":\"ad1\"})\n",
    "sup1.create()\n",
    "cust1=Customer({\"name\":\"cust1\",\"address\":\"ad1\",\"dis\":10})\n",
    "cust1.create()\n",
    "apple=Product({\"name\":\"Apple\",\"cp\":23})\n",
    "apple.verify_create()\n",
    "mango=Product({\"name\":\"Mango\",\"cp\":\"sfds\"})\n",
    "mango.verify_create()"
   ]
  },
  {
   "cell_type": "code",
   "execution_count": 16,
   "metadata": {},
   "outputs": [
    {
     "name": "stdout",
     "output_type": "stream",
     "text": [
      "inert the data: {'name': 'sup1', 'address': 'ad1'}\n",
      "inert the data: {'name': 'cust1', 'address': 'ad1', 'dis': 10}\n",
      "inert the data: {'name': 'Apple', 'cp': 23}\n",
      "inert the data: {'name': 'Mango', 'cp': 'sfds'}\n"
     ]
    }
   ],
   "source": [
    "class Model:\n",
    "    def __init__(self,data):\n",
    "        self.data=data\n",
    "    def create(self):\n",
    "        print(\"inert the data:\",self.data)\n",
    "\n",
    "class Supplier(Model):\n",
    "    pass\n",
    "class Customer(Model):\n",
    "    pass\n",
    "class Product(Model):\n",
    "    def verify_create(self):\n",
    "        if str(self.data.get(\"cp\")).isdigit():\n",
    "            print(\"inert the data:\",self.data)\n",
    "        else:\n",
    "            print(\"validation failed\")\n",
    "sup1=Supplier({\"name\":\"sup1\",\"address\":\"ad1\"})\n",
    "sup1.create()\n",
    "cust1=Customer({\"name\":\"cust1\",\"address\":\"ad1\",\"dis\":10})\n",
    "cust1.create()\n",
    "apple=Product({\"name\":\"Apple\",\"cp\":23})\n",
    "apple.create()\n",
    "mango=Product({\"name\":\"Mango\",\"cp\":\"sfds\"})\n",
    "mango.create()"
   ]
  },
  {
   "cell_type": "code",
   "execution_count": 17,
   "metadata": {},
   "outputs": [
    {
     "name": "stdout",
     "output_type": "stream",
     "text": [
      "inert the data: {'name': 'sup1', 'address': 'ad1'}\n",
      "inert the data: {'name': 'cust1', 'address': 'ad1', 'dis': 10}\n",
      "inert the data: {'name': 'Apple', 'cp': 23}\n",
      "validation failed\n"
     ]
    }
   ],
   "source": [
    "class Model:\n",
    "    def __init__(self,data):\n",
    "        self.data=data\n",
    "    def create(self):\n",
    "        print(\"inert the data:\",self.data)\n",
    "\n",
    "class Supplier(Model):\n",
    "    pass\n",
    "class Customer(Model):\n",
    "    pass\n",
    "class Product(Model):\n",
    "    def create(self):\n",
    "        if str(self.data.get(\"cp\")).isdigit():\n",
    "            print(\"inert the data:\",self.data)\n",
    "        else:\n",
    "            print(\"validation failed\")\n",
    "sup1=Supplier({\"name\":\"sup1\",\"address\":\"ad1\"})\n",
    "sup1.create()\n",
    "cust1=Customer({\"name\":\"cust1\",\"address\":\"ad1\",\"dis\":10})\n",
    "cust1.create()\n",
    "apple=Product({\"name\":\"Apple\",\"cp\":23})\n",
    "apple.create()\n",
    "mango=Product({\"name\":\"Mango\",\"cp\":\"sfds\"})\n",
    "mango.create()"
   ]
  },
  {
   "cell_type": "code",
   "execution_count": 18,
   "metadata": {},
   "outputs": [
    {
     "name": "stdout",
     "output_type": "stream",
     "text": [
      "inert the data: {'name': 'sup1', 'address': 'ad1'}\n",
      "inert the data: {'name': 'cust1', 'address': 'ad1', 'dis': 10}\n",
      "inert the data: {'name': 'Apple', 'cp': 23}\n",
      "validation failed\n"
     ]
    }
   ],
   "source": [
    "class Model:\n",
    "    def __init__(self,data):\n",
    "        self.data=data\n",
    "    def create(self):\n",
    "        print(\"inert the data:\",self.data)\n",
    "\n",
    "class Supplier(Model):\n",
    "    pass\n",
    "class Customer(Model):\n",
    "    pass\n",
    "class Product(Model):\n",
    "    def create(self):\n",
    "        if str(self.data.get(\"cp\")).isdigit():\n",
    "            #print(\"inert the data:\",self.data)\n",
    "            Model.create(self)\n",
    "        else:\n",
    "            print(\"validation failed\")\n",
    "sup1=Supplier({\"name\":\"sup1\",\"address\":\"ad1\"})\n",
    "sup1.create()\n",
    "cust1=Customer({\"name\":\"cust1\",\"address\":\"ad1\",\"dis\":10})\n",
    "cust1.create()\n",
    "apple=Product({\"name\":\"Apple\",\"cp\":23})\n",
    "apple.create()\n",
    "mango=Product({\"name\":\"Mango\",\"cp\":\"sfds\"})\n",
    "mango.create()"
   ]
  },
  {
   "cell_type": "code",
   "execution_count": 19,
   "metadata": {},
   "outputs": [],
   "source": [
    "# operator over\n",
    "# method overloading:calling a method with different number/types of arguments: belogns to single class\n",
    "# method overriding: define a method with same name in parent and child classes: belongstwo inherited classes\n"
   ]
  },
  {
   "cell_type": "code",
   "execution_count": 20,
   "metadata": {},
   "outputs": [],
   "source": [
    "class c1:\n",
    "    def create(self):\n",
    "        print(\"sdf\")\n",
    "class c2(c1):\n",
    "    def create(self):\n",
    "        print(\"dfds\")"
   ]
  },
  {
   "cell_type": "code",
   "execution_count": 21,
   "metadata": {},
   "outputs": [
    {
     "name": "stdout",
     "output_type": "stream",
     "text": [
      "30\n",
      "str1str2\n",
      "(4+6j)\n",
      "[10, 20, 30, 40, 50, 60]\n"
     ]
    }
   ],
   "source": [
    "# operator overloading...\n",
    "print(10+20)\n",
    "print(\"str1\"+\"str2\")\n",
    "print(1+2j+3+4j)\n",
    "print([10,20,30]+[40,50,60])"
   ]
  },
  {
   "cell_type": "code",
   "execution_count": 22,
   "metadata": {},
   "outputs": [],
   "source": [
    "#method overloading\n",
    "class Emp:\n",
    "    def __init__(self,e_id, name, dob=None, doj=None,pan=None):\n",
    "        self.id=e_id\n",
    "        self.name=name\n",
    "        self.dob=dob\n",
    "        self.doj=doj\n",
    "        self.pan=pan\n",
    "    def get(self):\n",
    "        return self.__dict__\n",
    "sai=Emp(1,\"Sailaxmi\")\n",
    "jay=Emp(2,\"Jayaram\",dob=\"01-01-2001\")\n",
    "vedha=Emp(3,\"Vedhanvesh\",pan=\"BRCPR2345\",doj=\"01-01-2017\")\n",
    "a=1000 # 1000 data object a is an instance of int class. it will call constructor of int class \n",
    "b=2000"
   ]
  },
  {
   "cell_type": "code",
   "execution_count": 23,
   "metadata": {},
   "outputs": [],
   "source": [
    "a=int(1000)"
   ]
  },
  {
   "cell_type": "code",
   "execution_count": 24,
   "metadata": {},
   "outputs": [
    {
     "name": "stdout",
     "output_type": "stream",
     "text": [
      "1000 <class 'int'> 140015900179152\n"
     ]
    }
   ],
   "source": [
    "print(a,type(a),id(a))"
   ]
  },
  {
   "cell_type": "code",
   "execution_count": 25,
   "metadata": {},
   "outputs": [
    {
     "data": {
      "text/plain": [
       "3000"
      ]
     },
     "execution_count": 25,
     "metadata": {},
     "output_type": "execute_result"
    }
   ],
   "source": [
    "a+b"
   ]
  },
  {
   "cell_type": "code",
   "execution_count": 26,
   "metadata": {},
   "outputs": [
    {
     "ename": "TypeError",
     "evalue": "unsupported operand type(s) for +: 'Emp' and 'Emp'",
     "output_type": "error",
     "traceback": [
      "\u001b[0;31m---------------------------------------------------------------------------\u001b[0m",
      "\u001b[0;31mTypeError\u001b[0m                                 Traceback (most recent call last)",
      "\u001b[0;32m<ipython-input-26-87f597df59d2>\u001b[0m in \u001b[0;36m<module>\u001b[0;34m()\u001b[0m\n\u001b[1;32m     12\u001b[0m \u001b[0mjay\u001b[0m\u001b[0;34m=\u001b[0m\u001b[0mEmp\u001b[0m\u001b[0;34m(\u001b[0m\u001b[0;36m2\u001b[0m\u001b[0;34m,\u001b[0m\u001b[0;34m\"Jayaram\"\u001b[0m\u001b[0;34m,\u001b[0m\u001b[0mdob\u001b[0m\u001b[0;34m=\u001b[0m\u001b[0;34m\"01-01-2001\"\u001b[0m\u001b[0;34m)\u001b[0m\u001b[0;34m\u001b[0m\u001b[0m\n\u001b[1;32m     13\u001b[0m \u001b[0mvedha\u001b[0m\u001b[0;34m=\u001b[0m\u001b[0mEmp\u001b[0m\u001b[0;34m(\u001b[0m\u001b[0;36m3\u001b[0m\u001b[0;34m,\u001b[0m\u001b[0;34m\"Vedhanvesh\"\u001b[0m\u001b[0;34m,\u001b[0m\u001b[0mpan\u001b[0m\u001b[0;34m=\u001b[0m\u001b[0;34m\"BRCPR2345\"\u001b[0m\u001b[0;34m,\u001b[0m\u001b[0mdoj\u001b[0m\u001b[0;34m=\u001b[0m\u001b[0;34m\"01-01-2017\"\u001b[0m\u001b[0;34m)\u001b[0m\u001b[0;34m\u001b[0m\u001b[0m\n\u001b[0;32m---> 14\u001b[0;31m \u001b[0msai\u001b[0m\u001b[0;34m+\u001b[0m\u001b[0mvedha\u001b[0m\u001b[0;34m\u001b[0m\u001b[0m\n\u001b[0m",
      "\u001b[0;31mTypeError\u001b[0m: unsupported operand type(s) for +: 'Emp' and 'Emp'"
     ]
    }
   ],
   "source": [
    "#operator overloading\n",
    "class Emp:\n",
    "    def __init__(self,e_id, name, dob=None, doj=None,pan=None):\n",
    "        self.id=e_id\n",
    "        self.name=name\n",
    "        self.dob=dob\n",
    "        self.doj=doj\n",
    "        self.pan=pan\n",
    "    def get(self):\n",
    "        return self.__dict__\n",
    "sai=Emp(1,\"Sailaxmi\")\n",
    "jay=Emp(2,\"Jayaram\",dob=\"01-01-2001\")\n",
    "vedha=Emp(3,\"Vedhanvesh\",pan=\"BRCPR2345\",doj=\"01-01-2017\")\n",
    "sai+vedha"
   ]
  },
  {
   "cell_type": "code",
   "execution_count": 27,
   "metadata": {},
   "outputs": [
    {
     "ename": "TypeError",
     "evalue": "unsupported operand type(s) for +: 'dict' and 'dict'",
     "output_type": "error",
     "traceback": [
      "\u001b[0;31m---------------------------------------------------------------------------\u001b[0m",
      "\u001b[0;31mTypeError\u001b[0m                                 Traceback (most recent call last)",
      "\u001b[0;32m<ipython-input-27-9b42173b773a>\u001b[0m in \u001b[0;36m<module>\u001b[0;34m()\u001b[0m\n\u001b[0;32m----> 1\u001b[0;31m \u001b[0;34m{\u001b[0m\u001b[0;36m1\u001b[0m\u001b[0;34m:\u001b[0m\u001b[0;36m2\u001b[0m\u001b[0;34m}\u001b[0m\u001b[0;34m+\u001b[0m\u001b[0;34m{\u001b[0m\u001b[0;36m3\u001b[0m\u001b[0;34m:\u001b[0m\u001b[0;36m4\u001b[0m\u001b[0;34m}\u001b[0m\u001b[0;34m\u001b[0m\u001b[0m\n\u001b[0m",
      "\u001b[0;31mTypeError\u001b[0m: unsupported operand type(s) for +: 'dict' and 'dict'"
     ]
    }
   ],
   "source": [
    "{1:2}+{3:4}"
   ]
  },
  {
   "cell_type": "code",
   "execution_count": 28,
   "metadata": {},
   "outputs": [
    {
     "data": {
      "text/plain": [
       "300"
      ]
     },
     "execution_count": 28,
     "metadata": {},
     "output_type": "execute_result"
    }
   ],
   "source": [
    "100+200"
   ]
  },
  {
   "cell_type": "code",
   "execution_count": 29,
   "metadata": {},
   "outputs": [
    {
     "data": {
      "text/plain": [
       "300"
      ]
     },
     "execution_count": 29,
     "metadata": {},
     "output_type": "execute_result"
    }
   ],
   "source": [
    "#operator overloading\n",
    "class Emp:\n",
    "    def __init__(self,e_id, name, dob=None, doj=None,pan=None):\n",
    "        self.id=e_id\n",
    "        self.name=name\n",
    "        self.dob=dob\n",
    "        self.doj=doj\n",
    "        self.pan=pan\n",
    "    def get(self):\n",
    "        return self.__dict__\n",
    "    def __add__(self1,self2):\n",
    "        return 300\n",
    "sai=Emp(1,\"Sailaxmi\")\n",
    "jay=Emp(2,\"Jayaram\",dob=\"01-01-2001\")\n",
    "vedha=Emp(3,\"Vedhanvesh\",pan=\"BRCPR2345\",doj=\"01-01-2017\")\n",
    "sai+vedha"
   ]
  },
  {
   "cell_type": "code",
   "execution_count": 30,
   "metadata": {},
   "outputs": [
    {
     "ename": "TypeError",
     "evalue": "object of type 'Emp' has no len()",
     "output_type": "error",
     "traceback": [
      "\u001b[0;31m---------------------------------------------------------------------------\u001b[0m",
      "\u001b[0;31mTypeError\u001b[0m                                 Traceback (most recent call last)",
      "\u001b[0;32m<ipython-input-30-6f94de1526d2>\u001b[0m in \u001b[0;36m<module>\u001b[0;34m()\u001b[0m\n\u001b[1;32m     15\u001b[0m \u001b[0mvedha\u001b[0m\u001b[0;34m=\u001b[0m\u001b[0mEmp\u001b[0m\u001b[0;34m(\u001b[0m\u001b[0;36m3\u001b[0m\u001b[0;34m,\u001b[0m\u001b[0;34m\"Vedhanvesh\"\u001b[0m\u001b[0;34m,\u001b[0m\u001b[0mpan\u001b[0m\u001b[0;34m=\u001b[0m\u001b[0;34m\"BRCPR2345\"\u001b[0m\u001b[0;34m,\u001b[0m\u001b[0mdoj\u001b[0m\u001b[0;34m=\u001b[0m\u001b[0;34m\"01-01-2017\"\u001b[0m\u001b[0;34m)\u001b[0m\u001b[0;34m\u001b[0m\u001b[0m\n\u001b[1;32m     16\u001b[0m \u001b[0msai\u001b[0m\u001b[0;34m+\u001b[0m\u001b[0mvedha\u001b[0m\u001b[0;34m\u001b[0m\u001b[0m\n\u001b[0;32m---> 17\u001b[0;31m \u001b[0mprint\u001b[0m\u001b[0;34m(\u001b[0m\u001b[0mlen\u001b[0m\u001b[0;34m(\u001b[0m\u001b[0msai\u001b[0m\u001b[0;34m)\u001b[0m\u001b[0;34m)\u001b[0m\u001b[0;34m\u001b[0m\u001b[0m\n\u001b[0m",
      "\u001b[0;31mTypeError\u001b[0m: object of type 'Emp' has no len()"
     ]
    }
   ],
   "source": [
    "#operator overloading\n",
    "class Emp:\n",
    "    def __init__(self,e_id, name, dob=None, doj=None,pan=None):\n",
    "        self.id=e_id\n",
    "        self.name=name\n",
    "        self.dob=dob\n",
    "        self.doj=doj\n",
    "        self.pan=pan\n",
    "    def get(self):\n",
    "        return self.__dict__\n",
    "    def __add__(self1,self2):\n",
    "        return 300\n",
    "sai=Emp(1,\"Sailaxmi\")\n",
    "jay=Emp(2,\"Jayaram\",dob=\"01-01-2001\")\n",
    "vedha=Emp(3,\"Vedhanvesh\",pan=\"BRCPR2345\",doj=\"01-01-2017\")\n",
    "sai+vedha\n",
    "print(len(sai))"
   ]
  },
  {
   "cell_type": "code",
   "execution_count": 32,
   "metadata": {},
   "outputs": [
    {
     "name": "stdout",
     "output_type": "stream",
     "text": [
      "300\n",
      "30\n"
     ]
    }
   ],
   "source": [
    "#operator overloading\n",
    "class Emp:\n",
    "    def __init__(self,e_id, name, dob=None, doj=None,pan=None):\n",
    "        self.id=e_id\n",
    "        self.name=name\n",
    "        self.dob=dob\n",
    "        self.doj=doj\n",
    "        self.pan=pan\n",
    "    def get(self):\n",
    "        return self.__dict__\n",
    "    def __add__(self1,self2):\n",
    "        return 300\n",
    "    def __len__(self):\n",
    "        return 30\n",
    "sai=Emp(1,\"Sailaxmi\")\n",
    "jay=Emp(2,\"Jayaram\",dob=\"01-01-2001\")\n",
    "vedha=Emp(3,\"Vedhanvesh\",pan=\"BRCPR2345\",doj=\"01-01-2017\")\n",
    "print(sai+vedha)\n",
    "print(len(sai))"
   ]
  },
  {
   "cell_type": "code",
   "execution_count": 33,
   "metadata": {},
   "outputs": [
    {
     "name": "stdout",
     "output_type": "stream",
     "text": [
      "{1: {'id': 1, 'name': 'Sailaxmi', 'dob': None, 'doj': None, 'pan': None}, 3: {'id': 3, 'name': 'Vedhanvesh', 'dob': None, 'doj': '01-01-2017', 'pan': 'BRCPR2345'}}\n",
      "30\n"
     ]
    }
   ],
   "source": [
    "#operator overloading\n",
    "class Emp:\n",
    "    def __init__(self,e_id, name, dob=None, doj=None,pan=None):\n",
    "        self.id=e_id\n",
    "        self.name=name\n",
    "        self.dob=dob\n",
    "        self.doj=doj\n",
    "        self.pan=pan\n",
    "    def get(self):\n",
    "        return self.__dict__\n",
    "    def __add__(self1,self2):\n",
    "        return {self1.id:self1.__dict__,self2.id:self2.__dict__}\n",
    "    def __len__(self):\n",
    "        return 30\n",
    "sai=Emp(1,\"Sailaxmi\")\n",
    "jay=Emp(2,\"Jayaram\",dob=\"01-01-2001\")\n",
    "vedha=Emp(3,\"Vedhanvesh\",pan=\"BRCPR2345\",doj=\"01-01-2017\")\n",
    "print(sai+vedha)\n",
    "print(len(sai))"
   ]
  },
  {
   "cell_type": "code",
   "execution_count": 34,
   "metadata": {},
   "outputs": [
    {
     "name": "stdout",
     "output_type": "stream",
     "text": [
      "{1: {'id': 1, 'name': 'Sailaxmi', 'dob': None, 'doj': None, 'pan': None}, 3: {'id': 3, 'name': 'Vedhanvesh', 'dob': None, 'doj': '01-01-2017', 'pan': 'BRCPR2345'}}\n",
      "5\n"
     ]
    }
   ],
   "source": [
    "#operator overloading\n",
    "class Emp:\n",
    "    def __init__(self,e_id, name, dob=None, doj=None,pan=None):\n",
    "        self.id=e_id\n",
    "        self.name=name\n",
    "        self.dob=dob\n",
    "        self.doj=doj\n",
    "        self.pan=pan\n",
    "    def get(self):\n",
    "        return self.__dict__\n",
    "    def __add__(self1,self2):\n",
    "        return {self1.id:self1.__dict__,self2.id:self2.__dict__}\n",
    "    def __len__(self):\n",
    "        return len(self.__dict__)\n",
    "sai=Emp(1,\"Sailaxmi\")\n",
    "jay=Emp(2,\"Jayaram\",dob=\"01-01-2001\")\n",
    "vedha=Emp(3,\"Vedhanvesh\",pan=\"BRCPR2345\",doj=\"01-01-2017\")\n",
    "print(sai+vedha)\n",
    "print(len(sai))"
   ]
  },
  {
   "cell_type": "code",
   "execution_count": 35,
   "metadata": {},
   "outputs": [
    {
     "name": "stdout",
     "output_type": "stream",
     "text": [
      "{1: {'id': 1, 'name': 'Sailaxmi', 'dob': None, 'doj': None, 'pan': None}, 3: {'id': 3, 'name': 'Vedhanvesh', 'dob': None, 'doj': '01-01-2017', 'pan': 'BRCPR2345'}}\n",
      "5\n"
     ]
    },
    {
     "ename": "TypeError",
     "evalue": "'Emp' object is not iterable",
     "output_type": "error",
     "traceback": [
      "\u001b[0;31m---------------------------------------------------------------------------\u001b[0m",
      "\u001b[0;31mTypeError\u001b[0m                                 Traceback (most recent call last)",
      "\u001b[0;32m<ipython-input-35-346ae7c0b463>\u001b[0m in \u001b[0;36m<module>\u001b[0;34m()\u001b[0m\n\u001b[1;32m     18\u001b[0m \u001b[0mprint\u001b[0m\u001b[0;34m(\u001b[0m\u001b[0msai\u001b[0m\u001b[0;34m+\u001b[0m\u001b[0mvedha\u001b[0m\u001b[0;34m)\u001b[0m\u001b[0;34m\u001b[0m\u001b[0m\n\u001b[1;32m     19\u001b[0m \u001b[0mprint\u001b[0m\u001b[0;34m(\u001b[0m\u001b[0mlen\u001b[0m\u001b[0;34m(\u001b[0m\u001b[0msai\u001b[0m\u001b[0;34m)\u001b[0m\u001b[0;34m)\u001b[0m\u001b[0;34m\u001b[0m\u001b[0m\n\u001b[0;32m---> 20\u001b[0;31m \u001b[0;32mfor\u001b[0m \u001b[0mi\u001b[0m \u001b[0;32min\u001b[0m \u001b[0msai\u001b[0m\u001b[0;34m:\u001b[0m\u001b[0;34m\u001b[0m\u001b[0m\n\u001b[0m\u001b[1;32m     21\u001b[0m     \u001b[0mprint\u001b[0m\u001b[0;34m(\u001b[0m\u001b[0mi\u001b[0m\u001b[0;34m)\u001b[0m\u001b[0;34m\u001b[0m\u001b[0m\n",
      "\u001b[0;31mTypeError\u001b[0m: 'Emp' object is not iterable"
     ]
    }
   ],
   "source": [
    "#operator overloading\n",
    "class Emp:\n",
    "    def __init__(self,e_id, name, dob=None, doj=None,pan=None):\n",
    "        self.id=e_id\n",
    "        self.name=name\n",
    "        self.dob=dob\n",
    "        self.doj=doj\n",
    "        self.pan=pan\n",
    "    def get(self):\n",
    "        return self.__dict__\n",
    "    def __add__(self1,self2):\n",
    "        return {self1.id:self1.__dict__,self2.id:self2.__dict__}\n",
    "    def __len__(self):\n",
    "        return len(self.__dict__)\n",
    "sai=Emp(1,\"Sailaxmi\")\n",
    "jay=Emp(2,\"Jayaram\",dob=\"01-01-2001\")\n",
    "vedha=Emp(3,\"Vedhanvesh\",pan=\"BRCPR2345\",doj=\"01-01-2017\")\n",
    "print(sai+vedha)\n",
    "print(len(sai))\n",
    "for i in sai:\n",
    "    print(i)"
   ]
  },
  {
   "cell_type": "code",
   "execution_count": 36,
   "metadata": {},
   "outputs": [
    {
     "ename": "TypeError",
     "evalue": "'int' object is not iterable",
     "output_type": "error",
     "traceback": [
      "\u001b[0;31m---------------------------------------------------------------------------\u001b[0m",
      "\u001b[0;31mTypeError\u001b[0m                                 Traceback (most recent call last)",
      "\u001b[0;32m<ipython-input-36-bcddcd506fd8>\u001b[0m in \u001b[0;36m<module>\u001b[0;34m()\u001b[0m\n\u001b[0;32m----> 1\u001b[0;31m \u001b[0;32mfor\u001b[0m \u001b[0mi\u001b[0m \u001b[0;32min\u001b[0m \u001b[0;36m100\u001b[0m\u001b[0;34m:\u001b[0m\u001b[0;34m\u001b[0m\u001b[0m\n\u001b[0m\u001b[1;32m      2\u001b[0m     \u001b[0mprint\u001b[0m\u001b[0;34m(\u001b[0m\u001b[0mi\u001b[0m\u001b[0;34m)\u001b[0m\u001b[0;34m\u001b[0m\u001b[0m\n",
      "\u001b[0;31mTypeError\u001b[0m: 'int' object is not iterable"
     ]
    }
   ],
   "source": [
    "for i in 100:\n",
    "    print(i)"
   ]
  },
  {
   "cell_type": "code",
   "execution_count": 38,
   "metadata": {},
   "outputs": [
    {
     "name": "stdout",
     "output_type": "stream",
     "text": [
      "w\n",
      "u\n",
      "r\n",
      "i\n",
      "e\n",
      "w\n"
     ]
    }
   ],
   "source": [
    "for i in \"wuriew\":\n",
    "    print(i)"
   ]
  },
  {
   "cell_type": "code",
   "execution_count": 39,
   "metadata": {},
   "outputs": [
    {
     "name": "stdout",
     "output_type": "stream",
     "text": [
      "name\n",
      "id\n"
     ]
    }
   ],
   "source": [
    "for i in {\"name\":\"sai\",\"id\":2}:\n",
    "    print(i)"
   ]
  },
  {
   "cell_type": "code",
   "execution_count": 40,
   "metadata": {},
   "outputs": [
    {
     "name": "stdout",
     "output_type": "stream",
     "text": [
      "{1: {'id': 1, 'name': 'Sailaxmi', 'dob': None, 'doj': None, 'pan': None}, 3: {'id': 3, 'name': 'Vedhanvesh', 'dob': None, 'doj': '01-01-2017', 'pan': 'BRCPR2345'}}\n",
      "5\n",
      "10\n",
      "20\n",
      "30\n"
     ]
    }
   ],
   "source": [
    "#operator overloading\n",
    "class Emp:\n",
    "    def __init__(self,e_id, name, dob=None, doj=None,pan=None):\n",
    "        self.id=e_id\n",
    "        self.name=name\n",
    "        self.dob=dob\n",
    "        self.doj=doj\n",
    "        self.pan=pan\n",
    "    def get(self):\n",
    "        return self.__dict__\n",
    "    def __add__(self1,self2):\n",
    "        return {self1.id:self1.__dict__,self2.id:self2.__dict__}\n",
    "    def __len__(self):\n",
    "        return len(self.__dict__)\n",
    "    def __iter__(self):\n",
    "        yield 10\n",
    "        yield 20\n",
    "        yield 30\n",
    "sai=Emp(1,\"Sailaxmi\")\n",
    "jay=Emp(2,\"Jayaram\",dob=\"01-01-2001\")\n",
    "vedha=Emp(3,\"Vedhanvesh\",pan=\"BRCPR2345\",doj=\"01-01-2017\")\n",
    "print(sai+vedha)\n",
    "print(len(sai))\n",
    "for i in sai:\n",
    "    print(i)"
   ]
  },
  {
   "cell_type": "code",
   "execution_count": 41,
   "metadata": {},
   "outputs": [
    {
     "name": "stdout",
     "output_type": "stream",
     "text": [
      "{1: {'id': 1, 'name': 'Sailaxmi', 'dob': None, 'doj': None, 'pan': None}, 3: {'id': 3, 'name': 'Vedhanvesh', 'dob': None, 'doj': '01-01-2017', 'pan': 'BRCPR2345'}}\n",
      "5\n",
      "id\n",
      "name\n",
      "dob\n",
      "doj\n",
      "pan\n"
     ]
    }
   ],
   "source": [
    "#operator overloading\n",
    "class Emp:\n",
    "    def __init__(self,e_id, name, dob=None, doj=None,pan=None):\n",
    "        self.id=e_id\n",
    "        self.name=name\n",
    "        self.dob=dob\n",
    "        self.doj=doj\n",
    "        self.pan=pan\n",
    "    def get(self):\n",
    "        return self.__dict__\n",
    "    def __add__(self1,self2):\n",
    "        return {self1.id:self1.__dict__,self2.id:self2.__dict__}\n",
    "    def __len__(self):\n",
    "        return len(self.__dict__)\n",
    "    def __iter__(self):\n",
    "        for i in self.__dict__:\n",
    "            yield i\n",
    "sai=Emp(1,\"Sailaxmi\")\n",
    "jay=Emp(2,\"Jayaram\",dob=\"01-01-2001\")\n",
    "vedha=Emp(3,\"Vedhanvesh\",pan=\"BRCPR2345\",doj=\"01-01-2017\")\n",
    "print(sai+vedha)\n",
    "print(len(sai))\n",
    "for i in sai:\n",
    "    print(i)"
   ]
  },
  {
   "cell_type": "code",
   "execution_count": 42,
   "metadata": {},
   "outputs": [
    {
     "name": "stdout",
     "output_type": "stream",
     "text": [
      "{1: {'id': 1, 'name': 'Sailaxmi', 'dob': None, 'doj': None, 'pan': None}, 3: {'id': 3, 'name': 'Vedhanvesh', 'dob': None, 'doj': '01-01-2017', 'pan': 'BRCPR2345'}}\n",
      "5\n",
      "('id', 1)\n",
      "('name', 'Sailaxmi')\n",
      "('dob', None)\n",
      "('doj', None)\n",
      "('pan', None)\n"
     ]
    }
   ],
   "source": [
    "#operator overloading\n",
    "class Emp:\n",
    "    def __init__(self,e_id, name, dob=None, doj=None,pan=None):\n",
    "        self.id=e_id\n",
    "        self.name=name\n",
    "        self.dob=dob\n",
    "        self.doj=doj\n",
    "        self.pan=pan\n",
    "    def get(self):\n",
    "        return self.__dict__\n",
    "    def __add__(self1,self2):\n",
    "        return {self1.id:self1.__dict__,self2.id:self2.__dict__}\n",
    "    def __len__(self):\n",
    "        return len(self.__dict__)\n",
    "    def __iter__(self):\n",
    "        for i in self.__dict__.items():\n",
    "            yield i\n",
    "sai=Emp(1,\"Sailaxmi\")\n",
    "jay=Emp(2,\"Jayaram\",dob=\"01-01-2001\")\n",
    "vedha=Emp(3,\"Vedhanvesh\",pan=\"BRCPR2345\",doj=\"01-01-2017\")\n",
    "print(sai+vedha)\n",
    "print(len(sai))\n",
    "for i in sai:\n",
    "    print(i)"
   ]
  },
  {
   "cell_type": "code",
   "execution_count": null,
   "metadata": {},
   "outputs": [],
   "source": []
  }
 ],
 "metadata": {
  "kernelspec": {
   "display_name": "Python 3",
   "language": "python",
   "name": "python3"
  },
  "language_info": {
   "codemirror_mode": {
    "name": "ipython",
    "version": 3
   },
   "file_extension": ".py",
   "mimetype": "text/x-python",
   "name": "python",
   "nbconvert_exporter": "python",
   "pygments_lexer": "ipython3",
   "version": "3.7.0"
  }
 },
 "nbformat": 4,
 "nbformat_minor": 2
}
