{
 "cells": [
  {
   "cell_type": "code",
   "execution_count": 1,
   "metadata": {},
   "outputs": [
    {
     "name": "stdout",
     "output_type": "stream",
     "text": [
      "EVEN\n",
      "ODD\n"
     ]
    }
   ],
   "source": [
    "def fun(x):\n",
    "    if x%2==0:\n",
    "        return \"EVEN\"\n",
    "    else:\n",
    "        return \"ODD\"\n",
    "print(fun(20))\n",
    "print(fun(21))"
   ]
  },
  {
   "cell_type": "code",
   "execution_count": 2,
   "metadata": {},
   "outputs": [
    {
     "name": "stdout",
     "output_type": "stream",
     "text": [
      "EVEN\n",
      "ODD\n"
     ]
    }
   ],
   "source": [
    "def fun(x):\n",
    "    return \"EVEN\" if x%2==0 else \"ODD\"\n",
    "print(fun(20))\n",
    "print(fun(21))"
   ]
  },
  {
   "cell_type": "code",
   "execution_count": 3,
   "metadata": {},
   "outputs": [
    {
     "name": "stdout",
     "output_type": "stream",
     "text": [
      "True\n",
      "False\n"
     ]
    }
   ],
   "source": [
    "def fun(x):\n",
    "    if x%2==0:\n",
    "        return True \n",
    "    else:\n",
    "        return False\n",
    "print(fun(20))\n",
    "print(fun(21))"
   ]
  },
  {
   "cell_type": "code",
   "execution_count": 4,
   "metadata": {},
   "outputs": [
    {
     "name": "stdout",
     "output_type": "stream",
     "text": [
      "True\n",
      "False\n"
     ]
    }
   ],
   "source": [
    "def fun(x):\n",
    "    return x%2==0\n",
    "print(fun(20))\n",
    "print(fun(21))"
   ]
  },
  {
   "cell_type": "code",
   "execution_count": 5,
   "metadata": {},
   "outputs": [
    {
     "ename": "TypeError",
     "evalue": "can only concatenate list (not \"int\") to list",
     "output_type": "error",
     "traceback": [
      "\u001b[0;31m---------------------------------------------------------------------------\u001b[0m",
      "\u001b[0;31mTypeError\u001b[0m                                 Traceback (most recent call last)",
      "\u001b[0;32m<ipython-input-5-bbed2a7d9acd>\u001b[0m in \u001b[0;36m<module>\u001b[0;34m()\u001b[0m\n\u001b[1;32m      1\u001b[0m \u001b[0ml\u001b[0m\u001b[0;34m=\u001b[0m\u001b[0;34m[\u001b[0m\u001b[0;36m100\u001b[0m\u001b[0;34m,\u001b[0m\u001b[0;36m6\u001b[0m\u001b[0;34m,\u001b[0m\u001b[0;36m7\u001b[0m\u001b[0;34m,\u001b[0m\u001b[0;36m10\u001b[0m\u001b[0;34m,\u001b[0m\u001b[0;36m20\u001b[0m\u001b[0;34m,\u001b[0m\u001b[0;36m30\u001b[0m\u001b[0;34m,\u001b[0m\u001b[0;36m40\u001b[0m\u001b[0;34m,\u001b[0m\u001b[0;36m5\u001b[0m\u001b[0;34m]\u001b[0m\u001b[0;34m\u001b[0m\u001b[0m\n\u001b[0;32m----> 2\u001b[0;31m \u001b[0mprint\u001b[0m\u001b[0;34m(\u001b[0m\u001b[0ml\u001b[0m\u001b[0;34m+\u001b[0m\u001b[0;36m10\u001b[0m\u001b[0;34m)\u001b[0m\u001b[0;34m\u001b[0m\u001b[0m\n\u001b[0m",
      "\u001b[0;31mTypeError\u001b[0m: can only concatenate list (not \"int\") to list"
     ]
    }
   ],
   "source": [
    "l=[100,6,7,10,20,30,40,5]\n",
    "print(l+10)"
   ]
  },
  {
   "cell_type": "code",
   "execution_count": 6,
   "metadata": {},
   "outputs": [
    {
     "name": "stdout",
     "output_type": "stream",
     "text": [
      "100\n",
      "6\n",
      "7\n",
      "10\n",
      "20\n",
      "30\n",
      "40\n",
      "5\n"
     ]
    }
   ],
   "source": [
    "l=[100,6,7,10,20,30,40,5]\n",
    "for i in l:\n",
    "    print(i)"
   ]
  },
  {
   "cell_type": "code",
   "execution_count": 7,
   "metadata": {},
   "outputs": [
    {
     "name": "stdout",
     "output_type": "stream",
     "text": [
      "110\n",
      "16\n",
      "17\n",
      "20\n",
      "30\n",
      "40\n",
      "50\n",
      "15\n"
     ]
    }
   ],
   "source": [
    "l=[100,6,7,10,20,30,40,5]\n",
    "for i in l:\n",
    "    print(i+10)"
   ]
  },
  {
   "cell_type": "code",
   "execution_count": 8,
   "metadata": {},
   "outputs": [
    {
     "name": "stdout",
     "output_type": "stream",
     "text": [
      "[110, 16, 17, 20, 30, 40, 50, 15]\n"
     ]
    }
   ],
   "source": [
    "l=[100,6,7,10,20,30,40,5]\n",
    "res=[]\n",
    "for i in l:\n",
    "    res.append(i+10)\n",
    "print(res)"
   ]
  },
  {
   "cell_type": "code",
   "execution_count": 9,
   "metadata": {},
   "outputs": [
    {
     "name": "stdout",
     "output_type": "stream",
     "text": [
      "[100, 6, 7, 10, 20, 30, 40, 5]\n"
     ]
    }
   ],
   "source": [
    "l=[100,6,7,10,20,30,40,5]\n",
    "res=[i for i in l]\n",
    "print(res)"
   ]
  },
  {
   "cell_type": "code",
   "execution_count": 10,
   "metadata": {},
   "outputs": [
    {
     "name": "stdout",
     "output_type": "stream",
     "text": [
      "[110, 16, 17, 20, 30, 40, 50, 15]\n"
     ]
    }
   ],
   "source": [
    "l=[100,6,7,10,20,30,40,5]\n",
    "res=[i+10 for i in l]\n",
    "print(res)"
   ]
  },
  {
   "cell_type": "code",
   "execution_count": 11,
   "metadata": {},
   "outputs": [],
   "source": [
    "l=[100,6,7,10,20,30,40,5]\n",
    "#[\"EVEN\",\"EVEN\",\"ODD\"]"
   ]
  },
  {
   "cell_type": "code",
   "execution_count": 12,
   "metadata": {},
   "outputs": [
    {
     "name": "stdout",
     "output_type": "stream",
     "text": [
      "['EVEN', 'EVEN', 'ODD', 'EVEN', 'EVEN', 'EVEN', 'EVEN', 'ODD']\n"
     ]
    }
   ],
   "source": [
    "l=[100,6,7,10,20,30,40,5]\n",
    "res=[]\n",
    "for i in l:\n",
    "    if i%2==0:\n",
    "        res.append(\"EVEN\")\n",
    "    else:\n",
    "        res.append(\"ODD\")\n",
    "print(res)"
   ]
  },
  {
   "cell_type": "code",
   "execution_count": 13,
   "metadata": {},
   "outputs": [
    {
     "name": "stdout",
     "output_type": "stream",
     "text": [
      "['EVEN', 'EVEN', 'ODD', 'EVEN', 'EVEN', 'EVEN', 'EVEN', 'ODD']\n"
     ]
    }
   ],
   "source": [
    "l=[100,6,7,10,20,30,40,5]\n",
    "res=[]\n",
    "for i in l:\n",
    "    res.append(\"EVEN\") if i%2==0 else res.append(\"ODD\")\n",
    "print(res)"
   ]
  },
  {
   "cell_type": "code",
   "execution_count": 14,
   "metadata": {},
   "outputs": [
    {
     "name": "stdout",
     "output_type": "stream",
     "text": [
      "['EVEN', 'EVEN', 'ODD', 'EVEN', 'EVEN', 'EVEN', 'EVEN', 'ODD']\n"
     ]
    }
   ],
   "source": [
    "l=[100,6,7,10,20,30,40,5]\n",
    "res=[\"EVEN\" if i%2==0 else \"ODD\" for i in l]\n",
    "print(res)"
   ]
  },
  {
   "cell_type": "code",
   "execution_count": 15,
   "metadata": {},
   "outputs": [
    {
     "name": "stdout",
     "output_type": "stream",
     "text": [
      "[100, 6, 7, 10, 20, 30, 40, 5, 'stre', [10, 20], (1+2j), 35, 67]\n"
     ]
    }
   ],
   "source": [
    "l=[100,6,7,10,20,30,40,5,\"stre\",[10,20],1+2j,35,67]\n",
    "res=[i for i  in l]\n",
    "print(res)\n"
   ]
  },
  {
   "cell_type": "code",
   "execution_count": 16,
   "metadata": {},
   "outputs": [
    {
     "name": "stdout",
     "output_type": "stream",
     "text": [
      "[100, 6, 7, 10, 20, 30, 40, 5, 35, 67]\n"
     ]
    }
   ],
   "source": [
    "l=[100,6,7,10,20,30,40,5,\"stre\",[10,20],1+2j,35,67]\n",
    "res=[i for i  in l if isinstance(i,int)]\n",
    "print(res)"
   ]
  },
  {
   "cell_type": "code",
   "execution_count": 17,
   "metadata": {},
   "outputs": [
    {
     "name": "stdout",
     "output_type": "stream",
     "text": [
      "['100,EVEN', '6,EVEN', '7,ODD', '10,EVEN', '20,EVEN', '30,EVEN', '40,EVEN', '5,ODD', '35,ODD', '67,ODD']\n"
     ]
    }
   ],
   "source": [
    "l=[100,6,7,10,20,30,40,5,\"stre\",[10,20],1+2j,35,67]\n",
    "res=[\"%s,EVEN\"%i if i%2==0 else \"%s,ODD\"%i for i  in l if isinstance(i,int)]\n",
    "print(res)"
   ]
  },
  {
   "cell_type": "code",
   "execution_count": 18,
   "metadata": {},
   "outputs": [
    {
     "ename": "TypeError",
     "evalue": "not all arguments converted during string formatting",
     "output_type": "error",
     "traceback": [
      "\u001b[0;31m---------------------------------------------------------------------------\u001b[0m",
      "\u001b[0;31mTypeError\u001b[0m                                 Traceback (most recent call last)",
      "\u001b[0;32m<ipython-input-18-74b7ffd86d30>\u001b[0m in \u001b[0;36m<module>\u001b[0;34m()\u001b[0m\n\u001b[1;32m      1\u001b[0m \u001b[0ml\u001b[0m\u001b[0;34m=\u001b[0m\u001b[0;34m[\u001b[0m\u001b[0;36m100\u001b[0m\u001b[0;34m,\u001b[0m\u001b[0;36m6\u001b[0m\u001b[0;34m,\u001b[0m\u001b[0;36m7\u001b[0m\u001b[0;34m,\u001b[0m\u001b[0;36m10\u001b[0m\u001b[0;34m,\u001b[0m\u001b[0;36m20\u001b[0m\u001b[0;34m,\u001b[0m\u001b[0;36m30\u001b[0m\u001b[0;34m,\u001b[0m\u001b[0;36m40\u001b[0m\u001b[0;34m,\u001b[0m\u001b[0;36m5\u001b[0m\u001b[0;34m,\u001b[0m\u001b[0;34m\"stre\"\u001b[0m\u001b[0;34m,\u001b[0m\u001b[0;34m[\u001b[0m\u001b[0;36m10\u001b[0m\u001b[0;34m,\u001b[0m\u001b[0;36m20\u001b[0m\u001b[0;34m]\u001b[0m\u001b[0;34m,\u001b[0m\u001b[0;36m1\u001b[0m\u001b[0;34m+\u001b[0m\u001b[0;36m2j\u001b[0m\u001b[0;34m,\u001b[0m\u001b[0;36m35\u001b[0m\u001b[0;34m,\u001b[0m\u001b[0;36m67\u001b[0m\u001b[0;34m]\u001b[0m\u001b[0;34m\u001b[0m\u001b[0m\n\u001b[0;32m----> 2\u001b[0;31m \u001b[0mres\u001b[0m\u001b[0;34m=\u001b[0m\u001b[0;34m[\u001b[0m\u001b[0;34m\"%s,EVEN\"\u001b[0m\u001b[0;34m%\u001b[0m\u001b[0mi\u001b[0m \u001b[0;32mif\u001b[0m \u001b[0mi\u001b[0m\u001b[0;34m%\u001b[0m\u001b[0;36m2\u001b[0m\u001b[0;34m==\u001b[0m\u001b[0;36m0\u001b[0m \u001b[0;32melse\u001b[0m \u001b[0;34m\"%s,ODD\"\u001b[0m\u001b[0;34m%\u001b[0m\u001b[0mi\u001b[0m \u001b[0;32mfor\u001b[0m \u001b[0mi\u001b[0m  \u001b[0;32min\u001b[0m \u001b[0ml\u001b[0m\u001b[0;34m]\u001b[0m\u001b[0;34m\u001b[0m\u001b[0m\n\u001b[0m\u001b[1;32m      3\u001b[0m \u001b[0mprint\u001b[0m\u001b[0;34m(\u001b[0m\u001b[0mres\u001b[0m\u001b[0;34m)\u001b[0m\u001b[0;34m\u001b[0m\u001b[0m\n",
      "\u001b[0;32m<ipython-input-18-74b7ffd86d30>\u001b[0m in \u001b[0;36m<listcomp>\u001b[0;34m(.0)\u001b[0m\n\u001b[1;32m      1\u001b[0m \u001b[0ml\u001b[0m\u001b[0;34m=\u001b[0m\u001b[0;34m[\u001b[0m\u001b[0;36m100\u001b[0m\u001b[0;34m,\u001b[0m\u001b[0;36m6\u001b[0m\u001b[0;34m,\u001b[0m\u001b[0;36m7\u001b[0m\u001b[0;34m,\u001b[0m\u001b[0;36m10\u001b[0m\u001b[0;34m,\u001b[0m\u001b[0;36m20\u001b[0m\u001b[0;34m,\u001b[0m\u001b[0;36m30\u001b[0m\u001b[0;34m,\u001b[0m\u001b[0;36m40\u001b[0m\u001b[0;34m,\u001b[0m\u001b[0;36m5\u001b[0m\u001b[0;34m,\u001b[0m\u001b[0;34m\"stre\"\u001b[0m\u001b[0;34m,\u001b[0m\u001b[0;34m[\u001b[0m\u001b[0;36m10\u001b[0m\u001b[0;34m,\u001b[0m\u001b[0;36m20\u001b[0m\u001b[0;34m]\u001b[0m\u001b[0;34m,\u001b[0m\u001b[0;36m1\u001b[0m\u001b[0;34m+\u001b[0m\u001b[0;36m2j\u001b[0m\u001b[0;34m,\u001b[0m\u001b[0;36m35\u001b[0m\u001b[0;34m,\u001b[0m\u001b[0;36m67\u001b[0m\u001b[0;34m]\u001b[0m\u001b[0;34m\u001b[0m\u001b[0m\n\u001b[0;32m----> 2\u001b[0;31m \u001b[0mres\u001b[0m\u001b[0;34m=\u001b[0m\u001b[0;34m[\u001b[0m\u001b[0;34m\"%s,EVEN\"\u001b[0m\u001b[0;34m%\u001b[0m\u001b[0mi\u001b[0m \u001b[0;32mif\u001b[0m \u001b[0mi\u001b[0m\u001b[0;34m%\u001b[0m\u001b[0;36m2\u001b[0m\u001b[0;34m==\u001b[0m\u001b[0;36m0\u001b[0m \u001b[0;32melse\u001b[0m \u001b[0;34m\"%s,ODD\"\u001b[0m\u001b[0;34m%\u001b[0m\u001b[0mi\u001b[0m \u001b[0;32mfor\u001b[0m \u001b[0mi\u001b[0m  \u001b[0;32min\u001b[0m \u001b[0ml\u001b[0m\u001b[0;34m]\u001b[0m\u001b[0;34m\u001b[0m\u001b[0m\n\u001b[0m\u001b[1;32m      3\u001b[0m \u001b[0mprint\u001b[0m\u001b[0;34m(\u001b[0m\u001b[0mres\u001b[0m\u001b[0;34m)\u001b[0m\u001b[0;34m\u001b[0m\u001b[0m\n",
      "\u001b[0;31mTypeError\u001b[0m: not all arguments converted during string formatting"
     ]
    }
   ],
   "source": [
    "l=[100,6,7,10,20,30,40,5,\"stre\",[10,20],1+2j,35,67]\n",
    "res=[\"%s,EVEN\"%i if i%2==0 else \"%s,ODD\"%i for i  in l]\n",
    "print(res)"
   ]
  },
  {
   "cell_type": "code",
   "execution_count": 19,
   "metadata": {},
   "outputs": [
    {
     "name": "stdout",
     "output_type": "stream",
     "text": [
      "['100,EVEN', '6,EVEN', '7,ODD', '10,EVEN', '20,EVEN', '30,EVEN', '40,EVEN', '5,ODD', '35,ODD', '67,ODD']\n"
     ]
    }
   ],
   "source": [
    "l=[100,6,7,10,20,30,40,5,\"stre\",[10,20],1+2j,35,67]\n",
    "res=[\"%s,EVEN\"%i if i%2==0 else \"%s,ODD\"%i for i  in l if isinstance(i,int)]\n",
    "print(res)"
   ]
  },
  {
   "cell_type": "code",
   "execution_count": 20,
   "metadata": {},
   "outputs": [
    {
     "name": "stdout",
     "output_type": "stream",
     "text": [
      "<generator object <genexpr> at 0x7f719814ded0>\n"
     ]
    }
   ],
   "source": [
    "l=[100,6,7,10,20,30,40,5,\"stre\",[10,20],1+2j,35,67]\n",
    "res=(\"%s,EVEN\"%i if i%2==0 else \"%s,ODD\"%i for i  in l if isinstance(i,int))\n",
    "print(res)"
   ]
  },
  {
   "cell_type": "code",
   "execution_count": 23,
   "metadata": {},
   "outputs": [
    {
     "name": "stdout",
     "output_type": "stream",
     "text": [
      "['0,EVEN', '1,ODD', '2,EVEN', '3,ODD', '4,EVEN', '5,ODD', '6,EVEN', '7,ODD', '8,EVEN', '9,ODD', '10,EVEN', '11,ODD', '12,EVEN', '13,ODD', '14,EVEN', '15,ODD', '16,EVEN', '17,ODD', '18,EVEN', '19,ODD', '20,EVEN', '21,ODD', '22,EVEN', '23,ODD', '24,EVEN', '25,ODD', '26,EVEN', '27,ODD', '28,EVEN', '29,ODD', '30,EVEN', '31,ODD', '32,EVEN', '33,ODD', '34,EVEN', '35,ODD', '36,EVEN', '37,ODD', '38,EVEN', '39,ODD', '40,EVEN', '41,ODD', '42,EVEN', '43,ODD', '44,EVEN', '45,ODD', '46,EVEN', '47,ODD', '48,EVEN', '49,ODD', '50,EVEN', '51,ODD', '52,EVEN', '53,ODD', '54,EVEN', '55,ODD', '56,EVEN', '57,ODD', '58,EVEN', '59,ODD', '60,EVEN', '61,ODD', '62,EVEN', '63,ODD', '64,EVEN', '65,ODD', '66,EVEN', '67,ODD', '68,EVEN', '69,ODD', '70,EVEN', '71,ODD', '72,EVEN', '73,ODD', '74,EVEN', '75,ODD', '76,EVEN', '77,ODD', '78,EVEN', '79,ODD', '80,EVEN', '81,ODD', '82,EVEN', '83,ODD', '84,EVEN', '85,ODD', '86,EVEN', '87,ODD', '88,EVEN', '89,ODD', '90,EVEN', '91,ODD', '92,EVEN', '93,ODD', '94,EVEN', '95,ODD', '96,EVEN', '97,ODD', '98,EVEN', '99,ODD', '100,EVEN', '101,ODD', '102,EVEN', '103,ODD', '104,EVEN', '105,ODD', '106,EVEN', '107,ODD', '108,EVEN', '109,ODD', '110,EVEN', '111,ODD', '112,EVEN', '113,ODD', '114,EVEN', '115,ODD', '116,EVEN', '117,ODD', '118,EVEN', '119,ODD', '120,EVEN', '121,ODD', '122,EVEN', '123,ODD', '124,EVEN', '125,ODD', '126,EVEN', '127,ODD', '128,EVEN', '129,ODD', '130,EVEN', '131,ODD', '132,EVEN', '133,ODD', '134,EVEN', '135,ODD', '136,EVEN', '137,ODD', '138,EVEN', '139,ODD', '140,EVEN', '141,ODD', '142,EVEN', '143,ODD', '144,EVEN', '145,ODD', '146,EVEN', '147,ODD', '148,EVEN', '149,ODD', '150,EVEN', '151,ODD', '152,EVEN', '153,ODD', '154,EVEN', '155,ODD', '156,EVEN', '157,ODD', '158,EVEN', '159,ODD', '160,EVEN', '161,ODD', '162,EVEN', '163,ODD', '164,EVEN', '165,ODD', '166,EVEN', '167,ODD', '168,EVEN', '169,ODD', '170,EVEN', '171,ODD', '172,EVEN', '173,ODD', '174,EVEN', '175,ODD', '176,EVEN', '177,ODD', '178,EVEN', '179,ODD', '180,EVEN', '181,ODD', '182,EVEN', '183,ODD', '184,EVEN', '185,ODD', '186,EVEN', '187,ODD', '188,EVEN', '189,ODD', '190,EVEN', '191,ODD', '192,EVEN', '193,ODD', '194,EVEN', '195,ODD', '196,EVEN', '197,ODD', '198,EVEN', '199,ODD', '200,EVEN', '201,ODD', '202,EVEN', '203,ODD', '204,EVEN', '205,ODD', '206,EVEN', '207,ODD', '208,EVEN', '209,ODD', '210,EVEN', '211,ODD', '212,EVEN', '213,ODD', '214,EVEN', '215,ODD', '216,EVEN', '217,ODD', '218,EVEN', '219,ODD', '220,EVEN', '221,ODD', '222,EVEN', '223,ODD', '224,EVEN', '225,ODD', '226,EVEN', '227,ODD', '228,EVEN', '229,ODD', '230,EVEN', '231,ODD', '232,EVEN', '233,ODD', '234,EVEN', '235,ODD', '236,EVEN', '237,ODD', '238,EVEN', '239,ODD', '240,EVEN', '241,ODD', '242,EVEN', '243,ODD', '244,EVEN', '245,ODD', '246,EVEN', '247,ODD', '248,EVEN', '249,ODD', '250,EVEN', '251,ODD', '252,EVEN', '253,ODD', '254,EVEN', '255,ODD', '256,EVEN', '257,ODD', '258,EVEN', '259,ODD', '260,EVEN', '261,ODD', '262,EVEN', '263,ODD', '264,EVEN', '265,ODD', '266,EVEN', '267,ODD', '268,EVEN', '269,ODD', '270,EVEN', '271,ODD', '272,EVEN', '273,ODD', '274,EVEN', '275,ODD', '276,EVEN', '277,ODD', '278,EVEN', '279,ODD', '280,EVEN', '281,ODD', '282,EVEN', '283,ODD', '284,EVEN', '285,ODD', '286,EVEN', '287,ODD', '288,EVEN', '289,ODD', '290,EVEN', '291,ODD', '292,EVEN', '293,ODD', '294,EVEN', '295,ODD', '296,EVEN', '297,ODD', '298,EVEN', '299,ODD', '300,EVEN', '301,ODD', '302,EVEN', '303,ODD', '304,EVEN', '305,ODD', '306,EVEN', '307,ODD', '308,EVEN', '309,ODD', '310,EVEN', '311,ODD', '312,EVEN', '313,ODD', '314,EVEN', '315,ODD', '316,EVEN', '317,ODD', '318,EVEN', '319,ODD', '320,EVEN', '321,ODD', '322,EVEN', '323,ODD', '324,EVEN', '325,ODD', '326,EVEN', '327,ODD', '328,EVEN', '329,ODD', '330,EVEN', '331,ODD', '332,EVEN', '333,ODD', '334,EVEN', '335,ODD', '336,EVEN', '337,ODD', '338,EVEN', '339,ODD', '340,EVEN', '341,ODD', '342,EVEN', '343,ODD', '344,EVEN', '345,ODD', '346,EVEN', '347,ODD', '348,EVEN', '349,ODD', '350,EVEN', '351,ODD', '352,EVEN', '353,ODD', '354,EVEN', '355,ODD', '356,EVEN', '357,ODD', '358,EVEN', '359,ODD', '360,EVEN', '361,ODD', '362,EVEN', '363,ODD', '364,EVEN', '365,ODD', '366,EVEN', '367,ODD', '368,EVEN', '369,ODD', '370,EVEN', '371,ODD', '372,EVEN', '373,ODD', '374,EVEN', '375,ODD', '376,EVEN', '377,ODD', '378,EVEN', '379,ODD', '380,EVEN', '381,ODD', '382,EVEN', '383,ODD', '384,EVEN', '385,ODD', '386,EVEN', '387,ODD', '388,EVEN', '389,ODD', '390,EVEN', '391,ODD', '392,EVEN', '393,ODD', '394,EVEN', '395,ODD', '396,EVEN', '397,ODD', '398,EVEN', '399,ODD', '400,EVEN', '401,ODD', '402,EVEN', '403,ODD', '404,EVEN', '405,ODD', '406,EVEN', '407,ODD', '408,EVEN', '409,ODD', '410,EVEN', '411,ODD', '412,EVEN', '413,ODD', '414,EVEN', '415,ODD', '416,EVEN', '417,ODD', '418,EVEN', '419,ODD', '420,EVEN', '421,ODD', '422,EVEN', '423,ODD', '424,EVEN', '425,ODD', '426,EVEN', '427,ODD', '428,EVEN', '429,ODD', '430,EVEN', '431,ODD', '432,EVEN', '433,ODD', '434,EVEN', '435,ODD', '436,EVEN', '437,ODD', '438,EVEN', '439,ODD', '440,EVEN', '441,ODD', '442,EVEN', '443,ODD', '444,EVEN', '445,ODD', '446,EVEN', '447,ODD', '448,EVEN', '449,ODD', '450,EVEN', '451,ODD', '452,EVEN', '453,ODD', '454,EVEN', '455,ODD', '456,EVEN', '457,ODD', '458,EVEN', '459,ODD', '460,EVEN', '461,ODD', '462,EVEN', '463,ODD', '464,EVEN', '465,ODD', '466,EVEN', '467,ODD', '468,EVEN', '469,ODD', '470,EVEN', '471,ODD', '472,EVEN', '473,ODD', '474,EVEN', '475,ODD', '476,EVEN', '477,ODD', '478,EVEN', '479,ODD', '480,EVEN', '481,ODD', '482,EVEN', '483,ODD', '484,EVEN', '485,ODD', '486,EVEN', '487,ODD', '488,EVEN', '489,ODD', '490,EVEN', '491,ODD', '492,EVEN', '493,ODD', '494,EVEN', '495,ODD', '496,EVEN', '497,ODD', '498,EVEN', '499,ODD', '500,EVEN', '501,ODD', '502,EVEN', '503,ODD', '504,EVEN', '505,ODD', '506,EVEN', '507,ODD', '508,EVEN', '509,ODD', '510,EVEN', '511,ODD', '512,EVEN', '513,ODD', '514,EVEN', '515,ODD', '516,EVEN', '517,ODD', '518,EVEN', '519,ODD', '520,EVEN', '521,ODD', '522,EVEN', '523,ODD', '524,EVEN', '525,ODD', '526,EVEN', '527,ODD', '528,EVEN', '529,ODD', '530,EVEN', '531,ODD', '532,EVEN', '533,ODD', '534,EVEN', '535,ODD', '536,EVEN', '537,ODD', '538,EVEN', '539,ODD', '540,EVEN', '541,ODD', '542,EVEN', '543,ODD', '544,EVEN', '545,ODD', '546,EVEN', '547,ODD', '548,EVEN', '549,ODD', '550,EVEN', '551,ODD', '552,EVEN', '553,ODD', '554,EVEN', '555,ODD', '556,EVEN', '557,ODD', '558,EVEN', '559,ODD', '560,EVEN', '561,ODD', '562,EVEN', '563,ODD', '564,EVEN', '565,ODD', '566,EVEN', '567,ODD', '568,EVEN', '569,ODD', '570,EVEN', '571,ODD', '572,EVEN', '573,ODD', '574,EVEN', '575,ODD', '576,EVEN', '577,ODD', '578,EVEN', '579,ODD', '580,EVEN', '581,ODD', '582,EVEN', '583,ODD', '584,EVEN', '585,ODD', '586,EVEN', '587,ODD', '588,EVEN', '589,ODD', '590,EVEN', '591,ODD', '592,EVEN', '593,ODD', '594,EVEN', '595,ODD', '596,EVEN', '597,ODD', '598,EVEN', '599,ODD', '600,EVEN', '601,ODD', '602,EVEN', '603,ODD', '604,EVEN', '605,ODD', '606,EVEN', '607,ODD', '608,EVEN', '609,ODD', '610,EVEN', '611,ODD', '612,EVEN', '613,ODD', '614,EVEN', '615,ODD', '616,EVEN', '617,ODD', '618,EVEN', '619,ODD', '620,EVEN', '621,ODD', '622,EVEN', '623,ODD', '624,EVEN', '625,ODD', '626,EVEN', '627,ODD', '628,EVEN', '629,ODD', '630,EVEN', '631,ODD', '632,EVEN', '633,ODD', '634,EVEN', '635,ODD', '636,EVEN', '637,ODD', '638,EVEN', '639,ODD', '640,EVEN', '641,ODD', '642,EVEN', '643,ODD', '644,EVEN', '645,ODD', '646,EVEN', '647,ODD', '648,EVEN', '649,ODD', '650,EVEN', '651,ODD', '652,EVEN', '653,ODD', '654,EVEN', '655,ODD', '656,EVEN', '657,ODD', '658,EVEN', '659,ODD', '660,EVEN', '661,ODD', '662,EVEN', '663,ODD', '664,EVEN', '665,ODD', '666,EVEN', '667,ODD', '668,EVEN', '669,ODD', '670,EVEN', '671,ODD', '672,EVEN', '673,ODD', '674,EVEN', '675,ODD', '676,EVEN', '677,ODD', '678,EVEN', '679,ODD', '680,EVEN', '681,ODD', '682,EVEN', '683,ODD', '684,EVEN', '685,ODD', '686,EVEN', '687,ODD', '688,EVEN', '689,ODD', '690,EVEN', '691,ODD', '692,EVEN', '693,ODD', '694,EVEN', '695,ODD', '696,EVEN', '697,ODD', '698,EVEN', '699,ODD', '700,EVEN', '701,ODD', '702,EVEN', '703,ODD', '704,EVEN', '705,ODD', '706,EVEN', '707,ODD', '708,EVEN', '709,ODD', '710,EVEN', '711,ODD', '712,EVEN', '713,ODD', '714,EVEN', '715,ODD', '716,EVEN', '717,ODD', '718,EVEN', '719,ODD', '720,EVEN', '721,ODD', '722,EVEN', '723,ODD', '724,EVEN', '725,ODD', '726,EVEN', '727,ODD', '728,EVEN', '729,ODD', '730,EVEN', '731,ODD', '732,EVEN', '733,ODD', '734,EVEN', '735,ODD', '736,EVEN', '737,ODD', '738,EVEN', '739,ODD', '740,EVEN', '741,ODD', '742,EVEN', '743,ODD', '744,EVEN', '745,ODD', '746,EVEN', '747,ODD', '748,EVEN', '749,ODD', '750,EVEN', '751,ODD', '752,EVEN', '753,ODD', '754,EVEN', '755,ODD', '756,EVEN', '757,ODD', '758,EVEN', '759,ODD', '760,EVEN', '761,ODD', '762,EVEN', '763,ODD', '764,EVEN', '765,ODD', '766,EVEN', '767,ODD', '768,EVEN', '769,ODD', '770,EVEN', '771,ODD', '772,EVEN', '773,ODD', '774,EVEN', '775,ODD', '776,EVEN', '777,ODD', '778,EVEN', '779,ODD', '780,EVEN', '781,ODD', '782,EVEN', '783,ODD', '784,EVEN', '785,ODD', '786,EVEN', '787,ODD', '788,EVEN', '789,ODD', '790,EVEN', '791,ODD', '792,EVEN', '793,ODD', '794,EVEN', '795,ODD', '796,EVEN', '797,ODD', '798,EVEN', '799,ODD', '800,EVEN', '801,ODD', '802,EVEN', '803,ODD', '804,EVEN', '805,ODD', '806,EVEN', '807,ODD', '808,EVEN', '809,ODD', '810,EVEN', '811,ODD', '812,EVEN', '813,ODD', '814,EVEN', '815,ODD', '816,EVEN', '817,ODD', '818,EVEN', '819,ODD', '820,EVEN', '821,ODD', '822,EVEN', '823,ODD', '824,EVEN', '825,ODD', '826,EVEN', '827,ODD', '828,EVEN', '829,ODD', '830,EVEN', '831,ODD', '832,EVEN', '833,ODD', '834,EVEN', '835,ODD', '836,EVEN', '837,ODD', '838,EVEN', '839,ODD', '840,EVEN', '841,ODD', '842,EVEN', '843,ODD', '844,EVEN', '845,ODD', '846,EVEN', '847,ODD', '848,EVEN', '849,ODD', '850,EVEN', '851,ODD', '852,EVEN', '853,ODD', '854,EVEN', '855,ODD', '856,EVEN', '857,ODD', '858,EVEN', '859,ODD', '860,EVEN', '861,ODD', '862,EVEN', '863,ODD', '864,EVEN', '865,ODD', '866,EVEN', '867,ODD', '868,EVEN', '869,ODD', '870,EVEN', '871,ODD', '872,EVEN', '873,ODD', '874,EVEN', '875,ODD', '876,EVEN', '877,ODD', '878,EVEN', '879,ODD', '880,EVEN', '881,ODD', '882,EVEN', '883,ODD', '884,EVEN', '885,ODD', '886,EVEN', '887,ODD', '888,EVEN', '889,ODD', '890,EVEN', '891,ODD', '892,EVEN', '893,ODD', '894,EVEN', '895,ODD', '896,EVEN', '897,ODD', '898,EVEN', '899,ODD', '900,EVEN', '901,ODD', '902,EVEN', '903,ODD', '904,EVEN', '905,ODD', '906,EVEN', '907,ODD', '908,EVEN', '909,ODD', '910,EVEN', '911,ODD', '912,EVEN', '913,ODD', '914,EVEN', '915,ODD', '916,EVEN', '917,ODD', '918,EVEN', '919,ODD', '920,EVEN', '921,ODD', '922,EVEN', '923,ODD', '924,EVEN', '925,ODD', '926,EVEN', '927,ODD', '928,EVEN', '929,ODD', '930,EVEN', '931,ODD', '932,EVEN', '933,ODD', '934,EVEN', '935,ODD', '936,EVEN', '937,ODD', '938,EVEN', '939,ODD', '940,EVEN', '941,ODD', '942,EVEN', '943,ODD', '944,EVEN', '945,ODD', '946,EVEN', '947,ODD', '948,EVEN', '949,ODD', '950,EVEN', '951,ODD', '952,EVEN', '953,ODD', '954,EVEN', '955,ODD', '956,EVEN', '957,ODD', '958,EVEN', '959,ODD', '960,EVEN', '961,ODD', '962,EVEN', '963,ODD', '964,EVEN', '965,ODD', '966,EVEN', '967,ODD', '968,EVEN', '969,ODD', '970,EVEN', '971,ODD', '972,EVEN', '973,ODD', '974,EVEN', '975,ODD', '976,EVEN', '977,ODD', '978,EVEN', '979,ODD', '980,EVEN', '981,ODD', '982,EVEN', '983,ODD', '984,EVEN', '985,ODD', '986,EVEN', '987,ODD', '988,EVEN', '989,ODD', '990,EVEN', '991,ODD', '992,EVEN', '993,ODD', '994,EVEN', '995,ODD', '996,EVEN', '997,ODD', '998,EVEN', '999,ODD', '1000,EVEN', '1001,ODD', '1002,EVEN', '1003,ODD', '1004,EVEN', '1005,ODD', '1006,EVEN', '1007,ODD', '1008,EVEN', '1009,ODD', '1010,EVEN', '1011,ODD', '1012,EVEN', '1013,ODD', '1014,EVEN', '1015,ODD', '1016,EVEN', '1017,ODD', '1018,EVEN', '1019,ODD', '1020,EVEN', '1021,ODD', '1022,EVEN', '1023,ODD', '1024,EVEN', '1025,ODD', '1026,EVEN', '1027,ODD', '1028,EVEN', '1029,ODD', '1030,EVEN', '1031,ODD', '1032,EVEN', '1033,ODD', '1034,EVEN', '1035,ODD', '1036,EVEN', '1037,ODD', '1038,EVEN', '1039,ODD', '1040,EVEN', '1041,ODD', '1042,EVEN', '1043,ODD', '1044,EVEN', '1045,ODD', '1046,EVEN', '1047,ODD', '1048,EVEN', '1049,ODD', '1050,EVEN', '1051,ODD', '1052,EVEN', '1053,ODD', '1054,EVEN', '1055,ODD', '1056,EVEN', '1057,ODD', '1058,EVEN', '1059,ODD', '1060,EVEN', '1061,ODD', '1062,EVEN', '1063,ODD', '1064,EVEN', '1065,ODD', '1066,EVEN', '1067,ODD', '1068,EVEN', '1069,ODD', '1070,EVEN', '1071,ODD', '1072,EVEN', '1073,ODD', '1074,EVEN', '1075,ODD', '1076,EVEN', '1077,ODD', '1078,EVEN', '1079,ODD', '1080,EVEN', '1081,ODD', '1082,EVEN', '1083,ODD', '1084,EVEN', '1085,ODD', '1086,EVEN', '1087,ODD', '1088,EVEN', '1089,ODD', '1090,EVEN', '1091,ODD', '1092,EVEN', '1093,ODD', '1094,EVEN', '1095,ODD', '1096,EVEN', '1097,ODD', '1098,EVEN', '1099,ODD', '1100,EVEN', '1101,ODD', '1102,EVEN', '1103,ODD', '1104,EVEN', '1105,ODD', '1106,EVEN', '1107,ODD', '1108,EVEN', '1109,ODD', '1110,EVEN', '1111,ODD', '1112,EVEN', '1113,ODD', '1114,EVEN', '1115,ODD', '1116,EVEN', '1117,ODD', '1118,EVEN', '1119,ODD', '1120,EVEN', '1121,ODD', '1122,EVEN', '1123,ODD', '1124,EVEN', '1125,ODD', '1126,EVEN', '1127,ODD', '1128,EVEN', '1129,ODD', '1130,EVEN', '1131,ODD', '1132,EVEN', '1133,ODD', '1134,EVEN', '1135,ODD', '1136,EVEN', '1137,ODD', '1138,EVEN', '1139,ODD', '1140,EVEN', '1141,ODD', '1142,EVEN', '1143,ODD', '1144,EVEN', '1145,ODD', '1146,EVEN', '1147,ODD', '1148,EVEN', '1149,ODD', '1150,EVEN', '1151,ODD', '1152,EVEN', '1153,ODD', '1154,EVEN', '1155,ODD', '1156,EVEN', '1157,ODD', '1158,EVEN', '1159,ODD', '1160,EVEN', '1161,ODD', '1162,EVEN', '1163,ODD', '1164,EVEN', '1165,ODD', '1166,EVEN', '1167,ODD', '1168,EVEN', '1169,ODD', '1170,EVEN', '1171,ODD', '1172,EVEN', '1173,ODD', '1174,EVEN', '1175,ODD', '1176,EVEN', '1177,ODD', '1178,EVEN', '1179,ODD', '1180,EVEN', '1181,ODD', '1182,EVEN', '1183,ODD', '1184,EVEN', '1185,ODD', '1186,EVEN', '1187,ODD', '1188,EVEN', '1189,ODD', '1190,EVEN', '1191,ODD', '1192,EVEN', '1193,ODD', '1194,EVEN', '1195,ODD', '1196,EVEN', '1197,ODD', '1198,EVEN', '1199,ODD', '1200,EVEN', '1201,ODD', '1202,EVEN', '1203,ODD', '1204,EVEN', '1205,ODD', '1206,EVEN', '1207,ODD', '1208,EVEN', '1209,ODD', '1210,EVEN', '1211,ODD', '1212,EVEN', '1213,ODD', '1214,EVEN', '1215,ODD', '1216,EVEN', '1217,ODD', '1218,EVEN', '1219,ODD', '1220,EVEN', '1221,ODD', '1222,EVEN', '1223,ODD', '1224,EVEN', '1225,ODD', '1226,EVEN', '1227,ODD', '1228,EVEN', '1229,ODD', '1230,EVEN', '1231,ODD', '1232,EVEN', '1233,ODD', '1234,EVEN', '1235,ODD', '1236,EVEN', '1237,ODD', '1238,EVEN', '1239,ODD', '1240,EVEN', '1241,ODD', '1242,EVEN', '1243,ODD', '1244,EVEN', '1245,ODD', '1246,EVEN', '1247,ODD', '1248,EVEN', '1249,ODD', '1250,EVEN', '1251,ODD', '1252,EVEN', '1253,ODD', '1254,EVEN', '1255,ODD', '1256,EVEN', '1257,ODD', '1258,EVEN', '1259,ODD', '1260,EVEN', '1261,ODD', '1262,EVEN', '1263,ODD', '1264,EVEN', '1265,ODD', '1266,EVEN', '1267,ODD', '1268,EVEN', '1269,ODD', '1270,EVEN', '1271,ODD', '1272,EVEN', '1273,ODD', '1274,EVEN', '1275,ODD', '1276,EVEN', '1277,ODD', '1278,EVEN', '1279,ODD', '1280,EVEN', '1281,ODD', '1282,EVEN', '1283,ODD', '1284,EVEN', '1285,ODD', '1286,EVEN', '1287,ODD', '1288,EVEN', '1289,ODD', '1290,EVEN', '1291,ODD', '1292,EVEN', '1293,ODD', '1294,EVEN', '1295,ODD', '1296,EVEN', '1297,ODD', '1298,EVEN', '1299,ODD', '1300,EVEN', '1301,ODD', '1302,EVEN', '1303,ODD', '1304,EVEN', '1305,ODD', '1306,EVEN', '1307,ODD', '1308,EVEN', '1309,ODD', '1310,EVEN', '1311,ODD', '1312,EVEN', '1313,ODD', '1314,EVEN', '1315,ODD', '1316,EVEN', '1317,ODD', '1318,EVEN', '1319,ODD', '1320,EVEN', '1321,ODD', '1322,EVEN', '1323,ODD', '1324,EVEN', '1325,ODD', '1326,EVEN', '1327,ODD', '1328,EVEN', '1329,ODD', '1330,EVEN', '1331,ODD', '1332,EVEN', '1333,ODD', '1334,EVEN', '1335,ODD', '1336,EVEN', '1337,ODD', '1338,EVEN', '1339,ODD', '1340,EVEN', '1341,ODD', '1342,EVEN', '1343,ODD', '1344,EVEN', '1345,ODD', '1346,EVEN', '1347,ODD', '1348,EVEN', '1349,ODD', '1350,EVEN', '1351,ODD', '1352,EVEN', '1353,ODD', '1354,EVEN', '1355,ODD', '1356,EVEN', '1357,ODD', '1358,EVEN', '1359,ODD', '1360,EVEN', '1361,ODD', '1362,EVEN', '1363,ODD', '1364,EVEN', '1365,ODD', '1366,EVEN', '1367,ODD', '1368,EVEN', '1369,ODD', '1370,EVEN', '1371,ODD', '1372,EVEN', '1373,ODD', '1374,EVEN', '1375,ODD', '1376,EVEN', '1377,ODD', '1378,EVEN', '1379,ODD', '1380,EVEN', '1381,ODD', '1382,EVEN', '1383,ODD', '1384,EVEN', '1385,ODD', '1386,EVEN', '1387,ODD', '1388,EVEN', '1389,ODD', '1390,EVEN', '1391,ODD', '1392,EVEN', '1393,ODD', '1394,EVEN', '1395,ODD', '1396,EVEN', '1397,ODD', '1398,EVEN', '1399,ODD', '1400,EVEN', '1401,ODD', '1402,EVEN', '1403,ODD', '1404,EVEN', '1405,ODD', '1406,EVEN', '1407,ODD', '1408,EVEN', '1409,ODD', '1410,EVEN', '1411,ODD', '1412,EVEN', '1413,ODD', '1414,EVEN', '1415,ODD', '1416,EVEN', '1417,ODD', '1418,EVEN', '1419,ODD', '1420,EVEN', '1421,ODD', '1422,EVEN', '1423,ODD', '1424,EVEN', '1425,ODD', '1426,EVEN', '1427,ODD', '1428,EVEN', '1429,ODD', '1430,EVEN', '1431,ODD', '1432,EVEN', '1433,ODD', '1434,EVEN', '1435,ODD', '1436,EVEN', '1437,ODD', '1438,EVEN', '1439,ODD', '1440,EVEN', '1441,ODD', '1442,EVEN', '1443,ODD', '1444,EVEN', '1445,ODD', '1446,EVEN', '1447,ODD', '1448,EVEN', '1449,ODD', '1450,EVEN', '1451,ODD', '1452,EVEN', '1453,ODD', '1454,EVEN', '1455,ODD', '1456,EVEN', '1457,ODD', '1458,EVEN', '1459,ODD', '1460,EVEN', '1461,ODD', '1462,EVEN', '1463,ODD', '1464,EVEN', '1465,ODD', '1466,EVEN', '1467,ODD', '1468,EVEN', '1469,ODD', '1470,EVEN', '1471,ODD', '1472,EVEN', '1473,ODD', '1474,EVEN', '1475,ODD', '1476,EVEN', '1477,ODD', '1478,EVEN', '1479,ODD', '1480,EVEN', '1481,ODD', '1482,EVEN', '1483,ODD', '1484,EVEN', '1485,ODD', '1486,EVEN', '1487,ODD', '1488,EVEN', '1489,ODD', '1490,EVEN', '1491,ODD', '1492,EVEN', '1493,ODD', '1494,EVEN', '1495,ODD', '1496,EVEN', '1497,ODD', '1498,EVEN', '1499,ODD', '1500,EVEN', '1501,ODD', '1502,EVEN', '1503,ODD', '1504,EVEN', '1505,ODD', '1506,EVEN', '1507,ODD', '1508,EVEN', '1509,ODD', '1510,EVEN', '1511,ODD', '1512,EVEN', '1513,ODD', '1514,EVEN', '1515,ODD', '1516,EVEN', '1517,ODD', '1518,EVEN', '1519,ODD', '1520,EVEN', '1521,ODD', '1522,EVEN', '1523,ODD', '1524,EVEN', '1525,ODD', '1526,EVEN', '1527,ODD', '1528,EVEN', '1529,ODD', '1530,EVEN', '1531,ODD', '1532,EVEN', '1533,ODD', '1534,EVEN', '1535,ODD', '1536,EVEN', '1537,ODD', '1538,EVEN', '1539,ODD', '1540,EVEN', '1541,ODD', '1542,EVEN', '1543,ODD', '1544,EVEN', '1545,ODD', '1546,EVEN', '1547,ODD', '1548,EVEN', '1549,ODD', '1550,EVEN', '1551,ODD', '1552,EVEN', '1553,ODD', '1554,EVEN', '1555,ODD', '1556,EVEN', '1557,ODD', '1558,EVEN', '1559,ODD', '1560,EVEN', '1561,ODD', '1562,EVEN', '1563,ODD', '1564,EVEN', '1565,ODD', '1566,EVEN', '1567,ODD', '1568,EVEN', '1569,ODD', '1570,EVEN', '1571,ODD', '1572,EVEN', '1573,ODD', '1574,EVEN', '1575,ODD', '1576,EVEN', '1577,ODD', '1578,EVEN', '1579,ODD', '1580,EVEN', '1581,ODD', '1582,EVEN', '1583,ODD', '1584,EVEN', '1585,ODD', '1586,EVEN', '1587,ODD', '1588,EVEN', '1589,ODD', '1590,EVEN', '1591,ODD', '1592,EVEN', '1593,ODD', '1594,EVEN', '1595,ODD', '1596,EVEN', '1597,ODD', '1598,EVEN', '1599,ODD', '1600,EVEN', '1601,ODD', '1602,EVEN', '1603,ODD', '1604,EVEN', '1605,ODD', '1606,EVEN', '1607,ODD', '1608,EVEN', '1609,ODD', '1610,EVEN', '1611,ODD', '1612,EVEN', '1613,ODD', '1614,EVEN', '1615,ODD', '1616,EVEN', '1617,ODD', '1618,EVEN', '1619,ODD', '1620,EVEN', '1621,ODD', '1622,EVEN', '1623,ODD', '1624,EVEN', '1625,ODD', '1626,EVEN', '1627,ODD', '1628,EVEN', '1629,ODD', '1630,EVEN', '1631,ODD', '1632,EVEN', '1633,ODD', '1634,EVEN', '1635,ODD', '1636,EVEN', '1637,ODD', '1638,EVEN', '1639,ODD', '1640,EVEN', '1641,ODD', '1642,EVEN', '1643,ODD', '1644,EVEN', '1645,ODD', '1646,EVEN', '1647,ODD', '1648,EVEN', '1649,ODD', '1650,EVEN', '1651,ODD', '1652,EVEN', '1653,ODD', '1654,EVEN', '1655,ODD', '1656,EVEN', '1657,ODD', '1658,EVEN', '1659,ODD', '1660,EVEN', '1661,ODD', '1662,EVEN', '1663,ODD', '1664,EVEN', '1665,ODD', '1666,EVEN', '1667,ODD', '1668,EVEN', '1669,ODD', '1670,EVEN', '1671,ODD', '1672,EVEN', '1673,ODD', '1674,EVEN', '1675,ODD', '1676,EVEN', '1677,ODD', '1678,EVEN', '1679,ODD', '1680,EVEN', '1681,ODD', '1682,EVEN', '1683,ODD', '1684,EVEN', '1685,ODD', '1686,EVEN', '1687,ODD', '1688,EVEN', '1689,ODD', '1690,EVEN', '1691,ODD', '1692,EVEN', '1693,ODD', '1694,EVEN', '1695,ODD', '1696,EVEN', '1697,ODD', '1698,EVEN', '1699,ODD', '1700,EVEN', '1701,ODD', '1702,EVEN', '1703,ODD', '1704,EVEN', '1705,ODD', '1706,EVEN', '1707,ODD', '1708,EVEN', '1709,ODD', '1710,EVEN', '1711,ODD', '1712,EVEN', '1713,ODD', '1714,EVEN', '1715,ODD', '1716,EVEN', '1717,ODD', '1718,EVEN', '1719,ODD', '1720,EVEN', '1721,ODD', '1722,EVEN', '1723,ODD', '1724,EVEN', '1725,ODD', '1726,EVEN', '1727,ODD', '1728,EVEN', '1729,ODD', '1730,EVEN', '1731,ODD', '1732,EVEN', '1733,ODD', '1734,EVEN', '1735,ODD', '1736,EVEN', '1737,ODD', '1738,EVEN', '1739,ODD', '1740,EVEN', '1741,ODD', '1742,EVEN', '1743,ODD', '1744,EVEN', '1745,ODD', '1746,EVEN', '1747,ODD', '1748,EVEN', '1749,ODD', '1750,EVEN', '1751,ODD', '1752,EVEN', '1753,ODD', '1754,EVEN', '1755,ODD', '1756,EVEN', '1757,ODD', '1758,EVEN', '1759,ODD', '1760,EVEN', '1761,ODD', '1762,EVEN', '1763,ODD', '1764,EVEN', '1765,ODD', '1766,EVEN', '1767,ODD', '1768,EVEN', '1769,ODD', '1770,EVEN', '1771,ODD', '1772,EVEN', '1773,ODD', '1774,EVEN', '1775,ODD', '1776,EVEN', '1777,ODD', '1778,EVEN', '1779,ODD', '1780,EVEN', '1781,ODD', '1782,EVEN', '1783,ODD', '1784,EVEN', '1785,ODD', '1786,EVEN', '1787,ODD', '1788,EVEN', '1789,ODD', '1790,EVEN', '1791,ODD', '1792,EVEN', '1793,ODD', '1794,EVEN', '1795,ODD', '1796,EVEN', '1797,ODD', '1798,EVEN', '1799,ODD', '1800,EVEN', '1801,ODD', '1802,EVEN', '1803,ODD', '1804,EVEN', '1805,ODD', '1806,EVEN', '1807,ODD', '1808,EVEN', '1809,ODD', '1810,EVEN', '1811,ODD', '1812,EVEN', '1813,ODD', '1814,EVEN', '1815,ODD', '1816,EVEN', '1817,ODD', '1818,EVEN', '1819,ODD', '1820,EVEN', '1821,ODD', '1822,EVEN', '1823,ODD', '1824,EVEN', '1825,ODD', '1826,EVEN', '1827,ODD', '1828,EVEN', '1829,ODD', '1830,EVEN', '1831,ODD', '1832,EVEN', '1833,ODD', '1834,EVEN', '1835,ODD', '1836,EVEN', '1837,ODD', '1838,EVEN', '1839,ODD', '1840,EVEN', '1841,ODD', '1842,EVEN', '1843,ODD', '1844,EVEN', '1845,ODD', '1846,EVEN', '1847,ODD', '1848,EVEN', '1849,ODD', '1850,EVEN', '1851,ODD', '1852,EVEN', '1853,ODD', '1854,EVEN', '1855,ODD', '1856,EVEN', '1857,ODD', '1858,EVEN', '1859,ODD', '1860,EVEN', '1861,ODD', '1862,EVEN', '1863,ODD', '1864,EVEN', '1865,ODD', '1866,EVEN', '1867,ODD', '1868,EVEN', '1869,ODD', '1870,EVEN', '1871,ODD', '1872,EVEN', '1873,ODD', '1874,EVEN', '1875,ODD', '1876,EVEN', '1877,ODD', '1878,EVEN', '1879,ODD', '1880,EVEN', '1881,ODD', '1882,EVEN', '1883,ODD', '1884,EVEN', '1885,ODD', '1886,EVEN', '1887,ODD', '1888,EVEN', '1889,ODD', '1890,EVEN', '1891,ODD', '1892,EVEN', '1893,ODD', '1894,EVEN', '1895,ODD', '1896,EVEN', '1897,ODD', '1898,EVEN', '1899,ODD', '1900,EVEN', '1901,ODD', '1902,EVEN', '1903,ODD', '1904,EVEN', '1905,ODD', '1906,EVEN', '1907,ODD', '1908,EVEN', '1909,ODD', '1910,EVEN', '1911,ODD', '1912,EVEN', '1913,ODD', '1914,EVEN', '1915,ODD', '1916,EVEN', '1917,ODD', '1918,EVEN', '1919,ODD', '1920,EVEN', '1921,ODD', '1922,EVEN', '1923,ODD', '1924,EVEN', '1925,ODD', '1926,EVEN', '1927,ODD', '1928,EVEN', '1929,ODD', '1930,EVEN', '1931,ODD', '1932,EVEN', '1933,ODD', '1934,EVEN', '1935,ODD', '1936,EVEN', '1937,ODD', '1938,EVEN', '1939,ODD', '1940,EVEN', '1941,ODD', '1942,EVEN', '1943,ODD', '1944,EVEN', '1945,ODD', '1946,EVEN', '1947,ODD', '1948,EVEN', '1949,ODD', '1950,EVEN', '1951,ODD', '1952,EVEN', '1953,ODD', '1954,EVEN', '1955,ODD', '1956,EVEN', '1957,ODD', '1958,EVEN', '1959,ODD', '1960,EVEN', '1961,ODD', '1962,EVEN', '1963,ODD', '1964,EVEN', '1965,ODD', '1966,EVEN', '1967,ODD', '1968,EVEN', '1969,ODD', '1970,EVEN', '1971,ODD', '1972,EVEN', '1973,ODD', '1974,EVEN', '1975,ODD', '1976,EVEN', '1977,ODD', '1978,EVEN', '1979,ODD', '1980,EVEN', '1981,ODD', '1982,EVEN', '1983,ODD', '1984,EVEN', '1985,ODD', '1986,EVEN', '1987,ODD', '1988,EVEN', '1989,ODD', '1990,EVEN', '1991,ODD', '1992,EVEN', '1993,ODD', '1994,EVEN', '1995,ODD', '1996,EVEN', '1997,ODD', '1998,EVEN', '1999,ODD', '2000,EVEN', '2001,ODD', '2002,EVEN', '2003,ODD', '2004,EVEN', '2005,ODD', '2006,EVEN', '2007,ODD', '2008,EVEN', '2009,ODD', '2010,EVEN', '2011,ODD', '2012,EVEN', '2013,ODD', '2014,EVEN', '2015,ODD', '2016,EVEN', '2017,ODD', '2018,EVEN', '2019,ODD', '2020,EVEN', '2021,ODD', '2022,EVEN', '2023,ODD', '2024,EVEN', '2025,ODD', '2026,EVEN', '2027,ODD', '2028,EVEN', '2029,ODD', '2030,EVEN', '2031,ODD', '2032,EVEN', '2033,ODD', '2034,EVEN', '2035,ODD', '2036,EVEN', '2037,ODD', '2038,EVEN', '2039,ODD', '2040,EVEN', '2041,ODD', '2042,EVEN', '2043,ODD', '2044,EVEN', '2045,ODD', '2046,EVEN', '2047,ODD', '2048,EVEN', '2049,ODD', '2050,EVEN', '2051,ODD', '2052,EVEN', '2053,ODD', '2054,EVEN', '2055,ODD', '2056,EVEN', '2057,ODD', '2058,EVEN', '2059,ODD', '2060,EVEN', '2061,ODD', '2062,EVEN', '2063,ODD', '2064,EVEN', '2065,ODD', '2066,EVEN', '2067,ODD', '2068,EVEN', '2069,ODD', '2070,EVEN', '2071,ODD', '2072,EVEN', '2073,ODD', '2074,EVEN', '2075,ODD', '2076,EVEN', '2077,ODD', '2078,EVEN', '2079,ODD', '2080,EVEN', '2081,ODD', '2082,EVEN', '2083,ODD', '2084,EVEN', '2085,ODD', '2086,EVEN', '2087,ODD', '2088,EVEN', '2089,ODD', '2090,EVEN', '2091,ODD', '2092,EVEN', '2093,ODD', '2094,EVEN', '2095,ODD', '2096,EVEN', '2097,ODD', '2098,EVEN', '2099,ODD', '2100,EVEN', '2101,ODD', '2102,EVEN', '2103,ODD', '2104,EVEN', '2105,ODD', '2106,EVEN', '2107,ODD', '2108,EVEN', '2109,ODD', '2110,EVEN', '2111,ODD', '2112,EVEN', '2113,ODD', '2114,EVEN', '2115,ODD', '2116,EVEN', '2117,ODD', '2118,EVEN', '2119,ODD', '2120,EVEN', '2121,ODD', '2122,EVEN', '2123,ODD', '2124,EVEN', '2125,ODD', '2126,EVEN', '2127,ODD', '2128,EVEN', '2129,ODD', '2130,EVEN', '2131,ODD', '2132,EVEN', '2133,ODD', '2134,EVEN', '2135,ODD', '2136,EVEN', '2137,ODD', '2138,EVEN', '2139,ODD', '2140,EVEN', '2141,ODD', '2142,EVEN', '2143,ODD', '2144,EVEN', '2145,ODD', '2146,EVEN', '2147,ODD', '2148,EVEN', '2149,ODD', '2150,EVEN', '2151,ODD', '2152,EVEN', '2153,ODD', '2154,EVEN', '2155,ODD', '2156,EVEN', '2157,ODD', '2158,EVEN', '2159,ODD', '2160,EVEN', '2161,ODD', '2162,EVEN', '2163,ODD', '2164,EVEN', '2165,ODD', '2166,EVEN', '2167,ODD', '2168,EVEN', '2169,ODD', '2170,EVEN', '2171,ODD', '2172,EVEN', '2173,ODD', '2174,EVEN', '2175,ODD', '2176,EVEN', '2177,ODD', '2178,EVEN', '2179,ODD', '2180,EVEN', '2181,ODD', '2182,EVEN', '2183,ODD', '2184,EVEN', '2185,ODD', '2186,EVEN', '2187,ODD', '2188,EVEN', '2189,ODD', '2190,EVEN', '2191,ODD', '2192,EVEN', '2193,ODD', '2194,EVEN', '2195,ODD', '2196,EVEN', '2197,ODD', '2198,EVEN', '2199,ODD', '2200,EVEN', '2201,ODD', '2202,EVEN', '2203,ODD', '2204,EVEN', '2205,ODD', '2206,EVEN', '2207,ODD', '2208,EVEN', '2209,ODD', '2210,EVEN', '2211,ODD', '2212,EVEN', '2213,ODD', '2214,EVEN', '2215,ODD', '2216,EVEN', '2217,ODD', '2218,EVEN', '2219,ODD', '2220,EVEN', '2221,ODD', '2222,EVEN', '2223,ODD', '2224,EVEN', '2225,ODD', '2226,EVEN', '2227,ODD', '2228,EVEN', '2229,ODD', '2230,EVEN', '2231,ODD', '2232,EVEN', '2233,ODD', '2234,EVEN', '2235,ODD', '2236,EVEN', '2237,ODD', '2238,EVEN', '2239,ODD', '2240,EVEN', '2241,ODD', '2242,EVEN', '2243,ODD', '2244,EVEN', '2245,ODD', '2246,EVEN', '2247,ODD', '2248,EVEN', '2249,ODD', '2250,EVEN', '2251,ODD', '2252,EVEN', '2253,ODD', '2254,EVEN', '2255,ODD', '2256,EVEN', '2257,ODD', '2258,EVEN', '2259,ODD', '2260,EVEN', '2261,ODD', '2262,EVEN', '2263,ODD', '2264,EVEN', '2265,ODD', '2266,EVEN', '2267,ODD', '2268,EVEN', '2269,ODD', '2270,EVEN', '2271,ODD', '2272,EVEN', '2273,ODD', '2274,EVEN', '2275,ODD', '2276,EVEN', '2277,ODD', '2278,EVEN', '2279,ODD', '2280,EVEN', '2281,ODD', '2282,EVEN', '2283,ODD', '2284,EVEN', '2285,ODD', '2286,EVEN', '2287,ODD', '2288,EVEN', '2289,ODD', '2290,EVEN', '2291,ODD', '2292,EVEN', '2293,ODD', '2294,EVEN', '2295,ODD', '2296,EVEN', '2297,ODD', '2298,EVEN', '2299,ODD', '2300,EVEN', '2301,ODD', '2302,EVEN', '2303,ODD', '2304,EVEN', '2305,ODD', '2306,EVEN', '2307,ODD', '2308,EVEN', '2309,ODD', '2310,EVEN', '2311,ODD', '2312,EVEN', '2313,ODD', '2314,EVEN', '2315,ODD', '2316,EVEN', '2317,ODD', '2318,EVEN', '2319,ODD', '2320,EVEN', '2321,ODD', '2322,EVEN', '2323,ODD', '2324,EVEN', '2325,ODD', '2326,EVEN', '2327,ODD', '2328,EVEN', '2329,ODD', '2330,EVEN', '2331,ODD', '2332,EVEN', '2333,ODD', '2334,EVEN', '2335,ODD', '2336,EVEN', '2337,ODD', '2338,EVEN', '2339,ODD', '2340,EVEN', '2341,ODD', '2342,EVEN', '2343,ODD', '2344,EVEN', '2345,ODD', '2346,EVEN', '2347,ODD', '2348,EVEN', '2349,ODD', '2350,EVEN', '2351,ODD', '2352,EVEN', '2353,ODD', '2354,EVEN', '2355,ODD', '2356,EVEN', '2357,ODD', '2358,EVEN', '2359,ODD', '2360,EVEN', '2361,ODD', '2362,EVEN', '2363,ODD', '2364,EVEN', '2365,ODD', '2366,EVEN', '2367,ODD', '2368,EVEN', '2369,ODD', '2370,EVEN', '2371,ODD', '2372,EVEN', '2373,ODD', '2374,EVEN', '2375,ODD', '2376,EVEN', '2377,ODD', '2378,EVEN', '2379,ODD', '2380,EVEN', '2381,ODD', '2382,EVEN', '2383,ODD', '2384,EVEN', '2385,ODD', '2386,EVEN', '2387,ODD', '2388,EVEN', '2389,ODD', '2390,EVEN', '2391,ODD', '2392,EVEN', '2393,ODD', '2394,EVEN', '2395,ODD', '2396,EVEN', '2397,ODD', '2398,EVEN', '2399,ODD', '2400,EVEN', '2401,ODD', '2402,EVEN', '2403,ODD', '2404,EVEN', '2405,ODD', '2406,EVEN', '2407,ODD', '2408,EVEN', '2409,ODD', '2410,EVEN', '2411,ODD', '2412,EVEN', '2413,ODD', '2414,EVEN', '2415,ODD', '2416,EVEN', '2417,ODD', '2418,EVEN', '2419,ODD', '2420,EVEN', '2421,ODD', '2422,EVEN', '2423,ODD', '2424,EVEN', '2425,ODD', '2426,EVEN', '2427,ODD', '2428,EVEN', '2429,ODD', '2430,EVEN', '2431,ODD', '2432,EVEN', '2433,ODD', '2434,EVEN', '2435,ODD', '2436,EVEN', '2437,ODD', '2438,EVEN', '2439,ODD', '2440,EVEN', '2441,ODD', '2442,EVEN', '2443,ODD', '2444,EVEN', '2445,ODD', '2446,EVEN', '2447,ODD', '2448,EVEN', '2449,ODD', '2450,EVEN', '2451,ODD', '2452,EVEN', '2453,ODD', '2454,EVEN', '2455,ODD', '2456,EVEN', '2457,ODD', '2458,EVEN', '2459,ODD', '2460,EVEN', '2461,ODD', '2462,EVEN', '2463,ODD', '2464,EVEN', '2465,ODD', '2466,EVEN', '2467,ODD', '2468,EVEN', '2469,ODD', '2470,EVEN', '2471,ODD', '2472,EVEN', '2473,ODD', '2474,EVEN', '2475,ODD', '2476,EVEN', '2477,ODD', '2478,EVEN', '2479,ODD', '2480,EVEN', '2481,ODD', '2482,EVEN', '2483,ODD', '2484,EVEN', '2485,ODD', '2486,EVEN', '2487,ODD', '2488,EVEN', '2489,ODD', '2490,EVEN', '2491,ODD', '2492,EVEN', '2493,ODD', '2494,EVEN', '2495,ODD', '2496,EVEN', '2497,ODD', '2498,EVEN', '2499,ODD', '2500,EVEN', '2501,ODD', '2502,EVEN', '2503,ODD', '2504,EVEN', '2505,ODD', '2506,EVEN', '2507,ODD', '2508,EVEN', '2509,ODD', '2510,EVEN', '2511,ODD', '2512,EVEN', '2513,ODD', '2514,EVEN', '2515,ODD', '2516,EVEN', '2517,ODD', '2518,EVEN', '2519,ODD', '2520,EVEN', '2521,ODD', '2522,EVEN', '2523,ODD', '2524,EVEN', '2525,ODD', '2526,EVEN', '2527,ODD', '2528,EVEN', '2529,ODD', '2530,EVEN', '2531,ODD', '2532,EVEN', '2533,ODD', '2534,EVEN', '2535,ODD', '2536,EVEN', '2537,ODD', '2538,EVEN', '2539,ODD', '2540,EVEN', '2541,ODD', '2542,EVEN', '2543,ODD', '2544,EVEN', '2545,ODD', '2546,EVEN', '2547,ODD', '2548,EVEN', '2549,ODD', '2550,EVEN', '2551,ODD', '2552,EVEN', '2553,ODD', '2554,EVEN', '2555,ODD', '2556,EVEN', '2557,ODD', '2558,EVEN', '2559,ODD', '2560,EVEN', '2561,ODD', '2562,EVEN', '2563,ODD', '2564,EVEN', '2565,ODD', '2566,EVEN', '2567,ODD', '2568,EVEN', '2569,ODD', '2570,EVEN', '2571,ODD', '2572,EVEN', '2573,ODD', '2574,EVEN', '2575,ODD', '2576,EVEN', '2577,ODD', '2578,EVEN', '2579,ODD', '2580,EVEN', '2581,ODD', '2582,EVEN', '2583,ODD', '2584,EVEN', '2585,ODD', '2586,EVEN', '2587,ODD', '2588,EVEN', '2589,ODD', '2590,EVEN', '2591,ODD', '2592,EVEN', '2593,ODD', '2594,EVEN', '2595,ODD', '2596,EVEN', '2597,ODD', '2598,EVEN', '2599,ODD', '2600,EVEN', '2601,ODD', '2602,EVEN', '2603,ODD', '2604,EVEN', '2605,ODD', '2606,EVEN', '2607,ODD', '2608,EVEN', '2609,ODD', '2610,EVEN', '2611,ODD', '2612,EVEN', '2613,ODD', '2614,EVEN', '2615,ODD', '2616,EVEN', '2617,ODD', '2618,EVEN', '2619,ODD', '2620,EVEN', '2621,ODD', '2622,EVEN', '2623,ODD', '2624,EVEN', '2625,ODD', '2626,EVEN', '2627,ODD', '2628,EVEN', '2629,ODD', '2630,EVEN', '2631,ODD', '2632,EVEN', '2633,ODD', '2634,EVEN', '2635,ODD', '2636,EVEN', '2637,ODD', '2638,EVEN', '2639,ODD', '2640,EVEN', '2641,ODD', '2642,EVEN', '2643,ODD', '2644,EVEN', '2645,ODD', '2646,EVEN', '2647,ODD', '2648,EVEN', '2649,ODD', '2650,EVEN', '2651,ODD', '2652,EVEN', '2653,ODD', '2654,EVEN', '2655,ODD', '2656,EVEN', '2657,ODD', '2658,EVEN', '2659,ODD', '2660,EVEN', '2661,ODD', '2662,EVEN', '2663,ODD', '2664,EVEN', '2665,ODD', '2666,EVEN', '2667,ODD', '2668,EVEN', '2669,ODD', '2670,EVEN', '2671,ODD', '2672,EVEN', '2673,ODD', '2674,EVEN', '2675,ODD', '2676,EVEN', '2677,ODD', '2678,EVEN', '2679,ODD', '2680,EVEN', '2681,ODD', '2682,EVEN', '2683,ODD', '2684,EVEN', '2685,ODD', '2686,EVEN', '2687,ODD', '2688,EVEN', '2689,ODD', '2690,EVEN', '2691,ODD', '2692,EVEN', '2693,ODD', '2694,EVEN', '2695,ODD', '2696,EVEN', '2697,ODD', '2698,EVEN', '2699,ODD', '2700,EVEN', '2701,ODD', '2702,EVEN', '2703,ODD', '2704,EVEN', '2705,ODD', '2706,EVEN', '2707,ODD', '2708,EVEN', '2709,ODD', '2710,EVEN', '2711,ODD', '2712,EVEN', '2713,ODD', '2714,EVEN', '2715,ODD', '2716,EVEN', '2717,ODD', '2718,EVEN', '2719,ODD', '2720,EVEN', '2721,ODD', '2722,EVEN', '2723,ODD', '2724,EVEN', '2725,ODD', '2726,EVEN', '2727,ODD', '2728,EVEN', '2729,ODD', '2730,EVEN', '2731,ODD', '2732,EVEN', '2733,ODD', '2734,EVEN', '2735,ODD', '2736,EVEN', '2737,ODD', '2738,EVEN', '2739,ODD', '2740,EVEN', '2741,ODD', '2742,EVEN', '2743,ODD', '2744,EVEN', '2745,ODD', '2746,EVEN', '2747,ODD', '2748,EVEN', '2749,ODD', '2750,EVEN', '2751,ODD', '2752,EVEN', '2753,ODD', '2754,EVEN', '2755,ODD', '2756,EVEN', '2757,ODD', '2758,EVEN', '2759,ODD', '2760,EVEN', '2761,ODD', '2762,EVEN', '2763,ODD', '2764,EVEN', '2765,ODD', '2766,EVEN', '2767,ODD', '2768,EVEN', '2769,ODD', '2770,EVEN', '2771,ODD', '2772,EVEN', '2773,ODD', '2774,EVEN', '2775,ODD', '2776,EVEN', '2777,ODD', '2778,EVEN', '2779,ODD', '2780,EVEN', '2781,ODD', '2782,EVEN', '2783,ODD', '2784,EVEN', '2785,ODD', '2786,EVEN', '2787,ODD', '2788,EVEN', '2789,ODD', '2790,EVEN', '2791,ODD', '2792,EVEN', '2793,ODD', '2794,EVEN', '2795,ODD', '2796,EVEN', '2797,ODD', '2798,EVEN', '2799,ODD', '2800,EVEN', '2801,ODD', '2802,EVEN', '2803,ODD', '2804,EVEN', '2805,ODD', '2806,EVEN', '2807,ODD', '2808,EVEN', '2809,ODD', '2810,EVEN', '2811,ODD', '2812,EVEN', '2813,ODD', '2814,EVEN', '2815,ODD', '2816,EVEN', '2817,ODD', '2818,EVEN', '2819,ODD', '2820,EVEN', '2821,ODD', '2822,EVEN', '2823,ODD', '2824,EVEN', '2825,ODD', '2826,EVEN', '2827,ODD', '2828,EVEN', '2829,ODD', '2830,EVEN', '2831,ODD', '2832,EVEN', '2833,ODD', '2834,EVEN', '2835,ODD', '2836,EVEN', '2837,ODD', '2838,EVEN', '2839,ODD', '2840,EVEN', '2841,ODD', '2842,EVEN', '2843,ODD', '2844,EVEN', '2845,ODD', '2846,EVEN', '2847,ODD', '2848,EVEN', '2849,ODD', '2850,EVEN', '2851,ODD', '2852,EVEN', '2853,ODD', '2854,EVEN', '2855,ODD', '2856,EVEN', '2857,ODD', '2858,EVEN', '2859,ODD', '2860,EVEN', '2861,ODD', '2862,EVEN', '2863,ODD', '2864,EVEN', '2865,ODD', '2866,EVEN', '2867,ODD', '2868,EVEN', '2869,ODD', '2870,EVEN', '2871,ODD', '2872,EVEN', '2873,ODD', '2874,EVEN', '2875,ODD', '2876,EVEN', '2877,ODD', '2878,EVEN', '2879,ODD', '2880,EVEN', '2881,ODD', '2882,EVEN', '2883,ODD', '2884,EVEN', '2885,ODD', '2886,EVEN', '2887,ODD', '2888,EVEN', '2889,ODD', '2890,EVEN', '2891,ODD', '2892,EVEN', '2893,ODD', '2894,EVEN', '2895,ODD', '2896,EVEN', '2897,ODD', '2898,EVEN', '2899,ODD', '2900,EVEN', '2901,ODD', '2902,EVEN', '2903,ODD', '2904,EVEN', '2905,ODD', '2906,EVEN', '2907,ODD', '2908,EVEN', '2909,ODD', '2910,EVEN', '2911,ODD', '2912,EVEN', '2913,ODD', '2914,EVEN', '2915,ODD', '2916,EVEN', '2917,ODD', '2918,EVEN', '2919,ODD', '2920,EVEN', '2921,ODD', '2922,EVEN', '2923,ODD', '2924,EVEN', '2925,ODD', '2926,EVEN', '2927,ODD', '2928,EVEN', '2929,ODD', '2930,EVEN', '2931,ODD', '2932,EVEN', '2933,ODD', '2934,EVEN', '2935,ODD', '2936,EVEN', '2937,ODD', '2938,EVEN', '2939,ODD', '2940,EVEN', '2941,ODD', '2942,EVEN', '2943,ODD', '2944,EVEN', '2945,ODD', '2946,EVEN', '2947,ODD', '2948,EVEN', '2949,ODD', '2950,EVEN', '2951,ODD', '2952,EVEN', '2953,ODD', '2954,EVEN', '2955,ODD', '2956,EVEN', '2957,ODD', '2958,EVEN', '2959,ODD', '2960,EVEN', '2961,ODD', '2962,EVEN', '2963,ODD', '2964,EVEN', '2965,ODD', '2966,EVEN', '2967,ODD', '2968,EVEN', '2969,ODD', '2970,EVEN', '2971,ODD', '2972,EVEN', '2973,ODD', '2974,EVEN', '2975,ODD', '2976,EVEN', '2977,ODD', '2978,EVEN', '2979,ODD', '2980,EVEN', '2981,ODD', '2982,EVEN', '2983,ODD', '2984,EVEN', '2985,ODD', '2986,EVEN', '2987,ODD', '2988,EVEN', '2989,ODD', '2990,EVEN', '2991,ODD', '2992,EVEN', '2993,ODD', '2994,EVEN', '2995,ODD', '2996,EVEN', '2997,ODD', '2998,EVEN', '2999,ODD', '3000,EVEN', '3001,ODD', '3002,EVEN', '3003,ODD', '3004,EVEN', '3005,ODD', '3006,EVEN', '3007,ODD', '3008,EVEN', '3009,ODD', '3010,EVEN', '3011,ODD', '3012,EVEN', '3013,ODD', '3014,EVEN', '3015,ODD', '3016,EVEN', '3017,ODD', '3018,EVEN', '3019,ODD', '3020,EVEN', '3021,ODD', '3022,EVEN', '3023,ODD', '3024,EVEN', '3025,ODD', '3026,EVEN', '3027,ODD', '3028,EVEN', '3029,ODD', '3030,EVEN', '3031,ODD', '3032,EVEN', '3033,ODD', '3034,EVEN', '3035,ODD', '3036,EVEN', '3037,ODD', '3038,EVEN', '3039,ODD', '3040,EVEN', '3041,ODD', '3042,EVEN', '3043,ODD', '3044,EVEN', '3045,ODD', '3046,EVEN', '3047,ODD', '3048,EVEN', '3049,ODD', '3050,EVEN', '3051,ODD', '3052,EVEN', '3053,ODD', '3054,EVEN', '3055,ODD', '3056,EVEN', '3057,ODD', '3058,EVEN', '3059,ODD', '3060,EVEN', '3061,ODD', '3062,EVEN', '3063,ODD', '3064,EVEN', '3065,ODD', '3066,EVEN', '3067,ODD', '3068,EVEN', '3069,ODD', '3070,EVEN', '3071,ODD', '3072,EVEN', '3073,ODD', '3074,EVEN', '3075,ODD', '3076,EVEN', '3077,ODD', '3078,EVEN', '3079,ODD', '3080,EVEN', '3081,ODD', '3082,EVEN', '3083,ODD', '3084,EVEN', '3085,ODD', '3086,EVEN', '3087,ODD', '3088,EVEN', '3089,ODD', '3090,EVEN', '3091,ODD', '3092,EVEN', '3093,ODD', '3094,EVEN', '3095,ODD', '3096,EVEN', '3097,ODD', '3098,EVEN', '3099,ODD', '3100,EVEN', '3101,ODD', '3102,EVEN', '3103,ODD', '3104,EVEN', '3105,ODD', '3106,EVEN', '3107,ODD', '3108,EVEN', '3109,ODD', '3110,EVEN', '3111,ODD', '3112,EVEN', '3113,ODD', '3114,EVEN', '3115,ODD', '3116,EVEN', '3117,ODD', '3118,EVEN', '3119,ODD', '3120,EVEN', '3121,ODD', '3122,EVEN', '3123,ODD', '3124,EVEN', '3125,ODD', '3126,EVEN', '3127,ODD', '3128,EVEN', '3129,ODD', '3130,EVEN', '3131,ODD', '3132,EVEN', '3133,ODD', '3134,EVEN', '3135,ODD', '3136,EVEN', '3137,ODD', '3138,EVEN', '3139,ODD', '3140,EVEN', '3141,ODD', '3142,EVEN', '3143,ODD', '3144,EVEN', '3145,ODD', '3146,EVEN', '3147,ODD', '3148,EVEN', '3149,ODD', '3150,EVEN', '3151,ODD', '3152,EVEN', '3153,ODD', '3154,EVEN', '3155,ODD', '3156,EVEN', '3157,ODD', '3158,EVEN', '3159,ODD', '3160,EVEN', '3161,ODD', '3162,EVEN', '3163,ODD', '3164,EVEN', '3165,ODD', '3166,EVEN', '3167,ODD', '3168,EVEN', '3169,ODD', '3170,EVEN', '3171,ODD', '3172,EVEN', '3173,ODD', '3174,EVEN', '3175,ODD', '3176,EVEN', '3177,ODD', '3178,EVEN', '3179,ODD', '3180,EVEN', '3181,ODD', '3182,EVEN', '3183,ODD', '3184,EVEN', '3185,ODD', '3186,EVEN', '3187,ODD', '3188,EVEN', '3189,ODD', '3190,EVEN', '3191,ODD', '3192,EVEN', '3193,ODD', '3194,EVEN', '3195,ODD', '3196,EVEN', '3197,ODD', '3198,EVEN', '3199,ODD', '3200,EVEN', '3201,ODD', '3202,EVEN', '3203,ODD', '3204,EVEN', '3205,ODD', '3206,EVEN', '3207,ODD', '3208,EVEN', '3209,ODD', '3210,EVEN', '3211,ODD', '3212,EVEN', '3213,ODD', '3214,EVEN', '3215,ODD', '3216,EVEN', '3217,ODD', '3218,EVEN', '3219,ODD', '3220,EVEN', '3221,ODD', '3222,EVEN', '3223,ODD', '3224,EVEN', '3225,ODD', '3226,EVEN', '3227,ODD', '3228,EVEN', '3229,ODD', '3230,EVEN', '3231,ODD', '3232,EVEN', '3233,ODD', '3234,EVEN', '3235,ODD', '3236,EVEN', '3237,ODD', '3238,EVEN', '3239,ODD', '3240,EVEN', '3241,ODD', '3242,EVEN', '3243,ODD', '3244,EVEN', '3245,ODD', '3246,EVEN', '3247,ODD', '3248,EVEN', '3249,ODD', '3250,EVEN', '3251,ODD', '3252,EVEN', '3253,ODD', '3254,EVEN', '3255,ODD', '3256,EVEN', '3257,ODD', '3258,EVEN', '3259,ODD', '3260,EVEN', '3261,ODD', '3262,EVEN', '3263,ODD', '3264,EVEN', '3265,ODD', '3266,EVEN', '3267,ODD', '3268,EVEN', '3269,ODD', '3270,EVEN', '3271,ODD', '3272,EVEN', '3273,ODD', '3274,EVEN', '3275,ODD', '3276,EVEN', '3277,ODD', '3278,EVEN', '3279,ODD', '3280,EVEN', '3281,ODD', '3282,EVEN', '3283,ODD', '3284,EVEN', '3285,ODD', '3286,EVEN', '3287,ODD', '3288,EVEN', '3289,ODD', '3290,EVEN', '3291,ODD', '3292,EVEN', '3293,ODD', '3294,EVEN', '3295,ODD', '3296,EVEN', '3297,ODD', '3298,EVEN', '3299,ODD', '3300,EVEN', '3301,ODD', '3302,EVEN', '3303,ODD', '3304,EVEN', '3305,ODD', '3306,EVEN', '3307,ODD', '3308,EVEN', '3309,ODD', '3310,EVEN', '3311,ODD', '3312,EVEN', '3313,ODD', '3314,EVEN', '3315,ODD', '3316,EVEN', '3317,ODD', '3318,EVEN', '3319,ODD', '3320,EVEN', '3321,ODD', '3322,EVEN', '3323,ODD', '3324,EVEN', '3325,ODD', '3326,EVEN', '3327,ODD', '3328,EVEN', '3329,ODD', '3330,EVEN', '3331,ODD', '3332,EVEN', '3333,ODD', '3334,EVEN', '3335,ODD', '3336,EVEN', '3337,ODD', '3338,EVEN', '3339,ODD', '3340,EVEN', '3341,ODD', '3342,EVEN', '3343,ODD', '3344,EVEN', '3345,ODD', '3346,EVEN', '3347,ODD', '3348,EVEN', '3349,ODD', '3350,EVEN', '3351,ODD', '3352,EVEN', '3353,ODD', '3354,EVEN', '3355,ODD', '3356,EVEN', '3357,ODD', '3358,EVEN', '3359,ODD', '3360,EVEN', '3361,ODD', '3362,EVEN', '3363,ODD', '3364,EVEN', '3365,ODD', '3366,EVEN', '3367,ODD', '3368,EVEN', '3369,ODD', '3370,EVEN', '3371,ODD', '3372,EVEN', '3373,ODD', '3374,EVEN', '3375,ODD', '3376,EVEN', '3377,ODD', '3378,EVEN', '3379,ODD', '3380,EVEN', '3381,ODD', '3382,EVEN', '3383,ODD', '3384,EVEN', '3385,ODD', '3386,EVEN', '3387,ODD', '3388,EVEN', '3389,ODD', '3390,EVEN', '3391,ODD', '3392,EVEN', '3393,ODD', '3394,EVEN', '3395,ODD', '3396,EVEN', '3397,ODD', '3398,EVEN', '3399,ODD', '3400,EVEN', '3401,ODD', '3402,EVEN', '3403,ODD', '3404,EVEN', '3405,ODD', '3406,EVEN', '3407,ODD', '3408,EVEN', '3409,ODD', '3410,EVEN', '3411,ODD', '3412,EVEN', '3413,ODD', '3414,EVEN', '3415,ODD', '3416,EVEN', '3417,ODD', '3418,EVEN', '3419,ODD', '3420,EVEN', '3421,ODD', '3422,EVEN', '3423,ODD', '3424,EVEN', '3425,ODD', '3426,EVEN', '3427,ODD', '3428,EVEN', '3429,ODD', '3430,EVEN', '3431,ODD', '3432,EVEN', '3433,ODD', '3434,EVEN', '3435,ODD', '3436,EVEN', '3437,ODD', '3438,EVEN', '3439,ODD', '3440,EVEN', '3441,ODD', '3442,EVEN', '3443,ODD', '3444,EVEN', '3445,ODD', '3446,EVEN', '3447,ODD', '3448,EVEN', '3449,ODD', '3450,EVEN', '3451,ODD', '3452,EVEN', '3453,ODD', '3454,EVEN', '3455,ODD', '3456,EVEN', '3457,ODD', '3458,EVEN', '3459,ODD', '3460,EVEN', '3461,ODD', '3462,EVEN', '3463,ODD', '3464,EVEN', '3465,ODD', '3466,EVEN', '3467,ODD', '3468,EVEN', '3469,ODD', '3470,EVEN', '3471,ODD', '3472,EVEN', '3473,ODD', '3474,EVEN', '3475,ODD', '3476,EVEN', '3477,ODD', '3478,EVEN', '3479,ODD', '3480,EVEN', '3481,ODD', '3482,EVEN', '3483,ODD', '3484,EVEN', '3485,ODD', '3486,EVEN', '3487,ODD', '3488,EVEN', '3489,ODD', '3490,EVEN', '3491,ODD', '3492,EVEN', '3493,ODD', '3494,EVEN', '3495,ODD', '3496,EVEN', '3497,ODD', '3498,EVEN', '3499,ODD', '3500,EVEN', '3501,ODD', '3502,EVEN', '3503,ODD', '3504,EVEN', '3505,ODD', '3506,EVEN', '3507,ODD', '3508,EVEN', '3509,ODD', '3510,EVEN', '3511,ODD', '3512,EVEN', '3513,ODD', '3514,EVEN', '3515,ODD', '3516,EVEN', '3517,ODD', '3518,EVEN', '3519,ODD', '3520,EVEN', '3521,ODD', '3522,EVEN', '3523,ODD', '3524,EVEN', '3525,ODD', '3526,EVEN', '3527,ODD', '3528,EVEN', '3529,ODD', '3530,EVEN', '3531,ODD', '3532,EVEN', '3533,ODD', '3534,EVEN', '3535,ODD', '3536,EVEN', '3537,ODD', '3538,EVEN', '3539,ODD', '3540,EVEN', '3541,ODD', '3542,EVEN', '3543,ODD', '3544,EVEN', '3545,ODD', '3546,EVEN', '3547,ODD', '3548,EVEN', '3549,ODD', '3550,EVEN', '3551,ODD', '3552,EVEN', '3553,ODD', '3554,EVEN', '3555,ODD', '3556,EVEN', '3557,ODD', '3558,EVEN', '3559,ODD', '3560,EVEN', '3561,ODD', '3562,EVEN', '3563,ODD', '3564,EVEN', '3565,ODD', '3566,EVEN', '3567,ODD', '3568,EVEN', '3569,ODD', '3570,EVEN', '3571,ODD', '3572,EVEN', '3573,ODD', '3574,EVEN', '3575,ODD', '3576,EVEN', '3577,ODD', '3578,EVEN', '3579,ODD', '3580,EVEN', '3581,ODD', '3582,EVEN', '3583,ODD', '3584,EVEN', '3585,ODD', '3586,EVEN', '3587,ODD', '3588,EVEN', '3589,ODD', '3590,EVEN', '3591,ODD', '3592,EVEN', '3593,ODD', '3594,EVEN', '3595,ODD', '3596,EVEN', '3597,ODD', '3598,EVEN', '3599,ODD', '3600,EVEN', '3601,ODD', '3602,EVEN', '3603,ODD', '3604,EVEN', '3605,ODD', '3606,EVEN', '3607,ODD', '3608,EVEN', '3609,ODD', '3610,EVEN', '3611,ODD', '3612,EVEN', '3613,ODD', '3614,EVEN', '3615,ODD', '3616,EVEN', '3617,ODD', '3618,EVEN', '3619,ODD', '3620,EVEN', '3621,ODD', '3622,EVEN', '3623,ODD', '3624,EVEN', '3625,ODD', '3626,EVEN', '3627,ODD', '3628,EVEN', '3629,ODD', '3630,EVEN', '3631,ODD', '3632,EVEN', '3633,ODD', '3634,EVEN', '3635,ODD', '3636,EVEN', '3637,ODD', '3638,EVEN', '3639,ODD', '3640,EVEN', '3641,ODD', '3642,EVEN', '3643,ODD', '3644,EVEN', '3645,ODD', '3646,EVEN', '3647,ODD', '3648,EVEN', '3649,ODD', '3650,EVEN', '3651,ODD', '3652,EVEN', '3653,ODD', '3654,EVEN', '3655,ODD', '3656,EVEN', '3657,ODD', '3658,EVEN', '3659,ODD', '3660,EVEN', '3661,ODD', '3662,EVEN', '3663,ODD', '3664,EVEN', '3665,ODD', '3666,EVEN', '3667,ODD', '3668,EVEN', '3669,ODD', '3670,EVEN', '3671,ODD', '3672,EVEN', '3673,ODD', '3674,EVEN', '3675,ODD', '3676,EVEN', '3677,ODD', '3678,EVEN', '3679,ODD', '3680,EVEN', '3681,ODD', '3682,EVEN', '3683,ODD', '3684,EVEN', '3685,ODD', '3686,EVEN', '3687,ODD', '3688,EVEN', '3689,ODD', '3690,EVEN', '3691,ODD', '3692,EVEN', '3693,ODD', '3694,EVEN', '3695,ODD', '3696,EVEN', '3697,ODD', '3698,EVEN', '3699,ODD', '3700,EVEN', '3701,ODD', '3702,EVEN', '3703,ODD', '3704,EVEN', '3705,ODD', '3706,EVEN', '3707,ODD', '3708,EVEN', '3709,ODD', '3710,EVEN', '3711,ODD', '3712,EVEN', '3713,ODD', '3714,EVEN', '3715,ODD', '3716,EVEN', '3717,ODD', '3718,EVEN', '3719,ODD', '3720,EVEN', '3721,ODD', '3722,EVEN', '3723,ODD', '3724,EVEN', '3725,ODD', '3726,EVEN', '3727,ODD', '3728,EVEN', '3729,ODD', '3730,EVEN', '3731,ODD', '3732,EVEN', '3733,ODD', '3734,EVEN', '3735,ODD', '3736,EVEN', '3737,ODD', '3738,EVEN', '3739,ODD', '3740,EVEN', '3741,ODD', '3742,EVEN', '3743,ODD', '3744,EVEN', '3745,ODD', '3746,EVEN', '3747,ODD', '3748,EVEN', '3749,ODD', '3750,EVEN', '3751,ODD', '3752,EVEN', '3753,ODD', '3754,EVEN', '3755,ODD', '3756,EVEN', '3757,ODD', '3758,EVEN', '3759,ODD', '3760,EVEN', '3761,ODD', '3762,EVEN', '3763,ODD', '3764,EVEN', '3765,ODD', '3766,EVEN', '3767,ODD', '3768,EVEN', '3769,ODD', '3770,EVEN', '3771,ODD', '3772,EVEN', '3773,ODD', '3774,EVEN', '3775,ODD', '3776,EVEN', '3777,ODD', '3778,EVEN', '3779,ODD', '3780,EVEN', '3781,ODD', '3782,EVEN', '3783,ODD', '3784,EVEN', '3785,ODD', '3786,EVEN', '3787,ODD', '3788,EVEN', '3789,ODD', '3790,EVEN', '3791,ODD', '3792,EVEN', '3793,ODD', '3794,EVEN', '3795,ODD', '3796,EVEN', '3797,ODD', '3798,EVEN', '3799,ODD', '3800,EVEN', '3801,ODD', '3802,EVEN', '3803,ODD', '3804,EVEN', '3805,ODD', '3806,EVEN', '3807,ODD', '3808,EVEN', '3809,ODD', '3810,EVEN', '3811,ODD', '3812,EVEN', '3813,ODD', '3814,EVEN', '3815,ODD', '3816,EVEN', '3817,ODD', '3818,EVEN', '3819,ODD', '3820,EVEN', '3821,ODD', '3822,EVEN', '3823,ODD', '3824,EVEN', '3825,ODD', '3826,EVEN', '3827,ODD', '3828,EVEN', '3829,ODD', '3830,EVEN', '3831,ODD', '3832,EVEN', '3833,ODD', '3834,EVEN', '3835,ODD', '3836,EVEN', '3837,ODD', '3838,EVEN', '3839,ODD', '3840,EVEN', '3841,ODD', '3842,EVEN', '3843,ODD', '3844,EVEN', '3845,ODD', '3846,EVEN', '3847,ODD', '3848,EVEN', '3849,ODD', '3850,EVEN', '3851,ODD', '3852,EVEN', '3853,ODD', '3854,EVEN', '3855,ODD', '3856,EVEN', '3857,ODD', '3858,EVEN', '3859,ODD', '3860,EVEN', '3861,ODD', '3862,EVEN', '3863,ODD', '3864,EVEN', '3865,ODD', '3866,EVEN', '3867,ODD', '3868,EVEN', '3869,ODD', '3870,EVEN', '3871,ODD', '3872,EVEN', '3873,ODD', '3874,EVEN', '3875,ODD', '3876,EVEN', '3877,ODD', '3878,EVEN', '3879,ODD', '3880,EVEN', '3881,ODD', '3882,EVEN', '3883,ODD', '3884,EVEN', '3885,ODD', '3886,EVEN', '3887,ODD', '3888,EVEN', '3889,ODD', '3890,EVEN', '3891,ODD', '3892,EVEN', '3893,ODD', '3894,EVEN', '3895,ODD', '3896,EVEN', '3897,ODD', '3898,EVEN', '3899,ODD', '3900,EVEN', '3901,ODD', '3902,EVEN', '3903,ODD', '3904,EVEN', '3905,ODD', '3906,EVEN', '3907,ODD', '3908,EVEN', '3909,ODD', '3910,EVEN', '3911,ODD', '3912,EVEN', '3913,ODD', '3914,EVEN', '3915,ODD', '3916,EVEN', '3917,ODD', '3918,EVEN', '3919,ODD', '3920,EVEN', '3921,ODD', '3922,EVEN', '3923,ODD', '3924,EVEN', '3925,ODD', '3926,EVEN', '3927,ODD', '3928,EVEN', '3929,ODD', '3930,EVEN', '3931,ODD', '3932,EVEN', '3933,ODD', '3934,EVEN', '3935,ODD', '3936,EVEN', '3937,ODD', '3938,EVEN', '3939,ODD', '3940,EVEN', '3941,ODD', '3942,EVEN', '3943,ODD', '3944,EVEN', '3945,ODD', '3946,EVEN', '3947,ODD', '3948,EVEN', '3949,ODD', '3950,EVEN', '3951,ODD', '3952,EVEN', '3953,ODD', '3954,EVEN', '3955,ODD', '3956,EVEN', '3957,ODD', '3958,EVEN', '3959,ODD', '3960,EVEN', '3961,ODD', '3962,EVEN', '3963,ODD', '3964,EVEN', '3965,ODD', '3966,EVEN', '3967,ODD', '3968,EVEN', '3969,ODD', '3970,EVEN', '3971,ODD', '3972,EVEN', '3973,ODD', '3974,EVEN', '3975,ODD', '3976,EVEN', '3977,ODD', '3978,EVEN', '3979,ODD', '3980,EVEN', '3981,ODD', '3982,EVEN', '3983,ODD', '3984,EVEN', '3985,ODD', '3986,EVEN', '3987,ODD', '3988,EVEN', '3989,ODD', '3990,EVEN', '3991,ODD', '3992,EVEN', '3993,ODD', '3994,EVEN', '3995,ODD', '3996,EVEN', '3997,ODD', '3998,EVEN', '3999,ODD', '4000,EVEN', '4001,ODD', '4002,EVEN', '4003,ODD', '4004,EVEN', '4005,ODD', '4006,EVEN', '4007,ODD', '4008,EVEN', '4009,ODD', '4010,EVEN', '4011,ODD', '4012,EVEN', '4013,ODD', '4014,EVEN', '4015,ODD', '4016,EVEN', '4017,ODD', '4018,EVEN', '4019,ODD', '4020,EVEN', '4021,ODD', '4022,EVEN', '4023,ODD', '4024,EVEN', '4025,ODD', '4026,EVEN', '4027,ODD', '4028,EVEN', '4029,ODD', '4030,EVEN', '4031,ODD', '4032,EVEN', '4033,ODD', '4034,EVEN', '4035,ODD', '4036,EVEN', '4037,ODD', '4038,EVEN', '4039,ODD', '4040,EVEN', '4041,ODD', '4042,EVEN', '4043,ODD', '4044,EVEN', '4045,ODD', '4046,EVEN', '4047,ODD', '4048,EVEN', '4049,ODD', '4050,EVEN', '4051,ODD', '4052,EVEN', '4053,ODD', '4054,EVEN', '4055,ODD', '4056,EVEN', '4057,ODD', '4058,EVEN', '4059,ODD', '4060,EVEN', '4061,ODD', '4062,EVEN', '4063,ODD', '4064,EVEN', '4065,ODD', '4066,EVEN', '4067,ODD', '4068,EVEN', '4069,ODD', '4070,EVEN', '4071,ODD', '4072,EVEN', '4073,ODD', '4074,EVEN', '4075,ODD', '4076,EVEN', '4077,ODD', '4078,EVEN', '4079,ODD', '4080,EVEN', '4081,ODD', '4082,EVEN', '4083,ODD', '4084,EVEN', '4085,ODD', '4086,EVEN', '4087,ODD', '4088,EVEN', '4089,ODD', '4090,EVEN', '4091,ODD', '4092,EVEN', '4093,ODD', '4094,EVEN', '4095,ODD', '4096,EVEN', '4097,ODD', '4098,EVEN', '4099,ODD', '4100,EVEN', '4101,ODD', '4102,EVEN', '4103,ODD', '4104,EVEN', '4105,ODD', '4106,EVEN', '4107,ODD', '4108,EVEN', '4109,ODD', '4110,EVEN', '4111,ODD', '4112,EVEN', '4113,ODD', '4114,EVEN', '4115,ODD', '4116,EVEN', '4117,ODD', '4118,EVEN', '4119,ODD', '4120,EVEN', '4121,ODD', '4122,EVEN', '4123,ODD', '4124,EVEN', '4125,ODD', '4126,EVEN', '4127,ODD', '4128,EVEN', '4129,ODD', '4130,EVEN', '4131,ODD', '4132,EVEN', '4133,ODD', '4134,EVEN', '4135,ODD', '4136,EVEN', '4137,ODD', '4138,EVEN', '4139,ODD', '4140,EVEN', '4141,ODD', '4142,EVEN', '4143,ODD', '4144,EVEN', '4145,ODD', '4146,EVEN', '4147,ODD', '4148,EVEN', '4149,ODD', '4150,EVEN', '4151,ODD', '4152,EVEN', '4153,ODD', '4154,EVEN', '4155,ODD', '4156,EVEN', '4157,ODD', '4158,EVEN', '4159,ODD', '4160,EVEN', '4161,ODD', '4162,EVEN', '4163,ODD', '4164,EVEN', '4165,ODD', '4166,EVEN', '4167,ODD', '4168,EVEN', '4169,ODD', '4170,EVEN', '4171,ODD', '4172,EVEN', '4173,ODD', '4174,EVEN', '4175,ODD', '4176,EVEN', '4177,ODD', '4178,EVEN', '4179,ODD', '4180,EVEN', '4181,ODD', '4182,EVEN', '4183,ODD', '4184,EVEN', '4185,ODD', '4186,EVEN', '4187,ODD', '4188,EVEN', '4189,ODD', '4190,EVEN', '4191,ODD', '4192,EVEN', '4193,ODD', '4194,EVEN', '4195,ODD', '4196,EVEN', '4197,ODD', '4198,EVEN', '4199,ODD', '4200,EVEN', '4201,ODD', '4202,EVEN', '4203,ODD', '4204,EVEN', '4205,ODD', '4206,EVEN', '4207,ODD', '4208,EVEN', '4209,ODD', '4210,EVEN', '4211,ODD', '4212,EVEN', '4213,ODD', '4214,EVEN', '4215,ODD', '4216,EVEN', '4217,ODD', '4218,EVEN', '4219,ODD', '4220,EVEN', '4221,ODD', '4222,EVEN', '4223,ODD', '4224,EVEN', '4225,ODD', '4226,EVEN', '4227,ODD', '4228,EVEN', '4229,ODD', '4230,EVEN', '4231,ODD', '4232,EVEN', '4233,ODD', '4234,EVEN', '4235,ODD', '4236,EVEN', '4237,ODD', '4238,EVEN', '4239,ODD', '4240,EVEN', '4241,ODD', '4242,EVEN', '4243,ODD', '4244,EVEN', '4245,ODD', '4246,EVEN', '4247,ODD', '4248,EVEN', '4249,ODD', '4250,EVEN', '4251,ODD', '4252,EVEN', '4253,ODD', '4254,EVEN', '4255,ODD', '4256,EVEN', '4257,ODD', '4258,EVEN', '4259,ODD', '4260,EVEN', '4261,ODD', '4262,EVEN', '4263,ODD', '4264,EVEN', '4265,ODD', '4266,EVEN', '4267,ODD', '4268,EVEN', '4269,ODD', '4270,EVEN', '4271,ODD', '4272,EVEN', '4273,ODD', '4274,EVEN', '4275,ODD', '4276,EVEN', '4277,ODD', '4278,EVEN', '4279,ODD', '4280,EVEN', '4281,ODD', '4282,EVEN', '4283,ODD', '4284,EVEN', '4285,ODD', '4286,EVEN', '4287,ODD', '4288,EVEN', '4289,ODD', '4290,EVEN', '4291,ODD', '4292,EVEN', '4293,ODD', '4294,EVEN', '4295,ODD', '4296,EVEN', '4297,ODD', '4298,EVEN', '4299,ODD', '4300,EVEN', '4301,ODD', '4302,EVEN', '4303,ODD', '4304,EVEN', '4305,ODD', '4306,EVEN', '4307,ODD', '4308,EVEN', '4309,ODD', '4310,EVEN', '4311,ODD', '4312,EVEN', '4313,ODD', '4314,EVEN', '4315,ODD', '4316,EVEN', '4317,ODD', '4318,EVEN', '4319,ODD', '4320,EVEN', '4321,ODD', '4322,EVEN', '4323,ODD', '4324,EVEN', '4325,ODD', '4326,EVEN', '4327,ODD', '4328,EVEN', '4329,ODD', '4330,EVEN', '4331,ODD', '4332,EVEN', '4333,ODD', '4334,EVEN', '4335,ODD', '4336,EVEN', '4337,ODD', '4338,EVEN', '4339,ODD', '4340,EVEN', '4341,ODD', '4342,EVEN', '4343,ODD', '4344,EVEN', '4345,ODD', '4346,EVEN', '4347,ODD', '4348,EVEN', '4349,ODD', '4350,EVEN', '4351,ODD', '4352,EVEN', '4353,ODD', '4354,EVEN', '4355,ODD', '4356,EVEN', '4357,ODD', '4358,EVEN', '4359,ODD', '4360,EVEN', '4361,ODD', '4362,EVEN', '4363,ODD', '4364,EVEN', '4365,ODD', '4366,EVEN', '4367,ODD', '4368,EVEN', '4369,ODD', '4370,EVEN', '4371,ODD', '4372,EVEN', '4373,ODD', '4374,EVEN', '4375,ODD', '4376,EVEN', '4377,ODD', '4378,EVEN', '4379,ODD', '4380,EVEN', '4381,ODD', '4382,EVEN', '4383,ODD', '4384,EVEN', '4385,ODD', '4386,EVEN', '4387,ODD', '4388,EVEN', '4389,ODD', '4390,EVEN', '4391,ODD', '4392,EVEN', '4393,ODD', '4394,EVEN', '4395,ODD', '4396,EVEN', '4397,ODD', '4398,EVEN', '4399,ODD', '4400,EVEN', '4401,ODD', '4402,EVEN', '4403,ODD', '4404,EVEN', '4405,ODD', '4406,EVEN', '4407,ODD', '4408,EVEN', '4409,ODD', '4410,EVEN', '4411,ODD', '4412,EVEN', '4413,ODD', '4414,EVEN', '4415,ODD', '4416,EVEN', '4417,ODD', '4418,EVEN', '4419,ODD', '4420,EVEN', '4421,ODD', '4422,EVEN', '4423,ODD', '4424,EVEN', '4425,ODD', '4426,EVEN', '4427,ODD', '4428,EVEN', '4429,ODD', '4430,EVEN', '4431,ODD', '4432,EVEN', '4433,ODD', '4434,EVEN', '4435,ODD', '4436,EVEN', '4437,ODD', '4438,EVEN', '4439,ODD', '4440,EVEN', '4441,ODD', '4442,EVEN', '4443,ODD', '4444,EVEN', '4445,ODD', '4446,EVEN', '4447,ODD', '4448,EVEN', '4449,ODD', '4450,EVEN', '4451,ODD', '4452,EVEN', '4453,ODD', '4454,EVEN', '4455,ODD', '4456,EVEN', '4457,ODD', '4458,EVEN', '4459,ODD', '4460,EVEN', '4461,ODD', '4462,EVEN', '4463,ODD', '4464,EVEN', '4465,ODD', '4466,EVEN', '4467,ODD', '4468,EVEN', '4469,ODD', '4470,EVEN', '4471,ODD', '4472,EVEN', '4473,ODD', '4474,EVEN', '4475,ODD', '4476,EVEN', '4477,ODD', '4478,EVEN', '4479,ODD', '4480,EVEN', '4481,ODD', '4482,EVEN', '4483,ODD', '4484,EVEN', '4485,ODD', '4486,EVEN', '4487,ODD', '4488,EVEN', '4489,ODD', '4490,EVEN', '4491,ODD', '4492,EVEN', '4493,ODD', '4494,EVEN', '4495,ODD', '4496,EVEN', '4497,ODD', '4498,EVEN', '4499,ODD', '4500,EVEN', '4501,ODD', '4502,EVEN', '4503,ODD', '4504,EVEN', '4505,ODD', '4506,EVEN', '4507,ODD', '4508,EVEN', '4509,ODD', '4510,EVEN', '4511,ODD', '4512,EVEN', '4513,ODD', '4514,EVEN', '4515,ODD', '4516,EVEN', '4517,ODD', '4518,EVEN', '4519,ODD', '4520,EVEN', '4521,ODD', '4522,EVEN', '4523,ODD', '4524,EVEN', '4525,ODD', '4526,EVEN', '4527,ODD', '4528,EVEN', '4529,ODD', '4530,EVEN', '4531,ODD', '4532,EVEN', '4533,ODD', '4534,EVEN', '4535,ODD', '4536,EVEN', '4537,ODD', '4538,EVEN', '4539,ODD', '4540,EVEN', '4541,ODD', '4542,EVEN', '4543,ODD', '4544,EVEN', '4545,ODD', '4546,EVEN', '4547,ODD', '4548,EVEN', '4549,ODD', '4550,EVEN', '4551,ODD', '4552,EVEN', '4553,ODD', '4554,EVEN', '4555,ODD', '4556,EVEN', '4557,ODD', '4558,EVEN', '4559,ODD', '4560,EVEN', '4561,ODD', '4562,EVEN', '4563,ODD', '4564,EVEN', '4565,ODD', '4566,EVEN', '4567,ODD', '4568,EVEN', '4569,ODD', '4570,EVEN', '4571,ODD', '4572,EVEN', '4573,ODD', '4574,EVEN', '4575,ODD', '4576,EVEN', '4577,ODD', '4578,EVEN', '4579,ODD', '4580,EVEN', '4581,ODD', '4582,EVEN', '4583,ODD', '4584,EVEN', '4585,ODD', '4586,EVEN', '4587,ODD', '4588,EVEN', '4589,ODD', '4590,EVEN', '4591,ODD', '4592,EVEN', '4593,ODD', '4594,EVEN', '4595,ODD', '4596,EVEN', '4597,ODD', '4598,EVEN', '4599,ODD', '4600,EVEN', '4601,ODD', '4602,EVEN', '4603,ODD', '4604,EVEN', '4605,ODD', '4606,EVEN', '4607,ODD', '4608,EVEN', '4609,ODD', '4610,EVEN', '4611,ODD', '4612,EVEN', '4613,ODD', '4614,EVEN', '4615,ODD', '4616,EVEN', '4617,ODD', '4618,EVEN', '4619,ODD', '4620,EVEN', '4621,ODD', '4622,EVEN', '4623,ODD', '4624,EVEN', '4625,ODD', '4626,EVEN', '4627,ODD', '4628,EVEN', '4629,ODD', '4630,EVEN', '4631,ODD', '4632,EVEN', '4633,ODD', '4634,EVEN', '4635,ODD', '4636,EVEN', '4637,ODD', '4638,EVEN', '4639,ODD', '4640,EVEN', '4641,ODD', '4642,EVEN', '4643,ODD', '4644,EVEN', '4645,ODD', '4646,EVEN', '4647,ODD', '4648,EVEN', '4649,ODD', '4650,EVEN', '4651,ODD', '4652,EVEN', '4653,ODD', '4654,EVEN', '4655,ODD', '4656,EVEN', '4657,ODD', '4658,EVEN', '4659,ODD', '4660,EVEN', '4661,ODD', '4662,EVEN', '4663,ODD', '4664,EVEN', '4665,ODD', '4666,EVEN', '4667,ODD', '4668,EVEN', '4669,ODD', '4670,EVEN', '4671,ODD', '4672,EVEN', '4673,ODD', '4674,EVEN', '4675,ODD', '4676,EVEN', '4677,ODD', '4678,EVEN', '4679,ODD', '4680,EVEN', '4681,ODD', '4682,EVEN', '4683,ODD', '4684,EVEN', '4685,ODD', '4686,EVEN', '4687,ODD', '4688,EVEN', '4689,ODD', '4690,EVEN', '4691,ODD', '4692,EVEN', '4693,ODD', '4694,EVEN', '4695,ODD', '4696,EVEN', '4697,ODD', '4698,EVEN', '4699,ODD', '4700,EVEN', '4701,ODD', '4702,EVEN', '4703,ODD', '4704,EVEN', '4705,ODD', '4706,EVEN', '4707,ODD', '4708,EVEN', '4709,ODD', '4710,EVEN', '4711,ODD', '4712,EVEN', '4713,ODD', '4714,EVEN', '4715,ODD', '4716,EVEN', '4717,ODD', '4718,EVEN', '4719,ODD', '4720,EVEN', '4721,ODD', '4722,EVEN', '4723,ODD', '4724,EVEN', '4725,ODD', '4726,EVEN', '4727,ODD', '4728,EVEN', '4729,ODD', '4730,EVEN', '4731,ODD', '4732,EVEN', '4733,ODD', '4734,EVEN', '4735,ODD', '4736,EVEN', '4737,ODD', '4738,EVEN', '4739,ODD', '4740,EVEN', '4741,ODD', '4742,EVEN', '4743,ODD', '4744,EVEN', '4745,ODD', '4746,EVEN', '4747,ODD', '4748,EVEN', '4749,ODD', '4750,EVEN', '4751,ODD', '4752,EVEN', '4753,ODD', '4754,EVEN', '4755,ODD', '4756,EVEN', '4757,ODD', '4758,EVEN', '4759,ODD', '4760,EVEN', '4761,ODD', '4762,EVEN', '4763,ODD', '4764,EVEN', '4765,ODD', '4766,EVEN', '4767,ODD', '4768,EVEN', '4769,ODD', '4770,EVEN', '4771,ODD', '4772,EVEN', '4773,ODD', '4774,EVEN', '4775,ODD', '4776,EVEN', '4777,ODD', '4778,EVEN', '4779,ODD', '4780,EVEN', '4781,ODD', '4782,EVEN', '4783,ODD', '4784,EVEN', '4785,ODD', '4786,EVEN', '4787,ODD', '4788,EVEN', '4789,ODD', '4790,EVEN', '4791,ODD', '4792,EVEN', '4793,ODD', '4794,EVEN', '4795,ODD', '4796,EVEN', '4797,ODD', '4798,EVEN', '4799,ODD', '4800,EVEN', '4801,ODD', '4802,EVEN', '4803,ODD', '4804,EVEN', '4805,ODD', '4806,EVEN', '4807,ODD', '4808,EVEN', '4809,ODD', '4810,EVEN', '4811,ODD', '4812,EVEN', '4813,ODD', '4814,EVEN', '4815,ODD', '4816,EVEN', '4817,ODD', '4818,EVEN', '4819,ODD', '4820,EVEN', '4821,ODD', '4822,EVEN', '4823,ODD', '4824,EVEN', '4825,ODD', '4826,EVEN', '4827,ODD', '4828,EVEN', '4829,ODD', '4830,EVEN', '4831,ODD', '4832,EVEN', '4833,ODD', '4834,EVEN', '4835,ODD', '4836,EVEN', '4837,ODD', '4838,EVEN', '4839,ODD', '4840,EVEN', '4841,ODD', '4842,EVEN', '4843,ODD', '4844,EVEN', '4845,ODD', '4846,EVEN', '4847,ODD', '4848,EVEN', '4849,ODD', '4850,EVEN', '4851,ODD', '4852,EVEN', '4853,ODD', '4854,EVEN', '4855,ODD', '4856,EVEN', '4857,ODD', '4858,EVEN', '4859,ODD', '4860,EVEN', '4861,ODD', '4862,EVEN', '4863,ODD', '4864,EVEN', '4865,ODD', '4866,EVEN', '4867,ODD', '4868,EVEN', '4869,ODD', '4870,EVEN', '4871,ODD', '4872,EVEN', '4873,ODD', '4874,EVEN', '4875,ODD', '4876,EVEN', '4877,ODD', '4878,EVEN', '4879,ODD', '4880,EVEN', '4881,ODD', '4882,EVEN', '4883,ODD', '4884,EVEN', '4885,ODD', '4886,EVEN', '4887,ODD', '4888,EVEN', '4889,ODD', '4890,EVEN', '4891,ODD', '4892,EVEN', '4893,ODD', '4894,EVEN', '4895,ODD', '4896,EVEN', '4897,ODD', '4898,EVEN', '4899,ODD', '4900,EVEN', '4901,ODD', '4902,EVEN', '4903,ODD', '4904,EVEN', '4905,ODD', '4906,EVEN', '4907,ODD', '4908,EVEN', '4909,ODD', '4910,EVEN', '4911,ODD', '4912,EVEN', '4913,ODD', '4914,EVEN', '4915,ODD', '4916,EVEN', '4917,ODD', '4918,EVEN', '4919,ODD', '4920,EVEN', '4921,ODD', '4922,EVEN', '4923,ODD', '4924,EVEN', '4925,ODD', '4926,EVEN', '4927,ODD', '4928,EVEN', '4929,ODD', '4930,EVEN', '4931,ODD', '4932,EVEN', '4933,ODD', '4934,EVEN', '4935,ODD', '4936,EVEN', '4937,ODD', '4938,EVEN', '4939,ODD', '4940,EVEN', '4941,ODD', '4942,EVEN', '4943,ODD', '4944,EVEN', '4945,ODD', '4946,EVEN', '4947,ODD', '4948,EVEN', '4949,ODD', '4950,EVEN', '4951,ODD', '4952,EVEN', '4953,ODD', '4954,EVEN', '4955,ODD', '4956,EVEN', '4957,ODD', '4958,EVEN', '4959,ODD', '4960,EVEN', '4961,ODD', '4962,EVEN', '4963,ODD', '4964,EVEN', '4965,ODD', '4966,EVEN', '4967,ODD', '4968,EVEN', '4969,ODD', '4970,EVEN', '4971,ODD', '4972,EVEN', '4973,ODD', '4974,EVEN', '4975,ODD', '4976,EVEN', '4977,ODD', '4978,EVEN', '4979,ODD', '4980,EVEN', '4981,ODD', '4982,EVEN', '4983,ODD', '4984,EVEN', '4985,ODD', '4986,EVEN', '4987,ODD', '4988,EVEN', '4989,ODD', '4990,EVEN', '4991,ODD', '4992,EVEN', '4993,ODD', '4994,EVEN', '4995,ODD', '4996,EVEN', '4997,ODD', '4998,EVEN', '4999,ODD', '5000,EVEN', '5001,ODD', '5002,EVEN', '5003,ODD', '5004,EVEN', '5005,ODD', '5006,EVEN', '5007,ODD', '5008,EVEN', '5009,ODD', '5010,EVEN', '5011,ODD', '5012,EVEN', '5013,ODD', '5014,EVEN', '5015,ODD', '5016,EVEN', '5017,ODD', '5018,EVEN', '5019,ODD', '5020,EVEN', '5021,ODD', '5022,EVEN', '5023,ODD', '5024,EVEN', '5025,ODD', '5026,EVEN', '5027,ODD', '5028,EVEN', '5029,ODD', '5030,EVEN', '5031,ODD', '5032,EVEN', '5033,ODD', '5034,EVEN', '5035,ODD', '5036,EVEN', '5037,ODD', '5038,EVEN', '5039,ODD', '5040,EVEN', '5041,ODD', '5042,EVEN', '5043,ODD', '5044,EVEN', '5045,ODD', '5046,EVEN', '5047,ODD', '5048,EVEN', '5049,ODD', '5050,EVEN', '5051,ODD', '5052,EVEN', '5053,ODD', '5054,EVEN', '5055,ODD', '5056,EVEN', '5057,ODD', '5058,EVEN', '5059,ODD', '5060,EVEN', '5061,ODD', '5062,EVEN', '5063,ODD', '5064,EVEN', '5065,ODD', '5066,EVEN', '5067,ODD', '5068,EVEN', '5069,ODD', '5070,EVEN', '5071,ODD', '5072,EVEN', '5073,ODD', '5074,EVEN', '5075,ODD', '5076,EVEN', '5077,ODD', '5078,EVEN', '5079,ODD', '5080,EVEN', '5081,ODD', '5082,EVEN', '5083,ODD', '5084,EVEN', '5085,ODD', '5086,EVEN', '5087,ODD', '5088,EVEN', '5089,ODD', '5090,EVEN', '5091,ODD', '5092,EVEN', '5093,ODD', '5094,EVEN', '5095,ODD', '5096,EVEN', '5097,ODD', '5098,EVEN', '5099,ODD', '5100,EVEN', '5101,ODD', '5102,EVEN', '5103,ODD', '5104,EVEN', '5105,ODD', '5106,EVEN', '5107,ODD', '5108,EVEN', '5109,ODD', '5110,EVEN', '5111,ODD', '5112,EVEN', '5113,ODD', '5114,EVEN', '5115,ODD', '5116,EVEN', '5117,ODD', '5118,EVEN', '5119,ODD', '5120,EVEN', '5121,ODD', '5122,EVEN', '5123,ODD', '5124,EVEN', '5125,ODD', '5126,EVEN', '5127,ODD', '5128,EVEN', '5129,ODD', '5130,EVEN', '5131,ODD', '5132,EVEN', '5133,ODD', '5134,EVEN', '5135,ODD', '5136,EVEN', '5137,ODD', '5138,EVEN', '5139,ODD', '5140,EVEN', '5141,ODD', '5142,EVEN', '5143,ODD', '5144,EVEN', '5145,ODD', '5146,EVEN', '5147,ODD', '5148,EVEN', '5149,ODD', '5150,EVEN', '5151,ODD', '5152,EVEN', '5153,ODD', '5154,EVEN', '5155,ODD', '5156,EVEN', '5157,ODD', '5158,EVEN', '5159,ODD', '5160,EVEN', '5161,ODD', '5162,EVEN', '5163,ODD', '5164,EVEN', '5165,ODD', '5166,EVEN', '5167,ODD', '5168,EVEN', '5169,ODD', '5170,EVEN', '5171,ODD', '5172,EVEN', '5173,ODD', '5174,EVEN', '5175,ODD', '5176,EVEN', '5177,ODD', '5178,EVEN', '5179,ODD', '5180,EVEN', '5181,ODD', '5182,EVEN', '5183,ODD', '5184,EVEN', '5185,ODD', '5186,EVEN', '5187,ODD', '5188,EVEN', '5189,ODD', '5190,EVEN', '5191,ODD', '5192,EVEN', '5193,ODD', '5194,EVEN', '5195,ODD', '5196,EVEN', '5197,ODD', '5198,EVEN', '5199,ODD', '5200,EVEN', '5201,ODD', '5202,EVEN', '5203,ODD', '5204,EVEN', '5205,ODD', '5206,EVEN', '5207,ODD', '5208,EVEN', '5209,ODD', '5210,EVEN', '5211,ODD', '5212,EVEN', '5213,ODD', '5214,EVEN', '5215,ODD', '5216,EVEN', '5217,ODD', '5218,EVEN', '5219,ODD', '5220,EVEN', '5221,ODD', '5222,EVEN', '5223,ODD', '5224,EVEN', '5225,ODD', '5226,EVEN', '5227,ODD', '5228,EVEN', '5229,ODD', '5230,EVEN', '5231,ODD', '5232,EVEN', '5233,ODD', '5234,EVEN', '5235,ODD', '5236,EVEN', '5237,ODD', '5238,EVEN', '5239,ODD', '5240,EVEN', '5241,ODD', '5242,EVEN', '5243,ODD', '5244,EVEN', '5245,ODD', '5246,EVEN', '5247,ODD', '5248,EVEN', '5249,ODD', '5250,EVEN', '5251,ODD', '5252,EVEN', '5253,ODD', '5254,EVEN', '5255,ODD', '5256,EVEN', '5257,ODD', '5258,EVEN', '5259,ODD', '5260,EVEN', '5261,ODD', '5262,EVEN', '5263,ODD', '5264,EVEN', '5265,ODD', '5266,EVEN', '5267,ODD', '5268,EVEN', '5269,ODD', '5270,EVEN', '5271,ODD', '5272,EVEN', '5273,ODD', '5274,EVEN', '5275,ODD', '5276,EVEN', '5277,ODD', '5278,EVEN', '5279,ODD', '5280,EVEN', '5281,ODD', '5282,EVEN', '5283,ODD', '5284,EVEN', '5285,ODD', '5286,EVEN', '5287,ODD', '5288,EVEN', '5289,ODD', '5290,EVEN', '5291,ODD', '5292,EVEN', '5293,ODD', '5294,EVEN', '5295,ODD', '5296,EVEN', '5297,ODD', '5298,EVEN', '5299,ODD', '5300,EVEN', '5301,ODD', '5302,EVEN', '5303,ODD', '5304,EVEN', '5305,ODD', '5306,EVEN', '5307,ODD', '5308,EVEN', '5309,ODD', '5310,EVEN', '5311,ODD', '5312,EVEN', '5313,ODD', '5314,EVEN', '5315,ODD', '5316,EVEN', '5317,ODD', '5318,EVEN', '5319,ODD', '5320,EVEN', '5321,ODD', '5322,EVEN', '5323,ODD', '5324,EVEN', '5325,ODD', '5326,EVEN', '5327,ODD', '5328,EVEN', '5329,ODD', '5330,EVEN', '5331,ODD', '5332,EVEN', '5333,ODD', '5334,EVEN', '5335,ODD', '5336,EVEN', '5337,ODD', '5338,EVEN', '5339,ODD', '5340,EVEN', '5341,ODD', '5342,EVEN', '5343,ODD', '5344,EVEN', '5345,ODD', '5346,EVEN', '5347,ODD', '5348,EVEN', '5349,ODD', '5350,EVEN', '5351,ODD', '5352,EVEN', '5353,ODD', '5354,EVEN', '5355,ODD', '5356,EVEN', '5357,ODD', '5358,EVEN', '5359,ODD', '5360,EVEN', '5361,ODD', '5362,EVEN', '5363,ODD', '5364,EVEN', '5365,ODD', '5366,EVEN', '5367,ODD', '5368,EVEN', '5369,ODD', '5370,EVEN', '5371,ODD', '5372,EVEN', '5373,ODD', '5374,EVEN', '5375,ODD', '5376,EVEN', '5377,ODD', '5378,EVEN', '5379,ODD', '5380,EVEN', '5381,ODD', '5382,EVEN', '5383,ODD', '5384,EVEN', '5385,ODD', '5386,EVEN', '5387,ODD', '5388,EVEN', '5389,ODD', '5390,EVEN', '5391,ODD', '5392,EVEN', '5393,ODD', '5394,EVEN', '5395,ODD', '5396,EVEN', '5397,ODD', '5398,EVEN', '5399,ODD', '5400,EVEN', '5401,ODD', '5402,EVEN', '5403,ODD', '5404,EVEN', '5405,ODD', '5406,EVEN', '5407,ODD', '5408,EVEN', '5409,ODD', '5410,EVEN', '5411,ODD', '5412,EVEN', '5413,ODD', '5414,EVEN', '5415,ODD', '5416,EVEN', '5417,ODD', '5418,EVEN', '5419,ODD', '5420,EVEN', '5421,ODD', '5422,EVEN', '5423,ODD', '5424,EVEN', '5425,ODD', '5426,EVEN', '5427,ODD', '5428,EVEN', '5429,ODD', '5430,EVEN', '5431,ODD', '5432,EVEN', '5433,ODD', '5434,EVEN', '5435,ODD', '5436,EVEN', '5437,ODD', '5438,EVEN', '5439,ODD', '5440,EVEN', '5441,ODD', '5442,EVEN', '5443,ODD', '5444,EVEN', '5445,ODD', '5446,EVEN', '5447,ODD', '5448,EVEN', '5449,ODD', '5450,EVEN', '5451,ODD', '5452,EVEN', '5453,ODD', '5454,EVEN', '5455,ODD', '5456,EVEN', '5457,ODD', '5458,EVEN', '5459,ODD', '5460,EVEN', '5461,ODD', '5462,EVEN', '5463,ODD', '5464,EVEN', '5465,ODD', '5466,EVEN', '5467,ODD', '5468,EVEN', '5469,ODD', '5470,EVEN', '5471,ODD', '5472,EVEN', '5473,ODD', '5474,EVEN', '5475,ODD', '5476,EVEN', '5477,ODD', '5478,EVEN', '5479,ODD', '5480,EVEN', '5481,ODD', '5482,EVEN', '5483,ODD', '5484,EVEN', '5485,ODD', '5486,EVEN', '5487,ODD', '5488,EVEN', '5489,ODD', '5490,EVEN', '5491,ODD', '5492,EVEN', '5493,ODD', '5494,EVEN', '5495,ODD', '5496,EVEN', '5497,ODD', '5498,EVEN', '5499,ODD', '5500,EVEN', '5501,ODD', '5502,EVEN', '5503,ODD', '5504,EVEN', '5505,ODD', '5506,EVEN', '5507,ODD', '5508,EVEN', '5509,ODD', '5510,EVEN', '5511,ODD', '5512,EVEN', '5513,ODD', '5514,EVEN', '5515,ODD', '5516,EVEN', '5517,ODD', '5518,EVEN', '5519,ODD', '5520,EVEN', '5521,ODD', '5522,EVEN', '5523,ODD', '5524,EVEN', '5525,ODD', '5526,EVEN', '5527,ODD', '5528,EVEN', '5529,ODD', '5530,EVEN', '5531,ODD', '5532,EVEN', '5533,ODD', '5534,EVEN', '5535,ODD', '5536,EVEN', '5537,ODD', '5538,EVEN', '5539,ODD', '5540,EVEN', '5541,ODD', '5542,EVEN', '5543,ODD', '5544,EVEN', '5545,ODD', '5546,EVEN', '5547,ODD', '5548,EVEN', '5549,ODD', '5550,EVEN', '5551,ODD', '5552,EVEN', '5553,ODD', '5554,EVEN', '5555,ODD', '5556,EVEN', '5557,ODD', '5558,EVEN', '5559,ODD', '5560,EVEN', '5561,ODD', '5562,EVEN', '5563,ODD', '5564,EVEN', '5565,ODD', '5566,EVEN', '5567,ODD', '5568,EVEN', '5569,ODD', '5570,EVEN', '5571,ODD', '5572,EVEN', '5573,ODD', '5574,EVEN', '5575,ODD', '5576,EVEN', '5577,ODD', '5578,EVEN', '5579,ODD', '5580,EVEN', '5581,ODD', '5582,EVEN', '5583,ODD', '5584,EVEN', '5585,ODD', '5586,EVEN', '5587,ODD', '5588,EVEN', '5589,ODD', '5590,EVEN', '5591,ODD', '5592,EVEN', '5593,ODD', '5594,EVEN', '5595,ODD', '5596,EVEN', '5597,ODD', '5598,EVEN', '5599,ODD', '5600,EVEN', '5601,ODD', '5602,EVEN', '5603,ODD', '5604,EVEN', '5605,ODD', '5606,EVEN', '5607,ODD', '5608,EVEN', '5609,ODD', '5610,EVEN', '5611,ODD', '5612,EVEN', '5613,ODD', '5614,EVEN', '5615,ODD', '5616,EVEN', '5617,ODD', '5618,EVEN', '5619,ODD', '5620,EVEN', '5621,ODD', '5622,EVEN', '5623,ODD', '5624,EVEN', '5625,ODD', '5626,EVEN', '5627,ODD', '5628,EVEN', '5629,ODD', '5630,EVEN', '5631,ODD', '5632,EVEN', '5633,ODD', '5634,EVEN', '5635,ODD', '5636,EVEN', '5637,ODD', '5638,EVEN', '5639,ODD', '5640,EVEN', '5641,ODD', '5642,EVEN', '5643,ODD', '5644,EVEN', '5645,ODD', '5646,EVEN', '5647,ODD', '5648,EVEN', '5649,ODD', '5650,EVEN', '5651,ODD', '5652,EVEN', '5653,ODD', '5654,EVEN', '5655,ODD', '5656,EVEN', '5657,ODD', '5658,EVEN', '5659,ODD', '5660,EVEN', '5661,ODD', '5662,EVEN', '5663,ODD', '5664,EVEN', '5665,ODD', '5666,EVEN', '5667,ODD', '5668,EVEN', '5669,ODD', '5670,EVEN', '5671,ODD', '5672,EVEN', '5673,ODD', '5674,EVEN', '5675,ODD', '5676,EVEN', '5677,ODD', '5678,EVEN', '5679,ODD', '5680,EVEN', '5681,ODD', '5682,EVEN', '5683,ODD', '5684,EVEN', '5685,ODD', '5686,EVEN', '5687,ODD', '5688,EVEN', '5689,ODD', '5690,EVEN', '5691,ODD', '5692,EVEN', '5693,ODD', '5694,EVEN', '5695,ODD', '5696,EVEN', '5697,ODD', '5698,EVEN', '5699,ODD', '5700,EVEN', '5701,ODD', '5702,EVEN', '5703,ODD', '5704,EVEN', '5705,ODD', '5706,EVEN', '5707,ODD', '5708,EVEN', '5709,ODD', '5710,EVEN', '5711,ODD', '5712,EVEN', '5713,ODD', '5714,EVEN', '5715,ODD', '5716,EVEN', '5717,ODD', '5718,EVEN', '5719,ODD', '5720,EVEN', '5721,ODD', '5722,EVEN', '5723,ODD', '5724,EVEN', '5725,ODD', '5726,EVEN', '5727,ODD', '5728,EVEN', '5729,ODD', '5730,EVEN', '5731,ODD', '5732,EVEN', '5733,ODD', '5734,EVEN', '5735,ODD', '5736,EVEN', '5737,ODD', '5738,EVEN', '5739,ODD', '5740,EVEN', '5741,ODD', '5742,EVEN', '5743,ODD', '5744,EVEN', '5745,ODD', '5746,EVEN', '5747,ODD', '5748,EVEN', '5749,ODD', '5750,EVEN', '5751,ODD', '5752,EVEN', '5753,ODD', '5754,EVEN', '5755,ODD', '5756,EVEN', '5757,ODD', '5758,EVEN', '5759,ODD', '5760,EVEN', '5761,ODD', '5762,EVEN', '5763,ODD', '5764,EVEN', '5765,ODD', '5766,EVEN', '5767,ODD', '5768,EVEN', '5769,ODD', '5770,EVEN', '5771,ODD', '5772,EVEN', '5773,ODD', '5774,EVEN', '5775,ODD', '5776,EVEN', '5777,ODD', '5778,EVEN', '5779,ODD', '5780,EVEN', '5781,ODD', '5782,EVEN', '5783,ODD', '5784,EVEN', '5785,ODD', '5786,EVEN', '5787,ODD', '5788,EVEN', '5789,ODD', '5790,EVEN', '5791,ODD', '5792,EVEN', '5793,ODD', '5794,EVEN', '5795,ODD', '5796,EVEN', '5797,ODD', '5798,EVEN', '5799,ODD', '5800,EVEN', '5801,ODD', '5802,EVEN', '5803,ODD', '5804,EVEN', '5805,ODD', '5806,EVEN', '5807,ODD', '5808,EVEN', '5809,ODD', '5810,EVEN', '5811,ODD', '5812,EVEN', '5813,ODD', '5814,EVEN', '5815,ODD', '5816,EVEN', '5817,ODD', '5818,EVEN', '5819,ODD', '5820,EVEN', '5821,ODD', '5822,EVEN', '5823,ODD', '5824,EVEN', '5825,ODD', '5826,EVEN', '5827,ODD', '5828,EVEN', '5829,ODD', '5830,EVEN', '5831,ODD', '5832,EVEN', '5833,ODD', '5834,EVEN', '5835,ODD', '5836,EVEN', '5837,ODD', '5838,EVEN', '5839,ODD', '5840,EVEN', '5841,ODD', '5842,EVEN', '5843,ODD', '5844,EVEN', '5845,ODD', '5846,EVEN', '5847,ODD', '5848,EVEN', '5849,ODD', '5850,EVEN', '5851,ODD', '5852,EVEN', '5853,ODD', '5854,EVEN', '5855,ODD', '5856,EVEN', '5857,ODD', '5858,EVEN', '5859,ODD', '5860,EVEN', '5861,ODD', '5862,EVEN', '5863,ODD', '5864,EVEN', '5865,ODD', '5866,EVEN', '5867,ODD', '5868,EVEN', '5869,ODD', '5870,EVEN', '5871,ODD', '5872,EVEN', '5873,ODD', '5874,EVEN', '5875,ODD', '5876,EVEN', '5877,ODD', '5878,EVEN', '5879,ODD', '5880,EVEN', '5881,ODD', '5882,EVEN', '5883,ODD', '5884,EVEN', '5885,ODD', '5886,EVEN', '5887,ODD', '5888,EVEN', '5889,ODD', '5890,EVEN', '5891,ODD', '5892,EVEN', '5893,ODD', '5894,EVEN', '5895,ODD', '5896,EVEN', '5897,ODD', '5898,EVEN', '5899,ODD', '5900,EVEN', '5901,ODD', '5902,EVEN', '5903,ODD', '5904,EVEN', '5905,ODD', '5906,EVEN', '5907,ODD', '5908,EVEN', '5909,ODD', '5910,EVEN', '5911,ODD', '5912,EVEN', '5913,ODD', '5914,EVEN', '5915,ODD', '5916,EVEN', '5917,ODD', '5918,EVEN', '5919,ODD', '5920,EVEN', '5921,ODD', '5922,EVEN', '5923,ODD', '5924,EVEN', '5925,ODD', '5926,EVEN', '5927,ODD', '5928,EVEN', '5929,ODD', '5930,EVEN', '5931,ODD', '5932,EVEN', '5933,ODD', '5934,EVEN', '5935,ODD', '5936,EVEN', '5937,ODD', '5938,EVEN', '5939,ODD', '5940,EVEN', '5941,ODD', '5942,EVEN', '5943,ODD', '5944,EVEN', '5945,ODD', '5946,EVEN', '5947,ODD', '5948,EVEN', '5949,ODD', '5950,EVEN', '5951,ODD', '5952,EVEN', '5953,ODD', '5954,EVEN', '5955,ODD', '5956,EVEN', '5957,ODD', '5958,EVEN', '5959,ODD', '5960,EVEN', '5961,ODD', '5962,EVEN', '5963,ODD', '5964,EVEN', '5965,ODD', '5966,EVEN', '5967,ODD', '5968,EVEN', '5969,ODD', '5970,EVEN', '5971,ODD', '5972,EVEN', '5973,ODD', '5974,EVEN', '5975,ODD', '5976,EVEN', '5977,ODD', '5978,EVEN', '5979,ODD', '5980,EVEN', '5981,ODD', '5982,EVEN', '5983,ODD', '5984,EVEN', '5985,ODD', '5986,EVEN', '5987,ODD', '5988,EVEN', '5989,ODD', '5990,EVEN', '5991,ODD', '5992,EVEN', '5993,ODD', '5994,EVEN', '5995,ODD', '5996,EVEN', '5997,ODD', '5998,EVEN', '5999,ODD', '6000,EVEN', '6001,ODD', '6002,EVEN', '6003,ODD', '6004,EVEN', '6005,ODD', '6006,EVEN', '6007,ODD', '6008,EVEN', '6009,ODD', '6010,EVEN', '6011,ODD', '6012,EVEN', '6013,ODD', '6014,EVEN', '6015,ODD', '6016,EVEN', '6017,ODD', '6018,EVEN', '6019,ODD', '6020,EVEN', '6021,ODD', '6022,EVEN', '6023,ODD', '6024,EVEN', '6025,ODD', '6026,EVEN', '6027,ODD', '6028,EVEN', '6029,ODD', '6030,EVEN', '6031,ODD', '6032,EVEN', '6033,ODD', '6034,EVEN', '6035,ODD', '6036,EVEN', '6037,ODD', '6038,EVEN', '6039,ODD', '6040,EVEN', '6041,ODD', '6042,EVEN', '6043,ODD', '6044,EVEN', '6045,ODD', '6046,EVEN', '6047,ODD', '6048,EVEN', '6049,ODD', '6050,EVEN', '6051,ODD', '6052,EVEN', '6053,ODD', '6054,EVEN', '6055,ODD', '6056,EVEN', '6057,ODD', '6058,EVEN', '6059,ODD', '6060,EVEN', '6061,ODD', '6062,EVEN', '6063,ODD', '6064,EVEN', '6065,ODD', '6066,EVEN', '6067,ODD', '6068,EVEN', '6069,ODD', '6070,EVEN', '6071,ODD', '6072,EVEN', '6073,ODD', '6074,EVEN', '6075,ODD', '6076,EVEN', '6077,ODD', '6078,EVEN', '6079,ODD', '6080,EVEN', '6081,ODD', '6082,EVEN', '6083,ODD', '6084,EVEN', '6085,ODD', '6086,EVEN', '6087,ODD', '6088,EVEN', '6089,ODD', '6090,EVEN', '6091,ODD', '6092,EVEN', '6093,ODD', '6094,EVEN', '6095,ODD', '6096,EVEN', '6097,ODD', '6098,EVEN', '6099,ODD', '6100,EVEN', '6101,ODD', '6102,EVEN', '6103,ODD', '6104,EVEN', '6105,ODD', '6106,EVEN', '6107,ODD', '6108,EVEN', '6109,ODD', '6110,EVEN', '6111,ODD', '6112,EVEN', '6113,ODD', '6114,EVEN', '6115,ODD', '6116,EVEN', '6117,ODD', '6118,EVEN', '6119,ODD', '6120,EVEN', '6121,ODD', '6122,EVEN', '6123,ODD', '6124,EVEN', '6125,ODD', '6126,EVEN', '6127,ODD', '6128,EVEN', '6129,ODD', '6130,EVEN', '6131,ODD', '6132,EVEN', '6133,ODD', '6134,EVEN', '6135,ODD', '6136,EVEN', '6137,ODD', '6138,EVEN', '6139,ODD', '6140,EVEN', '6141,ODD', '6142,EVEN', '6143,ODD', '6144,EVEN', '6145,ODD', '6146,EVEN', '6147,ODD', '6148,EVEN', '6149,ODD', '6150,EVEN', '6151,ODD', '6152,EVEN', '6153,ODD', '6154,EVEN', '6155,ODD', '6156,EVEN', '6157,ODD', '6158,EVEN', '6159,ODD', '6160,EVEN', '6161,ODD', '6162,EVEN', '6163,ODD', '6164,EVEN', '6165,ODD', '6166,EVEN', '6167,ODD', '6168,EVEN', '6169,ODD', '6170,EVEN', '6171,ODD', '6172,EVEN', '6173,ODD', '6174,EVEN', '6175,ODD', '6176,EVEN', '6177,ODD', '6178,EVEN', '6179,ODD', '6180,EVEN', '6181,ODD', '6182,EVEN', '6183,ODD', '6184,EVEN', '6185,ODD', '6186,EVEN', '6187,ODD', '6188,EVEN', '6189,ODD', '6190,EVEN', '6191,ODD', '6192,EVEN', '6193,ODD', '6194,EVEN', '6195,ODD', '6196,EVEN', '6197,ODD', '6198,EVEN', '6199,ODD', '6200,EVEN', '6201,ODD', '6202,EVEN', '6203,ODD', '6204,EVEN', '6205,ODD', '6206,EVEN', '6207,ODD', '6208,EVEN', '6209,ODD', '6210,EVEN', '6211,ODD', '6212,EVEN', '6213,ODD', '6214,EVEN', '6215,ODD', '6216,EVEN', '6217,ODD', '6218,EVEN', '6219,ODD', '6220,EVEN', '6221,ODD', '6222,EVEN', '6223,ODD', '6224,EVEN', '6225,ODD', '6226,EVEN', '6227,ODD', '6228,EVEN', '6229,ODD', '6230,EVEN', '6231,ODD', '6232,EVEN', '6233,ODD', '6234,EVEN', '6235,ODD', '6236,EVEN', '6237,ODD', '6238,EVEN', '6239,ODD', '6240,EVEN', '6241,ODD', '6242,EVEN', '6243,ODD', '6244,EVEN', '6245,ODD', '6246,EVEN', '6247,ODD', '6248,EVEN', '6249,ODD', '6250,EVEN', '6251,ODD', '6252,EVEN', '6253,ODD', '6254,EVEN', '6255,ODD', '6256,EVEN', '6257,ODD', '6258,EVEN', '6259,ODD', '6260,EVEN', '6261,ODD', '6262,EVEN', '6263,ODD', '6264,EVEN', '6265,ODD', '6266,EVEN', '6267,ODD', '6268,EVEN', '6269,ODD', '6270,EVEN', '6271,ODD', '6272,EVEN', '6273,ODD', '6274,EVEN', '6275,ODD', '6276,EVEN', '6277,ODD', '6278,EVEN', '6279,ODD', '6280,EVEN', '6281,ODD', '6282,EVEN', '6283,ODD', '6284,EVEN', '6285,ODD', '6286,EVEN', '6287,ODD', '6288,EVEN', '6289,ODD', '6290,EVEN', '6291,ODD', '6292,EVEN', '6293,ODD', '6294,EVEN', '6295,ODD', '6296,EVEN', '6297,ODD', '6298,EVEN', '6299,ODD', '6300,EVEN', '6301,ODD', '6302,EVEN', '6303,ODD', '6304,EVEN', '6305,ODD', '6306,EVEN', '6307,ODD', '6308,EVEN', '6309,ODD', '6310,EVEN', '6311,ODD', '6312,EVEN', '6313,ODD', '6314,EVEN', '6315,ODD', '6316,EVEN', '6317,ODD', '6318,EVEN', '6319,ODD', '6320,EVEN', '6321,ODD', '6322,EVEN', '6323,ODD', '6324,EVEN', '6325,ODD', '6326,EVEN', '6327,ODD', '6328,EVEN', '6329,ODD', '6330,EVEN', '6331,ODD', '6332,EVEN', '6333,ODD', '6334,EVEN', '6335,ODD', '6336,EVEN', '6337,ODD', '6338,EVEN', '6339,ODD', '6340,EVEN', '6341,ODD', '6342,EVEN', '6343,ODD', '6344,EVEN', '6345,ODD', '6346,EVEN', '6347,ODD', '6348,EVEN', '6349,ODD', '6350,EVEN', '6351,ODD', '6352,EVEN', '6353,ODD', '6354,EVEN', '6355,ODD', '6356,EVEN', '6357,ODD', '6358,EVEN', '6359,ODD', '6360,EVEN', '6361,ODD', '6362,EVEN', '6363,ODD', '6364,EVEN', '6365,ODD', '6366,EVEN', '6367,ODD', '6368,EVEN', '6369,ODD', '6370,EVEN', '6371,ODD', '6372,EVEN', '6373,ODD', '6374,EVEN', '6375,ODD', '6376,EVEN', '6377,ODD', '6378,EVEN', '6379,ODD', '6380,EVEN', '6381,ODD', '6382,EVEN', '6383,ODD', '6384,EVEN', '6385,ODD', '6386,EVEN', '6387,ODD', '6388,EVEN', '6389,ODD', '6390,EVEN', '6391,ODD', '6392,EVEN', '6393,ODD', '6394,EVEN', '6395,ODD', '6396,EVEN', '6397,ODD', '6398,EVEN', '6399,ODD', '6400,EVEN', '6401,ODD', '6402,EVEN', '6403,ODD', '6404,EVEN', '6405,ODD', '6406,EVEN', '6407,ODD', '6408,EVEN', '6409,ODD', '6410,EVEN', '6411,ODD', '6412,EVEN', '6413,ODD', '6414,EVEN', '6415,ODD', '6416,EVEN', '6417,ODD', '6418,EVEN', '6419,ODD', '6420,EVEN', '6421,ODD', '6422,EVEN', '6423,ODD', '6424,EVEN', '6425,ODD', '6426,EVEN', '6427,ODD', '6428,EVEN', '6429,ODD', '6430,EVEN', '6431,ODD', '6432,EVEN', '6433,ODD', '6434,EVEN', '6435,ODD', '6436,EVEN', '6437,ODD', '6438,EVEN', '6439,ODD', '6440,EVEN', '6441,ODD', '6442,EVEN', '6443,ODD', '6444,EVEN', '6445,ODD', '6446,EVEN', '6447,ODD', '6448,EVEN', '6449,ODD', '6450,EVEN', '6451,ODD', '6452,EVEN', '6453,ODD', '6454,EVEN', '6455,ODD', '6456,EVEN', '6457,ODD', '6458,EVEN', '6459,ODD', '6460,EVEN', '6461,ODD', '6462,EVEN', '6463,ODD', '6464,EVEN', '6465,ODD', '6466,EVEN', '6467,ODD', '6468,EVEN', '6469,ODD', '6470,EVEN', '6471,ODD', '6472,EVEN', '6473,ODD', '6474,EVEN', '6475,ODD', '6476,EVEN', '6477,ODD', '6478,EVEN', '6479,ODD', '6480,EVEN', '6481,ODD', '6482,EVEN', '6483,ODD', '6484,EVEN', '6485,ODD', '6486,EVEN', '6487,ODD', '6488,EVEN', '6489,ODD', '6490,EVEN', '6491,ODD', '6492,EVEN', '6493,ODD', '6494,EVEN', '6495,ODD', '6496,EVEN', '6497,ODD', '6498,EVEN', '6499,ODD', '6500,EVEN', '6501,ODD', '6502,EVEN', '6503,ODD', '6504,EVEN', '6505,ODD', '6506,EVEN', '6507,ODD', '6508,EVEN', '6509,ODD', '6510,EVEN', '6511,ODD', '6512,EVEN', '6513,ODD', '6514,EVEN', '6515,ODD', '6516,EVEN', '6517,ODD', '6518,EVEN', '6519,ODD', '6520,EVEN', '6521,ODD', '6522,EVEN', '6523,ODD', '6524,EVEN', '6525,ODD', '6526,EVEN', '6527,ODD', '6528,EVEN', '6529,ODD', '6530,EVEN', '6531,ODD', '6532,EVEN', '6533,ODD', '6534,EVEN', '6535,ODD', '6536,EVEN', '6537,ODD', '6538,EVEN', '6539,ODD', '6540,EVEN', '6541,ODD', '6542,EVEN', '6543,ODD', '6544,EVEN', '6545,ODD', '6546,EVEN', '6547,ODD', '6548,EVEN', '6549,ODD', '6550,EVEN', '6551,ODD', '6552,EVEN', '6553,ODD', '6554,EVEN', '6555,ODD', '6556,EVEN', '6557,ODD', '6558,EVEN', '6559,ODD', '6560,EVEN', '6561,ODD', '6562,EVEN', '6563,ODD', '6564,EVEN', '6565,ODD', '6566,EVEN', '6567,ODD', '6568,EVEN', '6569,ODD', '6570,EVEN', '6571,ODD', '6572,EVEN', '6573,ODD', '6574,EVEN', '6575,ODD', '6576,EVEN', '6577,ODD', '6578,EVEN', '6579,ODD', '6580,EVEN', '6581,ODD', '6582,EVEN', '6583,ODD', '6584,EVEN', '6585,ODD', '6586,EVEN', '6587,ODD', '6588,EVEN', '6589,ODD', '6590,EVEN', '6591,ODD', '6592,EVEN', '6593,ODD', '6594,EVEN', '6595,ODD', '6596,EVEN', '6597,ODD', '6598,EVEN', '6599,ODD', '6600,EVEN', '6601,ODD', '6602,EVEN', '6603,ODD', '6604,EVEN', '6605,ODD', '6606,EVEN', '6607,ODD', '6608,EVEN', '6609,ODD', '6610,EVEN', '6611,ODD', '6612,EVEN', '6613,ODD', '6614,EVEN', '6615,ODD', '6616,EVEN', '6617,ODD', '6618,EVEN', '6619,ODD', '6620,EVEN', '6621,ODD', '6622,EVEN', '6623,ODD', '6624,EVEN', '6625,ODD', '6626,EVEN', '6627,ODD', '6628,EVEN', '6629,ODD', '6630,EVEN', '6631,ODD', '6632,EVEN', '6633,ODD', '6634,EVEN', '6635,ODD', '6636,EVEN', '6637,ODD', '6638,EVEN', '6639,ODD', '6640,EVEN', '6641,ODD', '6642,EVEN', '6643,ODD', '6644,EVEN', '6645,ODD', '6646,EVEN', '6647,ODD', '6648,EVEN', '6649,ODD', '6650,EVEN', '6651,ODD', '6652,EVEN', '6653,ODD', '6654,EVEN', '6655,ODD', '6656,EVEN', '6657,ODD', '6658,EVEN', '6659,ODD', '6660,EVEN', '6661,ODD', '6662,EVEN', '6663,ODD', '6664,EVEN', '6665,ODD', '6666,EVEN', '6667,ODD', '6668,EVEN', '6669,ODD', '6670,EVEN', '6671,ODD', '6672,EVEN', '6673,ODD', '6674,EVEN', '6675,ODD', '6676,EVEN', '6677,ODD', '6678,EVEN', '6679,ODD', '6680,EVEN', '6681,ODD', '6682,EVEN', '6683,ODD', '6684,EVEN', '6685,ODD', '6686,EVEN', '6687,ODD', '6688,EVEN', '6689,ODD', '6690,EVEN', '6691,ODD', '6692,EVEN', '6693,ODD', '6694,EVEN', '6695,ODD', '6696,EVEN', '6697,ODD', '6698,EVEN', '6699,ODD', '6700,EVEN', '6701,ODD', '6702,EVEN', '6703,ODD', '6704,EVEN', '6705,ODD', '6706,EVEN', '6707,ODD', '6708,EVEN', '6709,ODD', '6710,EVEN', '6711,ODD', '6712,EVEN', '6713,ODD', '6714,EVEN', '6715,ODD', '6716,EVEN', '6717,ODD', '6718,EVEN', '6719,ODD', '6720,EVEN', '6721,ODD', '6722,EVEN', '6723,ODD', '6724,EVEN', '6725,ODD', '6726,EVEN', '6727,ODD', '6728,EVEN', '6729,ODD', '6730,EVEN', '6731,ODD', '6732,EVEN', '6733,ODD', '6734,EVEN', '6735,ODD', '6736,EVEN', '6737,ODD', '6738,EVEN', '6739,ODD', '6740,EVEN', '6741,ODD', '6742,EVEN', '6743,ODD', '6744,EVEN', '6745,ODD', '6746,EVEN', '6747,ODD', '6748,EVEN', '6749,ODD', '6750,EVEN', '6751,ODD', '6752,EVEN', '6753,ODD', '6754,EVEN', '6755,ODD', '6756,EVEN', '6757,ODD', '6758,EVEN', '6759,ODD', '6760,EVEN', '6761,ODD', '6762,EVEN', '6763,ODD', '6764,EVEN', '6765,ODD', '6766,EVEN', '6767,ODD', '6768,EVEN', '6769,ODD', '6770,EVEN', '6771,ODD', '6772,EVEN', '6773,ODD', '6774,EVEN', '6775,ODD', '6776,EVEN', '6777,ODD', '6778,EVEN', '6779,ODD', '6780,EVEN', '6781,ODD', '6782,EVEN', '6783,ODD', '6784,EVEN', '6785,ODD', '6786,EVEN', '6787,ODD', '6788,EVEN', '6789,ODD', '6790,EVEN', '6791,ODD', '6792,EVEN', '6793,ODD', '6794,EVEN', '6795,ODD', '6796,EVEN', '6797,ODD', '6798,EVEN', '6799,ODD', '6800,EVEN', '6801,ODD', '6802,EVEN', '6803,ODD', '6804,EVEN', '6805,ODD', '6806,EVEN', '6807,ODD', '6808,EVEN', '6809,ODD', '6810,EVEN', '6811,ODD', '6812,EVEN', '6813,ODD', '6814,EVEN', '6815,ODD', '6816,EVEN', '6817,ODD', '6818,EVEN', '6819,ODD', '6820,EVEN', '6821,ODD', '6822,EVEN', '6823,ODD', '6824,EVEN', '6825,ODD', '6826,EVEN', '6827,ODD', '6828,EVEN', '6829,ODD', '6830,EVEN', '6831,ODD', '6832,EVEN', '6833,ODD', '6834,EVEN', '6835,ODD', '6836,EVEN', '6837,ODD', '6838,EVEN', '6839,ODD', '6840,EVEN', '6841,ODD', '6842,EVEN', '6843,ODD', '6844,EVEN', '6845,ODD', '6846,EVEN', '6847,ODD', '6848,EVEN', '6849,ODD', '6850,EVEN', '6851,ODD', '6852,EVEN', '6853,ODD', '6854,EVEN', '6855,ODD', '6856,EVEN', '6857,ODD', '6858,EVEN', '6859,ODD', '6860,EVEN', '6861,ODD', '6862,EVEN', '6863,ODD', '6864,EVEN', '6865,ODD', '6866,EVEN', '6867,ODD', '6868,EVEN', '6869,ODD', '6870,EVEN', '6871,ODD', '6872,EVEN', '6873,ODD', '6874,EVEN', '6875,ODD', '6876,EVEN', '6877,ODD', '6878,EVEN', '6879,ODD', '6880,EVEN', '6881,ODD', '6882,EVEN', '6883,ODD', '6884,EVEN', '6885,ODD', '6886,EVEN', '6887,ODD', '6888,EVEN', '6889,ODD', '6890,EVEN', '6891,ODD', '6892,EVEN', '6893,ODD', '6894,EVEN', '6895,ODD', '6896,EVEN', '6897,ODD', '6898,EVEN', '6899,ODD', '6900,EVEN', '6901,ODD', '6902,EVEN', '6903,ODD', '6904,EVEN', '6905,ODD', '6906,EVEN', '6907,ODD', '6908,EVEN', '6909,ODD', '6910,EVEN', '6911,ODD', '6912,EVEN', '6913,ODD', '6914,EVEN', '6915,ODD', '6916,EVEN', '6917,ODD', '6918,EVEN', '6919,ODD', '6920,EVEN', '6921,ODD', '6922,EVEN', '6923,ODD', '6924,EVEN', '6925,ODD', '6926,EVEN', '6927,ODD', '6928,EVEN', '6929,ODD', '6930,EVEN', '6931,ODD', '6932,EVEN', '6933,ODD', '6934,EVEN', '6935,ODD', '6936,EVEN', '6937,ODD', '6938,EVEN', '6939,ODD', '6940,EVEN', '6941,ODD', '6942,EVEN', '6943,ODD', '6944,EVEN', '6945,ODD', '6946,EVEN', '6947,ODD', '6948,EVEN', '6949,ODD', '6950,EVEN', '6951,ODD', '6952,EVEN', '6953,ODD', '6954,EVEN', '6955,ODD', '6956,EVEN', '6957,ODD', '6958,EVEN', '6959,ODD', '6960,EVEN', '6961,ODD', '6962,EVEN', '6963,ODD', '6964,EVEN', '6965,ODD', '6966,EVEN', '6967,ODD', '6968,EVEN', '6969,ODD', '6970,EVEN', '6971,ODD', '6972,EVEN', '6973,ODD', '6974,EVEN', '6975,ODD', '6976,EVEN', '6977,ODD', '6978,EVEN', '6979,ODD', '6980,EVEN', '6981,ODD', '6982,EVEN', '6983,ODD', '6984,EVEN', '6985,ODD', '6986,EVEN', '6987,ODD', '6988,EVEN', '6989,ODD', '6990,EVEN', '6991,ODD', '6992,EVEN', '6993,ODD', '6994,EVEN', '6995,ODD', '6996,EVEN', '6997,ODD', '6998,EVEN', '6999,ODD', '7000,EVEN', '7001,ODD', '7002,EVEN', '7003,ODD', '7004,EVEN', '7005,ODD', '7006,EVEN', '7007,ODD', '7008,EVEN', '7009,ODD', '7010,EVEN', '7011,ODD', '7012,EVEN', '7013,ODD', '7014,EVEN', '7015,ODD', '7016,EVEN', '7017,ODD', '7018,EVEN', '7019,ODD', '7020,EVEN', '7021,ODD', '7022,EVEN', '7023,ODD', '7024,EVEN', '7025,ODD', '7026,EVEN', '7027,ODD', '7028,EVEN', '7029,ODD', '7030,EVEN', '7031,ODD', '7032,EVEN', '7033,ODD', '7034,EVEN', '7035,ODD', '7036,EVEN', '7037,ODD', '7038,EVEN', '7039,ODD', '7040,EVEN', '7041,ODD', '7042,EVEN', '7043,ODD', '7044,EVEN', '7045,ODD', '7046,EVEN', '7047,ODD', '7048,EVEN', '7049,ODD', '7050,EVEN', '7051,ODD', '7052,EVEN', '7053,ODD', '7054,EVEN', '7055,ODD', '7056,EVEN', '7057,ODD', '7058,EVEN', '7059,ODD', '7060,EVEN', '7061,ODD', '7062,EVEN', '7063,ODD', '7064,EVEN', '7065,ODD', '7066,EVEN', '7067,ODD', '7068,EVEN', '7069,ODD', '7070,EVEN', '7071,ODD', '7072,EVEN', '7073,ODD', '7074,EVEN', '7075,ODD', '7076,EVEN', '7077,ODD', '7078,EVEN', '7079,ODD', '7080,EVEN', '7081,ODD', '7082,EVEN', '7083,ODD', '7084,EVEN', '7085,ODD', '7086,EVEN', '7087,ODD', '7088,EVEN', '7089,ODD', '7090,EVEN', '7091,ODD', '7092,EVEN', '7093,ODD', '7094,EVEN', '7095,ODD', '7096,EVEN', '7097,ODD', '7098,EVEN', '7099,ODD', '7100,EVEN', '7101,ODD', '7102,EVEN', '7103,ODD', '7104,EVEN', '7105,ODD', '7106,EVEN', '7107,ODD', '7108,EVEN', '7109,ODD', '7110,EVEN', '7111,ODD', '7112,EVEN', '7113,ODD', '7114,EVEN', '7115,ODD', '7116,EVEN', '7117,ODD', '7118,EVEN', '7119,ODD', '7120,EVEN', '7121,ODD', '7122,EVEN', '7123,ODD', '7124,EVEN', '7125,ODD', '7126,EVEN', '7127,ODD', '7128,EVEN', '7129,ODD', '7130,EVEN', '7131,ODD', '7132,EVEN', '7133,ODD', '7134,EVEN', '7135,ODD', '7136,EVEN', '7137,ODD', '7138,EVEN', '7139,ODD', '7140,EVEN', '7141,ODD', '7142,EVEN', '7143,ODD', '7144,EVEN', '7145,ODD', '7146,EVEN', '7147,ODD', '7148,EVEN', '7149,ODD', '7150,EVEN', '7151,ODD', '7152,EVEN', '7153,ODD', '7154,EVEN', '7155,ODD', '7156,EVEN', '7157,ODD', '7158,EVEN', '7159,ODD', '7160,EVEN', '7161,ODD', '7162,EVEN', '7163,ODD', '7164,EVEN', '7165,ODD', '7166,EVEN', '7167,ODD', '7168,EVEN', '7169,ODD', '7170,EVEN', '7171,ODD', '7172,EVEN', '7173,ODD', '7174,EVEN', '7175,ODD', '7176,EVEN', '7177,ODD', '7178,EVEN', '7179,ODD', '7180,EVEN', '7181,ODD', '7182,EVEN', '7183,ODD', '7184,EVEN', '7185,ODD', '7186,EVEN', '7187,ODD', '7188,EVEN', '7189,ODD', '7190,EVEN', '7191,ODD', '7192,EVEN', '7193,ODD', '7194,EVEN', '7195,ODD', '7196,EVEN', '7197,ODD', '7198,EVEN', '7199,ODD', '7200,EVEN', '7201,ODD', '7202,EVEN', '7203,ODD', '7204,EVEN', '7205,ODD', '7206,EVEN', '7207,ODD', '7208,EVEN', '7209,ODD', '7210,EVEN', '7211,ODD', '7212,EVEN', '7213,ODD', '7214,EVEN', '7215,ODD', '7216,EVEN', '7217,ODD', '7218,EVEN', '7219,ODD', '7220,EVEN', '7221,ODD', '7222,EVEN', '7223,ODD', '7224,EVEN', '7225,ODD', '7226,EVEN', '7227,ODD', '7228,EVEN', '7229,ODD', '7230,EVEN', '7231,ODD', '7232,EVEN', '7233,ODD', '7234,EVEN', '7235,ODD', '7236,EVEN', '7237,ODD', '7238,EVEN', '7239,ODD', '7240,EVEN', '7241,ODD', '7242,EVEN', '7243,ODD', '7244,EVEN', '7245,ODD', '7246,EVEN', '7247,ODD', '7248,EVEN', '7249,ODD', '7250,EVEN', '7251,ODD', '7252,EVEN', '7253,ODD', '7254,EVEN', '7255,ODD', '7256,EVEN', '7257,ODD', '7258,EVEN', '7259,ODD', '7260,EVEN', '7261,ODD', '7262,EVEN', '7263,ODD', '7264,EVEN', '7265,ODD', '7266,EVEN', '7267,ODD', '7268,EVEN', '7269,ODD', '7270,EVEN', '7271,ODD', '7272,EVEN', '7273,ODD', '7274,EVEN', '7275,ODD', '7276,EVEN', '7277,ODD', '7278,EVEN', '7279,ODD', '7280,EVEN', '7281,ODD', '7282,EVEN', '7283,ODD', '7284,EVEN', '7285,ODD', '7286,EVEN', '7287,ODD', '7288,EVEN', '7289,ODD', '7290,EVEN', '7291,ODD', '7292,EVEN', '7293,ODD', '7294,EVEN', '7295,ODD', '7296,EVEN', '7297,ODD', '7298,EVEN', '7299,ODD', '7300,EVEN', '7301,ODD', '7302,EVEN', '7303,ODD', '7304,EVEN', '7305,ODD', '7306,EVEN', '7307,ODD', '7308,EVEN', '7309,ODD', '7310,EVEN', '7311,ODD', '7312,EVEN', '7313,ODD', '7314,EVEN', '7315,ODD', '7316,EVEN', '7317,ODD', '7318,EVEN', '7319,ODD', '7320,EVEN', '7321,ODD', '7322,EVEN', '7323,ODD', '7324,EVEN', '7325,ODD', '7326,EVEN', '7327,ODD', '7328,EVEN', '7329,ODD', '7330,EVEN', '7331,ODD', '7332,EVEN', '7333,ODD', '7334,EVEN', '7335,ODD', '7336,EVEN', '7337,ODD', '7338,EVEN', '7339,ODD', '7340,EVEN', '7341,ODD', '7342,EVEN', '7343,ODD', '7344,EVEN', '7345,ODD', '7346,EVEN', '7347,ODD', '7348,EVEN', '7349,ODD', '7350,EVEN', '7351,ODD', '7352,EVEN', '7353,ODD', '7354,EVEN', '7355,ODD', '7356,EVEN', '7357,ODD', '7358,EVEN', '7359,ODD', '7360,EVEN', '7361,ODD', '7362,EVEN', '7363,ODD', '7364,EVEN', '7365,ODD', '7366,EVEN', '7367,ODD', '7368,EVEN', '7369,ODD', '7370,EVEN', '7371,ODD', '7372,EVEN', '7373,ODD', '7374,EVEN', '7375,ODD', '7376,EVEN', '7377,ODD', '7378,EVEN', '7379,ODD', '7380,EVEN', '7381,ODD', '7382,EVEN', '7383,ODD', '7384,EVEN', '7385,ODD', '7386,EVEN', '7387,ODD', '7388,EVEN', '7389,ODD', '7390,EVEN', '7391,ODD', '7392,EVEN', '7393,ODD', '7394,EVEN', '7395,ODD', '7396,EVEN', '7397,ODD', '7398,EVEN', '7399,ODD', '7400,EVEN', '7401,ODD', '7402,EVEN', '7403,ODD', '7404,EVEN', '7405,ODD', '7406,EVEN', '7407,ODD', '7408,EVEN', '7409,ODD', '7410,EVEN', '7411,ODD', '7412,EVEN', '7413,ODD', '7414,EVEN', '7415,ODD', '7416,EVEN', '7417,ODD', '7418,EVEN', '7419,ODD', '7420,EVEN', '7421,ODD', '7422,EVEN', '7423,ODD', '7424,EVEN', '7425,ODD', '7426,EVEN', '7427,ODD', '7428,EVEN', '7429,ODD', '7430,EVEN', '7431,ODD', '7432,EVEN', '7433,ODD', '7434,EVEN', '7435,ODD', '7436,EVEN', '7437,ODD', '7438,EVEN', '7439,ODD', '7440,EVEN', '7441,ODD', '7442,EVEN', '7443,ODD', '7444,EVEN', '7445,ODD', '7446,EVEN', '7447,ODD', '7448,EVEN', '7449,ODD', '7450,EVEN', '7451,ODD', '7452,EVEN', '7453,ODD', '7454,EVEN', '7455,ODD', '7456,EVEN', '7457,ODD', '7458,EVEN', '7459,ODD', '7460,EVEN', '7461,ODD', '7462,EVEN', '7463,ODD', '7464,EVEN', '7465,ODD', '7466,EVEN', '7467,ODD', '7468,EVEN', '7469,ODD', '7470,EVEN', '7471,ODD', '7472,EVEN', '7473,ODD', '7474,EVEN', '7475,ODD', '7476,EVEN', '7477,ODD', '7478,EVEN', '7479,ODD', '7480,EVEN', '7481,ODD', '7482,EVEN', '7483,ODD', '7484,EVEN', '7485,ODD', '7486,EVEN', '7487,ODD', '7488,EVEN', '7489,ODD', '7490,EVEN', '7491,ODD', '7492,EVEN', '7493,ODD', '7494,EVEN', '7495,ODD', '7496,EVEN', '7497,ODD', '7498,EVEN', '7499,ODD', '7500,EVEN', '7501,ODD', '7502,EVEN', '7503,ODD', '7504,EVEN', '7505,ODD', '7506,EVEN', '7507,ODD', '7508,EVEN', '7509,ODD', '7510,EVEN', '7511,ODD', '7512,EVEN', '7513,ODD', '7514,EVEN', '7515,ODD', '7516,EVEN', '7517,ODD', '7518,EVEN', '7519,ODD', '7520,EVEN', '7521,ODD', '7522,EVEN', '7523,ODD', '7524,EVEN', '7525,ODD', '7526,EVEN', '7527,ODD', '7528,EVEN', '7529,ODD', '7530,EVEN', '7531,ODD', '7532,EVEN', '7533,ODD', '7534,EVEN', '7535,ODD', '7536,EVEN', '7537,ODD', '7538,EVEN', '7539,ODD', '7540,EVEN', '7541,ODD', '7542,EVEN', '7543,ODD', '7544,EVEN', '7545,ODD', '7546,EVEN', '7547,ODD', '7548,EVEN', '7549,ODD', '7550,EVEN', '7551,ODD', '7552,EVEN', '7553,ODD', '7554,EVEN', '7555,ODD', '7556,EVEN', '7557,ODD', '7558,EVEN', '7559,ODD', '7560,EVEN', '7561,ODD', '7562,EVEN', '7563,ODD', '7564,EVEN', '7565,ODD', '7566,EVEN', '7567,ODD', '7568,EVEN', '7569,ODD', '7570,EVEN', '7571,ODD', '7572,EVEN', '7573,ODD', '7574,EVEN', '7575,ODD', '7576,EVEN', '7577,ODD', '7578,EVEN', '7579,ODD', '7580,EVEN', '7581,ODD', '7582,EVEN', '7583,ODD', '7584,EVEN', '7585,ODD', '7586,EVEN', '7587,ODD', '7588,EVEN', '7589,ODD', '7590,EVEN', '7591,ODD', '7592,EVEN', '7593,ODD', '7594,EVEN', '7595,ODD', '7596,EVEN', '7597,ODD', '7598,EVEN', '7599,ODD', '7600,EVEN', '7601,ODD', '7602,EVEN', '7603,ODD', '7604,EVEN', '7605,ODD', '7606,EVEN', '7607,ODD', '7608,EVEN', '7609,ODD', '7610,EVEN', '7611,ODD', '7612,EVEN', '7613,ODD', '7614,EVEN', '7615,ODD', '7616,EVEN', '7617,ODD', '7618,EVEN', '7619,ODD', '7620,EVEN', '7621,ODD', '7622,EVEN', '7623,ODD', '7624,EVEN', '7625,ODD', '7626,EVEN', '7627,ODD', '7628,EVEN', '7629,ODD', '7630,EVEN', '7631,ODD', '7632,EVEN', '7633,ODD', '7634,EVEN', '7635,ODD', '7636,EVEN', '7637,ODD', '7638,EVEN', '7639,ODD', '7640,EVEN', '7641,ODD', '7642,EVEN', '7643,ODD', '7644,EVEN', '7645,ODD', '7646,EVEN', '7647,ODD', '7648,EVEN', '7649,ODD', '7650,EVEN', '7651,ODD', '7652,EVEN', '7653,ODD', '7654,EVEN', '7655,ODD', '7656,EVEN', '7657,ODD', '7658,EVEN', '7659,ODD', '7660,EVEN', '7661,ODD', '7662,EVEN', '7663,ODD', '7664,EVEN', '7665,ODD', '7666,EVEN', '7667,ODD', '7668,EVEN', '7669,ODD', '7670,EVEN', '7671,ODD', '7672,EVEN', '7673,ODD', '7674,EVEN', '7675,ODD', '7676,EVEN', '7677,ODD', '7678,EVEN', '7679,ODD', '7680,EVEN', '7681,ODD', '7682,EVEN', '7683,ODD', '7684,EVEN', '7685,ODD', '7686,EVEN', '7687,ODD', '7688,EVEN', '7689,ODD', '7690,EVEN', '7691,ODD', '7692,EVEN', '7693,ODD', '7694,EVEN', '7695,ODD', '7696,EVEN', '7697,ODD', '7698,EVEN', '7699,ODD', '7700,EVEN', '7701,ODD', '7702,EVEN', '7703,ODD', '7704,EVEN', '7705,ODD', '7706,EVEN', '7707,ODD', '7708,EVEN', '7709,ODD', '7710,EVEN', '7711,ODD', '7712,EVEN', '7713,ODD', '7714,EVEN', '7715,ODD', '7716,EVEN', '7717,ODD', '7718,EVEN', '7719,ODD', '7720,EVEN', '7721,ODD', '7722,EVEN', '7723,ODD', '7724,EVEN', '7725,ODD', '7726,EVEN', '7727,ODD', '7728,EVEN', '7729,ODD', '7730,EVEN', '7731,ODD', '7732,EVEN', '7733,ODD', '7734,EVEN', '7735,ODD', '7736,EVEN', '7737,ODD', '7738,EVEN', '7739,ODD', '7740,EVEN', '7741,ODD', '7742,EVEN', '7743,ODD', '7744,EVEN', '7745,ODD', '7746,EVEN', '7747,ODD', '7748,EVEN', '7749,ODD', '7750,EVEN', '7751,ODD', '7752,EVEN', '7753,ODD', '7754,EVEN', '7755,ODD', '7756,EVEN', '7757,ODD', '7758,EVEN', '7759,ODD', '7760,EVEN', '7761,ODD', '7762,EVEN', '7763,ODD', '7764,EVEN', '7765,ODD', '7766,EVEN', '7767,ODD', '7768,EVEN', '7769,ODD', '7770,EVEN', '7771,ODD', '7772,EVEN', '7773,ODD', '7774,EVEN', '7775,ODD', '7776,EVEN', '7777,ODD', '7778,EVEN', '7779,ODD', '7780,EVEN', '7781,ODD', '7782,EVEN', '7783,ODD', '7784,EVEN', '7785,ODD', '7786,EVEN', '7787,ODD', '7788,EVEN', '7789,ODD', '7790,EVEN', '7791,ODD', '7792,EVEN', '7793,ODD', '7794,EVEN', '7795,ODD', '7796,EVEN', '7797,ODD', '7798,EVEN', '7799,ODD', '7800,EVEN', '7801,ODD', '7802,EVEN', '7803,ODD', '7804,EVEN', '7805,ODD', '7806,EVEN', '7807,ODD', '7808,EVEN', '7809,ODD', '7810,EVEN', '7811,ODD', '7812,EVEN', '7813,ODD', '7814,EVEN', '7815,ODD', '7816,EVEN', '7817,ODD', '7818,EVEN', '7819,ODD', '7820,EVEN', '7821,ODD', '7822,EVEN', '7823,ODD', '7824,EVEN', '7825,ODD', '7826,EVEN', '7827,ODD', '7828,EVEN', '7829,ODD', '7830,EVEN', '7831,ODD', '7832,EVEN', '7833,ODD', '7834,EVEN', '7835,ODD', '7836,EVEN', '7837,ODD', '7838,EVEN', '7839,ODD', '7840,EVEN', '7841,ODD', '7842,EVEN', '7843,ODD', '7844,EVEN', '7845,ODD', '7846,EVEN', '7847,ODD', '7848,EVEN', '7849,ODD', '7850,EVEN', '7851,ODD', '7852,EVEN', '7853,ODD', '7854,EVEN', '7855,ODD', '7856,EVEN', '7857,ODD', '7858,EVEN', '7859,ODD', '7860,EVEN', '7861,ODD', '7862,EVEN', '7863,ODD', '7864,EVEN', '7865,ODD', '7866,EVEN', '7867,ODD', '7868,EVEN', '7869,ODD', '7870,EVEN', '7871,ODD', '7872,EVEN', '7873,ODD', '7874,EVEN', '7875,ODD', '7876,EVEN', '7877,ODD', '7878,EVEN', '7879,ODD', '7880,EVEN', '7881,ODD', '7882,EVEN', '7883,ODD', '7884,EVEN', '7885,ODD', '7886,EVEN', '7887,ODD', '7888,EVEN', '7889,ODD', '7890,EVEN', '7891,ODD', '7892,EVEN', '7893,ODD', '7894,EVEN', '7895,ODD', '7896,EVEN', '7897,ODD', '7898,EVEN', '7899,ODD', '7900,EVEN', '7901,ODD', '7902,EVEN', '7903,ODD', '7904,EVEN', '7905,ODD', '7906,EVEN', '7907,ODD', '7908,EVEN', '7909,ODD', '7910,EVEN', '7911,ODD', '7912,EVEN', '7913,ODD', '7914,EVEN', '7915,ODD', '7916,EVEN', '7917,ODD', '7918,EVEN', '7919,ODD', '7920,EVEN', '7921,ODD', '7922,EVEN', '7923,ODD', '7924,EVEN', '7925,ODD', '7926,EVEN', '7927,ODD', '7928,EVEN', '7929,ODD', '7930,EVEN', '7931,ODD', '7932,EVEN', '7933,ODD', '7934,EVEN', '7935,ODD', '7936,EVEN', '7937,ODD', '7938,EVEN', '7939,ODD', '7940,EVEN', '7941,ODD', '7942,EVEN', '7943,ODD', '7944,EVEN', '7945,ODD', '7946,EVEN', '7947,ODD', '7948,EVEN', '7949,ODD', '7950,EVEN', '7951,ODD', '7952,EVEN', '7953,ODD', '7954,EVEN', '7955,ODD', '7956,EVEN', '7957,ODD', '7958,EVEN', '7959,ODD', '7960,EVEN', '7961,ODD', '7962,EVEN', '7963,ODD', '7964,EVEN', '7965,ODD', '7966,EVEN', '7967,ODD', '7968,EVEN', '7969,ODD', '7970,EVEN', '7971,ODD', '7972,EVEN', '7973,ODD', '7974,EVEN', '7975,ODD', '7976,EVEN', '7977,ODD', '7978,EVEN', '7979,ODD', '7980,EVEN', '7981,ODD', '7982,EVEN', '7983,ODD', '7984,EVEN', '7985,ODD', '7986,EVEN', '7987,ODD', '7988,EVEN', '7989,ODD', '7990,EVEN', '7991,ODD', '7992,EVEN', '7993,ODD', '7994,EVEN', '7995,ODD', '7996,EVEN', '7997,ODD', '7998,EVEN', '7999,ODD', '8000,EVEN', '8001,ODD', '8002,EVEN', '8003,ODD', '8004,EVEN', '8005,ODD', '8006,EVEN', '8007,ODD', '8008,EVEN', '8009,ODD', '8010,EVEN', '8011,ODD', '8012,EVEN', '8013,ODD', '8014,EVEN', '8015,ODD', '8016,EVEN', '8017,ODD', '8018,EVEN', '8019,ODD', '8020,EVEN', '8021,ODD', '8022,EVEN', '8023,ODD', '8024,EVEN', '8025,ODD', '8026,EVEN', '8027,ODD', '8028,EVEN', '8029,ODD', '8030,EVEN', '8031,ODD', '8032,EVEN', '8033,ODD', '8034,EVEN', '8035,ODD', '8036,EVEN', '8037,ODD', '8038,EVEN', '8039,ODD', '8040,EVEN', '8041,ODD', '8042,EVEN', '8043,ODD', '8044,EVEN', '8045,ODD', '8046,EVEN', '8047,ODD', '8048,EVEN', '8049,ODD', '8050,EVEN', '8051,ODD', '8052,EVEN', '8053,ODD', '8054,EVEN', '8055,ODD', '8056,EVEN', '8057,ODD', '8058,EVEN', '8059,ODD', '8060,EVEN', '8061,ODD', '8062,EVEN', '8063,ODD', '8064,EVEN', '8065,ODD', '8066,EVEN', '8067,ODD', '8068,EVEN', '8069,ODD', '8070,EVEN', '8071,ODD', '8072,EVEN', '8073,ODD', '8074,EVEN', '8075,ODD', '8076,EVEN', '8077,ODD', '8078,EVEN', '8079,ODD', '8080,EVEN', '8081,ODD', '8082,EVEN', '8083,ODD', '8084,EVEN', '8085,ODD', '8086,EVEN', '8087,ODD', '8088,EVEN', '8089,ODD', '8090,EVEN', '8091,ODD', '8092,EVEN', '8093,ODD', '8094,EVEN', '8095,ODD', '8096,EVEN', '8097,ODD', '8098,EVEN', '8099,ODD', '8100,EVEN', '8101,ODD', '8102,EVEN', '8103,ODD', '8104,EVEN', '8105,ODD', '8106,EVEN', '8107,ODD', '8108,EVEN', '8109,ODD', '8110,EVEN', '8111,ODD', '8112,EVEN', '8113,ODD', '8114,EVEN', '8115,ODD', '8116,EVEN', '8117,ODD', '8118,EVEN', '8119,ODD', '8120,EVEN', '8121,ODD', '8122,EVEN', '8123,ODD', '8124,EVEN', '8125,ODD', '8126,EVEN', '8127,ODD', '8128,EVEN', '8129,ODD', '8130,EVEN', '8131,ODD', '8132,EVEN', '8133,ODD', '8134,EVEN', '8135,ODD', '8136,EVEN', '8137,ODD', '8138,EVEN', '8139,ODD', '8140,EVEN', '8141,ODD', '8142,EVEN', '8143,ODD', '8144,EVEN', '8145,ODD', '8146,EVEN', '8147,ODD', '8148,EVEN', '8149,ODD', '8150,EVEN', '8151,ODD', '8152,EVEN', '8153,ODD', '8154,EVEN', '8155,ODD', '8156,EVEN', '8157,ODD', '8158,EVEN', '8159,ODD', '8160,EVEN', '8161,ODD', '8162,EVEN', '8163,ODD', '8164,EVEN', '8165,ODD', '8166,EVEN', '8167,ODD', '8168,EVEN', '8169,ODD', '8170,EVEN', '8171,ODD', '8172,EVEN', '8173,ODD', '8174,EVEN', '8175,ODD', '8176,EVEN', '8177,ODD', '8178,EVEN', '8179,ODD', '8180,EVEN', '8181,ODD', '8182,EVEN', '8183,ODD', '8184,EVEN', '8185,ODD', '8186,EVEN', '8187,ODD', '8188,EVEN', '8189,ODD', '8190,EVEN', '8191,ODD', '8192,EVEN', '8193,ODD', '8194,EVEN', '8195,ODD', '8196,EVEN', '8197,ODD', '8198,EVEN', '8199,ODD', '8200,EVEN', '8201,ODD', '8202,EVEN', '8203,ODD', '8204,EVEN', '8205,ODD', '8206,EVEN', '8207,ODD', '8208,EVEN', '8209,ODD', '8210,EVEN', '8211,ODD', '8212,EVEN', '8213,ODD', '8214,EVEN', '8215,ODD', '8216,EVEN', '8217,ODD', '8218,EVEN', '8219,ODD', '8220,EVEN', '8221,ODD', '8222,EVEN', '8223,ODD', '8224,EVEN', '8225,ODD', '8226,EVEN', '8227,ODD', '8228,EVEN', '8229,ODD', '8230,EVEN', '8231,ODD', '8232,EVEN', '8233,ODD', '8234,EVEN', '8235,ODD', '8236,EVEN', '8237,ODD', '8238,EVEN', '8239,ODD', '8240,EVEN', '8241,ODD', '8242,EVEN', '8243,ODD', '8244,EVEN', '8245,ODD', '8246,EVEN', '8247,ODD', '8248,EVEN', '8249,ODD', '8250,EVEN', '8251,ODD', '8252,EVEN', '8253,ODD', '8254,EVEN', '8255,ODD', '8256,EVEN', '8257,ODD', '8258,EVEN', '8259,ODD', '8260,EVEN', '8261,ODD', '8262,EVEN', '8263,ODD', '8264,EVEN', '8265,ODD', '8266,EVEN', '8267,ODD', '8268,EVEN', '8269,ODD', '8270,EVEN', '8271,ODD', '8272,EVEN', '8273,ODD', '8274,EVEN', '8275,ODD', '8276,EVEN', '8277,ODD', '8278,EVEN', '8279,ODD', '8280,EVEN', '8281,ODD', '8282,EVEN', '8283,ODD', '8284,EVEN', '8285,ODD', '8286,EVEN', '8287,ODD', '8288,EVEN', '8289,ODD', '8290,EVEN', '8291,ODD', '8292,EVEN', '8293,ODD', '8294,EVEN', '8295,ODD', '8296,EVEN', '8297,ODD', '8298,EVEN', '8299,ODD', '8300,EVEN', '8301,ODD', '8302,EVEN', '8303,ODD', '8304,EVEN', '8305,ODD', '8306,EVEN', '8307,ODD', '8308,EVEN', '8309,ODD', '8310,EVEN', '8311,ODD', '8312,EVEN', '8313,ODD', '8314,EVEN', '8315,ODD', '8316,EVEN', '8317,ODD', '8318,EVEN', '8319,ODD', '8320,EVEN', '8321,ODD', '8322,EVEN', '8323,ODD', '8324,EVEN', '8325,ODD', '8326,EVEN', '8327,ODD', '8328,EVEN', '8329,ODD', '8330,EVEN', '8331,ODD', '8332,EVEN', '8333,ODD', '8334,EVEN', '8335,ODD', '8336,EVEN', '8337,ODD', '8338,EVEN', '8339,ODD', '8340,EVEN', '8341,ODD', '8342,EVEN', '8343,ODD', '8344,EVEN', '8345,ODD', '8346,EVEN', '8347,ODD', '8348,EVEN', '8349,ODD', '8350,EVEN', '8351,ODD', '8352,EVEN', '8353,ODD', '8354,EVEN', '8355,ODD', '8356,EVEN', '8357,ODD', '8358,EVEN', '8359,ODD', '8360,EVEN', '8361,ODD', '8362,EVEN', '8363,ODD', '8364,EVEN', '8365,ODD', '8366,EVEN', '8367,ODD', '8368,EVEN', '8369,ODD', '8370,EVEN', '8371,ODD', '8372,EVEN', '8373,ODD', '8374,EVEN', '8375,ODD', '8376,EVEN', '8377,ODD', '8378,EVEN', '8379,ODD', '8380,EVEN', '8381,ODD', '8382,EVEN', '8383,ODD', '8384,EVEN', '8385,ODD', '8386,EVEN', '8387,ODD', '8388,EVEN', '8389,ODD', '8390,EVEN', '8391,ODD', '8392,EVEN', '8393,ODD', '8394,EVEN', '8395,ODD', '8396,EVEN', '8397,ODD', '8398,EVEN', '8399,ODD', '8400,EVEN', '8401,ODD', '8402,EVEN', '8403,ODD', '8404,EVEN', '8405,ODD', '8406,EVEN', '8407,ODD', '8408,EVEN', '8409,ODD', '8410,EVEN', '8411,ODD', '8412,EVEN', '8413,ODD', '8414,EVEN', '8415,ODD', '8416,EVEN', '8417,ODD', '8418,EVEN', '8419,ODD', '8420,EVEN', '8421,ODD', '8422,EVEN', '8423,ODD', '8424,EVEN', '8425,ODD', '8426,EVEN', '8427,ODD', '8428,EVEN', '8429,ODD', '8430,EVEN', '8431,ODD', '8432,EVEN', '8433,ODD', '8434,EVEN', '8435,ODD', '8436,EVEN', '8437,ODD', '8438,EVEN', '8439,ODD', '8440,EVEN', '8441,ODD', '8442,EVEN', '8443,ODD', '8444,EVEN', '8445,ODD', '8446,EVEN', '8447,ODD', '8448,EVEN', '8449,ODD', '8450,EVEN', '8451,ODD', '8452,EVEN', '8453,ODD', '8454,EVEN', '8455,ODD', '8456,EVEN', '8457,ODD', '8458,EVEN', '8459,ODD', '8460,EVEN', '8461,ODD', '8462,EVEN', '8463,ODD', '8464,EVEN', '8465,ODD', '8466,EVEN', '8467,ODD', '8468,EVEN', '8469,ODD', '8470,EVEN', '8471,ODD', '8472,EVEN', '8473,ODD', '8474,EVEN', '8475,ODD', '8476,EVEN', '8477,ODD', '8478,EVEN', '8479,ODD', '8480,EVEN', '8481,ODD', '8482,EVEN', '8483,ODD', '8484,EVEN', '8485,ODD', '8486,EVEN', '8487,ODD', '8488,EVEN', '8489,ODD', '8490,EVEN', '8491,ODD', '8492,EVEN', '8493,ODD', '8494,EVEN', '8495,ODD', '8496,EVEN', '8497,ODD', '8498,EVEN', '8499,ODD', '8500,EVEN', '8501,ODD', '8502,EVEN', '8503,ODD', '8504,EVEN', '8505,ODD', '8506,EVEN', '8507,ODD', '8508,EVEN', '8509,ODD', '8510,EVEN', '8511,ODD', '8512,EVEN', '8513,ODD', '8514,EVEN', '8515,ODD', '8516,EVEN', '8517,ODD', '8518,EVEN', '8519,ODD', '8520,EVEN', '8521,ODD', '8522,EVEN', '8523,ODD', '8524,EVEN', '8525,ODD', '8526,EVEN', '8527,ODD', '8528,EVEN', '8529,ODD', '8530,EVEN', '8531,ODD', '8532,EVEN', '8533,ODD', '8534,EVEN', '8535,ODD', '8536,EVEN', '8537,ODD', '8538,EVEN', '8539,ODD', '8540,EVEN', '8541,ODD', '8542,EVEN', '8543,ODD', '8544,EVEN', '8545,ODD', '8546,EVEN', '8547,ODD', '8548,EVEN', '8549,ODD', '8550,EVEN', '8551,ODD', '8552,EVEN', '8553,ODD', '8554,EVEN', '8555,ODD', '8556,EVEN', '8557,ODD', '8558,EVEN', '8559,ODD', '8560,EVEN', '8561,ODD', '8562,EVEN', '8563,ODD', '8564,EVEN', '8565,ODD', '8566,EVEN', '8567,ODD', '8568,EVEN', '8569,ODD', '8570,EVEN', '8571,ODD', '8572,EVEN', '8573,ODD', '8574,EVEN', '8575,ODD', '8576,EVEN', '8577,ODD', '8578,EVEN', '8579,ODD', '8580,EVEN', '8581,ODD', '8582,EVEN', '8583,ODD', '8584,EVEN', '8585,ODD', '8586,EVEN', '8587,ODD', '8588,EVEN', '8589,ODD', '8590,EVEN', '8591,ODD', '8592,EVEN', '8593,ODD', '8594,EVEN', '8595,ODD', '8596,EVEN', '8597,ODD', '8598,EVEN', '8599,ODD', '8600,EVEN', '8601,ODD', '8602,EVEN', '8603,ODD', '8604,EVEN', '8605,ODD', '8606,EVEN', '8607,ODD', '8608,EVEN', '8609,ODD', '8610,EVEN', '8611,ODD', '8612,EVEN', '8613,ODD', '8614,EVEN', '8615,ODD', '8616,EVEN', '8617,ODD', '8618,EVEN', '8619,ODD', '8620,EVEN', '8621,ODD', '8622,EVEN', '8623,ODD', '8624,EVEN', '8625,ODD', '8626,EVEN', '8627,ODD', '8628,EVEN', '8629,ODD', '8630,EVEN', '8631,ODD', '8632,EVEN', '8633,ODD', '8634,EVEN', '8635,ODD', '8636,EVEN', '8637,ODD', '8638,EVEN', '8639,ODD', '8640,EVEN', '8641,ODD', '8642,EVEN', '8643,ODD', '8644,EVEN', '8645,ODD', '8646,EVEN', '8647,ODD', '8648,EVEN', '8649,ODD', '8650,EVEN', '8651,ODD', '8652,EVEN', '8653,ODD', '8654,EVEN', '8655,ODD', '8656,EVEN', '8657,ODD', '8658,EVEN', '8659,ODD', '8660,EVEN', '8661,ODD', '8662,EVEN', '8663,ODD', '8664,EVEN', '8665,ODD', '8666,EVEN', '8667,ODD', '8668,EVEN', '8669,ODD', '8670,EVEN', '8671,ODD', '8672,EVEN', '8673,ODD', '8674,EVEN', '8675,ODD', '8676,EVEN', '8677,ODD', '8678,EVEN', '8679,ODD', '8680,EVEN', '8681,ODD', '8682,EVEN', '8683,ODD', '8684,EVEN', '8685,ODD', '8686,EVEN', '8687,ODD', '8688,EVEN', '8689,ODD', '8690,EVEN', '8691,ODD', '8692,EVEN', '8693,ODD', '8694,EVEN', '8695,ODD', '8696,EVEN', '8697,ODD', '8698,EVEN', '8699,ODD', '8700,EVEN', '8701,ODD', '8702,EVEN', '8703,ODD', '8704,EVEN', '8705,ODD', '8706,EVEN', '8707,ODD', '8708,EVEN', '8709,ODD', '8710,EVEN', '8711,ODD', '8712,EVEN', '8713,ODD', '8714,EVEN', '8715,ODD', '8716,EVEN', '8717,ODD', '8718,EVEN', '8719,ODD', '8720,EVEN', '8721,ODD', '8722,EVEN', '8723,ODD', '8724,EVEN', '8725,ODD', '8726,EVEN', '8727,ODD', '8728,EVEN', '8729,ODD', '8730,EVEN', '8731,ODD', '8732,EVEN', '8733,ODD', '8734,EVEN', '8735,ODD', '8736,EVEN', '8737,ODD', '8738,EVEN', '8739,ODD', '8740,EVEN', '8741,ODD', '8742,EVEN', '8743,ODD', '8744,EVEN', '8745,ODD', '8746,EVEN', '8747,ODD', '8748,EVEN', '8749,ODD', '8750,EVEN', '8751,ODD', '8752,EVEN', '8753,ODD', '8754,EVEN', '8755,ODD', '8756,EVEN', '8757,ODD', '8758,EVEN', '8759,ODD', '8760,EVEN', '8761,ODD', '8762,EVEN', '8763,ODD', '8764,EVEN', '8765,ODD', '8766,EVEN', '8767,ODD', '8768,EVEN', '8769,ODD', '8770,EVEN', '8771,ODD', '8772,EVEN', '8773,ODD', '8774,EVEN', '8775,ODD', '8776,EVEN', '8777,ODD', '8778,EVEN', '8779,ODD', '8780,EVEN', '8781,ODD', '8782,EVEN', '8783,ODD', '8784,EVEN', '8785,ODD', '8786,EVEN', '8787,ODD', '8788,EVEN', '8789,ODD', '8790,EVEN', '8791,ODD', '8792,EVEN', '8793,ODD', '8794,EVEN', '8795,ODD', '8796,EVEN', '8797,ODD', '8798,EVEN', '8799,ODD', '8800,EVEN', '8801,ODD', '8802,EVEN', '8803,ODD', '8804,EVEN', '8805,ODD', '8806,EVEN', '8807,ODD', '8808,EVEN', '8809,ODD', '8810,EVEN', '8811,ODD', '8812,EVEN', '8813,ODD', '8814,EVEN', '8815,ODD', '8816,EVEN', '8817,ODD', '8818,EVEN', '8819,ODD', '8820,EVEN', '8821,ODD', '8822,EVEN', '8823,ODD', '8824,EVEN', '8825,ODD', '8826,EVEN', '8827,ODD', '8828,EVEN', '8829,ODD', '8830,EVEN', '8831,ODD', '8832,EVEN', '8833,ODD', '8834,EVEN', '8835,ODD', '8836,EVEN', '8837,ODD', '8838,EVEN', '8839,ODD', '8840,EVEN', '8841,ODD', '8842,EVEN', '8843,ODD', '8844,EVEN', '8845,ODD', '8846,EVEN', '8847,ODD', '8848,EVEN', '8849,ODD', '8850,EVEN', '8851,ODD', '8852,EVEN', '8853,ODD', '8854,EVEN', '8855,ODD', '8856,EVEN', '8857,ODD', '8858,EVEN', '8859,ODD', '8860,EVEN', '8861,ODD', '8862,EVEN', '8863,ODD', '8864,EVEN', '8865,ODD', '8866,EVEN', '8867,ODD', '8868,EVEN', '8869,ODD', '8870,EVEN', '8871,ODD', '8872,EVEN', '8873,ODD', '8874,EVEN', '8875,ODD', '8876,EVEN', '8877,ODD', '8878,EVEN', '8879,ODD', '8880,EVEN', '8881,ODD', '8882,EVEN', '8883,ODD', '8884,EVEN', '8885,ODD', '8886,EVEN', '8887,ODD', '8888,EVEN', '8889,ODD', '8890,EVEN', '8891,ODD', '8892,EVEN', '8893,ODD', '8894,EVEN', '8895,ODD', '8896,EVEN', '8897,ODD', '8898,EVEN', '8899,ODD', '8900,EVEN', '8901,ODD', '8902,EVEN', '8903,ODD', '8904,EVEN', '8905,ODD', '8906,EVEN', '8907,ODD', '8908,EVEN', '8909,ODD', '8910,EVEN', '8911,ODD', '8912,EVEN', '8913,ODD', '8914,EVEN', '8915,ODD', '8916,EVEN', '8917,ODD', '8918,EVEN', '8919,ODD', '8920,EVEN', '8921,ODD', '8922,EVEN', '8923,ODD', '8924,EVEN', '8925,ODD', '8926,EVEN', '8927,ODD', '8928,EVEN', '8929,ODD', '8930,EVEN', '8931,ODD', '8932,EVEN', '8933,ODD', '8934,EVEN', '8935,ODD', '8936,EVEN', '8937,ODD', '8938,EVEN', '8939,ODD', '8940,EVEN', '8941,ODD', '8942,EVEN', '8943,ODD', '8944,EVEN', '8945,ODD', '8946,EVEN', '8947,ODD', '8948,EVEN', '8949,ODD', '8950,EVEN', '8951,ODD', '8952,EVEN', '8953,ODD', '8954,EVEN', '8955,ODD', '8956,EVEN', '8957,ODD', '8958,EVEN', '8959,ODD', '8960,EVEN', '8961,ODD', '8962,EVEN', '8963,ODD', '8964,EVEN', '8965,ODD', '8966,EVEN', '8967,ODD', '8968,EVEN', '8969,ODD', '8970,EVEN', '8971,ODD', '8972,EVEN', '8973,ODD', '8974,EVEN', '8975,ODD', '8976,EVEN', '8977,ODD', '8978,EVEN', '8979,ODD', '8980,EVEN', '8981,ODD', '8982,EVEN', '8983,ODD', '8984,EVEN', '8985,ODD', '8986,EVEN', '8987,ODD', '8988,EVEN', '8989,ODD', '8990,EVEN', '8991,ODD', '8992,EVEN', '8993,ODD', '8994,EVEN', '8995,ODD', '8996,EVEN', '8997,ODD', '8998,EVEN', '8999,ODD', '9000,EVEN', '9001,ODD', '9002,EVEN', '9003,ODD', '9004,EVEN', '9005,ODD', '9006,EVEN', '9007,ODD', '9008,EVEN', '9009,ODD', '9010,EVEN', '9011,ODD', '9012,EVEN', '9013,ODD', '9014,EVEN', '9015,ODD', '9016,EVEN', '9017,ODD', '9018,EVEN', '9019,ODD', '9020,EVEN', '9021,ODD', '9022,EVEN', '9023,ODD', '9024,EVEN', '9025,ODD', '9026,EVEN', '9027,ODD', '9028,EVEN', '9029,ODD', '9030,EVEN', '9031,ODD', '9032,EVEN', '9033,ODD', '9034,EVEN', '9035,ODD', '9036,EVEN', '9037,ODD', '9038,EVEN', '9039,ODD', '9040,EVEN', '9041,ODD', '9042,EVEN', '9043,ODD', '9044,EVEN', '9045,ODD', '9046,EVEN', '9047,ODD', '9048,EVEN', '9049,ODD', '9050,EVEN', '9051,ODD', '9052,EVEN', '9053,ODD', '9054,EVEN', '9055,ODD', '9056,EVEN', '9057,ODD', '9058,EVEN', '9059,ODD', '9060,EVEN', '9061,ODD', '9062,EVEN', '9063,ODD', '9064,EVEN', '9065,ODD', '9066,EVEN', '9067,ODD', '9068,EVEN', '9069,ODD', '9070,EVEN', '9071,ODD', '9072,EVEN', '9073,ODD', '9074,EVEN', '9075,ODD', '9076,EVEN', '9077,ODD', '9078,EVEN', '9079,ODD', '9080,EVEN', '9081,ODD', '9082,EVEN', '9083,ODD', '9084,EVEN', '9085,ODD', '9086,EVEN', '9087,ODD', '9088,EVEN', '9089,ODD', '9090,EVEN', '9091,ODD', '9092,EVEN', '9093,ODD', '9094,EVEN', '9095,ODD', '9096,EVEN', '9097,ODD', '9098,EVEN', '9099,ODD', '9100,EVEN', '9101,ODD', '9102,EVEN', '9103,ODD', '9104,EVEN', '9105,ODD', '9106,EVEN', '9107,ODD', '9108,EVEN', '9109,ODD', '9110,EVEN', '9111,ODD', '9112,EVEN', '9113,ODD', '9114,EVEN', '9115,ODD', '9116,EVEN', '9117,ODD', '9118,EVEN', '9119,ODD', '9120,EVEN', '9121,ODD', '9122,EVEN', '9123,ODD', '9124,EVEN', '9125,ODD', '9126,EVEN', '9127,ODD', '9128,EVEN', '9129,ODD', '9130,EVEN', '9131,ODD', '9132,EVEN', '9133,ODD', '9134,EVEN', '9135,ODD', '9136,EVEN', '9137,ODD', '9138,EVEN', '9139,ODD', '9140,EVEN', '9141,ODD', '9142,EVEN', '9143,ODD', '9144,EVEN', '9145,ODD', '9146,EVEN', '9147,ODD', '9148,EVEN', '9149,ODD', '9150,EVEN', '9151,ODD', '9152,EVEN', '9153,ODD', '9154,EVEN', '9155,ODD', '9156,EVEN', '9157,ODD', '9158,EVEN', '9159,ODD', '9160,EVEN', '9161,ODD', '9162,EVEN', '9163,ODD', '9164,EVEN', '9165,ODD', '9166,EVEN', '9167,ODD', '9168,EVEN', '9169,ODD', '9170,EVEN', '9171,ODD', '9172,EVEN', '9173,ODD', '9174,EVEN', '9175,ODD', '9176,EVEN', '9177,ODD', '9178,EVEN', '9179,ODD', '9180,EVEN', '9181,ODD', '9182,EVEN', '9183,ODD', '9184,EVEN', '9185,ODD', '9186,EVEN', '9187,ODD', '9188,EVEN', '9189,ODD', '9190,EVEN', '9191,ODD', '9192,EVEN', '9193,ODD', '9194,EVEN', '9195,ODD', '9196,EVEN', '9197,ODD', '9198,EVEN', '9199,ODD', '9200,EVEN', '9201,ODD', '9202,EVEN', '9203,ODD', '9204,EVEN', '9205,ODD', '9206,EVEN', '9207,ODD', '9208,EVEN', '9209,ODD', '9210,EVEN', '9211,ODD', '9212,EVEN', '9213,ODD', '9214,EVEN', '9215,ODD', '9216,EVEN', '9217,ODD', '9218,EVEN', '9219,ODD', '9220,EVEN', '9221,ODD', '9222,EVEN', '9223,ODD', '9224,EVEN', '9225,ODD', '9226,EVEN', '9227,ODD', '9228,EVEN', '9229,ODD', '9230,EVEN', '9231,ODD', '9232,EVEN', '9233,ODD', '9234,EVEN', '9235,ODD', '9236,EVEN', '9237,ODD', '9238,EVEN', '9239,ODD', '9240,EVEN', '9241,ODD', '9242,EVEN', '9243,ODD', '9244,EVEN', '9245,ODD', '9246,EVEN', '9247,ODD', '9248,EVEN', '9249,ODD', '9250,EVEN', '9251,ODD', '9252,EVEN', '9253,ODD', '9254,EVEN', '9255,ODD', '9256,EVEN', '9257,ODD', '9258,EVEN', '9259,ODD', '9260,EVEN', '9261,ODD', '9262,EVEN', '9263,ODD', '9264,EVEN', '9265,ODD', '9266,EVEN', '9267,ODD', '9268,EVEN', '9269,ODD', '9270,EVEN', '9271,ODD', '9272,EVEN', '9273,ODD', '9274,EVEN', '9275,ODD', '9276,EVEN', '9277,ODD', '9278,EVEN', '9279,ODD', '9280,EVEN', '9281,ODD', '9282,EVEN', '9283,ODD', '9284,EVEN', '9285,ODD', '9286,EVEN', '9287,ODD', '9288,EVEN', '9289,ODD', '9290,EVEN', '9291,ODD', '9292,EVEN', '9293,ODD', '9294,EVEN', '9295,ODD', '9296,EVEN', '9297,ODD', '9298,EVEN', '9299,ODD', '9300,EVEN', '9301,ODD', '9302,EVEN', '9303,ODD', '9304,EVEN', '9305,ODD', '9306,EVEN', '9307,ODD', '9308,EVEN', '9309,ODD', '9310,EVEN', '9311,ODD', '9312,EVEN', '9313,ODD', '9314,EVEN', '9315,ODD', '9316,EVEN', '9317,ODD', '9318,EVEN', '9319,ODD', '9320,EVEN', '9321,ODD', '9322,EVEN', '9323,ODD', '9324,EVEN', '9325,ODD', '9326,EVEN', '9327,ODD', '9328,EVEN', '9329,ODD', '9330,EVEN', '9331,ODD', '9332,EVEN', '9333,ODD', '9334,EVEN', '9335,ODD', '9336,EVEN', '9337,ODD', '9338,EVEN', '9339,ODD', '9340,EVEN', '9341,ODD', '9342,EVEN', '9343,ODD', '9344,EVEN', '9345,ODD', '9346,EVEN', '9347,ODD', '9348,EVEN', '9349,ODD', '9350,EVEN', '9351,ODD', '9352,EVEN', '9353,ODD', '9354,EVEN', '9355,ODD', '9356,EVEN', '9357,ODD', '9358,EVEN', '9359,ODD', '9360,EVEN', '9361,ODD', '9362,EVEN', '9363,ODD', '9364,EVEN', '9365,ODD', '9366,EVEN', '9367,ODD', '9368,EVEN', '9369,ODD', '9370,EVEN', '9371,ODD', '9372,EVEN', '9373,ODD', '9374,EVEN', '9375,ODD', '9376,EVEN', '9377,ODD', '9378,EVEN', '9379,ODD', '9380,EVEN', '9381,ODD', '9382,EVEN', '9383,ODD', '9384,EVEN', '9385,ODD', '9386,EVEN', '9387,ODD', '9388,EVEN', '9389,ODD', '9390,EVEN', '9391,ODD', '9392,EVEN', '9393,ODD', '9394,EVEN', '9395,ODD', '9396,EVEN', '9397,ODD', '9398,EVEN', '9399,ODD', '9400,EVEN', '9401,ODD', '9402,EVEN', '9403,ODD', '9404,EVEN', '9405,ODD', '9406,EVEN', '9407,ODD', '9408,EVEN', '9409,ODD', '9410,EVEN', '9411,ODD', '9412,EVEN', '9413,ODD', '9414,EVEN', '9415,ODD', '9416,EVEN', '9417,ODD', '9418,EVEN', '9419,ODD', '9420,EVEN', '9421,ODD', '9422,EVEN', '9423,ODD', '9424,EVEN', '9425,ODD', '9426,EVEN', '9427,ODD', '9428,EVEN', '9429,ODD', '9430,EVEN', '9431,ODD', '9432,EVEN', '9433,ODD', '9434,EVEN', '9435,ODD', '9436,EVEN', '9437,ODD', '9438,EVEN', '9439,ODD', '9440,EVEN', '9441,ODD', '9442,EVEN', '9443,ODD', '9444,EVEN', '9445,ODD', '9446,EVEN', '9447,ODD', '9448,EVEN', '9449,ODD', '9450,EVEN', '9451,ODD', '9452,EVEN', '9453,ODD', '9454,EVEN', '9455,ODD', '9456,EVEN', '9457,ODD', '9458,EVEN', '9459,ODD', '9460,EVEN', '9461,ODD', '9462,EVEN', '9463,ODD', '9464,EVEN', '9465,ODD', '9466,EVEN', '9467,ODD', '9468,EVEN', '9469,ODD', '9470,EVEN', '9471,ODD', '9472,EVEN', '9473,ODD', '9474,EVEN', '9475,ODD', '9476,EVEN', '9477,ODD', '9478,EVEN', '9479,ODD', '9480,EVEN', '9481,ODD', '9482,EVEN', '9483,ODD', '9484,EVEN', '9485,ODD', '9486,EVEN', '9487,ODD', '9488,EVEN', '9489,ODD', '9490,EVEN', '9491,ODD', '9492,EVEN', '9493,ODD', '9494,EVEN', '9495,ODD', '9496,EVEN', '9497,ODD', '9498,EVEN', '9499,ODD', '9500,EVEN', '9501,ODD', '9502,EVEN', '9503,ODD', '9504,EVEN', '9505,ODD', '9506,EVEN', '9507,ODD', '9508,EVEN', '9509,ODD', '9510,EVEN', '9511,ODD', '9512,EVEN', '9513,ODD', '9514,EVEN', '9515,ODD', '9516,EVEN', '9517,ODD', '9518,EVEN', '9519,ODD', '9520,EVEN', '9521,ODD', '9522,EVEN', '9523,ODD', '9524,EVEN', '9525,ODD', '9526,EVEN', '9527,ODD', '9528,EVEN', '9529,ODD', '9530,EVEN', '9531,ODD', '9532,EVEN', '9533,ODD', '9534,EVEN', '9535,ODD', '9536,EVEN', '9537,ODD', '9538,EVEN', '9539,ODD', '9540,EVEN', '9541,ODD', '9542,EVEN', '9543,ODD', '9544,EVEN', '9545,ODD', '9546,EVEN', '9547,ODD', '9548,EVEN', '9549,ODD', '9550,EVEN', '9551,ODD', '9552,EVEN', '9553,ODD', '9554,EVEN', '9555,ODD', '9556,EVEN', '9557,ODD', '9558,EVEN', '9559,ODD', '9560,EVEN', '9561,ODD', '9562,EVEN', '9563,ODD', '9564,EVEN', '9565,ODD', '9566,EVEN', '9567,ODD', '9568,EVEN', '9569,ODD', '9570,EVEN', '9571,ODD', '9572,EVEN', '9573,ODD', '9574,EVEN', '9575,ODD', '9576,EVEN', '9577,ODD', '9578,EVEN', '9579,ODD', '9580,EVEN', '9581,ODD', '9582,EVEN', '9583,ODD', '9584,EVEN', '9585,ODD', '9586,EVEN', '9587,ODD', '9588,EVEN', '9589,ODD', '9590,EVEN', '9591,ODD', '9592,EVEN', '9593,ODD', '9594,EVEN', '9595,ODD', '9596,EVEN', '9597,ODD', '9598,EVEN', '9599,ODD', '9600,EVEN', '9601,ODD', '9602,EVEN', '9603,ODD', '9604,EVEN', '9605,ODD', '9606,EVEN', '9607,ODD', '9608,EVEN', '9609,ODD', '9610,EVEN', '9611,ODD', '9612,EVEN', '9613,ODD', '9614,EVEN', '9615,ODD', '9616,EVEN', '9617,ODD', '9618,EVEN', '9619,ODD', '9620,EVEN', '9621,ODD', '9622,EVEN', '9623,ODD', '9624,EVEN', '9625,ODD', '9626,EVEN', '9627,ODD', '9628,EVEN', '9629,ODD', '9630,EVEN', '9631,ODD', '9632,EVEN', '9633,ODD', '9634,EVEN', '9635,ODD', '9636,EVEN', '9637,ODD', '9638,EVEN', '9639,ODD', '9640,EVEN', '9641,ODD', '9642,EVEN', '9643,ODD', '9644,EVEN', '9645,ODD', '9646,EVEN', '9647,ODD', '9648,EVEN', '9649,ODD', '9650,EVEN', '9651,ODD', '9652,EVEN', '9653,ODD', '9654,EVEN', '9655,ODD', '9656,EVEN', '9657,ODD', '9658,EVEN', '9659,ODD', '9660,EVEN', '9661,ODD', '9662,EVEN', '9663,ODD', '9664,EVEN', '9665,ODD', '9666,EVEN', '9667,ODD', '9668,EVEN', '9669,ODD', '9670,EVEN', '9671,ODD', '9672,EVEN', '9673,ODD', '9674,EVEN', '9675,ODD', '9676,EVEN', '9677,ODD', '9678,EVEN', '9679,ODD', '9680,EVEN', '9681,ODD', '9682,EVEN', '9683,ODD', '9684,EVEN', '9685,ODD', '9686,EVEN', '9687,ODD', '9688,EVEN', '9689,ODD', '9690,EVEN', '9691,ODD', '9692,EVEN', '9693,ODD', '9694,EVEN', '9695,ODD', '9696,EVEN', '9697,ODD', '9698,EVEN', '9699,ODD', '9700,EVEN', '9701,ODD', '9702,EVEN', '9703,ODD', '9704,EVEN', '9705,ODD', '9706,EVEN', '9707,ODD', '9708,EVEN', '9709,ODD', '9710,EVEN', '9711,ODD', '9712,EVEN', '9713,ODD', '9714,EVEN', '9715,ODD', '9716,EVEN', '9717,ODD', '9718,EVEN', '9719,ODD', '9720,EVEN', '9721,ODD', '9722,EVEN', '9723,ODD', '9724,EVEN', '9725,ODD', '9726,EVEN', '9727,ODD', '9728,EVEN', '9729,ODD', '9730,EVEN', '9731,ODD', '9732,EVEN', '9733,ODD', '9734,EVEN', '9735,ODD', '9736,EVEN', '9737,ODD', '9738,EVEN', '9739,ODD', '9740,EVEN', '9741,ODD', '9742,EVEN', '9743,ODD', '9744,EVEN', '9745,ODD', '9746,EVEN', '9747,ODD', '9748,EVEN', '9749,ODD', '9750,EVEN', '9751,ODD', '9752,EVEN', '9753,ODD', '9754,EVEN', '9755,ODD', '9756,EVEN', '9757,ODD', '9758,EVEN', '9759,ODD', '9760,EVEN', '9761,ODD', '9762,EVEN', '9763,ODD', '9764,EVEN', '9765,ODD', '9766,EVEN', '9767,ODD', '9768,EVEN', '9769,ODD', '9770,EVEN', '9771,ODD', '9772,EVEN', '9773,ODD', '9774,EVEN', '9775,ODD', '9776,EVEN', '9777,ODD', '9778,EVEN', '9779,ODD', '9780,EVEN', '9781,ODD', '9782,EVEN', '9783,ODD', '9784,EVEN', '9785,ODD', '9786,EVEN', '9787,ODD', '9788,EVEN', '9789,ODD', '9790,EVEN', '9791,ODD', '9792,EVEN', '9793,ODD', '9794,EVEN', '9795,ODD', '9796,EVEN', '9797,ODD', '9798,EVEN', '9799,ODD', '9800,EVEN', '9801,ODD', '9802,EVEN', '9803,ODD', '9804,EVEN', '9805,ODD', '9806,EVEN', '9807,ODD', '9808,EVEN', '9809,ODD', '9810,EVEN', '9811,ODD', '9812,EVEN', '9813,ODD', '9814,EVEN', '9815,ODD', '9816,EVEN', '9817,ODD', '9818,EVEN', '9819,ODD', '9820,EVEN', '9821,ODD', '9822,EVEN', '9823,ODD', '9824,EVEN', '9825,ODD', '9826,EVEN', '9827,ODD', '9828,EVEN', '9829,ODD', '9830,EVEN', '9831,ODD', '9832,EVEN', '9833,ODD', '9834,EVEN', '9835,ODD', '9836,EVEN', '9837,ODD', '9838,EVEN', '9839,ODD', '9840,EVEN', '9841,ODD', '9842,EVEN', '9843,ODD', '9844,EVEN', '9845,ODD', '9846,EVEN', '9847,ODD', '9848,EVEN', '9849,ODD', '9850,EVEN', '9851,ODD', '9852,EVEN', '9853,ODD', '9854,EVEN', '9855,ODD', '9856,EVEN', '9857,ODD', '9858,EVEN', '9859,ODD', '9860,EVEN', '9861,ODD', '9862,EVEN', '9863,ODD', '9864,EVEN', '9865,ODD', '9866,EVEN', '9867,ODD', '9868,EVEN', '9869,ODD', '9870,EVEN', '9871,ODD', '9872,EVEN', '9873,ODD', '9874,EVEN', '9875,ODD', '9876,EVEN', '9877,ODD', '9878,EVEN', '9879,ODD', '9880,EVEN', '9881,ODD', '9882,EVEN', '9883,ODD', '9884,EVEN', '9885,ODD', '9886,EVEN', '9887,ODD', '9888,EVEN', '9889,ODD', '9890,EVEN', '9891,ODD', '9892,EVEN', '9893,ODD', '9894,EVEN', '9895,ODD', '9896,EVEN', '9897,ODD', '9898,EVEN', '9899,ODD', '9900,EVEN', '9901,ODD', '9902,EVEN', '9903,ODD', '9904,EVEN', '9905,ODD', '9906,EVEN', '9907,ODD', '9908,EVEN', '9909,ODD', '9910,EVEN', '9911,ODD', '9912,EVEN', '9913,ODD', '9914,EVEN', '9915,ODD', '9916,EVEN', '9917,ODD', '9918,EVEN', '9919,ODD', '9920,EVEN', '9921,ODD', '9922,EVEN', '9923,ODD', '9924,EVEN', '9925,ODD', '9926,EVEN', '9927,ODD', '9928,EVEN', '9929,ODD', '9930,EVEN', '9931,ODD', '9932,EVEN', '9933,ODD', '9934,EVEN', '9935,ODD', '9936,EVEN', '9937,ODD', '9938,EVEN', '9939,ODD', '9940,EVEN', '9941,ODD', '9942,EVEN', '9943,ODD', '9944,EVEN', '9945,ODD', '9946,EVEN', '9947,ODD', '9948,EVEN', '9949,ODD', '9950,EVEN', '9951,ODD', '9952,EVEN', '9953,ODD', '9954,EVEN', '9955,ODD', '9956,EVEN', '9957,ODD', '9958,EVEN', '9959,ODD', '9960,EVEN', '9961,ODD', '9962,EVEN', '9963,ODD', '9964,EVEN', '9965,ODD', '9966,EVEN', '9967,ODD', '9968,EVEN', '9969,ODD', '9970,EVEN', '9971,ODD', '9972,EVEN', '9973,ODD', '9974,EVEN', '9975,ODD', '9976,EVEN', '9977,ODD', '9978,EVEN', '9979,ODD', '9980,EVEN', '9981,ODD', '9982,EVEN', '9983,ODD', '9984,EVEN', '9985,ODD', '9986,EVEN', '9987,ODD', '9988,EVEN', '9989,ODD', '9990,EVEN', '9991,ODD', '9992,EVEN', '9993,ODD', '9994,EVEN', '9995,ODD', '9996,EVEN', '9997,ODD', '9998,EVEN', '9999,ODD']\n"
     ]
    }
   ],
   "source": [
    "l=range(10000)\n",
    "res=[\"%s,EVEN\"%i if i%2==0 else \"%s,ODD\"%i for i  in l if isinstance(i,int)]\n",
    "print(res)"
   ]
  },
  {
   "cell_type": "code",
   "execution_count": 25,
   "metadata": {},
   "outputs": [
    {
     "name": "stdout",
     "output_type": "stream",
     "text": [
      "<generator object <genexpr> at 0x7f719814ded0>\n"
     ]
    }
   ],
   "source": [
    "l=range(10000)\n",
    "res=(\"%s,EVEN\"%i if i%2==0 else \"%s,ODD\"%i for i  in l if isinstance(i,int))\n",
    "print(res)"
   ]
  },
  {
   "cell_type": "code",
   "execution_count": 26,
   "metadata": {},
   "outputs": [
    {
     "name": "stdout",
     "output_type": "stream",
     "text": [
      "<generator object <genexpr> at 0x7f71981784f8>\n"
     ]
    }
   ],
   "source": [
    "l=range(10)\n",
    "res=(\"%s,EVEN\"%i if i%2==0 else \"%s,ODD\"%i for i  in l if isinstance(i,int))\n",
    "print(res)"
   ]
  },
  {
   "cell_type": "code",
   "execution_count": 27,
   "metadata": {},
   "outputs": [
    {
     "name": "stdout",
     "output_type": "stream",
     "text": [
      "0,EVEN\n",
      "1,ODD\n",
      "2,EVEN\n",
      "3,ODD\n",
      "4,EVEN\n",
      "5,ODD\n",
      "6,EVEN\n",
      "7,ODD\n",
      "8,EVEN\n",
      "9,ODD\n"
     ]
    }
   ],
   "source": [
    "l=range(10)\n",
    "res=(\"%s,EVEN\"%i if i%2==0 else \"%s,ODD\"%i for i  in l if isinstance(i,int))\n",
    "for i in res:\n",
    "    print(i)"
   ]
  },
  {
   "cell_type": "code",
   "execution_count": 29,
   "metadata": {},
   "outputs": [
    {
     "name": "stdout",
     "output_type": "stream",
     "text": [
      "['0,EVEN', '1,ODD', '2,EVEN', '3,ODD', '4,EVEN', '5,ODD', '6,EVEN', '7,ODD', '8,EVEN', '9,ODD']\n",
      "0,EVEN\n",
      "1,ODD\n",
      "2,EVEN\n",
      "3,ODD\n",
      "4,EVEN\n",
      "5,ODD\n",
      "6,EVEN\n",
      "7,ODD\n",
      "8,EVEN\n",
      "9,ODD\n"
     ]
    }
   ],
   "source": [
    "l=range(10)\n",
    "res=[\"%s,EVEN\"%i if i%2==0 else \"%s,ODD\"%i for i  in l if isinstance(i,int)]\n",
    "print(res)\n",
    "for i in res:\n",
    "    print(i)"
   ]
  },
  {
   "cell_type": "code",
   "execution_count": 31,
   "metadata": {},
   "outputs": [
    {
     "name": "stdout",
     "output_type": "stream",
     "text": [
      "<generator object <genexpr> at 0x7f71981782a0>\n",
      "1,ODD\n",
      "2,EVEN\n",
      "3,ODD\n",
      "4,EVEN\n",
      "5,ODD\n",
      "6,EVEN\n",
      "7,ODD\n",
      "8,EVEN\n",
      "9,ODD\n"
     ]
    }
   ],
   "source": [
    "l=range(1,10)\n",
    "res=(\"%s,EVEN\"%i if i%2==0 else \"%s,ODD\"%i for i  in l if isinstance(i,int))\n",
    "print(res)\n",
    "for i in res:\n",
    "    print(i)"
   ]
  },
  {
   "cell_type": "code",
   "execution_count": 37,
   "metadata": {},
   "outputs": [
    {
     "name": "stdout",
     "output_type": "stream",
     "text": [
      "<generator object <genexpr> at 0x7f71981782a0>\n",
      "1\n",
      "1,ODD\n",
      "2\n",
      "2,EVEN\n",
      "3\n",
      "3,ODD\n",
      "4\n",
      "4,EVEN\n",
      "5\n",
      "5,ODD\n",
      "6\n",
      "6,EVEN\n",
      "7\n",
      "7,ODD\n",
      "8\n",
      "8,EVEN\n",
      "9\n",
      "9,ODD\n"
     ]
    }
   ],
   "source": [
    "def fun(x):\n",
    "    print(x)\n",
    "    return \"%s,EVEN\"%x if x%2==0 else \"%s,ODD\"%x \n",
    "l=range(1,10)\n",
    "res=(fun(i) for i  in l if isinstance(i,int))\n",
    "print(res)\n",
    "for i in res:\n",
    "    print(i)"
   ]
  },
  {
   "cell_type": "code",
   "execution_count": 38,
   "metadata": {},
   "outputs": [
    {
     "name": "stdout",
     "output_type": "stream",
     "text": [
      "1\n",
      "2\n",
      "3\n",
      "4\n",
      "5\n",
      "6\n",
      "7\n",
      "8\n",
      "9\n",
      "['1,ODD', '2,EVEN', '3,ODD', '4,EVEN', '5,ODD', '6,EVEN', '7,ODD', '8,EVEN', '9,ODD']\n",
      "1,ODD\n",
      "2,EVEN\n",
      "3,ODD\n",
      "4,EVEN\n",
      "5,ODD\n",
      "6,EVEN\n",
      "7,ODD\n",
      "8,EVEN\n",
      "9,ODD\n"
     ]
    }
   ],
   "source": [
    "def fun(x):\n",
    "    print(x)\n",
    "    return \"%s,EVEN\"%x if x%2==0 else \"%s,ODD\"%x \n",
    "l=range(1,10)\n",
    "res=[fun(i) for i  in l if isinstance(i,int)]\n",
    "print(res)\n",
    "for i in res:\n",
    "    print(i)"
   ]
  },
  {
   "cell_type": "code",
   "execution_count": 40,
   "metadata": {},
   "outputs": [
    {
     "name": "stdout",
     "output_type": "stream",
     "text": [
      "10,EVEN\n",
      "23,ODD\n",
      "45,ODD\n",
      "2,EVEN\n",
      "4,EVEN\n",
      "67,ODD\n",
      "89,ODD\n"
     ]
    }
   ],
   "source": [
    "def fun(x):\n",
    "    return \"%s,EVEN\"%x if x%2==0 else \"%s,ODD\"%x \n",
    "l=[10,23,45,2,4,67,89]\n",
    "for i in l:\n",
    "    print(fun(i))"
   ]
  },
  {
   "cell_type": "code",
   "execution_count": 41,
   "metadata": {},
   "outputs": [
    {
     "name": "stdout",
     "output_type": "stream",
     "text": [
      "<map object at 0x7f719809c320>\n"
     ]
    }
   ],
   "source": [
    "def fun(x):\n",
    "    return \"%s,EVEN\"%x if x%2==0 else \"%s,ODD\"%x \n",
    "l=[10,23,45,2,4,67,89]\n",
    "res=map(fun,l)\n",
    "print(res)\n"
   ]
  },
  {
   "cell_type": "code",
   "execution_count": 42,
   "metadata": {},
   "outputs": [
    {
     "name": "stdout",
     "output_type": "stream",
     "text": [
      "10,EVEN\n",
      "23,ODD\n",
      "45,ODD\n",
      "2,EVEN\n",
      "4,EVEN\n",
      "67,ODD\n",
      "89,ODD\n"
     ]
    }
   ],
   "source": [
    "def fun(x):\n",
    "    return \"%s,EVEN\"%x if x%2==0 else \"%s,ODD\"%x \n",
    "l=[10,23,45,2,4,67,89]\n",
    "res=map(fun,l)\n",
    "for i in res:\n",
    "    print(i)"
   ]
  },
  {
   "cell_type": "code",
   "execution_count": 43,
   "metadata": {},
   "outputs": [
    {
     "name": "stdout",
     "output_type": "stream",
     "text": [
      "10,EVEN\n",
      "23,ODD\n",
      "45,ODD\n",
      "2,EVEN\n",
      "4,EVEN\n",
      "67,ODD\n",
      "89,ODD\n"
     ]
    }
   ],
   "source": [
    "def fun(x):\n",
    "    return \"%s,EVEN\"%x if x%2==0 else \"%s,ODD\"%x \n",
    "l=[10,23,45,2,4,67,89]\n",
    "for i in l:\n",
    "    print(fun(i))"
   ]
  },
  {
   "cell_type": "code",
   "execution_count": 44,
   "metadata": {},
   "outputs": [
    {
     "name": "stdout",
     "output_type": "stream",
     "text": [
      "6\n",
      "8\n",
      "10\n",
      "12\n"
     ]
    }
   ],
   "source": [
    "def fun(x,y):\n",
    "    return x+y\n",
    "l1=[1,2,3,4]\n",
    "l2=[5,6,7,8]\n",
    "res=map(fun,l1,l2)\n",
    "for i in res:\n",
    "    print(i)"
   ]
  },
  {
   "cell_type": "code",
   "execution_count": 45,
   "metadata": {},
   "outputs": [
    {
     "name": "stdout",
     "output_type": "stream",
     "text": [
      "[6, 8, 10, 12]\n"
     ]
    }
   ],
   "source": [
    "def fun(x,y):\n",
    "    return x+y\n",
    "l1=[1,2,3,4]\n",
    "l2=[5,6,7,8]\n",
    "res=map(fun,l1,l2)\n",
    "print(list(res))"
   ]
  },
  {
   "cell_type": "code",
   "execution_count": 46,
   "metadata": {},
   "outputs": [
    {
     "name": "stdout",
     "output_type": "stream",
     "text": [
      "[6, 8, 10, 12]\n"
     ]
    }
   ],
   "source": [
    "def fun(x,y):\n",
    "    return x+y\n",
    "l1=[1,2,3,4]\n",
    "l2=[5,6,7,8]\n",
    "res=map(fun,l1,l2)\n",
    "print(list(res))"
   ]
  },
  {
   "cell_type": "code",
   "execution_count": 48,
   "metadata": {},
   "outputs": [
    {
     "name": "stdout",
     "output_type": "stream",
     "text": [
      "['10,EVEN', '23,ODD', '45,ODD', '2,EVEN', '4,EVEN', '67,ODD', '89,ODD']\n"
     ]
    }
   ],
   "source": [
    "def fun(x):\n",
    "    return \"%s,EVEN\"%x if x%2==0 else \"%s,ODD\"%x \n",
    "l=[10,23,45,2,4,67,89]\n",
    "res=map(fun,l)\n",
    "print(list(res))"
   ]
  },
  {
   "cell_type": "code",
   "execution_count": 49,
   "metadata": {},
   "outputs": [
    {
     "name": "stdout",
     "output_type": "stream",
     "text": [
      "[6, 8, 10, 12]\n"
     ]
    }
   ],
   "source": [
    "'''\n",
    "def fun(x,y):\n",
    "    return x+y\n",
    "'''\n",
    "fun=lambda  x,y:x+y\n",
    "l1=[1,2,3,4]\n",
    "l2=[5,6,7,8]\n",
    "res=map(fun,l1,l2)\n",
    "print(list(res))"
   ]
  },
  {
   "cell_type": "code",
   "execution_count": 50,
   "metadata": {},
   "outputs": [
    {
     "name": "stdout",
     "output_type": "stream",
     "text": [
      "['ODD', 'EVEN', 'ODD', 'EVEN']\n"
     ]
    }
   ],
   "source": [
    "fun=lambda  x: \"EVEN\" if x%2==0 else \"ODD\"\n",
    "l1=[1,2,3,4]\n",
    "res=map(fun,l1)\n",
    "print(list(res))"
   ]
  },
  {
   "cell_type": "code",
   "execution_count": 51,
   "metadata": {},
   "outputs": [
    {
     "name": "stdout",
     "output_type": "stream",
     "text": [
      "10\n",
      "20\n",
      "30\n",
      "40\n"
     ]
    }
   ],
   "source": [
    "l1=[10,20,30,40]\n",
    "l2=[50,60,70,80]\n",
    "for i in l1:\n",
    "    print(i)"
   ]
  },
  {
   "cell_type": "code",
   "execution_count": 52,
   "metadata": {},
   "outputs": [
    {
     "name": "stdout",
     "output_type": "stream",
     "text": [
      "10 50\n",
      "20 60\n",
      "30 70\n",
      "40 80\n"
     ]
    }
   ],
   "source": [
    "l1=[10,20,30,40]\n",
    "l2=[50,60,70,80]\n",
    "index=0\n",
    "for i in l1:\n",
    "    print(i,l2[index])\n",
    "    index=index+1"
   ]
  },
  {
   "cell_type": "code",
   "execution_count": 53,
   "metadata": {},
   "outputs": [
    {
     "name": "stdout",
     "output_type": "stream",
     "text": [
      "60\n",
      "80\n",
      "100\n",
      "120\n"
     ]
    }
   ],
   "source": [
    "l1=[10,20,30,40]\n",
    "l2=[50,60,70,80]\n",
    "index=0\n",
    "for i in l1:\n",
    "    print(i+l2[index])\n",
    "    index=index+1"
   ]
  },
  {
   "cell_type": "code",
   "execution_count": 54,
   "metadata": {},
   "outputs": [
    {
     "name": "stdout",
     "output_type": "stream",
     "text": [
      "[60, 80, 100, 120]\n"
     ]
    }
   ],
   "source": [
    "l1=[10,20,30,40]\n",
    "l2=[50,60,70,80]\n",
    "index=0\n",
    "res=[]\n",
    "for i in l1:\n",
    "    res.append(i+l2[index])\n",
    "    index=index+1\n",
    "print(res)"
   ]
  },
  {
   "cell_type": "code",
   "execution_count": 56,
   "metadata": {},
   "outputs": [
    {
     "name": "stdout",
     "output_type": "stream",
     "text": [
      "(0, 10)\n",
      "(1, 20)\n",
      "(2, 30)\n",
      "(3, 40)\n",
      "[]\n"
     ]
    }
   ],
   "source": [
    "l1=[10,20,30,40]\n",
    "l2=[50,60,70,80]\n",
    "res=[]\n",
    "for i in enumerate(l1):\n",
    "    print(i)\n",
    "    \n",
    "print(res)"
   ]
  },
  {
   "cell_type": "code",
   "execution_count": 57,
   "metadata": {},
   "outputs": [
    {
     "name": "stdout",
     "output_type": "stream",
     "text": [
      "0 10\n",
      "1 20\n",
      "2 30\n",
      "3 40\n",
      "[]\n"
     ]
    }
   ],
   "source": [
    "l1=[10,20,30,40]\n",
    "l2=[50,60,70,80]\n",
    "res=[]\n",
    "for ind,value in enumerate(l1):\n",
    "    print(ind,value)\n",
    "    \n",
    "print(res)"
   ]
  },
  {
   "cell_type": "code",
   "execution_count": 58,
   "metadata": {},
   "outputs": [
    {
     "name": "stdout",
     "output_type": "stream",
     "text": [
      "50 10\n",
      "60 20\n",
      "70 30\n",
      "80 40\n",
      "[]\n"
     ]
    }
   ],
   "source": [
    "l1=[10,20,30,40]\n",
    "l2=[50,60,70,80]\n",
    "res=[]\n",
    "for ind,value in enumerate(l1):\n",
    "    print(l2[ind],value)\n",
    "    \n",
    "print(res)"
   ]
  },
  {
   "cell_type": "code",
   "execution_count": 59,
   "metadata": {},
   "outputs": [
    {
     "name": "stdout",
     "output_type": "stream",
     "text": [
      "60\n",
      "80\n",
      "100\n",
      "120\n",
      "[]\n"
     ]
    }
   ],
   "source": [
    "l1=[10,20,30,40]\n",
    "l2=[50,60,70,80]\n",
    "res=[]\n",
    "for ind,value in enumerate(l1):\n",
    "    print(l2[ind]+value)\n",
    "    \n",
    "print(res)"
   ]
  },
  {
   "cell_type": "code",
   "execution_count": 60,
   "metadata": {},
   "outputs": [
    {
     "name": "stdout",
     "output_type": "stream",
     "text": [
      "[60, 80, 100, 120]\n"
     ]
    }
   ],
   "source": [
    "l1=[10,20,30,40]\n",
    "l2=[50,60,70,80]\n",
    "res=[]\n",
    "for ind,value in enumerate(l1):\n",
    "    res.append(l2[ind]+value)\n",
    "    \n",
    "print(res)"
   ]
  },
  {
   "cell_type": "code",
   "execution_count": 62,
   "metadata": {},
   "outputs": [
    {
     "name": "stdout",
     "output_type": "stream",
     "text": [
      "10 50\n",
      "20 60\n",
      "30 70\n",
      "40 80\n",
      "[]\n"
     ]
    }
   ],
   "source": [
    "l1=[10,20,30,40]\n",
    "l2=[50,60,70,80]\n",
    "res=[]\n",
    "#[(),(),(),()]\n",
    "for i,j in zip(l1,l2):\n",
    "    print(i,j)\n",
    "print(res)"
   ]
  },
  {
   "cell_type": "code",
   "execution_count": 64,
   "metadata": {},
   "outputs": [
    {
     "name": "stdout",
     "output_type": "stream",
     "text": [
      "10 50 90\n",
      "20 60 100\n",
      "30 70 110\n",
      "40 80 120\n",
      "[]\n"
     ]
    }
   ],
   "source": [
    "l1=[10,20,30,40]\n",
    "l2=[50,60,70,80]\n",
    "l3=[90,100,110,120]\n",
    "res=[]\n",
    "#[(),(),(),()]\n",
    "for i,j,k in zip(l1,l2,l3):\n",
    "    print(i,j,k)\n",
    "print(res)"
   ]
  },
  {
   "cell_type": "code",
   "execution_count": 66,
   "metadata": {},
   "outputs": [
    {
     "name": "stdout",
     "output_type": "stream",
     "text": [
      "[150, 180, 210, 240]\n"
     ]
    }
   ],
   "source": [
    "l1=[10,20,30,40]\n",
    "l2=[50,60,70,80]\n",
    "l3=[90,100,110,120]\n",
    "res=[]\n",
    "#[(),(),(),()]\n",
    "for i,j,k in zip(l1,l2,l3):\n",
    "    res.append(i+j+k)\n",
    "print(res)"
   ]
  },
  {
   "cell_type": "code",
   "execution_count": 68,
   "metadata": {},
   "outputs": [
    {
     "name": "stdout",
     "output_type": "stream",
     "text": [
      "[150, 180, 210, 240]\n"
     ]
    }
   ],
   "source": [
    "l1=[10,20,30,40]\n",
    "l2=[50,60,70,80]\n",
    "l3=[90,100,110,120]\n",
    "res=[]\n",
    "#[(),(),(),()]\n",
    "print([i+j+k for i,j,k in zip(l1,l2,l3)])"
   ]
  },
  {
   "cell_type": "code",
   "execution_count": 69,
   "metadata": {},
   "outputs": [
    {
     "name": "stdout",
     "output_type": "stream",
     "text": [
      "[150, 180, 210, 240]\n"
     ]
    }
   ],
   "source": [
    "l1=[10,20,30,40]\n",
    "l2=[50,60,70,80]\n",
    "l3=[90,100,110,120]\n",
    "def fun(x,y,z):\n",
    "    return x+y+z\n",
    "print([fun(i,j,k) for i,j,k in zip(l1,l2,l3)])"
   ]
  },
  {
   "cell_type": "code",
   "execution_count": 70,
   "metadata": {},
   "outputs": [
    {
     "name": "stdout",
     "output_type": "stream",
     "text": [
      "<map object at 0x7f7198173a90>\n"
     ]
    }
   ],
   "source": [
    "l1=[10,20,30,40]\n",
    "l2=[50,60,70,80]\n",
    "l3=[90,100,110,120]\n",
    "def fun(x,y,z):\n",
    "    return x+y+z\n",
    "print(map(fun,l1,l2,l3))"
   ]
  },
  {
   "cell_type": "code",
   "execution_count": 71,
   "metadata": {},
   "outputs": [
    {
     "name": "stdout",
     "output_type": "stream",
     "text": [
      "[150, 180, 210, 240]\n"
     ]
    }
   ],
   "source": [
    "l1=[10,20,30,40]\n",
    "l2=[50,60,70,80]\n",
    "l3=[90,100,110,120]\n",
    "def fun(x,y,z):\n",
    "    return x+y+z\n",
    "print(list(map(fun,l1,l2,l3)))"
   ]
  },
  {
   "cell_type": "code",
   "execution_count": 72,
   "metadata": {},
   "outputs": [
    {
     "name": "stdout",
     "output_type": "stream",
     "text": [
      "[150, 180, 210, 240]\n"
     ]
    }
   ],
   "source": [
    "l1=[10,20,30,40]\n",
    "l2=[50,60,70,80]\n",
    "l3=[90,100,110,120]\n",
    "fun=lambda x,y,z:x+y+z\n",
    "print(list(map(fun,l1,l2,l3)))"
   ]
  },
  {
   "cell_type": "code",
   "execution_count": 73,
   "metadata": {},
   "outputs": [
    {
     "name": "stdout",
     "output_type": "stream",
     "text": [
      "[150, 180, 210, 240]\n"
     ]
    }
   ],
   "source": [
    "l1=[10,20,30,40]\n",
    "l2=[50,60,70,80]\n",
    "l3=[90,100,110,120]\n",
    "print(list(map(lambda x,y,z:x+y+z,l1,l2,l3)))"
   ]
  },
  {
   "cell_type": "code",
   "execution_count": 75,
   "metadata": {},
   "outputs": [
    {
     "name": "stdout",
     "output_type": "stream",
     "text": [
      "['10', '20', '30', '40']\n",
      "[10, 20, 30, 40]\n"
     ]
    }
   ],
   "source": [
    "l=[\"10\",\"20\",\"30\",\"40\"]\n",
    "print(l)\n",
    "print(list(map(int,l)))"
   ]
  },
  {
   "cell_type": "code",
   "execution_count": 76,
   "metadata": {},
   "outputs": [
    {
     "name": "stdout",
     "output_type": "stream",
     "text": [
      "[10, 20, 30, 40]\n"
     ]
    }
   ],
   "source": [
    "l=[\"10\",\"20\",\"30\",\"40\"]\n",
    "res=[]\n",
    "for i in l:\n",
    "    res.append(int(i))\n",
    "print(res)"
   ]
  },
  {
   "cell_type": "code",
   "execution_count": 77,
   "metadata": {},
   "outputs": [
    {
     "name": "stdout",
     "output_type": "stream",
     "text": [
      "[10, 20, 30, 40]\n"
     ]
    }
   ],
   "source": [
    "l=[\"10\",\"20\",\"30\",\"40\"]\n",
    "print(list(map(int,l)))"
   ]
  },
  {
   "cell_type": "code",
   "execution_count": null,
   "metadata": {},
   "outputs": [],
   "source": []
  }
 ],
 "metadata": {
  "kernelspec": {
   "display_name": "Python 3",
   "language": "python",
   "name": "python3"
  },
  "language_info": {
   "codemirror_mode": {
    "name": "ipython",
    "version": 3
   },
   "file_extension": ".py",
   "mimetype": "text/x-python",
   "name": "python",
   "nbconvert_exporter": "python",
   "pygments_lexer": "ipython3",
   "version": "3.7.0"
  }
 },
 "nbformat": 4,
 "nbformat_minor": 2
}
